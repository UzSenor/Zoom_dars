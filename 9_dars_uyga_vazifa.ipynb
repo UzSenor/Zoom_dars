{
 "cells": [
  {
   "cell_type": "code",
   "execution_count": 2,
   "id": "2f686f4b",
   "metadata": {},
   "outputs": [
    {
     "name": "stdout",
     "output_type": "stream",
     "text": [
      "1 2 3 4 5 6 7 8 9 10 11 12 13 14 15 16 17 18 19 20 21 22 23 24 25 26 27 28 29 30 31 32 33 34 35 36 37 38 39 40 41 42 43 44 45 46 47 48 49 50 51 52 53 54 55 56 57 58 59 60 61 62 63 64 65 66 67 68 69 70 71 72 73 74 75 76 77 78 79 80 81 82 83 84 85 86 87 88 89 90 91 92 93 94 95 96 97 98 99 "
     ]
    }
   ],
   "source": [
    "for i in range(1,100,1):\n",
    "    print(i, end=\" \")"
   ]
  },
  {
   "cell_type": "code",
   "execution_count": 10,
   "id": "dccb95d6",
   "metadata": {},
   "outputs": [
    {
     "name": "stdout",
     "output_type": "stream",
     "text": [
      "1 3 5 7 9 11 13 15 17 19 21 23 25 27 29 31 33 35 37 39 41 43 45 47 49 51 53 55 57 59 61 63 65 67 69 71 73 75 77 79 81 83 85 87 89 91 93 95 97 99 "
     ]
    }
   ],
   "source": [
    "for i in range(1,100, 2):\n",
    "    print(i, end=\" \")"
   ]
  },
  {
   "cell_type": "code",
   "execution_count": 17,
   "id": "505977aa",
   "metadata": {},
   "outputs": [
    {
     "name": "stdout",
     "output_type": "stream",
     "text": [
      "N=100\n",
      "3 6 9 12 15 18 21 24 27 30 33 36 39 42 45 48 51 54 57 60 63 66 69 72 75 78 81 84 87 90 93 96 99 "
     ]
    }
   ],
   "source": [
    "n = int(input(\"N=\"))\n",
    "for i in range(3,n+1,3):\n",
    "    print(i, end=\" \")"
   ]
  },
  {
   "cell_type": "code",
   "execution_count": 34,
   "id": "5b11ce76",
   "metadata": {},
   "outputs": [
    {
     "name": "stdout",
     "output_type": "stream",
     "text": [
      "N=10\n",
      "9 7 5 3 1 "
     ]
    }
   ],
   "source": [
    "n = int(input(\"N=\"))\n",
    "for i in range(n,0,-1):\n",
    "    if i%2:\n",
    "        print(i, end=\" \")"
   ]
  },
  {
   "cell_type": "code",
   "execution_count": 36,
   "id": "c5412c7a",
   "metadata": {},
   "outputs": [
    {
     "name": "stdout",
     "output_type": "stream",
     "text": [
      "N=11\n",
      "11 9 7 5 3 1 "
     ]
    }
   ],
   "source": [
    "n = int(input(\"N=\"))\n",
    "if n%2==0:\n",
    "    n-=1\n",
    "for i in range(n,0,-2):\n",
    "    print(i, end=\" \")"
   ]
  },
  {
   "cell_type": "code",
   "execution_count": 50,
   "id": "d43d1bc4",
   "metadata": {},
   "outputs": [
    {
     "name": "stdout",
     "output_type": "stream",
     "text": [
      "N=5\n",
      "15\n"
     ]
    }
   ],
   "source": [
    "n = int(input(\"N=\"))\n",
    "s=0\n",
    "for i in range(1,n+1):\n",
    "    s+=i\n",
    "print(s)"
   ]
  },
  {
   "cell_type": "code",
   "execution_count": 52,
   "id": "d67dca25",
   "metadata": {},
   "outputs": [
    {
     "name": "stdout",
     "output_type": "stream",
     "text": [
      "N=5\n",
      "120\n"
     ]
    }
   ],
   "source": [
    "n = int(input(\"N=\"))\n",
    "s=1\n",
    "for i in range(1,n+1):\n",
    "    s*=i\n",
    "print(s)"
   ]
  },
  {
   "cell_type": "markdown",
   "id": "c5a69065",
   "metadata": {},
   "source": [
    "# Uyga vazifa"
   ]
  },
  {
   "cell_type": "code",
   "execution_count": 61,
   "id": "3008daca",
   "metadata": {},
   "outputs": [
    {
     "name": "stdout",
     "output_type": "stream",
     "text": [
      "N=-3\n",
      "K=2\n",
      "2 2 2 "
     ]
    }
   ],
   "source": [
    "# For1. n va k butun sonlar berilgan (n>0). k sonini n marta chiqaradigan dastur tuzing\n",
    "n = int(input(\"N=\"))\n",
    "k = int(input(\"K=\"))\n",
    "for i in range(abs(n)):\n",
    "    print(k, end=\" \")"
   ]
  },
  {
   "cell_type": "code",
   "execution_count": 293,
   "id": "fd4cadaf",
   "metadata": {},
   "outputs": [
    {
     "name": "stdout",
     "output_type": "stream",
     "text": [
      "N=3\n",
      "K=4\n",
      "4 4 4 "
     ]
    }
   ],
   "source": [
    "# For1. Qo'shimcha. n va k butun sonlar berilgan (n>0). k sonini n marta chiqaradigan dastur tuzing\n",
    "n = int(input(\"N=\"))\n",
    "k = int(input(\"K=\"))\n",
    "if n<=0:\n",
    "    print(\"Xatolik\")\n",
    "for i in range(n):\n",
    "    print(k, end=\" \")"
   ]
  },
  {
   "cell_type": "code",
   "execution_count": 86,
   "id": "2ba015aa",
   "metadata": {},
   "outputs": [
    {
     "name": "stdout",
     "output_type": "stream",
     "text": [
      "A = 3\n",
      "B = 7\n",
      "Elementlar soni: 5\n",
      "3 4 5 6 7 "
     ]
    }
   ],
   "source": [
    "# For2. a va b butun son berilgan (a<b). a va b butun sonlar orasidagi barcha butun sonlarni (a va b\n",
    "# ni ham) chiqaruvchi va chiqarilgan sonlar sonini chiqaruvchi dastur tuzing.\n",
    "a = int(input(\"A = \"))\n",
    "b = int(input(\"B = \"))\n",
    "if a>=b:\n",
    "    print(\"A soni B sonidan katta yoki teng\")\n",
    "else:\n",
    "    print(\"Elementlar soni:\",b-a+1)\n",
    "    for i in range(a, b+1):\n",
    "        print(i, end=\" \")"
   ]
  },
  {
   "cell_type": "code",
   "execution_count": 89,
   "id": "781c69e6",
   "metadata": {},
   "outputs": [
    {
     "name": "stdout",
     "output_type": "stream",
     "text": [
      "A = 1\n",
      "B = 7\n",
      "Elementlar soni: 5\n",
      "6 5 4 3 2 "
     ]
    }
   ],
   "source": [
    "# For3. a va b butun son berilgan (a<b). a va b butun sonlar orasidagi barcha butun sonlarni (a va b\n",
    "# dan tashari) kamayish tartibida chiqaruvchi va chiqarilgan sonlar sonini chiqaruvchi dastur tuzing.\n",
    "a = int(input(\"A = \"))\n",
    "b = int(input(\"B = \"))\n",
    "if a>=b:\n",
    "    print(\"A soni B sonidan katta yoki teng\")\n",
    "else:\n",
    "    print(\"Elementlar soni:\",b-a-1)\n",
    "    for i in range(b-1, a, -1):\n",
    "        print(i, end=\" \")"
   ]
  },
  {
   "cell_type": "code",
   "execution_count": 97,
   "id": "7431649c",
   "metadata": {},
   "outputs": [
    {
     "name": "stdout",
     "output_type": "stream",
     "text": [
      "1 kg konfet narxi:200\n",
      "1 kg =  200 so'm\n",
      "2 kg =  400 so'm\n",
      "3 kg =  600 so'm\n",
      "4 kg =  800 so'm\n",
      "5 kg =  1000 so'm\n",
      "6 kg =  1200 so'm\n",
      "7 kg =  1400 so'm\n",
      "8 kg =  1600 so'm\n",
      "9 kg =  1800 so'm\n",
      "10 kg =  2000 so'm\n"
     ]
    }
   ],
   "source": [
    "# For4. Bir kg konfet berilgan (haqiqiy son). 1-10 kg konfet narxlarini chiqaruvchi dastur tuzing.\n",
    "narx = int(input(\"1 kg konfet narxi:\"))\n",
    "for i in range(1,11):\n",
    "    print(i,\"kg = \",i*narx,\"so'm\")"
   ]
  },
  {
   "cell_type": "code",
   "execution_count": 100,
   "id": "cd5671d2",
   "metadata": {},
   "outputs": [
    {
     "name": "stdout",
     "output_type": "stream",
     "text": [
      "1 kg konfet narxi:100\n",
      "0.1 kg =  10.0 so'm\n",
      "0.2 kg =  20.0 so'm\n",
      "0.3 kg =  30.0 so'm\n",
      "0.4 kg =  40.0 so'm\n",
      "0.5 kg =  50.0 so'm\n",
      "0.6 kg =  60.0 so'm\n",
      "0.7 kg =  70.0 so'm\n",
      "0.8 kg =  80.0 so'm\n",
      "0.9 kg =  90.0 so'm\n",
      "1.0 kg =  100.0 so'm\n"
     ]
    }
   ],
   "source": [
    "# For5. Bir kg konfet berilgan (haqiqiy son). 0.1-1 kg konfet narxlarini chiqaruvchi dastur tuzing.\n",
    "narx = int(input(\"1 kg konfet narxi:\"))\n",
    "for i in range(1,11,1):\n",
    "    print(i/10,\"kg = \",i/10*narx,\"so'm\")"
   ]
  },
  {
   "cell_type": "code",
   "execution_count": 101,
   "id": "981a683f",
   "metadata": {},
   "outputs": [
    {
     "name": "stdout",
     "output_type": "stream",
     "text": [
      "1 kg konfet narxi:100\n",
      "1.2 kg =  120.0 so'm\n",
      "1.4 kg =  140.0 so'm\n",
      "1.6 kg =  160.0 so'm\n",
      "1.8 kg =  180.0 so'm\n",
      "2.0 kg =  200.0 so'm\n"
     ]
    }
   ],
   "source": [
    "# For6. Bir kg konfet berilgan (haqiqiy son). 1.2,1.4-2 kg konfet narxlarini chiqaruvchi dastur tuzing.\n",
    "narx = int(input(\"1 kg konfet narxi:\"))\n",
    "for i in range(12,21,2):\n",
    "    print(i/10,\"kg = \",i/10*narx,\"so'm\")"
   ]
  },
  {
   "cell_type": "code",
   "execution_count": 103,
   "id": "b471a30f",
   "metadata": {},
   "outputs": [
    {
     "name": "stdout",
     "output_type": "stream",
     "text": [
      "A = 2\n",
      "B = 7\n",
      "27\n"
     ]
    }
   ],
   "source": [
    "# For7. a va b butun son berilgan (a<b). a va b butun sonlar orasidagi sonlar yig'indisi topilsin.\n",
    "a = int(input(\"A = \"))\n",
    "b = int(input(\"B = \"))\n",
    "s=0\n",
    "if a>=b:\n",
    "    print(\"A soni B sonidan katta yoki teng\")\n",
    "for i in range(a, b+1):\n",
    "    s+=i\n",
    "print(s)"
   ]
  },
  {
   "cell_type": "code",
   "execution_count": 105,
   "id": "e7cd8428",
   "metadata": {},
   "outputs": [
    {
     "name": "stdout",
     "output_type": "stream",
     "text": [
      "A = 2\n",
      "B = 7\n",
      "5040\n"
     ]
    }
   ],
   "source": [
    "# For8. a va b butun son berilgan (a<b). a va b butun sonlar orasidagi sonlar ko'paytmasi topilsin.\n",
    "a = int(input(\"A = \"))\n",
    "b = int(input(\"B = \"))\n",
    "s=1\n",
    "if a>=b:\n",
    "    print(\"A soni B sonidan katta yoki teng\")\n",
    "for i in range(a, b+1):\n",
    "    s*=i\n",
    "print(s)"
   ]
  },
  {
   "cell_type": "code",
   "execution_count": 107,
   "id": "3707b119",
   "metadata": {},
   "outputs": [
    {
     "name": "stdout",
     "output_type": "stream",
     "text": [
      "A = 2\n",
      "B = 3\n",
      "13\n"
     ]
    }
   ],
   "source": [
    "# For9. a va b butun son berilgan (a<b). a va b butun sonlar orasidagi sonlar kvadratlarining yig'indisi topilsin.\n",
    "a = int(input(\"A = \"))\n",
    "b = int(input(\"B = \"))\n",
    "s=0\n",
    "if a>=b:\n",
    "    print(\"A soni B sonidan katta yoki teng\")\n",
    "for i in range(a, b+1):\n",
    "    s+=i**2\n",
    "print(s)"
   ]
  },
  {
   "cell_type": "code",
   "execution_count": 128,
   "id": "d9c7ef79",
   "metadata": {},
   "outputs": [
    {
     "name": "stdout",
     "output_type": "stream",
     "text": [
      "N = -2\n",
      "N soni manfiy yoki nolga teng\n"
     ]
    }
   ],
   "source": [
    "# For10. n butun son berilgan(n>0). S=1+1/2+1/3...1/n yig'indisi topilsin.\n",
    "n = int(input(\"N = \"))\n",
    "s=0\n",
    "if n<=0:\n",
    "    print(\"N soni manfiy yoki nolga teng\")\n",
    "else:\n",
    "    for i in range(1, n+1):\n",
    "        s+=1/i\n",
    "    print(s)"
   ]
  },
  {
   "cell_type": "code",
   "execution_count": 129,
   "id": "b029911e",
   "metadata": {},
   "outputs": [
    {
     "name": "stdout",
     "output_type": "stream",
     "text": [
      "N = 0\n",
      "N soni manfiy yoki nolga teng\n"
     ]
    }
   ],
   "source": [
    "# For11. n butun son berilgan(n>0). S=n**2+(n+1)**2...(2*n)**2 yig'indisi topilsin.\n",
    "n = int(input(\"N = \"))\n",
    "s=0\n",
    "if n<=0:\n",
    "    print(\"N soni manfiy yoki nolga teng\")\n",
    "else:\n",
    "    for i in range(0, n+1):\n",
    "        s+=(n+i)**2\n",
    "    print(s)"
   ]
  },
  {
   "cell_type": "code",
   "execution_count": 132,
   "id": "6ae89a3f",
   "metadata": {},
   "outputs": [
    {
     "name": "stdout",
     "output_type": "stream",
     "text": [
      "N = 16\n",
      "11113.63153457357\n"
     ]
    }
   ],
   "source": [
    "# For12. n butun son berilgan(n>0). S=1.1*1.2*1.3... n ta ko'paytuvchi topilsin.\n",
    "n = int(input(\"N = \"))\n",
    "s=1\n",
    "if n<=0:\n",
    "    print(\"N soni manfiy yoki nolga teng\")\n",
    "else:\n",
    "    for i in range(1, n+1):\n",
    "        s*=i/10+1\n",
    "    print(s)"
   ]
  },
  {
   "cell_type": "code",
   "execution_count": 150,
   "id": "44e1f8f1",
   "metadata": {},
   "outputs": [
    {
     "name": "stdout",
     "output_type": "stream",
     "text": [
      "N = 4\n",
      "-0.1999999999999993\n"
     ]
    }
   ],
   "source": [
    "# For13. n butun son berilgan(n>0). S=1.1-1.2+1.3... n ta o'zgaruvchi yig'indisi topilsin.\n",
    "n = int(input(\"N = \"))\n",
    "s=0\n",
    "s1=0\n",
    "if n<=0:\n",
    "    print(\"N soni manfiy yoki nolga teng\")\n",
    "else:\n",
    "    for i in range(1, n+1,2):\n",
    "        s+=i/10+1\n",
    "    for j in range(2, n+1,2):\n",
    "        s1+=j/10+1\n",
    "    print(s-s1)"
   ]
  },
  {
   "cell_type": "code",
   "execution_count": 152,
   "id": "3fcd8f7f",
   "metadata": {},
   "outputs": [
    {
     "name": "stdout",
     "output_type": "stream",
     "text": [
      "N = 21\n",
      "121\n"
     ]
    }
   ],
   "source": [
    "# For14. n butun son berilgan(n>0). Sonning kvadratini quyidagi formula orqali toping. n**2=1+3+...(2*n-1)\n",
    "n = int(input(\"N = \"))\n",
    "s=0\n",
    "if n<=0:\n",
    "    print(\"N soni manfiy yoki nolga teng\")\n",
    "else:\n",
    "    for i in range(1, n+1,2):\n",
    "        s+=i\n",
    "    print(s)"
   ]
  },
  {
   "cell_type": "code",
   "execution_count": 289,
   "id": "370b6ec3",
   "metadata": {},
   "outputs": [
    {
     "name": "stdout",
     "output_type": "stream",
     "text": [
      "N=3\n",
      "A=3\n",
      "27\n"
     ]
    }
   ],
   "source": [
    "# For15. n butun son va a haqiqiy son berilgan(n>0). a ning n inchi darajasini aniqlovchi dastur tuzing.\n",
    "n = int(input(\"N=\"))\n",
    "a = int(float(input(\"A=\")))\n",
    "s=1\n",
    "for i in range(1, n+1):\n",
    "    s*=a\n",
    "print(s)"
   ]
  },
  {
   "cell_type": "code",
   "execution_count": 290,
   "id": "46854f60",
   "metadata": {},
   "outputs": [
    {
     "name": "stdout",
     "output_type": "stream",
     "text": [
      "N=3\n",
      "A=3\n",
      "3 9 27 "
     ]
    }
   ],
   "source": [
    "# For16. n butun son va a haqiqiy son berilgan(n>0). Bir sikldan foydalanib a ning 1 dan n gacha darajasini aniqlovchi dastur tuzing.\n",
    "n = int(input(\"N=\"))\n",
    "a = int(float(input(\"A=\")))\n",
    "s=1\n",
    "for i in range(1, n+1):\n",
    "    s*=a\n",
    "    print(s, end=\" \")"
   ]
  },
  {
   "cell_type": "code",
   "execution_count": 292,
   "id": "25c97e42",
   "metadata": {},
   "outputs": [
    {
     "name": "stdout",
     "output_type": "stream",
     "text": [
      "N=3\n",
      "A=2\n",
      "2 4 8 16 \n",
      "Yig'indi: 30\n"
     ]
    }
   ],
   "source": [
    "# For17. n butun son va a haqiqiy son berilgan(n>0). Bir sikldan foydalanib a ning 1 dan n gacha darajasini aniqlovchi va yig'indisini dastur tuzing.\n",
    "n = int(input(\"N=\"))\n",
    "a = int(float(input(\"A=\")))\n",
    "s=1\n",
    "s1=0\n",
    "for i in range(0, n+1):\n",
    "    s*=a\n",
    "    s1+=s\n",
    "    print(s, end=\" \")\n",
    "print(\"\\nYig'indi:\",s1)"
   ]
  },
  {
   "cell_type": "code",
   "execution_count": 237,
   "id": "ddcdadd9",
   "metadata": {},
   "outputs": [
    {
     "name": "stdout",
     "output_type": "stream",
     "text": [
      "N = 4\n",
      "A = 4\n",
      "\n",
      "Yig'indi: 205\n"
     ]
    }
   ],
   "source": [
    "# For18. n butun son va a haqiqiy son berilgan(n>0). S=1-a+a**2-a**3...(-1)**n*a**n bir sikldan foydalanib darajani va yig'indisi topilsin.\n",
    "n = int(input(\"N = \"))\n",
    "a = int(float(input(\"A = \")))\n",
    "s=0\n",
    "if n<=0:\n",
    "    print(\"N soni manfiy yoki nolga teng\")\n",
    "else:\n",
    "    for i in range(1, n+1):\n",
    "        s+=(-a)**i\n",
    "    print(\"\\nYig'indi:\",1+s)"
   ]
  },
  {
   "cell_type": "code",
   "execution_count": null,
   "id": "7f5228da",
   "metadata": {},
   "outputs": [],
   "source": [
    "# For19. n butun son berilgan(n>0). n! ni topuvchi dastur tuzing.\n",
    "n = int(input(\"N=\"))\n",
    "s=1\n",
    "if n<=0:\n",
    "    print(\"Kiritilgan son nolga teng yoki manfiy\")\n",
    "else:\n",
    "    for i in range(1, n+1):\n",
    "        s*=i\n",
    "        print(i, end=\" \")\n",
    "    print(\"\\nN foktarial: \", s)"
   ]
  },
  {
   "cell_type": "code",
   "execution_count": 218,
   "id": "01190dc9",
   "metadata": {},
   "outputs": [
    {
     "name": "stdout",
     "output_type": "stream",
     "text": [
      "N=4\n",
      "1 2 6 24 \n",
      "Yig'indi: 33\n"
     ]
    }
   ],
   "source": [
    "# For20. n butun son berilgan(n>0). bitta for dan foydalanib 1!+2!+...n! topuvchi dastur tuzing.\n",
    "n = int(input(\"N=\"))\n",
    "s=0\n",
    "x=1\n",
    "if n<=0:\n",
    "    print(\"Kiritilgan son nolga teng yoki manfiy\")\n",
    "else:\n",
    "    for i in range(1, n+1):\n",
    "        x*=i\n",
    "        s+=x\n",
    "        print(x, end=\" \")\n",
    "    print(\"\\nYig'indi:\", s)"
   ]
  },
  {
   "cell_type": "code",
   "execution_count": 221,
   "id": "9340ed23",
   "metadata": {},
   "outputs": [
    {
     "name": "stdout",
     "output_type": "stream",
     "text": [
      "N=3\n",
      "1 2 6 \n",
      "Yig'indi: 2.666666666666667\n"
     ]
    }
   ],
   "source": [
    "# For21. n butun son berilgan(n>0). Quyidagi 1+(1/1!)+(1+2!)+...(1/n!) topuvchi dastur tuzing.\n",
    "n = int(input(\"N=\"))\n",
    "s=0\n",
    "x=1\n",
    "for i in range(1, n+1):\n",
    "    x*=i\n",
    "    s+=1/x\n",
    "    print(x, end=\" \")\n",
    "print(\"\\nYig'indi:\", 1+s)"
   ]
  },
  {
   "cell_type": "code",
   "execution_count": 223,
   "id": "0f9bf1ad",
   "metadata": {},
   "outputs": [
    {
     "name": "stdout",
     "output_type": "stream",
     "text": [
      "N=3\n",
      "X=2\n",
      "1 2 6 \n",
      "Yig'indi: 6.333333333333333\n"
     ]
    }
   ],
   "source": [
    "# For22. n butun son va x haqiqiy son berilgan(n>0). Quyidagi 1+x+(x**2)/(2!)...x**n/n! topuvchi dastur tuzing.\n",
    "n = int(input(\"N=\"))\n",
    "x = int(float(input(\"X=\")))\n",
    "s=0\n",
    "a=1\n",
    "if n<=0:\n",
    "    print(\"Kiritilgan son nolga teng yoki manfiy\")\n",
    "else:\n",
    "    for i in range(1, n+1):\n",
    "        a*=i\n",
    "        s+=x**i/a\n",
    "        print(a, end=\" \")\n",
    "    print(\"\\nYig'indi:\", 1+s)"
   ]
  },
  {
   "cell_type": "code",
   "execution_count": 394,
   "id": "cfd3f1ad",
   "metadata": {},
   "outputs": [
    {
     "name": "stdout",
     "output_type": "stream",
     "text": [
      "N=500\n",
      "X=2\n",
      "\n",
      "Yig'indi: 0.9092974268256817\n"
     ]
    }
   ],
   "source": [
    "# For23. n butun son va x haqiqiy son berilgan(n>0). Quyidagi x-(x**3)/(3!)...-1**n*x**(2*n+1)/(2*n+1)! topuvchi dastur tuzing.\n",
    "n = int(input(\"N=\"))\n",
    "x = int(float(input(\"X=\")))\n",
    "s=x\n",
    "a=1\n",
    "ishora=-1\n",
    "for i in range(3, 2*n+1,2):\n",
    "    a*=i*(i-1)\n",
    "    s+=ishora*x**i/a\n",
    "    ishora*=-1\n",
    "print(\"\\nYig'indi:\", s)"
   ]
  },
  {
   "cell_type": "code",
   "execution_count": 406,
   "id": "a9224398",
   "metadata": {},
   "outputs": [
    {
     "name": "stdout",
     "output_type": "stream",
     "text": [
      "N=100\n",
      "X=2\n",
      "Yig'indi: -0.41614683654714246\n"
     ]
    }
   ],
   "source": [
    "# For24. n butun son va x haqiqiy son berilgan(n>0). Quyidagi 1-x**2/2!+x**4/4!...(-1)**n*x**(2*n)/(2*n)! topuvchi dastur tuzing.\n",
    "n = int(input(\"N=\"))\n",
    "x = int(float(input(\"X=\")))\n",
    "s=1\n",
    "a=1\n",
    "ishora=-1\n",
    "for i in range(2, 2*n, 2):\n",
    "    a*=i*(i-1)\n",
    "    s+=ishora*x**i/a\n",
    "    ishora*=-1\n",
    "print(\"Yig'indi:\", s)"
   ]
  },
  {
   "cell_type": "code",
   "execution_count": 335,
   "id": "1a2dab3f",
   "metadata": {},
   "outputs": [
    {
     "name": "stdout",
     "output_type": "stream",
     "text": [
      "N=2\n",
      "X=3\n",
      "Yig'indi: -1.5\n"
     ]
    }
   ],
   "source": [
    "# For25. n butun son va x haqiqiy son berilgan(n>0, |x|>1). Quyidagi x-x**/2+x**3/3...(-1)**n-1*x**n/n topuvchi dastur tuzing.\n",
    "n = int(input(\"N=\"))\n",
    "x = int(float(input(\"X=\")))\n",
    "s=0\n",
    "for i in range(1, n+1):\n",
    "    s+=(-1)**(i-1)*x**i/i\n",
    "print(\"Yig'indi:\", s)"
   ]
  },
  {
   "cell_type": "code",
   "execution_count": 337,
   "id": "2a0bd239",
   "metadata": {},
   "outputs": [
    {
     "name": "stdout",
     "output_type": "stream",
     "text": [
      "N=2\n",
      "X=2\n",
      "Yig'indi: 3.733333333333334\n"
     ]
    }
   ],
   "source": [
    "# For26. n butun son va x haqiqiy son berilgan(n>0, |x|>1). Quyidagi x-x**3/3+x**5/5...(-1)**n*x**(2*n+1)/(2*n+1) topuvchi dastur tuzing.\n",
    "n = int(input(\"N=\"))\n",
    "x = int(float(input(\"X=\")))\n",
    "s=x\n",
    "ishora=-1\n",
    "for i in range(3, 2*n+1,2):\n",
    "    s+=ishora*x**i/i\n",
    "    ishora*=-1\n",
    "print(\"Yig'indi:\", s)"
   ]
  },
  {
   "cell_type": "code",
   "execution_count": 411,
   "id": "baf7c988",
   "metadata": {},
   "outputs": [
    {
     "name": "stdout",
     "output_type": "stream",
     "text": [
      "N=2\n",
      "X=5\n",
      "Yig'indi: 260.2083333333333\n"
     ]
    }
   ],
   "source": [
    "# For27. n butun son va x haqiqiy son berilgan(n>0, |x|>1). Quyidagi x+1*x**3/2*3+1*3*x**5/2*4*5...(2*n-1)*x**(2*n+1)/((2*n)*(2*n+1)) topuvchi dastur tuzing.\n",
    "n = int(input(\"N=\"))\n",
    "x = int(float(input(\"X=\")))\n",
    "s=x\n",
    "tepa = 1\n",
    "past = 1\n",
    "for i in range(1, n+1):\n",
    "    tepa *= 2*i-1\n",
    "    past *= 2*i\n",
    "    s+=(tepa*x**(2*i+1))/(past*(2*i+1))\n",
    "print(\"Yig'indi:\", s)"
   ]
  },
  {
   "cell_type": "code",
   "execution_count": 563,
   "id": "0e80058e",
   "metadata": {},
   "outputs": [
    {
     "name": "stdout",
     "output_type": "stream",
     "text": [
      "N=100\n",
      "X=100\n",
      "Yig'indi: -55635208690487.0\n"
     ]
    }
   ],
   "source": [
    "# For28. n butun son va x haqiqiy son berilgan(n>0, |x|>1). Quyidagi 1+x/2+1*x**2/(2*4)...(2*n-3)*x**n/(2*4*2*n) topuvchi dastur tuzing.\n",
    "n = int(input(\"N=\"))\n",
    "x = int(float(input(\"X=\")))\n",
    "s=1\n",
    "a=1\n",
    "for i in range(1, n+1):\n",
    "    a*=2*i\n",
    "    s+=(-1)**(i+1)*(2*i-3)*x**i/a\n",
    "print(\"Yig'indi:\", s)"
   ]
  },
  {
   "cell_type": "code",
   "execution_count": 414,
   "id": "86c6700c",
   "metadata": {},
   "outputs": [
    {
     "name": "stdout",
     "output_type": "stream",
     "text": [
      "n=4\n",
      "A=2\n",
      "B=5\n",
      "2.75 3.5 4.25 "
     ]
    }
   ],
   "source": [
    "# For29. n butun soni va sonlar o'qida A va B nuqta berilgan. (A,B haqiqiy son). [A,B] kesmani\n",
    "# teng n ta kesmaga bo'ling. [A,B] kesmadan ajratilgan barcha nuqtalarni chiqaring\n",
    "n = int(input(\"n=\"))\n",
    "A = int(input(\"A=\"))\n",
    "B = int(input(\"B=\"))\n",
    "x = abs(B-A)/n\n",
    "for i in range(n-1):\n",
    "    A+=x\n",
    "    print(A, end=\" \")"
   ]
  },
  {
   "cell_type": "code",
   "execution_count": 519,
   "id": "c256a206",
   "metadata": {},
   "outputs": [
    {
     "name": "stdout",
     "output_type": "stream",
     "text": [
      "n=4\n",
      "A=2\n",
      "B=7\n",
      "1.1081951345301084 1.977530117665097 1.5082790774992585 "
     ]
    }
   ],
   "source": [
    "# For30. n butun soni va sonlar o'qida A va B nuqta berilgan. (A,B haqiqiy son). [A,B] kesmani\n",
    "# teng n ta kesmaga bo'ling. [A,B] kesmadan ajratilgan barcha nuqtalar uchun f(x)=1-sin(x)ni hisoblang\n",
    "from math import sin\n",
    "n = int(input(\"n=\"))\n",
    "A = int(input(\"A=\"))\n",
    "B = int(input(\"B=\"))\n",
    "x = abs(B-A)/n\n",
    "for i in np.arange(n-1):\n",
    "    A+=x\n",
    "    f=1-sin(A)\n",
    "    print(f, end=\" \")"
   ]
  },
  {
   "cell_type": "code",
   "execution_count": 415,
   "id": "f333b7be",
   "metadata": {},
   "outputs": [
    {
     "name": "stdout",
     "output_type": "stream",
     "text": [
      "N=5\n",
      "2.5 2.4 2.4166666666666665 2.413793103448276 2.414285714285714 "
     ]
    }
   ],
   "source": [
    "# For31. n butun son berilgan. Quyidagi ketma-ketlikning dastlabki n ta hadini chiqaruvchi dastur\n",
    "# tuzing. A(0)=2 A(k)=2+1/A(k-1) k=1,2,3,4,...\n",
    "n = int(input(\"N=\"))\n",
    "A0=2\n",
    "for k in range(1, n+1):\n",
    "    Ak=2+1/A0\n",
    "    A0=Ak\n",
    "    print(Ak, end=\" \")"
   ]
  },
  {
   "cell_type": "code",
   "execution_count": 424,
   "id": "84219dcd",
   "metadata": {},
   "outputs": [
    {
     "name": "stdout",
     "output_type": "stream",
     "text": [
      "N=3\n",
      "2.0 1.5 0.8333333333333334 "
     ]
    }
   ],
   "source": [
    "# For32. n butun son berilgan. Quyidagi ketma-ketlikning dastlabki n ta hadini chiqaruvchi dastur\n",
    "# tuzing. A(0)=1 A(k)=(A(k-1)+1)/k k=1,2,3,4,...\n",
    "n = int(input(\"N=\"))\n",
    "A0=1\n",
    "for k in range(1, n+1):\n",
    "    Ak=(A0+1)/k\n",
    "    A0=Ak\n",
    "    print(Ak, end=\" \")"
   ]
  },
  {
   "cell_type": "code",
   "execution_count": 432,
   "id": "f6a3f93e",
   "metadata": {},
   "outputs": [
    {
     "name": "stdout",
     "output_type": "stream",
     "text": [
      "N=6\n",
      "2 4 8 16 "
     ]
    }
   ],
   "source": [
    "# For33. n butun son berilgan. Quyidagi ketma-ketlikning dastlabki n ta hadini chiqaruvchi dastur\n",
    "# tuzing. F(1)=1, F(2)=1 F(k)=F(k-2)+F(k-1) k=3,4,...\n",
    "n = int(input(\"N=\"))\n",
    "F1=1\n",
    "F2=1\n",
    "for k in range(3, n+1):\n",
    "    Fk=F1+F2\n",
    "    F1=Fk\n",
    "    F2=Fk\n",
    "    print(Fk, end=\" \")"
   ]
  },
  {
   "cell_type": "code",
   "execution_count": 566,
   "id": "ac7bbf41",
   "metadata": {},
   "outputs": [
    {
     "name": "stdout",
     "output_type": "stream",
     "text": [
      "N=5\n",
      "1.6666666666666667 1.777777777777778 1.7407407407407407 "
     ]
    }
   ],
   "source": [
    "# For34. n butun son berilgan. Quyidagi ketma-ketlikning dastlabki n ta hadini chiqaruvchi dastur\n",
    "# tuzing. A(1)=1 A(2)=2 A(k)=(A(k-2)+2*A(k-1))/3 k=3,4,...\n",
    "n = int(input(\"N=\"))\n",
    "A1=1\n",
    "A2=2\n",
    "for k in range(3, n+1):\n",
    "    Ak=(A1+2*A2)/3\n",
    "    A1=A2\n",
    "    A2=Ak\n",
    "    print(Ak, end=\" \")"
   ]
  },
  {
   "cell_type": "code",
   "execution_count": 565,
   "id": "0bfede36",
   "metadata": {},
   "outputs": [
    {
     "name": "stdout",
     "output_type": "stream",
     "text": [
      "N=8\n",
      "3 2 -1 -5 -10 "
     ]
    }
   ],
   "source": [
    "# For35. n butun son berilgan. Quyidagi ketma-ketlikning dastlabki n ta hadini chiqaruvchi dastur\n",
    "# tuzing. A(1)=1 A(2)=2 A(3)=3 A(k)=A(k-1)+A(k-2)-2*A(k-3) k=4,...\n",
    "n = int(input(\"N=\"))\n",
    "A1=1\n",
    "A2=2\n",
    "A3=3\n",
    "for k in range(4, n+1):\n",
    "    Ak=A3+A2-2*A1\n",
    "    A1=A2\n",
    "    A2=A3\n",
    "    A3=Ak\n",
    "    print(Ak, end=\" \")"
   ]
  },
  {
   "cell_type": "code",
   "execution_count": 443,
   "id": "867bd594",
   "metadata": {},
   "outputs": [
    {
     "name": "stdout",
     "output_type": "stream",
     "text": [
      "N=5\n",
      "K=2\n",
      "55\n"
     ]
    }
   ],
   "source": [
    "# For36. N va K butun sonlar berilgan. Quyidagini hisoblang. 1**K+2**K+...N**K\n",
    "N = int(input(\"N=\"))\n",
    "K = int(input(\"K=\"))\n",
    "S=0\n",
    "for i in range(1,N+1):\n",
    "    S+=i**K\n",
    "print(S)"
   ]
  },
  {
   "cell_type": "code",
   "execution_count": 444,
   "id": "fa3ca99c",
   "metadata": {},
   "outputs": [
    {
     "name": "stdout",
     "output_type": "stream",
     "text": [
      "N=4\n",
      "288\n"
     ]
    }
   ],
   "source": [
    "# For37. n butun sonlar berilgan. Quyidagini hisoblang. 1**1+2**2+...N**n\n",
    "n = int(input(\"N=\"))\n",
    "S=0\n",
    "for i in range(1,n+1):\n",
    "    S+=i**i\n",
    "print(S)"
   ]
  },
  {
   "cell_type": "code",
   "execution_count": 452,
   "id": "91c9a62f",
   "metadata": {},
   "outputs": [
    {
     "name": "stdout",
     "output_type": "stream",
     "text": [
      "N=5\n",
      "65\n"
     ]
    }
   ],
   "source": [
    "# For38. n butun sonlar berilgan. Quyidagini hisoblang. 1**n+2**(n-1)+...N**1\n",
    "n = int(input(\"N=\"))\n",
    "S=0\n",
    "for i in range(1,n+1):\n",
    "    S+=i**(n-i+1)\n",
    "print(S)"
   ]
  },
  {
   "cell_type": "code",
   "execution_count": 553,
   "id": "14ecad40",
   "metadata": {},
   "outputs": [
    {
     "name": "stdout",
     "output_type": "stream",
     "text": [
      "A=3\n",
      "B=7\n",
      "3 3 3 \n",
      "4 4 4 4 \n",
      "5 5 5 5 5 \n",
      "6 6 6 6 6 6 \n",
      "7 7 7 7 7 7 7 \n"
     ]
    }
   ],
   "source": [
    "# For39. A va B butun soni berilgan(A<B). A va B sonlari orasidagi barcha butun sonlarni chiqaruvchi\n",
    "# dastur tuzilsin. Bunda har bir son o'zining qiymaticha chiqarilsin. Yani 3 soni 3 marta chiqarilsin\n",
    "A = int(input(\"A=\"))\n",
    "B = int(input(\"B=\"))\n",
    "for i in range(A,B+1):\n",
    "    for j in range(i):\n",
    "        print(i,end=\" \")\n",
    "    print(\"\")"
   ]
  },
  {
   "cell_type": "code",
   "execution_count": 561,
   "id": "25b9b4f5",
   "metadata": {},
   "outputs": [
    {
     "name": "stdout",
     "output_type": "stream",
     "text": [
      "A=15\n",
      "B=29\n",
      "15 \n",
      "16 16 \n",
      "17 17 17 \n",
      "18 18 18 18 \n",
      "19 19 19 19 19 \n",
      "20 20 20 20 20 20 \n",
      "21 21 21 21 21 21 21 \n",
      "22 22 22 22 22 22 22 22 \n",
      "23 23 23 23 23 23 23 23 23 \n",
      "24 24 24 24 24 24 24 24 24 24 \n",
      "25 25 25 25 25 25 25 25 25 25 25 \n",
      "26 26 26 26 26 26 26 26 26 26 26 26 \n",
      "27 27 27 27 27 27 27 27 27 27 27 27 27 \n",
      "28 28 28 28 28 28 28 28 28 28 28 28 28 28 \n",
      "29 29 29 29 29 29 29 29 29 29 29 29 29 29 29 \n"
     ]
    }
   ],
   "source": [
    "# For40. A va B butun soni berilgan(A<B). A va B sonlari orasidagi barcha butun sonlarni chiqaruvchi\n",
    "# dastur tuzilsin. Bunda A soni 1 marta, A+1 soni 2 marta va h.k.\n",
    "A = int(input(\"A=\"))\n",
    "B = int(input(\"B=\"))\n",
    "for i in range(A,B+1):\n",
    "    for j in range(i-A+1):\n",
    "        print(i,end=\" \")\n",
    "    print(\"\")"
   ]
  },
  {
   "cell_type": "code",
   "execution_count": null,
   "id": "4a82a668",
   "metadata": {},
   "outputs": [],
   "source": []
  }
 ],
 "metadata": {
  "kernelspec": {
   "display_name": "Python 3 (ipykernel)",
   "language": "python",
   "name": "python3"
  },
  "language_info": {
   "codemirror_mode": {
    "name": "ipython",
    "version": 3
   },
   "file_extension": ".py",
   "mimetype": "text/x-python",
   "name": "python",
   "nbconvert_exporter": "python",
   "pygments_lexer": "ipython3",
   "version": "3.9.9"
  }
 },
 "nbformat": 4,
 "nbformat_minor": 5
}
