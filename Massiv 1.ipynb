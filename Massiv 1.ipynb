{
 "cells": [
  {
   "cell_type": "markdown",
   "id": "46de76f2",
   "metadata": {},
   "source": [
    "# Massiv 1"
   ]
  },
  {
   "cell_type": "code",
   "execution_count": 2,
   "id": "88dbafe5",
   "metadata": {},
   "outputs": [
    {
     "name": "stdout",
     "output_type": "stream",
     "text": [
      "N = 10\n",
      "[1, 3, 5, 7, 9]\n"
     ]
    }
   ],
   "source": [
    "# Array1.\n",
    "n = int(input(\"N = \"))\n",
    "a = []\n",
    "for i in range(1,n+1,2):\n",
    "    a.append(i)\n",
    "print(a)"
   ]
  },
  {
   "cell_type": "code",
   "execution_count": 3,
   "id": "c530b577",
   "metadata": {},
   "outputs": [
    {
     "name": "stdout",
     "output_type": "stream",
     "text": [
      "N = 10\n",
      "[1, 2, 4, 8, 16, 32, 64, 128, 256, 512]\n"
     ]
    }
   ],
   "source": [
    "# Array2.\n",
    "n = int(input(\"N = \"))\n",
    "a = []\n",
    "for i in range(n):\n",
    "    a.append(2**i)\n",
    "print(a)"
   ]
  },
  {
   "cell_type": "code",
   "execution_count": 6,
   "id": "45e1d8b3",
   "metadata": {},
   "outputs": [
    {
     "name": "stdout",
     "output_type": "stream",
     "text": [
      "N = 5\n",
      "D = 2\n",
      "A = 4\n",
      "[4, 6, 8, 10, 12]\n"
     ]
    }
   ],
   "source": [
    "# Array3.\n",
    "n = int(input(\"N = \"))\n",
    "d = int(input(\"D = \"))\n",
    "a = int(input(\"A = \"))\n",
    "s = []\n",
    "for i in range(n):\n",
    "    s.append(a)\n",
    "    a = s[i]+d\n",
    "print(s)"
   ]
  },
  {
   "cell_type": "code",
   "execution_count": 8,
   "id": "de3ce8a8",
   "metadata": {},
   "outputs": [
    {
     "name": "stdout",
     "output_type": "stream",
     "text": [
      "N = 5\n",
      "D = 2\n",
      "A = 1\n",
      "[1, 2, 4, 8, 16]\n"
     ]
    }
   ],
   "source": [
    "# Array4.\n",
    "n = int(input(\"N = \"))\n",
    "d = int(input(\"D = \"))\n",
    "a = int(input(\"A = \"))\n",
    "p = []\n",
    "for i in range(n):\n",
    "    p.append(a)\n",
    "    a = p[i]*d\n",
    "print(p)"
   ]
  },
  {
   "cell_type": "code",
   "execution_count": 203,
   "id": "6b33c534",
   "metadata": {},
   "outputs": [
    {
     "name": "stdout",
     "output_type": "stream",
     "text": [
      "n = 10\n",
      "[1, 1, 2, 3, 5, 8, 13, 21, 34, 55]\n"
     ]
    }
   ],
   "source": [
    "# Array5.\n",
    "n = int(input(\"n = \"))\n",
    "f0 = 1\n",
    "f1 = 1\n",
    "s = [f0,f1]\n",
    "for i in range(2,n):\n",
    "    s.append(s[i-2] + s[i-1])    \n",
    "print(s)"
   ]
  },
  {
   "cell_type": "code",
   "execution_count": 206,
   "id": "44368f06",
   "metadata": {},
   "outputs": [
    {
     "name": "stdout",
     "output_type": "stream",
     "text": [
      "N = 10\n",
      "A = 2\n",
      "B = 3\n",
      "[2, 3, 5, 10, 20, 40, 80, 160, 320, 640]\n"
     ]
    }
   ],
   "source": [
    "# Array6.\n",
    "n = int(input(\"N = \"))\n",
    "A = int(input(\"A = \"))\n",
    "B = int(input(\"B = \"))\n",
    "s = [A,B]\n",
    "x = s[0]+s[1]\n",
    "i = 2\n",
    "while n>i:\n",
    "    s.append(x)\n",
    "    x += s[i]\n",
    "    i += 1\n",
    "print(s)"
   ]
  },
  {
   "cell_type": "code",
   "execution_count": 210,
   "id": "bf96d00c",
   "metadata": {},
   "outputs": [
    {
     "name": "stdout",
     "output_type": "stream",
     "text": [
      "N = 5\n",
      "A = 2\n",
      "B = 3\n",
      "[2, 3, 5, 10, 20]\n"
     ]
    }
   ],
   "source": [
    "# Array6.\n",
    "n = int(input(\"N = \"))\n",
    "A = int(input(\"A = \"))\n",
    "B = int(input(\"B = \"))\n",
    "s = [A,B]\n",
    "i = 2\n",
    "while n>i:\n",
    "    s.append(sum(s))\n",
    "    i += 1\n",
    "print(s)"
   ]
  },
  {
   "cell_type": "code",
   "execution_count": 212,
   "id": "a42c53f8",
   "metadata": {},
   "outputs": [
    {
     "name": "stdout",
     "output_type": "stream",
     "text": [
      "N = 5\n",
      "A = 1\n",
      "A = 2\n",
      "A = 3\n",
      "A = 4\n",
      "A = 5\n",
      "[5, 4, 3, 2, 1]\n"
     ]
    }
   ],
   "source": [
    "# Array7.\n",
    "n = int(input(\"N = \"))\n",
    "s = []\n",
    "for i in range(n):\n",
    "    a = int(input(\"A = \"))\n",
    "    s.append(a)\n",
    "s.reverse()\n",
    "print(s)"
   ]
  },
  {
   "cell_type": "code",
   "execution_count": 56,
   "id": "21483880",
   "metadata": {},
   "outputs": [
    {
     "name": "stdout",
     "output_type": "stream",
     "text": [
      "N = 5\n",
      "A = 1\n",
      "A = 2\n",
      "A = 3\n",
      "A = 5\n",
      "A = 7\n",
      "[1, 2, 3, 5, 7]\n",
      "Toq sonlar: [1, 3, 5, 7] \n",
      "Toqlar soni: 4\n"
     ]
    }
   ],
   "source": [
    "# Array8.\n",
    "n = int(input(\"N = \"))\n",
    "s = []\n",
    "toq = []\n",
    "for i in range(n):\n",
    "    a = int(input(\"A = \"))\n",
    "    s.append(a)\n",
    "    if a%2==1:\n",
    "        toq.append(a)\n",
    "print(s)\n",
    "print(\"Toq sonlar:\",toq, \"\\nToqlar soni:\",len(toq))"
   ]
  },
  {
   "cell_type": "code",
   "execution_count": 57,
   "id": "02299571",
   "metadata": {},
   "outputs": [
    {
     "name": "stdout",
     "output_type": "stream",
     "text": [
      "N = 5\n",
      "A = 1\n",
      "A = 2\n",
      "A = 3\n",
      "A = 4\n",
      "A = 6\n",
      "[1, 2, 3, 4, 6]\n",
      "Juft sonlar: [2, 4, 6] \n",
      "Juftlar soni: 3\n"
     ]
    }
   ],
   "source": [
    "# Array9.\n",
    "n = int(input(\"N = \"))\n",
    "s = []\n",
    "juft = []\n",
    "for i in range(n):\n",
    "    a = int(input(\"A = \"))\n",
    "    s.append(a)\n",
    "    if a%2==0:\n",
    "        juft.append(a)\n",
    "print(s)\n",
    "print(\"Juft sonlar:\",juft, \"\\nJuftlar soni:\",len(juft))"
   ]
  },
  {
   "cell_type": "code",
   "execution_count": 58,
   "id": "e30b3b49",
   "metadata": {},
   "outputs": [
    {
     "name": "stdout",
     "output_type": "stream",
     "text": [
      "N = 5\n",
      "A = 1\n",
      "A = 2\n",
      "A = 3\n",
      "A = 5\n",
      "A = 6\n",
      "[1, 2, 3, 5, 6]\n",
      "Juft sonlar: [2, 6] \n",
      "Toq sonlar kamayishda: [5, 3, 1]\n"
     ]
    }
   ],
   "source": [
    "# Array10.\n",
    "n = int(input(\"N = \"))\n",
    "s = []\n",
    "juft = []\n",
    "toq = []\n",
    "for i in range(n):\n",
    "    a = int(input(\"A = \"))\n",
    "    s.append(a)\n",
    "    if a%2==0:\n",
    "        juft.append(a)\n",
    "    else:\n",
    "        toq.append(a)\n",
    "print(s)\n",
    "print(\"Juft sonlar:\",juft, \"\\nToq sonlar kamayishda:\",toq[::-1])"
   ]
  },
  {
   "cell_type": "code",
   "execution_count": 61,
   "id": "a74905d9",
   "metadata": {},
   "outputs": [
    {
     "name": "stdout",
     "output_type": "stream",
     "text": [
      "N = 5\n",
      "K = 2\n",
      "X = 3\n",
      "X = 4\n",
      "X = 7\n",
      "X = 8\n",
      "X = 9\n",
      "2 : 7\n",
      "4 : 9\n"
     ]
    }
   ],
   "source": [
    "# Array11.\n",
    "n = int(input(\"N = \"))\n",
    "k = int(input(\"K = \"))\n",
    "a = k\n",
    "s = []\n",
    "for i in range(n):\n",
    "    x = int(input(\"X = \"))\n",
    "    s.append(x)\n",
    "while a<n:\n",
    "    print(a,\":\",s[a])\n",
    "    a += k"
   ]
  },
  {
   "cell_type": "code",
   "execution_count": 76,
   "id": "52eabb5a",
   "metadata": {},
   "outputs": [
    {
     "name": "stdout",
     "output_type": "stream",
     "text": [
      "N = 5\n",
      "A = 1\n",
      "A = 2\n",
      "A = 3\n",
      "A = 4\n",
      "A = 5\n",
      "[1, 3, 5]\n"
     ]
    }
   ],
   "source": [
    "# Array12.\n",
    "n = int(input(\"N = \"))\n",
    "s = []\n",
    "for i in range(n):\n",
    "    a = int(input(\"A = \"))\n",
    "    s.append(a)\n",
    "print(s[::2])"
   ]
  },
  {
   "cell_type": "code",
   "execution_count": 77,
   "id": "962b6b1c",
   "metadata": {},
   "outputs": [
    {
     "name": "stdout",
     "output_type": "stream",
     "text": [
      "N = 5\n",
      "A = 1\n",
      "A = 2\n",
      "A = 3\n",
      "A = 4\n",
      "A = 5\n",
      "[2, 4]\n"
     ]
    }
   ],
   "source": [
    "# Array13.\n",
    "n = int(input(\"N = \"))\n",
    "s = []\n",
    "for i in range(n):\n",
    "    a = int(input(\"A = \"))\n",
    "    s.append(a)\n",
    "print(s[1::2])"
   ]
  },
  {
   "cell_type": "code",
   "execution_count": 78,
   "id": "6ec7f760",
   "metadata": {},
   "outputs": [
    {
     "name": "stdout",
     "output_type": "stream",
     "text": [
      "N = 5\n",
      "A = 1\n",
      "A = 2\n",
      "A = 3\n",
      "A = 4\n",
      "A = 5\n",
      "[1, 3, 5]\n",
      "[2, 4]\n"
     ]
    }
   ],
   "source": [
    "# Array14.\n",
    "n = int(input(\"N = \"))\n",
    "s = []\n",
    "for i in range(n):\n",
    "    a = int(input(\"A = \"))\n",
    "    s.append(a)\n",
    "print(s[::2])\n",
    "print(s[1::2])"
   ]
  },
  {
   "cell_type": "code",
   "execution_count": 79,
   "id": "8010b1dd",
   "metadata": {},
   "outputs": [
    {
     "name": "stdout",
     "output_type": "stream",
     "text": [
      "N = 5\n",
      "A = 1\n",
      "A = 2\n",
      "A = 3\n",
      "A = 4\n",
      "A = 5\n",
      "[2, 4]\n",
      "[5, 3, 1]\n"
     ]
    }
   ],
   "source": [
    "# Array15.\n",
    "n = int(input(\"N = \"))\n",
    "s = []\n",
    "for i in range(n):\n",
    "    a = int(input(\"A = \"))\n",
    "    s.append(a)\n",
    "print(s[1::2])\n",
    "print(s[::-2])"
   ]
  },
  {
   "cell_type": "code",
   "execution_count": 213,
   "id": "d3fbd50d",
   "metadata": {},
   "outputs": [
    {
     "name": "stdout",
     "output_type": "stream",
     "text": [
      "N = 5\n",
      "A = 1\n",
      "A = 2\n",
      "A = 3\n",
      "A = 4\n",
      "A = 5\n",
      "1 5 2 4 3 "
     ]
    }
   ],
   "source": [
    "# Array16.\n",
    "n = int(input(\"N = \"))\n",
    "s = []\n",
    "for i in range(n):\n",
    "    a = int(input(\"A = \"))\n",
    "    s.append(a)\n",
    "i = 0\n",
    "while i<=n-1:\n",
    "    print(s[i], end=\" \")\n",
    "    i += 1\n",
    "    if i>n-1:\n",
    "        break\n",
    "    print(s[n-1], end=\" \")\n",
    "    n -= 1"
   ]
  },
  {
   "cell_type": "code",
   "execution_count": 8,
   "id": "bb814473",
   "metadata": {},
   "outputs": [
    {
     "name": "stdout",
     "output_type": "stream",
     "text": [
      "N = 7\n",
      "A = 1\n",
      "A = 2\n",
      "A = 3\n",
      "A = 4\n",
      "A = 5\n",
      "A = 6\n",
      "A = 7\n",
      "1 2 7 6 3 4 5 "
     ]
    }
   ],
   "source": [
    "# Array17.\n",
    "n = int(input(\"N = \"))\n",
    "s = []\n",
    "for i in range(n):\n",
    "    a = int(input(\"A = \"))\n",
    "    s.append(a)\n",
    "i = 0\n",
    "while i<=n-1:\n",
    "    print(s[i], end=\" \")\n",
    "    i += 1\n",
    "    if i>n-1:\n",
    "        break\n",
    "    print(s[i], end=\" \")\n",
    "    i += 1\n",
    "    if i>n-1:\n",
    "        break\n",
    "    print(s[n-1], end=\" \")\n",
    "    n -= 1\n",
    "    if i>n-1:\n",
    "        break\n",
    "    print(s[n-1], end=\" \")\n",
    "    n -= 1"
   ]
  },
  {
   "cell_type": "code",
   "execution_count": 12,
   "id": "b4e39fe3",
   "metadata": {},
   "outputs": [
    {
     "name": "stdout",
     "output_type": "stream",
     "text": [
      "N = 10\n",
      "[8, 3, 5, 6, 12, 13, 6, 7, 1, 4]\n",
      "3\n"
     ]
    }
   ],
   "source": [
    "# Array18.\n",
    "from random import randint\n",
    "n = int(input(\"N = \"))\n",
    "s = [randint(1,15) for i in range(n)]\n",
    "p = 0\n",
    "print(s)\n",
    "for j in range(n):\n",
    "    if s[-1]>s[j]:\n",
    "        print(s[j])\n",
    "        p += 1\n",
    "        break\n",
    "if p==0:\n",
    "    print(0)"
   ]
  },
  {
   "cell_type": "code",
   "execution_count": 153,
   "id": "1a87d0e2",
   "metadata": {},
   "outputs": [
    {
     "name": "stdout",
     "output_type": "stream",
     "text": [
      "N = 5\n",
      "A = 1\n",
      "A = 2\n",
      "A = 3\n",
      "A = 4\n",
      "A = 5\n",
      "3\n"
     ]
    }
   ],
   "source": [
    "# Array19.\n",
    "n = int(input(\"N = \"))\n",
    "s = []\n",
    "p = 0\n",
    "for i in range(n):\n",
    "    a = int(input(\"A = \"))\n",
    "    s.append(a)\n",
    "for j in range(n):\n",
    "    x = n-j-1\n",
    "    if s[-1]>s[x]>s[0]:\n",
    "        print(x)\n",
    "        p += 1\n",
    "        break\n",
    "if p==0:\n",
    "    print(0)"
   ]
  },
  {
   "cell_type": "code",
   "execution_count": 151,
   "id": "6269c0d4",
   "metadata": {},
   "outputs": [
    {
     "name": "stdout",
     "output_type": "stream",
     "text": [
      "N = 5\n",
      "K = 1\n",
      "L = 4\n",
      "A = 1\n",
      "A = 2\n",
      "A = 3\n",
      "A = 4\n",
      "A = 5\n",
      "7\n"
     ]
    }
   ],
   "source": [
    "# Array20.\n",
    "n = int(input(\"N = \"))\n",
    "k = int(input(\"K = \"))\n",
    "l = int(input(\"L = \"))\n",
    "s = []\n",
    "p = 0\n",
    "for i in range(n):\n",
    "    a = int(input(\"A = \"))\n",
    "    s.append(a)\n",
    "i = k+1\n",
    "while k<i<l:\n",
    "    p += s[i]\n",
    "    i += 1\n",
    "i = l + 1\n",
    "while l<i<k:\n",
    "    p += s[i]\n",
    "    i += 1\n",
    "print(p)"
   ]
  },
  {
   "cell_type": "code",
   "execution_count": 15,
   "id": "a3918ee3",
   "metadata": {},
   "outputs": [
    {
     "name": "stdout",
     "output_type": "stream",
     "text": [
      "N = 5\n",
      "K = 2\n",
      "L = 4\n",
      "A = 1\n",
      "A = 2\n",
      "A = 3\n",
      "A = 4\n",
      "A = 5\n",
      "6.0\n"
     ]
    }
   ],
   "source": [
    "# Array21.\n",
    "n = int(input(\"N = \"))\n",
    "k = int(input(\"K = \"))\n",
    "l = int(input(\"L = \"))\n",
    "s = []\n",
    "p = 0\n",
    "x = 0\n",
    "for i in range(n):\n",
    "    a = int(input(\"A = \"))\n",
    "    s.append(a)\n",
    "print(sum(s[k:l+1])/abs(k-l))"
   ]
  },
  {
   "cell_type": "code",
   "execution_count": 154,
   "id": "7badbd95",
   "metadata": {},
   "outputs": [
    {
     "name": "stdout",
     "output_type": "stream",
     "text": [
      "N = 5\n",
      "K = 1\n",
      "L = 4\n",
      "A = 1\n",
      "A = 2\n",
      "A = 3\n",
      "A = 4\n",
      "A = 5\n",
      "8\n"
     ]
    }
   ],
   "source": [
    "# Array22.\n",
    "n = int(input(\"N = \"))\n",
    "k = int(input(\"K = \"))\n",
    "l = int(input(\"L = \"))\n",
    "s = []\n",
    "p = 0\n",
    "x = 0\n",
    "for i in range(n):\n",
    "    a = int(input(\"A = \"))\n",
    "    s.append(a)\n",
    "    x += s[i]\n",
    "i = k+1\n",
    "while k<i<l:\n",
    "    p += s[i]\n",
    "    i += 1\n",
    "i = l + 1\n",
    "while l<i<k:\n",
    "    p += s[i]\n",
    "    i += 1\n",
    "print(x-p)"
   ]
  },
  {
   "cell_type": "code",
   "execution_count": 155,
   "id": "838a0899",
   "metadata": {},
   "outputs": [
    {
     "name": "stdout",
     "output_type": "stream",
     "text": [
      "N = 5\n",
      "K = 1\n",
      "L = 4\n",
      "A = 1\n",
      "A = 2\n",
      "A = 3\n",
      "A = 4\n",
      "A = 5\n",
      "2.6666666666666665\n"
     ]
    }
   ],
   "source": [
    "# Array23.\n",
    "n = int(input(\"N = \"))\n",
    "k = int(input(\"K = \"))\n",
    "l = int(input(\"L = \"))\n",
    "s = []\n",
    "p = 0\n",
    "x = 0\n",
    "y = 0\n",
    "for i in range(n):\n",
    "    a = int(input(\"A = \"))\n",
    "    s.append(a)\n",
    "    x += s[i]\n",
    "i = k+1\n",
    "while k<i<l:\n",
    "    p += s[i]\n",
    "    y += 1\n",
    "    i += 1\n",
    "i = l + 1\n",
    "while l<i<k:\n",
    "    p += s[i]\n",
    "    y += 1\n",
    "    i += 1\n",
    "print((x-p)/(n-y))"
   ]
  },
  {
   "cell_type": "code",
   "execution_count": 179,
   "id": "a5f0d30a",
   "metadata": {},
   "outputs": [
    {
     "name": "stdout",
     "output_type": "stream",
     "text": [
      "N = 5\n",
      "A = 2\n",
      "A = 4\n",
      "A = 6\n",
      "A = 8\n",
      "A = 9\n",
      "0\n"
     ]
    }
   ],
   "source": [
    "# Array24.\n",
    "n = int(input(\"N = \"))\n",
    "s = []\n",
    "for i in range(n):\n",
    "    a = int(input(\"A = \"))\n",
    "    s.append(a)\n",
    "for j in range(n):\n",
    "    d = s[1]-s[0]\n",
    "    if d==s[j]-s[j-1]:\n",
    "        d = s[1]-s[0]\n",
    "    else:\n",
    "        d = 0\n",
    "print(d)"
   ]
  },
  {
   "cell_type": "code",
   "execution_count": 181,
   "id": "399c1fc0",
   "metadata": {},
   "outputs": [
    {
     "name": "stdout",
     "output_type": "stream",
     "text": [
      "N = 5\n",
      "A = 2\n",
      "A = 4\n",
      "A = 8\n",
      "A = 16\n",
      "A = 31\n",
      "0\n"
     ]
    }
   ],
   "source": [
    "# Array25.\n",
    "n = int(input(\"N = \"))\n",
    "s = []\n",
    "for i in range(n):\n",
    "    a = int(input(\"A = \"))\n",
    "    s.append(a)\n",
    "for j in range(n):\n",
    "    d = s[1]/s[0]\n",
    "    if d==s[j]/s[j-1]:\n",
    "        d = s[1]/s[0]\n",
    "    else:\n",
    "        d = 0\n",
    "print(d)"
   ]
  },
  {
   "cell_type": "code",
   "execution_count": 253,
   "id": "0fd810b6",
   "metadata": {},
   "outputs": [
    {
     "name": "stdout",
     "output_type": "stream",
     "text": [
      "N = 5\n",
      "A = 1\n",
      "A = 2\n",
      "A = 3\n",
      "A = 4\n",
      "A = 5\n",
      "0\n"
     ]
    }
   ],
   "source": [
    "# Array26.\n",
    "n = int(input(\"N = \"))\n",
    "s = []\n",
    "x = 0\n",
    "for i in range(n):\n",
    "    a = int(input(\"A = \"))\n",
    "    s.append(a)\n",
    "for j in range(n-1):\n",
    "        if (s[j]%2==0) == (s[j+1]%2==0) or (s[j]%2==1) == (s[j+1]%2==1):\n",
    "            x = j + 1\n",
    "            break\n",
    "print(x)"
   ]
  },
  {
   "cell_type": "code",
   "execution_count": 255,
   "id": "32c7f238",
   "metadata": {},
   "outputs": [
    {
     "name": "stdout",
     "output_type": "stream",
     "text": [
      "N = 5\n",
      "A = 1\n",
      "A = -2\n",
      "A = 3\n",
      "A = -4\n",
      "A = 5\n",
      "0\n"
     ]
    }
   ],
   "source": [
    "# Array27.\n",
    "n = int(input(\"N = \"))\n",
    "s = []\n",
    "x = 0\n",
    "for i in range(n):\n",
    "    a = int(input(\"A = \"))\n",
    "    s.append(a)\n",
    "for j in range(n-1):\n",
    "        if (s[j]>0) == (s[j+1]>0) or (s[j]<0) == (s[j+1]<0):\n",
    "            x = j + 1\n",
    "            break\n",
    "print(x)"
   ]
  },
  {
   "cell_type": "code",
   "execution_count": 270,
   "id": "546d05e1",
   "metadata": {},
   "outputs": [
    {
     "name": "stdout",
     "output_type": "stream",
     "text": [
      "N = 5\n",
      "A = 7\n",
      "A = 3\n",
      "A = 6\n",
      "A = 5\n",
      "A = 4\n",
      "[7, 6, 4] 4\n"
     ]
    }
   ],
   "source": [
    "# Array28.\n",
    "n = int(input(\"N = \"))\n",
    "s = []\n",
    "for i in range(n):\n",
    "    a = int(input(\"A = \"))\n",
    "    if i%2==0:\n",
    "        s.append(a)\n",
    "print(s, min(s))"
   ]
  },
  {
   "cell_type": "code",
   "execution_count": 288,
   "id": "b9f51a0f",
   "metadata": {},
   "outputs": [
    {
     "name": "stdout",
     "output_type": "stream",
     "text": [
      "N = 5\n",
      "A = 3\n",
      "A = 42\n",
      "A = 4\n",
      "A = 2\n",
      "A = 4\n",
      "[42, 2] 42\n"
     ]
    }
   ],
   "source": [
    "# Array29.\n",
    "n = int(input(\"N = \"))\n",
    "s = []\n",
    "for i in range(n):\n",
    "    a = int(input(\"A = \"))\n",
    "    if i%2==1:\n",
    "        s.append(a)\n",
    "print(s, max(s))"
   ]
  },
  {
   "cell_type": "code",
   "execution_count": 292,
   "id": "f3d8ed6b",
   "metadata": {},
   "outputs": [
    {
     "name": "stdout",
     "output_type": "stream",
     "text": [
      "N = 5\n",
      "A = 5\n",
      "A = 4\n",
      "A = 2\n",
      "A = 3\n",
      "A = 1\n",
      "[0, 1, 3] 3\n"
     ]
    }
   ],
   "source": [
    "# Array30.\n",
    "n = int(input(\"N = \"))\n",
    "s = []\n",
    "b = []\n",
    "for i in range(n):\n",
    "    a = int(input(\"A = \"))\n",
    "    s.append(a)\n",
    "for j in range(n-1):\n",
    "    if s[j]>s[j+1]:\n",
    "        b.append(j) \n",
    "print(b, len(b))"
   ]
  },
  {
   "cell_type": "code",
   "execution_count": 16,
   "id": "3ba5e087",
   "metadata": {},
   "outputs": [
    {
     "name": "stdout",
     "output_type": "stream",
     "text": [
      "N = 5\n",
      "A = 3\n",
      "A = 4\n",
      "A = 5\n",
      "A = 2\n",
      "A = 1\n",
      "[0, 1, 2] 3\n"
     ]
    }
   ],
   "source": [
    "# Array31.\n",
    "n = int(input(\"N = \"))\n",
    "s = []\n",
    "b = []\n",
    "for i in range(n):\n",
    "    a = int(input(\"A = \"))\n",
    "    s.append(a)\n",
    "for j in range(n):\n",
    "    if s[j]>s[j-1]:\n",
    "        b.append(j)\n",
    "print(b, len(b))"
   ]
  },
  {
   "cell_type": "code",
   "execution_count": 42,
   "id": "dabc6efb",
   "metadata": {},
   "outputs": [
    {
     "name": "stdout",
     "output_type": "stream",
     "text": [
      "N = 5\n",
      "A = 2\n",
      "A = 1\n",
      "A = 3\n",
      "A = 2\n",
      "A = 4\n",
      "1\n"
     ]
    }
   ],
   "source": [
    "# Array32.\n",
    "n = int(input(\"N = \"))\n",
    "s = []\n",
    "for i in range(n):\n",
    "    a = int(input(\"A = \"))\n",
    "    s.append(a)\n",
    "for j in range(1,n-1):\n",
    "    if s[j-1]>s[j]<s[j+1]: \n",
    "        print(j)\n",
    "        break"
   ]
  },
  {
   "cell_type": "code",
   "execution_count": 28,
   "id": "8da1f55b",
   "metadata": {},
   "outputs": [
    {
     "name": "stdout",
     "output_type": "stream",
     "text": [
      "N = 10\n",
      "[7, 5, 6, 7, 3, 7, 3, 6, 7, 4]\n",
      "8\n"
     ]
    }
   ],
   "source": [
    "# Array33\n",
    "from random import randint\n",
    "n = int(input(\"N = \"))\n",
    "s = [randint(1,9) for i in range(n)]\n",
    "print(s)\n",
    "s.reverse()\n",
    "for i in range(1,n-1):\n",
    "    if s[i-1]<s[i]>s[i+1]:\n",
    "        print(n-i-1)\n",
    "        break"
   ]
  },
  {
   "cell_type": "code",
   "execution_count": 43,
   "id": "8f5169ba",
   "metadata": {},
   "outputs": [
    {
     "name": "stdout",
     "output_type": "stream",
     "text": [
      "N = 5\n",
      "A = 2\n",
      "A = 1\n",
      "A = 3\n",
      "A = 2\n",
      "A = 4\n",
      "2\n"
     ]
    }
   ],
   "source": [
    "# Array34.\n",
    "n = int(input(\"N = \"))\n",
    "s = []\n",
    "b = []\n",
    "for i in range(n):\n",
    "    a = int(input(\"A = \"))\n",
    "    s.append(a)\n",
    "for j in range(1,n-1):\n",
    "    if s[j-1]>s[j]<s[j+1]: \n",
    "        b.append(s[j])\n",
    "print(max(b))"
   ]
  },
  {
   "cell_type": "code",
   "execution_count": 44,
   "id": "0f004cb5",
   "metadata": {},
   "outputs": [
    {
     "name": "stdout",
     "output_type": "stream",
     "text": [
      "N = 5\n",
      "A = 1\n",
      "A = 2\n",
      "A = 1\n",
      "A = 4\n",
      "A = 3\n",
      "2\n"
     ]
    }
   ],
   "source": [
    "# Array35.\n",
    "n = int(input(\"N = \"))\n",
    "s = []\n",
    "b = []\n",
    "for i in range(n):\n",
    "    a = int(input(\"A = \"))\n",
    "    s.append(a)\n",
    "for j in range(1,n-1):\n",
    "    if s[j-1]<s[j]>s[j+1]: \n",
    "        b.append(s[j])\n",
    "print(min(b))"
   ]
  },
  {
   "cell_type": "code",
   "execution_count": 59,
   "id": "9fc0d280",
   "metadata": {},
   "outputs": [
    {
     "name": "stdout",
     "output_type": "stream",
     "text": [
      "N = 5\n",
      "[4, 3, 9, 9, 2]\n",
      "0\n"
     ]
    }
   ],
   "source": [
    "# Array36.\n",
    "n = int(input(\"N = \"))\n",
    "s = [randint(1,9) for i in range(n)]\n",
    "print(s)\n",
    "b = []\n",
    "x = 0\n",
    "for j in range(1,n-1):\n",
    "    if s[j-1]<s[j]<s[j+1]: \n",
    "        b.append(s[j])\n",
    "        x += 1\n",
    "    if s[j-1]>s[j]>s[j+1]: \n",
    "        b.append(s[j])\n",
    "        x += 1\n",
    "if x!=0:\n",
    "    print(max(b))\n",
    "else:\n",
    "    print(0)"
   ]
  },
  {
   "cell_type": "code",
   "execution_count": 68,
   "id": "12023108",
   "metadata": {},
   "outputs": [
    {
     "name": "stdout",
     "output_type": "stream",
     "text": [
      "N = 10\n",
      "[1, 9, 1, 6, 7, 2, 6, 4, 8, 2]\n",
      "4\n"
     ]
    }
   ],
   "source": [
    "# Array37\n",
    "from random import randint\n",
    "n = int(input(\"N = \"))\n",
    "s = [randint(1,9) for i in range(n)]\n",
    "print(s)\n",
    "a = 0\n",
    "i = 1\n",
    "while i<len(s)-1:\n",
    "    if s[i]>s[i-1] and s[i]>s[i+1]:\n",
    "        a += 1\n",
    "    i+=1\n",
    "if s[-2]<s[-1]:\n",
    "    a += 1\n",
    "print(a)"
   ]
  },
  {
   "cell_type": "code",
   "execution_count": 69,
   "id": "1a7a0040",
   "metadata": {},
   "outputs": [
    {
     "data": {
      "text/plain": [
       "False"
      ]
     },
     "execution_count": 69,
     "metadata": {},
     "output_type": "execute_result"
    }
   ],
   "source": [
    "s[i]>s[i-1] and s[i]>s[i+1]\n",
    "s[i-1]<s[i]>s[i+1]"
   ]
  },
  {
   "cell_type": "code",
   "execution_count": 70,
   "id": "153fce11",
   "metadata": {},
   "outputs": [
    {
     "name": "stdout",
     "output_type": "stream",
     "text": [
      "N = 10\n",
      "[5, 8, 4, 6, 3, 5, 8, 6, 7, 3]\n",
      "4\n"
     ]
    }
   ],
   "source": [
    "# Array38\n",
    "from random import randint\n",
    "n = int(input(\"N = \"))\n",
    "s = [randint(1,9) for i in range(n)]\n",
    "print(s)\n",
    "a = 0\n",
    "i = 1\n",
    "while i<len(s)-1:\n",
    "    if s[i]<s[i-1] and s[i]<s[i+1]:\n",
    "        a += 1\n",
    "    i+=1\n",
    "if s[-2]>s[-1]:\n",
    "    a += 1\n",
    "print(a)"
   ]
  },
  {
   "cell_type": "code",
   "execution_count": 75,
   "id": "c0c560c7",
   "metadata": {},
   "outputs": [
    {
     "name": "stdout",
     "output_type": "stream",
     "text": [
      "N = 10\n",
      "[1, 2, 8, 6, 7, 3, 5, 5, 3, 7]\n",
      "6\n"
     ]
    }
   ],
   "source": [
    "# Array39\n",
    "from random import randint\n",
    "n = int(input(\"N = \"))\n",
    "s = [randint(1,9) for i in range(n)]\n",
    "print(s)\n",
    "a = 0\n",
    "i = 1\n",
    "while i<len(s)-1:\n",
    "    if s[i]<s[i-1] and s[i]<s[i+1]:\n",
    "        a += 1\n",
    "    elif s[i]>s[i-1] and s[i]>s[i+1]:\n",
    "        a += 1\n",
    "    i+=1\n",
    "if s[-2]>s[-1] or s[-2]<s[-1]:\n",
    "    a += 1\n",
    "print(a)"
   ]
  },
  {
   "cell_type": "code",
   "execution_count": 181,
   "id": "835208f0",
   "metadata": {},
   "outputs": [
    {
     "name": "stdout",
     "output_type": "stream",
     "text": [
      "N = 10\n",
      "R = 6\n",
      "[1, 5, 3, 8, 7, 5, 7, 8, 6, 7]\n",
      "5\n"
     ]
    }
   ],
   "source": [
    "# Array40\n",
    "from random import randint\n",
    "n = int(input(\"N = \"))\n",
    "r = int(input(\"R = \"))\n",
    "s = [randint(1,9) for i in range(n)]\n",
    "print(s)\n",
    "mini = abs(s[0]-r)\n",
    "i = 0\n",
    "while i<len(s):\n",
    "    if abs(s[i]-r)<mini:\n",
    "        mini = abs(s[i]-r)\n",
    "        a = s[i]\n",
    "    i += 1\n",
    "print(a)"
   ]
  },
  {
   "cell_type": "code",
   "execution_count": 185,
   "id": "a1a3ff11",
   "metadata": {},
   "outputs": [
    {
     "name": "stdout",
     "output_type": "stream",
     "text": [
      "N = 10\n",
      "[3, 1, 8, 6, 6, 9, 1, 5, 7, 1]\n",
      "6 9\n"
     ]
    }
   ],
   "source": [
    "# Array41\n",
    "from random import randint\n",
    "n = int(input(\"N = \"))\n",
    "s = [randint(1,9) for i in range(n)]\n",
    "print(s)\n",
    "maxi = s[0]+s[1]\n",
    "i = 0\n",
    "while i<len(s)-1:\n",
    "    if s[i]+s[i+1]>maxi:\n",
    "        maxi = s[i]+s[i+1]\n",
    "        a = s[i]\n",
    "        b = s[i+1]\n",
    "    i += 1\n",
    "print(a,b)"
   ]
  },
  {
   "cell_type": "code",
   "execution_count": 187,
   "id": "1c32f184",
   "metadata": {},
   "outputs": [
    {
     "name": "stdout",
     "output_type": "stream",
     "text": [
      "N = 10\n",
      "R = 5\n",
      "[9, 5, 6, 1, 4, 1, 6, 2, 4, 7]\n",
      "1 4\n"
     ]
    }
   ],
   "source": [
    "# Array42\n",
    "from random import randint\n",
    "n = int(input(\"N = \"))\n",
    "r = int(input(\"R = \"))\n",
    "s = [randint(1,9) for i in range(n)]\n",
    "print(s)\n",
    "mini = abs(s[0]+s[1]-r)\n",
    "i = 0\n",
    "while i<len(s)-1:\n",
    "    if abs(s[i]+s[i+1]-r)<mini:\n",
    "        mini = abs(s[i]+s[i+1]-r)\n",
    "        a = s[i]\n",
    "        b = s[i+1]\n",
    "    i += 1\n",
    "print(a,b)"
   ]
  },
  {
   "cell_type": "code",
   "execution_count": 113,
   "id": "addcbca4",
   "metadata": {},
   "outputs": [
    {
     "name": "stdout",
     "output_type": "stream",
     "text": [
      "N = 10\n",
      "[1, 3, 3, 3, 4, 5, 7, 7, 8, 9]\n",
      "7\n"
     ]
    }
   ],
   "source": [
    "# Array43\n",
    "from random import randint\n",
    "n = int(input(\"N = \"))\n",
    "s = [randint(1,9) for i in range(n)]\n",
    "s.sort()\n",
    "print(s)\n",
    "x = 1\n",
    "\n",
    "for i in range(1,n):\n",
    "    if s[i]!=s[i-1]:\n",
    "        x += 1\n",
    "print(x)"
   ]
  },
  {
   "cell_type": "code",
   "execution_count": 190,
   "id": "8b70a69c",
   "metadata": {},
   "outputs": [
    {
     "name": "stdout",
     "output_type": "stream",
     "text": [
      "N = 10\n",
      "[8, 6, 3, 4, 1, 8, 2, 8, 8, 6]\n",
      "0 5\n",
      "0 7\n",
      "0 8\n"
     ]
    }
   ],
   "source": [
    "# Array44\n",
    "from random import randint\n",
    "n = int(input(\"N = \"))\n",
    "s = [randint(1,9) for i in range(n)]\n",
    "print(s)\n",
    "i = 1\n",
    "x = 0\n",
    "while x<len(s):\n",
    "    while i<len(s):\n",
    "        if s[x]==s[i]:\n",
    "            print(x,i)\n",
    "        i += 1\n",
    "    x += 1"
   ]
  },
  {
   "cell_type": "code",
   "execution_count": 197,
   "id": "fd469377",
   "metadata": {},
   "outputs": [
    {
     "name": "stdout",
     "output_type": "stream",
     "text": [
      "N = 10\n",
      "[5, 2, 1, 3, 6, 5, 5, 4, 8, 6]\n",
      "5 6\n"
     ]
    }
   ],
   "source": [
    "# Array45\n",
    "from random import randint\n",
    "n = int(input(\"N = \"))\n",
    "s = [randint(1,9) for i in range(n)]\n",
    "print(s)\n",
    "i = 1\n",
    "mini = abs(s[0]-s[1])\n",
    "while i<len(s)-1:\n",
    "    \n",
    "    if mini>abs(s[i-1]-s[i]):\n",
    "        mini = abs(s[i-1]-s[i])\n",
    "        idx = i-1\n",
    "        idi = i\n",
    "    i += 1\n",
    "print(idx, idi)"
   ]
  },
  {
   "cell_type": "code",
   "execution_count": 218,
   "id": "f0f5bbf6",
   "metadata": {},
   "outputs": [
    {
     "name": "stdout",
     "output_type": "stream",
     "text": [
      "N = 10\n",
      "R = 7\n",
      "[4, 1, 6, 7, 5, 5, 4, 1, 9, 8]\n",
      "4 4\n"
     ]
    }
   ],
   "source": [
    "# Array46\n",
    "from random import randint\n",
    "n = int(input(\"N = \"))\n",
    "r = int(input(\"R = \"))\n",
    "s = [randint(1,9) for i in range(n)]\n",
    "print(s)\n",
    "mini = abs(s[0]+s[1]-r)\n",
    "i = 1\n",
    "x = 0\n",
    "while x<len(s)-1:\n",
    "    while x+i<len(s):\n",
    "        if abs(s[x]+s[i]-r)<=mini:\n",
    "            mini = abs(s[x]+s[i]-r)\n",
    "            a = s[x]\n",
    "            b = s[i]\n",
    "        i += 1\n",
    "    x += 1\n",
    "print(a,b)"
   ]
  },
  {
   "cell_type": "code",
   "execution_count": 413,
   "id": "e0764972",
   "metadata": {},
   "outputs": [
    {
     "name": "stdout",
     "output_type": "stream",
     "text": [
      "N = 10\n",
      "[1, 2, 2, 8, 3, 9, 7, 2, 6, 8]\n",
      "[1, 2, 8, 3, 9, 7, 6]\n"
     ]
    }
   ],
   "source": [
    "# Array47\n",
    "from random import randint\n",
    "n = int(input(\"N = \"))\n",
    "s = [randint(1,9) for i in range(n)]\n",
    "a = []\n",
    "print(s)\n",
    "for i in s:\n",
    "    if i not in a:\n",
    "        a.append(i)\n",
    "print(a)"
   ]
  },
  {
   "cell_type": "code",
   "execution_count": 239,
   "id": "d21b31dc",
   "metadata": {},
   "outputs": [
    {
     "name": "stdout",
     "output_type": "stream",
     "text": [
      "N = 10\n",
      "[7, 3, 4, 4, 6, 6, 6, 6, 4, 7]\n",
      "4\n"
     ]
    }
   ],
   "source": [
    "# Array48\n",
    "from random import randint\n",
    "n = int(input(\"N = \"))\n",
    "s = [randint(1,9) for i in range(n)]\n",
    "print(s)\n",
    "maxi = s.count(s[0])\n",
    "i = 1\n",
    "while i<len(s):\n",
    "    if maxi<s.count(s[i]):\n",
    "        maxi = s.count(s[i])\n",
    "    i += 1\n",
    "print(maxi)"
   ]
  },
  {
   "cell_type": "code",
   "execution_count": 157,
   "id": "41b96d06",
   "metadata": {},
   "outputs": [
    {
     "name": "stdout",
     "output_type": "stream",
     "text": [
      "N = 10\n",
      "[10, 13, 8, -2, 19, 10, 13, 5, 10, 3]\n",
      "1\n"
     ]
    }
   ],
   "source": [
    "# Array49\n",
    "from random import randint\n",
    "n = int(input(\"N = \"))\n",
    "s = [randint(-10,20) for i in range(n)]\n",
    "print(s)\n",
    "i = 0\n",
    "a = 0\n",
    "while i<n:\n",
    "    if 1>s[i] or s[i]>n:\n",
    "        a = i\n",
    "        break\n",
    "    i += 1\n",
    "if a==0:\n",
    "    print(0)\n",
    "else:\n",
    "    print(a)"
   ]
  },
  {
   "cell_type": "code",
   "execution_count": 243,
   "id": "7c0da899",
   "metadata": {},
   "outputs": [
    {
     "name": "stdout",
     "output_type": "stream",
     "text": [
      "N = 10\n",
      "[5, 7, 4, 4, 1, 4, 7, 4, 5, 7]\n",
      "3\n"
     ]
    }
   ],
   "source": [
    "# Array50\n",
    "from random import randint\n",
    "n = int(input(\"N = \"))\n",
    "a = [randint(1,9) for i in range(n)]\n",
    "print(a)\n",
    "i = 1\n",
    "s = 0\n",
    "while i<len(a):\n",
    "    if a[i]<a[i-1]:\n",
    "        s += 1\n",
    "    i += 1\n",
    "print(s)"
   ]
  },
  {
   "cell_type": "code",
   "execution_count": 159,
   "id": "dd55bdb1",
   "metadata": {},
   "outputs": [
    {
     "name": "stdout",
     "output_type": "stream",
     "text": [
      "N = 10\n",
      "[2, 1, 1, 5, 3, 8, 4, 6, 10, 9]\n",
      "[4, 5, 4, 9, 1, 6, 8, 4, 2, 8]\n",
      "[4, 5, 4, 9, 1, 6, 8, 4, 2, 8]\n",
      "[2, 1, 1, 5, 3, 8, 4, 6, 10, 9]\n"
     ]
    }
   ],
   "source": [
    "# Array51\n",
    "from random import randint\n",
    "n = int(input(\"N = \"))\n",
    "s = [randint(1,10) for i in range(n)]\n",
    "p = [randint(1,10) for i in range(n)]\n",
    "print(s)\n",
    "print(p)\n",
    "s, p = p, s\n",
    "print(s)\n",
    "print(p)"
   ]
  },
  {
   "cell_type": "code",
   "execution_count": 244,
   "id": "4009b6a8",
   "metadata": {},
   "outputs": [
    {
     "name": "stdout",
     "output_type": "stream",
     "text": [
      "N = 10\n",
      "[7, 1, 4, 1, 9, 7, 7, 10, 8, 7]\n",
      "[3.5, 2, 8, 2, 4.5, 3.5, 3.5, 5.0, 4.0, 3.5]\n"
     ]
    }
   ],
   "source": [
    "# Array52\n",
    "from random import randint\n",
    "n = int(input(\"N = \"))\n",
    "a = [randint(1,10) for i in range(n)]\n",
    "b = []\n",
    "print(a)\n",
    "i = 0\n",
    "while i<len(a):\n",
    "    if a[i]<5:\n",
    "        b.append(2*a[i])\n",
    "    else:\n",
    "        b.append(a[i]/2)\n",
    "    i+=1\n",
    "print(b)"
   ]
  },
  {
   "cell_type": "code",
   "execution_count": 247,
   "id": "ac962e66",
   "metadata": {},
   "outputs": [
    {
     "name": "stdout",
     "output_type": "stream",
     "text": [
      "N = 10\n",
      "[6, 2, 3, 3, 10, 2, 10, 5, 5, 10]\n",
      "[1, 7, 4, 10, 5, 3, 7, 6, 4, 10]\n",
      "[6, 7, 4, 10, 10, 3, 10, 6, 5, 10]\n"
     ]
    }
   ],
   "source": [
    "# Array53\n",
    "from random import randint\n",
    "n = int(input(\"N = \"))\n",
    "a = [randint(1,10) for i in range(n)]\n",
    "b = [randint(1,10) for i in range(n)]\n",
    "c = []\n",
    "print(a)\n",
    "print(b)\n",
    "i = 0\n",
    "while i<len(a):\n",
    "    if a[i]<b[i]:\n",
    "        c.append(b[i])\n",
    "    else:\n",
    "        c.append(a[i])\n",
    "    i+=1\n",
    "print(c)"
   ]
  },
  {
   "cell_type": "code",
   "execution_count": 253,
   "id": "55df387c",
   "metadata": {},
   "outputs": [
    {
     "name": "stdout",
     "output_type": "stream",
     "text": [
      "N = 10\n",
      "[7, 8, 6, 7, 6, 8, 4, 4, 10, 2]\n",
      "8 [8, 6, 6, 8, 4, 4, 10, 2]\n"
     ]
    }
   ],
   "source": [
    "# Array54\n",
    "from random import randint\n",
    "n = int(input(\"N = \"))\n",
    "a = [randint(1,10) for i in range(n)]\n",
    "b = []\n",
    "print(a)\n",
    "\n",
    "i = 0\n",
    "while i<len(a):\n",
    "    if a[i]%2==0:\n",
    "        b.append(a[i])\n",
    "    i+=1\n",
    "\n",
    "print(len(b), b)"
   ]
  },
  {
   "cell_type": "code",
   "execution_count": 255,
   "id": "8d35ba1e",
   "metadata": {},
   "outputs": [
    {
     "name": "stdout",
     "output_type": "stream",
     "text": [
      "N = 10\n",
      "[4, 3, 9, 2, 2, 3, 3, 2, 9, 4]\n",
      "5 [3, 2, 3, 2, 4]\n"
     ]
    }
   ],
   "source": [
    "# Array55\n",
    "from random import randint\n",
    "n = int(input(\"N = \"))\n",
    "a = [randint(1,10) for i in range(n)]\n",
    "b = a[1::2]\n",
    "print(a)\n",
    "print(len(b), b)"
   ]
  },
  {
   "cell_type": "code",
   "execution_count": 256,
   "id": "47fbb874",
   "metadata": {},
   "outputs": [
    {
     "name": "stdout",
     "output_type": "stream",
     "text": [
      "N = 10\n",
      "[10, 8, 8, 9, 7, 4, 4, 4, 7, 2]\n",
      "3 [9, 4, 2]\n"
     ]
    }
   ],
   "source": [
    "# Array56\n",
    "from random import randint\n",
    "n = int(input(\"N = \"))\n",
    "a = [randint(1,10) for i in range(n)]\n",
    "b = a[3::3]\n",
    "print(a)\n",
    "print(len(b), b)"
   ]
  },
  {
   "cell_type": "code",
   "execution_count": 162,
   "id": "7bed9f20",
   "metadata": {},
   "outputs": [
    {
     "name": "stdout",
     "output_type": "stream",
     "text": [
      "N = 10\n",
      "[8, 8, 3, 3, 7, 4, 1, 8, 4, 7]\n",
      "[8, 3, 7, 1, 4, 8, 3, 4, 8, 7]\n"
     ]
    }
   ],
   "source": [
    "# Array57 1-usul\n",
    "from random import randint\n",
    "n = int(input(\"N = \"))\n",
    "s = [randint(1,10) for i in range(n)]\n",
    "p = []\n",
    "print(s)\n",
    "for i in range(0,n,2):\n",
    "    p.append(s[i])\n",
    "for j in range(1,n+1,2):\n",
    "    p.append(s[j])\n",
    "print(p)"
   ]
  },
  {
   "cell_type": "code",
   "execution_count": 262,
   "id": "a6dd3a5a",
   "metadata": {},
   "outputs": [
    {
     "name": "stdout",
     "output_type": "stream",
     "text": [
      "N = 10\n",
      "[8, 10, 8, 4, 9, 6, 5, 9, 1, 3]\n",
      "[8, 8, 9, 5, 1, 10, 4, 6, 9, 3]\n"
     ]
    }
   ],
   "source": [
    "# Array57 2-usul\n",
    "from random import randint\n",
    "n = int(input(\"N = \"))\n",
    "a = [randint(1,10) for i in range(n)]\n",
    "print(a)\n",
    "b = a[::2] + a[1::2]\n",
    "print(b)"
   ]
  },
  {
   "cell_type": "code",
   "execution_count": 298,
   "id": "3300cb98",
   "metadata": {},
   "outputs": [
    {
     "name": "stdout",
     "output_type": "stream",
     "text": [
      "N = 10\n",
      "[10, 3, 5, 5, 2, 9, 4, 2, 10, 8]\n",
      "[10, 13, 18, 23, 25, 34, 38, 40, 50]\n"
     ]
    }
   ],
   "source": [
    "# Array58\n",
    "from random import randint\n",
    "n = int(input(\"N = \"))\n",
    "a = [randint(1,10) for i in range(n)]\n",
    "print(a)\n",
    "b = []\n",
    "for i in range(1,n):\n",
    "    b.append(sum(a[:i]))\n",
    "print(b)"
   ]
  },
  {
   "cell_type": "code",
   "execution_count": 299,
   "id": "8c2696ac",
   "metadata": {},
   "outputs": [
    {
     "name": "stdout",
     "output_type": "stream",
     "text": [
      "N = 10\n",
      "[6, 2, 4, 8, 9, 4, 1, 9, 4, 1]\n",
      "[6.0, 4.0, 4.0, 5.0, 5.8, 5.5, 4.857142857142857, 5.375, 5.222222222222222]\n"
     ]
    }
   ],
   "source": [
    "# Array59\n",
    "from random import randint\n",
    "n = int(input(\"N = \"))\n",
    "a = [randint(1,10) for i in range(n)]\n",
    "print(a)\n",
    "b = []\n",
    "\n",
    "for i in range(1,n):    \n",
    "    b.append(sum(a[:i])/i)\n",
    "print(b)"
   ]
  },
  {
   "cell_type": "code",
   "execution_count": 287,
   "id": "86b39ace",
   "metadata": {},
   "outputs": [
    {
     "name": "stdout",
     "output_type": "stream",
     "text": [
      "N = 10\n",
      "[9, 1, 1, 9, 8, 2, 5, 4, 4, 10]\n",
      "[53, 44, 43, 42, 33, 25, 23, 18, 14, 10]\n"
     ]
    }
   ],
   "source": [
    "# Array60\n",
    "from random import randint\n",
    "n = int(input(\"N = \"))\n",
    "a = [randint(1,10) for i in range(n)]\n",
    "print(a)\n",
    "b = []\n",
    "for i in range(n):\n",
    "    b.append(sum(a[i:]))\n",
    "print(b)"
   ]
  },
  {
   "cell_type": "code",
   "execution_count": 295,
   "id": "d118723e",
   "metadata": {},
   "outputs": [
    {
     "name": "stdout",
     "output_type": "stream",
     "text": [
      "N = 10\n",
      "[9, 5, 2, 2, 4, 2, 9, 3, 1, 5]\n",
      "[9.0, 7.0, 5.333333333333333, 4.5, 4.4, 4.0, 4.714285714285714, 4.5, 4.111111111111111]\n"
     ]
    }
   ],
   "source": [
    "# Array61\n",
    "from random import randint\n",
    "n = int(input(\"N = \"))\n",
    "a = [randint(1,10) for i in range(n)]\n",
    "print(a)\n",
    "b = []\n",
    "for i in range(1,n):\n",
    "    b.append(sum(a[:i])/len(a[:i]))\n",
    "print(b)"
   ]
  },
  {
   "cell_type": "code",
   "execution_count": 302,
   "id": "bee4da17",
   "metadata": {},
   "outputs": [
    {
     "name": "stdout",
     "output_type": "stream",
     "text": [
      "N = 10\n",
      "[-2, 6, -3, 8, -5, 4, 6, 5, 8, -6]\n",
      "6 [6, 8, 4, 6, 5, 8]\n",
      "4 [-2, -3, -5, -6]\n"
     ]
    }
   ],
   "source": [
    "# Array62\n",
    "from random import randint\n",
    "n = int(input(\"N = \"))\n",
    "a = [randint(-9,9) for i in range(n)]\n",
    "print(a)\n",
    "b = []\n",
    "c = []\n",
    "for i in range(n):\n",
    "    if a[i]>0:\n",
    "        b.append(a[i])\n",
    "    else:\n",
    "        c.append(a[i])\n",
    "print(len(b), b)\n",
    "print(len(c), c)"
   ]
  },
  {
   "cell_type": "code",
   "execution_count": 335,
   "id": "856c67e8",
   "metadata": {},
   "outputs": [
    {
     "name": "stdout",
     "output_type": "stream",
     "text": [
      "[3, 4, 4, 6, 6]\n",
      "[0, 3, 4, 5, 6]\n",
      "[0, 3, 3, 4, 4, 4, 5, 6, 6, 6]\n"
     ]
    }
   ],
   "source": [
    "# Array63\n",
    "from random import randint\n",
    "a = [randint(0,10) for i in range(5)]\n",
    "b = [randint(0,10) for i in range(5)]\n",
    "a.sort()\n",
    "b.sort()\n",
    "print(a)\n",
    "print(b)\n",
    "c = []\n",
    "i = 0\n",
    "ida = 0\n",
    "idb = 0\n",
    "while i<10 and ida<5 and idb<5:\n",
    "    if a[ida] == b[idb] :\n",
    "        c.append(a[ida])\n",
    "        c.append(b[idb])\n",
    "        ida += 1\n",
    "        idb += 1\n",
    "        i += 2\n",
    "    elif a[ida] < b[idb] :\n",
    "        c.append(a[ida])\n",
    "        ida += 1\n",
    "        i += 1\n",
    "    else:\n",
    "        c.append(b[idb])\n",
    "        idb += 1\n",
    "        i += 1\n",
    "if ida == N :\n",
    "    while idb < N :\n",
    "        c.append(b[idb])\n",
    "        idb += 1\n",
    "if idb == N :\n",
    "    while ida < N :\n",
    "        c.append(a[ida])\n",
    "        ida += 1\n",
    "print(c)"
   ]
  },
  {
   "cell_type": "code",
   "execution_count": 336,
   "id": "485369c1",
   "metadata": {},
   "outputs": [
    {
     "name": "stdout",
     "output_type": "stream",
     "text": [
      "N = 5\n",
      "[3, 5, 8, 9, 10]\n",
      "[2, 4, 7, 7, 8]\n",
      "[1, 2, 2, 7, 9]\n",
      "[1, 2, 2, 2, 3, 4, 5, 7, 7, 7, 8, 8, 9, 9, 10]\n"
     ]
    }
   ],
   "source": [
    "# Array64\n",
    "from random import randint\n",
    "n = int(input(\"N = \"))\n",
    "a = [randint(0,10) for i in range(n)]\n",
    "b = [randint(0,10) for i in range(n)]\n",
    "c = [randint(0,10) for i in range(n)]\n",
    "a.sort()\n",
    "b.sort()\n",
    "c.sort()\n",
    "print(a)\n",
    "print(b)\n",
    "print(c)\n",
    "d = a+b+c\n",
    "d.sort()\n",
    "print(d)"
   ]
  },
  {
   "cell_type": "code",
   "execution_count": 343,
   "id": "849c7435",
   "metadata": {},
   "outputs": [
    {
     "name": "stdout",
     "output_type": "stream",
     "text": [
      "N = 10\n",
      "K = 5\n",
      "[5, 3, 7, 8, 10, 9, 10, 1, 2, 6]\n",
      "14 12 16 17 19 18 19 10 11 15 "
     ]
    }
   ],
   "source": [
    "# Array65\n",
    "from random import randint\n",
    "n = int(input(\"N = \"))\n",
    "k = int(input(\"K = \"))\n",
    "a = [randint(0,10) for i in range(n)]\n",
    "print(a)\n",
    "for i in range(n):\n",
    "    print(a[i]+a[k], end=\" \")"
   ]
  },
  {
   "cell_type": "code",
   "execution_count": 345,
   "id": "1e10a9ff",
   "metadata": {},
   "outputs": [
    {
     "name": "stdout",
     "output_type": "stream",
     "text": [
      "N = 10\n",
      "[2, 10, 2, 6, 5, 8, 0, 10, 8, 3]\n",
      "4 12 4 8 5 10 2 12 10 3 "
     ]
    }
   ],
   "source": [
    "# Array66\n",
    "from random import randint\n",
    "n = int(input(\"N = \"))\n",
    "a = [randint(0,10) for i in range(n)]\n",
    "print(a)\n",
    "for i in range(n):\n",
    "    if a[i]%2==0:\n",
    "        x = a[i]\n",
    "        break\n",
    "for j in range(n):\n",
    "    if a[j]%2==0:\n",
    "        print(a[j]+x, end=\" \")\n",
    "    else:\n",
    "        print(a[j], end=\" \")"
   ]
  },
  {
   "cell_type": "code",
   "execution_count": 346,
   "id": "631e344f",
   "metadata": {},
   "outputs": [
    {
     "name": "stdout",
     "output_type": "stream",
     "text": [
      "N = 10\n",
      "[8, 0, 5, 2, 7, 7, 9, 10, 6, 7]\n",
      "8 0 12 2 14 14 16 10 6 14 "
     ]
    }
   ],
   "source": [
    "# Array67\n",
    "from random import randint\n",
    "n = int(input(\"N = \"))\n",
    "a = [randint(0,10) for i in range(n)]\n",
    "print(a)\n",
    "for i in range(n-1,-1,-1):\n",
    "    if a[i]%2==1:\n",
    "        x = a[i]\n",
    "        break\n",
    "for j in range(n):\n",
    "    if a[j]%2==1:\n",
    "        print(a[j]+x, end=\" \")\n",
    "    else:\n",
    "        print(a[j], end=\" \")"
   ]
  },
  {
   "cell_type": "code",
   "execution_count": 348,
   "id": "cfa72b7a",
   "metadata": {},
   "outputs": [
    {
     "name": "stdout",
     "output_type": "stream",
     "text": [
      "N = 10\n",
      "[1, 10, 9, 4, 7, 4, 5, 4, 8, 3]\n",
      "[10, 1, 9, 4, 7, 4, 5, 4, 8, 3]\n"
     ]
    }
   ],
   "source": [
    "# Array68\n",
    "from random import randint\n",
    "n = int(input(\"N = \"))\n",
    "a = [randint(0,10) for i in range(n)]\n",
    "print(a)\n",
    "mini = min(a)\n",
    "idmin = a.index(mini)\n",
    "maxi = max(a)\n",
    "idmax = a.index(maxi)\n",
    "a[idmin],a[idmax] = a[idmax], a[idmin]\n",
    "print(a)"
   ]
  },
  {
   "cell_type": "code",
   "execution_count": 349,
   "id": "27725085",
   "metadata": {},
   "outputs": [
    {
     "name": "stdout",
     "output_type": "stream",
     "text": [
      "N = 10\n",
      "[1, 10, 6, 5, 9, 6, 8, 10, 9, 1]\n",
      "[10, 1, 5, 6, 6, 9, 10, 8, 1, 9]\n"
     ]
    }
   ],
   "source": [
    "# Array69\n",
    "from random import randint\n",
    "n = int(input(\"N = \"))\n",
    "a = [randint(0,10) for i in range(n)]\n",
    "print(a)\n",
    "a[::2],a[1::2] = a[1::2], a[::2]\n",
    "print(a)"
   ]
  },
  {
   "cell_type": "code",
   "execution_count": 350,
   "id": "8fee9f5a",
   "metadata": {},
   "outputs": [
    {
     "name": "stdout",
     "output_type": "stream",
     "text": [
      "N = 10\n",
      "[3, 10, 1, 0, 10, 4, 5, 3, 6, 1]\n",
      "[4, 5, 3, 6, 1, 3, 10, 1, 0, 10]\n"
     ]
    }
   ],
   "source": [
    "# Array70\n",
    "from random import randint\n",
    "n = int(input(\"N = \"))\n",
    "a = [randint(0,10) for i in range(n)]\n",
    "print(a)\n",
    "a[:int(n/2)],a[int(n/2):n] = a[int(n/2):n], a[:int(n/2)]\n",
    "print(a)"
   ]
  },
  {
   "cell_type": "code",
   "execution_count": 353,
   "id": "ec94d348",
   "metadata": {},
   "outputs": [
    {
     "name": "stdout",
     "output_type": "stream",
     "text": [
      "N = 10\n",
      "[2, 3, 0, 8, 6, 5, 4, 5, 8, 9]\n",
      "[9, 8, 5, 4, 5, 6, 8, 0, 3, 2]\n"
     ]
    }
   ],
   "source": [
    "# Array71\n",
    "from random import randint\n",
    "n = int(input(\"N = \"))\n",
    "a = [randint(0,10) for i in range(n)]\n",
    "print(a)\n",
    "a[:int(n/2)],a[n-1:int(n/2)-1:-1] = a[n-1:int(n/2)-1:-1], a[:int(n/2)]\n",
    "print(a)"
   ]
  },
  {
   "cell_type": "code",
   "execution_count": 412,
   "id": "a00310ba",
   "metadata": {},
   "outputs": [
    {
     "name": "stdout",
     "output_type": "stream",
     "text": [
      "N = 10\n",
      "K = 2\n",
      "H = 8\n",
      "[2, 2, 10, 6, 10, 7, 2, 5, 5, 4]\n",
      "[2, 2, 5, 5, 2, 7, 10, 6, 10, 4]\n"
     ]
    }
   ],
   "source": [
    "# Array72\n",
    "from random import randint\n",
    "n = int(input(\"N = \"))\n",
    "k = int(input(\"K = \"))\n",
    "h = int(input(\"H = \"))\n",
    "a = [randint(0,10) for i in range(n)]\n",
    "print(a)\n",
    "while k<h:\n",
    "    a[k], a[h] = a[h], a[k]\n",
    "    k += 1\n",
    "    h -= 1\n",
    "print(a)"
   ]
  },
  {
   "cell_type": "code",
   "execution_count": 411,
   "id": "67576cf4",
   "metadata": {},
   "outputs": [
    {
     "name": "stdout",
     "output_type": "stream",
     "text": [
      "N = 10\n",
      "K = 2\n",
      "H = 7\n",
      "[10, 7, 2, 1, 9, 8, 7, 6, 1, 6]\n",
      "[10, 7, 2, 7, 9, 8, 1, 6, 1, 6]\n"
     ]
    }
   ],
   "source": [
    "# Array73\n",
    "from random import randint\n",
    "n = int(input(\"N = \"))\n",
    "k = int(input(\"K = \"))\n",
    "h = int(input(\"H = \"))\n",
    "a = [randint(0,10) for i in range(n)]\n",
    "print(a)\n",
    "while k<h:\n",
    "    a[k+1], a[h-1] = a[h-1], a[k+1]\n",
    "    k += 1\n",
    "    h -= 1\n",
    "\n",
    "print(a)"
   ]
  },
  {
   "cell_type": "code",
   "execution_count": 398,
   "id": "0a0768fa",
   "metadata": {},
   "outputs": [
    {
     "name": "stdout",
     "output_type": "stream",
     "text": [
      "N = 10\n",
      "[5, 8, 6, 9, 6, 4, 8, 2, 3, 7]\n",
      "[5, 8, 6, 9, 0, 0, 0, 2, 3, 7]\n"
     ]
    }
   ],
   "source": [
    "# Array74\n",
    "from random import randint\n",
    "n = int(input(\"N = \"))\n",
    "a = [randint(1,9) for i in range(n)]\n",
    "print(a)\n",
    "mini = min(a)\n",
    "idmin = a.index(mini)\n",
    "maxi = max(a)\n",
    "idmax = a.index(maxi)\n",
    "if idmin>idmax:\n",
    "    bosh_id = idmax\n",
    "    oxir_id = idmin\n",
    "else:\n",
    "    bosh_id = idmax\n",
    "    oxir_id = idmin\n",
    "i = bosh_id+1\n",
    "while i<oxir_id:\n",
    "    a[i] = 0\n",
    "    i += 1\n",
    "print(a)"
   ]
  },
  {
   "cell_type": "code",
   "execution_count": 429,
   "id": "e42ecd1b",
   "metadata": {},
   "outputs": [
    {
     "name": "stdout",
     "output_type": "stream",
     "text": [
      "N = 10\n",
      "[7, 6, 9, 8, 1, 2, 3, 5, 3, 4]\n",
      "[7, 6, 1, 8, 9, 2, 3, 5, 3, 4]\n"
     ]
    }
   ],
   "source": [
    "# Array75\n",
    "from random import randint\n",
    "n = int(input(\"N = \"))\n",
    "a = [randint(1,9) for i in range(n)]\n",
    "print(a)\n",
    "mini = min(a)\n",
    "idmin = a.index(mini)\n",
    "maxi = max(a)\n",
    "idmax = a.index(maxi)\n",
    "if idmin>idmax:\n",
    "    bosh_id = idmax\n",
    "    oxir_id = idmin\n",
    "else:\n",
    "    bosh_id = idmax\n",
    "    oxir_id = idmin\n",
    "i = bosh_id\n",
    "j = oxir_id\n",
    "while i<j:\n",
    "    a[i], a[j] = a[j], a[i]\n",
    "    i += 1\n",
    "    j -= 1\n",
    "print(a)"
   ]
  },
  {
   "cell_type": "code",
   "execution_count": 430,
   "id": "735313be",
   "metadata": {},
   "outputs": [
    {
     "name": "stdout",
     "output_type": "stream",
     "text": [
      "N = 10\n",
      "[6, 7, 3, 8, 8, 3, 4, 9, 8, 9]\n",
      "[6, 0, 3, 8, 8, 3, 4, 0, 8, 9]\n"
     ]
    }
   ],
   "source": [
    "# Array76\n",
    "from random import randint\n",
    "n = int(input(\"N = \"))\n",
    "a = [randint(1,9) for i in range(n)]\n",
    "print(a)\n",
    "i = 1\n",
    "while i<len(a)-1:\n",
    "    if a[i-1]<a[i]>a[i+1]:\n",
    "        a[i] = 0\n",
    "    i += 1\n",
    "print(a)"
   ]
  },
  {
   "cell_type": "code",
   "execution_count": 431,
   "id": "0a8b5ff0",
   "metadata": {},
   "outputs": [
    {
     "name": "stdout",
     "output_type": "stream",
     "text": [
      "N = 10\n",
      "[3, 9, 4, 9, 3, 2, 5, 5, 5, 1]\n",
      "[3, 9, 0, 9, 3, 0, 5, 5, 5, 1]\n"
     ]
    }
   ],
   "source": [
    "# Array77\n",
    "from random import randint\n",
    "n = int(input(\"N = \"))\n",
    "a = [randint(1,9) for i in range(n)]\n",
    "print(a)\n",
    "i = 1\n",
    "while i<len(a)-1:\n",
    "    if a[i-1]>a[i]<a[i+1]:\n",
    "        a[i] = 0\n",
    "    i += 1\n",
    "print(a)"
   ]
  },
  {
   "cell_type": "code",
   "execution_count": 432,
   "id": "ae6159f4",
   "metadata": {},
   "outputs": [
    {
     "name": "stdout",
     "output_type": "stream",
     "text": [
      "N = 10\n",
      "[6, 8, 8, 8, 9, 2, 7, 5, 5, 3]\n",
      "[7.0, 8.0, 8.0, 8.5, 5.5, 4.5, 6.0, 5.0, 4.0, 3]\n"
     ]
    }
   ],
   "source": [
    "# Array78\n",
    "from random import randint\n",
    "n = int(input(\"N = \"))\n",
    "a = [randint(1,9) for i in range(n)]\n",
    "print(a)\n",
    "i = 1\n",
    "while i<len(a):\n",
    "    a[i-1] = (a[i-1]+a[i])/2\n",
    "    i += 1\n",
    "print(a)"
   ]
  },
  {
   "cell_type": "code",
   "execution_count": 435,
   "id": "7f111080",
   "metadata": {},
   "outputs": [
    {
     "name": "stdout",
     "output_type": "stream",
     "text": [
      "N = 10\n",
      "[9, 1, 5, 7, 9, 3, 8, 7, 4, 5]\n",
      "[0, 9, 1, 5, 7, 9, 3, 8, 7, 4]\n"
     ]
    }
   ],
   "source": [
    "# Array79\n",
    "from random import randint\n",
    "n = int(input(\"N = \"))\n",
    "a = [randint(1,9) for i in range(n)]\n",
    "print(a)\n",
    "\n",
    "a.insert(0,0)\n",
    "a.pop(-1)\n",
    "print(a)"
   ]
  },
  {
   "cell_type": "code",
   "execution_count": 438,
   "id": "2c1514b4",
   "metadata": {},
   "outputs": [
    {
     "name": "stdout",
     "output_type": "stream",
     "text": [
      "N = 10\n",
      "[4, 8, 6, 9, 4, 2, 8, 6, 5, 3]\n",
      "[8, 6, 9, 4, 2, 8, 6, 5, 3, 0]\n"
     ]
    }
   ],
   "source": [
    "# Array80\n",
    "from random import randint\n",
    "n = int(input(\"N = \"))\n",
    "a = [randint(1,9) for i in range(n)]\n",
    "print(a)\n",
    "\n",
    "a.insert(n,0)\n",
    "a.pop(0)\n",
    "print(a)"
   ]
  },
  {
   "cell_type": "code",
   "execution_count": 447,
   "id": "44e83553",
   "metadata": {},
   "outputs": [
    {
     "name": "stdout",
     "output_type": "stream",
     "text": [
      "N = 10\n",
      "K = 5\n",
      "[2, 8, 2, 8, 6, 1, 5, 8, 3, 6]\n",
      "[0, 0, 0, 0, 0, 2, 8, 2, 8, 6]\n"
     ]
    }
   ],
   "source": [
    "# Array81\n",
    "from random import randint\n",
    "n = int(input(\"N = \"))\n",
    "k = int(input(\"K = \"))\n",
    "a = [randint(1,9) for i in range(n)]\n",
    "print(a)\n",
    "i = 0\n",
    "while i<k:\n",
    "    a.pop(n-i-1)    \n",
    "    i+=1\n",
    "j = 0\n",
    "while j<k:\n",
    "    a.insert(j,0)\n",
    "    j+=1\n",
    "print(a)"
   ]
  },
  {
   "cell_type": "code",
   "execution_count": 449,
   "id": "2b7dcf76",
   "metadata": {},
   "outputs": [
    {
     "name": "stdout",
     "output_type": "stream",
     "text": [
      "N = 10\n",
      "K = 5\n",
      "[7, 9, 1, 9, 1, 1, 6, 4, 1, 9]\n",
      "[1, 6, 4, 1, 9, 0, 0, 0, 0, 0]\n"
     ]
    }
   ],
   "source": [
    "# Array82\n",
    "from random import randint\n",
    "n = int(input(\"N = \"))\n",
    "k = int(input(\"K = \"))\n",
    "a = [randint(1,9) for i in range(n)]\n",
    "print(a)\n",
    "i = 0\n",
    "while i<k:\n",
    "    a.pop(0)    \n",
    "    i+=1\n",
    "j = 0\n",
    "while j<k:\n",
    "    a.insert(n-j-1,0)\n",
    "    j+=1\n",
    "print(a)"
   ]
  },
  {
   "cell_type": "code",
   "execution_count": 452,
   "id": "5c916481",
   "metadata": {},
   "outputs": [
    {
     "name": "stdout",
     "output_type": "stream",
     "text": [
      "N = 10\n",
      "[8, 1, 2, 9, 3, 7, 1, 6, 4, 3]\n",
      "[3, 8, 1, 2, 9, 3, 7, 1, 6, 4]\n"
     ]
    }
   ],
   "source": [
    "# Array83\n",
    "from random import randint\n",
    "n = int(input(\"N = \"))\n",
    "a = [randint(1,9) for i in range(n)]\n",
    "print(a)\n",
    "\n",
    "a.insert(0,a[n-1])\n",
    "a.pop(-1)\n",
    "print(a)"
   ]
  },
  {
   "cell_type": "code",
   "execution_count": 456,
   "id": "7b01526a",
   "metadata": {},
   "outputs": [
    {
     "name": "stdout",
     "output_type": "stream",
     "text": [
      "N = 10\n",
      "[5, 3, 8, 4, 7, 1, 3, 3, 4, 4]\n",
      "[3, 8, 4, 7, 1, 3, 3, 4, 4, 5]\n"
     ]
    }
   ],
   "source": [
    "# Array84\n",
    "from random import randint\n",
    "n = int(input(\"N = \"))\n",
    "a = [randint(1,9) for i in range(n)]\n",
    "print(a)\n",
    "\n",
    "a.insert(n,a[0])\n",
    "a.pop(0)\n",
    "print(a)"
   ]
  },
  {
   "cell_type": "code",
   "execution_count": 476,
   "id": "e06540be",
   "metadata": {},
   "outputs": [
    {
     "name": "stdout",
     "output_type": "stream",
     "text": [
      "N = 10\n",
      "K = 4\n",
      "[6, 4, 6, 7, 9, 3, 1, 5, 2, 2]\n",
      "[6, 4, 6, 7, 9, 3, 1, 5, 2, 2]\n"
     ]
    }
   ],
   "source": [
    "# Array85\n",
    "from random import randint\n",
    "n = int(input(\"N = \"))\n",
    "k = int(input(\"K = \"))\n",
    "a = [randint(1,9) for i in range(n)]\n",
    "print(a)\n",
    "a = a[:k]+a[k:]\n",
    "\n",
    "print(a)"
   ]
  },
  {
   "cell_type": "code",
   "execution_count": null,
   "id": "2edac528",
   "metadata": {},
   "outputs": [],
   "source": [
    "# Array86\n",
    "from random import randint\n",
    "n = int(input(\"N = \"))\n",
    "k = int(input(\"K = \"))\n",
    "a = [randint(1,9) for i in range(n)]\n",
    "print(a)\n",
    "a = a[k:]+a[:k]\n",
    "\n",
    "print(a)"
   ]
  },
  {
   "cell_type": "code",
   "execution_count": 480,
   "id": "65178a19",
   "metadata": {},
   "outputs": [
    {
     "name": "stdout",
     "output_type": "stream",
     "text": [
      "N = 10\n",
      "K = 7\n",
      "[2, 2, 4, 5, 6, 6, 6, 8, 9]\n",
      "[7, 2, 2, 4, 5, 6, 6, 6, 8, 9]\n",
      "[2, 2, 4, 5, 6, 6, 6, 7, 8, 9]\n"
     ]
    }
   ],
   "source": [
    "# Array 87\n",
    "from random import randint\n",
    "n = int(input(\"N = \"))\n",
    "k = int(input(\"K = \"))\n",
    "a = [randint(1,9) for i in range(n-1)]\n",
    "a.sort()\n",
    "print(a)\n",
    "a.insert(0,k)\n",
    "print(a)\n",
    "i = 1\n",
    "while i<len(a):\n",
    "    if k<a[i]:\n",
    "        a.insert(i,k)\n",
    "        a.pop(0)\n",
    "        break\n",
    "    i += 1\n",
    "print(a)"
   ]
  },
  {
   "cell_type": "code",
   "execution_count": 482,
   "id": "06a25f4a",
   "metadata": {},
   "outputs": [
    {
     "name": "stdout",
     "output_type": "stream",
     "text": [
      "N = 10\n",
      "K = 5\n",
      "[1, 1, 2, 3, 3, 4, 7, 7, 9]\n",
      "[1, 1, 2, 3, 3, 4, 7, 7, 9, 5]\n",
      "[1, 1, 2, 3, 3, 4, 5, 7, 7, 9]\n"
     ]
    }
   ],
   "source": [
    "# Array 88\n",
    "from random import randint\n",
    "n = int(input(\"N = \"))\n",
    "k = int(input(\"K = \"))\n",
    "a = [randint(1,9) for i in range(n-1)]\n",
    "a.sort()\n",
    "print(a)\n",
    "a.insert(n,k)\n",
    "print(a)\n",
    "i = 1\n",
    "while i<len(a):\n",
    "    if k<a[i]:\n",
    "        a.insert(i,k)\n",
    "        a.pop(n)\n",
    "        break\n",
    "    i += 1\n",
    "print(a)"
   ]
  },
  {
   "cell_type": "code",
   "execution_count": 494,
   "id": "d9838d95",
   "metadata": {},
   "outputs": [
    {
     "name": "stdout",
     "output_type": "stream",
     "text": [
      "N = 10\n",
      "K = 10\n",
      "H = 3\n",
      "[3, 4, 5, 6, 6, 7, 8, 8, 9]\n",
      "[3, 4, 5, 10, 6, 6, 7, 8, 8, 9]\n",
      "[3, 4, 5, 6, 6, 7, 8, 8, 9, 10]\n"
     ]
    }
   ],
   "source": [
    "# Array 89\n",
    "from random import randint\n",
    "n = int(input(\"N = \"))\n",
    "k = int(input(\"K = \"))\n",
    "h = int(input(\"H = \"))\n",
    "a = [randint(1,9) for i in range(n-1)]\n",
    "a.sort()\n",
    "print(a)\n",
    "a.insert(h,k)\n",
    "print(a)\n",
    "i = 0\n",
    "while i<len(a):\n",
    "    if k<a[i] and i<h:\n",
    "        a.insert(i,k)\n",
    "        a.pop(h+1)\n",
    "        break\n",
    "    elif k<a[i] and i>h:\n",
    "        a.insert(i,k)\n",
    "        a.pop(h)\n",
    "        break\n",
    "    else:\n",
    "        a.insert(n,k)\n",
    "        a.pop(h)\n",
    "        break\n",
    "    i += 1\n",
    "print(a)"
   ]
  },
  {
   "cell_type": "code",
   "execution_count": 495,
   "id": "cb014ccd",
   "metadata": {},
   "outputs": [
    {
     "name": "stdout",
     "output_type": "stream",
     "text": [
      "N = 10\n",
      "K = 3\n",
      "[5, 5, 4, 7, 9, 6, 7, 9, 5]\n",
      "[5, 5, 4, 9, 6, 7, 9, 5]\n"
     ]
    }
   ],
   "source": [
    "# Array90\n",
    "from random import randint\n",
    "n = int(input(\"N = \"))\n",
    "k = int(input(\"K = \"))\n",
    "a = [randint(1,9) for i in range(n)]\n",
    "print(a)\n",
    "a.pop(k)\n",
    "print(a)"
   ]
  },
  {
   "cell_type": "code",
   "execution_count": 504,
   "id": "9fa18216",
   "metadata": {},
   "outputs": [
    {
     "name": "stdout",
     "output_type": "stream",
     "text": [
      "N = 10\n",
      "K = 2\n",
      "M = 5\n",
      "[3, 9, 9, 6, 6, 5, 1, 1, 2, 6]\n",
      "[3, 9, 1, 1, 2, 6]\n",
      "6\n"
     ]
    }
   ],
   "source": [
    "# Array91\n",
    "from random import randint\n",
    "n = int(input(\"N = \"))\n",
    "k = int(input(\"K = \"))\n",
    "m = int(input(\"M = \"))\n",
    "a = [randint(1,9) for i in range(n)]\n",
    "print(a)\n",
    "while k<m+1:\n",
    "    a.pop(k)\n",
    "    m-=1\n",
    "print(a)\n",
    "print(len(a))"
   ]
  },
  {
   "cell_type": "code",
   "execution_count": 514,
   "id": "06dbdda9",
   "metadata": {},
   "outputs": [
    {
     "name": "stdout",
     "output_type": "stream",
     "text": [
      "N = 10\n",
      "[1, 1, 6, 7, 9, 4, 7, 5, 9, 3]\n",
      "[6, 4]\n",
      "2\n"
     ]
    }
   ],
   "source": [
    "# Array92\n",
    "from random import randint\n",
    "n = int(input(\"N = \"))\n",
    "a = [randint(1,9) for i in range(n)]\n",
    "print(a)\n",
    "i = 0\n",
    "for _ in range(n):\n",
    "    if a[i]%2==0:\n",
    "        i += 1\n",
    "    else:\n",
    "        a.pop(i)\n",
    "print(a)\n",
    "print(len(a))"
   ]
  },
  {
   "cell_type": "code",
   "execution_count": 523,
   "id": "a54ec86e",
   "metadata": {},
   "outputs": [
    {
     "name": "stdout",
     "output_type": "stream",
     "text": [
      "N = 9\n",
      "[1, 7, 3, 1, 5, 3, 3, 3, 7]\n",
      "[7, 1, 3, 3]\n",
      "4\n"
     ]
    }
   ],
   "source": [
    "# Array93\n",
    "from random import randint\n",
    "n = int(input(\"N = \"))\n",
    "a = [randint(1,9) for i in range(n)]\n",
    "print(a)\n",
    "del a[::2]\n",
    "print(a)\n",
    "print(len(a))"
   ]
  },
  {
   "cell_type": "code",
   "execution_count": 524,
   "id": "3139052c",
   "metadata": {},
   "outputs": [
    {
     "name": "stdout",
     "output_type": "stream",
     "text": [
      "N = 10\n",
      "[1, 9, 8, 6, 4, 1, 6, 3, 4, 2]\n",
      "[1, 8, 4, 6, 4]\n",
      "5\n"
     ]
    }
   ],
   "source": [
    "# Array94\n",
    "from random import randint\n",
    "n = int(input(\"N = \"))\n",
    "a = [randint(1,9) for i in range(n)]\n",
    "print(a)\n",
    "del a[1::2]\n",
    "print(a)\n",
    "print(len(a))"
   ]
  },
  {
   "cell_type": "code",
   "execution_count": 653,
   "id": "0852b2ae",
   "metadata": {},
   "outputs": [
    {
     "name": "stdout",
     "output_type": "stream",
     "text": [
      "N = 19\n",
      "[4, 2, 4, 5, 2, 9, 4, 7, 6, 9, 8, 8, 8, 5, 4, 2, 5, 6, 9]\n",
      "[4, 2, 4, 5, 2, 9, 4, 7, 6, 9, 8, 5, 4, 2, 5, 6, 9]\n"
     ]
    }
   ],
   "source": [
    "# Array95\n",
    "from random import randint\n",
    "n = int(input(\"N = \"))\n",
    "a = [randint(1,9) for i in range(n)]\n",
    "print(a)\n",
    "i = 1\n",
    "while i<len(a):\n",
    "    if a[i-1]==a[i]:\n",
    "        del a[i]\n",
    "        i -= 1\n",
    "    i+=1\n",
    "print(a)"
   ]
  },
  {
   "cell_type": "code",
   "execution_count": 566,
   "id": "7f2a6dbd",
   "metadata": {},
   "outputs": [
    {
     "name": "stdout",
     "output_type": "stream",
     "text": [
      "N = 15\n",
      "[7, 1, 3, 3, 3, 9, 9, 5, 2, 2, 2, 9, 3, 9, 3]\n",
      "[7, 1, 3, 9, 5, 2]\n"
     ]
    }
   ],
   "source": [
    "# Array96\n",
    "from random import randint\n",
    "n = int(input(\"N = \"))\n",
    "a = [randint(1,9) for i in range(n)]\n",
    "print(a)\n",
    "a.reverse()\n",
    "i = 0\n",
    "while i<len(a):\n",
    "    b = a.count(a[i])\n",
    "    x = a[i]\n",
    "    if b>1:\n",
    "        for j in range(b-1):\n",
    "            a.remove(x)\n",
    "    i+=1\n",
    "a.reverse()\n",
    "print(a)"
   ]
  },
  {
   "cell_type": "code",
   "execution_count": 567,
   "id": "943fdbc0",
   "metadata": {},
   "outputs": [
    {
     "name": "stdout",
     "output_type": "stream",
     "text": [
      "N = 15\n",
      "[8, 9, 7, 1, 5, 8, 7, 6, 2, 7, 4, 8, 8, 5, 7]\n",
      "[9, 1, 6, 2, 4, 8, 5, 7]\n"
     ]
    }
   ],
   "source": [
    "# Array97\n",
    "from random import randint\n",
    "n = int(input(\"N = \"))\n",
    "a = [randint(1,9) for i in range(n)]\n",
    "print(a)\n",
    "i = 0\n",
    "while i<len(a):\n",
    "    b = a.count(a[i])\n",
    "    x = a[i]\n",
    "    if b>1:\n",
    "        for j in range(b-1):\n",
    "            a.remove(x)\n",
    "    i+=1\n",
    "print(a)"
   ]
  },
  {
   "cell_type": "code",
   "execution_count": 657,
   "id": "846945b6",
   "metadata": {},
   "outputs": [
    {
     "name": "stdout",
     "output_type": "stream",
     "text": [
      "N = 15\n",
      "[3, 8, 5, 8, 6, 7, 2, 2, 5, 2, 8, 3, 7, 4, 6]\n",
      "[8, 8, 2, 2, 2, 8]\n",
      "6\n"
     ]
    }
   ],
   "source": [
    "# Array98\n",
    "from random import randint\n",
    "n = int(input(\"N = \"))\n",
    "a = [randint(1,9) for i in range(n)]\n",
    "print(a)\n",
    "i = 0\n",
    "while i<len(a):\n",
    "    b = a.count(a[i])\n",
    "    if b<3:\n",
    "        a.remove(a[i])\n",
    "        continue\n",
    "    i+=1\n",
    "print(a)\n",
    "print(len(a))"
   ]
  },
  {
   "cell_type": "code",
   "execution_count": 659,
   "id": "4db1a365",
   "metadata": {},
   "outputs": [
    {
     "name": "stdout",
     "output_type": "stream",
     "text": [
      "N = 10\n",
      "[8, 8, 1, 4, 8, 9, 3, 1, 4, 4]\n",
      "[1, 9, 3, 1]\n",
      "4\n"
     ]
    }
   ],
   "source": [
    "# Array99\n",
    "from random import randint\n",
    "n = int(input(\"N = \"))\n",
    "a = [randint(1,9) for i in range(n)]\n",
    "print(a)\n",
    "i = 0\n",
    "while i<len(a):\n",
    "    b = a.count(a[i])\n",
    "    if b>2:\n",
    "        x = a[i]\n",
    "        for _ in range(b):\n",
    "            a.remove(x)\n",
    "        continue\n",
    "    i+=1\n",
    "print(a)\n",
    "print(len(a))"
   ]
  },
  {
   "cell_type": "code",
   "execution_count": 661,
   "id": "272cdfe1",
   "metadata": {},
   "outputs": [
    {
     "name": "stdout",
     "output_type": "stream",
     "text": [
      "N = 10\n",
      "[6, 6, 8, 9, 5, 4, 5, 4, 5, 4]\n",
      "[8, 9, 5, 4, 5, 4, 5, 4]\n",
      "8\n"
     ]
    }
   ],
   "source": [
    "# Array100\n",
    "from random import randint\n",
    "n = int(input(\"N = \"))\n",
    "a = [randint(1,9) for i in range(n)]\n",
    "print(a)\n",
    "i = 0\n",
    "while i<len(a):\n",
    "    b = a.count(a[i])\n",
    "    if b==2:\n",
    "        x = a[i]\n",
    "        for _ in range(b):\n",
    "            a.remove(x)\n",
    "        continue\n",
    "    i+=1\n",
    "print(a)\n",
    "print(len(a))"
   ]
  },
  {
   "cell_type": "code",
   "execution_count": 593,
   "id": "b8b4dfa8",
   "metadata": {},
   "outputs": [
    {
     "name": "stdout",
     "output_type": "stream",
     "text": [
      "N = 10\n",
      "K = 4\n",
      "[4, 6, 6, 9, 4, 3, 9, 1, 3, 3]\n",
      "[4, 6, 6, 9, 0, 4, 3, 9, 1, 3, 3]\n"
     ]
    }
   ],
   "source": [
    "# Array101\n",
    "from random import randint\n",
    "n = int(input(\"N = \"))\n",
    "k = int(input(\"K = \"))\n",
    "a = [randint(1,9) for i in range(n)]\n",
    "print(a)\n",
    "a.insert(k,0)\n",
    "print(a)"
   ]
  },
  {
   "cell_type": "code",
   "execution_count": 594,
   "id": "2da3cf65",
   "metadata": {},
   "outputs": [
    {
     "name": "stdout",
     "output_type": "stream",
     "text": [
      "N = 10\n",
      "K = 4\n",
      "[4, 7, 1, 3, 3, 2, 2, 4, 4, 5]\n",
      "[4, 7, 1, 3, 3, 0, 2, 2, 4, 4, 5]\n"
     ]
    }
   ],
   "source": [
    "# Array102\n",
    "from random import randint\n",
    "n = int(input(\"N = \"))\n",
    "k = int(input(\"K = \"))\n",
    "a = [randint(1,9) for i in range(n)]\n",
    "print(a)\n",
    "a.insert(k+1,0)\n",
    "print(a)"
   ]
  },
  {
   "cell_type": "code",
   "execution_count": 621,
   "id": "a92ae721",
   "metadata": {},
   "outputs": [
    {
     "name": "stdout",
     "output_type": "stream",
     "text": [
      "N = 10\n",
      "[1, 1, 4, 2, 2, 2, 6, 7, 2, 7]\n",
      "0 7\n",
      "[0, 1, 1, 4, 2, 2, 2, 6, 7, 0, 2, 7]\n"
     ]
    }
   ],
   "source": [
    "# Array103\n",
    "from random import randint\n",
    "n = int(input(\"N = \"))\n",
    "a = [randint(1,9) for i in range(n)]\n",
    "print(a)\n",
    "mini = min(a)\n",
    "i_mini = a.index(mini)\n",
    "maxi = max(a)\n",
    "i_maxi = a.index(maxi)\n",
    "print(i_mini, i_maxi)\n",
    "if i_mini<i_maxi:\n",
    "    a.insert(i_maxi+1,0)\n",
    "    a.insert(i_mini, 0)\n",
    "else:\n",
    "    a.insert(i_mini, 0)\n",
    "    a.insert(i_maxi+1,0)\n",
    "    \n",
    "print(a)"
   ]
  },
  {
   "cell_type": "code",
   "execution_count": 622,
   "id": "237aa6d3",
   "metadata": {},
   "outputs": [
    {
     "name": "stdout",
     "output_type": "stream",
     "text": [
      "N = 10\n",
      "K = 3\n",
      "M = 4\n",
      "[5, 1, 8, 2, 2, 3, 4, 8, 2, 5]\n",
      "[5, 1, 8, 0, 0, 0, 0, 2, 2, 3, 4, 8, 2, 5]\n"
     ]
    }
   ],
   "source": [
    "# Array104\n",
    "from random import randint\n",
    "n = int(input(\"N = \"))\n",
    "k = int(input(\"K = \"))\n",
    "m = int(input(\"M = \"))\n",
    "a = [randint(1,9) for i in range(n)]\n",
    "print(a)\n",
    "for i in range(m):\n",
    "    a.insert(k,0)\n",
    "print(a)"
   ]
  },
  {
   "cell_type": "code",
   "execution_count": 691,
   "id": "cb9186eb",
   "metadata": {},
   "outputs": [
    {
     "name": "stdout",
     "output_type": "stream",
     "text": [
      "N = 15\n",
      "K = 2\n",
      "M = 2\n",
      "[1, 2, 5, 9, 8, 6, 1, 9, 2, 8, 8, 8, 2, 1, 6]\n",
      "[1, 0, 0, 2, 5, 9, 8, 6, 1, 9, 0, 0, 2, 8, 8, 8, 2, 1, 6]\n"
     ]
    }
   ],
   "source": [
    "# Array104 Qo'shimcha\n",
    "from random import randint\n",
    "n = int(input(\"N = \"))\n",
    "k = int(input(\"K = \"))\n",
    "m = int(input(\"M = \"))\n",
    "a = [randint(1,9) for i in range(n)]\n",
    "print(a)\n",
    "i = 0\n",
    "while i<n:\n",
    "    if k==a[i]:\n",
    "        for _ in range(m):\n",
    "            a.insert(i,0)\n",
    "        i+=m\n",
    "    i+=1\n",
    "print(a)"
   ]
  },
  {
   "cell_type": "code",
   "execution_count": 627,
   "id": "ee1bb7d3",
   "metadata": {},
   "outputs": [
    {
     "name": "stdout",
     "output_type": "stream",
     "text": [
      "N = 10\n",
      "K = 3\n",
      "M = 4\n",
      "[6, 4, 2, 4, 5, 1, 7, 4, 2, 5]\n",
      "[6, 4, 2, 4, 0, 0, 0, 0, 5, 1, 7, 4, 2, 5]\n"
     ]
    }
   ],
   "source": [
    "# Array105\n",
    "from random import randint\n",
    "n = int(input(\"N = \"))\n",
    "k = int(input(\"K = \"))\n",
    "m = int(input(\"M = \"))\n",
    "a = [randint(1,9) for i in range(n)]\n",
    "print(a)\n",
    "for i in range(m):\n",
    "    a.insert(k+1,0)\n",
    "print(a)"
   ]
  },
  {
   "cell_type": "code",
   "execution_count": 628,
   "id": "1d9d0fa6",
   "metadata": {},
   "outputs": [
    {
     "name": "stdout",
     "output_type": "stream",
     "text": [
      "N = 10\n",
      "[3, 7, 8, 3, 8, 5, 7, 7, 3, 5]\n",
      "[3, 7, 8, 3, 8, 5, 7, 7, 3, 5, 3, 8, 8, 7, 3]\n"
     ]
    }
   ],
   "source": [
    "# Array106\n",
    "from random import randint\n",
    "n = int(input(\"N = \"))\n",
    "a = [randint(1,9) for i in range(n)]\n",
    "print(a)\n",
    "for i in range(0,n-1,2):\n",
    "    a.append(a[i])\n",
    "print(a)"
   ]
  },
  {
   "cell_type": "code",
   "execution_count": 632,
   "id": "bef547be",
   "metadata": {},
   "outputs": [
    {
     "name": "stdout",
     "output_type": "stream",
     "text": [
      "N = 10\n",
      "[5, 4, 6, 1, 8, 1, 4, 4, 8, 1]\n",
      "[5, 4, 6, 1, 8, 1, 4, 4, 8, 1, 4, 1, 1, 4, 4, 1, 1, 4]\n"
     ]
    }
   ],
   "source": [
    "# Array107\n",
    "from random import randint\n",
    "n = int(input(\"N = \"))\n",
    "a = [randint(1,9) for i in range(n)]\n",
    "print(a)\n",
    "for i in range(1,n-1,2):\n",
    "    a.append(a[i])\n",
    "for i in range(1,n-1,2):\n",
    "    a.append(a[i])\n",
    "print(a)"
   ]
  },
  {
   "cell_type": "code",
   "execution_count": 664,
   "id": "e9132616",
   "metadata": {},
   "outputs": [
    {
     "name": "stdout",
     "output_type": "stream",
     "text": [
      "N = 10\n",
      "[5, -6, -2, -3, -1, 3, 2, 2, -4, -5]\n",
      "[0, 5, -6, -2, -3, -1, 0, 3, 0, 2, 0, 2, -4, -5]\n"
     ]
    }
   ],
   "source": [
    "# Array108\n",
    "from random import randint\n",
    "n = int(input(\"N = \"))\n",
    "a = [randint(-9,9) for i in range(n)]\n",
    "print(a)\n",
    "for i in range(n-1,-1,-1):\n",
    "    if a[i]>0:\n",
    "        a.insert(i,0)\n",
    "print(a)"
   ]
  },
  {
   "cell_type": "code",
   "execution_count": 641,
   "id": "730b58b8",
   "metadata": {},
   "outputs": [
    {
     "name": "stdout",
     "output_type": "stream",
     "text": [
      "N = 10\n",
      "[-3, 5, 4, 7, 9, 7, -4, 1, 9, -7]\n",
      "[0, -3, 5, 4, 7, 9, 7, 0, -4, 1, 9, 0, -7]\n"
     ]
    }
   ],
   "source": [
    "# Array109\n",
    "from random import randint\n",
    "n = int(input(\"N = \"))\n",
    "a = [randint(-9,9) for i in range(n)]\n",
    "print(a)\n",
    "for i in range(n-1,-1,-1):\n",
    "    if a[i]<0:\n",
    "        a.insert(i,0)\n",
    "print(a)"
   ]
  },
  {
   "cell_type": "code",
   "execution_count": 642,
   "id": "8faa15c9",
   "metadata": {},
   "outputs": [
    {
     "name": "stdout",
     "output_type": "stream",
     "text": [
      "N = 10\n",
      "[8, 9, 6, 1, 3, 2, 3, 6, 9, 5]\n",
      "[8, 9, 6, 1, 3, 2, 3, 6, 9, 5, 8, 6, 2, 6]\n"
     ]
    }
   ],
   "source": [
    "# Array110\n",
    "from random import randint\n",
    "n = int(input(\"N = \"))\n",
    "a = [randint(1,9) for i in range(n)]\n",
    "print(a)\n",
    "for i in range(n):\n",
    "    if a[i]%2==0:\n",
    "        a.append(a[i])\n",
    "print(a)"
   ]
  },
  {
   "cell_type": "code",
   "execution_count": 665,
   "id": "6f5fbbde",
   "metadata": {},
   "outputs": [
    {
     "name": "stdout",
     "output_type": "stream",
     "text": [
      "N = 10\n",
      "[1, 9, 9, 5, 4, 3, 5, 9, 8, 9]\n",
      "[1, 9, 9, 5, 4, 3, 5, 9, 8, 9, 4, 8, 4, 8]\n"
     ]
    }
   ],
   "source": [
    "# Array111\n",
    "from random import randint\n",
    "n = int(input(\"N = \"))\n",
    "a = [randint(1,9) for i in range(n)]\n",
    "print(a)\n",
    "for i in range(n):\n",
    "    if a[i]%2==0:\n",
    "        a.append(a[i])\n",
    "for j in range(n):\n",
    "    if a[j]%2==0:\n",
    "        a.append(a[j])\n",
    "print(a)"
   ]
  },
  {
   "cell_type": "code",
   "execution_count": 734,
   "id": "dd6d80d1",
   "metadata": {},
   "outputs": [
    {
     "name": "stdout",
     "output_type": "stream",
     "text": [
      "N = 10\n",
      "[5, 1, 2, 7, 9, 2, 7, 1, 5, 2]\n",
      "[1, 2, 5, 7, 2, 7, 1, 5, 2, 9]\n",
      "[1, 2, 5, 2, 7, 1, 5, 2, 7, 9]\n",
      "[1, 2, 2, 5, 1, 5, 2, 7, 7, 9]\n",
      "[1, 2, 2, 1, 5, 2, 5, 7, 7, 9]\n",
      "[1, 2, 1, 2, 2, 5, 5, 7, 7, 9]\n",
      "[1, 1, 2, 2, 2, 5, 5, 7, 7, 9]\n",
      "[1, 1, 2, 2, 2, 5, 5, 7, 7, 9]\n",
      "[1, 1, 2, 2, 2, 5, 5, 7, 7, 9]\n",
      "[1, 1, 2, 2, 2, 5, 5, 7, 7, 9]\n",
      "[1, 1, 2, 2, 2, 5, 5, 7, 7, 9]\n"
     ]
    }
   ],
   "source": [
    "# Array112\n",
    "from random import randint\n",
    "n = int(input(\"N = \"))\n",
    "a = [randint(1,9) for _ in range(n)]\n",
    "print(a)\n",
    "for i in range(1,n):\n",
    "    for j in range(0,n-i):\n",
    "        if a[j]>a[j+1]:\n",
    "            a[j],a[j+1]=a[j+1],a[j]\n",
    "    print(a)\n",
    "print(a)"
   ]
  },
  {
   "cell_type": "code",
   "execution_count": 736,
   "id": "45a3b802",
   "metadata": {},
   "outputs": [
    {
     "name": "stdout",
     "output_type": "stream",
     "text": [
      "N = 10\n",
      "[8, 9, 2, 5, 5, 9, 2, 7, 5, 3]\n",
      "[2, 9, 8, 5, 5, 9, 2, 7, 5, 3]\n",
      "[2, 2, 8, 5, 5, 9, 9, 7, 5, 3]\n",
      "[2, 2, 3, 5, 5, 9, 9, 7, 5, 8]\n",
      "[2, 2, 3, 5, 5, 9, 9, 7, 5, 8]\n",
      "[2, 2, 3, 5, 5, 9, 9, 7, 5, 8]\n",
      "[2, 2, 3, 5, 5, 5, 9, 7, 9, 8]\n",
      "[2, 2, 3, 5, 5, 5, 7, 9, 9, 8]\n",
      "[2, 2, 3, 5, 5, 5, 7, 8, 9, 9]\n",
      "[2, 2, 3, 5, 5, 5, 7, 8, 9, 9]\n",
      "[2, 2, 3, 5, 5, 5, 7, 8, 9, 9]\n",
      "[2, 2, 3, 5, 5, 5, 7, 8, 9, 9]\n"
     ]
    }
   ],
   "source": [
    "# Array113\n",
    "from random import randint\n",
    "n = int(input(\"N = \"))\n",
    "a = [randint(1,9) for i in range(n)]\n",
    "print(a)\n",
    "for i in range(n):\n",
    "    mini = a[i]\n",
    "    index = i\n",
    "    for j in range(i+1,n):\n",
    "        if a[j]<mini:\n",
    "            mini = a[j]\n",
    "            index = j\n",
    "    a[i],a[index]=a[index],a[i]\n",
    "    print(a)\n",
    "print(a)"
   ]
  },
  {
   "cell_type": "code",
   "execution_count": 739,
   "id": "9d1779dd",
   "metadata": {},
   "outputs": [
    {
     "name": "stdout",
     "output_type": "stream",
     "text": [
      "N = 10\n",
      "[4, 8, 1, 2, 7, 3, 4, 5, 5, 6]\n",
      "[4, 8, 1, 2, 7, 3, 4, 5, 5, 6]\n",
      "[4, 8, 1, 2, 7, 3, 4, 5, 5, 6]\n",
      "[1, 4, 8, 2, 7, 3, 4, 5, 5, 6]\n",
      "[1, 2, 4, 8, 7, 3, 4, 5, 5, 6]\n",
      "[1, 2, 4, 7, 8, 3, 4, 5, 5, 6]\n",
      "[1, 2, 3, 4, 7, 8, 4, 5, 5, 6]\n",
      "[1, 2, 3, 4, 4, 7, 8, 5, 5, 6]\n",
      "[1, 2, 3, 4, 4, 5, 7, 8, 5, 6]\n",
      "[1, 2, 3, 4, 4, 5, 5, 7, 8, 6]\n",
      "[1, 2, 3, 4, 4, 5, 5, 6, 7, 8]\n",
      "[1, 2, 3, 4, 4, 5, 5, 6, 7, 8]\n"
     ]
    }
   ],
   "source": [
    "# Array114\n",
    "from random import randint\n",
    "n = int(input(\"N = \"))\n",
    "a = [randint(1,9) for i in range(n)]\n",
    "print(a)\n",
    "for i in range(n):\n",
    "    for j in range(i):\n",
    "        if a[i]<a[j]:\n",
    "            a.insert(j, a.pop(i))\n",
    "            break\n",
    "    print(a)    \n",
    "print(a)"
   ]
  },
  {
   "cell_type": "code",
   "execution_count": 755,
   "id": "305f7d54",
   "metadata": {},
   "outputs": [
    {
     "name": "stdout",
     "output_type": "stream",
     "text": [
      "N = 5\n",
      "[6, 1, 2, 8, 7]\n",
      "[0, 1, 2, 3, 4]\n",
      "[1, 2, 0, 4, 3]\n",
      "[6, 1, 2, 8, 7]\n"
     ]
    }
   ],
   "source": [
    "# Array115\n",
    "from random import randint\n",
    "n = int(input(\"N = \"))\n",
    "a = [randint(1,9) for i in range(n)]\n",
    "print(a)\n",
    "b = [i for i in range(n)]\n",
    "print(b)\n",
    "for i in range(1,n):\n",
    "    for j in range(0,n-i):\n",
    "        if a[b[j]]>a[b[j+1]]:\n",
    "            b[j],b[j+1]=b[j+1],b[j]\n",
    "    \n",
    "print(b)\n",
    "print(a)"
   ]
  },
  {
   "cell_type": "code",
   "execution_count": 759,
   "id": "a534afbd",
   "metadata": {},
   "outputs": [
    {
     "name": "stdout",
     "output_type": "stream",
     "text": [
      "N = 10\n",
      "[1, 1, 3, 3, 4, 4, 2, 3, 4, 4]\n",
      "[2, 2, 2, 1, 1, 2]\n",
      "[1, 3, 4, 2, 3, 4]\n"
     ]
    }
   ],
   "source": [
    "# Array116\n",
    "from random import randint\n",
    "n = int(input(\"N = \"))\n",
    "a = [randint(1,5) for i in range(n)]\n",
    "print(a)\n",
    "x = a[0]\n",
    "b = []\n",
    "c = []\n",
    "\n",
    "b.append(1)\n",
    "c.append(x)\n",
    "\n",
    "j = 0\n",
    "for i in range(1,n):\n",
    "    if a[i]==x:\n",
    "        b[j]+=1\n",
    "    else:\n",
    "        x = a[i]\n",
    "        b.append(1)\n",
    "        c.append(x)\n",
    "        j += 1\n",
    "print(b)\n",
    "print(c)"
   ]
  },
  {
   "cell_type": "code",
   "execution_count": 778,
   "id": "43da2dee",
   "metadata": {},
   "outputs": [
    {
     "name": "stdout",
     "output_type": "stream",
     "text": [
      "N = 10\n",
      "[4, 1, 3, 2, 2, 4, 3, 3, 2, 3]\n",
      "[0, 4, 0, 1, 0, 3, 0, 2, 2, 0, 4, 0, 3, 3, 0, 2, 0, 3]\n"
     ]
    }
   ],
   "source": [
    "# Array117\n",
    "from random import randint\n",
    "n = int(input(\"N = \"))\n",
    "a = [randint(1,5) for i in range(n)]\n",
    "print(a)\n",
    "\n",
    "for j in range(len(a)-1,-1,-1):\n",
    "    if a[j]!=a[j-1]:\n",
    "        a.insert(j,0)\n",
    "print(a)"
   ]
  },
  {
   "cell_type": "code",
   "execution_count": 821,
   "id": "6ced8ea7",
   "metadata": {},
   "outputs": [
    {
     "name": "stdout",
     "output_type": "stream",
     "text": [
      "N = 10\n",
      "[4, 1, 2, 1, 1, 1, 2, 3, 4, 4]\n",
      "[4, 0, 1, 0, 2, 0, 1, 1, 1, 0, 2, 0, 3, 0, 4, 4, 0]\n"
     ]
    }
   ],
   "source": [
    "# Array118\n",
    "from random import randint\n",
    "n = int(input(\"N = \"))\n",
    "a = [randint(1,5) for i in range(n)]\n",
    "print(a)\n",
    "i = 1\n",
    "for j in range(n-1,-1,-1):\n",
    "    if a[j]!=a[j-1]:\n",
    "        a.insert(j+i,0)\n",
    "        i = 1\n",
    "    else:\n",
    "        i += 1\n",
    "print(a)"
   ]
  },
  {
   "cell_type": "code",
   "execution_count": 884,
   "id": "f489e367",
   "metadata": {},
   "outputs": [
    {
     "name": "stdout",
     "output_type": "stream",
     "text": [
      "N = 5\n",
      "[5, 5, 2, 1, 4]\n",
      "[5, 5, 5, 2, 2, 1, 1, 4, 4]\n"
     ]
    }
   ],
   "source": [
    "# Array119\n",
    "from random import randint\n",
    "n = int(input(\"N = \"))\n",
    "a = [randint(1,5) for i in range(n)]\n",
    "print(a)\n",
    "i = 1\n",
    "for j in range(n-1,-2,-1):\n",
    "    if a[j]!=a[j-1]:\n",
    "        a.insert(j+i,a[j])\n",
    "        i = 1\n",
    "    else:\n",
    "        i += 1\n",
    "print(a)"
   ]
  },
  {
   "cell_type": "code",
   "execution_count": 864,
   "id": "fd97e496",
   "metadata": {},
   "outputs": [
    {
     "name": "stdout",
     "output_type": "stream",
     "text": [
      "[1, 1, 1, 2, 2, 3, 3, 4, 4, 5, 5, 5, 5]\n",
      "[1, 1, 2, 3, 4, 5, 5, 5]\n"
     ]
    }
   ],
   "source": [
    "# Array120\n",
    "\n",
    "a = [1,1,1,2,2,3,3,4,4,5,5,5,5]\n",
    "print(a)\n",
    "x = a[0]\n",
    "b = []\n",
    "c = []\n",
    "\n",
    "b.append(1)\n",
    "c.append(x)\n",
    "\n",
    "j = 0\n",
    "for i in range(1,len(a)):\n",
    "    if a[i]==x:\n",
    "        b[j]+=1\n",
    "    else:\n",
    "        x = a[i]\n",
    "        b.append(1)\n",
    "        c.append(x)\n",
    "        j += 1\n",
    "for m in range(len(b)):\n",
    "    x = a.index(c[m])\n",
    "    a.pop(x)\n",
    "print(a)"
   ]
  },
  {
   "cell_type": "code",
   "execution_count": 57,
   "id": "67d1f092",
   "metadata": {},
   "outputs": [
    {
     "name": "stdout",
     "output_type": "stream",
     "text": [
      "N = 10\n",
      "K = 5\n",
      "[5, 1, 3, 5, 2, 1, 3, 4, 2, 4]\n",
      "[1, 1, 1, 1, 1, 1, 1, 1, 1, 1]\n",
      "[5, 1, 3, 5, 2, 1, 3, 4, 2, 4]\n",
      "[5, 1, 3, 5, 2, 2, 1, 3, 4, 2, 4]\n"
     ]
    }
   ],
   "source": [
    "# Array121\n",
    "from random import randint\n",
    "n = int(input(\"N = \"))\n",
    "k = int(input(\"K = \"))\n",
    "a = [randint(1,5) for i in range(n)]\n",
    "print(a)\n",
    "x = a[0]\n",
    "b = []\n",
    "c = []\n",
    "\n",
    "b.append(1)\n",
    "c.append(x)\n",
    "\n",
    "j = 0\n",
    "for i in range(1,n):\n",
    "    if a[i]==x:\n",
    "        b[j]+=1\n",
    "    else:\n",
    "        x = a[i]\n",
    "        b.append(1)\n",
    "        c.append(x)\n",
    "        j += 1\n",
    "print(b)\n",
    "print(c)\n",
    "# b massivning indexslari\n",
    "idx = []\n",
    "for y in range(1,len(b)+1):\n",
    "    idx.append(y)\n",
    "# a massivga element qo'shish    \n",
    "for m in range(len(b)):    \n",
    "    if idx[m]==k:\n",
    "        x = a.index(c[m])\n",
    "        for j in range(b[m]):\n",
    "            a.insert(x,c[m])\n",
    "print(a)"
   ]
  },
  {
   "cell_type": "code",
   "execution_count": 56,
   "id": "47e398a5",
   "metadata": {},
   "outputs": [
    {
     "name": "stdout",
     "output_type": "stream",
     "text": [
      "N = 10\n",
      "K = 5\n",
      "A = [5, 2, 4, 4, 5, 5, 5, 3, 3, 3]\n",
      "B = [1, 1, 2, 3, 3]\n",
      "C = [5, 2, 4, 5, 3]\n",
      "7\n",
      "A = [5, 2, 4, 4, 5, 5, 5]\n"
     ]
    }
   ],
   "source": [
    "# Array122\n",
    "from random import randint\n",
    "n = int(input(\"N = \"))\n",
    "k = int(input(\"K = \"))\n",
    "a = [randint(1,5) for i in range(n)]\n",
    "print(\"A =\",a)\n",
    "x = a[0]\n",
    "b = []\n",
    "c = []\n",
    "\n",
    "b.append(1)\n",
    "c.append(x)\n",
    "\n",
    "j = 0\n",
    "for i in range(1,n):\n",
    "    if a[i]==x:\n",
    "        b[j]+=1\n",
    "    else:\n",
    "        x = a[i]\n",
    "        b.append(1)\n",
    "        c.append(x)\n",
    "        j += 1\n",
    "print(\"B =\",b)\n",
    "print(\"C =\",c)\n",
    "# b massivning indexslari\n",
    "idx = []\n",
    "for y in range(1,len(b)+1):\n",
    "    idx.append(y)\n",
    "# o'chiriladigan qiymat indeksi   \n",
    "x = 0\n",
    "for z in range(k-1):\n",
    "    x += b[z]\n",
    "# a massivdan element o'chirish\n",
    "for m in range(len(b)):\n",
    "    if idx[m]==k:\n",
    "        for j in range(b[m]):\n",
    "            a.pop(x)\n",
    "\n",
    "print(\"A =\",a)"
   ]
  },
  {
   "cell_type": "code",
   "execution_count": 1,
   "id": "2b1acc6f",
   "metadata": {},
   "outputs": [
    {
     "name": "stdout",
     "output_type": "stream",
     "text": [
      "N = 10\n",
      "K = 5\n",
      "A = [4, 3, 2, 5, 2, 1, 1, 4, 3, 5]\n",
      "[4, 3, 2, 5, 2, 4, 3, 5]\n"
     ]
    }
   ],
   "source": [
    "from random import randint\n",
    "n = int(input(\"N = \"))\n",
    "k = int(input(\"K = \"))\n",
    "a = [randint(1,5) for i in range(n)]\n",
    "print(\"A =\",a)\n",
    "x = a[0]\n",
    "b = []\n",
    "c = []\n",
    "\n",
    "b.append(1)\n",
    "c.append(x)\n",
    "\n",
    "j = 0\n",
    "for i in range(1,n):\n",
    "    if a[i]==x:\n",
    "        b[j]+=1\n",
    "    else:\n",
    "        x = a[i]\n",
    "        b.append(1)\n",
    "        c.append(x)\n",
    "        j += 1\n",
    "\n",
    "b.pop(k)\n",
    "c.pop(k)\n",
    "a.clear()\n",
    "for i in range(len(b)):\n",
    "    for j in range(b[i]):\n",
    "        a.append(c[i])\n",
    "print(a)"
   ]
  },
  {
   "cell_type": "code",
   "execution_count": 64,
   "id": "19d478e8",
   "metadata": {},
   "outputs": [
    {
     "name": "stdout",
     "output_type": "stream",
     "text": [
      "N = 10\n",
      "K = 3\n",
      "A = [4, 3, 2, 4, 4, 3, 1, 4, 4, 5]\n",
      "a = [2, 3, 4, 4, 4, 3, 1, 4, 4, 5]\n",
      "B = [1, 1, 1, 2, 1, 1, 2, 1]\n",
      "C = [4, 3, 2, 4, 3, 1, 4, 5]\n"
     ]
    }
   ],
   "source": [
    "# Array123\n",
    "from random import randint\n",
    "n = int(input(\"N = \"))\n",
    "k = int(input(\"K = \"))\n",
    "a = [randint(1,5) for i in range(n)]\n",
    "print(\"A =\",a)\n",
    "x = a[0]\n",
    "b = []\n",
    "c = []\n",
    "\n",
    "b.append(1)\n",
    "c.append(x)\n",
    "\n",
    "j = 0\n",
    "for i in range(1,n):\n",
    "    if a[i]==x:\n",
    "        b[j]+=1\n",
    "    else:\n",
    "        x = a[i]\n",
    "        b.append(1)\n",
    "        c.append(x)\n",
    "        j += 1\n",
    "# b massivning indexslari\n",
    "idx = []\n",
    "for y in range(1,len(b)+1):\n",
    "    idx.append(y)\n",
    "# almashtiriladigan qiymat indeksi   \n",
    "x = 0\n",
    "for z in range(k-1):\n",
    "    x += b[z]\n",
    "# 0 bilan k serya o'rnini almashtirish\n",
    "for m in range(len(b)):\n",
    "    if idx[m]==k:\n",
    "        for j in range(b[m]):\n",
    "            a.insert(0,a.pop(x))\n",
    "            a.insert(x,a.pop(1))\n",
    "        break\n",
    "print(\"a =\",a)\n",
    "print(\"B =\",b)\n",
    "print(\"C =\",c)"
   ]
  },
  {
   "cell_type": "code",
   "execution_count": 66,
   "id": "f2ffff70",
   "metadata": {},
   "outputs": [
    {
     "name": "stdout",
     "output_type": "stream",
     "text": [
      "N = 10\n",
      "K = 5\n",
      "A = [3, 4, 5, 1, 4, 5, 2, 5, 4, 3]\n",
      "a = [3, 4, 5, 1, 3, 5, 2, 5, 4, 4]\n",
      "B = [1, 1, 1, 1, 1, 1, 1, 1, 1, 1]\n",
      "C = [3, 4, 5, 1, 4, 5, 2, 5, 4, 3]\n"
     ]
    }
   ],
   "source": [
    "# Array124\n",
    "from random import randint\n",
    "n = int(input(\"N = \"))\n",
    "k = int(input(\"K = \"))\n",
    "a = [randint(1,5) for i in range(n)]\n",
    "print(\"A =\",a)\n",
    "x = a[0]\n",
    "b = []\n",
    "c = []\n",
    "\n",
    "b.append(1)\n",
    "c.append(x)\n",
    "\n",
    "j = 0\n",
    "for i in range(1,n):\n",
    "    if a[i]==x:\n",
    "        b[j]+=1\n",
    "    else:\n",
    "        x = a[i]\n",
    "        b.append(1)\n",
    "        c.append(x)\n",
    "        j += 1\n",
    "# b massivning indexslari\n",
    "idx = []\n",
    "for y in range(1,len(b)+1):\n",
    "    idx.append(y)\n",
    "# almashtiriladigan qiymat indeksi   \n",
    "x = 0\n",
    "for z in range(k-1):\n",
    "    x += b[z]\n",
    "# 0 bilan k serya o'rnini almashtirish\n",
    "for m in range(len(b)):\n",
    "    if idx[m]==k:\n",
    "        for j in range(b[m]):\n",
    "            a.insert(n-1,a.pop(x))\n",
    "            a.insert(x,a.pop(n-2))\n",
    "        break\n",
    "print(\"a =\",a)\n",
    "print(\"B =\",b)\n",
    "print(\"C =\",c)"
   ]
  },
  {
   "cell_type": "code",
   "execution_count": 94,
   "id": "019df3b6",
   "metadata": {},
   "outputs": [
    {
     "name": "stdout",
     "output_type": "stream",
     "text": [
      "N = 10\n",
      "K = 2\n",
      "A = [1, 4, 3, 1, 5, 4, 2, 2, 3, 1]\n",
      "a = [0, 0, 0, 0, 0, 0, 1, 0, 0, 2]\n",
      "B = [1, 1, 1, 1, 1, 1, 2, 1, 1]\n",
      "C = [1, 4, 3, 1, 5, 4, 2, 3, 1]\n"
     ]
    }
   ],
   "source": [
    "# Array125\n",
    "from random import randint\n",
    "n = int(input(\"N = \"))\n",
    "k = int(input(\"K = \"))\n",
    "a = [randint(1,5) for i in range(n)]\n",
    "print(\"A =\",a)\n",
    "x = a[0]\n",
    "b = []\n",
    "c = []\n",
    "\n",
    "b.append(1)\n",
    "c.append(x)\n",
    "\n",
    "j = 0\n",
    "for i in range(1,n):\n",
    "    if a[i]==x:\n",
    "        b[j]+=1\n",
    "    else:\n",
    "        x = a[i]\n",
    "        b.append(1)\n",
    "        c.append(x)\n",
    "        j += 1\n",
    "\n",
    "\n",
    "for m in range(len(b)):\n",
    "    if b[m]<k:\n",
    "        x = a.index(c[m])\n",
    "        for j in range(b[m]):\n",
    "            a.remove(c[m])\n",
    "        a.insert(x,0)\n",
    "            \n",
    "        \n",
    "print(\"a =\",a)\n",
    "print(\"B =\",b)\n",
    "print(\"C =\",c)"
   ]
  },
  {
   "cell_type": "code",
   "execution_count": 86,
   "id": "c7f688c4",
   "metadata": {},
   "outputs": [
    {
     "name": "stdout",
     "output_type": "stream",
     "text": [
      "N = 10\n",
      "K = 2\n",
      "A = [1, 4, 2, 4, 5, 5, 2, 4, 3, 3]\n",
      "a = [1, 4, 2, 4, 0, 2, 4, 0]\n",
      "B = [1, 1, 1, 1, 2, 1, 1, 2]\n",
      "C = [1, 4, 2, 4, 5, 2, 4, 3]\n"
     ]
    }
   ],
   "source": [
    "# Array126\n",
    "from random import randint\n",
    "n = int(input(\"N = \"))\n",
    "k = int(input(\"K = \"))\n",
    "a = [randint(1,5) for i in range(n)]\n",
    "print(\"A =\",a)\n",
    "x = a[0]\n",
    "b = []\n",
    "c = []\n",
    "\n",
    "b.append(1)\n",
    "c.append(x)\n",
    "\n",
    "j = 0\n",
    "for i in range(1,n):\n",
    "    if a[i]==x:\n",
    "        b[j]+=1\n",
    "    else:\n",
    "        x = a[i]\n",
    "        b.append(1)\n",
    "        c.append(x)\n",
    "        j += 1\n",
    "\n",
    "# b massivning indexslari\n",
    "idx = []\n",
    "for y in range(1,len(b)+1):\n",
    "    idx.append(y)\n",
    "\n",
    "for m in range(len(b)):\n",
    "    if b[m]==k:\n",
    "        \n",
    "        for j in range(b[m]):\n",
    "            a.pop(idx[m]-1)\n",
    "        a.insert(idx[m]-1,0)\n",
    "        \n",
    "print(\"a =\",a)\n",
    "print(\"B =\",b)\n",
    "print(\"C =\",c)"
   ]
  },
  {
   "cell_type": "code",
   "execution_count": 96,
   "id": "4b2cbd30",
   "metadata": {},
   "outputs": [
    {
     "name": "stdout",
     "output_type": "stream",
     "text": [
      "N = 10\n",
      "K = 1\n",
      "A = [4, 4, 3, 4, 3, 1, 3, 2, 2, 3]\n",
      "a = [0, 3, 4, 3, 1, 3, 0, 3]\n",
      "B = [2, 1, 1, 1, 1, 1, 2, 1]\n",
      "C = [4, 3, 4, 3, 1, 3, 2, 3]\n"
     ]
    }
   ],
   "source": [
    "# Array127\n",
    "from random import randint\n",
    "n = int(input(\"N = \"))\n",
    "k = int(input(\"K = \"))\n",
    "a = [randint(1,5) for i in range(n)]\n",
    "print(\"A =\",a)\n",
    "x = a[0]\n",
    "b = []\n",
    "c = []\n",
    "\n",
    "b.append(1)\n",
    "c.append(x)\n",
    "\n",
    "j = 0\n",
    "for i in range(1,n):\n",
    "    if a[i]==x:\n",
    "        b[j]+=1\n",
    "    else:\n",
    "        x = a[i]\n",
    "        b.append(1)\n",
    "        c.append(x)\n",
    "        j += 1\n",
    "\n",
    "# b massivning indexslari\n",
    "idx = []\n",
    "for y in range(1,len(b)+1):\n",
    "    idx.append(y)\n",
    "\n",
    "for m in range(len(b)):\n",
    "    if b[m]>k:\n",
    "        \n",
    "        for j in range(b[m]):\n",
    "            a.pop(idx[m]-1)\n",
    "        a.insert(idx[m]-1,0)\n",
    "        \n",
    "print(\"a =\",a)\n",
    "print(\"B =\",b)\n",
    "print(\"C =\",c)"
   ]
  },
  {
   "cell_type": "code",
   "execution_count": 9,
   "id": "b2095ef5",
   "metadata": {},
   "outputs": [
    {
     "name": "stdout",
     "output_type": "stream",
     "text": [
      "N = 15\n",
      "A = [2, 3, 1, 1, 1, 4, 2, 2, 2, 4, 3, 5, 3, 2, 5]\n",
      "[1, 1, 3, 1, 3, 1, 1, 1, 1, 1, 1]\n",
      "a = [2, 3, 1, 1, 1, 1, 4, 2, 2, 2, 4, 3, 5, 3, 2, 5]\n",
      "B = [1, 1, 4, 1, 3, 1, 1, 1, 1, 1, 1]\n",
      "C = [2, 3, 1, 4, 2, 4, 3, 5, 3, 2, 5]\n"
     ]
    }
   ],
   "source": [
    "# Array128\n",
    "from random import randint\n",
    "n = int(input(\"N = \"))\n",
    "a = [randint(1,5) for i in range(n)]\n",
    "print(\"A =\",a)\n",
    "x = a[0]\n",
    "b = []\n",
    "c = []\n",
    "\n",
    "b.append(1)\n",
    "c.append(x)\n",
    "\n",
    "j = 0\n",
    "for i in range(1,n):\n",
    "    if a[i]==x:\n",
    "        b[j]+=1\n",
    "    else:\n",
    "        x = a[i]\n",
    "        b.append(1)\n",
    "        c.append(x)\n",
    "        j += 1\n",
    "print(b)\n",
    "k = b.index(max(b))\n",
    "b[k] += 1\n",
    "\n",
    "a.clear()\n",
    "for i in range(len(b)):\n",
    "    for j in range(b[i]):\n",
    "        a.append(c[i])   \n",
    "print(\"a =\",a)\n",
    "print(\"B =\",b)\n",
    "print(\"C =\",c)"
   ]
  },
  {
   "cell_type": "code",
   "execution_count": null,
   "id": "17b8442e",
   "metadata": {},
   "outputs": [],
   "source": [
    "# Array129\n",
    "from random import randint\n",
    "n = int(input(\"N = \"))\n",
    "a = [randint(1,5) for i in range(n)]\n",
    "print(\"A =\",a)\n",
    "x = a[0]\n",
    "b = []\n",
    "c = []\n",
    "\n",
    "b.append(1)\n",
    "c.append(x)\n",
    "\n",
    "j = 0\n",
    "for i in range(1,n):\n",
    "    if a[i]==x:\n",
    "        b[j]+=1\n",
    "    else:\n",
    "        x = a[i]\n",
    "        b.append(1)\n",
    "        c.append(x)\n",
    "        j += 1\n",
    "print(b)\n",
    "k = b.index(max(b))\n",
    "b[k] += 1\n",
    "\n",
    "a.clear()\n",
    "for i in range(len(b)):\n",
    "    for j in range(b[i]):\n",
    "        a.append(c[i])   \n",
    "print(\"a =\",a)\n",
    "print(\"B =\",b)\n",
    "print(\"C =\",c)"
   ]
  },
  {
   "cell_type": "code",
   "execution_count": null,
   "id": "e82c6168",
   "metadata": {},
   "outputs": [],
   "source": [
    "# Array130"
   ]
  },
  {
   "cell_type": "code",
   "execution_count": 108,
   "id": "0922efff",
   "metadata": {},
   "outputs": [
    {
     "name": "stdout",
     "output_type": "stream",
     "text": [
      "N = 5\n",
      "BX = 2\n",
      "BY = 3\n",
      "[1, 5, -2, -5, 4] [-4, 5, 0, 5, 4]\n",
      "Eng yaqin nuqta: 6.855654600401044\n"
     ]
    }
   ],
   "source": [
    "# Array131\n",
    "from random import randint\n",
    "\n",
    "n = int(input(\"N = \"))\n",
    "bx = int(input(\"BX = \"))\n",
    "by = int(input(\"BY = \"))\n",
    "\n",
    "for i in range(n):\n",
    "    x = [randint(-n,n) for _ in range(n)]\n",
    "    y = [randint(-n,n) for _ in range(n)]\n",
    "print(x,y)\n",
    "\n",
    "for j in range(n-1): \n",
    "    mini = ((bx-x[j])**2+(by-y[j]))**0.5\n",
    "    mini1 = ((x[j]-x[j+1])**2+(y[j]-y[j+1]))**0.5\n",
    "    if mini>mini1:\n",
    "        mini = mini1\n",
    "print(\"Eng yaqin nuqta:\",mini)"
   ]
  },
  {
   "cell_type": "code",
   "execution_count": 1032,
   "id": "64be052a",
   "metadata": {},
   "outputs": [
    {
     "name": "stdout",
     "output_type": "stream",
     "text": [
      "N = 10\n",
      "[-9, 1, 3, 1, -8, -7, -8, 9, -3, 0] [-3, -2, -7, -1, 7, -2, -6, 6, 1, -6]\n",
      "x y = [ -8 7 ]\n",
      "Eng uzoq masofa: 8.426149773176359\n"
     ]
    }
   ],
   "source": [
    "# Array132\n",
    "from random import randint\n",
    "n = int(input(\"N = \"))\n",
    "\n",
    "for i in range(n):\n",
    "    x = [randint(-9,9) for _ in range(n)]\n",
    "    y = [randint(-9,9) for _ in range(n)]\n",
    "print(x,y)\n",
    "s = 0\n",
    "d1 = 0\n",
    "for j in range(n):\n",
    "    d = ((x[j])**2+(y[j]))**0.5\n",
    "    if x[j]<0 and y[j]>0:\n",
    "        if d>d1:\n",
    "            d1 = d\n",
    "            a = x[j]\n",
    "            b = y[j]\n",
    "            s += 1\n",
    "if s>0:\n",
    "    print(\"x y = [\",a,b,\"]\")\n",
    "    print(\"Eng uzoq masofa:\",d1)\n",
    "else:\n",
    "    print(0)"
   ]
  },
  {
   "cell_type": "code",
   "execution_count": 1042,
   "id": "7e598d65",
   "metadata": {},
   "outputs": [
    {
     "name": "stdout",
     "output_type": "stream",
     "text": [
      "N = 10\n",
      "[5, 5, -2, 5, -6, 6, -2, -9, -9, 4] [1, 9, 8, 6, -5, -6, 9, -5, 2, 9]\n",
      "x y = [ -9 -5 ]\n",
      "Eng uzoq masofa: 8.717797887081348\n",
      "Uchinchi chorak\n"
     ]
    }
   ],
   "source": [
    "# Array133\n",
    "from random import randint\n",
    "n = int(input(\"N = \"))\n",
    "\n",
    "for i in range(n):\n",
    "    x = [randint(-9,9) for _ in range(n)]\n",
    "    y = [randint(-9,9) for _ in range(n)]\n",
    "print(x,y)\n",
    "s = 0\n",
    "d1 = 0\n",
    "for j in range(n):\n",
    "    d = ((x[j])**2+(y[j]))**0.5\n",
    "    if x[j]>0 and y[j]>0 or x[j]<0 and y[j]<0:\n",
    "        if d>d1:\n",
    "            d1 = d\n",
    "            a = x[j]\n",
    "            b = y[j]\n",
    "            s += 1\n",
    "if s>0:\n",
    "    print(\"x y = [\",a,b,\"]\")\n",
    "    print(\"Eng uzoq masofa:\",d1)\n",
    "    if a>0 and b>0:\n",
    "        print(\"Birinchi chorak\")\n",
    "    elif a<0 and b<0:\n",
    "        print(\"Uchinchi chorak\")\n",
    "else:\n",
    "    print(0)"
   ]
  },
  {
   "cell_type": "code",
   "execution_count": 1045,
   "id": "dcdfc411",
   "metadata": {},
   "outputs": [
    {
     "name": "stdout",
     "output_type": "stream",
     "text": [
      "N = 10\n",
      "[4, 9, -2, -8, 7, 9, 0, -4, 3, 6] [-8, -4, -9, -1, 9, -1, -2, 3, 10, 3]\n",
      "Eng uzoq nuqta: 6.48074069840786\n"
     ]
    }
   ],
   "source": [
    "# Array134\n",
    "from random import randint\n",
    "\n",
    "n = int(input(\"N = \"))\n",
    "\n",
    "for i in range(n):\n",
    "    x = [randint(-n,n) for _ in range(n)]\n",
    "    y = [randint(-n,n) for _ in range(n)]\n",
    "print(x,y)\n",
    "for j in range(1,n-1):\n",
    "    d = ((x[j-1]-x[j])**2+(y[j-1]-y[j]))**0.5\n",
    "    d1 = ((x[j]-x[j+1])**2+(y[j]-y[j+1]))**0.5\n",
    "    if d<d1:\n",
    "        d = d1\n",
    "print(\"Eng uzoq nuqta:\",d)"
   ]
  },
  {
   "cell_type": "code",
   "execution_count": 1047,
   "id": "be066965",
   "metadata": {},
   "outputs": [
    {
     "name": "stdout",
     "output_type": "stream",
     "text": [
      "N1 = 10\n",
      "N2 = 3\n",
      "[-9, 7, -5, -7, 1, 5, -7, -6, 0, -1] [-1, 6, 7, -7, -6, -5, 5, 8, -8, -7]\n",
      "[-3, -3, 7] [-5, -1, 4]\n",
      "Eng uzoq nuqta: 12.12435565298214\n"
     ]
    }
   ],
   "source": [
    "# Array135\n",
    "from random import randint\n",
    "\n",
    "n1 = int(input(\"N1 = \"))\n",
    "n2 = int(input(\"N2 = \"))\n",
    "\n",
    "for _ in range(n1):\n",
    "    x1 = [randint(-9,9) for _ in range(n1)]\n",
    "    y1 = [randint(-9,9) for _ in range(n1)]\n",
    "print(x1,y1)\n",
    "for _ in range(n2):\n",
    "    x2 = [randint(-9,9) for _ in range(n2)]\n",
    "    y2 = [randint(-9,9) for _ in range(n2)]\n",
    "print(x2,y2)\n",
    "if n1==n2:\n",
    "    for j in range(1,n1):\n",
    "        d = ((x1[j]-x2[j])**2+(y1[j]-y2[j]))**0.5\n",
    "        d1 = ((x1[j-1]-x2[j-1])**2+(y1[j-1]-y2[j-1]))**0.5\n",
    "        if d<d1:\n",
    "            d = d1\n",
    "elif n1<n2:\n",
    "    for j in range(1,n1):\n",
    "        d = ((x1[j]-x2[j])**2+(y1[j]-y2[j]))**0.5\n",
    "        d1 = ((x1[j-1]-x2[j-1])**2+(y1[j-1]-y2[j-1]))**0.5\n",
    "        if d<d1:\n",
    "            d = d1\n",
    "else:\n",
    "    for j in range(1,n2):\n",
    "        d = ((x1[j]-x2[j])**2+(y1[j]-y2[j]))**0.5\n",
    "        d1 = ((x1[j-1]-x2[j-1])**2+(y1[j-1]-y2[j-1]))**0.5\n",
    "        if d<d1:\n",
    "            d = d1\n",
    "print(\"Eng uzoq nuqta:\",d)"
   ]
  },
  {
   "cell_type": "code",
   "execution_count": null,
   "id": "47b69596",
   "metadata": {},
   "outputs": [],
   "source": [
    "# Array136\n"
   ]
  },
  {
   "cell_type": "code",
   "execution_count": null,
   "id": "5bfa8d53",
   "metadata": {},
   "outputs": [],
   "source": [
    "# Array137\n"
   ]
  },
  {
   "cell_type": "code",
   "execution_count": null,
   "id": "66a0a4f5",
   "metadata": {},
   "outputs": [],
   "source": [
    "# Array138\n"
   ]
  },
  {
   "cell_type": "code",
   "execution_count": null,
   "id": "5e6e31ec",
   "metadata": {},
   "outputs": [],
   "source": [
    "# Array139\n"
   ]
  },
  {
   "cell_type": "code",
   "execution_count": null,
   "id": "0f5c89fc",
   "metadata": {},
   "outputs": [],
   "source": [
    "# Array140\n"
   ]
  },
  {
   "cell_type": "code",
   "execution_count": 765,
   "id": "262ba446",
   "metadata": {},
   "outputs": [
    {
     "name": "stdout",
     "output_type": "stream",
     "text": [
      "N = 10\n",
      "[6, 7, 4, 1, 5, 5, 4, 1, 7, 8]\n",
      "[6, 0, 7, 0, 4, 1, 0, 5, 0, 0, 5, 0, 4, 1, 0, 7, 0, 8]\n"
     ]
    }
   ],
   "source": [
    "# Tub son oldi va orqasiga 0 qo'shish\n",
    "from random import randint\n",
    "n = int(input(\"N = \"))\n",
    "a = [randint(1,9) for i in range(n)]\n",
    "print(a)\n",
    "def tub(x):\n",
    "    s = 0\n",
    "    if x==1:\n",
    "        return False\n",
    "    for j in range(2, int(x**0.5)+1):\n",
    "        if x%j==0:\n",
    "            s += 1\n",
    "    if s==0:\n",
    "        return True\n",
    "    return False\n",
    "\n",
    "i = 0\n",
    "while i<len(a):\n",
    "    if tub(a[i]):\n",
    "        a.insert(i+1,0)\n",
    "        a.insert(i,0)\n",
    "        i+=2\n",
    "    i+=1\n",
    "print(a)"
   ]
  },
  {
   "cell_type": "code",
   "execution_count": null,
   "id": "5e4ee184",
   "metadata": {},
   "outputs": [],
   "source": []
  }
 ],
 "metadata": {
  "kernelspec": {
   "display_name": "Python 3 (ipykernel)",
   "language": "python",
   "name": "python3"
  },
  "language_info": {
   "codemirror_mode": {
    "name": "ipython",
    "version": 3
   },
   "file_extension": ".py",
   "mimetype": "text/x-python",
   "name": "python",
   "nbconvert_exporter": "python",
   "pygments_lexer": "ipython3",
   "version": "3.9.9"
  }
 },
 "nbformat": 4,
 "nbformat_minor": 5
}
