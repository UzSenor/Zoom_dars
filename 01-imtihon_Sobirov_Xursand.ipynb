{
 "cells": [
  {
   "cell_type": "markdown",
   "id": "9dbf5b45",
   "metadata": {},
   "source": [
    "# Sobirov Xursand"
   ]
  },
  {
   "cell_type": "code",
   "execution_count": 8,
   "id": "41564b9d",
   "metadata": {},
   "outputs": [
    {
     "name": "stdout",
     "output_type": "stream",
     "text": [
      "A = 1\n",
      "B = 2\n",
      "C = 3\n",
      "D = 4\n",
      "4 3 1 2\n"
     ]
    }
   ],
   "source": [
    "# 1. 4ta son berilgan shu 4ta sonni 5-son qo'shmasdan va boshqa toifa ishlatmasdan, \n",
    "# 4tasini qiymatini almashtiruvchi dastur tuzing!\n",
    "a = int(input(\"A = \"))\n",
    "b = int(input(\"B = \"))\n",
    "c = int(input(\"C = \"))\n",
    "d = int(input(\"D = \"))\n",
    "a = a + b + c + d\n",
    "c = a - (b + c + d)\n",
    "b = a - (b + c + d)\n",
    "d = a - (b + c + d)\n",
    "a = a - (b + c + d)\n",
    "print(a, b, c, d)"
   ]
  },
  {
   "cell_type": "code",
   "execution_count": 10,
   "id": "1af1aa9b",
   "metadata": {},
   "outputs": [
    {
     "name": "stdout",
     "output_type": "stream",
     "text": [
      "4 xonali son: 1234\n",
      "4321\n"
     ]
    }
   ],
   "source": [
    "# 2. 4 xonali son berilgan, shu sonlarni teskari tartibda yozuvchi dastur tuzing. \n",
    "# While, for, satr ishlatish mumkin emas\n",
    "a = int(input(\"4 xonali son: \"))\n",
    "bir = a % 10\n",
    "on = a // 10 % 10\n",
    "yuz = a // 100 % 10\n",
    "ming = a // 1000\n",
    "print(bir*1000+on*100+yuz*10+ming)"
   ]
  },
  {
   "cell_type": "code",
   "execution_count": 13,
   "id": "4d01ef9e",
   "metadata": {},
   "outputs": [
    {
     "name": "stdout",
     "output_type": "stream",
     "text": [
      "A = 12\n",
      "B = 3\n",
      "C = 24\n",
      "O'rtacha son:  12\n"
     ]
    }
   ],
   "source": [
    "# 3. 3ta son berilgan shu 3ta sonning o'rtancha qiymatga ega sonni toping:\n",
    "# Masalan: 6, 11, 100 kiritilsa javob 6 chiqishi kerak\n",
    "a = int(input(\"A = \"))\n",
    "b = int(input(\"B = \"))\n",
    "c = int(input(\"C = \"))\n",
    "if a<b<c or c<b<a:\n",
    "    print(\"O'rtacha son: \", b)\n",
    "if b<a<c or c<a<b:\n",
    "    print(\"O'rtacha son: \", a)\n",
    "if b<c<a or a<c<b:\n",
    "    print(\"O'rtacha son: \", c)"
   ]
  },
  {
   "cell_type": "code",
   "execution_count": 16,
   "id": "764c6466",
   "metadata": {},
   "outputs": [
    {
     "name": "stdout",
     "output_type": "stream",
     "text": [
      "N=3\n",
      "X=2\n",
      "Yig'indi: 0.9333333333333333\n"
     ]
    }
   ],
   "source": [
    "# 4. for 23 misolni ishlash kerak\n",
    "# For23. n butun son va x haqiqiy son berilgan(n>0). Quyidagi x-(x**3)/(3!)...-1**n*x**(2*n+1)/(2*n+1)! topuvchi dastur tuzing.\n",
    "n = int(input(\"N=\"))\n",
    "x = int(float(input(\"X=\")))\n",
    "s=x\n",
    "f=1\n",
    "minus=-1\n",
    "for i in range(3, 2*n+1,2):\n",
    "    f*=i*(i-1)\n",
    "    s+=minus*x**i/f\n",
    "    minus*=-1\n",
    "print(\"Yig'indi:\", s)"
   ]
  },
  {
   "cell_type": "code",
   "execution_count": 96,
   "id": "6bb1977d",
   "metadata": {},
   "outputs": [
    {
     "name": "stdout",
     "output_type": "stream",
     "text": [
      "N = 3\n",
      "Son: -2\n",
      "Son: 3\n",
      "Son: -4\n",
      "Musbat eng kichigi: 3\n"
     ]
    }
   ],
   "source": [
    "# 5. N ta son berilgan shu N ta sonning ichidan eng kichik musbat sonni topish kerak.\n",
    "lst=[]\n",
    "n = int(input(\"N = \"))\n",
    "for i in range(1, n+1):\n",
    "    x = int(input(\"Son: \"))\n",
    "    if x>0:\n",
    "        lst.append(x)\n",
    "print(\"Musbat eng kichigi:\",min(lst))"
   ]
  }
 ],
 "metadata": {
  "kernelspec": {
   "display_name": "Python 3 (ipykernel)",
   "language": "python",
   "name": "python3"
  },
  "language_info": {
   "codemirror_mode": {
    "name": "ipython",
    "version": 3
   },
   "file_extension": ".py",
   "mimetype": "text/x-python",
   "name": "python",
   "nbconvert_exporter": "python",
   "pygments_lexer": "ipython3",
   "version": "3.9.9"
  }
 },
 "nbformat": 4,
 "nbformat_minor": 5
}
