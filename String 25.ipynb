{
 "cells": [
  {
   "cell_type": "code",
   "execution_count": 66,
   "id": "5f3e8556",
   "metadata": {},
   "outputs": [
    {
     "name": "stdout",
     "output_type": "stream",
     "text": [
      "Belgi: .\n",
      "46\n"
     ]
    }
   ],
   "source": [
    "# String 1\n",
    "st = input(\"Belgi: \")\n",
    "print(ord(st))"
   ]
  },
  {
   "cell_type": "code",
   "execution_count": 5,
   "id": "064a2498",
   "metadata": {},
   "outputs": [
    {
     "name": "stdout",
     "output_type": "stream",
     "text": [
      "Butun son(32<=n<=126): 126\n",
      "~\n"
     ]
    }
   ],
   "source": [
    "# String 2\n",
    "n = int(input(\"Butun son(32<=n<=126): \"))\n",
    "print(chr(n))"
   ]
  },
  {
   "cell_type": "code",
   "execution_count": 9,
   "id": "669b832c",
   "metadata": {},
   "outputs": [
    {
     "name": "stdout",
     "output_type": "stream",
     "text": [
      "Belgi: W\n",
      "V W X\n"
     ]
    }
   ],
   "source": [
    "# String 3\n",
    "st = input(\"Belgi: \")\n",
    "n = ord(st)\n",
    "print(chr(n-1),chr(n),chr(n+1))"
   ]
  },
  {
   "cell_type": "code",
   "execution_count": 118,
   "id": "2c7868de",
   "metadata": {},
   "outputs": [
    {
     "name": "stdout",
     "output_type": "stream",
     "text": [
      "N = 26\n",
      "A B C D E F G H I J K L M N O P Q R S T U V W X Y Z "
     ]
    }
   ],
   "source": [
    "# String 4\n",
    "n = int(input(\"N = \"))\n",
    "for i in range(ord(\"A\"), n+ord(\"A\")):\n",
    "    print(chr(i), end=\" \")"
   ]
  },
  {
   "cell_type": "code",
   "execution_count": 117,
   "id": "01a1cf91",
   "metadata": {},
   "outputs": [
    {
     "name": "stdout",
     "output_type": "stream",
     "text": [
      "N = 26\n",
      "z y x w v u t s r q p o n m l k j i h g f e d c b a "
     ]
    }
   ],
   "source": [
    "# String 5\n",
    "n = int(input(\"N = \"))\n",
    "for i in range(n+ord(\"a\")-1, ord(\"a\")-1, -1):\n",
    "    print(chr(i), end=\" \")"
   ]
  },
  {
   "cell_type": "code",
   "execution_count": 67,
   "id": "63d4fdef",
   "metadata": {},
   "outputs": [
    {
     "name": "stdout",
     "output_type": "stream",
     "text": [
      "( 32 -   )\t( 33 - ! )\t( 34 - \" )\t( 35 - # )\t( 36 - $ )\t( 37 - % )\t( 38 - & )\t( 39 - ' )\t( 40 - ( )\t( 41 - ) )\t( 42 - * )\t( 43 - + )\t( 44 - , )\t( 45 - - )\t( 46 - . )\t( 47 - / )\t( 48 - 0 )\t( 49 - 1 )\t( 50 - 2 )\t( 51 - 3 )\t( 52 - 4 )\t( 53 - 5 )\t( 54 - 6 )\t( 55 - 7 )\t( 56 - 8 )\t( 57 - 9 )\t( 58 - : )\t( 59 - ; )\t( 60 - < )\t( 61 - = )\t( 62 - > )\t( 63 - ? )\t( 64 - @ )\t( 65 - A )\t( 66 - B )\t( 67 - C )\t( 68 - D )\t( 69 - E )\t( 70 - F )\t( 71 - G )\t( 72 - H )\t( 73 - I )\t( 74 - J )\t( 75 - K )\t( 76 - L )\t( 77 - M )\t( 78 - N )\t( 79 - O )\t( 80 - P )\t( 81 - Q )\t( 82 - R )\t( 83 - S )\t( 84 - T )\t( 85 - U )\t( 86 - V )\t( 87 - W )\t( 88 - X )\t( 89 - Y )\t( 90 - Z )\t( 91 - [ )\t( 92 - \\ )\t( 93 - ] )\t( 94 - ^ )\t( 95 - _ )\t( 96 - ` )\t( 97 - a )\t( 98 - b )\t( 99 - c )\t( 100 - d )\t( 101 - e )\t( 102 - f )\t( 103 - g )\t( 104 - h )\t( 105 - i )\t( 106 - j )\t( 107 - k )\t( 108 - l )\t( 109 - m )\t( 110 - n )\t( 111 - o )\t( 112 - p )\t( 113 - q )\t( 114 - r )\t( 115 - s )\t( 116 - t )\t( 117 - u )\t( 118 - v )\t( 119 - w )\t( 120 - x )\t( 121 - y )\t( 122 - z )\t( 123 - { )\t( 124 - | )\t( 125 - } )\t( 126 - ~ )\t"
     ]
    }
   ],
   "source": [
    "# Belgilar \n",
    "for i in range(32, 127):\n",
    "    print(\"(\",i,\"-\", chr(i),\")\", end=\"\\t\")"
   ]
  },
  {
   "cell_type": "code",
   "execution_count": 30,
   "id": "77a44517",
   "metadata": {},
   "outputs": [
    {
     "name": "stdout",
     "output_type": "stream",
     "text": [
      "Belgi: X\n",
      "Lotin\n"
     ]
    }
   ],
   "source": [
    "# String 6\n",
    "st = input(\"Belgi: \")\n",
    "if 48<=ord(st)<=57:\n",
    "    print(\"Raqam\")\n",
    "elif 65<=ord(st)<=90 or 97<=ord(st)<=122:\n",
    "    print(\"Lotin\")\n",
    "else:\n",
    "    print(0)"
   ]
  },
  {
   "cell_type": "code",
   "execution_count": 32,
   "id": "87cfe36c",
   "metadata": {},
   "outputs": [
    {
     "name": "stdout",
     "output_type": "stream",
     "text": [
      "So'z kiriting: Hello\n",
      "H o\n"
     ]
    }
   ],
   "source": [
    "# String 7\n",
    "st = input(\"So'z kiriting: \")\n",
    "print(st[0], st[-1])"
   ]
  },
  {
   "cell_type": "code",
   "execution_count": 34,
   "id": "3375a7ca",
   "metadata": {},
   "outputs": [
    {
     "name": "stdout",
     "output_type": "stream",
     "text": [
      "N = 10\n",
      "Belgi: X\n",
      "Natija: XXXXXXXXXX\n"
     ]
    }
   ],
   "source": [
    "# String 8\n",
    "n = int(input(\"N = \"))\n",
    "st = input(\"Belgi: \")\n",
    "print(\"Natija:\",st*n)"
   ]
  },
  {
   "cell_type": "code",
   "execution_count": 36,
   "id": "7fe11c54",
   "metadata": {},
   "outputs": [
    {
     "name": "stdout",
     "output_type": "stream",
     "text": [
      "Satr 1: Salom\n",
      "Satr 2: Dunyo\n",
      "Yangi satr: SalomDunyo\n"
     ]
    }
   ],
   "source": [
    "# String 9 \n",
    "st1 = input(\"Satr 1: \")\n",
    "st2 = input(\"Satr 2: \")\n",
    "print(\"Yangi satr:\", st1+st2)"
   ]
  },
  {
   "cell_type": "code",
   "execution_count": 37,
   "id": "69293d76",
   "metadata": {},
   "outputs": [
    {
     "name": "stdout",
     "output_type": "stream",
     "text": [
      "Satr: Salom\n",
      "molaS\n"
     ]
    }
   ],
   "source": [
    "# String 10\n",
    "st = input(\"Satr: \")\n",
    "print(st[::-1])"
   ]
  },
  {
   "cell_type": "code",
   "execution_count": 40,
   "id": "0529ce74",
   "metadata": {},
   "outputs": [
    {
     "name": "stdout",
     "output_type": "stream",
     "text": [
      "Satr: Salom\n",
      "S a l o m "
     ]
    }
   ],
   "source": [
    "# String 11\n",
    "st = input(\"Satr: \")\n",
    "for i in range(len(st)):\n",
    "    print(st[i], end=\" \")"
   ]
  },
  {
   "cell_type": "code",
   "execution_count": 126,
   "id": "1c9e3424",
   "metadata": {},
   "outputs": [
    {
     "name": "stdout",
     "output_type": "stream",
     "text": [
      "Satr: Salom\n",
      "N = 3\n",
      "S***a***l***o***m***\n"
     ]
    }
   ],
   "source": [
    "# String 12\n",
    "st = input(\"Satr: \")\n",
    "st1 = \"\"\n",
    "n = int(input(\"N = \"))\n",
    "for i in st:\n",
    "    if i!=\" \":\n",
    "        st1 += i+\"*\"*n\n",
    "print(st1)"
   ]
  },
  {
   "cell_type": "code",
   "execution_count": 48,
   "id": "54070463",
   "metadata": {},
   "outputs": [
    {
     "name": "stdout",
     "output_type": "stream",
     "text": [
      "Satr: asdf3235defw3d2312e\n",
      "Raqamlar soni: 9\n"
     ]
    }
   ],
   "source": [
    "# String 13\n",
    "st = input(\"Satr: \")\n",
    "s = 0\n",
    "for i in range(len(st)):\n",
    "    order = ord(st[i])\n",
    "    if 48<=order<=57:\n",
    "        s += 1\n",
    "print(\"Raqamlar soni:\", s)"
   ]
  },
  {
   "cell_type": "code",
   "execution_count": 50,
   "id": "e7b388ce",
   "metadata": {},
   "outputs": [
    {
     "name": "stdout",
     "output_type": "stream",
     "text": [
      "Satr: dsfsdfASasdfasA\n",
      "Katta lotin harflar soni: 3\n"
     ]
    }
   ],
   "source": [
    "# String 14\n",
    "st = input(\"Satr: \")\n",
    "s = 0\n",
    "for i in range(len(st)):\n",
    "    order = ord(st[i])\n",
    "    if 65<=order<=90:\n",
    "        s += 1\n",
    "print(\"Katta lotin harflar soni:\", s)"
   ]
  },
  {
   "cell_type": "code",
   "execution_count": 129,
   "id": "308695da",
   "metadata": {},
   "outputs": [
    {
     "name": "stdout",
     "output_type": "stream",
     "text": [
      "Satr: СAlOm\n",
      "Kichik lotin va kiril harflar soni: 2\n"
     ]
    }
   ],
   "source": [
    "# String 15\n",
    "st = input(\"Satr: \")\n",
    "s = 0\n",
    "for i in st:\n",
    "    if \"a\"<=i<=\"z\" or \"а\"<=i<=\"я\":\n",
    "        s += 1\n",
    "print(\"Kichik lotin va kiril harflar soni:\", s)"
   ]
  },
  {
   "cell_type": "code",
   "execution_count": 62,
   "id": "bf2b8cba",
   "metadata": {},
   "outputs": [
    {
     "name": "stdout",
     "output_type": "stream",
     "text": [
      "Satr: СAlOm\n",
      "Сalom"
     ]
    }
   ],
   "source": [
    "# String 16\n",
    "st = input(\"Satr: \")\n",
    "for i in range(len(st)):\n",
    "    order = ord(st[i])\n",
    "    if 65<=order<=90:\n",
    "        st1 = chr(order+32)\n",
    "    else:\n",
    "        st1 = st[i]\n",
    "    print(st1, end=\"\")"
   ]
  },
  {
   "cell_type": "code",
   "execution_count": 63,
   "id": "9be87112",
   "metadata": {},
   "outputs": [
    {
     "name": "stdout",
     "output_type": "stream",
     "text": [
      "Satr: СаЛOM\n",
      "салom"
     ]
    }
   ],
   "source": [
    "# String 17\n",
    "st = input(\"Satr: \")\n",
    "for i in range(len(st)):\n",
    "    order = ord(st[i])\n",
    "    if 65<=order<=90 or 1040<=order<=1071:\n",
    "        st1 = chr(order+32)\n",
    "    else:\n",
    "        st1 = st[i]\n",
    "    print(st1, end=\"\")"
   ]
  },
  {
   "cell_type": "code",
   "execution_count": 64,
   "id": "970bb650",
   "metadata": {},
   "outputs": [
    {
     "name": "stdout",
     "output_type": "stream",
     "text": [
      "Satr: CaЛоM\n",
      "cAлОm"
     ]
    }
   ],
   "source": [
    "# String 18\n",
    "st = input(\"Satr: \")\n",
    "for i in range(len(st)):\n",
    "    order = ord(st[i])\n",
    "    if 65<=order<=90 or 1040<=order<=1071:\n",
    "        st1 = chr(order+32)\n",
    "    elif 97<=order<=122 or 1072<=order<=1103:\n",
    "        st1 = chr(order-32)\n",
    "    print(st1, end=\"\")"
   ]
  },
  {
   "cell_type": "code",
   "execution_count": 75,
   "id": "c523f46f",
   "metadata": {},
   "outputs": [
    {
     "name": "stdout",
     "output_type": "stream",
     "text": [
      "Satr: asd\n",
      "0\n"
     ]
    }
   ],
   "source": [
    "# String 19\n",
    "st = input(\"Satr: \")\n",
    "s = 0\n",
    "for i in range(len(st)):\n",
    "    order = ord(st[i])\n",
    "    if 48<=order<=57:\n",
    "        s = 1\n",
    "    elif order==46:\n",
    "        s = 2\n",
    "        break\n",
    "    else:\n",
    "        s = 0\n",
    "print(s)"
   ]
  },
  {
   "cell_type": "code",
   "execution_count": 140,
   "id": "c0bde6b8",
   "metadata": {},
   "outputs": [
    {
     "name": "stdout",
     "output_type": "stream",
     "text": [
      "Satr: --1.4\n",
      "Haqiqiy\n"
     ]
    }
   ],
   "source": [
    "st = input(\"Satr: \")\n",
    "\n",
    "for i in st:\n",
    "    if \"0\" <= i <= \"9\" or i == \".\" or st[0]==\"-\":\n",
    "        if st.count(\".\")==0 or :\n",
    "            butun = True\n",
    "        if st.count(\".\")==1:\n",
    "            haqiqiy = True\n",
    "    else:\n",
    "        butun, haqiqy = False, False\n",
    "        break\n",
    "if butun:\n",
    "    print(\"Butun\")\n",
    "elif haqiqiy:\n",
    "    print(\"Haqiqiy\")\n",
    "else:\n",
    "    print(\"Satr\")"
   ]
  },
  {
   "cell_type": "code",
   "execution_count": 85,
   "id": "9ea6da9c",
   "metadata": {},
   "outputs": [
    {
     "name": "stdout",
     "output_type": "stream",
     "text": [
      "Satr: 123a\n",
      "Satirda boshqa belgilar bor\n"
     ]
    }
   ],
   "source": [
    "# String 20\n",
    "st = input(\"Satr: \")\n",
    "for i in range(len(st)):\n",
    "    if 48<=ord(st[i])<=57:\n",
    "        s = 1\n",
    "    else:\n",
    "        s = 0\n",
    "        break\n",
    "\n",
    "if s == 1:\n",
    "    print(st[:], end=\" \")\n",
    "else:\n",
    "    print(\"Satirda boshqa belgilar bor\")"
   ]
  },
  {
   "cell_type": "code",
   "execution_count": 141,
   "id": "def88260",
   "metadata": {},
   "outputs": [
    {
     "name": "stdout",
     "output_type": "stream",
     "text": [
      "Satr: 123\n",
      "321 "
     ]
    }
   ],
   "source": [
    "# String 21\n",
    "st = input(\"Satr: \")\n",
    "for i in range(len(st)):\n",
    "    if 48<=ord(st[i])<=57:\n",
    "        s = 1\n",
    "    else:\n",
    "        s = 0\n",
    "        break\n",
    "if s == 1:\n",
    "    print(st[::-1], end=\" \")\n",
    "else:\n",
    "    print(\"Satirda boshqa belgilar bor\")"
   ]
  },
  {
   "cell_type": "code",
   "execution_count": 6,
   "id": "a2d3b751",
   "metadata": {},
   "outputs": [
    {
     "name": "stdout",
     "output_type": "stream",
     "text": [
      "Satr: 12345\n",
      "15\n"
     ]
    }
   ],
   "source": [
    "# String 22\n",
    "st = input(\"Satr: \")\n",
    "x = 0\n",
    "for i in st:\n",
    "    if \"0\"<= i <=\"9\":\n",
    "        s = 1\n",
    "    else:\n",
    "        s = 0\n",
    "        break\n",
    "    if s == 1:\n",
    "        x += int(i)\n",
    "\n",
    "print(x)"
   ]
  },
  {
   "cell_type": "code",
   "execution_count": 5,
   "id": "53957aed",
   "metadata": {},
   "outputs": [
    {
     "name": "stdout",
     "output_type": "stream",
     "text": [
      "Satr: 1+2+5\n",
      "8\n"
     ]
    }
   ],
   "source": [
    "# String 23\n",
    "st = input(\"Satr: \")\n",
    "x = True\n",
    "natija = 0\n",
    "for i in st:\n",
    "    if i == \"+\":\n",
    "        x = True\n",
    "        continue\n",
    "    if i == \"-\":\n",
    "        x = False\n",
    "        continue\n",
    "        \n",
    "    if x==True:\n",
    "        natija += int(i)\n",
    "    else:\n",
    "        natija -= int(i)\n",
    "print(natija)"
   ]
  },
  {
   "cell_type": "code",
   "execution_count": null,
   "id": "802c0009",
   "metadata": {},
   "outputs": [],
   "source": []
  }
 ],
 "metadata": {
  "kernelspec": {
   "display_name": "Python 3 (ipykernel)",
   "language": "python",
   "name": "python3"
  },
  "language_info": {
   "codemirror_mode": {
    "name": "ipython",
    "version": 3
   },
   "file_extension": ".py",
   "mimetype": "text/x-python",
   "name": "python",
   "nbconvert_exporter": "python",
   "pygments_lexer": "ipython3",
   "version": "3.9.9"
  }
 },
 "nbformat": 4,
 "nbformat_minor": 5
}
