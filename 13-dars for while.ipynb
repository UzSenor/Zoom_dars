{
 "cells": [
  {
   "cell_type": "code",
   "execution_count": 43,
   "id": "96431ddb",
   "metadata": {},
   "outputs": [
    {
     "name": "stdout",
     "output_type": "stream",
     "text": [
      "N = 4\n",
      "M = 2\n",
      "2.0.0\n"
     ]
    }
   ],
   "source": [
    "n = int(input(\"N = \"))\n",
    "m = int(input(\"M = \"))\n",
    "s = 0\n",
    "s1 = 0\n",
    "while n>=m:\n",
    "    s += 1\n",
    "    n -= m\n",
    "if n!=0:\n",
    "    x = n\n",
    "    while x<m:\n",
    "        x -= m\n",
    "        x += 10\n",
    "        x -= m\n",
    "    while x<m:\n",
    "        x -= m\n",
    "        x += 10\n",
    "        x -= m\n",
    "print(s, n, n, sep=\".\")"
   ]
  },
  {
   "cell_type": "code",
   "execution_count": 55,
   "id": "fbe987f3",
   "metadata": {},
   "outputs": [
    {
     "name": "stdout",
     "output_type": "stream",
     "text": [
      "N = 30\n",
      "1 2 3 5 6 10 15 30 "
     ]
    }
   ],
   "source": [
    "# 1. N natural soni berilgan. Shu son bo'luvchilarini chiqaruvchi programma tuilsin.\n",
    "# Masalan: 30 ning bo'luvchilari 1, 2, 3, 5, 6, 10, 15, 30\n",
    "n = int(input(\"N = \"))\n",
    "for i in range(1, n+1):\n",
    "    if n%i==0:\n",
    "        print(i, end=\" \")"
   ]
  },
  {
   "cell_type": "code",
   "execution_count": 2,
   "id": "ac5367e4",
   "metadata": {},
   "outputs": [
    {
     "name": "stdout",
     "output_type": "stream",
     "text": [
      "N = 15\n",
      "24\n"
     ]
    }
   ],
   "source": [
    "# 2. N natural soni berilgan. Shu son bo'luvchilari yig'indisini chiqaruvchi programma tuilsin. \n",
    "# Masalan: N=15; javob: 24 ( chunki 1+3+5+15)\n",
    "n = int(input(\"N = \"))\n",
    "s = 0\n",
    "for i in range(1, n+1):\n",
    "    if n%i==0:\n",
    "        s += i\n",
    "print(s)"
   ]
  },
  {
   "cell_type": "code",
   "execution_count": 6,
   "id": "62ddf787",
   "metadata": {},
   "outputs": [
    {
     "name": "stdout",
     "output_type": "stream",
     "text": [
      "N = 5\n",
      "Mukammal emas\n"
     ]
    }
   ],
   "source": [
    "# 3. N natural soni berilgan. Shu son mukammal yoki mukammal emasligini aniqlovchi programma \n",
    "# tuzilsin. O'zidan boshqa bo'luvchilari yig'indisi o'ziga teng bo'lgan son mukammal son deyiladi. \n",
    "# Masalan: 6 = 1+2+3 mukammal son.\n",
    "n = int(input(\"N = \"))\n",
    "s = 0\n",
    "for i in range(1, n):\n",
    "    if n%i==0:\n",
    "        s += i\n",
    "if s==n:\n",
    "    print(\"Mukammal son\")\n",
    "else:\n",
    "    print(\"Mukammal emas\")"
   ]
  },
  {
   "cell_type": "code",
   "execution_count": 17,
   "id": "ebfe26f7",
   "metadata": {},
   "outputs": [
    {
     "name": "stdout",
     "output_type": "stream",
     "text": [
      "N = 10\n",
      "3 6 9 "
     ]
    }
   ],
   "source": [
    "# 5. N natural soni berilgan. N gacha bo'lgan 3 ga bo'linadigan lekin 5 ga bo'linmaydigan sonlarni \n",
    "# chiqaruvchi programma tuzilsin.\n",
    "n = int(input(\"N = \"))\n",
    "for i in range(1, n+1):\n",
    "    for j in range(1, i+1):\n",
    "        if i%j==0:\n",
    "            if i%3==0 and i%5!=0:\n",
    "                print(i, end=\" \")\n",
    "                break"
   ]
  },
  {
   "cell_type": "code",
   "execution_count": 63,
   "id": "3b6d8764",
   "metadata": {},
   "outputs": [
    {
     "name": "stdout",
     "output_type": "stream",
     "text": [
      "N = 100\n",
      "5 4 3\n",
      "10 8 6\n",
      "13 12 5\n",
      "15 12 9\n",
      "17 15 8\n",
      "20 16 12\n",
      "25 20 15\n",
      "25 24 7\n",
      "26 24 10\n",
      "29 21 20\n",
      "30 24 18\n",
      "34 30 16\n",
      "35 28 21\n",
      "37 35 12\n",
      "39 36 15\n",
      "40 32 24\n",
      "41 40 9\n",
      "45 36 27\n",
      "50 40 30\n",
      "50 48 14\n",
      "51 45 24\n",
      "52 48 20\n",
      "53 45 28\n",
      "55 44 33\n",
      "58 42 40\n",
      "60 48 36\n",
      "61 60 11\n",
      "65 52 39\n",
      "65 56 33\n",
      "65 60 25\n",
      "65 63 16\n",
      "68 60 32\n",
      "70 56 42\n",
      "73 55 48\n",
      "74 70 24\n",
      "75 60 45\n",
      "75 72 21\n",
      "78 72 30\n",
      "80 64 48\n",
      "82 80 18\n",
      "85 68 51\n",
      "85 75 40\n",
      "85 77 36\n",
      "85 84 13\n",
      "87 63 60\n",
      "89 80 39\n",
      "90 72 54\n",
      "91 84 35\n",
      "95 76 57\n",
      "97 72 65\n",
      "100 80 60\n",
      "100 96 28\n"
     ]
    }
   ],
   "source": [
    "# 8. N natural soni berilgan. N gacha Pifagor sonlarini chiqaruvchi dastur tuzing. c**2=a**2+b**2\n",
    "n = int(input(\"N = \"))\n",
    "s = 0\n",
    "for c in range(1, n+1):\n",
    "    for b in range(1, c):\n",
    "        for a in range(1, b):\n",
    "            if c**2==b**2 + a**2:\n",
    "                print(c, b, a)"
   ]
  },
  {
   "cell_type": "code",
   "execution_count": 67,
   "id": "88205574",
   "metadata": {},
   "outputs": [
    {
     "name": "stdout",
     "output_type": "stream",
     "text": [
      "N = 20\n",
      "1.5961632439130233\n"
     ]
    }
   ],
   "source": [
    "# 11-a. i=1, n kritiladi. s += 1/i**2\n",
    "n = int(input(\"N = \"))\n",
    "s = 0\n",
    "for i in range(1, n+1):\n",
    "    s += 1/i**2\n",
    "print(s)"
   ]
  },
  {
   "cell_type": "code",
   "execution_count": 68,
   "id": "c99dde10",
   "metadata": {},
   "outputs": [
    {
     "name": "stdout",
     "output_type": "stream",
     "text": [
      "N = 20\n",
      "1.2008678419584364\n"
     ]
    }
   ],
   "source": [
    "# 11-b. i=1, n kritiladi. s += 1/i**3\n",
    "n = int(input(\"N = \"))\n",
    "s = 0\n",
    "for i in range(1, n+1):\n",
    "    s += 1/i**3\n",
    "print(s)"
   ]
  },
  {
   "cell_type": "code",
   "execution_count": 69,
   "id": "00ae83ff",
   "metadata": {},
   "outputs": [
    {
     "name": "stdout",
     "output_type": "stream",
     "text": [
      "N = 20\n",
      "1.7182818284590455\n"
     ]
    }
   ],
   "source": [
    "# 11-c. i=1, n kritiladi. s += 1/i!\n",
    "n = int(input(\"N = \"))\n",
    "s = 0\n",
    "f = 1\n",
    "for i in range(1, n+1):\n",
    "    f *= i\n",
    "    s += 1/f\n",
    "print(s)"
   ]
  },
  {
   "cell_type": "code",
   "execution_count": 70,
   "id": "545b43ed",
   "metadata": {},
   "outputs": [
    {
     "name": "stdout",
     "output_type": "stream",
     "text": [
      "N = 20\n",
      "0.39904081097825583\n"
     ]
    }
   ],
   "source": [
    "# 11-d. i=1, n kritiladi. s += 1/(2*i)**2\n",
    "n = int(input(\"N = \"))\n",
    "s = 0\n",
    "for i in range(1, n+1):\n",
    "    s += 1/(2*i)**2\n",
    "print(s)"
   ]
  },
  {
   "cell_type": "code",
   "execution_count": 71,
   "id": "2d176810",
   "metadata": {},
   "outputs": [
    {
     "name": "stdout",
     "output_type": "stream",
     "text": [
      "N = 20\n",
      "0.13636363636363635\n"
     ]
    }
   ],
   "source": [
    "# 11-e. i=2, n kritiladi. p *= (i+1)/(i+2)\n",
    "n = int(input(\"N = \"))\n",
    "p = 1\n",
    "for i in range(2, n+1):\n",
    "    p *=(i+1)/(i+2)\n",
    "print(p)"
   ]
  },
  {
   "cell_type": "code",
   "execution_count": 72,
   "id": "89c22739",
   "metadata": {},
   "outputs": [
    {
     "name": "stdout",
     "output_type": "stream",
     "text": [
      "N = 20\n",
      "3.3895647706535534\n"
     ]
    }
   ],
   "source": [
    "# 11-f. i=2, n kritiladi. p *= (1+1/i!)**2\n",
    "n = int(input(\"N = \"))\n",
    "s = 1\n",
    "f = 1\n",
    "for i in range(2, n+1):\n",
    "    f *= i\n",
    "    s *= (1+1/f)**2\n",
    "print(s)"
   ]
  },
  {
   "cell_type": "code",
   "execution_count": 74,
   "id": "0f3f0671",
   "metadata": {},
   "outputs": [
    {
     "name": "stdout",
     "output_type": "stream",
     "text": [
      "N = 20\n",
      "1.289917959262609\n"
     ]
    }
   ],
   "source": [
    "# f. 1/sin(1) + 1/(sin(1)+sin(2)) + ... 1/(sin(1)+sin(2)+...sin(n))\n",
    "from math import sin\n",
    "n = int(input(\"N = \"))\n",
    "s = 0\n",
    "sinn = 0\n",
    "for i in range(1, n+1):\n",
    "    sinn += sin(i)\n",
    "    s += 1/sinn\n",
    "print(s)"
   ]
  },
  {
   "cell_type": "code",
   "execution_count": 75,
   "id": "f74d40af",
   "metadata": {},
   "outputs": [
    {
     "name": "stdout",
     "output_type": "stream",
     "text": [
      "N = 20\n",
      "9.210556198797118\n"
     ]
    }
   ],
   "source": [
    "# g. cos(1)/sin(1) + (cos(1)+cos(2))/(sin(1)+sin(2)) + ... (cos(1)+cos(2)+...cos(n))/(sin(1)+sin(2)+...sin(n))\n",
    "from math import *\n",
    "n = int(input(\"N = \"))\n",
    "s = 0\n",
    "sinn = 0\n",
    "cosn = 0\n",
    "for i in range(1, n+1):\n",
    "    sinn += sin(i)\n",
    "    cosn += cos(i)\n",
    "    s += cosn/sinn\n",
    "print(s)"
   ]
  }
 ],
 "metadata": {
  "kernelspec": {
   "display_name": "Python 3 (ipykernel)",
   "language": "python",
   "name": "python3"
  },
  "language_info": {
   "codemirror_mode": {
    "name": "ipython",
    "version": 3
   },
   "file_extension": ".py",
   "mimetype": "text/x-python",
   "name": "python",
   "nbconvert_exporter": "python",
   "pygments_lexer": "ipython3",
   "version": "3.9.9"
  }
 },
 "nbformat": 4,
 "nbformat_minor": 5
}
