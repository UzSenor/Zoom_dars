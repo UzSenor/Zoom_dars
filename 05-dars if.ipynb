{
 "cells": [
  {
   "cell_type": "code",
   "execution_count": 4,
   "id": "c53ad64f",
   "metadata": {},
   "outputs": [
    {
     "name": "stdout",
     "output_type": "stream",
     "text": [
      "a = 0\n",
      "Son nolga teng\n"
     ]
    }
   ],
   "source": [
    "# 1-misol. Butun son berilgan. Agar berilgan son musbat bo'lsa 1 ga oshirilsin, aks holda\n",
    "# o'zgarishsiz qolsin\n",
    "a = int(input(\"a = \"))\n",
    "if a>0:\n",
    "    print(a+1)\n",
    "else:\n",
    "    print(a)"
   ]
  },
  {
   "cell_type": "code",
   "execution_count": 5,
   "id": "0f55d00e",
   "metadata": {},
   "outputs": [
    {
     "name": "stdout",
     "output_type": "stream",
     "text": [
      "a = -5\n",
      "-7\n"
     ]
    }
   ],
   "source": [
    "# 2-misol. Butun son berilgan. Agar berilgan son musbat bo'lsa 1 ga oshirilsin, aks holda\n",
    "# 2 ga kamaytirilsin.\n",
    "a = int(input(\"a = \"))\n",
    "if a>0:\n",
    "    print(a+1)\n",
    "else:\n",
    "    print(a-2)"
   ]
  },
  {
   "cell_type": "code",
   "execution_count": 6,
   "id": "a42560aa",
   "metadata": {},
   "outputs": [
    {
     "name": "stdout",
     "output_type": "stream",
     "text": [
      "a = 0\n",
      "10\n"
     ]
    }
   ],
   "source": [
    "# 3-misol. Butun son berilgan. Agar berilgan son musbat bo'lsa 1 ga oshirilsin, aks holda\n",
    "# 2 ga kamaytirilsin. Agar 0 ga teng bo'lsa 10 ni o'zlashtirsin.\n",
    "a = int(input(\"a = \"))\n",
    "if a>0:\n",
    "    print(a+1)\n",
    "elif a<0:\n",
    "    print(a-2)\n",
    "else:\n",
    "    print(10)"
   ]
  },
  {
   "cell_type": "code",
   "execution_count": 8,
   "id": "04cbf81c",
   "metadata": {},
   "outputs": [
    {
     "name": "stdout",
     "output_type": "stream",
     "text": [
      "a = 1\n",
      "b = -2\n",
      "c = 2\n",
      "2 ta musbat\n"
     ]
    }
   ],
   "source": [
    "# 4- misol. Uchta son berilgan. Shu sonlar orasida nechta musbat son borligini aniqlang.\n",
    "a = int(input(\"a = \"))\n",
    "b = int(input(\"b = \"))\n",
    "c = int(input(\"c = \"))\n",
    "s = 0\n",
    "if a>0:\n",
    "    s=s+1\n",
    "if b>0:\n",
    "    s=s+1\n",
    "if c>0:\n",
    "    s=s+1\n",
    "print(s)"
   ]
  },
  {
   "cell_type": "code",
   "execution_count": 6,
   "id": "73340d66",
   "metadata": {},
   "outputs": [
    {
     "name": "stdout",
     "output_type": "stream",
     "text": [
      "a = 2\n",
      "b = -3\n",
      "c = 2\n",
      "2 ta musbat,  1 ta manfiy\n"
     ]
    }
   ],
   "source": [
    "# 5-misol. Uchta son berilgan. Shu sonlar orasida nechta musbat va manfiy son borligini aniqlang.\n",
    "a = int(input(\"a = \"))\n",
    "b = int(input(\"b = \"))\n",
    "c = int(input(\"c = \"))\n",
    "x=0\n",
    "if a>0:\n",
    "    x=x+1\n",
    "if b>0:\n",
    "    x=x+1\n",
    "if c>0:\n",
    "    x=x+1\n",
    "print(x,\"ta musbat, \", 3-x, \"ta manfiy\")"
   ]
  },
  {
   "cell_type": "code",
   "execution_count": 13,
   "id": "d8d65f89",
   "metadata": {},
   "outputs": [
    {
     "name": "stdout",
     "output_type": "stream",
     "text": [
      "a = 5\n",
      "b = 5\n",
      "Sonlar teng\n"
     ]
    }
   ],
   "source": [
    "# 6-misol. Ikkita butun son berilgan. Sonlarning kattasini aniqlovchi dastur tuzing.\n",
    "a = int(input(\"a = \"))\n",
    "b = int(input(\"b = \"))\n",
    "if a>b:\n",
    "    print(\"a soni b dan katta\")\n",
    "elif a<b:\n",
    "    print(\"b soni a dan katta\")\n",
    "else:\n",
    "    print(\"Sonlar teng\")"
   ]
  },
  {
   "cell_type": "code",
   "execution_count": 14,
   "id": "952002f0",
   "metadata": {},
   "outputs": [
    {
     "name": "stdout",
     "output_type": "stream",
     "text": [
      "a = 2\n",
      "b = 1\n",
      "2-son kichik\n"
     ]
    }
   ],
   "source": [
    "# 7-misol. Ikkita butun son berilgan. Sonlarning kichigining tartib raqamini aniqlovchi dastur tuzing.\n",
    "a = int(input(\"a = \"))\n",
    "b = int(input(\"b = \"))\n",
    "if a<b:\n",
    "    print(\"1-son kichik\")\n",
    "elif a>b:\n",
    "    print(\"2-son kichik\")\n",
    "else:\n",
    "    print(\"Sonlar teng\")"
   ]
  },
  {
   "cell_type": "code",
   "execution_count": 16,
   "id": "f6a6d1bf",
   "metadata": {},
   "outputs": [
    {
     "name": "stdout",
     "output_type": "stream",
     "text": [
      "a = 34234\n",
      "b = 234543\n",
      "Kattasi- 234543 kichigi- 34234\n"
     ]
    }
   ],
   "source": [
    "# 8-misol. Ikkita butun son berilgan. Sonlarning avval kattasini keyin kichigini\n",
    "# ekranga chiqarvchi dastur tuzing.\n",
    "a = int(input(\"a = \"))\n",
    "b = int(input(\"b = \"))\n",
    "if a>b:\n",
    "    print(\"Kattasi-\", a, \"kichigi-\",b)\n",
    "elif a<b:\n",
    "    print(\"Kattasi-\", b, \"kichigi-\",a)\n",
    "else:\n",
    "    print(\"Sonlar teng\")"
   ]
  },
  {
   "cell_type": "code",
   "execution_count": 21,
   "id": "e7f848bc",
   "metadata": {},
   "outputs": [
    {
     "name": "stdout",
     "output_type": "stream",
     "text": [
      "A = 4\n",
      "B = 4\n",
      "4.0 va 5.0\n"
     ]
    }
   ],
   "source": [
    "# 9-misol. A va B haqiqiy sonlar berilgan. Shu sonlarni shunday o'zgartirish kerakki A son kichik\n",
    "# B son katta bo'lsin. A va B ni ekranka chiqaring.\n",
    "A = float(input(\"A = \"))\n",
    "B = float(input(\"B = \"))\n",
    "C = A - B\n",
    "if A>B:\n",
    "    print(A, \"va\", B+C+1)\n",
    "elif A<B:\n",
    "    print(A, \"va\", B)\n",
    "else:\n",
    "    print(A, \"va\", B+1)"
   ]
  },
  {
   "cell_type": "code",
   "execution_count": 24,
   "id": "30ea0464",
   "metadata": {},
   "outputs": [
    {
     "name": "stdout",
     "output_type": "stream",
     "text": [
      "A = 6\n",
      "B = 6\n",
      "6 - 6 = 0\n"
     ]
    }
   ],
   "source": [
    "# 10-misol. A va B butun sonlar berilgan. Sonlar o'zaro teng bo'lmasa A+B ni, teng bo'lsa 0 chiqsin.\n",
    "# A va B ni ekranka chiqaring.\n",
    "A = int(input(\"A = \"))\n",
    "B = int(input(\"B = \"))\n",
    "if A!=B:\n",
    "    print(A, \"+\", B, \"=\", A+B)\n",
    "else:\n",
    "    print(A, \"-\", B, \"=\", 0)"
   ]
  },
  {
   "cell_type": "code",
   "execution_count": 26,
   "id": "41dc8d6f",
   "metadata": {},
   "outputs": [
    {
     "name": "stdout",
     "output_type": "stream",
     "text": [
      "A = 4\n",
      "B = 4\n",
      "4 va 4 0\n"
     ]
    }
   ],
   "source": [
    "# 11-misol. A va B butun sonlar berilgan. Sonlar o'zaro teng bo'lmasa sonlarning kattasini, \n",
    "# teng bo'lsa 0 o'zlashtirsin. A va B ni ekranka chiqaring.\n",
    "A = int(input(\"A = \"))\n",
    "B = int(input(\"B = \"))\n",
    "if A>B:\n",
    "    print(\"Kattasi A=\", A)\n",
    "elif A<B:\n",
    "    print(\"Kattasi B=\", B)\n",
    "else:\n",
    "    print(A, \"va\", B, 0)"
   ]
  },
  {
   "cell_type": "code",
   "execution_count": 29,
   "id": "3c79c406",
   "metadata": {},
   "outputs": [
    {
     "name": "stdout",
     "output_type": "stream",
     "text": [
      "a = 4\n",
      "b = 3\n",
      "C = 6\n",
      "Eng kichigi b: 3\n"
     ]
    }
   ],
   "source": [
    "#  12-misol. Uchta son berilgan. Sonlarning eng kichigigni aniqlaydigan dastur tuzing.\n",
    "a = int(input(\"a = \"))\n",
    "b = int(input(\"b = \"))\n",
    "c = int(input(\"C = \"))\n",
    "if a<b<c:\n",
    "    print(\"Eng kichigi a:\",a)\n",
    "elif a>b<c:\n",
    "    print(\"Eng kichigi b:\",b)\n",
    "else:\n",
    "    print(\"Eng kichigi c:\",c)"
   ]
  },
  {
   "cell_type": "code",
   "execution_count": 7,
   "id": "a7de95e5",
   "metadata": {},
   "outputs": [
    {
     "name": "stdout",
     "output_type": "stream",
     "text": [
      "a = 34\n",
      "b = 34\n",
      "c = 4\n",
      "O'rtachasi c: 4\n"
     ]
    }
   ],
   "source": [
    "#  13-misol. Uchta son berilgan. Sonlarning o'rtachasi(ya'ni katta-kichik o'rtasidagi son)ni\n",
    "# aniqlaydigan dastur tuzing.\n",
    "a = int(input(\"a = \"))\n",
    "b = int(input(\"b = \"))\n",
    "c = int(input(\"c = \"))\n",
    "if b<a<c or c<a<b:\n",
    "    print(\"O'rtachasi a:\",a)\n",
    "elif a<b<c or c<b<a:\n",
    "    print(\"O'rtachasi b:\",b)\n",
    "else:  \n",
    "    print(\"O'rtachasi c:\",c)"
   ]
  },
  {
   "cell_type": "code",
   "execution_count": 44,
   "id": "b8c91fc7",
   "metadata": {},
   "outputs": [
    {
     "name": "stdout",
     "output_type": "stream",
     "text": [
      "a = 2\n",
      "b = 2\n",
      "C = 3\n",
      "Sonlarda tenglik bor\n"
     ]
    }
   ],
   "source": [
    "#  14-misol. Uchta son berilgan. Sonlarning avval kichigini so'ng kattasini ekranga chiqaradigan\n",
    "# dastur tuzing.\n",
    "a = int(input(\"a = \"))\n",
    "b = int(input(\"b = \"))\n",
    "c = int(input(\"C = \"))\n",
    "if a<b<c:\n",
    "    print(\"Kichigi a:\", a, \"Kattasi c:\", c)\n",
    "elif a<c<b:\n",
    "    print(\"Kichigi a:\", a, \"Kattasi b:\", b)\n",
    "elif b<a<c:\n",
    "    print(\"Kichigi b:\", b, \"Kattasi c:\", c)\n",
    "elif b<c<a:\n",
    "    print(\"Kichigi b:\", b, \"Kattasi a:\", a)\n",
    "elif c<b<a:\n",
    "    print(\"Kichigi c:\", c, \"Kattasi a:\", a)\n",
    "elif c<a<b:  \n",
    "    print(\"Kichigi c:\", c, \"Kattasi b:\", b)\n",
    "else:\n",
    "    print(\"Sonlarda tenglik bor\")"
   ]
  },
  {
   "cell_type": "code",
   "execution_count": 8,
   "id": "ea28817c",
   "metadata": {},
   "outputs": [
    {
     "name": "stdout",
     "output_type": "stream",
     "text": [
      "a = 4\n",
      "b = 5\n",
      "C = 2\n",
      "Katta yig'indi: 9\n"
     ]
    }
   ],
   "source": [
    "#  15-misol. Uchta son berilgan. Sonlarning yig'indisi eng kattasini ekranga chiqaradigan\n",
    "# dastur tuzing.\n",
    "a = int(input(\"a = \"))\n",
    "b = int(input(\"b = \"))\n",
    "c = int(input(\"C = \"))\n",
    "if a<b<=c or a<c<=b:\n",
    "    print(\"Katta yig'indi:\", b+c)\n",
    "elif b<a<=c or b<c<=a:\n",
    "    print(\"Katta yig'indi:\", a+c)\n",
    "else:\n",
    "    print(\"Katta yig'indi:\", a+b)"
   ]
  },
  {
   "cell_type": "code",
   "execution_count": 52,
   "id": "002f414b",
   "metadata": {},
   "outputs": [
    {
     "name": "stdout",
     "output_type": "stream",
     "text": [
      "A = 3.4\n",
      "B = 2.6\n",
      "C = -3.9\n",
      "A= -3.4 \n",
      "B= -2.6 \n",
      "C= 3.9\n"
     ]
    }
   ],
   "source": [
    "# 16-misol. A,B,C haqiqiy sonlar berilgan. Agar sonlar o'sish tartibida berilgan bo'lsa, sonlar\n",
    "# ikkilantirilsin, aks holda sonlarning ishorasi o'zgartirilsin. A,B,C ning qiymatlari ekranga chiqsin\n",
    "A = float(input(\"A = \"))\n",
    "B = float(input(\"B = \"))\n",
    "C = float(input(\"C = \"))\n",
    "if A<B<C:\n",
    "    print(\"A=\", A*2, \"\\nB=\", B*2, \"\\nC=\", C*2)\n",
    "else:\n",
    "    print(\"A=\", -A, \"\\nB=\", -B, \"\\nC=\", -C)"
   ]
  },
  {
   "cell_type": "code",
   "execution_count": 54,
   "id": "6d9c9fb1",
   "metadata": {},
   "outputs": [
    {
     "name": "stdout",
     "output_type": "stream",
     "text": [
      "A = 4\n",
      "B = 3\n",
      "C = 5\n",
      "A = -4 \n",
      "B = -3 \n",
      "C = -5\n"
     ]
    }
   ],
   "source": [
    "# 17-misol. A,B,C haqiqiy sonlar berilgan. Agar sonlar o'sish yoki kamayish tartibida  berilgan \n",
    "# bo'lsa, sonlar ikkilantirilsin, aks holda sonlarning ishorasi o'zgartirilsin. A,B,C ning qiymatlari \n",
    "# ekranga chiqsin\n",
    "A = int(input(\"A = \"))\n",
    "B = int(input(\"B = \"))\n",
    "C = int(input(\"C = \"))\n",
    "if A<B<C or C<B<A:\n",
    "    print(\"A =\", A*2, \"\\nB =\", B*2, \"\\nC =\", C*2)\n",
    "else:\n",
    "    print(\"A =\", -A, \"\\nB =\", -B, \"\\nC =\", -C)"
   ]
  },
  {
   "cell_type": "code",
   "execution_count": 60,
   "id": "87291618",
   "metadata": {},
   "outputs": [
    {
     "name": "stdout",
     "output_type": "stream",
     "text": [
      "a = 2\n",
      "b = 2\n",
      "c = 2\n",
      "Uchta son ham teng yoki teng emas\n"
     ]
    }
   ],
   "source": [
    "# 18-misol. Uchta butun son berilgan. Sonlarning ikkitasi o'zaro teng, qolgan bittasining tartib \n",
    "# raqami aniqlansin.\n",
    "a = int(input(\"a = \"))\n",
    "b = int(input(\"b = \"))\n",
    "c = int(input(\"c = \"))\n",
    "if a==b!=c:\n",
    "    print(\"Uchinchi son teng emas\")\n",
    "elif a==c!=b:\n",
    "    print(\"Ikkinchi son teng emas\")\n",
    "elif b==c!=a:\n",
    "    print(\"Birinchi son teng emas\")\n",
    "else:\n",
    "    print(\"Uchta son ham teng yoki teng emas\")"
   ]
  },
  {
   "cell_type": "code",
   "execution_count": 62,
   "id": "0cf7d7d7",
   "metadata": {},
   "outputs": [
    {
     "name": "stdout",
     "output_type": "stream",
     "text": [
      "a = 5\n",
      "b = 5\n",
      "c = 7\n",
      "d = 5\n",
      "Uchinchi son teng emas\n"
     ]
    }
   ],
   "source": [
    "# 19-misol. To'rtta butun son berilgan. Sonlarning uchtasi o'zaro teng, qolgan bittasining tartib \n",
    "# raqami aniqlansin.\n",
    "a = int(input(\"a = \"))\n",
    "b = int(input(\"b = \"))\n",
    "c = int(input(\"c = \"))\n",
    "d = int(input(\"d = \"))\n",
    "if a==b==c!=d:\n",
    "    print(\"To'rtinchi son teng emas\")\n",
    "elif a==b==d!=c:\n",
    "    print(\"Uchinchi son teng emas\")\n",
    "elif a==c==d!=b:\n",
    "    print(\"Ikkinchi son teng emas\")\n",
    "elif c==b==d!=a:\n",
    "    print(\"Birinchi son teng emas\")\n",
    "else:\n",
    "    print(\"Uchta son ham teng yoki teng emas\")"
   ]
  },
  {
   "cell_type": "code",
   "execution_count": 64,
   "id": "6c719692",
   "metadata": {},
   "outputs": [
    {
     "name": "stdout",
     "output_type": "stream",
     "text": [
      "A = 32\n",
      "B = 47\n",
      "C = 36\n",
      "Yaqin nuqta C, orasidagi masofa 4\n"
     ]
    }
   ],
   "source": [
    "# 20-misol. Sonalar o'qida A,B,C nuqtalar berilgan. A nuqtaga eng yaqin nuqta va ular orasidagi \n",
    "# masofa topilsin.\n",
    "A = int(input(\"A = \"))\n",
    "B = int(input(\"B = \"))\n",
    "C = int(input(\"C = \"))\n",
    "x = abs(A-B)\n",
    "y = abs(A-C)\n",
    "if x<y:\n",
    "    print(\"Yaqin nuqta B, orasidagi masifa\", x)\n",
    "else:\n",
    "    print(\"Yaqin nuqta C, orasidagi masofa\", y)"
   ]
  },
  {
   "cell_type": "code",
   "execution_count": 9,
   "id": "446150e7",
   "metadata": {},
   "outputs": [
    {
     "name": "stdout",
     "output_type": "stream",
     "text": [
      "x = 0\n",
      "y = 0\n",
      "0\n"
     ]
    }
   ],
   "source": [
    "# 21-misol. Kordinata teksligida butun son berilgan. Agar nuqta kordinata boshida yotsa 0 chiqsin.\n",
    "# Agar nuqta OX yoki OY o'qida yotsa mos ravishda 1 va 2 chiqsin. Agar nuqta kordinata o'qida yotmasa\n",
    "# 3 chiqsin.\n",
    "x = int(input(\"x = \"))\n",
    "y = int(input(\"y = \"))\n",
    "if x==0==y:\n",
    "    print(0)\n",
    "elif x==0!=y:\n",
    "    print(1)\n",
    "elif x!=0==y:\n",
    "    print(2)\n",
    "else:\n",
    "    print(3)"
   ]
  },
  {
   "cell_type": "code",
   "execution_count": 72,
   "id": "dca1e52f",
   "metadata": {},
   "outputs": [
    {
     "name": "stdout",
     "output_type": "stream",
     "text": [
      "x = 30\n",
      "y = 0\n",
      "Nuqta kordinata o'qida yotadi\n"
     ]
    }
   ],
   "source": [
    "# 22-misol. OX va OY kordinata o'qida yotmaydigan nuqta berilgan. Shu nuqtaning qaysi chorakda\n",
    "# yotishini aniqlaydigan dastur tuzing.\n",
    "x = int(input(\"x = \"))\n",
    "y = int(input(\"y = \"))\n",
    "if x>0 and y>0:\n",
    "    print(\"Nuqta birinchi chorakda yotadi\")\n",
    "elif x<0 and y>0:\n",
    "    print(\"Nuqta ikkinchi chorakda yotadi\")\n",
    "elif x<0 and y<0:\n",
    "    print(\"Nuqta uchinchi chorakda yotadi\")\n",
    "elif x>0 and y<0:\n",
    "    print(\"Nuqta to'rtinchi chorakda yotadi\")\n",
    "else:\n",
    "    print(\"Nuqta kordinata o'qida yotadi\")"
   ]
  },
  {
   "cell_type": "code",
   "execution_count": 11,
   "id": "deb63aaa",
   "metadata": {},
   "outputs": [
    {
     "name": "stdout",
     "output_type": "stream",
     "text": [
      "x1 = 2\n",
      "y1 = 3\n",
      "x2 = 2\n",
      "y2 = 5\n",
      "x3 = 4\n",
      "y3 = 5\n",
      "x4= 4 y4= 3\n"
     ]
    }
   ],
   "source": [
    "# 23-misol. Kordinata o'qiga paralell joylashgan to'g'ri to'rtburchakning uchta uchining kordinatasi\n",
    "# berilgan. To'rtinchi uchini aniqlaydigan dastur tuzing.\n",
    "# (x1,y1)________________(x4,y4)\n",
    "#       |               |\n",
    "#       |               |\n",
    "# (x2,y2)_______________(x3, y3)\n",
    "\n",
    "x1 = int(input(\"x1 = \"))\n",
    "y1 = int(input(\"y1 = \"))\n",
    "x2 = int(input(\"x2 = \"))\n",
    "y2 = int(input(\"y2 = \"))\n",
    "x3 = int(input(\"x3 = \"))\n",
    "y3 = int(input(\"y3 = \"))\n",
    "if x1==x2 and y2==y3:\n",
    "    x4=x3\n",
    "    y4=y1\n",
    "    print(\"x4=\", x4, \"y4=\", y4)\n",
    "else:\n",
    "    print(\"Berilgan nuqtalar to'g'ri to'rtburchak emas.\")"
   ]
  },
  {
   "cell_type": "code",
   "execution_count": 80,
   "id": "426be849",
   "metadata": {},
   "outputs": [
    {
     "name": "stdout",
     "output_type": "stream",
     "text": [
      "x = 4.6\n",
      "a =  -1.9873820072669288\n"
     ]
    }
   ],
   "source": [
    "# 24-misol. x haqiqiy son berilgan. funksiyani hisoblang. f(x)=2*sin(x) <=> x-6  x>0 <=> x<=0\n",
    "from math import *\n",
    "x = float(input(\"x = \"))\n",
    "if x>0:\n",
    "    print(\"a = \",2*sin(x))\n",
    "else:\n",
    "    print(\"b = \",x-6)"
   ]
  },
  {
   "cell_type": "code",
   "execution_count": 91,
   "id": "7c8f4dda",
   "metadata": {},
   "outputs": [
    {
     "name": "stdout",
     "output_type": "stream",
     "text": [
      "x = -1\n",
      "b =  3.0\n"
     ]
    }
   ],
   "source": [
    "# 25-misol. x haqiqiy son berilgan. funksiyani hisoblang. f(x)=2*x <=> -3*x  -2>x>2\n",
    "x = float(input(\"x = \"))\n",
    "if (-2>x or 2<x):\n",
    "    print(\"a = \", 2*x)\n",
    "else:\n",
    "    print(\"b = \", -3*x)"
   ]
  },
  {
   "cell_type": "code",
   "execution_count": 96,
   "id": "79618783",
   "metadata": {},
   "outputs": [
    {
     "name": "stdout",
     "output_type": "stream",
     "text": [
      "x = 5\n",
      "c =  4\n"
     ]
    }
   ],
   "source": [
    "# 26-misol. x haqiqiy son berilgan. Funksiyani hisoblang. f(x)=-x (x<=0) <=> x**2 (0<x<2) <=> 4 (2<=x)\n",
    "x = float(input(\"x = \"))\n",
    "if x<=0:\n",
    "    print(\"a = \", -x)\n",
    "elif 0<x<2:\n",
    "    print(\"b = \", x**2)\n",
    "else:\n",
    "    print(\"c = \", 4)"
   ]
  },
  {
   "cell_type": "code",
   "execution_count": 5,
   "id": "432bdbf8",
   "metadata": {},
   "outputs": [
    {
     "name": "stdout",
     "output_type": "stream",
     "text": [
      "x = 2.45\n",
      "b =  1\n"
     ]
    }
   ],
   "source": [
    "# 27-misol. x haqiqiy son berilgan. Funksiyani hisoblang. f(x)=0 (x<0) <=> \n",
    "# 1 (0<=x<1 and x%2==0<=x<x%2==1) <=> -1 (x%2==1<=x<x%2==0)\n",
    "x = int(float(input(\"x = \")))\n",
    "if x<0:\n",
    "    print(\"a = \", 0)\n",
    "elif x%2==1:\n",
    "    print(\"b = \", 1)\n",
    "else:\n",
    "    print(\"c = \", -1)"
   ]
  },
  {
   "cell_type": "code",
   "execution_count": 114,
   "id": "81f56db6",
   "metadata": {},
   "outputs": [
    {
     "name": "stdout",
     "output_type": "stream",
     "text": [
      "Yilni kiriting:1200\n",
      "Kabisa yili: 366 kundan iborat\n"
     ]
    }
   ],
   "source": [
    "# 28-misol. Yil berilgan (musbat butun son). Berilgan yilda nechta kun borligini aniqlaydigan \n",
    "# dastur tuzing. Kabisa yilida 366 kun bor, qolgan yillarda 365 kun bor. Kabisa yili deb 4 ga karrali\n",
    "# yillarga aytiladi. Lekin 100 ga karrali yillar ichida faqat 400 ga karrali yillar kabisa yili \n",
    "# hisoblanadi. Masalan 300, 1300 va 1900 kabisa yili emas. 1200, 2000 yillar kabisa yili\n",
    "yil = int(input(\"Yilni kiriting:\"))\n",
    "if yil<100 and yil%4==0 or yil>100 and yil%400==0:\n",
    "    print(\"Kabisa yili: 366 kundan iborat\")\n",
    "else:\n",
    "    print(\"Yil: 365 kundan iborat\")"
   ]
  },
  {
   "cell_type": "code",
   "execution_count": 119,
   "id": "47fb2b0f",
   "metadata": {},
   "outputs": [
    {
     "name": "stdout",
     "output_type": "stream",
     "text": [
      "x = 5\n",
      "Son musbat toq\n"
     ]
    }
   ],
   "source": [
    "# 29-misol. Butun son berilgan. Berilgan sonni \"Musbat toq son\", \"Manfiy juft son\", \"Son nolga teng\"\n",
    "# vs h.k. ekranga chiqaradigan dastur tuzing\n",
    "x = int(input(\"x = \"))\n",
    "if x>0 and x%2==0:\n",
    "    print(\"Son musbat juft\")\n",
    "elif x>0 and x%2==1:\n",
    "    print(\"Son musbat toq\")\n",
    "elif x<0 and x%2==0:\n",
    "    print(\"Son manfiy juft\")\n",
    "elif x<0 and x%2==1:\n",
    "    print(\"Son manfiy toq\")\n",
    "else:\n",
    "    print(\"Son nolga teng\")"
   ]
  },
  {
   "cell_type": "code",
   "execution_count": 134,
   "id": "a3479605",
   "metadata": {},
   "outputs": [
    {
     "name": "stdout",
     "output_type": "stream",
     "text": [
      "a (1-999) = 0\n",
      "Son nolga teng\n"
     ]
    }
   ],
   "source": [
    "# 30-misol. 1-999 oraliqda son berilgan. Berilgan sonni \"Ikki xonali juft son\", \"Uch xonali toq son\"\n",
    "# va x.k.ekranga chiqaradigan dastur tuzing.\n",
    "a = int(input(\"a (1-999) = \"))\n",
    "if a//100==0 and a//10==0 and a%10!=0 and a%2==0:\n",
    "    print(\"Bir xonali juft son\")\n",
    "elif a//100==0 and a//10==0 and a%10!=0 and a%2==1:\n",
    "    print(\"Bir xonali toq son\")\n",
    "elif a//100==0 and a%100!=0 and a%2==0:\n",
    "    print(\"Ikki xonali juft son\")\n",
    "elif a//100==0 and a%100!=0 and a%2==1:\n",
    "    print(\"Ikki xonali toq son\")\n",
    "elif a//100>0 and a//1000==0 and a%2==0:\n",
    "    print(\"Uch xonali juft son\")\n",
    "elif a//100>0 and a//1000==0 and a%2==1:\n",
    "    print(\"Uch xonali toq son\")\n",
    "elif a//1000>0:\n",
    "    print(\"Siz uch xonalidan katta son kiritdingiz\")\n",
    "else:\n",
    "    print(\"Son nolga teng\")"
   ]
  },
  {
   "cell_type": "code",
   "execution_count": 8,
   "id": "18ed97df",
   "metadata": {},
   "outputs": [
    {
     "name": "stdout",
     "output_type": "stream",
     "text": [
      "a (1-999) = e\n"
     ]
    },
    {
     "ename": "ValueError",
     "evalue": "invalid literal for int() with base 10: 'e'",
     "output_type": "error",
     "traceback": [
      "\u001b[1;31m---------------------------------------------------------------------------\u001b[0m",
      "\u001b[1;31mValueError\u001b[0m                                Traceback (most recent call last)",
      "Input \u001b[1;32mIn [8]\u001b[0m, in \u001b[0;36m<module>\u001b[1;34m\u001b[0m\n\u001b[0;32m      1\u001b[0m \u001b[38;5;66;03m# 30-misol. 1-999 oraliqda son berilgan. Berilgan sonni \"Ikki xonali juft son\", \"Uch xonali toq son\"\u001b[39;00m\n\u001b[0;32m      2\u001b[0m \u001b[38;5;66;03m# va x.k.ekranga chiqaradigan dastur tuzing.\u001b[39;00m\n\u001b[1;32m----> 3\u001b[0m a \u001b[38;5;241m=\u001b[39m \u001b[38;5;28;43mint\u001b[39;49m\u001b[43m(\u001b[49m\u001b[38;5;28;43minput\u001b[39;49m\u001b[43m(\u001b[49m\u001b[38;5;124;43m\"\u001b[39;49m\u001b[38;5;124;43ma (1-999) = \u001b[39;49m\u001b[38;5;124;43m\"\u001b[39;49m\u001b[43m)\u001b[49m\u001b[43m)\u001b[49m\n\u001b[0;32m      4\u001b[0m bir \u001b[38;5;241m=\u001b[39m a\u001b[38;5;241m%\u001b[39m\u001b[38;5;241m10\u001b[39m\n\u001b[0;32m      5\u001b[0m un \u001b[38;5;241m=\u001b[39m a\u001b[38;5;241m%\u001b[39m\u001b[38;5;241m100\u001b[39m\u001b[38;5;241m/\u001b[39m\u001b[38;5;241m/\u001b[39m\u001b[38;5;241m10\u001b[39m\n",
      "\u001b[1;31mValueError\u001b[0m: invalid literal for int() with base 10: 'e'"
     ]
    }
   ],
   "source": [
    "# 30-misol. 1-999 oraliqda son berilgan. Berilgan sonni \"Ikki xonali juft son\", \"Uch xonali toq son\"\n",
    "# va x.k.ekranga chiqaradigan dastur tuzing.\n",
    "a = int(input(\"a (1-999) = \"))\n",
    "bir = a%10\n",
    "un = a%100//10\n",
    "yuz = a//100\n",
    "ming = a//1000\n",
    "if un>bir>0 and a%2==0:\n",
    "    print(\"Bir xonali juft son\")\n",
    "elif un>bir>0 and a%2==1:\n",
    "    print(\"Bir xonali toq son\")\n",
    "elif yuz>un>0 and a%2==0:\n",
    "    print(\"Ikki xonali juft son\")\n",
    "elif yuz>un>0 and a%2==1:\n",
    "    print(\"Ikki xonali toq son\")\n",
    "elif ming>yuz>un and a%2==0:\n",
    "    print(\"Uch xonali juft son\")\n",
    "elif ming>yuz>un and a%2==1:\n",
    "    print(\"Uch xonali toq son\")\n",
    "elif ming>0:\n",
    "    print(\"Siz uch xonalidan katta son kiritdingiz\")\n",
    "else:\n",
    "    print(\"Son nolga teng\")"
   ]
  },
  {
   "cell_type": "code",
   "execution_count": null,
   "id": "8039f8c1",
   "metadata": {},
   "outputs": [],
   "source": [
    "# Qo'shimcha. N son berilgan(1<=N<=99). Shu sonni yozuv ko'rinishda ekranga chiqaring.\n",
    "N = int(input(\"N = \"))\n",
    "bir = N%10\n",
    "un = N//10\n",
    "if un==1:\n",
    "    un=\"o'n\"\n",
    "elif un==2:\n",
    "    un=\"yigirma\"\n",
    "elif un==3:\n",
    "    un=\"o'ttiz\"\n",
    "elif un==4:\n",
    "    un=\"qiriq\"\n",
    "elif un==5:\n",
    "    un=\"ellik\"\n",
    "elif un==6:\n",
    "    un=\"oltmish\"\n",
    "elif un==7:\n",
    "    un=\"yetmish\"\n",
    "elif un==8:\n",
    "    un=\"sakson\"\n",
    "elif un==9:\n",
    "    un=\"to'qson\"\n",
    "else:\n",
    "    un=\"\"\n",
    "if bir==1:\n",
    "    bir=\"bir\"\n",
    "elif bir==2:\n",
    "    bir=\"ikki\"\n",
    "elif bir==3:\n",
    "    bir=\"uch\"\n",
    "elif bir==4:\n",
    "    bir=\"to'rt\"\n",
    "elif bir==5:\n",
    "    bir=\"besh\"\n",
    "elif bir==6:\n",
    "    bir=\"olti\"\n",
    "elif bir==7:\n",
    "    bir=\"yetti\"\n",
    "elif bir==8:\n",
    "    bir=\"sakkiz\"\n",
    "elif bir==9:\n",
    "    bir=\"to'qqiz\"\n",
    "else:\n",
    "    bir=\"\"\n",
    "print(un, bir)"
   ]
  },
  {
   "cell_type": "code",
   "execution_count": null,
   "id": "8e31e673",
   "metadata": {},
   "outputs": [],
   "source": [
    "# Qo'shimchani 999 mln gacha ishlash"
   ]
  },
  {
   "cell_type": "code",
   "execution_count": 32,
   "id": "4c8d4a95",
   "metadata": {},
   "outputs": [
    {
     "name": "stdout",
     "output_type": "stream",
     "text": [
      "A=8\n",
      "B=3\n",
      "2 6\n"
     ]
    }
   ],
   "source": [
    "# while uyga vazifa\n",
    "# + - \n",
    "# // / ** * %\n",
    "# + - bilan / amalini bajarish\n",
    "a = int(input(\"A=\"))\n",
    "b = int(input(\"B=\"))\n",
    "s = 0\n",
    "n = 0 \n",
    "while s<=a:\n",
    "    s=s+b\n",
    "    n=n+1\n",
    "while s<=a:\n",
    "    s=s+b\n",
    "    n=n+1\n",
    "print(n-1,n)"
   ]
  }
 ],
 "metadata": {
  "kernelspec": {
   "display_name": "Python 3 (ipykernel)",
   "language": "python",
   "name": "python3"
  },
  "language_info": {
   "codemirror_mode": {
    "name": "ipython",
    "version": 3
   },
   "file_extension": ".py",
   "mimetype": "text/x-python",
   "name": "python",
   "nbconvert_exporter": "python",
   "pygments_lexer": "ipython3",
   "version": "3.9.9"
  }
 },
 "nbformat": 4,
 "nbformat_minor": 5
}
