{
 "cells": [
  {
   "cell_type": "code",
   "execution_count": 4,
   "id": "5eefd762",
   "metadata": {},
   "outputs": [
    {
     "name": "stdout",
     "output_type": "stream",
     "text": [
      "N = 25\n",
      "1 5 25 "
     ]
    }
   ],
   "source": [
    "# 1. N son berilgan. Shu sonning bo'luvchilarini chiqaruvchi dastur tuzing\n",
    "n = int(input(\"N = \"))\n",
    "for i in range(1, n+1):\n",
    "    if n%i==0:\n",
    "        print(i, end=\" \")"
   ]
  },
  {
   "cell_type": "code",
   "execution_count": 5,
   "id": "b5a84ebf",
   "metadata": {},
   "outputs": [
    {
     "name": "stdout",
     "output_type": "stream",
     "text": [
      "N = 15\n",
      "24\n"
     ]
    }
   ],
   "source": [
    "# 2. N son berilgan. Shu sonning bo'luvchilarini yig'indisini chiqaruvchi dastur tuzing\n",
    "n = int(input(\"N = \"))\n",
    "s = 0\n",
    "for i in range(1, n+1):\n",
    "    if n%i==0:\n",
    "        s += i\n",
    "print(s)"
   ]
  },
  {
   "cell_type": "code",
   "execution_count": 8,
   "id": "c948ad6c",
   "metadata": {},
   "outputs": [
    {
     "name": "stdout",
     "output_type": "stream",
     "text": [
      "N = 7\n",
      "Mukammal emas\n"
     ]
    }
   ],
   "source": [
    "# 3. N soni berilgan. shu son mukammal yoki mukammal emasligini aniqlovchi dastur tuzing\n",
    "n = int(input(\"N = \"))\n",
    "s = 0\n",
    "for i in range(1, n):\n",
    "    if n%i==0:\n",
    "        s += i\n",
    "if n==s:\n",
    "    print(\"Mukammal son\")\n",
    "else:\n",
    "    print(\"Mukammal emas\")"
   ]
  },
  {
   "cell_type": "code",
   "execution_count": null,
   "id": "6e7f5278",
   "metadata": {},
   "outputs": [],
   "source": []
  },
  {
   "cell_type": "markdown",
   "id": "e53b8353",
   "metadata": {},
   "source": [
    "# While"
   ]
  },
  {
   "cell_type": "code",
   "execution_count": 10,
   "id": "07e4c9f6",
   "metadata": {},
   "outputs": [
    {
     "name": "stdout",
     "output_type": "stream",
     "text": [
      "N=5\n",
      "2 3 5 7 11 "
     ]
    }
   ],
   "source": [
    "# N ta tub\n",
    "n = int(input(\"N=\"))\n",
    "b = 0\n",
    "for i in range(2, n*n+1):\n",
    "    s=0\n",
    "    for j in range(1,i+1):\n",
    "        if i%j==0:\n",
    "            s+=1\n",
    "    if s==2:\n",
    "        print(i, end=\" \")\n",
    "        b += 1\n",
    "    if b==n:\n",
    "        break"
   ]
  },
  {
   "cell_type": "code",
   "execution_count": 17,
   "id": "c8b42bbb",
   "metadata": {},
   "outputs": [
    {
     "name": "stdout",
     "output_type": "stream",
     "text": [
      "A = 10\n",
      "B = 12\n",
      "5 4\n",
      "2 1\n",
      "1 0\n",
      "0 0\n"
     ]
    }
   ],
   "source": [
    "a = int(input(\"A = \"))\n",
    "b = int(input(\"B = \"))\n",
    "while a!=b:\n",
    "    a //= 2\n",
    "    b //= 3\n",
    "    print(a, b)\n",
    "    "
   ]
  },
  {
   "cell_type": "code",
   "execution_count": 20,
   "id": "4c57ecba",
   "metadata": {},
   "outputs": [
    {
     "name": "stdout",
     "output_type": "stream",
     "text": [
      "N = 5\n",
      "5 3 1 "
     ]
    }
   ],
   "source": [
    "# n dan 1 gacha toq sonlar\n",
    "n = int(input(\"N = \"))\n",
    "if n%2==0:\n",
    "    n-=1\n",
    "while n>=1:\n",
    "    print(n, end=\" \")\n",
    "    n -= 2"
   ]
  },
  {
   "cell_type": "code",
   "execution_count": 25,
   "id": "e1f5e933",
   "metadata": {},
   "outputs": [
    {
     "name": "stdout",
     "output_type": "stream",
     "text": [
      "N = 123\n",
      "3\n"
     ]
    }
   ],
   "source": [
    "# kiritilgan son nechta xonaligini topish\n",
    "n = int(input(\"N = \"))\n",
    "s = 0\n",
    "while n!=0:\n",
    "    s += 1 \n",
    "    n //=10\n",
    "print(s)"
   ]
  },
  {
   "cell_type": "code",
   "execution_count": 30,
   "id": "ca48f67b",
   "metadata": {},
   "outputs": [
    {
     "name": "stdout",
     "output_type": "stream",
     "text": [
      "N = 223\n",
      "2\n"
     ]
    }
   ],
   "source": [
    "# kiritilgan sonda nechta 2 borligini topamiz\n",
    "n = int(input(\"N = \"))\n",
    "s = 0\n",
    "while n!=0:\n",
    "    if n%10==2:\n",
    "        s += 1 \n",
    "    n //=10\n",
    "print(s)"
   ]
  },
  {
   "cell_type": "markdown",
   "id": "a68252f3",
   "metadata": {},
   "source": [
    "# Uyga vazifa"
   ]
  },
  {
   "cell_type": "code",
   "execution_count": 4,
   "id": "0f77439b",
   "metadata": {},
   "outputs": [
    {
     "name": "stdout",
     "output_type": "stream",
     "text": [
      "A = 11\n",
      "B = 3\n",
      "Kesma soni: 3\n",
      "Qoldiq:  2\n"
     ]
    }
   ],
   "source": [
    "# While1. A va B butun musbat sonlari berilgan ( A > B). A uzunlikdagi kesmada maksimal darajada \n",
    "# B kesma joylashtirilgan. A kesmaning bo'sh qismini aniqlovchi programma tuzilsin. Ko'paytirish \n",
    "# va bo'lish amallarini ishlatmang. \n",
    "a = int(input(\"A = \"))\n",
    "b = int(input(\"B = \"))\n",
    "s = 0\n",
    "while b<=a:\n",
    "    a -= b\n",
    "    s +=1\n",
    "print(\"Kesma soni:\",s)\n",
    "print(\"Qoldiq: \",a)"
   ]
  },
  {
   "cell_type": "code",
   "execution_count": 37,
   "id": "41677419",
   "metadata": {},
   "outputs": [
    {
     "name": "stdout",
     "output_type": "stream",
     "text": [
      "A = 11\n",
      "B = 3\n",
      "Kesma soni: 3\n"
     ]
    }
   ],
   "source": [
    "# While2. A va B butun musbat sonlari berilgan ( A > B). A uzunlikdagi kesmada B kesmadan nechta \n",
    "# joylashtirish mumkinligini aniqlovchi programma tuzilsin. Ko'paytirish va bo'lish amallarini \n",
    "# ishlatmang.\n",
    "a = int(input(\"A = \"))\n",
    "b = int(input(\"B = \"))\n",
    "s = 0\n",
    "while b<=a:\n",
    "    a -= b\n",
    "    s +=1\n",
    "print(\"Kesma soni:\",s)"
   ]
  },
  {
   "cell_type": "code",
   "execution_count": 3,
   "id": "d005f802",
   "metadata": {},
   "outputs": [
    {
     "name": "stdout",
     "output_type": "stream",
     "text": [
      "N = 11\n",
      "K = 4\n",
      "Qoldiq:  3\n",
      "Butun qismi:  2\n"
     ]
    }
   ],
   "source": [
    "# While3. N va K butun musbat sonlari berilgan. Faqat ayirish va qo'shish amallarini ishlatib \n",
    "# N sonini K soniga bo'lgandagi qoldiq va butun qismini aniqlovchi programma tuzilsin.\n",
    "n = int(input(\"N = \"))\n",
    "k = int(input(\"K = \"))\n",
    "s = 0\n",
    "while n>=k:\n",
    "    n -= k\n",
    "    s += 1\n",
    "print(\"Qoldiq: \",n)\n",
    "print(\"Butun qismi: \",s)"
   ]
  },
  {
   "cell_type": "code",
   "execution_count": 53,
   "id": "a05f5e19",
   "metadata": {},
   "outputs": [
    {
     "name": "stdout",
     "output_type": "stream",
     "text": [
      "N = 5\n",
      "Karrali emas\n"
     ]
    }
   ],
   "source": [
    "# While4. n butun soni berilgan (n > 0). Agar n soni 3 ning karrali bo'lsa \"3 - ga karrali\", \n",
    "# aks xolda \"3 - ga karrali emas\" degan natija chiqaruvchi programma tuzilsin. Qoldiqli bo'lish \n",
    "# va bo'lish amallarini ishlatmang.\n",
    "n = int(input(\"N = \"))\n",
    "\n",
    "while n>0:\n",
    "    n -= 3\n",
    "if n>0:\n",
    "    print(\"3-ga karrali\")\n",
    "else:\n",
    "    print(\"Karrali emas\")"
   ]
  },
  {
   "cell_type": "code",
   "execution_count": 186,
   "id": "84154be1",
   "metadata": {},
   "outputs": [
    {
     "name": "stdout",
     "output_type": "stream",
     "text": [
      "N = 32\n",
      "K = 5\n"
     ]
    }
   ],
   "source": [
    "# While5. 2 sonining qandaydir darajasini bildiruvchi n butun soni berilgan (n > 0). n = 2**k.  k ni \n",
    "# aniqlovchi programma tuzilsin.\n",
    "n = int(input(\"N = \"))\n",
    "k = 0\n",
    "while n>=2:\n",
    "    n //= 2\n",
    "    k += 1\n",
    "print(\"K =\",k)"
   ]
  },
  {
   "cell_type": "code",
   "execution_count": 185,
   "id": "2c124506",
   "metadata": {},
   "outputs": [
    {
     "name": "stdout",
     "output_type": "stream",
     "text": [
      "N = 4\n",
      "n!! = 8\n"
     ]
    }
   ],
   "source": [
    "# While6. n natural soni berilgan(n>0). Quyidagi ifodani hisoblovchi dastur tuzing.\n",
    "# n!! = n*(n-2)*(n-4)...\n",
    "n = int(input(\"N = \"))\n",
    "f = 1\n",
    "while n>1:\n",
    "    f *= n\n",
    "    n -= 2\n",
    "print(\"n!! =\",f)"
   ]
  },
  {
   "cell_type": "code",
   "execution_count": 184,
   "id": "b06a09a1",
   "metadata": {},
   "outputs": [
    {
     "name": "stdout",
     "output_type": "stream",
     "text": [
      "N = 9\n",
      "K = 4\n"
     ]
    }
   ],
   "source": [
    "# While7. n natural soni berilgan(n>0). Kvadrati n dan katta bo'ladigan eng kichik butun k sonini\n",
    "# (k**2>n) aniqlovchi dastur tuzing. Ildizdan chiqaruvchi funksiyadan foydalanmang.\n",
    "n = int(input(\"N = \"))\n",
    "k = 0\n",
    "s = 1\n",
    "while s<=n:\n",
    "    k += 1\n",
    "    s = k*k\n",
    "print(\"K =\",k)"
   ]
  },
  {
   "cell_type": "code",
   "execution_count": 183,
   "id": "28cd0180",
   "metadata": {},
   "outputs": [
    {
     "name": "stdout",
     "output_type": "stream",
     "text": [
      "N = 10\n",
      "K = 3\n"
     ]
    }
   ],
   "source": [
    "# While8. n natural soni berilgan(n>0). Kvadrati n dan katta bo'lmagan eng kichik butun k sonini\n",
    "# (k**2>n) aniqlovchi dastur tuzing. Ildizdan chiqaruvchi funksiyadan foydalanmang.\n",
    "n = int(input(\"N = \"))\n",
    "k = 1\n",
    "s = 1\n",
    "while s<n:\n",
    "    k += 1\n",
    "    s = k*k\n",
    "print(\"K =\",k-1)"
   ]
  },
  {
   "cell_type": "code",
   "execution_count": 182,
   "id": "e1598279",
   "metadata": {},
   "outputs": [
    {
     "name": "stdout",
     "output_type": "stream",
     "text": [
      "N = 9\n",
      "K = 3\n"
     ]
    }
   ],
   "source": [
    "# While9. n natural soni berilgan(n>1). 3**k>n shartni qanotlantiruvchi eng kichik k sonini aniqlovchi\n",
    "# dastur tuzing.\n",
    "n = int(input(\"N = \"))\n",
    "k = 1\n",
    "s = 1\n",
    "while s<=n:\n",
    "    k += 1\n",
    "    s = 3**k\n",
    "print(\"K =\",k)"
   ]
  },
  {
   "cell_type": "code",
   "execution_count": 181,
   "id": "eec64569",
   "metadata": {},
   "outputs": [
    {
     "name": "stdout",
     "output_type": "stream",
     "text": [
      "N = 14\n",
      "K = 2\n"
     ]
    }
   ],
   "source": [
    "# While10. n natural soni berilgan(n>1). 3**k<=n shartni qanoatlantiruvchi k ning eng katta qiymatini\n",
    "# aniqlang.\n",
    "n = int(input(\"N = \"))\n",
    "k = 1\n",
    "s = 1\n",
    "while s<=n:\n",
    "    k += 1\n",
    "    s = 3**k\n",
    "print(\"K =\",k-1)"
   ]
  },
  {
   "cell_type": "code",
   "execution_count": 179,
   "id": "5d8de425",
   "metadata": {},
   "outputs": [
    {
     "name": "stdout",
     "output_type": "stream",
     "text": [
      "N = 9\n",
      "K = 4\n",
      "S = 10\n"
     ]
    }
   ],
   "source": [
    "# While11. n natural soni berilgan(n>1). (1+2+3+...+k)>=n shart bajariladigan eng kichik k sonini\n",
    "# aniqlovchi dastur tuzing. 1 dan k gacha yig'indi ham ekranga chiqsin.\n",
    "n  =int(input(\"N = \"))\n",
    "s = 0\n",
    "k = 0\n",
    "while s<=n:\n",
    "    k += 1\n",
    "    s += k\n",
    "print(\"K =\",k)\n",
    "print(\"S =\",s)"
   ]
  },
  {
   "cell_type": "code",
   "execution_count": 180,
   "id": "cc18b14c",
   "metadata": {},
   "outputs": [
    {
     "name": "stdout",
     "output_type": "stream",
     "text": [
      "N = 14\n",
      "K = 4\n",
      "S = 10\n"
     ]
    }
   ],
   "source": [
    "# While12. n natural soni berilgan(n>1). (1+2+3+...+k)<=n shart bajariladigan eng katta k sonini\n",
    "# aniqlovchi dastur tuzing. 1 dan k gacha yig'indi ham ekranga chiqsin.\n",
    "n  =int(input(\"N = \"))\n",
    "s = 0\n",
    "k = 0\n",
    "while s<=n:\n",
    "    k += 1\n",
    "    s += k\n",
    "print(\"K =\",k-1)\n",
    "print(\"S =\",s-k)"
   ]
  },
  {
   "cell_type": "code",
   "execution_count": 208,
   "id": "ee6ff83f",
   "metadata": {},
   "outputs": [
    {
     "name": "stdout",
     "output_type": "stream",
     "text": [
      "A = 3\n",
      "S = 3.103210678210678\n",
      "K = 12\n"
     ]
    }
   ],
   "source": [
    "# While13. a soni berilgan(a>1). (1+1/2+1/3+...+1/k)>=a shart bajariladigan k ning eng kichik \n",
    "# qiymatini chiqaruvchi dastur tuzing. Yig'indi ham ekranga chiqsin.\n",
    "a = int(input(\"A = \"))\n",
    "s = 1\n",
    "k = 1\n",
    "while s<=a:\n",
    "    k += 1\n",
    "    s += 1/k\n",
    "print(\"S =\",s+1/(k+1))\n",
    "print(\"K =\",k+1)"
   ]
  },
  {
   "cell_type": "code",
   "execution_count": 205,
   "id": "8dc62493",
   "metadata": {},
   "outputs": [
    {
     "name": "stdout",
     "output_type": "stream",
     "text": [
      "A = 3\n",
      "S = 2.9289682539682538\n",
      "K = 10\n"
     ]
    }
   ],
   "source": [
    "# While14. a soni berilgan(a>1). (1+1/2+1/3+...+1/k)<=a shart bajariladigan k ning eng katta \n",
    "# qiymatini chiqaruvchi dastur tuzing. Yig'indi ham ekranga chiqsin.\n",
    "a = int(input(\"A = \"))\n",
    "s = 1\n",
    "k = 1\n",
    "while s<=a:\n",
    "    k += 1\n",
    "    s += 1/k\n",
    "print(\"S =\",s-1/k)\n",
    "print(\"K =\",k-1)"
   ]
  },
  {
   "cell_type": "code",
   "execution_count": 225,
   "id": "0aac1056",
   "metadata": {},
   "outputs": [
    {
     "name": "stdout",
     "output_type": "stream",
     "text": [
      "Summa: 1000\n",
      "Foiz(0-25): 20\n",
      "Oylar: 5\n",
      "5 oydan keyin 20 foizga oshsa: 2073.6 so'm bo'ladi\n"
     ]
    }
   ],
   "source": [
    "# While15. Bankka boshlang'ich S so'm qo'yildi. Har oyda bor bo'lgan summa p foizga oshadi(0<p<25). \n",
    "# Necha oyda boshlang'ich summa 2 baravar ko'payishini aniqlovchi dastur tuzing. Necha oy k-butun son.\n",
    "# Bankda hosil bo'lgan haqiqiy summa ekranga chiqarilsin.\n",
    "s = int(input(\"Summa: \"))\n",
    "p = int(input(\"Foiz(0-25): \"))\n",
    "k = 1\n",
    "x = s\n",
    "while s*2>=x:\n",
    "    k += 1\n",
    "    x += x*(p/100)\n",
    "print(\"Oylar:\", k)\n",
    "print(f\"{k} oydan keyin {p} foizga oshsa: {x} so'm bo'ladi\")"
   ]
  },
  {
   "cell_type": "code",
   "execution_count": 5,
   "id": "21d1f121",
   "metadata": {},
   "outputs": [
    {
     "name": "stdout",
     "output_type": "stream",
     "text": [
      "Necha foiz yugurgani: 12\n",
      "Kunlar: 28\n",
      "28 kunda 12 foiz oshirib borsa 213 km masofani bosib o'tadi\n"
     ]
    }
   ],
   "source": [
    "# While16. Sportsmen birinchi kuni 10 km yugurib boshladi. Keyingi kunlari oldingi kunga nisbatan\n",
    "# p foizga ko'p yugurib boshladi(0<p<50). Sportsmenning nech kundan keyin jami yugurgan masofasi\n",
    "# 200 km dan oshadi. Jami kunlar soni va masofani (butun son) chiqaruvchi dastur tuzing.\n",
    "p = int(input(\"Necha foiz yugurgani: \"))\n",
    "n = 10\n",
    "k = 1\n",
    "s = n\n",
    "while s<=200:\n",
    "    k += 1\n",
    "    s += s*(p/100)\n",
    "print(f\"Kunlar: {k}\")\n",
    "print(f\"{k} kunda {p} foiz oshirib borsa {int(s)} km masofani bosib o'tadi\")"
   ]
  },
  {
   "cell_type": "code",
   "execution_count": 4,
   "id": "2e191ef4",
   "metadata": {},
   "outputs": [
    {
     "name": "stdout",
     "output_type": "stream",
     "text": [
      "N = 9\n",
      "M = 3\n",
      "Butun: 3  Qoldiq: 0\n"
     ]
    }
   ],
   "source": [
    "# While17. n va m butun sonlar berilgan(n>m). n sonini m soniga bo'lib butun va qoldiq qismlarini \n",
    "# toping. Bo'lish va qoldiqli bo'lish ishlatilmasin.\n",
    "n = int(input(\"N = \"))\n",
    "m = int(input(\"M = \"))\n",
    "s = 0\n",
    "while n>=m:\n",
    "    n -= m\n",
    "    s += 1\n",
    "print(\"Butun:\",s,\" Qoldiq:\",n)"
   ]
  },
  {
   "cell_type": "code",
   "execution_count": 8,
   "id": "294c77bb",
   "metadata": {},
   "outputs": [
    {
     "name": "stdout",
     "output_type": "stream",
     "text": [
      "N = 123\n",
      "321\n"
     ]
    }
   ],
   "source": [
    "# While18. n butun soni berilgan(n>0). Bo'lib butun va qoldiq qismini aniqlash orqali berilgan\n",
    "# sonni teskari qiluvchi dastur tuzing.\n",
    "n = int(input(\"N = \"))\n",
    "s = 0\n",
    "while n>0:\n",
    "    x = n%10\n",
    "    n //= 10\n",
    "    s = s*10+x\n",
    "print(s)"
   ]
  },
  {
   "cell_type": "code",
   "execution_count": 30,
   "id": "65547e1b",
   "metadata": {},
   "outputs": [
    {
     "name": "stdout",
     "output_type": "stream",
     "text": [
      "N = 12345\n",
      "Raqamlar yig'indisi: 15\n",
      "Raqamlar soni: 5\n"
     ]
    }
   ],
   "source": [
    "# While19. n butun son berilgan(n>0). Bo'lib butun va qoldiq qismini aniqlash orqali sonlar yig'indisi\n",
    "# va raqamlar sonini chiqaruvchi dastur tuzing.\n",
    "n = int(input(\"N = \"))\n",
    "s = 0\n",
    "sana = 0\n",
    "while n>=1:\n",
    "    sana += 1\n",
    "    x = n%10\n",
    "    n //= 10\n",
    "    s += x\n",
    "print(\"Raqamlar yig'indisi:\",s)\n",
    "print(\"Raqamlar soni:\",sana)"
   ]
  },
  {
   "cell_type": "code",
   "execution_count": 56,
   "id": "cb79b71f",
   "metadata": {},
   "outputs": [
    {
     "name": "stdout",
     "output_type": "stream",
     "text": [
      "N = 345345245345\n",
      "2 raqami bor\n"
     ]
    }
   ],
   "source": [
    "# While20. n butun son berilgan(n>0). Bo'lib butun va qoldiq qismini aniqlash orqali sonlar orasida\n",
    "# 2 raqami bor-yo'qligini aniqlovchi dastur tuzing.\n",
    "n = int(input(\"N = \"))\n",
    "s = 0\n",
    "while n!=0:\n",
    "    if n%10==2:\n",
    "        s += 1\n",
    "    n //= 10\n",
    "if s!=0:\n",
    "    print(\"2 raqami bor\")\n",
    "else:\n",
    "    print(\"2 raqami yo'q\")"
   ]
  },
  {
   "cell_type": "code",
   "execution_count": 59,
   "id": "f8f4e265",
   "metadata": {},
   "outputs": [
    {
     "name": "stdout",
     "output_type": "stream",
     "text": [
      "N = 224462\n",
      "Toq raqam yo'q\n"
     ]
    }
   ],
   "source": [
    "# While21. n butun son berilgan(n>0). Bo'lib butun va qoldiq qismini aniqlash orqali sonlar orasida\n",
    "# toq raqm bor-yo'qligini aniqlovchi dastur tuzing.\n",
    "n = int(input(\"N = \"))\n",
    "s = 0\n",
    "while n!=0:\n",
    "    if n%2==1:\n",
    "        s += 1\n",
    "    n //= 10\n",
    "if s!=0:\n",
    "    print(\"Toq raqam bor\")\n",
    "else:\n",
    "    print(\"Toq raqam yo'q\")"
   ]
  },
  {
   "cell_type": "code",
   "execution_count": 75,
   "id": "b8c0fd53",
   "metadata": {},
   "outputs": [
    {
     "name": "stdout",
     "output_type": "stream",
     "text": [
      "N = 9\n",
      "Tub emas\n"
     ]
    }
   ],
   "source": [
    "# While22. n butun son berilgan(n>0). N soni tub yoki tub emasligini aniqlovchi dastur tuzing.\n",
    "n = int(input(\"N = \"))\n",
    "s = 0\n",
    "x = n\n",
    "while x>=1:\n",
    "    if n%x==0:\n",
    "        s += 1\n",
    "    x -= 1\n",
    "if s==2:\n",
    "    print(\"Tub\")\n",
    "else:\n",
    "    print(\"Tub emas\")"
   ]
  },
  {
   "cell_type": "code",
   "execution_count": 10,
   "id": "8656bf39",
   "metadata": {},
   "outputs": [
    {
     "name": "stdout",
     "output_type": "stream",
     "text": [
      "A = 36\n",
      "B = 48\n",
      "12\n"
     ]
    }
   ],
   "source": [
    "# While23. a va b musbat sonlar berilgan. Berilgan sonlarning EKUBni aniqlang.\n",
    "a = int(input(\"A = \"))\n",
    "b = int(input(\"B = \"))\n",
    "while a!=b:\n",
    "    if a>b:\n",
    "        a -= b\n",
    "    else:\n",
    "        b -= a\n",
    "print(\"EKUB:\",a)"
   ]
  },
  {
   "cell_type": "code",
   "execution_count": 100,
   "id": "5d30b2d9",
   "metadata": {},
   "outputs": [
    {
     "name": "stdout",
     "output_type": "stream",
     "text": [
      "N = 13\n",
      "Fibonachi\n"
     ]
    }
   ],
   "source": [
    "# While24. n butun soni berilgan(n>0). n soni fibonachi son ekanligini yoki fibonachi emasligini\n",
    "# aniqlang. f1 = 1, f2 = 1, fk = f(k-1)+f(k-2). k=3,4...\n",
    "n = int(input(\"N = \"))\n",
    "f1 = 1\n",
    "f2 = 1\n",
    "fk = f1 + f1\n",
    "while fk<n:\n",
    "    f1 = f2\n",
    "    f2 = fk\n",
    "    fk = f1 + f2\n",
    "if fk==n:\n",
    "    print(\"Fibonachi\")\n",
    "else:\n",
    "    print(\"Fibonachi emas\")"
   ]
  },
  {
   "cell_type": "code",
   "execution_count": 86,
   "id": "9565d043",
   "metadata": {},
   "outputs": [
    {
     "name": "stdout",
     "output_type": "stream",
     "text": [
      "N = 28\n",
      "34\n"
     ]
    }
   ],
   "source": [
    "# While25. n butun soni berilgan(n>0). n sonidan katta bo'lgan birinchi fibonachi sonni\n",
    "# aniqlang. f1 = 1, f2 = 1, fk = f(k-1)+f(k-2). k=3,4...\n",
    "n = int(input(\"N = \"))\n",
    "f1 = 1\n",
    "f2 = 1\n",
    "fk = f1 + f2\n",
    "while fk<n:\n",
    "    f1 = f2\n",
    "    f2 = fk\n",
    "    fk = f1 + f2\n",
    "if fk>=n:\n",
    "    print(fk)"
   ]
  },
  {
   "cell_type": "code",
   "execution_count": 29,
   "id": "edf725cf",
   "metadata": {},
   "outputs": [
    {
     "name": "stdout",
     "output_type": "stream",
     "text": [
      "N = 14\n",
      "Kichik fibonachi: 13\n",
      "Katta fibonachi: 21\n"
     ]
    }
   ],
   "source": [
    "# While26. n butun soni berilgan(n>0). n sonidan katta va kichik bo'lgan birinchi fibonachi sonni\n",
    "# aniqlang. f1 = 1, f2 = 1, fk = f(k-1)+f(k-2). k=3,4...\n",
    "n = int(input(\"N = \"))\n",
    "f1 = 1\n",
    "f2 = 1\n",
    "fk = f1 + f2\n",
    "while fk<n:\n",
    "    f1 = f2\n",
    "    f2 = fk\n",
    "    fk = f1 + f2\n",
    "if fk==n:\n",
    "    print(\"Kichik fibonachi:\",fk+f2)\n",
    "    print(\"Katta fibonachi:\",fk-f1)\n",
    "else:\n",
    "    print(\"Kichik fibonachi:\",f2)\n",
    "    print(\"Katta fibonachi:\",fk)"
   ]
  },
  {
   "cell_type": "code",
   "execution_count": 104,
   "id": "a3b65f0a",
   "metadata": {},
   "outputs": [
    {
     "name": "stdout",
     "output_type": "stream",
     "text": [
      "N = 34\n",
      "Hadi: 6\n"
     ]
    }
   ],
   "source": [
    "# While27. n butun soni berilgan(n>0). n sonidan fibonachi sonni nechanchi hadi ekanini\n",
    "# aniqlang. f1 = 1, f2 = 1, fk = f(k-1)+f(k-2). k=3,4...\n",
    "n = int(input(\"N = \"))\n",
    "f1 = 1\n",
    "f2 = 1\n",
    "fk = f1 + f2\n",
    "s = 0\n",
    "while fk<n:\n",
    "    f1 = f2\n",
    "    f2 = fk\n",
    "    fk = f1 + f2\n",
    "    s += 1\n",
    "if fk==n:\n",
    "    print(\"Hadi:\",s)\n",
    "else:\n",
    "    print(\"Kiritilgan son fibonachi emas\")"
   ]
  },
  {
   "cell_type": "code",
   "execution_count": 42,
   "id": "26a0685d",
   "metadata": {},
   "outputs": [
    {
     "name": "stdout",
     "output_type": "stream",
     "text": [
      "e = 0.3\n",
      "K = 3\n",
      "Ak = 2.4 A(k-1) = 2.5\n"
     ]
    }
   ],
   "source": [
    "# While28. e haqiqiy musbat son berilgan. Ketma-ket hadlari quyidagicha aniqlanadi.\n",
    "# a1 = 2, ak = 2+1/a(k-1) k = 2,3,... abs(a(k)-a(k-1))<e, ak, ak-1 ham ekranga chiqarilsin\n",
    "e = float(input(\"e = \"))\n",
    "a1 = 2\n",
    "ak = 2+1/a1\n",
    "k = 2\n",
    "while abs(ak-a1)>e:\n",
    "    a1 = ak\n",
    "    ak = 2+1/a2\n",
    "    k += 1\n",
    "print(\"K =\",k)\n",
    "print(\"Ak =\",ak, \"A(k-1) =\", a1)"
   ]
  },
  {
   "cell_type": "code",
   "execution_count": 44,
   "id": "690d8aaf",
   "metadata": {},
   "outputs": [
    {
     "name": "stdout",
     "output_type": "stream",
     "text": [
      "e = 4\n",
      "K = 2\n",
      "Ak = 1.6666666666666667 A(k-1) = 2\n"
     ]
    }
   ],
   "source": [
    "# While29. e haqiqiy musbat son berilgan. Ketma-ket hadlari quyidagicha aniqlanadi. a1 = 1, a2 = 2\n",
    "#  ak = (a(k-2)+2*a(k-1))/3 k = 2,3,... abs(a(k)-a(k-1))<e, ak, ak-1 ham ekranga chiqarilsin\n",
    "e = float(input(\"e = \"))\n",
    "a1 = 1\n",
    "a2 = 2\n",
    "ak = (a1+2*a2)/3\n",
    "k = 2\n",
    "while abs(ak-a2)>e:\n",
    "    a1 = a2\n",
    "    a2 = ak\n",
    "    ak = (a1+2*a2)/3\n",
    "    k += 1\n",
    "print(\"K =\",k)\n",
    "print(\"Ak =\",ak, \"A(k-1) =\", a2)"
   ]
  },
  {
   "cell_type": "code",
   "execution_count": 32,
   "id": "6647e8ba",
   "metadata": {},
   "outputs": [
    {
     "name": "stdout",
     "output_type": "stream",
     "text": [
      "A = 5\n",
      "B = 3\n",
      "C = 1\n",
      "15\n"
     ]
    }
   ],
   "source": [
    "# While30. a, b, c butun sonlar berilgan. a*b to'g'ri to'rtbuchakka c**2 dan nechta joylashadi.\n",
    "# Ko'paytirish va bo'lish ishlatmang.\n",
    "a = int(input(\"A = \"))\n",
    "b = int(input(\"B = \"))\n",
    "c = int(input(\"C = \"))\n",
    "s = s1 = 0\n",
    "natija = 0\n",
    "while a>=c:\n",
    "    s += 1\n",
    "    a -= c\n",
    "while b>=c:\n",
    "    s1 += 1\n",
    "    b -= c\n",
    "while s>=1:\n",
    "    natija += s1\n",
    "    s -= 1\n",
    "print(natija)"
   ]
  },
  {
   "cell_type": "code",
   "execution_count": 49,
   "id": "f96f6317",
   "metadata": {},
   "outputs": [
    {
     "name": "stdout",
     "output_type": "stream",
     "text": [
      "N = 2\n",
      "A = 2\n",
      "B = 4\n",
      "B = 6\n",
      "EKUK: 6\n"
     ]
    }
   ],
   "source": [
    "# EKUK\n",
    "n = int(input(\"N = \"))\n",
    "a = int(input(\"A = \"))\n",
    "x = a\n",
    "i = 0\n",
    "while i<n:\n",
    "    b = int(input(\"B = \"))\n",
    "    y = b\n",
    "    while a!=b:\n",
    "        if a>b:\n",
    "            a %= b\n",
    "        else:\n",
    "            b %= a\n",
    "        if a==0:\n",
    "            a=b\n",
    "        if b==0:\n",
    "            b=a\n",
    "    i += 1\n",
    "print(\"EKUK:\",int((x*y)/a))"
   ]
  },
  {
   "cell_type": "code",
   "execution_count": 47,
   "id": "873669cd",
   "metadata": {},
   "outputs": [
    {
     "data": {
      "text/plain": [
       "12.0"
      ]
     },
     "execution_count": 47,
     "metadata": {},
     "output_type": "execute_result"
    }
   ],
   "source": [
    "(6*4)/2"
   ]
  },
  {
   "cell_type": "code",
   "execution_count": null,
   "id": "358c7512",
   "metadata": {},
   "outputs": [],
   "source": []
  }
 ],
 "metadata": {
  "kernelspec": {
   "display_name": "Python 3 (ipykernel)",
   "language": "python",
   "name": "python3"
  },
  "language_info": {
   "codemirror_mode": {
    "name": "ipython",
    "version": 3
   },
   "file_extension": ".py",
   "mimetype": "text/x-python",
   "name": "python",
   "nbconvert_exporter": "python",
   "pygments_lexer": "ipython3",
   "version": "3.9.9"
  },
  "widgets": {
   "application/vnd.jupyter.widget-state+json": {
    "state": {},
    "version_major": 2,
    "version_minor": 0
   }
  }
 },
 "nbformat": 4,
 "nbformat_minor": 5
}
