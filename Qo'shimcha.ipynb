{
 "cells": [
  {
   "cell_type": "code",
   "execution_count": 83,
   "id": "ab7d607a",
   "metadata": {},
   "outputs": [
    {
     "name": "stdout",
     "output_type": "stream",
     "text": [
      "A = 8\n",
      "B = 3\n"
     ]
    },
    {
     "ename": "KeyboardInterrupt",
     "evalue": "",
     "output_type": "error",
     "traceback": [
      "\u001b[1;31m---------------------------------------------------------------------------\u001b[0m",
      "\u001b[1;31mKeyboardInterrupt\u001b[0m                         Traceback (most recent call last)",
      "Input \u001b[1;32mIn [83]\u001b[0m, in \u001b[0;36m<module>\u001b[1;34m\u001b[0m\n\u001b[0;32m     12\u001b[0m     x \u001b[38;5;241m+\u001b[39m\u001b[38;5;241m=\u001b[39m a\n\u001b[0;32m     13\u001b[0m     i \u001b[38;5;241m+\u001b[39m\u001b[38;5;241m=\u001b[39m \u001b[38;5;241m1\u001b[39m\n\u001b[1;32m---> 14\u001b[0m \u001b[38;5;28;01mwhile\u001b[39;00m \u001b[43mx\u001b[49m\u001b[38;5;241m>\u001b[39m\u001b[38;5;241m=\u001b[39mb:\n\u001b[0;32m     15\u001b[0m     x \u001b[38;5;241m-\u001b[39m\u001b[38;5;241m=\u001b[39m b\n\u001b[0;32m     16\u001b[0m     s1 \u001b[38;5;241m+\u001b[39m\u001b[38;5;241m=\u001b[39m \u001b[38;5;241m1\u001b[39m\n",
      "\u001b[1;31mKeyboardInterrupt\u001b[0m: "
     ]
    }
   ],
   "source": [
    "# a/b ni hisoblash\n",
    "a = int(input(\"A = \"))\n",
    "b = int(input(\"B = \"))\n",
    "s, s1, s2 = 0, 0, 0\n",
    "i, i1 = 1, 1\n",
    "while a>=b:\n",
    "    a -= b\n",
    "    s += 1\n",
    "x = a\n",
    "while x!=0:\n",
    "    while i<10:\n",
    "        x += a\n",
    "        i += 1\n",
    "    while x>=b:\n",
    "        x -= b\n",
    "        s1 += 1\n",
    "        if x==0:\n",
    "            s1 -= 1\n",
    "    x -= 0.1\n",
    "        \n",
    "\n",
    "print(s,\".\",s1, sep=\"\")"
   ]
  },
  {
   "cell_type": "code",
   "execution_count": 35,
   "id": "7f3207b2",
   "metadata": {},
   "outputs": [
    {
     "name": "stdout",
     "output_type": "stream",
     "text": [
      "0.761594155955765\n"
     ]
    }
   ],
   "source": [
    "s = 103\n",
    "b = 101\n",
    "while b>=1:\n",
    "    s = b + 1/s\n",
    "    b -= 2\n",
    "print(1/s)"
   ]
  },
  {
   "cell_type": "code",
   "execution_count": 36,
   "id": "5b12fb21",
   "metadata": {},
   "outputs": [
    {
     "name": "stdout",
     "output_type": "stream",
     "text": [
      "X = 1\n",
      "0.6187181319443722\n"
     ]
    }
   ],
   "source": [
    "x = int(input(\"X = \"))\n",
    "s = x**2\n",
    "b = 256\n",
    "while b>1:\n",
    "    s = x**2 + b/s\n",
    "    b /= 2\n",
    "print(x/s)"
   ]
  },
  {
   "cell_type": "code",
   "execution_count": 87,
   "id": "40ed9326",
   "metadata": {},
   "outputs": [
    {
     "name": "stdout",
     "output_type": "stream",
     "text": [
      "n = 20\n",
      "2 3 5 7 11 13 17 19 "
     ]
    }
   ],
   "source": [
    "n = int(input(\"n = \"))\n",
    "\n",
    "for i in range(2, n+1):\n",
    "    s = 0\n",
    "    for j in range(1, i+1):\n",
    "        if i%j==0:\n",
    "            s += 1\n",
    "    if s==2:\n",
    "        x = i\n",
    "        print(x, end=\" \")"
   ]
  },
  {
   "cell_type": "code",
   "execution_count": null,
   "id": "8201617a",
   "metadata": {},
   "outputs": [],
   "source": []
  }
 ],
 "metadata": {
  "kernelspec": {
   "display_name": "Python 3 (ipykernel)",
   "language": "python",
   "name": "python3"
  },
  "language_info": {
   "codemirror_mode": {
    "name": "ipython",
    "version": 3
   },
   "file_extension": ".py",
   "mimetype": "text/x-python",
   "name": "python",
   "nbconvert_exporter": "python",
   "pygments_lexer": "ipython3",
   "version": "3.9.9"
  }
 },
 "nbformat": 4,
 "nbformat_minor": 5
}
