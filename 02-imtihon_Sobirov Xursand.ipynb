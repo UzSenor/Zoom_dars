{
 "cells": [
  {
   "cell_type": "markdown",
   "id": "8d80c9de",
   "metadata": {},
   "source": [
    "# 2-imtihon - Sobirov Xursand"
   ]
  },
  {
   "cell_type": "code",
   "execution_count": 47,
   "id": "bd3dd4ab",
   "metadata": {},
   "outputs": [
    {
     "name": "stdout",
     "output_type": "stream",
     "text": [
      "N = 4\n",
      "2.7755575615628914e-16\n"
     ]
    }
   ],
   "source": [
    "# 1-misol\n",
    "n = int(input(\"N = \"))\n",
    "s = 0\n",
    "x = 0\n",
    "for i in range(-n, n+1):\n",
    "    if i==0:\n",
    "        continue\n",
    "    s += 1/i\n",
    "print(s)"
   ]
  },
  {
   "cell_type": "code",
   "execution_count": 7,
   "id": "017a35a7",
   "metadata": {},
   "outputs": [
    {
     "name": "stdout",
     "output_type": "stream",
     "text": [
      "A = 7\n",
      "B = 3\n",
      "2  butun,  1  qoldiq\n"
     ]
    }
   ],
   "source": [
    "# 2-misol\n",
    "a = int(input(\"A = \"))\n",
    "b = int(input(\"B = \"))\n",
    "s = 0\n",
    "while a>=b:\n",
    "    a -= b\n",
    "    s += 1\n",
    "print(s,\" butun, \", a, \" qoldiq\")"
   ]
  },
  {
   "cell_type": "code",
   "execution_count": 8,
   "id": "44ed3ab7",
   "metadata": {},
   "outputs": [
    {
     "name": "stdout",
     "output_type": "stream",
     "text": [
      "N = 5\n",
      "A = 2\n",
      "B = 4\n",
      "B = 6\n",
      "B = 8\n",
      "B = 10\n",
      "120\n"
     ]
    }
   ],
   "source": [
    "# 3-misol\n",
    "def EKUB(A,B):\n",
    "    while A!=B:\n",
    "        if A>B:\n",
    "            A %= B\n",
    "        else:\n",
    "            B %= A\n",
    "        if A==0:\n",
    "            A = B\n",
    "        if B==0:\n",
    "            B = A\n",
    "    return A\n",
    "def EKUK(A,B):\n",
    "    e = A*B/EKUB(A,B)\n",
    "    return e\n",
    "n = int(input(\"N = \"))\n",
    "A = int(input(\"A = \"))\n",
    "for _ in range(n-1):\n",
    "    B = int(input(\"B = \"))\n",
    "    x = EKUB(A,B)\n",
    "    A = EKUK(A,B)\n",
    "print(int(A))"
   ]
  },
  {
   "cell_type": "code",
   "execution_count": 38,
   "id": "67316384",
   "metadata": {},
   "outputs": [
    {
     "name": "stdout",
     "output_type": "stream",
     "text": [
      "N = 5\n",
      "A = 1\n",
      "A = 5\n",
      "A = 2\n",
      "A = 3\n",
      "A = 5\n",
      "Birinchi maksimum indeksi: 1 \n",
      "So'ngi maximum indeksi: 4\n"
     ]
    }
   ],
   "source": [
    "# 4-misol\n",
    "n = int(input(\"N = \"))\n",
    "s = []\n",
    "maxi = []\n",
    "for i in range(n):\n",
    "    a = int(input(\"A = \"))\n",
    "    s.append(a)\n",
    "x = max(s)\n",
    "for j in range(n):\n",
    "    if x==s[j]:\n",
    "        maxi.append(j)\n",
    "if min(maxi)!=max(maxi):\n",
    "    print(\"Birinchi maksimum indeksi:\",min(maxi), \"\\nSo'ngi maximum indeksi:\",max(maxi))\n",
    "else:\n",
    "    print(\"Maksimum indeksi:\",min(maxi))"
   ]
  },
  {
   "cell_type": "code",
   "execution_count": 42,
   "id": "6bf8dbd7",
   "metadata": {},
   "outputs": [
    {
     "name": "stdout",
     "output_type": "stream",
     "text": [
      "N = 5\n",
      "A = 2\n",
      "A = 3\n",
      "A = 5\n",
      "A = 4\n",
      "A = 5\n",
      "[5, 5, 4]\n"
     ]
    }
   ],
   "source": [
    "# 5-misol\n",
    "n = int(input(\"N = \"))\n",
    "s = []\n",
    "p = []\n",
    "for i in range(n):\n",
    "    a = int(input(\"A = \"))\n",
    "    s.append(a)\n",
    "for i in range(3):\n",
    "    if max(s):\n",
    "        p.append(max(s))\n",
    "        s.remove(max(s))\n",
    "print(p)"
   ]
  }
 ],
 "metadata": {
  "kernelspec": {
   "display_name": "Python 3 (ipykernel)",
   "language": "python",
   "name": "python3"
  },
  "language_info": {
   "codemirror_mode": {
    "name": "ipython",
    "version": 3
   },
   "file_extension": ".py",
   "mimetype": "text/x-python",
   "name": "python",
   "nbconvert_exporter": "python",
   "pygments_lexer": "ipython3",
   "version": "3.9.9"
  }
 },
 "nbformat": 4,
 "nbformat_minor": 5
}
