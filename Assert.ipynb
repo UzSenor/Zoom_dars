{
 "cells": [
  {
   "cell_type": "code",
   "execution_count": 50,
   "id": "f7716459",
   "metadata": {},
   "outputs": [
    {
     "name": "stdout",
     "output_type": "stream",
     "text": [
      "A = 1\n",
      "B = 2\n",
      "C = 3\n",
      "D = 4\n",
      "4 3 1 2\n"
     ]
    }
   ],
   "source": [
    "a = int(input(\"A = \"))\n",
    "b = int(input(\"B = \"))\n",
    "c = int(input(\"C = \"))\n",
    "d = int(input(\"D = \"))\n",
    "\n",
    "x = a\n",
    "y = b\n",
    "z = c\n",
    "w = d\n",
    "\n",
    "a = a + b + c + d\n",
    "c = a - (b + c + d)\n",
    "b = a - (b + c + d)\n",
    "d = a - (b + c + d)\n",
    "a = a - (b + c + d)\n",
    "\n",
    "x = x+y+z+w\n",
    "z = x-(y+z+w)\n",
    "y = x-(y+z+w)\n",
    "w = x-(y+z+w)\n",
    "x = x-(y+z+w)\n",
    "assert (x == a), f\"A ning qiymati {x} ga teng bolishi kerak\"\n",
    "assert (y == b), f\"B ning qiymati {y} ga teng bolishi kerak\"\n",
    "assert (z == c), f\"C ning qiymati {z} ga teng bolishi kerak\"\n",
    "assert (w == d), f\"A ning qiymati {w} ga teng bolishi kerak\"\n",
    "print(a, b, c, d)"
   ]
  },
  {
   "cell_type": "code",
   "execution_count": 54,
   "id": "35619491",
   "metadata": {},
   "outputs": [
    {
     "name": "stdout",
     "output_type": "stream",
     "text": [
      "4 xonali son: 1234\n",
      "4321\n"
     ]
    }
   ],
   "source": [
    "a = int(input(\"4 xonali son: \"))\n",
    "bir = a % 10\n",
    "on = a // 10 % 10\n",
    "yuz = a // 100 % 10\n",
    "ming = a // 1000\n",
    "\n",
    "assert a //1000 != 0, \"Kiritilgan son 4 xonali emas\"\n",
    "assert a > 0, \"Manfiy son kiritildi\"\n",
    "assert bir == a%10, \"Birlik qiymat topishda xato\"\n",
    "assert on == a//10%10, \"O'nlik qiymat topishda xato\"\n",
    "assert yuz == a//100%10, \"Yuzlik qiymat topishda xato\"\n",
    "assert ming == a//1000, \"Minglik qiymat topishda xato\"\n",
    "print(bir*1000+on*100+yuz*10+ming)"
   ]
  },
  {
   "cell_type": "code",
   "execution_count": 64,
   "id": "70d084fa",
   "metadata": {},
   "outputs": [
    {
     "name": "stdout",
     "output_type": "stream",
     "text": [
      "A = 1\n",
      "B = 2\n",
      "C = 1\n"
     ]
    },
    {
     "ename": "AssertionError",
     "evalue": "A ning qiymati C ga teng",
     "output_type": "error",
     "traceback": [
      "\u001b[1;31m---------------------------------------------------------------------------\u001b[0m",
      "\u001b[1;31mAssertionError\u001b[0m                            Traceback (most recent call last)",
      "Input \u001b[1;32mIn [64]\u001b[0m, in \u001b[0;36m<cell line: 6>\u001b[1;34m()\u001b[0m\n\u001b[0;32m      4\u001b[0m \u001b[38;5;28;01massert\u001b[39;00m a \u001b[38;5;241m!=\u001b[39m b, \u001b[38;5;124m\"\u001b[39m\u001b[38;5;124mA ning qiymati B ga teng\u001b[39m\u001b[38;5;124m\"\u001b[39m\n\u001b[0;32m      5\u001b[0m \u001b[38;5;28;01massert\u001b[39;00m b \u001b[38;5;241m!=\u001b[39m c, \u001b[38;5;124m\"\u001b[39m\u001b[38;5;124mB ning qiymati C ga teng\u001b[39m\u001b[38;5;124m\"\u001b[39m\n\u001b[1;32m----> 6\u001b[0m \u001b[38;5;28;01massert\u001b[39;00m a \u001b[38;5;241m!=\u001b[39m c, \u001b[38;5;124m\"\u001b[39m\u001b[38;5;124mA ning qiymati C ga teng\u001b[39m\u001b[38;5;124m\"\u001b[39m\n\u001b[0;32m      8\u001b[0m \u001b[38;5;28;01mif\u001b[39;00m a\u001b[38;5;241m<\u001b[39mb\u001b[38;5;241m<\u001b[39mc \u001b[38;5;129;01mor\u001b[39;00m c\u001b[38;5;241m<\u001b[39mb\u001b[38;5;241m<\u001b[39ma:\n\u001b[0;32m      9\u001b[0m     \u001b[38;5;28mprint\u001b[39m(\u001b[38;5;124m\"\u001b[39m\u001b[38;5;124mO\u001b[39m\u001b[38;5;124m'\u001b[39m\u001b[38;5;124mrtacha son: \u001b[39m\u001b[38;5;124m\"\u001b[39m, b)\n",
      "\u001b[1;31mAssertionError\u001b[0m: A ning qiymati C ga teng"
     ]
    }
   ],
   "source": [
    "a = int(input(\"A = \"))\n",
    "b = int(input(\"B = \"))\n",
    "c = int(input(\"C = \"))\n",
    "assert a != b, \"A ning qiymati B ga teng\"\n",
    "assert b != c, \"B ning qiymati C ga teng\"\n",
    "assert a != c, \"A ning qiymati C ga teng\"\n",
    "\n",
    "if a<b<c or c<b<a:\n",
    "    print(\"O'rtacha son: \", b)\n",
    "if b<a<c or c<a<b:\n",
    "    print(\"O'rtacha son: \", a)\n",
    "if b<c<a or a<c<b:\n",
    "    print(\"O'rtacha son: \", c)\n"
   ]
  },
  {
   "cell_type": "code",
   "execution_count": null,
   "id": "5b80effe",
   "metadata": {},
   "outputs": [],
   "source": []
  }
 ],
 "metadata": {
  "kernelspec": {
   "display_name": "Python 3 (ipykernel)",
   "language": "python",
   "name": "python3"
  },
  "language_info": {
   "codemirror_mode": {
    "name": "ipython",
    "version": 3
   },
   "file_extension": ".py",
   "mimetype": "text/x-python",
   "name": "python",
   "nbconvert_exporter": "python",
   "pygments_lexer": "ipython3",
   "version": "3.9.9"
  }
 },
 "nbformat": 4,
 "nbformat_minor": 5
}
