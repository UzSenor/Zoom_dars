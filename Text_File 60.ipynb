{
 "cells": [
  {
   "cell_type": "code",
   "execution_count": 12,
   "id": "355a5b07",
   "metadata": {},
   "outputs": [
    {
     "name": "stdout",
     "output_type": "stream",
     "text": [
      "N = 5\n",
      "K = 5\n",
      "*****\n",
      "*****\n",
      "*****\n",
      "*****\n",
      "*****\n",
      "\n"
     ]
    }
   ],
   "source": [
    "# Text 1\n",
    "n = int(input(\"N = \"))\n",
    "k = int(input(\"K = \"))\n",
    "f = open(\"Fayllar/text1.txt\", \"w\")\n",
    "for i in range(n):\n",
    "    f.write(\"*\"*k)\n",
    "    f.write(\"\\n\")\n",
    "f.close()\n",
    "f = open(\"Fayllar/text1.txt\")\n",
    "satr = f.read()\n",
    "f.close()\n",
    "print(satr)"
   ]
  },
  {
   "cell_type": "code",
   "execution_count": 33,
   "id": "91501106",
   "metadata": {},
   "outputs": [
    {
     "name": "stdout",
     "output_type": "stream",
     "text": [
      "N = 10\n",
      "a\n",
      "ab\n",
      "abc\n",
      "abcd\n",
      "abcde\n",
      "abcdef\n",
      "abcdefg\n",
      "abcdefgh\n",
      "abcdefghi\n",
      "\n"
     ]
    }
   ],
   "source": [
    "# Text 2\n",
    "n = int(input(\"N = \"))\n",
    "while 0>n and n>27:\n",
    "    n = int(input(\"N = \")) \n",
    "f = open(\"Fayllar/text2.txt\", \"w\")\n",
    "for i in range(1,n):\n",
    "    for j in range(97,97+i):\n",
    "        f.write(chr(j))\n",
    "    f.write(\"\\n\")\n",
    "f.close()\n",
    "f = open(\"Fayllar/text2.txt\")\n",
    "satr = f.read()\n",
    "f.close()\n",
    "print(satr)"
   ]
  },
  {
   "cell_type": "code",
   "execution_count": 6,
   "id": "ca0a953f",
   "metadata": {},
   "outputs": [
    {
     "name": "stdout",
     "output_type": "stream",
     "text": [
      "N = 10\n",
      "A*********\n",
      "AB********\n",
      "ABC*******\n",
      "ABCD******\n",
      "ABCDE*****\n",
      "ABCDEF****\n",
      "ABCDEFG***\n",
      "ABCDEFGH**\n",
      "ABCDEFGHI*\n",
      "ABCDEFGHIJ\n",
      "\n"
     ]
    }
   ],
   "source": [
    "# Text 3\n",
    "n = int(input(\"N = \"))\n",
    "while 0>n and n>27:\n",
    "    n = int(input(\"N = \")) \n",
    "f = open(\"Fayllar/text3.txt\", \"w\")\n",
    "\n",
    "s = \"\"\n",
    "for i in range(n):\n",
    "    s += chr(65+i)\n",
    "    f.write(f\"{s+'*'*(n-i-1)}\\n\")\n",
    "f.close()\n",
    "f = open(\"Fayllar/text3.txt\")\n",
    "satr = f.read()\n",
    "f.close()\n",
    "print(satr)"
   ]
  },
  {
   "cell_type": "code",
   "execution_count": 45,
   "id": "df7ece70",
   "metadata": {},
   "outputs": [
    {
     "name": "stdout",
     "output_type": "stream",
     "text": [
      "Salom\n",
      "Hammaga\n",
      "Ishlar juda yaxshi \n",
      "Satrsoni: 3 \n",
      "Belgi soni: 28\n"
     ]
    }
   ],
   "source": [
    "# Text 4\n",
    "satr = \"Salom\\nHammaga\\nIshlar juda yaxshi\" \n",
    "f = open(\"Fayllar/text4.txt\", \"w\")\n",
    "f.write(satr)\n",
    "f.close()\n",
    "\n",
    "f = open(\"Fayllar/text4.txt\")\n",
    "satr1 = f.read()\n",
    "f.close()\n",
    "\n",
    "satr2 = satr1.split(\"\\n\")\n",
    "satr_soni = len(satr2)\n",
    "\n",
    "satr3 = satr1.split()\n",
    "belgi_soni = len(\"\".join(satr3))\n",
    "\n",
    "print(f\"{satr1} \\nSatrsoni: {satr_soni} \\nBelgi soni: {belgi_soni}\")"
   ]
  },
  {
   "cell_type": "code",
   "execution_count": 51,
   "id": "372fcc4d",
   "metadata": {},
   "outputs": [
    {
     "name": "stdout",
     "output_type": "stream",
     "text": [
      "Salom\n",
      "Hammaga\n",
      "Ishlar juda yaxshi\n",
      "\n",
      "Salom\n",
      "Hammaga\n",
      "Ishlar juda yaxshiS\n"
     ]
    }
   ],
   "source": [
    "# Text 5\n",
    "satr = \"Salom\\nHammaga\\nIshlar juda yaxshi\" \n",
    "f = open(\"Fayllar/text5.txt\", \"w\")\n",
    "f.write(satr)\n",
    "f.close()\n",
    "print(satr)\n",
    "print()\n",
    "\n",
    "f = open(\"Fayllar/text5.txt\",\"a\")\n",
    "f.write(\"S\")\n",
    "f.close()\n",
    "\n",
    "f = open(\"Fayllar/text5.txt\")\n",
    "satr1 = f.read()\n",
    "f.close()\n",
    "print(satr1)"
   ]
  },
  {
   "cell_type": "code",
   "execution_count": 56,
   "id": "509d8681",
   "metadata": {
    "scrolled": true
   },
   "outputs": [
    {
     "name": "stdout",
     "output_type": "stream",
     "text": [
      "Salom\n",
      "Hammaga\n",
      "Ishlar juda yaxshi\n",
      "\n",
      "Hello world\n",
      "\n",
      "Salom\n",
      "Hammaga\n",
      "Ishlar juda yaxshiHello world\n"
     ]
    }
   ],
   "source": [
    "# Text 6\n",
    "satr = \"Salom\\nHammaga\\nIshlar juda yaxshi\"\n",
    "satr1 = \"Hello world\"\n",
    "f = open(\"Fayllar/text6.txt\", \"w\")\n",
    "f.write(satr)\n",
    "f.close()\n",
    "print(satr)\n",
    "print()\n",
    "\n",
    "f1 = open(\"Fayllar/text6_1.txt\", \"w\")\n",
    "f1.write(satr1)\n",
    "f1.close()\n",
    "print(satr1)\n",
    "print()\n",
    "\n",
    "f1 = open(\"Fayllar/text6_1.txt\")\n",
    "s1 = f1.read()\n",
    "f.close()\n",
    "\n",
    "f = open(\"Fayllar/text6.txt\",\"a\")\n",
    "f.write(s1)\n",
    "f.close()\n",
    "\n",
    "f = open(\"Fayllar/text6.txt\")\n",
    "satr2 = f.read()\n",
    "f.close()\n",
    "print(satr2)"
   ]
  },
  {
   "cell_type": "code",
   "execution_count": 9,
   "id": "5b5c20b4",
   "metadata": {},
   "outputs": [
    {
     "name": "stdout",
     "output_type": "stream",
     "text": [
      "File name 1: werw\n",
      "File name 2: sdfsdf\n"
     ]
    },
    {
     "ename": "FileNotFoundError",
     "evalue": "[Errno 2] No such file or directory: 'sdfsdf'",
     "output_type": "error",
     "traceback": [
      "\u001b[1;31m---------------------------------------------------------------------------\u001b[0m",
      "\u001b[1;31mFileNotFoundError\u001b[0m                         Traceback (most recent call last)",
      "Input \u001b[1;32mIn [9]\u001b[0m, in \u001b[0;36m<module>\u001b[1;34m\u001b[0m\n\u001b[0;32m      1\u001b[0m \u001b[38;5;66;03m#Text6\u001b[39;00m\n\u001b[0;32m      2\u001b[0m x \u001b[38;5;241m=\u001b[39m (\u001b[38;5;28mopen\u001b[39m(\u001b[38;5;28minput\u001b[39m(\u001b[38;5;124m\"\u001b[39m\u001b[38;5;124mFile name 1: \u001b[39m\u001b[38;5;124m\"\u001b[39m),\u001b[38;5;124m\"\u001b[39m\u001b[38;5;124ma\u001b[39m\u001b[38;5;124m\"\u001b[39m)) \n\u001b[1;32m----> 3\u001b[0m y \u001b[38;5;241m=\u001b[39m (\u001b[38;5;28;43mopen\u001b[39;49m\u001b[43m(\u001b[49m\u001b[38;5;28;43minput\u001b[39;49m\u001b[43m(\u001b[49m\u001b[38;5;124;43m\"\u001b[39;49m\u001b[38;5;124;43mFile name 2: \u001b[39;49m\u001b[38;5;124;43m\"\u001b[39;49m\u001b[43m)\u001b[49m\u001b[43m,\u001b[49m\u001b[43m \u001b[49m\u001b[38;5;124;43m\"\u001b[39;49m\u001b[38;5;124;43mr\u001b[39;49m\u001b[38;5;124;43m\"\u001b[39;49m\u001b[43m)\u001b[49m)\n\u001b[0;32m      4\u001b[0m x\u001b[38;5;241m.\u001b[39mwrite(y\u001b[38;5;241m.\u001b[39mread())\n\u001b[0;32m      5\u001b[0m x\u001b[38;5;241m.\u001b[39mclose()\n",
      "\u001b[1;31mFileNotFoundError\u001b[0m: [Errno 2] No such file or directory: 'sdfsdf'"
     ]
    }
   ],
   "source": [
    "#Text6\n",
    "x = (open(input(\"File name 1: \"),\"a\")) \n",
    "y = (open(input(\"File name 2: \"), \"r\"))\n",
    "x.write(y.read())\n",
    "x.close()"
   ]
  },
  {
   "cell_type": "code",
   "execution_count": 22,
   "id": "9d3015f8",
   "metadata": {},
   "outputs": [
    {
     "name": "stdout",
     "output_type": "stream",
     "text": [
      "Salom\n",
      "Hammaga\n",
      "Ishlar juda yaxshi\n",
      "\n",
      "AAAAASalom\n",
      "Hammaga\n",
      "Ishlar juda yaxshi\n"
     ]
    }
   ],
   "source": [
    "# Text 7\n",
    "satr = \"Salom\\nHammaga\\nIshlar juda yaxshi\" \n",
    "s = \"AAAAA\"\n",
    "f = open(\"Fayllar/text7.txt\", \"w\")\n",
    "f.write(satr)\n",
    "f.close()\n",
    "print(satr)\n",
    "print()\n",
    "\n",
    "f = open(\"Fayllar/text7.txt\")\n",
    "satr1 = f.read()\n",
    "f.close()\n",
    "\n",
    "f = open(\"Fayllar/text7.txt\", \"w\")\n",
    "f.write(s+satr1)\n",
    "f.close()\n",
    "\n",
    "f = open(\"Fayllar/text7.txt\")\n",
    "satr2 = f.read()\n",
    "f.close()\n",
    "print(satr2)"
   ]
  },
  {
   "cell_type": "code",
   "execution_count": 70,
   "id": "5b120090",
   "metadata": {},
   "outputs": [
    {
     "name": "stdout",
     "output_type": "stream",
     "text": [
      "Salom\n",
      "Hammaga\n",
      "Ishlar juda yaxshi\n",
      "\n",
      "Hello\n",
      "\n",
      "HelloSalom\n",
      "Hammaga\n",
      "Ishlar juda yaxshi\n"
     ]
    }
   ],
   "source": [
    "# Text 8\n",
    "satr = \"Salom\\nHammaga\\nIshlar juda yaxshi\" \n",
    "f = open(\"Fayllar/text8.txt\", \"w\")\n",
    "f.write(satr)\n",
    "f.close()\n",
    "print(satr)\n",
    "print()\n",
    "\n",
    "satr_2 = \"Hello\" \n",
    "f = open(\"Fayllar/text8_1.txt\", \"w\")\n",
    "f.write(satr_2)\n",
    "f.close()\n",
    "print(satr_2)\n",
    "print()\n",
    "\n",
    "f = open(\"Fayllar/text8_1.txt\")\n",
    "satr1 = f.read()\n",
    "f.close()\n",
    "\n",
    "f = open(\"Fayllar/text8.txt\")\n",
    "satr2 = f.readlines()\n",
    "satr2.insert(0,satr1)\n",
    "f.close()\n",
    "\n",
    "f = open(\"Fayllar/text8.txt\", \"w\")\n",
    "f.writelines(satr2)\n",
    "f.close()\n",
    "\n",
    "f = open(\"Fayllar/text8.txt\")\n",
    "satr3 = f.read()\n",
    "f.close()\n",
    "print(satr3)"
   ]
  },
  {
   "cell_type": "code",
   "execution_count": 16,
   "id": "3530b547",
   "metadata": {},
   "outputs": [
    {
     "name": "stdout",
     "output_type": "stream",
     "text": [
      "K = 3\n",
      "Salom\n",
      "Hammaga\n",
      "Ishlar juda yaxshi\n",
      "\n",
      "Salom\n",
      "Hammaga\n",
      "\n",
      "Ishlar juda yaxshi\n"
     ]
    }
   ],
   "source": [
    "# Text 9\n",
    "satr = \"Salom\\nHammaga\\nIshlar juda yaxshi\"\n",
    "k = int(input(\"K = \"))\n",
    "f = open(\"Fayllar/text9.txt\", \"w\")\n",
    "f.write(satr)\n",
    "f.close()\n",
    "print(satr)\n",
    "print()\n",
    "\n",
    "f = open(\"Fayllar/text9.txt\")\n",
    "satr2 = f.readlines()\n",
    "f.close()\n",
    "\n",
    "if len(satr2) >= k:\n",
    "    satr2.insert(k-1,\"\\n\")\n",
    "\n",
    "f = open(\"Fayllar/text9.txt\", \"w\")\n",
    "f.writelines(satr2)\n",
    "f.close()\n",
    "\n",
    "f = open(\"Fayllar/text9.txt\")\n",
    "satr3 = f.read()\n",
    "f.close()\n",
    "print(satr3)"
   ]
  },
  {
   "cell_type": "code",
   "execution_count": 20,
   "id": "0ed9c0ed",
   "metadata": {},
   "outputs": [
    {
     "name": "stdout",
     "output_type": "stream",
     "text": [
      "K = 2\n",
      "Salom\n",
      "Hammaga\n",
      "Ishlar juda yaxshi\n",
      "\n",
      "Salom\n",
      "Hammaga\n",
      "\n",
      "Ishlar juda yaxshi\n"
     ]
    }
   ],
   "source": [
    "# Text 10\n",
    "satr = \"Salom\\nHammaga\\nIshlar juda yaxshi\"\n",
    "k = int(input(\"K = \"))\n",
    "f = open(\"Fayllar/text10.txt\", \"w\")\n",
    "f.write(satr)\n",
    "f.close()\n",
    "print(satr)\n",
    "print()\n",
    "\n",
    "f = open(\"Fayllar/text10.txt\")\n",
    "satr2 = f.readlines()\n",
    "f.close()\n",
    "\n",
    "if len(satr2) >= k:\n",
    "    satr2.insert(k,\"\\n\")\n",
    "\n",
    "f = open(\"Fayllar/text10.txt\", \"w\")\n",
    "f.writelines(satr2)\n",
    "f.close()\n",
    "\n",
    "f = open(\"Fayllar/text10.txt\")\n",
    "satr3 = f.read()\n",
    "f.close()\n",
    "print(satr3)"
   ]
  },
  {
   "cell_type": "code",
   "execution_count": 29,
   "id": "57ae67bf",
   "metadata": {},
   "outputs": [
    {
     "name": "stdout",
     "output_type": "stream",
     "text": [
      "Salom Dunyo\n",
      "Hammaga\n",
      "\n",
      "Ishlar juda yaxshi\n",
      "\n",
      "Salom Dunyo\n",
      "Hammaga\n",
      "\n",
      "\n",
      "Ishlar juda yaxshi\n"
     ]
    }
   ],
   "source": [
    "# Text 11\n",
    "satr = \"Salom Dunyo\\nHammaga\\n\\nIshlar juda yaxshi\"\n",
    "f = open(\"Fayllar/text11.txt\", \"w\")\n",
    "f.write(satr)\n",
    "f.close()\n",
    "print(satr)\n",
    "print()\n",
    "\n",
    "f = open(\"Fayllar/text11.txt\")\n",
    "satr2 = f.readlines()\n",
    "f.close()\n",
    "\n",
    "for i in range(len(satr2)):\n",
    "    if satr2[i] == \"\\n\":\n",
    "        satr2[i] *= 2\n",
    "\n",
    "f = open(\"Fayllar/text11.txt\", \"w\")\n",
    "f.writelines(satr2)\n",
    "f.close()\n",
    "\n",
    "f = open(\"Fayllar/text11.txt\")\n",
    "satr3 = f.read()\n",
    "f.close()\n",
    "print(satr3)"
   ]
  },
  {
   "cell_type": "code",
   "execution_count": 32,
   "id": "c2841da6",
   "metadata": {},
   "outputs": [
    {
     "name": "stdout",
     "output_type": "stream",
     "text": [
      "Salom dunyo\n",
      "Hammaga\n",
      "\n",
      "Ishlar juda yaxshi\n",
      "\n",
      "Salom dunyo\n",
      "Hammaga\n",
      "AAAAAAA\n",
      "Ishlar juda yaxshi\n"
     ]
    }
   ],
   "source": [
    "# Text 12\n",
    "satr = \"Salom dunyo\\nHammaga\\n\\nIshlar juda yaxshi\"\n",
    "s = \"AAAAAAA\\n\"\n",
    "f = open(\"Fayllar/text12.txt\", \"w\")\n",
    "f.write(satr)\n",
    "f.close()\n",
    "print(satr)\n",
    "print()\n",
    "\n",
    "f = open(\"Fayllar/text12.txt\")\n",
    "satr2 = f.readlines()\n",
    "f.close()\n",
    "\n",
    "for i in range(len(satr2)):\n",
    "    if satr2[i] == \"\\n\":\n",
    "        satr2[i] = s\n",
    "\n",
    "f = open(\"Fayllar/text12.txt\", \"w\")\n",
    "f.writelines(satr2)\n",
    "f.close()\n",
    "\n",
    "f = open(\"Fayllar/text12.txt\")\n",
    "satr3 = f.read()\n",
    "f.close()\n",
    "print(satr3)"
   ]
  },
  {
   "cell_type": "code",
   "execution_count": 108,
   "id": "42cdbd21",
   "metadata": {},
   "outputs": [
    {
     "name": "stdout",
     "output_type": "stream",
     "text": [
      "Salom dunyo\n",
      "Hammaga\n",
      "Ishlar juda yaxshi\n",
      "\n",
      "Hammaga\n",
      "Ishlar juda yaxshi\n"
     ]
    }
   ],
   "source": [
    "# Text 13\n",
    "satr = \"Salom dunyo\\nHammaga\\nIshlar juda yaxshi\"\n",
    "f = open(\"Fayllar/text13.txt\", \"w\")\n",
    "f.write(satr)\n",
    "f.close()\n",
    "print(satr)\n",
    "print()\n",
    "\n",
    "f = open(\"Fayllar/text13.txt\")\n",
    "satr2 = f.readlines()\n",
    "f.close()\n",
    "\n",
    "satr2.pop(0)\n",
    "\n",
    "f = open(\"Fayllar/text13.txt\", \"w\")\n",
    "f.writelines(satr2)\n",
    "f.close()\n",
    "\n",
    "f = open(\"Fayllar/text13.txt\")\n",
    "satr3 = f.read()\n",
    "f.close()\n",
    "print(satr3)"
   ]
  },
  {
   "cell_type": "code",
   "execution_count": 110,
   "id": "817f2228",
   "metadata": {},
   "outputs": [
    {
     "name": "stdout",
     "output_type": "stream",
     "text": [
      "Salom dunyo\n",
      "Hammaga\n",
      "Ishlar juda yaxshi\n",
      "\n",
      "Salom dunyo\n",
      "Hammaga\n",
      "\n"
     ]
    }
   ],
   "source": [
    "# Text 14\n",
    "satr = \"Salom dunyo\\nHammaga\\nIshlar juda yaxshi\"\n",
    "f = open(\"Fayllar/text14.txt\", \"w\")\n",
    "f.write(satr)\n",
    "f.close()\n",
    "print(satr)\n",
    "print()\n",
    "\n",
    "f = open(\"Fayllar/text14.txt\")\n",
    "satr2 = f.readlines()\n",
    "f.close()\n",
    "\n",
    "satr2.pop(-1)\n",
    "\n",
    "f = open(\"Fayllar/text14.txt\", \"w\")\n",
    "f.writelines(satr2)\n",
    "f.close()\n",
    "\n",
    "f = open(\"Fayllar/text14.txt\")\n",
    "satr3 = f.read()\n",
    "f.close()\n",
    "print(satr3)"
   ]
  },
  {
   "cell_type": "code",
   "execution_count": 115,
   "id": "494460e9",
   "metadata": {},
   "outputs": [
    {
     "name": "stdout",
     "output_type": "stream",
     "text": [
      "K = 4\n",
      "Salom dunyo\n",
      "Hammaga\n",
      "Ishlar juda yaxshi\n",
      "\n",
      "Salom dunyo\n",
      "Hammaga\n",
      "Ishlar juda yaxshi\n"
     ]
    }
   ],
   "source": [
    "# Text 15\n",
    "satr = \"Salom dunyo\\nHammaga\\nIshlar juda yaxshi\"\n",
    "k = int(input(\"K = \"))\n",
    "f = open(\"Fayllar/text15.txt\", \"w\")\n",
    "f.write(satr)\n",
    "f.close()\n",
    "print(satr)\n",
    "print()\n",
    "\n",
    "f = open(\"Fayllar/text15.txt\")\n",
    "satr2 = f.readlines()\n",
    "f.close()\n",
    "\n",
    "if len(satr2) >= k:\n",
    "    satr2.pop(k-1)\n",
    "\n",
    "f = open(\"Fayllar/text15.txt\", \"w\")\n",
    "f.writelines(satr2)\n",
    "f.close()\n",
    "\n",
    "f = open(\"Fayllar/text15.txt\")\n",
    "satr3 = f.read()\n",
    "f.close()\n",
    "print(satr3)"
   ]
  },
  {
   "cell_type": "code",
   "execution_count": 133,
   "id": "be85e9b2",
   "metadata": {},
   "outputs": [
    {
     "name": "stdout",
     "output_type": "stream",
     "text": [
      "Salom dunyo\n",
      "Hammaga\n",
      "Ishlar juda yaxshi\n",
      "\n",
      "Salomdunyo\n",
      "Hammaga\n",
      "Ishlarjudayaxshi\n"
     ]
    }
   ],
   "source": [
    "# Text 16\n",
    "satr = \"Salom dunyo\\nHammaga\\nIshlar juda yaxshi\"\n",
    "f = open(\"Fayllar/text16.txt\", \"w\")\n",
    "f.write(satr)\n",
    "f.close()\n",
    "print(satr)\n",
    "print()\n",
    "\n",
    "f = open(\"Fayllar/text16.txt\")\n",
    "satr2 = f.read()\n",
    "f.close()\n",
    "\n",
    "satr_2 = \"\"\n",
    "for i in satr2:\n",
    "    if i !=\" \":\n",
    "        satr_2 += i\n",
    "\n",
    "f = open(\"Fayllar/text16.txt\", \"w\")\n",
    "f.write(satr_2)\n",
    "f.close()\n",
    "\n",
    "f = open(\"Fayllar/text16.txt\")\n",
    "satr3 = f.read()\n",
    "f.close()\n",
    "print(satr3)"
   ]
  },
  {
   "cell_type": "code",
   "execution_count": 164,
   "id": "b6509b31",
   "metadata": {},
   "outputs": [
    {
     "name": "stdout",
     "output_type": "stream",
     "text": [
      "Salom Dunyo\n",
      "Hammaga\n",
      "Ishlar juda yaxshi\n",
      "\n",
      "Hello World\n",
      "All\n",
      "Good job\n",
      "\n",
      "Salom Dunyo Hello World\n",
      "Hammaga All\n",
      "Ishlar juda yaxshi Good job\n"
     ]
    }
   ],
   "source": [
    "# Text 17\n",
    "satr = \"Salom Dunyo\\nHammaga\\nIshlar juda yaxshi\"\n",
    "satr_1 = \"Hello World\\nAll\\nGood job\"\n",
    "f = open(\"Fayllar/text17.txt\", \"w\")\n",
    "f.write(satr)\n",
    "f.close()\n",
    "print(satr)\n",
    "print()\n",
    "\n",
    "f = open(\"Fayllar/text17_1.txt\", \"w\")\n",
    "f.write(satr_1)\n",
    "f.close()\n",
    "print(satr_1)\n",
    "print()\n",
    "\n",
    "f = open(\"Fayllar/text17.txt\")\n",
    "satr2 = f.read()\n",
    "f.close()\n",
    "satr2 = satr2.split(\"\\n\")\n",
    "\n",
    "f = open(\"Fayllar/text17_1.txt\")\n",
    "satr_2 = f.readlines()\n",
    "f.close()\n",
    "\n",
    "satr_3 = \"\"\n",
    "for i in range(len(satr2)):\n",
    "    satr_3 += satr2[i] +\" \"+ satr_2[i]\n",
    "\n",
    "f = open(\"Fayllar/text17.txt\", \"w\")\n",
    "f.write(satr_3)\n",
    "f.close()\n",
    "\n",
    "f = open(\"Fayllar/text17.txt\")\n",
    "satr3 = f.read()\n",
    "f.close()\n",
    "print(satr3)"
   ]
  },
  {
   "cell_type": "code",
   "execution_count": 165,
   "id": "f352552d",
   "metadata": {},
   "outputs": [],
   "source": [
    "f = open(\"Fayllar/text18.txt\", \"x\")\n",
    "f.write(\"\")\n",
    "f.close()"
   ]
  },
  {
   "cell_type": "code",
   "execution_count": 2,
   "id": "c344ffe7",
   "metadata": {},
   "outputs": [
    {
     "name": "stdout",
     "output_type": "stream",
     "text": [
      "K = 2\n",
      "Salom Dunyo\n",
      "Hammaga\n",
      "Ishlar juda yaxshi\n",
      "\n"
     ]
    },
    {
     "ename": "IndexError",
     "evalue": "list index out of range",
     "output_type": "error",
     "traceback": [
      "\u001b[1;31m---------------------------------------------------------------------------\u001b[0m",
      "\u001b[1;31mIndexError\u001b[0m                                Traceback (most recent call last)",
      "Input \u001b[1;32mIn [2]\u001b[0m, in \u001b[0;36m<module>\u001b[1;34m\u001b[0m\n\u001b[0;32m     20\u001b[0m             satr2[:j] \u001b[38;5;241m=\u001b[39m \u001b[38;5;124m\"\u001b[39m\u001b[38;5;124m\"\u001b[39m\n\u001b[0;32m     21\u001b[0m         \u001b[38;5;28;01melse\u001b[39;00m:\n\u001b[1;32m---> 22\u001b[0m             satr_2 \u001b[38;5;241m+\u001b[39m\u001b[38;5;241m=\u001b[39m \u001b[43msatr2\u001b[49m\u001b[43m[\u001b[49m\u001b[43mj\u001b[49m\u001b[43m]\u001b[49m \n\u001b[0;32m     24\u001b[0m f \u001b[38;5;241m=\u001b[39m \u001b[38;5;28mopen\u001b[39m(\u001b[38;5;124m\"\u001b[39m\u001b[38;5;124mFayllar/text18.txt\u001b[39m\u001b[38;5;124m\"\u001b[39m, \u001b[38;5;124m\"\u001b[39m\u001b[38;5;124mw\u001b[39m\u001b[38;5;124m\"\u001b[39m)\n\u001b[0;32m     25\u001b[0m f\u001b[38;5;241m.\u001b[39mwrite(satr_2)\n",
      "\u001b[1;31mIndexError\u001b[0m: list index out of range"
     ]
    }
   ],
   "source": [
    "# Text 18\n",
    "satr = \"Salom Dunyo\\nHammaga\\nIshlar juda yaxshi\"\n",
    "k = int(input(\"K = \"))\n",
    "f = open(\"Fayllar/text18.txt\", \"w\")\n",
    "f.write(satr)\n",
    "f.close()\n",
    "print(satr)\n",
    "print()\n",
    "\n",
    "\n",
    "\n",
    "f = open(\"Fayllar/text18.txt\")\n",
    "satr2 = f.readlines()\n",
    "f.close()\n",
    "\n",
    "satr_2 = \"\"\n",
    "for i in range(len(satr2)):\n",
    "    for j in range(len(satr2[i])):\n",
    "        if j == k-1:\n",
    "            satr2[:j] = \"\"\n",
    "        else:\n",
    "            satr_2 += satr2[j] \n",
    "\n",
    "f = open(\"Fayllar/text18.txt\", \"w\")\n",
    "f.write(satr_2)\n",
    "f.close()\n",
    "\n",
    "f = open(\"Fayllar/text18.txt\")\n",
    "satr3 = f.read()\n",
    "f.close()\n",
    "print(satr3)"
   ]
  },
  {
   "cell_type": "code",
   "execution_count": 23,
   "id": "447bec66",
   "metadata": {},
   "outputs": [
    {
     "name": "stdout",
     "output_type": "stream",
     "text": [
      "Satr:Salom hammaga\n",
      "Salomhammaga\n"
     ]
    }
   ],
   "source": [
    "# Text 16\n",
    "satr = input(\"Satr:\")\n",
    "\n",
    "f = open(\"Fayllar/text16.txt\", \"w\")\n",
    "f.write(\"\")\n",
    "f.close()\n",
    "\n",
    "with open(\"Fayllar/text16.txt\", \"r+\") as f:\n",
    "    satr2 = \"\"\n",
    "    for i in satr:\n",
    "        if i !=\" \":\n",
    "            satr2 += i\n",
    "    f.write(satr2)\n",
    "    f.seek(0)\n",
    "    satr3 = f.read()\n",
    "    \n",
    "\n",
    "print(satr3)"
   ]
  },
  {
   "cell_type": "code",
   "execution_count": 50,
   "id": "9538309c",
   "metadata": {},
   "outputs": [
    {
     "name": "stdout",
     "output_type": "stream",
     "text": [
      "Salom Dunyo\n",
      "Hammaga\n",
      "Ishlar juda yaxshi \n",
      " Hello World\n",
      "All\n",
      "\n",
      "Salom Dunyo Hello World\n",
      "Hammaga All\n",
      "Ishlar juda yaxshi\n"
     ]
    }
   ],
   "source": [
    "# Text 17\n",
    "satr = \"Salom Dunyo\\nHammaga\\nIshlar juda yaxshi\"\n",
    "satr1 = \"Hello World\\nAll\"\n",
    "\n",
    "with open(\"Fayllar/text17.txt\", \"w\") as f:\n",
    "    f.write(satr)\n",
    "with open(\"Fayllar/text17_1.txt\", \"w\") as f:\n",
    "    f.write(satr1)\n",
    "print(satr, \"\\n\", satr1)\n",
    "\n",
    "with open(\"Fayllar/text17.txt\", \"r\") as f:\n",
    "    satr2 = f.read()\n",
    "    satr2 = satr2.split(\"\\n\")\n",
    "with open(\"Fayllar/text17_1.txt\", \"r\") as f:\n",
    "    satr_2 = f.readlines()\n",
    "\n",
    "with open(\"Fayllar/text17.txt\", \"r+\") as f:\n",
    "    satr_3 = \"\"\n",
    "    for i in range(len(satr_2)):\n",
    "        satr_3 += satr2[i] +\" \"+ satr_2[i]\n",
    "    for i in range(len(satr_2), len(satr2)):\n",
    "        satr_3 += \"\\n\" + satr2[i]\n",
    "    f.write(\"\\n\"+satr_3)\n",
    "    f.seek(0)\n",
    "    satr3 = f.read()\n",
    "    \n",
    "print(satr3)"
   ]
  },
  {
   "cell_type": "code",
   "execution_count": 39,
   "id": "11da6d3f",
   "metadata": {},
   "outputs": [
    {
     "name": "stdout",
     "output_type": "stream",
     "text": [
      "K = 4\n",
      "Salom Dunyo\n",
      "Hammaga\n",
      "Ishlar juda yaxshi\n",
      "\n",
      "m Dunyo\n",
      "aga\n",
      "ar juda yaxshi\n"
     ]
    }
   ],
   "source": [
    "# Text 18\n",
    "satr = \"Salom Dunyo\\nHammaga\\nIshlar juda yaxshi\"\n",
    "\n",
    "\n",
    "with open(\"Fayllar/text18.txt\", \"w\") as f:\n",
    "    f.write(satr)\n",
    "    \n",
    "k = int(input(\"K = \"))\n",
    "with open(\"Fayllar/text18.txt\", \"r+\") as f:\n",
    "    s_list = f.readlines()\n",
    "    \n",
    "    i = 0\n",
    "    while i < len(s_list):\n",
    "        if k > len(s_list[i]):\n",
    "            s_list[i] = \"\"\n",
    "        else:\n",
    "            s_list[i] = s_list[i][k:]\n",
    "            \n",
    "        i += 1\n",
    "    f.write(\"\\n\\n\")\n",
    "    f.writelines(s_list)\n",
    "    f.seek(0)\n",
    "    satr2 = f.read()\n",
    "    \n",
    "\n",
    "print(satr2)"
   ]
  },
  {
   "cell_type": "code",
   "execution_count": 33,
   "id": "e8faa4e7",
   "metadata": {},
   "outputs": [
    {
     "name": "stdout",
     "output_type": "stream",
     "text": [
      "Salom Dunyo\n",
      "Hammaga\n",
      "Ishlar juda yaxshi\n",
      "\n",
      "sALOM dUNYO\n",
      "hAMMAGA\n",
      "iSHLAR JUDA YAXSHI\n"
     ]
    }
   ],
   "source": [
    "# Text 19\n",
    "satr = \"Salom Dunyo\\nHammaga\\nIshlar juda yaxshi\"\n",
    "\n",
    "\n",
    "with open(\"Fayllar/text19.txt\", \"w\") as f:\n",
    "    f.write(satr)\n",
    "print(satr)\n",
    "\n",
    "with open(\"Fayllar/text19.txt\", \"r+\") as f:\n",
    "    s1 = f.read()\n",
    "    s2 = \"\"\n",
    "    for i in s1:\n",
    "        if \"A\" <= i <= \"Z\":\n",
    "            s2 += chr(ord(i)+32)\n",
    "        elif \"a\" <= i <= \"z\":\n",
    "            s2 += chr(ord(i)-32)\n",
    "        else:\n",
    "            s2 += i\n",
    "    f.seek(0)\n",
    "    f.write(s2)\n",
    "    f.seek(0)\n",
    "    satr2 = f.read()\n",
    "    \n",
    "print()\n",
    "print(satr2)"
   ]
  },
  {
   "cell_type": "code",
   "execution_count": 42,
   "id": "aac108f3",
   "metadata": {},
   "outputs": [
    {
     "name": "stdout",
     "output_type": "stream",
     "text": [
      "Salom Dunyo\n",
      "Hammaga\n",
      "Ishlar juda yaxshi\n",
      "\n",
      "sALOM dUNYO\n",
      "hAMMAGA\n",
      "iSHLAR JUDA YAXSHI\n"
     ]
    }
   ],
   "source": [
    "# Text 19.1\n",
    "satr = \"Salom Dunyo\\nHammaga\\nIshlar juda yaxshi\"\n",
    "\n",
    "\n",
    "with open(\"Fayllar/text19.1.txt\", \"w\") as f:\n",
    "    f.write(satr)\n",
    "print(satr)\n",
    "\n",
    "with open(\"Fayllar/text19.1.txt\", \"r+\") as f:\n",
    "    s1 = f.read()\n",
    "    s2 = \"\"\n",
    "    for i in s1:\n",
    "        if i.isupper():\n",
    "            s2 += i.lower()\n",
    "        elif i.islower():\n",
    "            s2 += i.upper()\n",
    "        else:\n",
    "            s2 += i\n",
    "    f.seek(0)\n",
    "    f.write(s2)\n",
    "    f.seek(0)\n",
    "    satr2 = f.read()\n",
    "    \n",
    "print()\n",
    "print(satr2)"
   ]
  },
  {
   "cell_type": "code",
   "execution_count": 47,
   "id": "5254f403",
   "metadata": {},
   "outputs": [
    {
     "name": "stdout",
     "output_type": "stream",
     "text": [
      "\n",
      "Salom   Dunyo\n",
      "Hammaga\n",
      "Ishlar   juda  yaxshi\n",
      "\n",
      "Salom Dunyo\n",
      "Hammaga\n",
      "Ishlar juda yaxshi\n"
     ]
    }
   ],
   "source": [
    "# Text 20\n",
    "satr = \"Salom   Dunyo\\nHammaga\\nIshlar   juda  yaxshi\"\n",
    "\n",
    "\n",
    "with open(\"Fayllar/text20.txt\", \"w\") as f:\n",
    "    f.write(satr)\n",
    "\n",
    "with open(\"Fayllar/text20.txt\", \"r+\") as f:\n",
    "    s1 = f.read()\n",
    "    s2 = s1.split(\" \")\n",
    "    s_list = []\n",
    "    i = 0\n",
    "    while i < len(s2):\n",
    "        if s2[i] != \"\":\n",
    "            s_list.append(s2[i])\n",
    "        i += 1\n",
    "    s3 = \" \".join(s_list)\n",
    "    f.write(\"\\n\\n\"+s3)\n",
    "    f.seek(0)\n",
    "    satr2 = f.read()\n",
    "    \n",
    "print()\n",
    "print(satr2)"
   ]
  },
  {
   "cell_type": "code",
   "execution_count": 36,
   "id": "4e175fac",
   "metadata": {},
   "outputs": [
    {
     "name": "stdout",
     "output_type": "stream",
     "text": [
      "\n",
      "Salom Dunyo\n",
      "Hammaga\n",
      "Ishlar juda yaxshi\n",
      "Ishlar juda yaxshi\n",
      "Hammaga\n",
      "\n",
      "Salom Dunyo\n",
      "Hammaga\n",
      "\n"
     ]
    }
   ],
   "source": [
    "# Text 21\n",
    "satr = \"Salom Dunyo\\nHammaga\\nIshlar juda yaxshi\\nIshlar juda yaxshi\\nHammaga\"\n",
    "\n",
    "\n",
    "with open(\"Fayllar/text21.txt\", \"w\") as f:\n",
    "    f.write(satr)\n",
    "\n",
    "with open(\"Fayllar/text21.txt\", \"r+\") as f:\n",
    "    s1 = f.readlines()\n",
    "    s2 = s1[:-3]\n",
    "    f.write(\"\\n\\n\")\n",
    "    f.writelines(s2)\n",
    "    f.seek(0)\n",
    "    satr2 = f.read()\n",
    "    \n",
    "print()\n",
    "print(satr2)"
   ]
  },
  {
   "cell_type": "code",
   "execution_count": 39,
   "id": "906e380c",
   "metadata": {},
   "outputs": [
    {
     "name": "stdout",
     "output_type": "stream",
     "text": [
      "K = 4\n",
      "\n",
      "Salom Dunyo\n",
      "Hammaga\n",
      "Ishlar juda yaxshi\n",
      "Ishlar juda yaxshi\n",
      "Hammaga\n",
      "\n",
      "Salom Dunyo\n",
      "\n"
     ]
    }
   ],
   "source": [
    "# Text 22\n",
    "satr = \"Salom Dunyo\\nHammaga\\nIshlar juda yaxshi\\nIshlar juda yaxshi\\nHammaga\"\n",
    "\n",
    "\n",
    "with open(\"Fayllar/text22.txt\", \"w\") as f:\n",
    "    f.write(satr)\n",
    "k = int(input(\"K = \"))\n",
    "with open(\"Fayllar/text22.txt\", \"r+\") as f:\n",
    "    s1 = f.readlines()\n",
    "    s2 = s1[:-k]\n",
    "    f.write(\"\\n\\n\")\n",
    "    f.writelines(s2)\n",
    "    f.seek(0)\n",
    "    satr2 = f.read()\n",
    "    \n",
    "print()\n",
    "print(satr2)"
   ]
  },
  {
   "cell_type": "code",
   "execution_count": 110,
   "id": "a765272a",
   "metadata": {},
   "outputs": [
    {
     "name": "stdout",
     "output_type": "stream",
     "text": [
      "K = 3\n",
      "\n",
      "Salom Dunyo\n",
      "Hammaga\n",
      "Ishlar juda yaxshi\n",
      "Ishlar juda yaxshi\n",
      "Hammaga\n",
      "\n",
      "Ishlar juda yaxshi\n",
      "Ishlar juda yaxshi\n",
      "Hammaga\n"
     ]
    }
   ],
   "source": [
    "# Text 23\n",
    "satr = \"Salom Dunyo\\nHammaga\\nIshlar juda yaxshi\\nIshlar juda yaxshi\\nHammaga\"\n",
    "\n",
    "\n",
    "with open(\"Fayllar/text23.txt\", \"w\") as f:\n",
    "    f.write(satr)\n",
    "k = int(input(\"K = \"))\n",
    "with open(\"Fayllar/text23.txt\", \"r+\") as f:\n",
    "    s1 = f.readlines()\n",
    "    s2 = s1[-k:]\n",
    "    f.write(\"\\n\\n\")\n",
    "    f.writelines(s2)\n",
    "    f.seek(0)\n",
    "    satr2 = f.read()\n",
    "    \n",
    "print()\n",
    "print(satr2)"
   ]
  },
  {
   "cell_type": "markdown",
   "id": "49edb129",
   "metadata": {},
   "source": [
    "# Matnni formatlash va tahlil qilish"
   ]
  },
  {
   "cell_type": "code",
   "execution_count": 104,
   "id": "0fecfbf4",
   "metadata": {},
   "outputs": [
    {
     "name": "stdout",
     "output_type": "stream",
     "text": [
      "Salom Dunyo\n",
      "\n",
      "\n",
      "Hammaga\n",
      "Ishlar juda yaxshi\n",
      "Matn 3 abzatsdan iborat\n"
     ]
    }
   ],
   "source": [
    "# Text 24\n",
    "satr = \"Salom Dunyo\\nHammaga\\nIshlar juda yaxshi\"\n",
    "\n",
    "\n",
    "with open(\"Fayllar/text24.txt\", \"w\") as f:\n",
    "    f.write(satr)\n",
    "print(satr)\n",
    "\n",
    "with open(\"Fayllar/text24.txt\", \"r+\") as f:\n",
    "    s1 = f.readlines()\n",
    "    s = 0\n",
    "    for i in range(len(s1)):\n",
    "        s += 1\n",
    "        if s1[i] == \"\\n\":\n",
    "            s -= 1\n",
    "            \n",
    "print(f\"Matn {s} abzatsdan iborat\")"
   ]
  },
  {
   "cell_type": "code",
   "execution_count": 52,
   "id": "bddbd3ed",
   "metadata": {},
   "outputs": [
    {
     "name": "stdout",
     "output_type": "stream",
     "text": [
      "K = 2\n",
      "['Salom Dunyo\\n', '\\n', '\\n', '\\n', 'Hammaga\\n', '\\n', 'Ishlar juda yaxshi']\n",
      "Salom Dunyo\n",
      "\n",
      "\n",
      "\n",
      "Hammaga\n",
      "\n",
      "Ishlar juda yaxshi\n",
      "Salom Dunyo\n",
      "\n",
      "\n",
      "\n",
      "\n",
      "Hammaga\n",
      "\n",
      "Ishlar juda yaxshi\n"
     ]
    }
   ],
   "source": [
    "# Text 25\n",
    "satr = \"Salom Dunyo\\n\\n\\n\\nHammaga\\n\\nIshlar juda yaxshi\"\n",
    "k = int(input(\"K = \"))\n",
    "\n",
    "with open(\"Fayllar/text25.txt\", \"w\") as f:\n",
    "    f.write(satr)\n",
    "\n",
    "with open(\"Fayllar/text25.txt\", \"r+\") as f:\n",
    "    s1 = f.readlines()\n",
    "    print(s1)\n",
    "    s = 0\n",
    "    i = 0\n",
    "    s2 = []\n",
    "    while i < len(s1):\n",
    "        if s1[i] != \"\\n\":\n",
    "            s2.append(s1[i])\n",
    "            idx = s1.index(s1[i])\n",
    "            s += 1\n",
    "        if s == k:\n",
    "            s2.pop(idx)\n",
    "            i += 1\n",
    "        if s1[i] == \"\\n\":\n",
    "            s2.append(s1[i])\n",
    "        i += 1\n",
    "    f.write(\"\\n\")\n",
    "    f.writelines(s2)\n",
    "    f.seek(0)\n",
    "    s2 = f.read()\n",
    "print(s2)"
   ]
  },
  {
   "cell_type": "code",
   "execution_count": 52,
   "id": "e2356165",
   "metadata": {
    "scrolled": true
   },
   "outputs": [
    {
     "name": "stdout",
     "output_type": "stream",
     "text": [
      "     Salom Dunyo\n",
      "Hammaga\n",
      "     Ishlar juda yaxshi\n",
      "Matn 2 abzatsdan iborat\n"
     ]
    }
   ],
   "source": [
    "# Text 26\n",
    "satr = \"     Salom Dunyo\\nHammaga\\n     Ishlar juda yaxshi\"\n",
    "\n",
    "\n",
    "with open(\"Fayllar/text26.txt\", \"w\") as f:\n",
    "    f.write(satr)\n",
    "print(satr)\n",
    "\n",
    "with open(\"Fayllar/text26.txt\", \"r+\") as f:\n",
    "    s1 = f.read()\n",
    "    s1 = s1.split(\"\\n     \")\n",
    "    s = len(s1)\n",
    "            \n",
    "print(f\"Matn {s} abzatsdan iborat\")"
   ]
  },
  {
   "cell_type": "code",
   "execution_count": 68,
   "id": "4523c15a",
   "metadata": {},
   "outputs": [
    {
     "name": "stdout",
     "output_type": "stream",
     "text": [
      "K = 2\n",
      "['     Salom Dunyo\\nHammaga', 'Ishlar juda yaxshi']\n",
      "     Salom Dunyo\n",
      "Hammaga\n",
      "     Ishlar juda yaxshi\n",
      "\n",
      "Ishlar juda yaxshi\n"
     ]
    }
   ],
   "source": [
    "# Text 27\n",
    "satr = \"     Salom Dunyo\\nHammaga\\n     Ishlar juda yaxshi\"\n",
    "k = int(input(\"K = \"))\n",
    "\n",
    "with open(\"Fayllar/text27.txt\", \"w\") as f:\n",
    "    f.write(satr)\n",
    "\n",
    "with open(\"Fayllar/text27.txt\", \"r+\") as f:\n",
    "    sat = f.read()\n",
    "    sat1 = sat.split(\"\\n     \")\n",
    "    print(sat1)\n",
    "    sat = sat1.pop(k-1)\n",
    "    #print(s1)\n",
    "    #s1 = \"\\n     \".join(s1)\n",
    "    f.write(\"\\n\\n\")\n",
    "    f.write(sat)\n",
    "    f.seek(0)\n",
    "    s2 = f.read()\n",
    "print(s2)"
   ]
  },
  {
   "cell_type": "code",
   "execution_count": 136,
   "id": "2434367b",
   "metadata": {},
   "outputs": [
    {
     "name": "stdout",
     "output_type": "stream",
     "text": [
      "     Salom Dunyo\n",
      "     Hammaga\n",
      "     Ishlar juda yaxshi\n",
      "     Salom Dunyo\n",
      "\n",
      "     Hammaga\n",
      "\n",
      "     Ishlar juda yaxshi\n"
     ]
    }
   ],
   "source": [
    "# Text 28\n",
    "satr = \"     Salom Dunyo\\n     Hammaga\\n     Ishlar juda yaxshi\"\n",
    "\n",
    "with open(\"Fayllar/text28.txt\", \"w\") as f:\n",
    "    f.write(satr)\n",
    "\n",
    "with open(\"Fayllar/text28.txt\", \"r+\") as f:\n",
    "    s1 = f.readlines()\n",
    "    i = 0\n",
    "    while i < len(s1)-1:\n",
    "        if s1[i][:5] == 5*chr(32):\n",
    "            s1.insert(i+1, \"\\n\")\n",
    "            i += 1\n",
    "        i += 1\n",
    "    f.write(\"\\n\")\n",
    "    f.writelines(s1)\n",
    "    f.seek(0)\n",
    "    s2 = f.read()\n",
    "print(s2)"
   ]
  },
  {
   "cell_type": "code",
   "execution_count": 157,
   "id": "dc002f98",
   "metadata": {},
   "outputs": [
    {
     "name": "stdout",
     "output_type": "stream",
     "text": [
      "Hammaga\n"
     ]
    }
   ],
   "source": [
    "# Text 29\n",
    "satr = \"Salom Dunyo Hammaga hammaag Ishlar juda yaxshi\"\n",
    "\n",
    "with open(\"Fayllar/text29.txt\", \"w\") as f:\n",
    "    f.write(satr)\n",
    "\n",
    "with open(\"Fayllar/text29.txt\", \"r+\") as f:\n",
    "    s1 = f.read()\n",
    "    s1 = s1.split()\n",
    "    s1 = sorted(s1, key=len, reverse=True)\n",
    "    s1 = \" \".join(s1)\n",
    "    f.seek(0)\n",
    "    f.write(s1)\n",
    "    f.seek(0)\n",
    "    s2 = f.read()\n",
    "    s2 = s2.split()\n",
    "print(s2[0])"
   ]
  },
  {
   "cell_type": "code",
   "execution_count": 183,
   "id": "4cf36b36",
   "metadata": {},
   "outputs": [
    {
     "name": "stdout",
     "output_type": "stream",
     "text": [
      "Hammaga\n"
     ]
    }
   ],
   "source": [
    "# Text 29.1\n",
    "satr = \"Salom Dunyo Hammaga hammaag Ishlar juda yaxshi\"\n",
    "\n",
    "with open(\"Fayllar/text29.1.txt\", \"w\") as f:\n",
    "    f.write(satr)\n",
    "\n",
    "with open(\"Fayllar/text29.1.txt\", \"r+\") as f:\n",
    "    s1 = f.read()\n",
    "    s1 = s1.split()\n",
    "    x = True\n",
    "    for i in range(len(s1)):\n",
    "        if x:\n",
    "            maxi = len(s1[i])\n",
    "            suz = s1[i]\n",
    "            x = False\n",
    "        if maxi < len(s1[i]):\n",
    "            maxi = len(s1[i])\n",
    "            suz = s1[i]\n",
    "    f.write(\"\\n\")\n",
    "    f.write(suz)\n",
    "    f.seek(0)\n",
    "    s2 = f.readlines()\n",
    "print(s2[1])"
   ]
  },
  {
   "cell_type": "code",
   "execution_count": 181,
   "id": "2a1f5fd0",
   "metadata": {},
   "outputs": [
    {
     "name": "stdout",
     "output_type": "stream",
     "text": [
      "Hammaga hammaag Ishlar yaxshi Salom Dunyo juda va av\n"
     ]
    }
   ],
   "source": [
    "# Text 30\n",
    "satr = \"Salom Dunyo Hammaga hammaag va Ishlar juda yaxshi av\"\n",
    "\n",
    "with open(\"Fayllar/text30.txt\", \"w\") as f:\n",
    "    f.write(satr)\n",
    "\n",
    "with open(\"Fayllar/text30.txt\", \"r+\") as f:\n",
    "    s1 = f.read()\n",
    "    s1 = s1.split()\n",
    "    s1 = sorted(s1, key=len, reverse=True)\n",
    "    s1 = \" \".join(s1)\n",
    "    f.write(\"\\n\")\n",
    "    f.write(s1)\n",
    "    f.seek(0)\n",
    "    s2 = f.read()\n",
    "    s2 = s2.split()\n",
    "print(s2[-1])"
   ]
  },
  {
   "cell_type": "code",
   "execution_count": 180,
   "id": "8d8ee538",
   "metadata": {},
   "outputs": [
    {
     "name": "stdout",
     "output_type": "stream",
     "text": [
      "av\n"
     ]
    }
   ],
   "source": [
    "# Text 30.1\n",
    "satr = \"Salom Dunyo Hammaga hammaag va Ishlar juda yaxshi av\"\n",
    "\n",
    "with open(\"Fayllar/text30.1.txt\", \"w\") as f:\n",
    "    f.write(satr)\n",
    "\n",
    "with open(\"Fayllar/text30.1.txt\", \"r+\") as f:\n",
    "    s1 = f.read()\n",
    "    s1 = s1.split()\n",
    "    x = True\n",
    "    for i in range(len(s1)):\n",
    "        if x:\n",
    "            mini = len(s1[i])\n",
    "            suz = s1[i]\n",
    "            x = False\n",
    "        if mini >= len(s1[i]):\n",
    "            mini = len(s1[i])\n",
    "            suz = s1[i]\n",
    "    f.write(\"\\n\")\n",
    "    f.write(suz)\n",
    "    f.seek(0)\n",
    "    s2 = f.readlines()\n",
    "print(s2[1])"
   ]
  },
  {
   "cell_type": "code",
   "execution_count": 201,
   "id": "bb0fc044",
   "metadata": {},
   "outputs": [
    {
     "name": "stdout",
     "output_type": "stream",
     "text": [
      "K = 2\n",
      "['Salom', 'Dunyo', 'Hammaga', 'hammaag', 'va', 'Ishlar', 'juda', 'yaxshi', 'av']\n",
      "va av \n"
     ]
    }
   ],
   "source": [
    "# Text 31\n",
    "satr = \"Salom Dunyo Hammaga hammaag va Ishlar juda yaxshi av\"\n",
    "k = int(input(\"K = \"))\n",
    "with open(\"Fayllar/text31.txt\", \"w\") as f:\n",
    "    f.write(satr)\n",
    "\n",
    "with open(\"Fayllar/text31.txt\", \"r+\") as f:\n",
    "    s1 = f.read()\n",
    "    s1 = s1.split()\n",
    "with open(\"Fayllar/text31.1.txt\", \"w\") as f:\n",
    "    for i in range(len(s1)):\n",
    "        if k == len(s1[i]):\n",
    "            f.write(s1[i])\n",
    "            f.write(\" \")\n",
    "with open(\"Fayllar/text31.1.txt\", \"r\") as f:\n",
    "    f.seek(0)\n",
    "    s2 = f.read()\n",
    "print(s2)"
   ]
  },
  {
   "cell_type": "code",
   "execution_count": 205,
   "id": "47aced94",
   "metadata": {},
   "outputs": [
    {
     "name": "stdout",
     "output_type": "stream",
     "text": [
      "Calom Dunyo Hammaga Chala va Ishlar juda yaxshi chat\n",
      "Calom Chala \n"
     ]
    }
   ],
   "source": [
    "# Text 32\n",
    "satr = \"Calom Dunyo Hammaga Chala va Ishlar juda yaxshi chat\"\n",
    "with open(\"Fayllar/text32.txt\", \"w\") as f:\n",
    "    f.write(satr)\n",
    "print(satr)\n",
    "with open(\"Fayllar/text32.txt\", \"r+\") as f:\n",
    "    s1 = f.read()\n",
    "    s1 = s1.split()\n",
    "\n",
    "with open(\"Fayllar/text32.1.txt\", \"w\") as f:\n",
    "    for i in range(len(s1)):\n",
    "        if \"C\" == s1[i][0]:\n",
    "            f.write(s1[i])\n",
    "            f.write(\" \")\n",
    "with open(\"Fayllar/text32.1.txt\", \"r\") as f:\n",
    "    f.seek(0)\n",
    "    s2 = f.read()\n",
    "print(s2)"
   ]
  },
  {
   "cell_type": "code",
   "execution_count": 207,
   "id": "53600957",
   "metadata": {},
   "outputs": [
    {
     "name": "stdout",
     "output_type": "stream",
     "text": [
      "Calom Dunyo Hammaga Chala va Ishlar juda yaxshi chat\n",
      "chat \n"
     ]
    }
   ],
   "source": [
    "# Text 33\n",
    "satr = \"Calom Dunyo Hammaga Chala va Ishlar juda yaxshi chat\"\n",
    "with open(\"Fayllar/text33.txt\", \"w\") as f:\n",
    "    f.write(satr)\n",
    "print(satr)\n",
    "with open(\"Fayllar/text33.txt\", \"r+\") as f:\n",
    "    s1 = f.read()\n",
    "    s1 = s1.split()\n",
    "\n",
    "with open(\"Fayllar/text33.1.txt\", \"w\") as f:\n",
    "    for i in range(len(s1)):\n",
    "        if \"c\" == s1[i][0]:\n",
    "            f.write(s1[i])\n",
    "            f.write(\" \")\n",
    "with open(\"Fayllar/text33.1.txt\", \"r\") as f:\n",
    "    f.seek(0)\n",
    "    s2 = f.read()\n",
    "print(s2)"
   ]
  },
  {
   "cell_type": "code",
   "execution_count": 535,
   "id": "e840dad0",
   "metadata": {},
   "outputs": [
    {
     "name": "stdout",
     "output_type": "stream",
     "text": [
      "\n",
      "\n",
      "                                    Mark Sukerberg\n",
      "   virtual dunyo shlemlari prototiplarini virtual \n",
      "                      dunyo shlemlaria salom dunyo\n",
      "                                                  \n",
      "                                   namoyish qildi.\n",
      "\n"
     ]
    }
   ],
   "source": [
    "# Text 34\n",
    "satr = \"Mark Sukerberg\\nvirtual dunyo shlemlari prototiplarini virtual dunyo shlemlaria\\nsalom dunyo\\n\\nnamoyish qildi.\"\n",
    "with open(\"Fayllar/text34.txt\", \"w\") as f:\n",
    "    f.write(satr)\n",
    "with open(\"Fayllar/text34.txt\", \"r+\") as f:\n",
    "    s1 = f.read()\n",
    "    s1 = s1.split(\"\\n\")\n",
    "    satr = \"\"\n",
    "    i = 0\n",
    "    while i < len(s1):\n",
    "        if len(s1[i]) <= 50:\n",
    "            satr += s1[i].rjust(50, \" \")+\"\\n\"\n",
    "        if len(s1[i]) > 50:\n",
    "            uzun = s1[i].split(\" \")\n",
    "            x = len(uzun[0])+1\n",
    "            for j in range(len(uzun)):\n",
    "                if x <= 50:\n",
    "                    x += len(uzun[j+1])+1\n",
    "                else:\n",
    "                    uzun.insert(j, \"\\n\")\n",
    "                    x = len(uzun[j+1])+1\n",
    "            a = \" \".join(uzun)\n",
    "            a = a.split(\"\\n\")\n",
    "            for k in range(len(a)):\n",
    "                if k == 0:\n",
    "                    satr += a[k].rjust(50, \" \")+\"\\n\"\n",
    "                else:\n",
    "                    satr += (a[k]+\" \"+s1[i+1]).rjust(50, \" \")+\"\\n\"\n",
    "            i += 1\n",
    "        i += 1\n",
    "with open(\"Fayllar/text34.txt\", \"w\") as f:              \n",
    "    f.write(\"\\n\\n\")\n",
    "    f.write(satr)\n",
    "with open(\"Fayllar/text34.txt\", \"r+\") as f:\n",
    "    f.seek(0)\n",
    "    s2 = f.read()\n",
    "print(s2)"
   ]
  },
  {
   "cell_type": "code",
   "execution_count": 15,
   "id": "66662806",
   "metadata": {},
   "outputs": [
    {
     "name": "stdout",
     "output_type": "stream",
     "text": [
      "['Mark Sukerberg\\nvirtual dunyo shlemlari prototiplarini virtual dunyo shlemlari\\nsalom dunyo Sukerberg Sukerberg Sukerberg Sukerberg Sukerberg', 'namoyish qildi.']\n",
      "[['Mark Sukerberg', ['virtual', 'dunyo', 'shlemlari', 'prototiplarini', 'virtual', 'dunyo', 'shlemlari'], ['salom', 'dunyo', 'Sukerberg', 'Sukerberg', 'Sukerberg', 'Sukerberg', 'Sukerberg']], ['namoyish qildi.']]\n",
      "[1, 2]\n"
     ]
    }
   ],
   "source": [
    "# Text 34\n",
    "satr = \"Mark Sukerberg\\nvirtual dunyo shlemlari prototiplarini virtual dunyo shlemlari\\nsalom dunyo Sukerberg Sukerberg Sukerberg Sukerberg Sukerberg\\n\\nnamoyish qildi.\"\n",
    "with open(\"Fayllar/text34.txt\", \"w\") as f:\n",
    "    f.write(satr)\n",
    "with open(\"Fayllar/text34.txt\", \"r+\") as f:\n",
    "    s1 = f.read()\n",
    "    s1 = s1.split(\"\\n\\n\")\n",
    "    s2 = []\n",
    "    idx = []\n",
    "    for i in range(len(s1)):\n",
    "        s2.append(s1[i].split(\"\\n\"))\n",
    "        for j in range(len(s2[i])):\n",
    "            if len(s2[i][j]) > 50:\n",
    "                s2[i][j] = s2[i][j].split(\" \")\n",
    "                idx.append(s2[i].index(s2[i][j]))\n",
    "    print(s1)\n",
    "    print(s2)\n",
    "    print(idx)"
   ]
  },
  {
   "cell_type": "code",
   "execution_count": 18,
   "id": "a97cf693",
   "metadata": {},
   "outputs": [
    {
     "name": "stdout",
     "output_type": "stream",
     "text": [
      "Mark Sukerberg\n",
      "virtual dunyo shlemlari prototiplarini\n",
      "namoyish qildi\n",
      "\n",
      "                  Mark Sukerberg\n",
      "      virtual dunyo shlemlari prototiplarini\n",
      "                  namoyish qildi\n"
     ]
    }
   ],
   "source": [
    "# Text 35\n",
    "satr = \"Mark Sukerberg\\nvirtual dunyo shlemlari prototiplarini\\nnamoyish qildi\"\n",
    "with open(\"Fayllar/text35.txt\", \"w\") as f:\n",
    "    f.write(satr)\n",
    "with open(\"Fayllar/text35.txt\", \"r+\") as f:\n",
    "    s1 = f.readlines()\n",
    "    for i in range(len(s1)):\n",
    "        x = 0\n",
    "        if len(s1[2*i]) < 50:\n",
    "            x = (50-len(s1[2*i]))//2\n",
    "            if len(s1[2*i])%2 == 0:\n",
    "                s1.insert(2*i, (x*\" \"))\n",
    "            else:\n",
    "                s1.insert(2*i, ((x+1)*\" \"))\n",
    "    f.write(\"\\n\\n\")\n",
    "    f.writelines(s1)\n",
    "    f.seek(0)\n",
    "    s2 = f.read()\n",
    "print(s2)"
   ]
  },
  {
   "cell_type": "code",
   "execution_count": 168,
   "id": "af71e42f",
   "metadata": {},
   "outputs": [
    {
     "name": "stdout",
     "output_type": "stream",
     "text": [
      "                              Mark Sukerberg\n",
      "      virtual dunyo shlemlari prototiplarini\n",
      "                              namoyish qildi\n",
      "\n",
      "               Mark Sukerberg\n",
      "   virtual dunyo shlemlari prototiplarini\n",
      "               namoyish qildi\n"
     ]
    }
   ],
   "source": [
    "# Text 36\n",
    "satr = \"                              Mark Sukerberg\\n      virtual dunyo shlemlari prototiplarini\\n                              namoyish qildi\"\n",
    "with open(\"Fayllar/text36.txt\", \"w\") as f:\n",
    "    f.write(satr)\n",
    "with open(\"Fayllar/text36.txt\", \"r+\") as f:\n",
    "    s1 = f.readlines()\n",
    "    i = 0\n",
    "    s2 = []\n",
    "    while i < len(s1):\n",
    "        s = 0\n",
    "        for j in range(len(s1[i])):\n",
    "            if s1[i][j] == \" \":\n",
    "                s += 1\n",
    "            elif s1[i][j] != \" \":\n",
    "                break\n",
    "        s2.append(s)\n",
    "        \n",
    "        i += 1\n",
    "    f.write(\"\\n\\n\")\n",
    "    for i in range(len(s1)):\n",
    "        if s2[i]%2 == 0:\n",
    "            x = s2[i]//2\n",
    "        else:\n",
    "            x = s2[i]//2+1\n",
    "        s3 = s1[i][x::]\n",
    "        f.write(s3)\n",
    "    f.seek(0)\n",
    "    s2 = f.read()\n",
    "print(s2)"
   ]
  },
  {
   "cell_type": "code",
   "execution_count": 581,
   "id": "bf4cec8a",
   "metadata": {},
   "outputs": [
    {
     "name": "stdout",
     "output_type": "stream",
     "text": [
      "['Mark Sukerberg', 'virtual dunyo shlemlari prototiplarini', 'namoyish qildi']\n",
      "['Mark', 'Sukerberg']\n",
      "['virtual', 'dunyo', 'shlemlari', 'prototiplarini']\n",
      "['namoyish', 'qildi']\n",
      "Mark Sukerberg\n",
      "virtual dunyo shlemlari prototiplarini\n",
      "namoyish qildi\n",
      "\n",
      "Mark                                     Sukerbergvirtual       dunyo       shlemlari       prototiplarininamoyish                                     qildi\n"
     ]
    }
   ],
   "source": [
    "# Text 37\n",
    "satr = \"Mark Sukerberg\\nvirtual dunyo shlemlari prototiplarini\\nnamoyish qildi\"\n",
    "with open(\"Fayllar/text37.txt\", \"w\") as f:\n",
    "    f.write(satr)\n",
    "with open(\"Fayllar/text37.txt\", \"r+\") as f:\n",
    "    s1 = f.read()\n",
    "    s1 = s1.split(\"\\n\")\n",
    "    f.write(\"\\n\\n\")\n",
    "    print(s1)\n",
    "    for i in range(len(s1)):\n",
    "        s = s1[i].count(\" \")\n",
    "        uzun = 50 - len(s1[i])\n",
    "        x = uzun//s\n",
    "        x1 = uzun%s          \n",
    "        s2 = s1[i].split(\" \")\n",
    "        print(s2)\n",
    "        if x1 == 0:\n",
    "            for j in range(len(s2)-1):\n",
    "                s2.insert(2*j+1, (x+s)*\" \")\n",
    "                s2.append(\"\\n\")\n",
    "        else:\n",
    "            for j in range(len(s2)-1):\n",
    "                s2.insert(2*j+1, (x+s)*\" \")\n",
    "            for k in range(x1):\n",
    "                s2.insert(3*k+2, \" \")\n",
    "        f.writelines(s2)\n",
    "    f.seek(0)\n",
    "    s2 = f.read()\n",
    "print(s2)"
   ]
  },
  {
   "cell_type": "code",
   "execution_count": 67,
   "id": "3d572884",
   "metadata": {},
   "outputs": [
    {
     "name": "stdout",
     "output_type": "stream",
     "text": [
      "[4, 6, 8, 9, 10]\n"
     ]
    }
   ],
   "source": [
    "a = [1,2,3,4,5,6,7,8,9,10]\n",
    "def tub(x):\n",
    "    for j in range(2, int(x**0.5)+1):\n",
    "        if x%j==0:\n",
    "            return True\n",
    "    return False\n",
    "a = filter(tub, a)\n",
    "print(list(a))"
   ]
  },
  {
   "cell_type": "code",
   "execution_count": 225,
   "id": "928fe377",
   "metadata": {},
   "outputs": [
    {
     "name": "stdout",
     "output_type": "stream",
     "text": [
      "K = 20\n",
      "[['Mark', 'Sukerberg\\n'], ['virtual', 'dunyo', 'shlemlari', 'prototiplarini\\n'], ['namoyish', 'qildi']]\n",
      "3\n",
      "2\n",
      "4\n",
      "['Mark', 'Sukerberg\\n']\n",
      "10\n",
      "['Mark', 'Sukerberg\\n']\n",
      "4\n",
      "7\n",
      "['virtual', 'dunyo', 'shlemlari', 'prototiplarini\\n']\n",
      "5\n",
      "['virtual', 'dunyo', 'shlemlari', 'prototiplarini\\n']\n",
      "9\n",
      "['virtual', 'dunyo', 'shlemlari', 'prototiplarini\\n']\n",
      "15\n"
     ]
    },
    {
     "ename": "AttributeError",
     "evalue": "'str' object has no attribute 'insert'",
     "output_type": "error",
     "traceback": [
      "\u001b[1;31m---------------------------------------------------------------------------\u001b[0m",
      "\u001b[1;31mAttributeError\u001b[0m                            Traceback (most recent call last)",
      "Input \u001b[1;32mIn [225]\u001b[0m, in \u001b[0;36m<cell line: 6>\u001b[1;34m()\u001b[0m\n\u001b[0;32m     20\u001b[0m     x \u001b[38;5;241m+\u001b[39m\u001b[38;5;241m=\u001b[39m \u001b[38;5;28mlen\u001b[39m(s2[j])\n\u001b[0;32m     21\u001b[0m \u001b[38;5;28;01melse\u001b[39;00m:\n\u001b[1;32m---> 22\u001b[0m     \u001b[43ms2\u001b[49m\u001b[43m[\u001b[49m\u001b[43mi\u001b[49m\u001b[43m]\u001b[49m\u001b[38;5;241;43m.\u001b[39;49m\u001b[43minsert\u001b[49m(j\u001b[38;5;241m-\u001b[39m\u001b[38;5;241m1\u001b[39m, \u001b[38;5;124m\"\u001b[39m\u001b[38;5;130;01m\\n\u001b[39;00m\u001b[38;5;124m\"\u001b[39m)\n\u001b[0;32m     23\u001b[0m     x \u001b[38;5;241m=\u001b[39m \u001b[38;5;241m0\u001b[39m\n\u001b[0;32m     24\u001b[0m \u001b[38;5;28mprint\u001b[39m(s2)\n",
      "\u001b[1;31mAttributeError\u001b[0m: 'str' object has no attribute 'insert'"
     ]
    }
   ],
   "source": [
    "# Text 38\n",
    "satr = \"Mark Sukerberg\\nvirtual dunyo shlemlari prototiplarini\\nnamoyish qildi\"\n",
    "k = int(input(\"K = \"))\n",
    "with open(\"Fayllar/text38.txt\", \"w\") as f:\n",
    "    f.write(satr)\n",
    "with open(\"Fayllar/text38.txt\", \"r+\") as f:\n",
    "    s1 = f.readlines()\n",
    "    for i in range(len(s1)):\n",
    "        s1[i] = s1[i].split(\" \")\n",
    "    print(s1)\n",
    "    f.write(\"\\n\\n\")\n",
    "    print(len(s1))\n",
    "    for i in range(len(s1)):\n",
    "        s2 = s1[i]\n",
    "        x = 0\n",
    "        print(len(s2))\n",
    "        for j in range(len(s2)):\n",
    "            print(len(s2[j]))\n",
    "            if x < k:\n",
    "                x += len(s2[j])\n",
    "            else:\n",
    "                s2.insert(j-1, \"\\n\")\n",
    "                x = 0\n",
    "            print(s2)\n",
    "    \n",
    "    #f.write(s2)\n",
    "    f.seek(0)\n",
    "    s2 = f.read()\n",
    "print(s2)"
   ]
  },
  {
   "cell_type": "code",
   "execution_count": 118,
   "id": "0c3a0e08",
   "metadata": {},
   "outputs": [
    {
     "name": "stdout",
     "output_type": "stream",
     "text": [
      "9\n"
     ]
    }
   ],
   "source": [
    "a = 9\n",
    "b = 7\n",
    "if a > b:\n",
    "    print(a)\n",
    "else:\n",
    "    print(b)"
   ]
  },
  {
   "cell_type": "code",
   "execution_count": 123,
   "id": "8197ab38",
   "metadata": {},
   "outputs": [
    {
     "name": "stdout",
     "output_type": "stream",
     "text": [
      "131 101 119 195 155 164 190 132 133 164\n"
     ]
    }
   ],
   "source": [
    "from random import randint\n",
    "a = [randint(100, 200) for _ in range(10)]\n",
    "print(*a)"
   ]
  },
  {
   "cell_type": "code",
   "execution_count": 124,
   "id": "8789b1a8",
   "metadata": {
    "scrolled": true
   },
   "outputs": [
    {
     "name": "stdout",
     "output_type": "stream",
     "text": [
      "a = 1 2 3 4 5\n",
      "1 3 5\n"
     ]
    }
   ],
   "source": [
    "a = list(map(int,input(\"a = \").split()))\n",
    "b = []\n",
    "for i in range(0,len(a),2):\n",
    "    b.append(a[i])\n",
    "print(*b)"
   ]
  },
  {
   "cell_type": "code",
   "execution_count": 125,
   "id": "9070fc74",
   "metadata": {},
   "outputs": [
    {
     "name": "stdout",
     "output_type": "stream",
     "text": [
      "1 3 5\n"
     ]
    }
   ],
   "source": [
    "a = [1,2,3,4,5]\n",
    "b = []\n",
    "for i in range(0,len(a),2):\n",
    "    b.append(a[i])\n",
    "print(*b)"
   ]
  },
  {
   "cell_type": "code",
   "execution_count": 127,
   "id": "6eb10149",
   "metadata": {},
   "outputs": [
    {
     "name": "stdout",
     "output_type": "stream",
     "text": [
      "1 3 5\n"
     ]
    }
   ],
   "source": [
    "a = [1,2,3,4,5]\n",
    "print(*a[0::2])"
   ]
  },
  {
   "cell_type": "code",
   "execution_count": 156,
   "id": "46bd0496",
   "metadata": {},
   "outputs": [
    {
     "name": "stdout",
     "output_type": "stream",
     "text": [
      "1\n",
      "2\n",
      "3\n",
      "4\n",
      "5\n",
      "6\n",
      "7\n",
      "8\n",
      "9\n"
     ]
    }
   ],
   "source": [
    "i=1  \n",
    "while(i<10): \n",
    "    print(i)\n",
    "    i += 1"
   ]
  },
  {
   "cell_type": "markdown",
   "id": "8737819c",
   "metadata": {},
   "source": [
    "# Sonli ma'lumotlarga ega bo'lgan matnli fayl"
   ]
  },
  {
   "cell_type": "code",
   "execution_count": 241,
   "id": "3fc6b588",
   "metadata": {},
   "outputs": [
    {
     "name": "stdout",
     "output_type": "stream",
     "text": [
      "                     | 10   16 |\n",
      "                     | 11   17 |\n",
      "                     | 12   18 |\n",
      "                     | 13   19 |\n",
      "                     | 14   20 |\n",
      "                     | 15   21 |\n",
      "\n"
     ]
    }
   ],
   "source": [
    "# Text 40\n",
    "son1 = \"10\\n11\\n12\\n13\\n14\\n15\"\n",
    "son2 = \"16\\n17\\n18\\n19\\n20\\n21\"\n",
    "with open(\"Fayllar/text40.txt\", \"w\") as f:\n",
    "    f.write(\"\")\n",
    "with open(\"Fayllar/text40.1.txt\", \"w\") as f:\n",
    "    f.write(son1)\n",
    "with open(\"Fayllar/text40.2.txt\", \"w\") as f:\n",
    "    f.write(son2)\n",
    "with open(\"Fayllar/text40.1.txt\", \"r\") as f:\n",
    "    s1 = f.read()\n",
    "    s1 = s1.split(\"\\n\")\n",
    "with open(\"Fayllar/text40.2.txt\", \"r\") as f:\n",
    "    s2 = f.read()\n",
    "    s2 = s2.split(\"\\n\")\n",
    "x = 30 - len(s1[1])\n",
    "s3 = []\n",
    "for i in range(len(s1)):\n",
    "    s3.append((x-7)*\" \"+\"| \"+s1[i]+\"   \"+s2[i]+\" |\"+\"\\n\")  \n",
    "with open(\"Fayllar/text40.txt\", \"r+\") as f:\n",
    "    f.writelines(s3)\n",
    "    f.seek(0)\n",
    "    son3 = f.read()\n",
    "print(son3)"
   ]
  },
  {
   "cell_type": "code",
   "execution_count": 243,
   "id": "34147263",
   "metadata": {},
   "outputs": [
    {
     "name": "stdout",
     "output_type": "stream",
     "text": [
      " | 10   16 |\n",
      " | 11   17 |\n",
      " | 12   18 |\n",
      " | 13   19 |\n",
      " | 14   20 |\n",
      " | 15   21 |\n",
      "\n"
     ]
    }
   ],
   "source": [
    "# Text 41\n",
    "son1 = \"10\\n11\\n12\\n13\\n14\\n15\"\n",
    "son2 = \"16\\n17\\n18\\n19\\n20\\n21\"\n",
    "with open(\"Fayllar/text41.txt\", \"w\") as f:\n",
    "    f.write(\"\")\n",
    "with open(\"Fayllar/text41.1.txt\", \"w\") as f:\n",
    "    f.write(son1)\n",
    "with open(\"Fayllar/text41.2.txt\", \"w\") as f:\n",
    "    f.write(son2)\n",
    "with open(\"Fayllar/text41.1.txt\", \"r\") as f:\n",
    "    s1 = f.read()\n",
    "    s1 = s1.split(\"\\n\")\n",
    "with open(\"Fayllar/text41.2.txt\", \"r\") as f:\n",
    "    s2 = f.read()\n",
    "    s2 = s2.split(\"\\n\")\n",
    "x = 30 - len(s1[1])\n",
    "s3 = []\n",
    "for i in range(len(s1)):\n",
    "    s3.append(\" \"+\"| \"+s1[i]+\"   \"+s2[i]+\" |\"+\"\\n\")  \n",
    "with open(\"Fayllar/text41.txt\", \"r+\") as f:\n",
    "    f.writelines(s3)\n",
    "    f.seek(0)\n",
    "    son3 = f.read()\n",
    "print(son3)"
   ]
  },
  {
   "cell_type": "code",
   "execution_count": 371,
   "id": "29cacca5",
   "metadata": {},
   "outputs": [],
   "source": [
    "# Text 41\n",
    "with open(\"Fayllar/text41.1.txt\", \"r\") as f:\n",
    "    s1 = f.read()\n",
    "    s1 = s1.split(\"\\n\")\n",
    "with open(\"Fayllar/text41.2.txt\", \"r\") as f:\n",
    "    s2 = f.read()\n",
    "    s2 = s2.split(\"\\n\")\n",
    "    \n",
    "s3 = []\n",
    "for i in range(len(s1)):\n",
    "    s3.append(\"| \"+s1[i]+\"   \"+s2[i]+\" |\"+\"\\n\") \n",
    "    \n",
    "with open(\"Fayllar/text41.txt\", \"w\") as f:\n",
    "    f.writelines(s3)"
   ]
  },
  {
   "cell_type": "code",
   "execution_count": 388,
   "id": "d11ff3aa",
   "metadata": {},
   "outputs": [
    {
     "name": "stdout",
     "output_type": "stream",
     "text": [
      "N = 2\n",
      "A = 2.5\n",
      "B = 5.2\n",
      "|\tx\t|\tx**0.5\t\t|\n",
      "|\t 2.5 \t|\t 1.5811 \t|\n",
      "|\t 3.9 \t|\t 1.9621 \t|\n",
      "|\t 5.2 \t|\t 2.2804 \t|\n",
      "\n"
     ]
    }
   ],
   "source": [
    "# Text 42\n",
    "n = int(input(\"N = \"))\n",
    "A = float(input(\"A = \"))\n",
    "B = float(input(\"B = \"))\n",
    "oraliq = (B-A)/n\n",
    "kiruvchi = [str(A)]\n",
    "fx = (A)**0.5\n",
    "natija = [str(fx)]\n",
    "for i in range(int(A), int(B)):\n",
    "    if A < B:\n",
    "        A = A + oraliq\n",
    "        kiruvchi.append(str(A))\n",
    "        natija.append(str((A)**0.5))\n",
    "    else:\n",
    "        break\n",
    "        \n",
    "\n",
    "with open(\"Fayllar/text42.txt\", \"w\") as f:\n",
    "    print(\"|\\tx\\t|\\tx**0.5\\t\\t|\", file=f)\n",
    "    for i in range(len(kiruvchi)):\n",
    "        a = round(float(kiruvchi[i]),1)\n",
    "        b = round(float(natija[i]),4)\n",
    "        print(\"|\\t\",a, \"\\t|\\t\",b, \"\\t|\", file=f)\n",
    "with open(\"Fayllar/text42.txt\", \"r+\") as f:\n",
    "    f.seek(0)\n",
    "    son3 = f.read()\n",
    "print(son3)"
   ]
  },
  {
   "cell_type": "code",
   "execution_count": 397,
   "id": "ad08da7c",
   "metadata": {},
   "outputs": [
    {
     "name": "stdout",
     "output_type": "stream",
     "text": [
      "N = 5\n",
      "A = 2\n",
      "B = 10\n",
      "|  x   |  sin(x)  |  cos(x)  |\n"
     ]
    },
    {
     "ename": "TypeError",
     "evalue": "str() argument 2 must be str, not int",
     "output_type": "error",
     "traceback": [
      "\u001b[1;31m---------------------------------------------------------------------------\u001b[0m",
      "\u001b[1;31mTypeError\u001b[0m                                 Traceback (most recent call last)",
      "Input \u001b[1;32mIn [397]\u001b[0m, in \u001b[0;36m<cell line: 22>\u001b[1;34m()\u001b[0m\n\u001b[0;32m     23\u001b[0m \u001b[38;5;28mprint\u001b[39m(\u001b[38;5;124mf\u001b[39m\u001b[38;5;124m\"\u001b[39m\u001b[38;5;124m|\u001b[39m\u001b[38;5;132;01m{\u001b[39;00m\u001b[38;5;124m'\u001b[39m\u001b[38;5;124mx\u001b[39m\u001b[38;5;124m'\u001b[39m\u001b[38;5;241m.\u001b[39mcenter(\u001b[38;5;241m6\u001b[39m)\u001b[38;5;132;01m}\u001b[39;00m\u001b[38;5;124m|\u001b[39m\u001b[38;5;132;01m{\u001b[39;00m\u001b[38;5;124m'\u001b[39m\u001b[38;5;124msin(x)\u001b[39m\u001b[38;5;124m'\u001b[39m\u001b[38;5;241m.\u001b[39mcenter(\u001b[38;5;241m10\u001b[39m)\u001b[38;5;132;01m}\u001b[39;00m\u001b[38;5;124m|\u001b[39m\u001b[38;5;132;01m{\u001b[39;00m\u001b[38;5;124m'\u001b[39m\u001b[38;5;124mcos(x)\u001b[39m\u001b[38;5;124m'\u001b[39m\u001b[38;5;241m.\u001b[39mcenter(\u001b[38;5;241m10\u001b[39m)\u001b[38;5;132;01m}\u001b[39;00m\u001b[38;5;124m|\u001b[39m\u001b[38;5;124m\"\u001b[39m)\n\u001b[0;32m     24\u001b[0m \u001b[38;5;28;01mfor\u001b[39;00m i \u001b[38;5;129;01min\u001b[39;00m \u001b[38;5;28mrange\u001b[39m(\u001b[38;5;28mlen\u001b[39m(kiruvchi)):\n\u001b[1;32m---> 25\u001b[0m     a \u001b[38;5;241m=\u001b[39m \u001b[38;5;28mround\u001b[39m(\u001b[38;5;28;43mstr\u001b[39;49m\u001b[43m(\u001b[49m\u001b[38;5;28;43mfloat\u001b[39;49m\u001b[43m(\u001b[49m\u001b[43mkiruvchi\u001b[49m\u001b[43m[\u001b[49m\u001b[43mi\u001b[49m\u001b[43m]\u001b[49m\u001b[43m)\u001b[49m\u001b[43m,\u001b[49m\u001b[38;5;241;43m1\u001b[39;49m\u001b[43m)\u001b[49m)\n\u001b[0;32m     26\u001b[0m     b \u001b[38;5;241m=\u001b[39m \u001b[38;5;28mround\u001b[39m(\u001b[38;5;28mstr\u001b[39m(\u001b[38;5;28mfloat\u001b[39m(n_sin[i]),\u001b[38;5;241m4\u001b[39m))\n\u001b[0;32m     27\u001b[0m     c \u001b[38;5;241m=\u001b[39m \u001b[38;5;28mround\u001b[39m(\u001b[38;5;28mstr\u001b[39m(\u001b[38;5;28mfloat\u001b[39m(n_cos[i]),\u001b[38;5;241m4\u001b[39m))\n",
      "\u001b[1;31mTypeError\u001b[0m: str() argument 2 must be str, not int"
     ]
    }
   ],
   "source": [
    "# Text 43\n",
    "from math import *\n",
    "n = int(input(\"N = \"))\n",
    "A = float(input(\"A = \"))\n",
    "B = float(input(\"B = \"))\n",
    "oraliq = (B-A)/n\n",
    "kiruvchi = [str(A)]\n",
    "sinx = sin(A)\n",
    "cosx = cos(A)\n",
    "n_sin = [str(sinx)]\n",
    "n_cos = [str(cosx)]\n",
    "for i in range(n):\n",
    "    if A < B:\n",
    "        A = A + oraliq\n",
    "        kiruvchi.append(str(A))\n",
    "        n_sin.append(str(sin(A)))\n",
    "        n_cos.append(str(cos(A)))\n",
    "    else:\n",
    "        break\n",
    "\n",
    "\n",
    "with open(\"Fayllar/text43.txt\", \"w\") as f:\n",
    "    print(f\"|{'x'.center(6)}|{'sin(x)'.center(10)}|{'cos(x)'.center(10)}|\")\n",
    "    for i in range(len(kiruvchi)):\n",
    "        a = round(str(float(kiruvchi[i]),1))\n",
    "        b = round(str(float(n_sin[i]),4))\n",
    "        c = round(str(float(n_cos[i]),4))\n",
    "        print(f\"|{a.center(6)}|{b.center(10)} |{c.center(10)}|\")\n",
    "with open(\"Fayllar/text43.txt\", \"r+\") as f:\n",
    "    f.seek(0)\n",
    "    son3 = f.read()\n",
    "print(son3)"
   ]
  },
  {
   "cell_type": "code",
   "execution_count": 341,
   "id": "00b8b7de",
   "metadata": {},
   "outputs": [
    {
     "name": "stdout",
     "output_type": "stream",
     "text": [
      "Sonlar miqdori: 6 ta\n",
      "Summa: 75\n"
     ]
    }
   ],
   "source": [
    "# Text 44\n",
    "son = \"   10    \\n    11    \\n    12     \\n    13    \\n       14    \\n     15     \"\n",
    "with open(\"Fayllar/text44.txt\", \"w\") as f:\n",
    "    f.write(son)\n",
    "with open(\"Fayllar/text44.txt\", \"r\") as f:\n",
    "    s1 = f.read()\n",
    "    s1 = s1.split()\n",
    "summ = []\n",
    "for i in range(len(s1)):\n",
    "    summ.append(int(s1[i]))\n",
    "\n",
    "print(f\"Sonlar miqdori: {len(summ)} ta\")\n",
    "print(f\"Summa: {sum(summ)}\")"
   ]
  },
  {
   "cell_type": "code",
   "execution_count": 351,
   "id": "665af6bd",
   "metadata": {},
   "outputs": [
    {
     "name": "stdout",
     "output_type": "stream",
     "text": [
      "11.2 13.11 14.1\n",
      "Sonlar miqdori: 3 ta\n",
      "Summa: 38.41\n"
     ]
    }
   ],
   "source": [
    "# Text 45\n",
    "son = \"   10    \\n    11.2    \\n    12     \\n    13.11    \\n       14.1    \\n     15     \"\n",
    "with open(\"Fayllar/text45.txt\", \"w\") as f:\n",
    "    f.write(son)\n",
    "with open(\"Fayllar/text45.txt\", \"r\") as f:\n",
    "    s1 = f.read()\n",
    "    s1 = s1.split()\n",
    "summ = []\n",
    "for i in range(len(s1)):\n",
    "    x = float(s1[i])\n",
    "    if x%1 != 0:\n",
    "        summ.append(x)\n",
    "    \n",
    "\n",
    "print(*summ)\n",
    "print(f\"Sonlar miqdori: {len(summ)} ta\")\n",
    "print(f\"Summa: {sum(summ)}\")"
   ]
  },
  {
   "cell_type": "code",
   "execution_count": 370,
   "id": "4691efdb",
   "metadata": {},
   "outputs": [
    {
     "name": "stdout",
     "output_type": "stream",
     "text": [
      "[['10', '11', '9'], ['11.2', '2'], ['12', '11.1'], ['15.3', '13.11'], ['14.1', '12'], ['15']]\n",
      "['11.2', '11.1', '15.3', '13.11', '14.1']\n"
     ]
    }
   ],
   "source": [
    "# Text 46\n",
    "son = \"10  11  9\\n11.2  2\\n12  11.1\\n15.3  13.11\\n14.1 12\\n15\"\n",
    "with open(\"Fayllar/text46.txt\", \"w\") as f:\n",
    "    f.write(son)\n",
    "with open(\"Fayllar/text46.txt\", \"r\") as f:\n",
    "    s1 = f.read()\n",
    "    s1 = s1.split(\"\\n\")\n",
    "s2 = []\n",
    "for i in range(len(s1)):\n",
    "    s2.append(s1[i].split())\n",
    "print(s2)\n",
    "onli_son = []\n",
    "for i in range(len(s2)):\n",
    "    for j in range(len(s2[i])):\n",
    "        if float(s2[i][j])%1 != 0:\n",
    "            onli_son.append(s2[i][j])\n",
    "print(onli_son)"
   ]
  },
  {
   "cell_type": "code",
   "execution_count": 572,
   "id": "495d2842",
   "metadata": {},
   "outputs": [
    {
     "name": "stdout",
     "output_type": "stream",
     "text": [
      "sfsdfsDFsdfsdfSDfsDfsdFSdfSDfsdfsdfSDFSDfsdfzadv\n",
      "xjzlhvMPvikwknUGocGkxhMAfiBNixijzlhVMPVIkwknbdmf\n"
     ]
    }
   ],
   "source": [
    "# Text 59\n",
    "s = [5,4,7,8,2,3,9,10,3,5]\n",
    "text = \"sfsdfsDFsdfsdfSDfsDfsdFSdfSDfsdfsdfSDFSDfsdfzadv\"\n",
    "with open(\"Fayllar/shifer.txt\", \"w\") as f:\n",
    "    f.write(text)\n",
    "with open(\"Fayllar/shifer.txt\", \"r+\") as f:\n",
    "    matn = f.read()\n",
    "print(matn)\n",
    "\n",
    "x = len(matn)//len(s)\n",
    "y = len(matn)%len(s)\n",
    "s1 = []\n",
    "for i in range(x):\n",
    "    s1.extend(s)\n",
    "s1.extend(s[:y])\n",
    "\n",
    "matn = \"\"\n",
    "for i in range(len(text)):\n",
    "    if \"a\" <= text[i] <= \"z\":\n",
    "        if chr(ord(text[i])+s1[i]) <= \"z\":\n",
    "            matn += chr(ord(text[i])+s1[i])\n",
    "        elif chr(ord(text[i])+s1[i]) > \"z\":\n",
    "            matn += chr(ord(text[i])-26+s1[i])\n",
    "    elif \"A\" <= text[i] <= \"Z\":\n",
    "        if chr(ord(text[i])+s1[i]) <= \"Z\":\n",
    "            matn += chr(ord(text[i])+s1[i])\n",
    "        elif chr(ord(text[i])+s1[i]) > \"Z\":\n",
    "            matn += chr(ord(text[i])-26+s1[i])\n",
    "    else:\n",
    "        matn += text[i]\n",
    "print(matn)\n",
    "with open(\"Fayllar/deshifer.txt\", \"w\") as f:\n",
    "    f.write(matn)"
   ]
  },
  {
   "cell_type": "markdown",
   "id": "f31b528d",
   "metadata": {},
   "source": [
    "# Modul yaratish"
   ]
  },
  {
   "cell_type": "code",
   "execution_count": 584,
   "id": "05f3831f",
   "metadata": {},
   "outputs": [
    {
     "data": {
      "text/plain": [
       "-1"
      ]
     },
     "execution_count": 584,
     "metadata": {},
     "output_type": "execute_result"
    }
   ],
   "source": [
    "import Modul as m\n",
    "m.yigindi(2,3)\n",
    "m.ayrma(2,3)"
   ]
  },
  {
   "cell_type": "code",
   "execution_count": 1,
   "id": "810b2596",
   "metadata": {},
   "outputs": [
    {
     "name": "stdout",
     "output_type": "stream",
     "text": [
      "2 3 5 7 11 13 17 19 23 29 31 37 41 43 47 53 59 61 67 71 73 79 83 89 97 None\n"
     ]
    }
   ],
   "source": [
    "from tub import tub_son\n",
    "print(tub_son(100))"
   ]
  },
  {
   "cell_type": "code",
   "execution_count": 2,
   "id": "0e743c40",
   "metadata": {},
   "outputs": [
    {
     "name": "stdout",
     "output_type": "stream",
     "text": [
      "1 3 5 7 9 11 13 15 17 19 21 23 25 27 29 31 33 35 37 39 41 43 45 47 49 51 53 55 57 59 61 63 65 67 69 71 73 75 77 79 81 83 85 87 89 91 93 95 97 99 None\n"
     ]
    }
   ],
   "source": [
    "from toq import toq_son\n",
    "print(toq_son(100))"
   ]
  },
  {
   "cell_type": "code",
   "execution_count": 6,
   "id": "e9ab2575",
   "metadata": {},
   "outputs": [
    {
     "name": "stdout",
     "output_type": "stream",
     "text": [
      "15\n"
     ]
    }
   ],
   "source": [
    "def rec(a):\n",
    "    if a == 1:\n",
    "        return 1\n",
    "    else:\n",
    "        return a + rec(a-1)\n",
    "print(rec(5))"
   ]
  },
  {
   "cell_type": "code",
   "execution_count": 10,
   "id": "06981efc",
   "metadata": {},
   "outputs": [
    {
     "name": "stdout",
     "output_type": "stream",
     "text": [
      "55\n"
     ]
    }
   ],
   "source": [
    "def fib(a):\n",
    "    if a == 1 or a ==2:\n",
    "        return 1\n",
    "    else:\n",
    "        return fib(a-2) + fib(a-1)\n",
    "print(fib(10))"
   ]
  },
  {
   "cell_type": "code",
   "execution_count": 22,
   "id": "eaaf51ae",
   "metadata": {},
   "outputs": [
    {
     "name": "stdout",
     "output_type": "stream",
     "text": [
      "N = 2\n",
      "8 5\n",
      "7 5\n",
      "Determinant : 5\n"
     ]
    }
   ],
   "source": [
    "from random import randint\n",
    "\n",
    "def determinant(m, i, j):\n",
    "    return [k[:j] + k[j+1:] for k in (m[:i] + m[i+1:])]\n",
    " \n",
    "def determinantMatritsa(mat):\n",
    " \n",
    "    if(len(mat) == 2):\n",
    "        natija = mat[0][0] * mat[1][1] - mat[1][0] * mat[0][1]\n",
    "        return natija\n",
    " \n",
    "    Sum = 0\n",
    "\n",
    "    for i in range(len(mat)):\n",
    "        ishora = (-1) ** (i)\n",
    "        daraja = determinantMatritsa(determinant(mat, 0, i))\n",
    "        Sum += (ishora * mat[0][i] * daraja)\n",
    "    return Sum\n",
    "\n",
    "n = int(input(\"N = \"))\n",
    "\n",
    "mat = [[randint(0, 9) for i in range(n)] for j in range(n)]\n",
    "for i in mat:\n",
    "    print(*i)\n",
    "\n",
    "print('Determinant :', determinantMatritsa(mat))"
   ]
  },
  {
   "cell_type": "code",
   "execution_count": 24,
   "id": "89cc2519",
   "metadata": {},
   "outputs": [
    {
     "name": "stdout",
     "output_type": "stream",
     "text": [
      "40 is O.K\n",
      "26 is O.K\n",
      "39 is O.K\n",
      "30 is O.K\n"
     ]
    },
    {
     "ename": "AssertionError",
     "evalue": "Batch is Rejected",
     "output_type": "error",
     "traceback": [
      "\u001b[1;31m---------------------------------------------------------------------------\u001b[0m",
      "\u001b[1;31mAssertionError\u001b[0m                            Traceback (most recent call last)",
      "Input \u001b[1;32mIn [24]\u001b[0m, in \u001b[0;36m<cell line: 3>\u001b[1;34m()\u001b[0m\n\u001b[0;32m      2\u001b[0m cut \u001b[38;5;241m=\u001b[39m \u001b[38;5;241m26\u001b[39m\n\u001b[0;32m      3\u001b[0m \u001b[38;5;28;01mfor\u001b[39;00m i \u001b[38;5;129;01min\u001b[39;00m batch:\n\u001b[1;32m----> 4\u001b[0m     \u001b[38;5;28;01massert\u001b[39;00m i \u001b[38;5;241m>\u001b[39m\u001b[38;5;241m=\u001b[39m \u001b[38;5;241m26\u001b[39m, \u001b[38;5;124m\"\u001b[39m\u001b[38;5;124mBatch is Rejected\u001b[39m\u001b[38;5;124m\"\u001b[39m\n\u001b[0;32m      5\u001b[0m     \u001b[38;5;28mprint\u001b[39m (\u001b[38;5;28mstr\u001b[39m(i) \u001b[38;5;241m+\u001b[39m \u001b[38;5;124m\"\u001b[39m\u001b[38;5;124m is O.K\u001b[39m\u001b[38;5;124m\"\u001b[39m )\n",
      "\u001b[1;31mAssertionError\u001b[0m: Batch is Rejected"
     ]
    }
   ],
   "source": [
    "batch = [ 40, 26, 39, 30, 25, 27]\n",
    "cut = 26\n",
    "for i in batch:\n",
    "    assert i >= 26, \"Batch is Rejected\"\n",
    "    print (str(i) + \" is O.K\" )"
   ]
  },
  {
   "cell_type": "markdown",
   "id": "709cc48f",
   "metadata": {},
   "source": [
    "# Assert"
   ]
  },
  {
   "cell_type": "code",
   "execution_count": 33,
   "id": "1f759d27",
   "metadata": {},
   "outputs": [
    {
     "name": "stdout",
     "output_type": "stream",
     "text": [
      "a = 3\n",
      "12\n"
     ]
    }
   ],
   "source": [
    "a = int(input(\"a = \"))\n",
    "P = 4*a\n",
    "assert P == 4*a, \"Formula xato yozilgan\"\n",
    "print(P)"
   ]
  },
  {
   "cell_type": "code",
   "execution_count": 36,
   "id": "bd7bb1b7",
   "metadata": {},
   "outputs": [
    {
     "name": "stdout",
     "output_type": "stream",
     "text": [
      "a = 3\n",
      "9\n"
     ]
    }
   ],
   "source": [
    "a = int(input(\"a = \"))\n",
    "S = a ** 2\n",
    "assert S == a**2, \"Formula xato yozilgan\"\n",
    "print(S)"
   ]
  },
  {
   "cell_type": "markdown",
   "id": "dbf7152c",
   "metadata": {},
   "source": [
    "# Matritsa determinanti"
   ]
  },
  {
   "cell_type": "code",
   "execution_count": 62,
   "id": "5fa91bbf",
   "metadata": {},
   "outputs": [
    {
     "name": "stdout",
     "output_type": "stream",
     "text": [
      "1 0 1\n",
      "3 2 1\n",
      "7 8 9\n",
      "[2, 1] [8, 9]\n",
      "[3, 1] [7, 9]\n",
      "[3, 2] [7, 8]\n",
      "Determinant : 20\n"
     ]
    }
   ],
   "source": [
    "def determinant(mat):\n",
    "    if len(mat) == 2:\n",
    "        return mat[0][0]*mat[1][1]-mat[0][1]*mat[1][0]\n",
    "    s = 0\n",
    "    for i in range(len(mat)):\n",
    "        yangi_mat = [k[:i] + k[i+1:] for k in (mat[:0] + mat[1:])]\n",
    "        print(*yangi_mat)\n",
    "        s += (-1)**i * mat[0][i] * determinant(yangi_mat)\n",
    "    return s\n",
    "\n",
    "n = int(input(\"N = \"))\n",
    "mat = [[randint(0, 9) for i in range(n)] for j in range(n)]\n",
    "for i in mat:\n",
    "    print(*i)\n",
    "    \n",
    "# mat = [[1,0,1],[3,2,1],[7,8,9]]\n",
    "# for i in mat:\n",
    "#     print(*i)\n",
    "\n",
    "print('Determinant :', determinant(mat))"
   ]
  },
  {
   "cell_type": "code",
   "execution_count": 89,
   "id": "293a1dce",
   "metadata": {},
   "outputs": [
    {
     "ename": "TypeError",
     "evalue": "can only concatenate list (not \"int\") to list",
     "output_type": "error",
     "traceback": [
      "\u001b[1;31m---------------------------------------------------------------------------\u001b[0m",
      "\u001b[1;31mTypeError\u001b[0m                                 Traceback (most recent call last)",
      "Input \u001b[1;32mIn [89]\u001b[0m, in \u001b[0;36m<cell line: 4>\u001b[1;34m()\u001b[0m\n\u001b[0;32m      2\u001b[0m     sh \u001b[38;5;241m=\u001b[39m [[\u001b[38;5;241m0\u001b[39m \u001b[38;5;28;01mfor\u001b[39;00m i \u001b[38;5;129;01min\u001b[39;00m \u001b[38;5;28mrange\u001b[39m(\u001b[38;5;241m8\u001b[39m)]\u001b[38;5;241m+\u001b[39m\u001b[38;5;241m1\u001b[39m \u001b[38;5;28;01mfor\u001b[39;00m j \u001b[38;5;129;01min\u001b[39;00m \u001b[38;5;28mrange\u001b[39m(\u001b[38;5;241m8\u001b[39m)]\n\u001b[0;32m      3\u001b[0m     \u001b[38;5;28;01mreturn\u001b[39;00m sh\n\u001b[1;32m----> 4\u001b[0m \u001b[38;5;28;01mfor\u001b[39;00m i \u001b[38;5;129;01min\u001b[39;00m \u001b[43mshax\u001b[49m\u001b[43m(\u001b[49m\u001b[43m)\u001b[49m:\n\u001b[0;32m      5\u001b[0m     \u001b[38;5;28mprint\u001b[39m(\u001b[38;5;241m*\u001b[39mi)\n",
      "Input \u001b[1;32mIn [89]\u001b[0m, in \u001b[0;36mshax\u001b[1;34m()\u001b[0m\n\u001b[0;32m      1\u001b[0m \u001b[38;5;28;01mdef\u001b[39;00m \u001b[38;5;21mshax\u001b[39m():\n\u001b[1;32m----> 2\u001b[0m     sh \u001b[38;5;241m=\u001b[39m [[\u001b[38;5;241m0\u001b[39m \u001b[38;5;28;01mfor\u001b[39;00m i \u001b[38;5;129;01min\u001b[39;00m \u001b[38;5;28mrange\u001b[39m(\u001b[38;5;241m8\u001b[39m)]\u001b[38;5;241m+\u001b[39m\u001b[38;5;241m1\u001b[39m \u001b[38;5;28;01mfor\u001b[39;00m j \u001b[38;5;129;01min\u001b[39;00m \u001b[38;5;28mrange\u001b[39m(\u001b[38;5;241m8\u001b[39m)]\n\u001b[0;32m      3\u001b[0m     \u001b[38;5;28;01mreturn\u001b[39;00m sh\n",
      "Input \u001b[1;32mIn [89]\u001b[0m, in \u001b[0;36m<listcomp>\u001b[1;34m(.0)\u001b[0m\n\u001b[0;32m      1\u001b[0m \u001b[38;5;28;01mdef\u001b[39;00m \u001b[38;5;21mshax\u001b[39m():\n\u001b[1;32m----> 2\u001b[0m     sh \u001b[38;5;241m=\u001b[39m [\u001b[43m[\u001b[49m\u001b[38;5;241;43m0\u001b[39;49m\u001b[43m \u001b[49m\u001b[38;5;28;43;01mfor\u001b[39;49;00m\u001b[43m \u001b[49m\u001b[43mi\u001b[49m\u001b[43m \u001b[49m\u001b[38;5;129;43;01min\u001b[39;49;00m\u001b[43m \u001b[49m\u001b[38;5;28;43mrange\u001b[39;49m\u001b[43m(\u001b[49m\u001b[38;5;241;43m8\u001b[39;49m\u001b[43m)\u001b[49m\u001b[43m]\u001b[49m\u001b[38;5;241;43m+\u001b[39;49m\u001b[38;5;241;43m1\u001b[39;49m \u001b[38;5;28;01mfor\u001b[39;00m j \u001b[38;5;129;01min\u001b[39;00m \u001b[38;5;28mrange\u001b[39m(\u001b[38;5;241m8\u001b[39m)]\n\u001b[0;32m      3\u001b[0m     \u001b[38;5;28;01mreturn\u001b[39;00m sh\n",
      "\u001b[1;31mTypeError\u001b[0m: can only concatenate list (not \"int\") to list"
     ]
    }
   ],
   "source": [
    "def shax():\n",
    "    sh = []\n",
    "    return sh\n",
    "for i in shax():\n",
    "    print(*i)"
   ]
  },
  {
   "cell_type": "code",
   "execution_count": 101,
   "id": "5aaacdc9",
   "metadata": {},
   "outputs": [
    {
     "name": "stdout",
     "output_type": "stream",
     "text": [
      "N = 6\n",
      "[[1, 7, 6, 2, 5, 4], [6, 4, 1, 5, 6, 2], [2, 5, 4, 8, 4, 8], [9, 7, 4, 5, 1, 9], [4, 8, 3, 4, 5, 1], [6, 8, 5, 4, 8, 9]]\n",
      "[[1, 7, 5, 2, 6, 4], [6, 4, 6, 5, 1, 2], [2, 5, 4, 8, 4, 8], [9, 7, 1, 5, 4, 9], [4, 8, 5, 4, 3, 1], [6, 8, 8, 4, 5, 9]]\n"
     ]
    }
   ],
   "source": [
    "from random import randint\n",
    "\n",
    "def matritsa(fun):\n",
    "    def almash(n):\n",
    "        mat = fun(n)\n",
    "        for i in range(len(mat)):\n",
    "            mat[i][2], mat[i][4] = mat[i][4], mat[i][2]\n",
    "        return mat\n",
    "    return almash\n",
    "\n",
    "@matritsa\n",
    "def matr(n):\n",
    "    a = [[randint(1,9) for _ in range(n)] for _ in range(n)]\n",
    "    print(a)\n",
    "    return a\n",
    "\n",
    "n = int(input(\"N = \"))\n",
    "\n",
    "print(matr(n))"
   ]
  },
  {
   "cell_type": "code",
   "execution_count": 102,
   "id": "8b6aca40",
   "metadata": {},
   "outputs": [
    {
     "name": "stdout",
     "output_type": "stream",
     "text": [
      "__main__\n"
     ]
    }
   ],
   "source": [
    "print(__name__)"
   ]
  },
  {
   "cell_type": "code",
   "execution_count": 105,
   "id": "808d51d1",
   "metadata": {},
   "outputs": [
    {
     "name": "stdout",
     "output_type": "stream",
     "text": [
      "random\n"
     ]
    }
   ],
   "source": [
    "import random\n",
    "print(random.__name__)"
   ]
  },
  {
   "cell_type": "code",
   "execution_count": null,
   "id": "bb67c02d",
   "metadata": {},
   "outputs": [],
   "source": []
  }
 ],
 "metadata": {
  "kernelspec": {
   "display_name": "Python 3 (ipykernel)",
   "language": "python",
   "name": "python3"
  },
  "language_info": {
   "codemirror_mode": {
    "name": "ipython",
    "version": 3
   },
   "file_extension": ".py",
   "mimetype": "text/x-python",
   "name": "python",
   "nbconvert_exporter": "python",
   "pygments_lexer": "ipython3",
   "version": "3.9.9"
  },
  "toc": {
   "base_numbering": 1,
   "nav_menu": {},
   "number_sections": true,
   "sideBar": true,
   "skip_h1_title": false,
   "title_cell": "Table of Contents",
   "title_sidebar": "Contents",
   "toc_cell": false,
   "toc_position": {},
   "toc_section_display": true,
   "toc_window_display": false
  }
 },
 "nbformat": 4,
 "nbformat_minor": 5
}
