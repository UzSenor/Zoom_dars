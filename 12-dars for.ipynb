{
 "cells": [
  {
   "cell_type": "code",
   "execution_count": 2,
   "id": "34851d91",
   "metadata": {},
   "outputs": [
    {
     "name": "stdout",
     "output_type": "stream",
     "text": [
      "N = 7\n",
      "28\n"
     ]
    }
   ],
   "source": [
    "# 1.  n natural soni berilgan. 1 dan n gacha bo’lgan sonlarning yig'indisini \n",
    "# hisoblovchi dastur tuzing. \n",
    "# Kiritish: 7\n",
    "# 1 2 3 4 5 6 7\n",
    "# Natural sonlarning yig'indisi: 28\n",
    "n = int(input(\"N = \"))\n",
    "s = 0\n",
    "for i in range(1, n+1):\n",
    "    s+=i\n",
    "print(s)"
   ]
  },
  {
   "cell_type": "code",
   "execution_count": 86,
   "id": "a76533f6",
   "metadata": {},
   "outputs": [
    {
     "name": "stdout",
     "output_type": "stream",
     "text": [
      "N = 77\n",
      "Tub emas\n"
     ]
    }
   ],
   "source": [
    "# 3. Kiritilgan sonning tub yoki tub emasligini aniqlovchi dastur tuzing. \n",
    "# Kiritish: 47\n",
    "# Chiqarish: Tub\n",
    "n = int(input(\"N = \"))\n",
    "son=\"Tub emas\"\n",
    "for i in range(2, n+1):\n",
    "    if i%2==0 and i!=2:\n",
    "        son=\"Tub emas\"\n",
    "    elif i%3==0 and i!=3:\n",
    "        son=\"Tub emas\"\n",
    "    elif i%5==0 and i!=5:\n",
    "        son=\"Tub emas\"\n",
    "    elif i%7==0 and i!=7:\n",
    "        son=\"Tub emas\"\n",
    "    else:\n",
    "        son=\"Tub\"\n",
    "print(son)"
   ]
  },
  {
   "cell_type": "code",
   "execution_count": 4,
   "id": "461e0171",
   "metadata": {},
   "outputs": [
    {
     "name": "stdout",
     "output_type": "stream",
     "text": [
      "N=4\n",
      "Tub emas\n"
     ]
    }
   ],
   "source": [
    "# Tub son qo'shimcha\n",
    "n = int(input(\"N=\"))\n",
    "s=0\n",
    "for i in range(1,n+1):\n",
    "    if n%i==0:\n",
    "        s+=1\n",
    "if s==2:\n",
    "    print(\"Tub\")\n",
    "else:\n",
    "    print(\"Tub emas\")"
   ]
  },
  {
   "cell_type": "code",
   "execution_count": 635,
   "id": "871d5e91",
   "metadata": {},
   "outputs": [
    {
     "name": "stdout",
     "output_type": "stream",
     "text": [
      "N = 12\n",
      "2 3 5 7 11 \n",
      "Tublar soni:  5\n"
     ]
    }
   ],
   "source": [
    "# 4. 1 dan n gacha bo’lgan sonlar oralig’idagi tub sonlarni va ularning sonini \n",
    "# ekranga chiqaruvchi dastur tuzing \n",
    "# Kiritish: 100\n",
    "# Chiqarish:\n",
    "# 2 3 5 7 11 13 17 19 23 29 31 37 41 43 47 53 59 61 67 71 73 79 83 89 97\n",
    "# 1 dan 100 gacha bo'lgan tub sonlarning umumiy soni: 25\n",
    "n = int(input(\"N = \"))\n",
    "son=False\n",
    "s=0\n",
    "for i in range(2, n+1):\n",
    "    if i%2==0 and i!=2:\n",
    "        son=False\n",
    "    elif i%3==0 and i!=3:\n",
    "        son=False\n",
    "    elif i%5==0 and i!=5:\n",
    "        son=False\n",
    "    elif i%7==0 and i!=7:\n",
    "        son=False\n",
    "    else:\n",
    "        son=True\n",
    "        print(i, end=\" \")\n",
    "        s+=1\n",
    "print(\"\\nTublar soni: \",s)"
   ]
  },
  {
   "cell_type": "code",
   "execution_count": 17,
   "id": "ae709931",
   "metadata": {},
   "outputs": [
    {
     "name": "stdout",
     "output_type": "stream",
     "text": [
      "N=100\n",
      "2 3 5 7 11 13 17 19 23 29 31 37 41 43 47 53 59 61 67 71 73 79 83 89 97 "
     ]
    }
   ],
   "source": [
    "# n gacha tub sonlar \n",
    "n = int(input(\"N=\"))\n",
    "\n",
    "for i in range(2, n+1):\n",
    "    s=0\n",
    "    for j in range(1,i+1):\n",
    "        if i%j==0:\n",
    "            s+=1\n",
    "    if s==2:\n",
    "        print(i, end=\" \")"
   ]
  },
  {
   "cell_type": "code",
   "execution_count": 89,
   "id": "a44039c9",
   "metadata": {},
   "outputs": [
    {
     "name": "stdout",
     "output_type": "stream",
     "text": [
      "N = 5\n",
      "5 ! = 120\n"
     ]
    }
   ],
   "source": [
    "# 5. n soni berilgan. n faktorialni hisoblovchi dastur tuzing ( n!=1*2*3*…*n ).\n",
    "# Kiritish: 5\n",
    "# Chiqarish: 120 \n",
    "n = int(input(\"N = \"))\n",
    "f = 1\n",
    "for i in range(1,n+1):\n",
    "    f *= i\n",
    "print(n,\"! =\",f)"
   ]
  },
  {
   "cell_type": "code",
   "execution_count": 93,
   "id": "82dc92d2",
   "metadata": {},
   "outputs": [
    {
     "name": "stdout",
     "output_type": "stream",
     "text": [
      "N = 50\n",
      "47\n"
     ]
    }
   ],
   "source": [
    "# 6. n soni berilgan. n gacha bo’lgan tub sonlarning oxirgisini aniqlovchi dastur \n",
    "# tuzing. \n",
    "# Kiritish: 50\n",
    "# Chiqarish: 47\n",
    "n = int(input(\"N = \"))\n",
    "son = False\n",
    "son1 = []\n",
    "for i in range(2, n+1):\n",
    "    if i%2==0 and i!=2:\n",
    "        son=False\n",
    "    elif i%3==0 and i!=3:\n",
    "        son=False\n",
    "    elif i%2==5 and i!=5:\n",
    "        son=False\n",
    "    elif i%7==0 and i!=7:\n",
    "        son=False\n",
    "    else:\n",
    "        son1.append(i)\n",
    "print(max(son1))        "
   ]
  },
  {
   "cell_type": "code",
   "execution_count": 18,
   "id": "c1e4abdb",
   "metadata": {},
   "outputs": [
    {
     "name": "stdout",
     "output_type": "stream",
     "text": [
      "N=50\n",
      "47\n"
     ]
    }
   ],
   "source": [
    "# Oxirgi tub son\n",
    "n = int(input(\"N=\"))\n",
    "\n",
    "for i in range(2, n+1):\n",
    "    s=0\n",
    "    for j in range(1,i+1):\n",
    "        if i%j==0:\n",
    "            s+=1\n",
    "    if s==2:\n",
    "        oxirgi = i\n",
    "print(oxirgi)"
   ]
  },
  {
   "cell_type": "code",
   "execution_count": 19,
   "id": "5e21c55a",
   "metadata": {},
   "outputs": [
    {
     "name": "stdout",
     "output_type": "stream",
     "text": [
      "N=50\n",
      "47\n"
     ]
    }
   ],
   "source": [
    "# Oxirgi tub son\n",
    "n = int(input(\"N=\"))\n",
    "\n",
    "for i in range(n, 1, -1):\n",
    "    s=0\n",
    "    for j in range(1,i+1):\n",
    "        if i%j==0:\n",
    "            s+=1\n",
    "    if s==2:\n",
    "        print(i)\n",
    "        break"
   ]
  },
  {
   "cell_type": "code",
   "execution_count": 122,
   "id": "f8dadb77",
   "metadata": {},
   "outputs": [
    {
     "name": "stdout",
     "output_type": "stream",
     "text": [
      "A = 45\n",
      "B = 135\n",
      "EKUB:  45\n"
     ]
    }
   ],
   "source": [
    "# 7. Ikki sonning eng katta umumiy bo'linuvchisini (EKUB) aniqlovchi dastur tuzing.\n",
    "# Kiritish: 45\n",
    "#          135\n",
    "# Chiqarish: 45\n",
    "a = int(input(\"A = \"))\n",
    "b = int(input(\"B = \"))\n",
    "while a!=b:\n",
    "    if a>b:\n",
    "        a-=b\n",
    "    else:\n",
    "        b-=a\n",
    "print(\"EKUB: \", b)"
   ]
  },
  {
   "cell_type": "code",
   "execution_count": 419,
   "id": "8a64a78b",
   "metadata": {},
   "outputs": [
    {
     "name": "stdout",
     "output_type": "stream",
     "text": [
      "N = 147852\n",
      "27\n"
     ]
    }
   ],
   "source": [
    "# 8.  Berilgan sonning raqamlari yig'indisini aniqlovchi dastur tuzing.\n",
    "# Kiritish: 147852 \n",
    "# Chiqarish: 27\n",
    "n = int(input(\"N = \"))\n",
    "s = 0\n",
    "while n!=0:\n",
    "    a = n % 10\n",
    "    s += a\n",
    "    n //= 10\n",
    "print(s)"
   ]
  },
  {
   "cell_type": "code",
   "execution_count": 3,
   "id": "1db2e139",
   "metadata": {},
   "outputs": [
    {
     "name": "stdout",
     "output_type": "stream",
     "text": [
      "N = 3\n",
      "Yig'indi:  10\n"
     ]
    }
   ],
   "source": [
    "# 9.   n soni berilgan. \n",
    "# (1) + (1 + 2) + (1 + 2 + 3) + (1 + 2 + 3 + 4) + ... + (1 + 2 + 3 +…n) ni \n",
    "# hisoblovchi dastur tuzing.\n",
    "# Kiritish: 3 \n",
    "# Chiqarish: 10\n",
    "n = int(input(\"N = \"))\n",
    "s=0\n",
    "s1=0\n",
    "for i in range(1, n+1):\n",
    "    s+=i\n",
    "    s1+=s\n",
    "print(\"Yig'indi: \", s1)"
   ]
  },
  {
   "cell_type": "code",
   "execution_count": 439,
   "id": "81f6b005",
   "metadata": {},
   "outputs": [
    {
     "name": "stdout",
     "output_type": "stream",
     "text": [
      "N = 2\n",
      "N = 3\n",
      "N = 2\n",
      "N = 4\n",
      "N = -4\n",
      "N = -3\n",
      "N = -1\n",
      "Musbatlar soni:  4\n",
      "Kattasi:  4\n",
      "Kichigi:  -4\n"
     ]
    }
   ],
   "source": [
    "# 10. Oxiri -1 bilan tugovchi sonlar ketma-ketligi berilgan, shu ketma-ketlikda\n",
    "# nechta musbat son borligini va Maksimum, minimum qiymatlarini topuvchi dastur\n",
    "# tuzing?\n",
    "s = 0\n",
    "x = True\n",
    "while True:\n",
    "    n = int(input(\"N = \"))\n",
    "    if x:\n",
    "        maxi = n\n",
    "        mini = n\n",
    "        x = False\n",
    "    if n>0:\n",
    "        s += 1\n",
    "\n",
    "\n",
    "    if maxi<n:\n",
    "        maxi = n\n",
    "    if mini>n:\n",
    "        mini = n\n",
    "    if n==-1:\n",
    "        break\n",
    "print(\"Musbatlar soni: \",s)\n",
    "print(\"Kattasi: \", maxi)\n",
    "print(\"Kichigi: \", mini)"
   ]
  },
  {
   "cell_type": "code",
   "execution_count": 5,
   "id": "c0637e01",
   "metadata": {},
   "outputs": [
    {
     "name": "stdout",
     "output_type": "stream",
     "text": [
      "N = 25\n",
      "4 6 8 9 10 12 14 15 16 18 20 21 22 24 25 "
     ]
    }
   ],
   "source": [
    "# 11. n soni berilgan. Berilgan songacha bo’lgan murakkab sonlarni ekranga \n",
    "# chiqaruvchi dastur tuzing. \n",
    "# Kiritish: 25\n",
    "# Chiqarish: 4 6 8 9 10 12 14 15 16 18 20 21 22 24 25\n",
    "n = int(input(\"N = \"))\n",
    "for i in range(2, n+1):\n",
    "    s=0\n",
    "    for j in range(1,i+1):\n",
    "        if i%j==0:\n",
    "            s+=1\n",
    "    if s!=2:\n",
    "        print(i, end=\" \")"
   ]
  },
  {
   "cell_type": "code",
   "execution_count": 16,
   "id": "8533db6e",
   "metadata": {},
   "outputs": [
    {
     "name": "stdout",
     "output_type": "stream",
     "text": [
      "N = 10\n",
      "# # # # # # # # # # \n",
      "# # # # # # # # # # \n",
      "# # # # # # # # # # \n",
      "# # # # # # # # # # \n",
      "# # # # # # # # # # \n",
      "# # # # # # # # # # \n",
      "# # # # # # # # # # \n",
      "# # # # # # # # # # \n",
      "# # # # # # # # # # \n",
      "# # # # # # # # # # \n"
     ]
    }
   ],
   "source": [
    "# 12. n soni berilgan. Tomoni n ga teng bo’lgan kvadrat yasang. Kvadratni \n",
    "#  << # >> belgisi bilan bosib chiqaruvchi dastur tuzing.  \n",
    "# Kiritish: 4\n",
    "# Chiqarish:\n",
    "# # # #\n",
    "# # # #\n",
    "# # # #\n",
    "# # # # \n",
    "n = int(input(\"N = \"))\n",
    "for i in range(n):\n",
    "    for j in range(i, 0, -1):\n",
    "        print(\"#\", end=\" \")\n",
    "    for j in range(0, n-i):\n",
    "        print(\"#\", end=\" \")\n",
    "    print()"
   ]
  },
  {
   "cell_type": "code",
   "execution_count": 423,
   "id": "10ae368c",
   "metadata": {},
   "outputs": [
    {
     "name": "stdout",
     "output_type": "stream",
     "text": [
      "N = 5\n",
      "1x1=1\t2x1=2\t3x1=3\t4x1=4\t5x1=5\t\n",
      "1x2=2\t2x2=4\t3x2=6\t4x2=8\t5x2=10\t\n",
      "1x3=3\t2x3=6\t3x3=9\t4x3=12\t5x3=15\t\n",
      "1x4=4\t2x4=8\t3x4=12\t4x4=16\t5x4=20\t\n",
      "1x5=5\t2x5=10\t3x5=15\t4x5=20\t5x5=25\t\n"
     ]
    }
   ],
   "source": [
    "# 13. 1 dan n gacha vertikal ravishda ko'paytirish jadvalini ko'rsatuvchi dastur \n",
    "# yozing. \n",
    "# Kiritish: 5\n",
    "# Chiqarish:  \n",
    "# 1x1 = 1    2x1 = 2      3x1 = 3     4x1 = 4     5x1 = 5\n",
    "# 1x2 = 2    2x2 = 4      3x2 = 6     4x2 = 8     5x2 = 10\n",
    "# 1x3 = 3    2x3 = 6      3x3 = 9     4x3 = 12    5x3 = 15\n",
    "# 1x4 = 4    2x4 = 8      3x4 = 12    4x4 = 16    5x4 = 20\n",
    "# 1x5 = 5    2x5 = 10     3x5 = 15    4x5 = 20    5x5 = 25\n",
    "# 1x6 = 6    2x6 = 12.    3x6 = 18    4x6 = 24    5x6 = 30\n",
    "# 1x7 = 7    2x7 = 14     3x7 = 21    4x7 = 28    5x7 = 35\n",
    "# 1x8 = 8    2x8 = 16     3x8 = 24    4x8 = 32    5x8 = 40\n",
    "# 1x9 = 9    2x9 = 18     3x9 = 27    4x9 = 36    5x9 = 45\n",
    "# 1x10 = 10  2x10 = 20    3x10 = 30   4x10 = 40   5x10 = 50\n",
    "n = int(input(\"N = \"))\n",
    "for i in range(1,n+1):\n",
    "    for j in range(1, n+1):\n",
    "        print(j, \"x\", i, \"=\", i*j, end=\"\\t\", sep=\"\")\n",
    "    print()"
   ]
  },
  {
   "cell_type": "code",
   "execution_count": 108,
   "id": "d6c5657f",
   "metadata": {},
   "outputs": [
    {
     "name": "stdout",
     "output_type": "stream",
     "text": [
      "N = 5\n",
      "1 3 5 7 9 \n",
      "Yig'indi 25\n"
     ]
    }
   ],
   "source": [
    "# 14. N musbat soni berilgan. Dastlabki N ta toq sonlarni ekranga chiqaruvchi va \n",
    "# ularning yig’indisini aniqlovchi dastur tuzing.\n",
    "# Kiritish: 5 \n",
    "# Chiqarish: 1 3 5 7 9  .........  25\n",
    "n = int(input(\"N = \"))\n",
    "sum = 0\n",
    "son = 1\n",
    "for i in range(n):\n",
    "    print(son, end=\" \")\n",
    "    sum += son\n",
    "    son = son + 2    \n",
    "print(\"\\nYig'indi\",sum)"
   ]
  },
  {
   "cell_type": "code",
   "execution_count": 109,
   "id": "d298a906",
   "metadata": {},
   "outputs": [
    {
     "name": "stdout",
     "output_type": "stream",
     "text": [
      "N = 5\n",
      "2 4 6 8 10 \n",
      "Yig'indi 30\n"
     ]
    }
   ],
   "source": [
    "# 15. N musbat soni berilgan. Dastlabki Nta juft sonlarni ekranga chiqaruvchi \n",
    "# va ularning yig’indisini aniqlovchi dastur tuzing.\n",
    "# Kiritish: 5 \n",
    "# Chiqarish: 2 4 6 8 10             Yig'indisi = 30 \n",
    "n = int(input(\"N = \"))\n",
    "sum = 0\n",
    "son = 2\n",
    "for i in range(1, n+1):\n",
    "    print(son, end=\" \")\n",
    "    sum += son\n",
    "    son = son + 2\n",
    "print(\"\\nYig'indi\",sum)"
   ]
  },
  {
   "cell_type": "code",
   "execution_count": 425,
   "id": "35f32730",
   "metadata": {},
   "outputs": [
    {
     "name": "stdout",
     "output_type": "stream",
     "text": [
      "Hadlar soni = 5\n",
      "1 11 111 1111 11111 \n",
      "Yig'indi: 12345\n"
     ]
    }
   ],
   "source": [
    "# 16. 1 + 11 + 111 + 1111 + …+ n qatorlarining yig'indisini aniqlovchi dastur tuzing. \n",
    "# Kiritish: 5\n",
    "# Chiqarish: 12345\n",
    "n = int(input(\"Hadlar soni = \"))\n",
    "sum = 0\n",
    "son = 1   \n",
    "for i in range(n):\n",
    "    print(son, end=\" \")\n",
    "    sum += son\n",
    "    son = (son * 10) + 1\n",
    "print(\"\\nYig'indi:\",sum)"
   ]
  },
  {
   "cell_type": "code",
   "execution_count": 168,
   "id": "61cdda7e",
   "metadata": {},
   "outputs": [
    {
     "name": "stdout",
     "output_type": "stream",
     "text": [
      "N = 10\n",
      "1 1 2 3 5 8 13 21 34 55 "
     ]
    }
   ],
   "source": [
    "# 17. Fibonachchi sonlarining dastlabki n tasini ekranga chiqaruvchi dastur tuzing.\n",
    "# Kiritish: 10\n",
    "# Chiqarish: 1 1 2 3 5 8 13 21 34 55\n",
    "a1 = 1\n",
    "a2 = 1\n",
    "n = int(input(\"N = \"))\n",
    "print(a1, a2, end=' ')\n",
    " \n",
    "for i in range(2, n):\n",
    "    an = a1 + a2\n",
    "    a1 = a2\n",
    "    a2 = an\n",
    "    print(an, end=' ')"
   ]
  },
  {
   "cell_type": "code",
   "execution_count": 183,
   "id": "b9f1b243",
   "metadata": {},
   "outputs": [
    {
     "name": "stdout",
     "output_type": "stream",
     "text": [
      "S = 20\n",
      "11 + 9 = 20\n",
      "13 + 7 = 20\n",
      "17 + 3 = 20\n",
      "19 + 1 = 20\n"
     ]
    }
   ],
   "source": [
    "# 18. S musbat soni berilgan. Ushbu sonni ikki tub son yig’indisi ko’rinishida \n",
    "# ifodalash mumkinligini aniqlovchi dastur tuzing. Shu sonlarni ekranga chiqaring.\n",
    "# Kiritish: 20\n",
    "# Chiqarish: Mumkin – 3 va 17\n",
    "s = int(input(\"S = \"))\n",
    "for i in range(2, s+1):\n",
    "    sum = 0\n",
    "    for j in range(1, i+1):\n",
    "        if i%j==0:\n",
    "            sum += 1\n",
    "    if sum==2:\n",
    "        for j in range(1, i+1):\n",
    "            if i+j==s:\n",
    "                print(i,\"+\", j, \"=\", s)"
   ]
  },
  {
   "cell_type": "code",
   "execution_count": 188,
   "id": "b9a7f9f3",
   "metadata": {},
   "outputs": [
    {
     "name": "stdout",
     "output_type": "stream",
     "text": [
      "N = 5\n",
      "*\n",
      "**\n",
      "***\n",
      "****\n",
      "*****\n"
     ]
    }
   ],
   "source": [
    "# 19. n musbat soni berilgan. Yulduzcha yordamida to'g'ri burchakli uchburchak \n",
    "# shaklini  ekranga chiqaruvchi dastur tuzing. \n",
    "# Kiritish: 5 \n",
    "# Chiqarish:\n",
    "# *\n",
    "# **\n",
    "# ***\n",
    "# ****\n",
    "# *****\n",
    "n = int(input(\"N = \"))\n",
    "for i in range(1, n+1):\n",
    "    for j in range(1, i+1):\n",
    "        print(\"*\", end=\"\")\n",
    "    print()"
   ]
  },
  {
   "cell_type": "code",
   "execution_count": 189,
   "id": "64fd8180",
   "metadata": {},
   "outputs": [
    {
     "name": "stdout",
     "output_type": "stream",
     "text": [
      "N = 5\n",
      "1\n",
      "12\n",
      "123\n",
      "1234\n",
      "12345\n"
     ]
    }
   ],
   "source": [
    "# 20. n musbat soni berilgan. Ekranga quyidagi “sonli uchburchak”ni chiqaruvchi \n",
    "# dastur tuzing. \n",
    "# Kiritish: 5\n",
    "# Chiqarish: \n",
    "# 1\n",
    "# 12\n",
    "# 123\n",
    "# 1234\n",
    "# 12345\n",
    "n = int(input(\"N = \"))\n",
    "for i in range(1, n+1):\n",
    "    for j in range(1, i+1):\n",
    "        print(j, end=\"\")\n",
    "    print()"
   ]
  },
  {
   "cell_type": "code",
   "execution_count": 190,
   "id": "ec99b10b",
   "metadata": {},
   "outputs": [
    {
     "name": "stdout",
     "output_type": "stream",
     "text": [
      "N = 5\n",
      "1\n",
      "22\n",
      "333\n",
      "4444\n",
      "55555\n"
     ]
    }
   ],
   "source": [
    "# 21. n musbat soni berilgan. Ekranga quyidagi “sonli uchburchak”ni chiqaruvchi \n",
    "# dastur tuzing. \n",
    "# Kiritish: 5\n",
    "# Chiqarish:\n",
    "# 1\n",
    "# 22\n",
    "# 333\n",
    "# 4444\n",
    "# 55555\n",
    "n = int(input(\"N = \"))\n",
    "for i in range(1, n+1):\n",
    "    for j in range(1, i+1):\n",
    "        print(i, end=\"\")\n",
    "    print()"
   ]
  },
  {
   "cell_type": "code",
   "execution_count": 193,
   "id": "9d3e6f77",
   "metadata": {},
   "outputs": [
    {
     "name": "stdout",
     "output_type": "stream",
     "text": [
      "N = 5\n",
      "1 \n",
      "2 3 \n",
      "4 5 6 \n",
      "7 8 9 10 \n",
      "11 12 13 14 15 \n"
     ]
    }
   ],
   "source": [
    "# 22. n musbat soni berilgan. Ekranga quyidagi “sonli uchburchak”ni chiqaruvchi \n",
    "# dastur tuzing. \n",
    "# Kiritish: 5\n",
    "# Chiqarish:                                                                                   \n",
    "# 1\n",
    "# 2 3\n",
    "# 4 5 6\n",
    "# 7 8 9 10\n",
    "# 11 12 13 14 15\n",
    "n = int(input(\"N = \"))\n",
    "s = 1\n",
    "for i in range(1, n+1):\n",
    "    for j in range(1, i+1):\n",
    "        print(s, end=\" \")\n",
    "        s +=1\n",
    "    print()"
   ]
  },
  {
   "cell_type": "code",
   "execution_count": 200,
   "id": "e560bb69",
   "metadata": {},
   "outputs": [
    {
     "name": "stdout",
     "output_type": "stream",
     "text": [
      "N = 4\n",
      "   1 \n",
      "  2 3 \n",
      " 4 5 6 \n",
      "7 8 9 10 \n"
     ]
    }
   ],
   "source": [
    "# 23. n musbat soni berilgan. Ekranga quyidagi “sonli piramida”ni chiqaruvchi \n",
    "# dastur tuzing. \n",
    "# Kiritish: 4\n",
    "# Chiqarish:\n",
    "#    1                                                               \n",
    "#   2 3                                                        \n",
    "#  4 5 6                                                             \n",
    "# 7 8 9 10 \n",
    "n = int(input(\"N = \"))\n",
    "s = 1\n",
    "for i in range(1, n+1):\n",
    "    for j in range(n-i):\n",
    "        print(\" \",end=\"\")\n",
    "    for j in range(1, i+1):\n",
    "        print(s, end=\" \")\n",
    "        s +=1\n",
    "    print()"
   ]
  },
  {
   "cell_type": "code",
   "execution_count": 201,
   "id": "5fbe938f",
   "metadata": {},
   "outputs": [
    {
     "name": "stdout",
     "output_type": "stream",
     "text": [
      "N = 5\n",
      "    * \n",
      "   * * \n",
      "  * * * \n",
      " * * * * \n",
      "* * * * * \n"
     ]
    }
   ],
   "source": [
    "# 24. n musbat soni berilgan. Ekranga n qatordan iborat “yulduzchali piramida” \n",
    "# ni chiqaruvchi dastur tuzing:\n",
    "# Kiritish: 5\n",
    "# Chiqarish:                                                \n",
    "#        *                                                              \n",
    "#       * *                                                             \n",
    "#      * * *                                                            \n",
    "#     * * * *                                                           \n",
    "#    * * * * *\n",
    "n = int(input(\"N = \"))\n",
    "for i in range(1, n+1):\n",
    "    for j in range(n-i):\n",
    "        print(\" \",end=\"\")\n",
    "    for j in range(1, i+1):\n",
    "        print(\"*\", end=\" \")\n",
    "    print()"
   ]
  },
  {
   "cell_type": "code",
   "execution_count": 202,
   "id": "06efb06b",
   "metadata": {},
   "outputs": [
    {
     "name": "stdout",
     "output_type": "stream",
     "text": [
      "N = 5\n",
      "    1 \n",
      "   2 2 \n",
      "  3 3 3 \n",
      " 4 4 4 4 \n",
      "5 5 5 5 5 \n"
     ]
    }
   ],
   "source": [
    "# 25. n musbat soni berilgan. Ekranga quyidagi “sonli piramida”ni chiqaruvchi \n",
    "# dastur tuzing.\n",
    "# Kiritish: 5\n",
    "# Chiqarish:                                              \n",
    "#        1                                                              \n",
    "#       2 2                                                             \n",
    "#      3 3 3                                                            \n",
    "#     4 4 4 4                                                           \n",
    "#    5 5 5 5 5\n",
    "n = int(input(\"N = \"))\n",
    "for i in range(1, n+1):\n",
    "    for j in range(n-i):\n",
    "        print(\" \",end=\"\")\n",
    "    for j in range(1, i+1):\n",
    "        print(i, end=\" \")\n",
    "    print()"
   ]
  },
  {
   "cell_type": "code",
   "execution_count": 300,
   "id": "f47b4400",
   "metadata": {},
   "outputs": [
    {
     "name": "stdout",
     "output_type": "stream",
     "text": [
      "N = 5\n",
      "    *\n",
      "   ***\n",
      "  *****\n",
      " *******\n",
      "*********\n"
     ]
    }
   ],
   "source": [
    "# 26. n musbat soni berilgan. Ekranga quyidagi toq qatorli “sonli piramida”ni \n",
    "# chiqaruvchi dastur tuzing.\n",
    "# Kiritish: 5\n",
    "# Chiqarish:                                                             \n",
    "#    *                                                                  \n",
    "#   ***                                                                 \n",
    "#  *****                                                                \n",
    "# ******* \n",
    "n = int(input(\"N = \"))\n",
    "for i in range(1, n+1):\n",
    "    for j in range(n-i):\n",
    "        print(\" \",end=\"\")\n",
    "    for j in range(1, i+1):\n",
    "        print(\"*\", end=\"\")\n",
    "    for j in range(i-1):\n",
    "        print(\"*\", end=\"\")\n",
    "    print()"
   ]
  },
  {
   "cell_type": "code",
   "execution_count": 436,
   "id": "c4c7eb8b",
   "metadata": {},
   "outputs": [
    {
     "name": "stdout",
     "output_type": "stream",
     "text": [
      "N = 5\n",
      "1\n",
      "01\n",
      "101\n",
      "0101\n",
      "10101\n"
     ]
    }
   ],
   "source": [
    "# 27. n musbat soni berilgan. Ekranga n qatorli Floyd uchburchagini chiqaruvchi \n",
    "# dastur tuzing.\n",
    "# Kiritish: 5\n",
    "# Chiqarish:                                             \n",
    "# 1                                                                      \n",
    "# 01                                                                     \n",
    "# 101                                                                    \n",
    "# 0101                                                                   \n",
    "# 10101\n",
    "n = int(input(\"N = \"))\n",
    "a = 0\n",
    "for i in range(n):\n",
    "    for j in range(i+1):\n",
    "        print((i+j+1)%2, end=\"\")\n",
    "    print()"
   ]
  },
  {
   "cell_type": "code",
   "execution_count": 439,
   "id": "12b87190",
   "metadata": {},
   "outputs": [
    {
     "name": "stdout",
     "output_type": "stream",
     "text": [
      "N = 5\n",
      "    *\n",
      "   ***\n",
      "  *****\n",
      " *******\n",
      "*********\n",
      " *******\n",
      "  *****\n",
      "   ***\n",
      "    *\n"
     ]
    }
   ],
   "source": [
    "# 28. n musbat soni berilgan. Tomoni n ta yulduzchadan iborat bo’lgan romb shaklini \n",
    "# yasovchi dastur tuzing.\n",
    "# Kiritish: 5\n",
    "# Chiqarish:\n",
    "                                                                       \n",
    "#     *                                                                  \n",
    "#    ***                                                                 \n",
    "#   *****                                                                \n",
    "#  *******                                                               \n",
    "# *********                                                              \n",
    "#  *******                                                               \n",
    "#   *****                                                                \n",
    "#    ***                                                                 \n",
    "#     *\n",
    "n = int(input(\"N = \"))\n",
    "for i in range(1, n+1):\n",
    "    for j in range(n-i):\n",
    "        print(\" \",end=\"\")\n",
    "    for j in range(2*i-1):\n",
    "        print(\"*\", end=\"\")\n",
    "    print()\n",
    "for i in range(n-1, 0, -1):\n",
    "    for j in range(n-i):\n",
    "        print(\" \",end=\"\")\n",
    "    for j in range(2*i-1):\n",
    "        print(\"*\", end=\"\")\n",
    "    print()"
   ]
  },
  {
   "cell_type": "code",
   "execution_count": 396,
   "id": "fcff1af0",
   "metadata": {},
   "outputs": [
    {
     "name": "stdout",
     "output_type": "stream",
     "text": [
      "N = 5\n",
      "    1 \n",
      "   1 1 \n",
      "  1 2 1 \n",
      " 1 3 3 1 \n",
      "1 4 6 4 1 \n"
     ]
    }
   ],
   "source": [
    "# 29. n musbat soni berilgan. n-darajali Paskal uchburchagini piramida ko’rinishida \n",
    "# ekranga chiqaruvchi dastur tuzing.\n",
    "# Kiritish: 5\n",
    "# Chiqarish:                                  \n",
    "#          1                                                            \n",
    "#        1   1                                                          \n",
    "#      1   2   1                                                        \n",
    "#    1   3   3   1                                                      \n",
    "#  1   4   6   4   1\n",
    "n = int(input(\"N = \"))\n",
    "s = 1\n",
    "\n",
    "for i in range(1, n+1):\n",
    "    for j in range(1, n-i+1):\n",
    "        print(\" \",end=\"\")\n",
    "    for j in range(0, i):\n",
    "        if j==0 or i==0:\n",
    "            x = 1\n",
    "        else:\n",
    "            s = s * (i - j)//j\n",
    "        print(s, end = \" \")\n",
    "    print()"
   ]
  },
  {
   "cell_type": "code",
   "execution_count": 331,
   "id": "11b38c0a",
   "metadata": {},
   "outputs": [
    {
     "name": "stdout",
     "output_type": "stream",
     "text": [
      "N = 5\n",
      "    1\n",
      "   121\n",
      "  12321\n",
      " 1234321\n",
      "123454321\n"
     ]
    }
   ],
   "source": [
    "# 30. n musbat soni berilgan. Ekranga quyidagi “sonli piramida”ni chiqaruvchi dastur \n",
    "# tuzing.\n",
    "# Kiritish: 5\n",
    "# Chiqarish:\n",
    "#         1                                                                  \n",
    "#        121                                                                 \n",
    "#       12321                                                                \n",
    "#      1234321                                                               \n",
    "#     123454321\n",
    "n = int(input(\"N = \"))\n",
    "for i in range(1, n+1):\n",
    "    for j in range(n-i):\n",
    "        print(\" \",end=\"\")\n",
    "    for j in range(1, i+1):\n",
    "        print(j, end=\"\")\n",
    "    for j in range(i-1,0,-1):\n",
    "        print(j, end=\"\")\n",
    "    print()"
   ]
  },
  {
   "cell_type": "code",
   "execution_count": 388,
   "id": "4f3396e8",
   "metadata": {},
   "outputs": [
    {
     "name": "stdout",
     "output_type": "stream",
     "text": [
      "N = 5\n",
      "    1\n",
      "   232\n",
      "  34543\n",
      " 4567654\n",
      "567898765\n"
     ]
    }
   ],
   "source": [
    "# 31.  n musbat soni berilgan. Ekranga quyidagi “sonli piramida”ni chiqaruvchi \n",
    "# dastur tuzing.\n",
    "# Kiritish: 5\n",
    "# Chiqarish:   \n",
    "#       1                                                                  \n",
    "#      232                                                                 \n",
    "#     34543                                                                \n",
    "#    4567654                                                               \n",
    "#   567898765\n",
    "n = int(input(\"N = \"))\n",
    "s = 0\n",
    "m = 0\n",
    "for i in range(1, n+1):\n",
    "    for j in range(n-i):\n",
    "        print(\" \",end=\"\")\n",
    "    for j in range(i,2*i-1):\n",
    "        print(j, end=\"\")\n",
    "    for j in range(2*i-1,i-1,-1):\n",
    "        print(j, end=\"\")\n",
    "    print()"
   ]
  },
  {
   "cell_type": "code",
   "execution_count": 367,
   "id": "a625f091",
   "metadata": {},
   "outputs": [
    {
     "name": "stdout",
     "output_type": "stream",
     "text": [
      "N = 5\n",
      "0 1 2 3 4 \n",
      "1 0 1 2 3 \n",
      "2 1 0 1 2 \n",
      "3 2 1 0 1 \n",
      "4 3 2 1 0 \n"
     ]
    }
   ],
   "source": [
    "# 32. n musbat soni berilgan. Quyidagi ko’rinishdagi kvadratni ekranga chiqaruvchi \n",
    "# dastur tuzing.\n",
    "# Kiritish: 5\n",
    "# Chiqarish:\n",
    "# 0 1 2 3 4\n",
    "# 1 0 1 2 3\n",
    "# 2 1 0 1 2\n",
    "# 3 2 1 0 1\n",
    "# 4 3 2 1 0\n",
    "\n",
    "# Kiritish: 8\n",
    "# Chiqarish:\n",
    "# 0 1 2 3 4 5 6 7 \n",
    "# 1 0 1 2 3 4 5 6 \n",
    "# 2 1 0 1 2 3 4 5 \n",
    "# 3 2 1 0 1 2 3 4 \n",
    "# 4 3 2 1 0 1 2 3 \n",
    "# 5 4 3 2 1 0 1 2 \n",
    "# 6 5 4 3 2 1 0 1 \n",
    "# 7 6 5 4 3 2 1 0\n",
    "n = int(input(\"N = \"))\n",
    "for i in range(n):\n",
    "    for j in range(i, 0, -1):\n",
    "        print(j, end=\" \")\n",
    "    for j in range(0, n-i):\n",
    "        print(j, end=\" \")\n",
    "    print()"
   ]
  },
  {
   "cell_type": "code",
   "execution_count": 504,
   "id": "85831c1e",
   "metadata": {},
   "outputs": [
    {
     "name": "stdout",
     "output_type": "stream",
     "text": [
      "O'nlik son:35\n",
      "110001"
     ]
    }
   ],
   "source": [
    "# 33. O'nli sanoq sistemasidagi sonlarni ikkilik sanoq sistemasiga o’tkazib beruvchi \n",
    "# dastur tuzing. \n",
    "# Kiritish: 35\n",
    "# Chiqarish: 100011\n",
    "n = int(input(\"O'nlik son:\"))\n",
    "for i in range(n, 0, -1):\n",
    "    if n>=1:\n",
    "        s = n%2\n",
    "        n //= 2\n",
    "    else:\n",
    "        break\n",
    "    print(s, end=\"\", sep=\"\")"
   ]
  },
  {
   "cell_type": "code",
   "execution_count": 505,
   "id": "77829462",
   "metadata": {},
   "outputs": [
    {
     "name": "stdout",
     "output_type": "stream",
     "text": [
      "N = 35\n",
      "100011\n"
     ]
    }
   ],
   "source": [
    "# 33\n",
    "n = int(input(\"N = \"))\n",
    "s = \"\"\n",
    "while n>0:\n",
    "    s = str(n%2)+s\n",
    "    n = n//2\n",
    "print(s)"
   ]
  },
  {
   "cell_type": "code",
   "execution_count": 509,
   "id": "a39593aa",
   "metadata": {},
   "outputs": [
    {
     "name": "stdout",
     "output_type": "stream",
     "text": [
      "N = 15\n",
      "17\n"
     ]
    }
   ],
   "source": [
    "# 34. O'nli sanoq sistemasidagi sonlarni sakkizlik sanoq sistemasiga o’tkazib \n",
    "# beruvchi dastur tuzing. \n",
    "# Kiritish: 15\n",
    "# Chiqarish: 17\n",
    "n = int(input(\"N = \"))\n",
    "s = \"\"\n",
    "while n>0:\n",
    "    s = str(n%8) + s\n",
    "    n = n//8\n",
    "print(s)"
   ]
  },
  {
   "cell_type": "code",
   "execution_count": 523,
   "id": "3e52bad6",
   "metadata": {},
   "outputs": [
    {
     "name": "stdout",
     "output_type": "stream",
     "text": [
      "Ikkilikda son: 100011\n",
      "35\n"
     ]
    }
   ],
   "source": [
    "# 35. Ikkilik sanoq sistemasidagi sonlarni o’nlik sanoq sistemasiga o’tkazib beruvchi \n",
    "# dastur tuzing. \n",
    "# Kiritish: 1011\n",
    "# Chiqarish: 11\n",
    "n = input(\"Ikkilikda son: \")\n",
    "a = len(n)\n",
    "s = 0\n",
    "for i in range(a):\n",
    "    s += int(n[i])*(2**(a-i-1))\n",
    "print(s)"
   ]
  },
  {
   "cell_type": "code",
   "execution_count": 20,
   "id": "23bbcdd9",
   "metadata": {},
   "outputs": [
    {
     "name": "stdout",
     "output_type": "stream",
     "text": [
      "N = 10\n",
      "0.9999999999999999\n"
     ]
    }
   ],
   "source": [
    "# Qo'shimcha 1/1+1/2+...+1/n\n",
    "n = int(input(\"N = \"))\n",
    "s=0\n",
    "for i in range(1, n+1):\n",
    "    s+=1/n\n",
    "print(s)"
   ]
  },
  {
   "cell_type": "code",
   "execution_count": 31,
   "id": "b0ed6aa2",
   "metadata": {},
   "outputs": [
    {
     "name": "stdout",
     "output_type": "stream",
     "text": [
      "N = 10\n",
      "0.0\n"
     ]
    }
   ],
   "source": [
    "# continue\n",
    "n = int(input(\"N = \"))\n",
    "s=0\n",
    "for i in range(-n, n+1):\n",
    "    if i==0:\n",
    "        continue\n",
    "    s+=1/i\n",
    "print(round(s,10))"
   ]
  },
  {
   "cell_type": "code",
   "execution_count": 46,
   "id": "0f84edf9",
   "metadata": {},
   "outputs": [
    {
     "name": "stdout",
     "output_type": "stream",
     "text": [
      "N = 5\n",
      "A  =2\n",
      "A = 3\n",
      "A = 5\n",
      "A = 3\n",
      "A = 5\n",
      "5\n"
     ]
    }
   ],
   "source": [
    "# N ta son maksimumi xususiy holat\n",
    "n = int(input(\"N = \"))\n",
    "maxi = int(input(\"A = \"))\n",
    "for i in range(1, n):\n",
    "    a = int(input(\"A = \"))\n",
    "    if maxi<a:\n",
    "        maxi = a\n",
    "print(maxi)"
   ]
  },
  {
   "cell_type": "code",
   "execution_count": 48,
   "id": "1e2d21d1",
   "metadata": {},
   "outputs": [
    {
     "name": "stdout",
     "output_type": "stream",
     "text": [
      "N = 4\n",
      "A = 5\n",
      "A = 4\n",
      "A = 3\n",
      "A = 2\n",
      "5\n"
     ]
    }
   ],
   "source": [
    "# N ta son maksimumi umumiy holat\n",
    "n = int(input(\"N = \"))\n",
    "son = True\n",
    "for i in range(1, n+1):\n",
    "    a = int(input(\"A = \"))\n",
    "    if son:\n",
    "        maxi = a\n",
    "        son = False\n",
    "    if maxi<a:\n",
    "        maxi = a\n",
    "print(maxi)"
   ]
  },
  {
   "cell_type": "code",
   "execution_count": 395,
   "id": "73a6ad7e",
   "metadata": {},
   "outputs": [
    {
     "name": "stdout",
     "output_type": "stream",
     "text": [
      "N = 3\n",
      "A = 2\n",
      "A = 4\n",
      "A = 5\n",
      "3.5\n"
     ]
    }
   ],
   "source": [
    "# Kiritilgan N ta sonning o'rta arifmetigi\n",
    "n = int(input(\"N = \"))\n",
    "son = True\n",
    "for i in range(1,n+1):\n",
    "    a = int(input(\"A = \"))\n",
    "    if son:\n",
    "        katta = a\n",
    "        kichik = a\n",
    "        son = False\n",
    "    if katta<a:\n",
    "        katta = a\n",
    "    if kichik>a:\n",
    "        kichik = a\n",
    "arifmetik = (katta+kichik)/2\n",
    "print(arifmetik)"
   ]
  },
  {
   "cell_type": "code",
   "execution_count": 409,
   "id": "e6e11d7b",
   "metadata": {},
   "outputs": [
    {
     "name": "stdout",
     "output_type": "stream",
     "text": [
      "N = 5\n",
      "2 3 5 7 11 "
     ]
    }
   ],
   "source": [
    "# N ta tub son\n",
    "n = int(input(\"N = \"))\n",
    "b = 0\n",
    "for i in range(2,n*n+1):\n",
    "    s = 0\n",
    "    for j in range(1, i+1):\n",
    "        if i%j==0:\n",
    "            s +=1\n",
    "    if s==2:\n",
    "        print(i, end=\" \")\n",
    "        b += 1\n",
    "    if b==n:\n",
    "        break"
   ]
  },
  {
   "cell_type": "markdown",
   "id": "bb78c1a3",
   "metadata": {},
   "source": [
    "# Uyga vazifa"
   ]
  },
  {
   "cell_type": "code",
   "execution_count": 637,
   "id": "7a2c0dda",
   "metadata": {},
   "outputs": [
    {
     "name": "stdout",
     "output_type": "stream",
     "text": [
      "S = 20\n",
      "11 + 9 = 20\n",
      "13 + 7 = 20\n",
      "17 + 3 = 20\n",
      "19 + 1 = 20\n"
     ]
    }
   ],
   "source": [
    "# For18\n",
    "s = int(input(\"S = \"))\n",
    "for i in range(2, s+1):\n",
    "    sum = 0\n",
    "    for j in range(1, i+1):\n",
    "        if i%j==0:\n",
    "            sum += 1\n",
    "    if sum==2:\n",
    "        for j in range(1, i+1):\n",
    "            if i+j==s:\n",
    "                print(i,\"+\", j, \"=\", s)"
   ]
  },
  {
   "cell_type": "code",
   "execution_count": 20,
   "id": "fdfb6f10",
   "metadata": {},
   "outputs": [
    {
     "name": "stdout",
     "output_type": "stream",
     "text": [
      "N = 5\n",
      "    1 \n",
      "   1 1 \n",
      "  1 2 1 \n",
      " 1 3 3 1 \n",
      "1 4 6 4 1 \n"
     ]
    }
   ],
   "source": [
    "# 29. n musbat soni berilgan. n-darajali Paskal uchburchagini piramida ko’rinishida \n",
    "# ekranga chiqaruvchi dastur tuzing.\n",
    "# Kiritish: 5\n",
    "# Chiqarish:                                  \n",
    "#          1                                                            \n",
    "#        1   1                                                          \n",
    "#      1   2   1                                                        \n",
    "#    1   3   3   1                                                      \n",
    "#  1   4   6   4   1\n",
    "n = int(input(\"N = \"))\n",
    "\n",
    "for i in range(1, n+1):\n",
    "    for j in range(1, n-i+1):\n",
    "        print(\" \",end=\"\")\n",
    "    for j in range(i):\n",
    "        if j==0 or i==0:\n",
    "            s = 1\n",
    "        else:\n",
    "            s = s * (i - j)//j\n",
    "        print(s, end = \" \")\n",
    "    print()"
   ]
  },
  {
   "cell_type": "code",
   "execution_count": 310,
   "id": "ae1615e1",
   "metadata": {},
   "outputs": [
    {
     "name": "stdout",
     "output_type": "stream",
     "text": [
      "Kiritiladigan sanoq sistema -> 3\n",
      "Chiqariladigan sanoq sistema -> 10\n",
      "Son -> 1011\n",
      "3 -> 10 = 31\n"
     ]
    }
   ],
   "source": [
    "# Kalkulyator\n",
    "kirit = int(input(\"Kiritiladigan sanoq sistema -> \"))\n",
    "\n",
    "# 2,3,4,5,6,7,8,9 likdan 10 likka o'tkazish\n",
    "if 2<=kirit<=9:\n",
    "    chiqar = int(input(\"Chiqariladigan sanoq sistema -> \"))\n",
    "    n = input(\"Son -> \")\n",
    "    a = len(n)\n",
    "    sanoq = 0\n",
    "    for i in range(a):\n",
    "        sanoq += int(n[i])*(kirit**(a-i-1))\n",
    "    if chiqar==10:\n",
    "        print(kirit,\"->\",chiqar, \"=\" ,sanoq)\n",
    "\n",
    "# Yuqoridagi 10 likka o'tkazilganni boshqasiga o'tkazadi\n",
    "if 2<=chiqar<=9 and kirit!=10:\n",
    "    s = \"\"\n",
    "    while sanoq>0:\n",
    "        sanoq1 = sanoq % chiqar\n",
    "        sanoq //= chiqar\n",
    "        s = str(sanoq1) + s\n",
    "    print(kirit,\"->\",chiqar, \"=\" ,s)\n",
    "        \n",
    "# 10 likdan 2,3,4,5,6,7,8,9 likka\n",
    "if kirit==10:\n",
    "    chiqar = int(input(\"Chiqariladigan sanoq sistema -> \"))\n",
    "    n = int(input(\"Son -> \"))\n",
    "    s = \"\"\n",
    "    while n>0:\n",
    "        sanoq = n % chiqar\n",
    "        n //= chiqar\n",
    "        s = str(sanoq) + s\n",
    "    print(kirit,\"->\",chiqar, \"=\" ,s)"
   ]
  },
  {
   "cell_type": "code",
   "execution_count": 47,
   "id": "e4102c52",
   "metadata": {},
   "outputs": [
    {
     "name": "stdout",
     "output_type": "stream",
     "text": [
      "N = 10000\n",
      "220 284 1184 1210 2620 2924 5020 5564 6232 6368 2345\n"
     ]
    }
   ],
   "source": [
    "# Do'st sonlar bo'luvchilar yig'indisi ikkinchi songa teng.\n",
    "n = int(input(\"N = \"))\n",
    "\n",
    "for i in range(1, n+1):\n",
    "    s = 0\n",
    "    for j in range(1, i):\n",
    "        if i%j==0:\n",
    "            s += j\n",
    "    if s>i:\n",
    "        s1 = 0\n",
    "        for j in range(1, s):\n",
    "            if s%j==0:\n",
    "                s1 += j\n",
    "                \n",
    "        if s1==i:\n",
    "            print(i, s, end=\" \")\n",
    "print(x)"
   ]
  },
  {
   "cell_type": "code",
   "execution_count": 1,
   "id": "4079df5e",
   "metadata": {},
   "outputs": [
    {
     "name": "stdout",
     "output_type": "stream",
     "text": [
      "N = 100\n",
      "2 3 5 7 11 13 17 19 23 29 31 37 41 43 47 53 59 61 67 71 73 79 83 89 97 \n",
      "Sanagich:  87\n"
     ]
    }
   ],
   "source": [
    "# N ta tub sonlar\n",
    "n = int(input(\"N = \"))\n",
    "print(2, end=\" \")\n",
    "sanagich = s1 = 0\n",
    "for i in range(3,n+1, 2):\n",
    "    s = 0\n",
    "    for j in range(3, int(i**0.5)+1, 2):\n",
    "        sanagich += 1\n",
    "        if i%j==0:\n",
    "            s +=1\n",
    "            break\n",
    "    if s==0:\n",
    "        print(i, end=\" \")\n",
    "print(\"\\nSanagich: \",  sanagich)"
   ]
  },
  {
   "cell_type": "code",
   "execution_count": null,
   "id": "5001b083",
   "metadata": {},
   "outputs": [],
   "source": [
    "10 gacha tub sonlar faqat toq sonlarni oladi\n",
    "1-qadam. Ekranga 2 ni chiqaradi\n",
    "2-qadam. i dan 3,5,7,9, j dan 3 ni oladi, 3%3=0, 5%3=2, 7%3=1, 9%3=0, birinchida s=0 ekranga 3 chiqadi \n",
    "3-qadam. i dan 3,5,7,9, j dan 5 ni oladi, 3%5=3, 5%5=0, 7%5=2, 9%5=4, ikkinchida s=0 ekranga 5 chiqadi \n",
    "4-qadam. i dan 3,5,7,9, j dan 7 ni oladi, 3%7=3, 5%7=5, 7%7=0, 9%7=2, uchinchida s=0 ekranga 7 chiqadi\n",
    "5-qadam. i dan 3,5,7,9, j dan 9 ni oladi, 3%9=3, 5%9=5, 7%9=0, 9%9=0, turtchida s=1 ekranga hech nima chiqmaydi\n",
    "...\n"
   ]
  },
  {
   "cell_type": "code",
   "execution_count": null,
   "id": "388b2b2c",
   "metadata": {},
   "outputs": [],
   "source": []
  }
 ],
 "metadata": {
  "kernelspec": {
   "display_name": "Python 3 (ipykernel)",
   "language": "python",
   "name": "python3"
  },
  "language_info": {
   "codemirror_mode": {
    "name": "ipython",
    "version": 3
   },
   "file_extension": ".py",
   "mimetype": "text/x-python",
   "name": "python",
   "nbconvert_exporter": "python",
   "pygments_lexer": "ipython3",
   "version": "3.9.9"
  }
 },
 "nbformat": 4,
 "nbformat_minor": 5
}
