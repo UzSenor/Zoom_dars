{
 "cells": [
  {
   "cell_type": "code",
   "execution_count": 78,
   "id": "cc4e32a1",
   "metadata": {},
   "outputs": [
    {
     "name": "stdout",
     "output_type": "stream",
     "text": [
      "N = 2\n",
      "Satr: salom\n",
      "om\n"
     ]
    }
   ],
   "source": [
    "# String 26\n",
    "n = int(input(\"N = \"))\n",
    "st = input(\"Satr: \")\n",
    "st1 = \"\"\n",
    "if n<len(st):\n",
    "    print(st[len(st)-n:])\n",
    "elif n>len(st):\n",
    "    for _ in range(n-len(st)):\n",
    "        st1 += \".\"\n",
    "    print(st1+st)"
   ]
  },
  {
   "cell_type": "code",
   "execution_count": 33,
   "id": "3b2d00e5",
   "metadata": {},
   "outputs": [
    {
     "name": "stdout",
     "output_type": "stream",
     "text": [
      "N = 2\n",
      "Satr: salom\n",
      "N1 = 3\n",
      "Satr1: dunyo\n",
      "sanyo\n"
     ]
    }
   ],
   "source": [
    "# String 27\n",
    "n = int(input(\"N = \"))\n",
    "st = input(\"Satr: \")\n",
    "n1 = int(input(\"N1 = \"))\n",
    "st1 = input(\"Satr1: \")\n",
    "st2 = \"\"\n",
    "\n",
    "st2 += st[:n]\n",
    "st2 += st1[len(st1)-n1:]\n",
    "print(st2)"
   ]
  },
  {
   "cell_type": "code",
   "execution_count": 35,
   "id": "ded0fdbd",
   "metadata": {},
   "outputs": [
    {
     "name": "stdout",
     "output_type": "stream",
     "text": [
      "Belgi: o\n",
      "Satr: salom\n",
      "saloom\n"
     ]
    }
   ],
   "source": [
    "# String 28\n",
    "c = input(\"Belgi: \")\n",
    "st = input(\"Satr: \")\n",
    "st2 = \"\"\n",
    "for i in st:\n",
    "    if c == i:\n",
    "        st2 += i * 2\n",
    "    else:\n",
    "        st2 += i\n",
    "print(st2)"
   ]
  },
  {
   "cell_type": "code",
   "execution_count": 36,
   "id": "176d574b",
   "metadata": {},
   "outputs": [
    {
     "name": "stdout",
     "output_type": "stream",
     "text": [
      "Belgi: l\n",
      "Satr: hello\n",
      "Satr1: salom\n",
      "hesalomlsalomlo\n"
     ]
    }
   ],
   "source": [
    "# String 29\n",
    "c = input(\"Belgi: \")\n",
    "st = input(\"Satr: \")\n",
    "st1 = input(\"Satr1: \")\n",
    "st2 = \"\"\n",
    "for i in st:\n",
    "    if c == i:\n",
    "        st2 += st1 + i\n",
    "    else:\n",
    "        st2 += i\n",
    "print(st2)"
   ]
  },
  {
   "cell_type": "code",
   "execution_count": 37,
   "id": "926721c8",
   "metadata": {},
   "outputs": [
    {
     "name": "stdout",
     "output_type": "stream",
     "text": [
      "Belgi: l\n",
      "Satr: hello\n",
      "Satr1: salom\n",
      "helsalomlsalomo\n"
     ]
    }
   ],
   "source": [
    "# String 30\n",
    "c = input(\"Belgi: \")\n",
    "st = input(\"Satr: \")\n",
    "st1 = input(\"Satr1: \")\n",
    "st2 = \"\"\n",
    "for i in st:\n",
    "    if c == i:\n",
    "        st2 += i + st1\n",
    "    else:\n",
    "        st2 += i\n",
    "print(st2)"
   ]
  },
  {
   "cell_type": "code",
   "execution_count": null,
   "id": "64b31dcf",
   "metadata": {},
   "outputs": [],
   "source": [
    "c = input(\"Belgi: \")\n",
    "st = input(\"Satr: \")\n",
    "st1 = input(\"Satr1: \")\n",
    "st2 = st.replase(c, c+st1)\n",
    "print(st2)"
   ]
  },
  {
   "cell_type": "code",
   "execution_count": 39,
   "id": "50205dc9",
   "metadata": {},
   "outputs": [
    {
     "name": "stdout",
     "output_type": "stream",
     "text": [
      "Satr: salom\n",
      "Satr1: ao\n",
      "False\n"
     ]
    }
   ],
   "source": [
    "# String 31\n",
    "st = input(\"Satr: \")\n",
    "st1 = input(\"Satr1: \")\n",
    "a = st.find(st1)\n",
    "if a != -1:\n",
    "    print(True)\n",
    "else:\n",
    "    print(False)"
   ]
  },
  {
   "cell_type": "code",
   "execution_count": 53,
   "id": "9b59c4aa",
   "metadata": {},
   "outputs": [
    {
     "name": "stdout",
     "output_type": "stream",
     "text": [
      "Satr: salomsalom\n",
      "Satr1: lom\n",
      "2\n"
     ]
    }
   ],
   "source": [
    "# String 32\n",
    "st = input(\"Satr: \")\n",
    "st1 = input(\"Satr1: \")\n",
    "a = st.count(st1)\n",
    "print(a)"
   ]
  },
  {
   "cell_type": "code",
   "execution_count": 56,
   "id": "6308f89d",
   "metadata": {},
   "outputs": [
    {
     "name": "stdout",
     "output_type": "stream",
     "text": [
      "Satr: salom\n",
      "Satr1: ma\n",
      "salom\n"
     ]
    }
   ],
   "source": [
    "# String 33\n",
    "st = input(\"Satr: \")\n",
    "st1 = input(\"Satr1: \")\n",
    "a = st.replace(st1, \"\",1)\n",
    "print(a)"
   ]
  },
  {
   "cell_type": "code",
   "execution_count": 168,
   "id": "4a6bc3ca",
   "metadata": {},
   "outputs": [
    {
     "name": "stdout",
     "output_type": "stream",
     "text": [
      "Satr: salomsalom\n",
      "Satr1: sa\n",
      "salomlom\n"
     ]
    }
   ],
   "source": [
    "# String 34\n",
    "st = input(\"Satr: \")\n",
    "st1 = input(\"Satr1: \")\n",
    "\n",
    "a = st[::-1].replace(st1[::-1], \"\",1)[::-1]\n",
    "\n",
    "print(a)"
   ]
  },
  {
   "cell_type": "code",
   "execution_count": 67,
   "id": "11565ccf",
   "metadata": {},
   "outputs": [
    {
     "name": "stdout",
     "output_type": "stream",
     "text": [
      "Satr: salomsalom\n",
      "Satr1: lo\n",
      "samsam\n"
     ]
    }
   ],
   "source": [
    "# String 35\n",
    "st = input(\"Satr: \")\n",
    "st1 = input(\"Satr1: \")\n",
    "a = st.replace(st1, \"\")\n",
    "print(a)"
   ]
  },
  {
   "cell_type": "code",
   "execution_count": 68,
   "id": "57e9e1ff",
   "metadata": {},
   "outputs": [
    {
     "name": "stdout",
     "output_type": "stream",
     "text": [
      "Satr: salomsalom\n",
      "Satr1: lo\n",
      "Satr2: ol\n",
      "saolmsalom\n"
     ]
    }
   ],
   "source": [
    "# String 36\n",
    "st = input(\"Satr: \")\n",
    "st1 = input(\"Satr1: \")\n",
    "st2 = input(\"Satr2: \")\n",
    "a = st.replace(st1, st2, 1)\n",
    "print(a)"
   ]
  },
  {
   "cell_type": "code",
   "execution_count": 170,
   "id": "26b03083",
   "metadata": {},
   "outputs": [
    {
     "name": "stdout",
     "output_type": "stream",
     "text": [
      "Satr: salomsalom\n",
      "Satr1: lo\n",
      "Satr2: la\n",
      "salomsalam\n"
     ]
    }
   ],
   "source": [
    "# String 37\n",
    "st = input(\"Satr: \")\n",
    "st1 = input(\"Satr1: \")\n",
    "st2 = input(\"Satr2: \")\n",
    "a = st[::-1].replace(st1[::-1], st2[::-1],1)[::-1]\n",
    "\n",
    "print(a)"
   ]
  },
  {
   "cell_type": "code",
   "execution_count": 70,
   "id": "6f0911b9",
   "metadata": {},
   "outputs": [
    {
     "name": "stdout",
     "output_type": "stream",
     "text": [
      "Satr: salomsalom\n",
      "Satr1: lo\n",
      "Satr2: la\n",
      "salamsalam\n"
     ]
    }
   ],
   "source": [
    "# String 38\n",
    "st = input(\"Satr: \")\n",
    "st1 = input(\"Satr1: \")\n",
    "st2 = input(\"Satr2: \")\n",
    "a = st.replace(st1, st2)\n",
    "print(a)"
   ]
  },
  {
   "cell_type": "code",
   "execution_count": 172,
   "id": "d0608213",
   "metadata": {},
   "outputs": [
    {
     "name": "stdout",
     "output_type": "stream",
     "text": [
      "Satr: salom dunyo hammaga\n",
      "dunyo\n"
     ]
    }
   ],
   "source": [
    "# String 39\n",
    "st = input(\"Satr: \")\n",
    "st = st.split()\n",
    "if len(st)==2:\n",
    "    print(\"\")\n",
    "elif len(st)>2:\n",
    "    print(st[1])"
   ]
  },
  {
   "cell_type": "code",
   "execution_count": 175,
   "id": "fb0a1592",
   "metadata": {},
   "outputs": [
    {
     "name": "stdout",
     "output_type": "stream",
     "text": [
      "Satr: Salom dunyo hammaga salom\n",
      "dunyo hammaga\n"
     ]
    }
   ],
   "source": [
    "# String 40\n",
    "st = input(\"Satr: \")\n",
    "st = st.split()\n",
    "if len(st)==2:\n",
    "    print(\"\")\n",
    "elif len(st)>2:\n",
    "    print(*st[1:-1])"
   ]
  },
  {
   "cell_type": "code",
   "execution_count": 83,
   "id": "66b0d5ef",
   "metadata": {},
   "outputs": [
    {
     "name": "stdout",
     "output_type": "stream",
     "text": [
      "So'zlar: Salom hammaga. Siz bu yerda so'zlar sonini ko'rishingiz mumkin\n",
      "Satr 9 ta so'zdan iborat\n"
     ]
    }
   ],
   "source": [
    "# String 41\n",
    "st = input(\"So'zlar: \")\n",
    "a = st.split(\" \")\n",
    "print(f\"Satr {len(a)} ta so'zdan iborat\")"
   ]
  },
  {
   "cell_type": "code",
   "execution_count": 178,
   "id": "46209173",
   "metadata": {},
   "outputs": [
    {
     "name": "stdout",
     "output_type": "stream",
     "text": [
      "So'zlar: AZIZA KIYIK\n",
      "Satr 2 ta boshi va oxiri oxshash so'zdan iborat\n"
     ]
    }
   ],
   "source": [
    "# String 42\n",
    "st = input(\"So'zlar: \")\n",
    "a = st.split(\" \")\n",
    "s = 0\n",
    "for i in a:\n",
    "    if i[0] == i[-1]:\n",
    "            s += 1\n",
    "print(f\"Satr {s} ta boshi va oxiri oxshash so'zdan iborat\")"
   ]
  },
  {
   "cell_type": "code",
   "execution_count": 103,
   "id": "440aabfe",
   "metadata": {},
   "outputs": [
    {
     "name": "stdout",
     "output_type": "stream",
     "text": [
      "So'zlar: SALOM HAMMAGA. MEN BU YERDA A HARFINI QIDIRDIM salom\n",
      "Satrda 5 ta A harfili so'zlardan iborat\n"
     ]
    }
   ],
   "source": [
    "# String 43\n",
    "st = input(\"So'zlar: \")\n",
    "a = st.split(\" \")\n",
    "s = 0\n",
    "for i in range(len(a)):\n",
    "    for j in range(len(a[i])):\n",
    "        if a[i][j] == \"A\":\n",
    "            s += 1\n",
    "            break\n",
    "print(f\"Satrda {s} ta A harfili so'zlardan iborat\")"
   ]
  },
  {
   "cell_type": "code",
   "execution_count": 104,
   "id": "13473cdc",
   "metadata": {},
   "outputs": [
    {
     "name": "stdout",
     "output_type": "stream",
     "text": [
      "So'zlar: SALOM HAMMAGA. MEN BU YERDA A HARFINI QIDIRDIM salom\n",
      "Satrda 1 ta 3 ta A harfili so'zlardan iborat\n"
     ]
    }
   ],
   "source": [
    "# String 44\n",
    "st = input(\"So'zlar: \")\n",
    "a = st.split(\" \")\n",
    "x = 0\n",
    "for i in range(len(a)):\n",
    "    s = 0\n",
    "    for j in range(len(a[i])):\n",
    "        if a[i][j] == \"A\":\n",
    "            s += 1\n",
    "    if s==3:\n",
    "        x += 1\n",
    "print(f\"Satrda {x} ta 3 ta A harfili so'zlardan iborat\")"
   ]
  },
  {
   "cell_type": "code",
   "execution_count": 108,
   "id": "c5acac8e",
   "metadata": {},
   "outputs": [
    {
     "name": "stdout",
     "output_type": "stream",
     "text": [
      "So'zlar: SALOM HAMMAGA. MEN BU YERDA HARFINI QIDIRDIM salom\n",
      "Satrda 2 uzunlikdagi so'z eng qisqasi\n"
     ]
    }
   ],
   "source": [
    "# String 45\n",
    "st = input(\"So'zlar: \")\n",
    "a = st.split(\" \")\n",
    "y = True\n",
    "for i in range(len(a)):\n",
    "    s = 0\n",
    "    for _ in range(len(a[i])):\n",
    "        s += 1\n",
    "    if y:\n",
    "        mini = s\n",
    "        y = False\n",
    "    if mini > s:\n",
    "        mini = s\n",
    "print(f\"Satrda {mini} uzunlikdagi so'z eng qisqasi\")"
   ]
  },
  {
   "cell_type": "code",
   "execution_count": 110,
   "id": "5dcfbf3b",
   "metadata": {},
   "outputs": [
    {
     "name": "stdout",
     "output_type": "stream",
     "text": [
      "So'zlar: SALOM HAMMAGA. MEN BU YERDA HARFINI QIDIRDIM salom\n",
      "Satrda 8 uzunlikdagi so'z eng uzuni\n"
     ]
    }
   ],
   "source": [
    "# String 46\n",
    "st = input(\"So'zlar: \")\n",
    "a = st.split(\" \")\n",
    "y = True\n",
    "for i in range(len(a)):\n",
    "    s = 0\n",
    "    for _ in range(len(a[i])):\n",
    "        s += 1\n",
    "    if y:\n",
    "        maxi = s\n",
    "        y = False\n",
    "    if maxi < s:\n",
    "        maxi = s\n",
    "print(f\"Satrda {maxi} uzunlikdagi so'z eng uzuni\")"
   ]
  },
  {
   "cell_type": "code",
   "execution_count": 111,
   "id": "cb4f5bd8",
   "metadata": {},
   "outputs": [
    {
     "name": "stdout",
     "output_type": "stream",
     "text": [
      "So'zlar: SALOM HAMMAGA. MEN BU YERDA HARFINI QIDIRDIM salom\n",
      "SALOM.HAMMAGA..MEN.BU.YERDA.HARFINI.QIDIRDIM.salom\n"
     ]
    }
   ],
   "source": [
    "# String 47\n",
    "st = input(\"So'zlar: \")\n",
    "a = st.replace(\" \", \".\")\n",
    "print(a)"
   ]
  },
  {
   "cell_type": "code",
   "execution_count": 199,
   "id": "31b5605b",
   "metadata": {},
   "outputs": [
    {
     "name": "stdout",
     "output_type": "stream",
     "text": [
      "So'zlar: Salom minimum so'zlar qatnashgan yaylov\n",
      "Salom mini.u. so'zlar qatnashgan ya.lov\n"
     ]
    }
   ],
   "source": [
    "# String 48\n",
    "st = input(\"So'zlar: \")\n",
    "a = st.split()\n",
    "for i in range(len(a)):\n",
    "    a[i] = a[i][0]+a[i][1:].replace(a[i][0], \".\")\n",
    "print(\" \".join(a))"
   ]
  },
  {
   "cell_type": "code",
   "execution_count": 200,
   "id": "abe13dfb",
   "metadata": {},
   "outputs": [
    {
     "name": "stdout",
     "output_type": "stream",
     "text": [
      "So'zlar: Salom minimum so'zlar qatnashgan yaylov\n",
      "Salom .ini.um so'zlar qat.ashgan yaylov\n"
     ]
    }
   ],
   "source": [
    "# String 49\n",
    "st = input(\"So'zlar: \")\n",
    "a = st.split()\n",
    "for i in range(len(a)):\n",
    "    a[i] = a[i][:-1].replace(a[i][-1], \".\")+a[i][-1]\n",
    "print(\" \".join(a))"
   ]
  },
  {
   "cell_type": "code",
   "execution_count": 179,
   "id": "85512efa",
   "metadata": {},
   "outputs": [
    {
     "name": "stdout",
     "output_type": "stream",
     "text": [
      "So'zlar: Salom  hammaga  kim  bor\n",
      "bor kim hammaga Salom\n"
     ]
    }
   ],
   "source": [
    "# String 50\n",
    "st = input(\"So'zlar: \")\n",
    "a = st.split()\n",
    "print(\" \".join(a[-1::-1]))"
   ]
  },
  {
   "cell_type": "code",
   "execution_count": 177,
   "id": "b00b3057",
   "metadata": {},
   "outputs": [
    {
     "name": "stdout",
     "output_type": "stream",
     "text": [
      "So'zlar: SALOM  HAMMAGA KIM  BOR\n",
      "BOR HAMMAGA KIM SALOM\n"
     ]
    }
   ],
   "source": [
    "# String 51\n",
    "st = input(\"So'zlar: \")\n",
    "a = st.split()\n",
    "\n",
    "a.sort()\n",
    "print(\" \".join(a))"
   ]
  },
  {
   "cell_type": "code",
   "execution_count": 1,
   "id": "8f3fe8de",
   "metadata": {},
   "outputs": [
    {
     "name": "stdout",
     "output_type": "stream",
     "text": [
      "So'zlar: salom hammaka ishlar yaxshimi\n",
      "Salom Hammaka Ishlar Yaxshimi\n"
     ]
    }
   ],
   "source": [
    "# String 52\n",
    "st = input(\"So'zlar: \")\n",
    "st = st.title()\n",
    "print(st)"
   ]
  },
  {
   "cell_type": "code",
   "execution_count": 3,
   "id": "09083852",
   "metadata": {},
   "outputs": [
    {
     "name": "stdout",
     "output_type": "stream",
     "text": [
      "So'zlar: Salom. Sen kimsan? Men-Sen\n",
      "Tinish belgitari 3 ta\n"
     ]
    }
   ],
   "source": [
    "# String 53\n",
    "st = input(\"So'zlar: \")\n",
    "s = 0\n",
    "for i in st:\n",
    "    if \"!\" <= i <= \"/\" or \":\" <= i <= \"?\":\n",
    "        s += 1\n",
    "print(f\"Tinish belgilari {s} ta\")"
   ]
  },
  {
   "cell_type": "code",
   "execution_count": 4,
   "id": "7cf4af61",
   "metadata": {},
   "outputs": [
    {
     "name": "stdout",
     "output_type": "stream",
     "text": [
      "So'zlar: Salom. Men sen bilan Juda Yaxshi ishlar Qildim\n",
      "Katta harflar 5 ta\n"
     ]
    }
   ],
   "source": [
    "# String 54\n",
    "st = input(\"So'zlar: \")\n",
    "s = 0\n",
    "for i in st:\n",
    "    if \"A\" <= i <= \"Z\":\n",
    "        s += 1\n",
    "print(f\"Katta harflar {s} ta\")"
   ]
  },
  {
   "cell_type": "code",
   "execution_count": 16,
   "id": "e76a6c6c",
   "metadata": {},
   "outputs": [
    {
     "name": "stdout",
     "output_type": "stream",
     "text": [
      "So'zlar: Salom hammaga bu jupyter da yozilga dastur\n",
      "hammaga 7\n",
      "Eng uzun so'z: hammaga\n"
     ]
    }
   ],
   "source": [
    "# String 55\n",
    "st = input(\"So'zlar: \")\n",
    "a = st.split()\n",
    "S = len(a[0])\n",
    "maxi = a[0]\n",
    "for i in range(1,len(a)):\n",
    "    \n",
    "    if S < len(a[i]):\n",
    "        S = len(a[i])\n",
    "        maxi = a[i]\n",
    "print(f\"Eng uzun so'z: {maxi}\")"
   ]
  },
  {
   "cell_type": "code",
   "execution_count": 17,
   "id": "4cbb08a4",
   "metadata": {},
   "outputs": [
    {
     "name": "stdout",
     "output_type": "stream",
     "text": [
      "So'zlar: Salom hammaga bu jupyter da yozilga dastur\n",
      "Eng uzun so'z: da\n"
     ]
    }
   ],
   "source": [
    "# String 56\n",
    "st = input(\"So'zlar: \")\n",
    "a = st.split()\n",
    "S = len(a[0])\n",
    "maxi = a[0]\n",
    "for i in range(1,len(a)):\n",
    "    \n",
    "    if S >= len(a[i]):\n",
    "        S = len(a[i])\n",
    "        mini = a[i]\n",
    "print(f\"Eng uzun so'z: {mini}\")"
   ]
  },
  {
   "cell_type": "code",
   "execution_count": 18,
   "id": "f6a7b966",
   "metadata": {},
   "outputs": [
    {
     "name": "stdout",
     "output_type": "stream",
     "text": [
      "So'zlar: Salom   hammaga bu  Jupyter\n",
      "Salom hammaga bu Jupyter\n"
     ]
    }
   ],
   "source": [
    "# String 57\n",
    "st = input(\"So'zlar: \")\n",
    "a = st.split()\n",
    "print(\" \".join(a))"
   ]
  },
  {
   "cell_type": "code",
   "execution_count": 23,
   "id": "917bab0b",
   "metadata": {},
   "outputs": [
    {
     "name": "stdout",
     "output_type": "stream",
     "text": [
      "So'zlar: D:\\Hamma\\Salom\\dastur.exe\n",
      "dastur\n"
     ]
    }
   ],
   "source": [
    "# String 58\n",
    "st = input(\"So'zlar: \")\n",
    "a = st.split(\"\\\\\")\n",
    "b = a[-1].split(\".\")\n",
    "print(b[0])"
   ]
  },
  {
   "cell_type": "code",
   "execution_count": 24,
   "id": "a6e627a4",
   "metadata": {},
   "outputs": [
    {
     "name": "stdout",
     "output_type": "stream",
     "text": [
      "So'zlar: D:\\Hamma\\Salom\\dastur.exe\n",
      "exe\n"
     ]
    }
   ],
   "source": [
    "# String 59\n",
    "st = input(\"So'zlar: \")\n",
    "a = st.split(\"\\\\\")\n",
    "b = a[-1].split(\".\")\n",
    "print(b[-1])"
   ]
  },
  {
   "cell_type": "code",
   "execution_count": 28,
   "id": "d3c2b09e",
   "metadata": {},
   "outputs": [
    {
     "name": "stdout",
     "output_type": "stream",
     "text": [
      "So'zlar: D:\\Hamma\\Salom\\dastur.exe\n",
      "Hamma\n"
     ]
    }
   ],
   "source": [
    "# String 60\n",
    "st = input(\"So'zlar: \")\n",
    "a = st.split(\"\\\\\")\n",
    "if a[1] != \"\":\n",
    "    print(a[1])\n",
    "else:\n",
    "    print(\"\\\\\")"
   ]
  },
  {
   "cell_type": "code",
   "execution_count": 33,
   "id": "d356e9d0",
   "metadata": {},
   "outputs": [
    {
     "name": "stdout",
     "output_type": "stream",
     "text": [
      "So'zlar: D:\\Hamma\\Salom\\hamma\\dastur.exe\n",
      "hamma\n"
     ]
    }
   ],
   "source": [
    "# String 61\n",
    "st = input(\"So'zlar: \")\n",
    "a = st.split(\"\\\\\")\n",
    "if a[-1] != \"\":\n",
    "    print(a[-2])\n",
    "else:\n",
    "    print(\"\\\\\")"
   ]
  },
  {
   "cell_type": "code",
   "execution_count": 70,
   "id": "b19566ce",
   "metadata": {},
   "outputs": [
    {
     "name": "stdout",
     "output_type": "stream",
     "text": [
      "So'zlar: Zvezda\n",
      "Awfaeb\n"
     ]
    }
   ],
   "source": [
    "# String 62\n",
    "st = input(\"So'zlar: \")\n",
    "st1 = \"\"\n",
    "for i in st:\n",
    "    if \"a\" <= i < \"z\" or \"A\" <= i < \"Z\":\n",
    "        st1 += chr(ord(i)+1)\n",
    "    elif i == \"Z\" or i == \"z\":\n",
    "        st1 += chr(ord(i)-25)\n",
    "    else:\n",
    "        st1 += i\n",
    "print(st1)    "
   ]
  },
  {
   "cell_type": "code",
   "execution_count": 80,
   "id": "0bc23cd8",
   "metadata": {},
   "outputs": [
    {
     "name": "stdout",
     "output_type": "stream",
     "text": [
      "So'zlar: Zvezda\n",
      "K = 1\n",
      "Awfaeb\n"
     ]
    }
   ],
   "source": [
    "# String 63\n",
    "st = input(\"So'zlar: \")\n",
    "k = int(input(\"K = \"))\n",
    "while 10<k or k<0:\n",
    "    k = int(input(\"K = \"))\n",
    "st1 = \"\"\n",
    "for i in st:\n",
    "    if \"a\" <= i <= \"z\": \n",
    "        if chr(ord(i)+k) <= \"z\":\n",
    "            st1 += chr(ord(i)+k)\n",
    "        elif chr(ord(i)+k) > \"z\":\n",
    "            st1 += chr(ord(i)-26+k)\n",
    "    elif \"A\" <= i <= \"Z\":\n",
    "        if chr(ord(i)+k) <= \"Z\":\n",
    "            st1 += chr(ord(i)+k)\n",
    "        elif chr(ord(i)+k) > \"Z\":\n",
    "            st1 += chr(ord(i)-26+k)\n",
    "    else:\n",
    "        st1 += i\n",
    "print(st1)    "
   ]
  },
  {
   "cell_type": "code",
   "execution_count": 93,
   "id": "79289d36",
   "metadata": {},
   "outputs": [
    {
     "name": "stdout",
     "output_type": "stream",
     "text": [
      "So'zlar: Salom hammaga\n",
      "K = 8\n",
      "Aitwu piuuioi\n",
      "Salom hammaga\n"
     ]
    }
   ],
   "source": [
    "# String 64\n",
    "st = input(\"So'zlar: \")\n",
    "k = int(input(\"K = \"))\n",
    "while 10<k or k<0:\n",
    "    k = int(input(\"K = \"))\n",
    "st1 = \"\"\n",
    "st2 = \"\"\n",
    "for i in st:\n",
    "    if \"a\" <= i <= \"z\": \n",
    "        if chr(ord(i)+k) <= \"z\":\n",
    "            st1 += chr(ord(i)+k)\n",
    "        elif chr(ord(i)+k) > \"z\":\n",
    "            st1 += chr(ord(i)-26+k)\n",
    "    elif \"A\" <= i <= \"Z\":\n",
    "        if chr(ord(i)+k) <= \"Z\":\n",
    "            st1 += chr(ord(i)+k)\n",
    "        elif chr(ord(i)+k) > \"Z\":\n",
    "            st1 += chr(ord(i)-26+k)\n",
    "    else:\n",
    "        st1 += i\n",
    "print(st1)\n",
    "\n",
    "for j in st1:\n",
    "    if \"a\" <= j <= \"z\": \n",
    "        if chr(ord(j)-k) >= \"a\":\n",
    "            st2 += chr(ord(j)-k)\n",
    "        elif chr(ord(j)-k) < \"a\":\n",
    "            st2 += chr(ord(j)+26-k)\n",
    "    elif \"A\" <= j <= \"Z\":\n",
    "        if chr(ord(j)-k) >= \"A\":\n",
    "            st2 += chr(ord(j)-k)\n",
    "        elif chr(ord(j)-k) < \"A\":\n",
    "            st2 += chr(ord(j)+26-k)\n",
    "    else:\n",
    "        st2 += j\n",
    "print(st2)"
   ]
  },
  {
   "cell_type": "code",
   "execution_count": 94,
   "id": "7eda08aa",
   "metadata": {},
   "outputs": [
    {
     "name": "stdout",
     "output_type": "stream",
     "text": [
      "So'zlar: Aitwu piuuioi\n",
      "K = 8\n",
      "Salom hammaga\n"
     ]
    }
   ],
   "source": [
    "# String 64.1\n",
    "st = input(\"So'zlar: \")\n",
    "k = int(input(\"K = \"))\n",
    "while 10<k or k<0:\n",
    "    k = int(input(\"K = \"))\n",
    "st2 = \"\"\n",
    "\n",
    "for j in st:\n",
    "    if \"a\" <= j <= \"z\": \n",
    "        if chr(ord(j)-k) >= \"a\":\n",
    "            st2 += chr(ord(j)-k)\n",
    "        elif chr(ord(j)-k) < \"a\":\n",
    "            st2 += chr(ord(j)+26-k)\n",
    "    elif \"A\" <= j <= \"Z\":\n",
    "        if chr(ord(j)-k) >= \"A\":\n",
    "            st2 += chr(ord(j)-k)\n",
    "        elif chr(ord(j)-k) < \"A\":\n",
    "            st2 += chr(ord(j)+26-k)\n",
    "    else:\n",
    "        st2 += j\n",
    "print(st2)"
   ]
  },
  {
   "cell_type": "code",
   "execution_count": 92,
   "id": "f8d26da5",
   "metadata": {},
   "outputs": [
    {
     "name": "stdout",
     "output_type": "stream",
     "text": [
      "7\n",
      "So'zlar: Salom hammaga\n",
      "Yuqoridagi so'znong birinchi harfi: S\n",
      "Zhsvt ohtthnh\n",
      "Salom hammaga\n",
      "7\n"
     ]
    }
   ],
   "source": [
    "# String 65\n",
    "from random import randint\n",
    "k = randint(1,10)\n",
    "print(k)\n",
    "\n",
    "st = input(\"So'zlar: \")\n",
    "st0 = input(\"Yuqoridagi so'znong birinchi harfi: \")\n",
    "st1 = \"\"\n",
    "st2 = \"\"\n",
    "for i in st:\n",
    "    if \"a\" <= i <= \"z\": \n",
    "        if chr(ord(i)+k) <= \"z\":\n",
    "            st1 += chr(ord(i)+k)\n",
    "        elif chr(ord(i)+k) > \"z\":\n",
    "            st1 += chr(ord(i)-26+k)\n",
    "    elif \"A\" <= i <= \"Z\":\n",
    "        if chr(ord(i)+k) <= \"Z\":\n",
    "            st1 += chr(ord(i)+k)\n",
    "        elif chr(ord(i)+k) > \"Z\":\n",
    "            st1 += chr(ord(i)-26+k)\n",
    "    else:\n",
    "        st1 += i\n",
    "print(st1)\n",
    "\n",
    "for j in st1:\n",
    "    if \"a\" <= j <= \"z\": \n",
    "        if chr(ord(j)-k) >= \"a\":\n",
    "            st2 += chr(ord(j)-k)\n",
    "        elif chr(ord(j)-k) < \"a\":\n",
    "            st2 += chr(ord(j)+26-k)\n",
    "    elif \"A\" <= j <= \"Z\":\n",
    "        if chr(ord(j)-k) >= \"A\":\n",
    "            st2 += chr(ord(j)-k)\n",
    "        elif chr(ord(j)-k) < \"A\":\n",
    "            st2 += chr(ord(j)+26-k)\n",
    "    else:\n",
    "        st2 += j\n",
    "print(st2)\n",
    "a = ord(st1[0])-ord(st0)\n",
    "print(a)"
   ]
  },
  {
   "cell_type": "code",
   "execution_count": 100,
   "id": "dd444325",
   "metadata": {},
   "outputs": [
    {
     "name": "stdout",
     "output_type": "stream",
     "text": [
      "So'zlar: Zhsvt ohtthnh\n",
      "Yuqoridagi so'znong birinchi harfi: S\n",
      "7\n",
      "Salom hammaga\n"
     ]
    }
   ],
   "source": [
    "# String 65.1\n",
    "\n",
    "st = input(\"So'zlar: \")\n",
    "st0 = input(\"Yuqoridagi so'znong birinchi harfi: \")\n",
    "st2 = \"\"\n",
    "k = ord(st[0])-ord(st0)\n",
    "print(k)\n",
    "\n",
    "for j in st:\n",
    "    if \"a\" <= j <= \"z\": \n",
    "        if chr(ord(j)-k) >= \"a\":\n",
    "            st2 += chr(ord(j)-k)\n",
    "        elif chr(ord(j)-k) < \"a\":\n",
    "            st2 += chr(ord(j)+25-k)\n",
    "    elif \"A\" <= j <= \"Z\":\n",
    "        if chr(ord(j)-k) >= \"A\":\n",
    "            st2 += chr(ord(j)-k)\n",
    "        elif chr(ord(j)-k) < \"A\":\n",
    "            st2 += chr(ord(j)+25-k)\n",
    "    else:\n",
    "        st2 += j\n",
    "print(st2)"
   ]
  },
  {
   "cell_type": "code",
   "execution_count": 101,
   "id": "befb5995",
   "metadata": {},
   "outputs": [
    {
     "name": "stdout",
     "output_type": "stream",
     "text": [
      "So'zlar: Programma\n",
      "Pormamagr\n"
     ]
    }
   ],
   "source": [
    "# String 66\n",
    "\n",
    "st = input(\"So'zlar: \")\n",
    "st1 = \"\"\n",
    "st2 = \"\"\n",
    "for i in st[0::2]:\n",
    "    st1 += i\n",
    "for j in st[1::2]:\n",
    "    st2 += j\n",
    "print(st1+st2[::-1])"
   ]
  },
  {
   "cell_type": "code",
   "execution_count": 102,
   "id": "6e124016",
   "metadata": {},
   "outputs": [
    {
     "name": "stdout",
     "output_type": "stream",
     "text": [
      "So'zlar: Programma\n",
      "amroPrgam\n"
     ]
    }
   ],
   "source": [
    "# String 67\n",
    "\n",
    "st = input(\"So'zlar: \")\n",
    "st1 = \"\"\n",
    "st2 = \"\"\n",
    "for i in st[0::2]:\n",
    "    st1 += i\n",
    "for j in st[1::2]:\n",
    "    st2 += j\n",
    "print(st1[::-1]+st2)"
   ]
  },
  {
   "cell_type": "code",
   "execution_count": 110,
   "id": "77b6d416",
   "metadata": {},
   "outputs": [
    {
     "name": "stdout",
     "output_type": "stream",
     "text": [
      "So'zlar: 01257abcs\n",
      "0\n"
     ]
    }
   ],
   "source": [
    "# String 68\n",
    "\n",
    "st = input(\"So'zlar: \")\n",
    "\n",
    "for i in range(len(st)-1):\n",
    "    if st[i]<st[i+1]:\n",
    "        a = 0\n",
    "    else:\n",
    "        a = st[i+1]\n",
    "        break\n",
    "print(a)"
   ]
  },
  {
   "cell_type": "code",
   "execution_count": 128,
   "id": "dcb49d12",
   "metadata": {},
   "outputs": [
    {
     "name": "stdout",
     "output_type": "stream",
     "text": [
      "So'zlar: S(alo)M\n",
      "0\n"
     ]
    }
   ],
   "source": [
    "# String 69\n",
    "\n",
    "st = input(\"So'zlar: \")\n",
    "\n",
    "for i in st:\n",
    "    if i == \"(\":\n",
    "        idx = st.index(i)\n",
    "        st1 = st[idx+1:]\n",
    "        for j in st1:\n",
    "            if j == \")\":\n",
    "                s = 0\n",
    "                break\n",
    "            elif j==\"(\":\n",
    "                s = st1.index(j)+idx+1\n",
    "                break\n",
    "            else:\n",
    "                s = -1\n",
    "print(s)"
   ]
  },
  {
   "cell_type": "code",
   "execution_count": 133,
   "id": "dde4f65f",
   "metadata": {},
   "outputs": [
    {
     "name": "stdout",
     "output_type": "stream",
     "text": [
      "So'zlar: (Sal{om{)\n",
      "7\n"
     ]
    }
   ],
   "source": [
    "# String 70\n",
    "\n",
    "st = input(\"So'zlar: \")\n",
    "\n",
    "for i in st:\n",
    "    if i == \"(\" or i == \"[\" or i == \"{\":\n",
    "        idx = st.index(i)\n",
    "        st1 = st[idx+1:]\n",
    "        for j in st1:\n",
    "            if i == \"(\" and j == \")\" or i == \"[\" and j == \"]\" or i == \"{\" and j == \"}\":\n",
    "                s = 0\n",
    "                break\n",
    "            elif j==\"(\" or j == \"[\" or j == \"{\":\n",
    "                s = st1.index(j)+idx+1\n",
    "                break\n",
    "            else:\n",
    "                s = -1\n",
    "print(s)"
   ]
  },
  {
   "cell_type": "code",
   "execution_count": null,
   "id": "4342ac63",
   "metadata": {},
   "outputs": [],
   "source": []
  }
 ],
 "metadata": {
  "kernelspec": {
   "display_name": "Python 3 (ipykernel)",
   "language": "python",
   "name": "python3"
  },
  "language_info": {
   "codemirror_mode": {
    "name": "ipython",
    "version": 3
   },
   "file_extension": ".py",
   "mimetype": "text/x-python",
   "name": "python",
   "nbconvert_exporter": "python",
   "pygments_lexer": "ipython3",
   "version": "3.9.9"
  },
  "toc": {
   "base_numbering": 1,
   "nav_menu": {},
   "number_sections": true,
   "sideBar": true,
   "skip_h1_title": false,
   "title_cell": "Table of Contents",
   "title_sidebar": "Contents",
   "toc_cell": false,
   "toc_position": {
    "height": "calc(100% - 180px)",
    "left": "10px",
    "top": "150px",
    "width": "204.797px"
   },
   "toc_section_display": true,
   "toc_window_display": false
  }
 },
 "nbformat": 4,
 "nbformat_minor": 5
}
