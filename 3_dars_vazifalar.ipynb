{
 "cells": [
  {
   "cell_type": "code",
   "execution_count": 2,
   "id": "b3bca3fb",
   "metadata": {},
   "outputs": [
    {
     "name": "stdout",
     "output_type": "stream",
     "text": [
      "A = 2\n",
      "True\n"
     ]
    }
   ],
   "source": [
    "# 1-misol. A butun son berilgan. Jumlani rostlikka tekshiring. \"A son musbat\"\n",
    "A = int(input(\"A = \"))\n",
    "print(A > 0)"
   ]
  },
  {
   "cell_type": "code",
   "execution_count": 8,
   "id": "9ed1e12d",
   "metadata": {},
   "outputs": [
    {
     "name": "stdout",
     "output_type": "stream",
     "text": [
      "A = 23423\n",
      "True\n",
      "True\n",
      "True\n",
      "True\n"
     ]
    }
   ],
   "source": [
    "# 2-misol. A butun son berilgan. Jumlani rostlikka tekshiring. \"A toq son\"\n",
    "A = int(input(\"A = \"))\n",
    "print(A%2 == 1)\n",
    "print(A%2 != 0)\n",
    "print(not A%2 !=1)\n",
    "print(not A%2 == 0)"
   ]
  },
  {
   "cell_type": "code",
   "execution_count": 10,
   "id": "03725ac7",
   "metadata": {},
   "outputs": [
    {
     "name": "stdout",
     "output_type": "stream",
     "text": [
      "A = 3245234\n",
      "True\n",
      "True\n",
      "True\n",
      "True\n"
     ]
    }
   ],
   "source": [
    "# 3-misol. A butun son berilgan. Jumlani rostlikka tekshiring. \"A juft son\"\n",
    "A = int(input(\"A = \"))\n",
    "print(A%2 == 0)\n",
    "print(A%2 != 1)\n",
    "print(not A%2 == 1)\n",
    "print(not A%2 != 0)"
   ]
  },
  {
   "cell_type": "code",
   "execution_count": 12,
   "id": "54a694a8",
   "metadata": {},
   "outputs": [
    {
     "name": "stdout",
     "output_type": "stream",
     "text": [
      "A = 12\n",
      "B = 2\n",
      "True\n"
     ]
    }
   ],
   "source": [
    "# 4-misol. Ikkita butun A va B son berilgan. Jumlani rostlikka tekshiring. A > 2 va B <=3\n",
    "A = int(input(\"A = \"))\n",
    "B = int(input(\"B = \"))\n",
    "print(A>2 and B<=3)"
   ]
  },
  {
   "cell_type": "code",
   "execution_count": 14,
   "id": "b64f2849",
   "metadata": {},
   "outputs": [
    {
     "name": "stdout",
     "output_type": "stream",
     "text": [
      "A = -2\n",
      "B = 3\n",
      "False\n"
     ]
    }
   ],
   "source": [
    "# 5-misol. Ikkita butun A va B son berilgan. Jumlani rostlikka tekshiring. A >= 0 yoki B < -2\n",
    "A = int(input(\"A = \"))\n",
    "B = int(input(\"B = \"))\n",
    "print(A>=0 or B<-2)"
   ]
  },
  {
   "cell_type": "code",
   "execution_count": 17,
   "id": "0c79d6f6",
   "metadata": {},
   "outputs": [
    {
     "name": "stdout",
     "output_type": "stream",
     "text": [
      "A = 2\n",
      "B = 2\n",
      "C = 3\n",
      "True\n"
     ]
    }
   ],
   "source": [
    "# 6-misol. A, B va C sonlar berilgan. Jumlani rostlikka tekshiring. A<=B<=C\n",
    "A = int(input(\"A = \"))\n",
    "B = int(input(\"B = \"))\n",
    "C = int(input(\"C = \"))\n",
    "print(A<=B<=C)"
   ]
  },
  {
   "cell_type": "code",
   "execution_count": 19,
   "id": "add2a15a",
   "metadata": {},
   "outputs": [
    {
     "name": "stdout",
     "output_type": "stream",
     "text": [
      "A = 4\n",
      "B = 5\n",
      "C = 9\n",
      "True\n"
     ]
    }
   ],
   "source": [
    "# 7- misol. A, B va C sonlar berilgan. Jumlani rostlikka tekshiring. B soni A va C sonlari orasida \n",
    "# yotadi.\n",
    "A = int(input(\"A = \"))\n",
    "B = int(input(\"B = \"))\n",
    "C = int(input(\"C = \"))\n",
    "print(A<B<C)"
   ]
  },
  {
   "cell_type": "code",
   "execution_count": 23,
   "id": "abfb0011",
   "metadata": {},
   "outputs": [
    {
     "name": "stdout",
     "output_type": "stream",
     "text": [
      "A = 1\n",
      "B = 3\n",
      "True\n"
     ]
    }
   ],
   "source": [
    "# 8-misol. Ikkita A va B butun sonlari berilgan. Jumlani rostlikka tekshiring. A va B sonalri toq\n",
    "A = int(input(\"A = \"))\n",
    "B = int(input(\"B = \"))\n",
    "print(A%2 == 1 and B%2 == 1)"
   ]
  },
  {
   "cell_type": "code",
   "execution_count": 25,
   "id": "2151b5db",
   "metadata": {},
   "outputs": [
    {
     "name": "stdout",
     "output_type": "stream",
     "text": [
      "A = 2\n",
      "B = 4\n",
      "False\n"
     ]
    }
   ],
   "source": [
    "# 9-misol. Ikkita A va B butun sonlari berilgan. Jumlani rostlikka tekshiring. A va B sonalri \n",
    "# hech bo'lmaganda bittasi toq.\n",
    "A = int(input(\"A = \"))\n",
    "B = int(input(\"B = \"))\n",
    "print(A%2 == 1 or B%2 == 1)"
   ]
  },
  {
   "cell_type": "code",
   "execution_count": 32,
   "id": "7effdabb",
   "metadata": {},
   "outputs": [
    {
     "name": "stdout",
     "output_type": "stream",
     "text": [
      "A = 2\n",
      "B = 4\n",
      "False\n"
     ]
    }
   ],
   "source": [
    "# 10-misol. Ikkita A va B butun sonlari berilgan. Jumlani rostlikka tekshiring. A va B sonalri \n",
    "# faqat bittasi toq.\n",
    "A = int(input(\"A = \"))\n",
    "B = int(input(\"B = \"))\n",
    "print((A%2 == 1 and B%2 == 0) or (A%2 == 0 and B%2 == 1))"
   ]
  },
  {
   "cell_type": "code",
   "execution_count": 35,
   "id": "0030dbd5",
   "metadata": {},
   "outputs": [
    {
     "name": "stdout",
     "output_type": "stream",
     "text": [
      "A = 3\n",
      "B = 5\n",
      "True\n"
     ]
    }
   ],
   "source": [
    "# 11-misol. Ikkita A va B butun sonlari berilgan. Jumlani rostlikka tekshiring. A va B sonalri \n",
    "# ikkalasi ham toq yoki ikkalasi ham juft son.\n",
    "A = int(input(\"A = \"))\n",
    "B = int(input(\"B = \"))\n",
    "print((A%2 == 1 and B%2 == 1) or (A%2 == 0 and B%2 == 0))"
   ]
  },
  {
   "cell_type": "code",
   "execution_count": 38,
   "id": "f67667bf",
   "metadata": {},
   "outputs": [
    {
     "name": "stdout",
     "output_type": "stream",
     "text": [
      "A = 2\n",
      "B = 456\n",
      "C = 343\n",
      "True\n"
     ]
    }
   ],
   "source": [
    "# 12-misol. Uchta A, B va C butun sonlar berilgan. Jumlani rostlikka tekshiring. A, B, C sonlarning\n",
    "# har biri musbat.\n",
    "A = int(input(\"A = \"))\n",
    "B = int(input(\"B = \"))\n",
    "C = int(input(\"C = \"))\n",
    "print(A>0 and B>0 and C>0)"
   ]
  },
  {
   "cell_type": "code",
   "execution_count": 42,
   "id": "9b714d5f",
   "metadata": {},
   "outputs": [
    {
     "name": "stdout",
     "output_type": "stream",
     "text": [
      "A = -2\n",
      "B = -3\n",
      "C = -5\n",
      "False\n"
     ]
    }
   ],
   "source": [
    "# 13-misol. Uchta A, B va C butun sonlar berilgan. Jumlani rostlikka tekshiring. A, B, C sonlarning\n",
    "# hech bo'lmaganda bittasi musbat.\n",
    "A = int(input(\"A = \"))\n",
    "B = int(input(\"B = \"))\n",
    "C = int(input(\"C = \"))\n",
    "print(A>0 or B>0 or C>0)"
   ]
  },
  {
   "cell_type": "code",
   "execution_count": 54,
   "id": "b476a7a3",
   "metadata": {},
   "outputs": [
    {
     "name": "stdout",
     "output_type": "stream",
     "text": [
      "A = -1\n",
      "B = -2\n",
      "C = -3\n",
      "False\n"
     ]
    }
   ],
   "source": [
    "# 14-misol. Uchta A, B va C butun sonlar berilgan. Jumlani rostlikka tekshiring. A, B, C sonlarning\n",
    "# faqat bittasi musbat.\n",
    "A = int(input(\"A = \"))\n",
    "B = int(input(\"B = \"))\n",
    "C = int(input(\"C = \"))\n",
    "x = A>0 and B<0 and C<0\n",
    "y = B>0 and A<0 and C<0\n",
    "z = C>0 and A<0 and B<0\n",
    "print(x or y or z)"
   ]
  },
  {
   "cell_type": "code",
   "execution_count": 57,
   "id": "3a71db48",
   "metadata": {},
   "outputs": [
    {
     "name": "stdout",
     "output_type": "stream",
     "text": [
      "A = -2\n",
      "B = 3\n",
      "C = -4\n",
      "False\n"
     ]
    }
   ],
   "source": [
    "# 15-misol. Uchta A, B va C butun sonlar berilgan. Jumlani rostlikka tekshiring. A, B, C sonlarning\n",
    "# faqat ikkitasi musbat.\n",
    "A = int(input(\"A = \"))\n",
    "B = int(input(\"B = \"))\n",
    "C = int(input(\"C = \"))\n",
    "x = A>0 and B>0 and C<0\n",
    "y = B>0 nad C>0 and A<0\n",
    "z = C>0 and A>0 and B<0\n",
    "print(x or y or z)"
   ]
  },
  {
   "cell_type": "code",
   "execution_count": 59,
   "id": "0b0daf83",
   "metadata": {},
   "outputs": [
    {
     "name": "stdout",
     "output_type": "stream",
     "text": [
      "Ikki xonali musbat son: 23\n",
      "False\n"
     ]
    }
   ],
   "source": [
    "# 16-misol. Musbat butun son berilgan. Jumlani rostlikka tekshiring. Berilgan ikki xonasi son juft\n",
    "A = int(input(\"Ikki xonali musbat son: \"))\n",
    "print(A%2 == 0)"
   ]
  },
  {
   "cell_type": "code",
   "execution_count": 60,
   "id": "5ca0afc7",
   "metadata": {},
   "outputs": [
    {
     "name": "stdout",
     "output_type": "stream",
     "text": [
      "Uch xonali musbat son: 213\n",
      "True\n"
     ]
    }
   ],
   "source": [
    "# 17-misol. Musbat butun son berilgan. Jumlani rostlikka tekshiring. Berilgan uch xonasi son toq\n",
    "A = int(input(\"Uch xonali musbat son: \"))\n",
    "print(A%2 == 1)"
   ]
  },
  {
   "cell_type": "code",
   "execution_count": 63,
   "id": "4bc2d377",
   "metadata": {},
   "outputs": [
    {
     "name": "stdout",
     "output_type": "stream",
     "text": [
      "A = 2\n",
      "B = 3\n",
      "C = 2\n",
      "True\n"
     ]
    }
   ],
   "source": [
    "# 18-misol. Jumlani rostlikka tekshiring. Berilgan uchta sonlarning hech bo'lmasa ikkitasi bir-biriga\n",
    "# teng.\n",
    "A = int(input(\"A = \"))\n",
    "B = int(input(\"B = \"))\n",
    "C = int(input(\"C = \"))\n",
    "print(A==B or B==C or A==C)"
   ]
  },
  {
   "cell_type": "code",
   "execution_count": 66,
   "id": "da800b15",
   "metadata": {},
   "outputs": [
    {
     "name": "stdout",
     "output_type": "stream",
     "text": [
      "A = 1\n",
      "B = 2\n",
      "C = -1\n",
      "True\n"
     ]
    }
   ],
   "source": [
    "# 19-misol. Jumlani rostlikka tekshiring. Berilgan uchta sonlarning hech bo'lmasa ikkitasi bir-biriga\n",
    "# o'zaro qarama-qarshi.\n",
    "A = int(input(\"A = \"))\n",
    "B = int(input(\"B = \"))\n",
    "C = int(input(\"C = \"))\n",
    "print(A==-B or B==-C or A==-C)"
   ]
  },
  {
   "cell_type": "code",
   "execution_count": 72,
   "id": "c49c0bcc",
   "metadata": {},
   "outputs": [
    {
     "name": "stdout",
     "output_type": "stream",
     "text": [
      "Uch xonali son: 121\n",
      "False\n"
     ]
    }
   ],
   "source": [
    "# 20-misol. Uch xonali son berilgan. Jumlani rostlikka tekshiring. Ushbu sonning barch raqamlari \n",
    "# har xil.\n",
    "A = int(input(\"Uch xonali son: \"))\n",
    "x = A // 100\n",
    "y = A % 100 // 10\n",
    "z = A % 10\n",
    "print(x!=y and y!=z and x!=z)"
   ]
  },
  {
   "cell_type": "code",
   "execution_count": 77,
   "id": "e00f1044",
   "metadata": {},
   "outputs": [
    {
     "name": "stdout",
     "output_type": "stream",
     "text": [
      "Uch xonali son: 179\n",
      "True\n"
     ]
    }
   ],
   "source": [
    "# 21-misol. Uch xonali son berilgan. Jumlani rostlikka tekshiring. Ushbu sonning raqamlari ketma-ket\n",
    "# o'sib boruvchi qilib joylashtirilgan.\n",
    "A = int(input(\"Uch xonali son: \"))\n",
    "x = A // 100\n",
    "y = A % 100 // 10\n",
    "z = A % 10\n",
    "print(x<y<z)"
   ]
  },
  {
   "cell_type": "code",
   "execution_count": 81,
   "id": "caf1e087",
   "metadata": {},
   "outputs": [
    {
     "name": "stdout",
     "output_type": "stream",
     "text": [
      "Uch xonali son: 123\n",
      "True\n"
     ]
    }
   ],
   "source": [
    "# 22-misol. Uch xonali son berilgan. Jumlani rostlikka tekshiring. Ushbu sonning raqamlari ketma-ket\n",
    "# o'suvchi yoki kamayuvch\n",
    "A = int(input(\"Uch xonali son: \"))\n",
    "x = A // 100\n",
    "y = A % 100 // 10\n",
    "z = A % 10\n",
    "print(x<y<z or x>y>z)"
   ]
  },
  {
   "cell_type": "code",
   "execution_count": 84,
   "id": "71e03a45",
   "metadata": {},
   "outputs": [
    {
     "name": "stdout",
     "output_type": "stream",
     "text": [
      "Uch xonali son: 919\n",
      "True\n"
     ]
    }
   ],
   "source": [
    "# 23-misol. Uch xonali son berilgan. Jumlani rostlikka tekshiring. Sonni chapdan o'ngga o'qiganda\n",
    "# ham o'ngdan chapga o'qiganda ham bir xil\n",
    "A = int(input(\"Uch xonali son: \"))\n",
    "x = A // 100\n",
    "z = A % 10\n",
    "print(x == z)"
   ]
  },
  {
   "cell_type": "code",
   "execution_count": 2,
   "id": "d96a801e",
   "metadata": {},
   "outputs": [
    {
     "name": "stdout",
     "output_type": "stream",
     "text": [
      "A(A!=0) = 4\n",
      "B = 9\n",
      "C = 2\n",
      "True\n"
     ]
    }
   ],
   "source": [
    "# 24-misol. A, B, C sonlar berilgan(A noldan farqli). D = B**2 - 4*A*C dan foydalanib jumlani rostlikka tekshiring\n",
    "# A*x**2 + B*x + C = 0 kvadrat haqiqiy ildizga ega\n",
    "A = int(input(\"A(A!=0) = \"))\n",
    "B = int(input(\"B = \"))\n",
    "C = int(input(\"C = \"))\n",
    "D = B**2-4*A*C\n",
    "print(D>=0)"
   ]
  },
  {
   "cell_type": "code",
   "execution_count": 4,
   "id": "2ec243d5",
   "metadata": {},
   "outputs": [
    {
     "name": "stdout",
     "output_type": "stream",
     "text": [
      "x = -2\n",
      "y = 3\n",
      "True\n"
     ]
    }
   ],
   "source": [
    "# 25-misol. x, y sonlar berilgan. Jumlani rostlikka tekshiring. kordinatalari x va y bo'lgan nuqta kordinata choragining\n",
    "# ikkinchisida yotadi.\n",
    "x = int(input(\"x = \"))\n",
    "y = int(input(\"y = \"))\n",
    "print(x<0 and y>0)"
   ]
  },
  {
   "cell_type": "code",
   "execution_count": 6,
   "id": "1a6180a7",
   "metadata": {},
   "outputs": [
    {
     "name": "stdout",
     "output_type": "stream",
     "text": [
      "x = 2\n",
      "y = -3\n",
      "True\n"
     ]
    }
   ],
   "source": [
    "# 26-misol. x, y sonlar berilgan. Jumlani rostlikka tekshiring. kordinatalari x va y bo'lgan nuqta kordinata choragining\n",
    "# to'rtinchisida yotadi.\n",
    "x = int(input(\"x = \"))\n",
    "y = int(input(\"y = \"))\n",
    "print(x>0 and y<0)"
   ]
  },
  {
   "cell_type": "code",
   "execution_count": 9,
   "id": "e534cb9b",
   "metadata": {},
   "outputs": [
    {
     "name": "stdout",
     "output_type": "stream",
     "text": [
      "x = -2\n",
      "y = -2\n",
      "True\n"
     ]
    }
   ],
   "source": [
    "# 27-misol. x, y sonlar berilgan. Jumlani rostlikka tekshiring. kordinatalari x va y bo'lgan nuqta \n",
    "# kordinata choragining ikkinchisida yoki uchinchisida yotadi.\n",
    "x = int(input(\"x = \"))\n",
    "y = int(input(\"y = \"))\n",
    "print((x<0 and y>0) or (x<0 and y<0))"
   ]
  },
  {
   "cell_type": "code",
   "execution_count": 12,
   "id": "3003101e",
   "metadata": {},
   "outputs": [
    {
     "name": "stdout",
     "output_type": "stream",
     "text": [
      "x = -3\n",
      "y = -4\n",
      "True\n"
     ]
    }
   ],
   "source": [
    "# 28-misol. x, y sonlar berilgan. Jumlani rostlikka tekshiring. kordinatalari x va y bo'lgan nuqta kordinata choragining\n",
    "# birinchisida yoki uchinchisida yotadi.\n",
    "x = int(input(\"x = \"))\n",
    "y = int(input(\"y = \"))\n",
    "print((x>0 and y>0) or (x<0 and y<0))"
   ]
  },
  {
   "cell_type": "code",
   "execution_count": 14,
   "id": "a8cf3ec8",
   "metadata": {},
   "outputs": [
    {
     "name": "stdout",
     "output_type": "stream",
     "text": [
      "x = 2\n",
      "y = 3\n",
      "x1 = 1\n",
      "y1 = 4\n",
      "x2 = 3\n",
      "y2 = 2\n",
      "True\n"
     ]
    }
   ],
   "source": [
    "# 29-misol. (x, y) (x1, y1) (x2, y2) sonlar berilgan. Jumlani rostlikka tekshiring. Kordinatalari (x, y) bo'lgan nuqta\n",
    "# chap yuqori cho'qqisi (x1, y1) kordinatalarga ega bo'lgan va o'ng pastkisi (x2, y2) tomonlari esa kordinata o'qiga paralell\n",
    "# bo'lgan to'rtburchak ichida yotadi.\n",
    "x = int(input(\"x = \"))\n",
    "y = int(input(\"y = \"))\n",
    "x1 = int(input(\"x1 = \"))\n",
    "y1 = int(input(\"y1 = \"))\n",
    "x2 = int(input(\"x2 = \"))\n",
    "y2 = int(input(\"y2 = \"))\n",
    "print((x>x1 and y<y1) and (x<x2 and y>y2))"
   ]
  },
  {
   "cell_type": "code",
   "execution_count": 16,
   "id": "d776fcaf",
   "metadata": {},
   "outputs": [
    {
     "name": "stdout",
     "output_type": "stream",
     "text": [
      "a = 2\n",
      "b = 2\n",
      "c = 2\n",
      "True\n"
     ]
    }
   ],
   "source": [
    "# 30-misol. a, b, c butun sonlar berilgan. Jumlani rostlikka tekshiring. a, b, c tomonli uchburchak teng tomonli.\n",
    "a = int(input(\"a = \"))\n",
    "b = int(input(\"b = \"))\n",
    "c = int(input(\"c = \"))\n",
    "print(a == b == c)"
   ]
  },
  {
   "cell_type": "code",
   "execution_count": 37,
   "id": "89e326f5",
   "metadata": {},
   "outputs": [
    {
     "name": "stdout",
     "output_type": "stream",
     "text": [
      "a = 5\n",
      "b = 5\n",
      "c = 5\n",
      "False\n"
     ]
    }
   ],
   "source": [
    "# 31-misol. a, b, c butun sonlar berilgan. Jumlani rostlikka tekshiring. a, b, c tomonli uchburchak teng yonli.\n",
    "a = int(input(\"a = \"))\n",
    "b = int(input(\"b = \"))\n",
    "c = int(input(\"c = \"))\n",
    "print(a == b!=c or a == c!=b or b == c!=a)"
   ]
  },
  {
   "cell_type": "code",
   "execution_count": 21,
   "id": "626f69d2",
   "metadata": {},
   "outputs": [
    {
     "name": "stdout",
     "output_type": "stream",
     "text": [
      "a = 5\n",
      "b = 4\n",
      "c = 3\n",
      "False\n",
      "True\n",
      "False\n"
     ]
    }
   ],
   "source": [
    "# 32-misol. a, b, c butun sonlar berilgan. Jumlani rostlikka tekshiring. a, b, c tomonli uchburchak to'g'ri burchakli.\n",
    "a = int(input(\"a = \"))\n",
    "b = int(input(\"b = \"))\n",
    "c = int(input(\"c = \"))\n",
    "print(a**2+b**2 == c**2)\n",
    "print(b**2+c**2 == a**2)\n",
    "print(a**2+c**2 == b**2)"
   ]
  },
  {
   "cell_type": "code",
   "execution_count": 2,
   "id": "52a1dc8d",
   "metadata": {},
   "outputs": [
    {
     "name": "stdout",
     "output_type": "stream",
     "text": [
      "a = 3\n",
      "b = 4\n",
      "c = 6\n",
      "True\n"
     ]
    }
   ],
   "source": [
    "# 33-misol. a, b, c butun sonlar berilgan. Jumlani rostlikka tekshiring. a, b, c tomonli uchburchak yasash mumkin.\n",
    "a = int(input(\"a = \"))\n",
    "b = int(input(\"b = \"))\n",
    "c = int(input(\"c = \"))\n",
    "print(a<c and b<c and a+b > c or a<b and c<b and a+c>b or b<a and c<a and b+c>a)"
   ]
  },
  {
   "cell_type": "code",
   "execution_count": 27,
   "id": "9e25a900",
   "metadata": {},
   "outputs": [
    {
     "name": "stdout",
     "output_type": "stream",
     "text": [
      "x (1-8) = 1\n",
      "y (1-8) = 2\n",
      "True\n"
     ]
    }
   ],
   "source": [
    "# 34-misol. Shaxmat doskasining (x, y) kordinatalari berilgan. (1-8 oraliqda yotuvchi butun sonlar) doskaning chap pastki \n",
    "# burchagi (1, 1) qoraligini hisobga olib jumlani rostlikka tekshiring. Berilgan x, y katak oq.\n",
    "x = int(input(\"x (1-8) = \"))\n",
    "y = int(input(\"y (1-8) = \"))\n",
    "print(x%2 == 1 and y%2 == 0 or x%2 == 0 and y%2 == 1)"
   ]
  },
  {
   "cell_type": "code",
   "execution_count": 44,
   "id": "55275192",
   "metadata": {},
   "outputs": [
    {
     "name": "stdout",
     "output_type": "stream",
     "text": [
      "x1 (1-8) = 2\n",
      "y1 (1-8) = 7\n",
      "x2 (1-8) = 7\n",
      "y2 (1-8) = 5\n",
      "False\n"
     ]
    }
   ],
   "source": [
    "# 35-misol. Shaxmat doskasining ikkita turli (x1, y1) va (x2, y2) kordinatalari berilgan (1-8 oraliqda yotuvchi butun sonlar).\n",
    "# Jumlani rostlikka tekshiring. Berilgan maydon bir xil.\n",
    "x1 = int(input(\"x1 (1-8) = \"))\n",
    "y1 = int(input(\"y1 (1-8) = \"))\n",
    "x2 = int(input(\"x2 (1-8) = \"))\n",
    "y2 = int(input(\"y2 (1-8) = \"))\n",
    "print(x1%2 == x2%2 == 1 and y1%2 == y2%2 == 1 or\n",
    "      x1%2 == x2%2 == 0 and y1%2 == y2%2 == 1 or\n",
    "      x1%2 == x2%2 == 1 and y1%2 == y2%2 == 0 or\n",
    "      x1%2 == x2%2 == 0 and y1%2 == y2%2 == 0 or\n",
    "      x1%2 == 1 and x2%2 == 0 and y1%2 == 0 and y2%2 == 1 or\n",
    "      x1%2 == 0 and x2%2 == 1 and y1%2 == 1 and y2%2 == 0)"
   ]
  },
  {
   "cell_type": "code",
   "execution_count": 47,
   "id": "9a2954ee",
   "metadata": {},
   "outputs": [
    {
     "name": "stdout",
     "output_type": "stream",
     "text": [
      "x1 (1-8) = 1\n",
      "y1 (1-8) = 2\n",
      "x2 (1-8) = 3\n",
      "y2 (1-8) = 4\n",
      "False\n"
     ]
    }
   ],
   "source": [
    "# 36-misol. Shaxmat doskasining ikkita turli (x1, y1) va (x2, y2) kordinatalari berilgan (1-8 oraliqda yotuvchi butun sonlar).\n",
    "# Jumlani rostlikka tekshiring. Ruh bir yurishda bir maydondan boshqasiga o'ta oladi.\n",
    "x1 = int(input(\"x1 (1-8) = \"))\n",
    "y1 = int(input(\"y1 (1-8) = \"))\n",
    "x2 = int(input(\"x2 (1-8) = \"))\n",
    "y2 = int(input(\"y2 (1-8) = \"))\n",
    "print(x1 == x2 or y1 == y2)"
   ]
  },
  {
   "cell_type": "code",
   "execution_count": 31,
   "id": "a056b28b",
   "metadata": {},
   "outputs": [
    {
     "name": "stdout",
     "output_type": "stream",
     "text": [
      "x1 (1-8) = 3\n",
      "y1 (1-8) = 1\n",
      "x2 (1-8) = 4\n",
      "y2 (1-8) = 3\n",
      "True\n"
     ]
    }
   ],
   "source": [
    "# 37-misol. Shaxmat doskasining ikkita turli (x1, y1) va (x2, y2) kordinatalari berilgan (1-8 oraliqda yotuvchi butun sonlar).\n",
    "# Jumlani rostlikka tekshiring. Shoh bir yurishda bir maydondan boshqasiga o'ta oladi. \n",
    "# x1+y1=<0 x2+y2=<0\n",
    "x1 = int(input(\"x1 (1-8) = \"))\n",
    "y1 = int(input(\"y1 (1-8) = \"))\n",
    "x2 = int(input(\"x2 (1-8) = \"))\n",
    "y2 = int(input(\"y2 (1-8) = \"))\n",
    "print(x2-1<=x1<=X2+1 and y2-1<=y2<=y1+1)"
   ]
  },
  {
   "cell_type": "code",
   "execution_count": 7,
   "id": "7e9d2d0c",
   "metadata": {},
   "outputs": [
    {
     "name": "stdout",
     "output_type": "stream",
     "text": [
      "x1 (1-8) = 6\n",
      "y1 (1-8) = 2\n",
      "x2 (1-8) = 3\n",
      "y2 (1-8) = 5\n",
      "False\n"
     ]
    }
   ],
   "source": [
    "# 38-misol. Shaxmat doskasining ikkita turli (x1, y1) va (x2, y2) kordinatalari berilgan (1-8 oraliqda yotuvchi butun sonlar).\n",
    "# Jumlani rostlikka tekshiring. Fil bir yurishda bir maydondan boshqasiga o'ta oladi.\n",
    "x1 = int(input(\"x1 (1-8) = \"))\n",
    "y1 = int(input(\"y1 (1-8) = \"))\n",
    "x2 = int(input(\"x2 (1-8) = \"))\n",
    "y2 = int(input(\"y2 (1-8) = \"))\n",
    "print(abs(x1-x2)==1 or abs(y1-y2)==1)"
   ]
  },
  {
   "cell_type": "code",
   "execution_count": 6,
   "id": "82dd4e2a",
   "metadata": {},
   "outputs": [
    {
     "name": "stdout",
     "output_type": "stream",
     "text": [
      "x1 (1-8) = 3\n",
      "y1 (1-8) = 1\n",
      "x2 (1-8) = 4\n",
      "y2 (1-8) = 3\n",
      "False\n"
     ]
    }
   ],
   "source": [
    "# 39-misol. Shaxmat doskasining ikkita turli (x1, y1) va (x2, y2) kordinatalari berilgan (1-8 oraliqda yotuvchi butun sonlar).\n",
    "# Jumlani rostlikka tekshiring. Farzin bir yurishda bir maydondan boshqasiga o'ta oladi.\n",
    "x1 = int(input(\"x1 (1-8) = \"))\n",
    "y1 = int(input(\"y1 (1-8) = \"))\n",
    "x2 = int(input(\"x2 (1-8) = \"))\n",
    "y2 = int(input(\"y2 (1-8) = \"))\n",
    "print(abs(x1-x2)>8 and y1==y2 or\n",
    "      abs(y1-y2)>8 and x1==x2 or\n",
    "      abs(x1-x2)==1 and abs(y1-y2)==1)"
   ]
  },
  {
   "cell_type": "code",
   "execution_count": 9,
   "id": "543be3de",
   "metadata": {},
   "outputs": [
    {
     "name": "stdout",
     "output_type": "stream",
     "text": [
      "x1=3\n",
      "y1=2\n",
      "x2=4\n",
      "y2=2\n",
      "False\n"
     ]
    }
   ],
   "source": [
    "# 40-misol. Shaxmat doskasining ikkita turli (x1, y1) va (x2, y2) kordinatalari berilgan (1-8 oraliqda yotuvchi butun sonlar).\n",
    "# Jumlani rostlikka tekshiring. Ot bir yurishda bir maydondan boshqasiga o'ta oladi.\n",
    "x1 = int(input(\"x1=\"))\n",
    "y1 = int(input(\"y1=\"))\n",
    "x2 = int(input(\"x2=\"))\n",
    "y2 = int(input(\"y2=\"))\n",
    "print(abs(x1-x2)==1 and abs(y1-y2)==2\n",
    "      or abs(x1-x2)==2 and abs(y1-y1)==1)"
   ]
  },
  {
   "cell_type": "code",
   "execution_count": 33,
   "id": "4a4709fd",
   "metadata": {},
   "outputs": [
    {
     "name": "stdout",
     "output_type": "stream",
     "text": [
      "A = 1\n",
      "B = 2\n",
      "C = 3\n",
      "False\n"
     ]
    }
   ],
   "source": [
    "# Qo'shimcha\n",
    "A = int(input(\"A = \"))\n",
    "B = int(input(\"B = \"))\n",
    "C = int(input(\"C = \"))\n",
    "print((A%2==1 and B%2==0 and C%2==0) or \n",
    "      (A%2==0 and B%2==1 and C%2==0) or \n",
    "      (A%2==0 and B%2==0 and C%2==1))"
   ]
  },
  {
   "cell_type": "code",
   "execution_count": null,
   "id": "78265d73",
   "metadata": {},
   "outputs": [],
   "source": [
    "A = int(input(\"A = \"))\n",
    "B = int(input(\"B = \"))\n",
    "C = int(input(\"C = \"))\n",
    "print(A>0 and B>0 and C>0)"
   ]
  },
  {
   "cell_type": "code",
   "execution_count": 35,
   "id": "93b7cea5",
   "metadata": {},
   "outputs": [
    {
     "name": "stdout",
     "output_type": "stream",
     "text": [
      "a = 2\n",
      "b = 5\n",
      "c = 6\n",
      "True\n"
     ]
    }
   ],
   "source": [
    "a = int(input(\"a = \"))\n",
    "b = int(input(\"b = \"))\n",
    "c = int(input(\"c = \"))\n",
    "print(a+b > c and a+c>b and b+c>a)"
   ]
  },
  {
   "cell_type": "code",
   "execution_count": null,
   "id": "8570c662",
   "metadata": {},
   "outputs": [],
   "source": [
    "a = int(input(\"a = \"))\n",
    "\n",
    "if a>0:\n",
    "    print(\"Musbat\")\n",
    "elif a<0:\n",
    "    print(\"Manfiy\")\n",
    "else:\n",
    "    print(\"0 ga teng\")"
   ]
  },
  {
   "cell_type": "code",
   "execution_count": 8,
   "id": "bc8ff548",
   "metadata": {},
   "outputs": [
    {
     "name": "stdout",
     "output_type": "stream",
     "text": [
      "x1=3\n",
      "y1=2\n",
      "x2=4\n",
      "y2=2\n",
      "True\n"
     ]
    }
   ],
   "source": [
    "x1 = int(input(\"x1=\"))\n",
    "y1 = int(input(\"y1=\"))\n",
    "x2 = int(input(\"x2=\"))\n",
    "y2 = int(input(\"y2=\"))\n",
    "print(abs(x1-x2)==2**abs(y1-y2)\n",
    "      or 2**abs(x1-x2)==abs(y1-y1))"
   ]
  },
  {
   "cell_type": "code",
   "execution_count": null,
   "id": "76370ccd",
   "metadata": {},
   "outputs": [],
   "source": []
  }
 ],
 "metadata": {
  "kernelspec": {
   "display_name": "Python 3 (ipykernel)",
   "language": "python",
   "name": "python3"
  },
  "language_info": {
   "codemirror_mode": {
    "name": "ipython",
    "version": 3
   },
   "file_extension": ".py",
   "mimetype": "text/x-python",
   "name": "python",
   "nbconvert_exporter": "python",
   "pygments_lexer": "ipython3",
   "version": "3.9.9"
  }
 },
 "nbformat": 4,
 "nbformat_minor": 5
}
