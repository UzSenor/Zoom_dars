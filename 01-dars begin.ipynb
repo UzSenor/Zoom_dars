{
 "cells": [
  {
   "cell_type": "markdown",
   "id": "a0c93466",
   "metadata": {},
   "source": [
    "### 1-misol. Kvadratning tomoni a berilgan. Uning peremetirini toping. P=4*a"
   ]
  },
  {
   "cell_type": "code",
   "execution_count": 2,
   "id": "e673bbaa",
   "metadata": {},
   "outputs": [
    {
     "name": "stdout",
     "output_type": "stream",
     "text": [
      "a = 10\n",
      "40\n"
     ]
    }
   ],
   "source": [
    "a=int(input(\"a = \"))\n",
    "P=4*a\n",
    "print(P)"
   ]
  },
  {
   "cell_type": "markdown",
   "id": "780c9dd5",
   "metadata": {},
   "source": [
    "### 2-misol. Kvadratning tomoni a berilgan. Uning yuzini toping. S=a**2"
   ]
  },
  {
   "cell_type": "code",
   "execution_count": 3,
   "id": "e3d6c2e3",
   "metadata": {},
   "outputs": [
    {
     "name": "stdout",
     "output_type": "stream",
     "text": [
      "a = 12\n",
      "144\n"
     ]
    }
   ],
   "source": [
    "a = int(input(\"a = \"))\n",
    "S = a ** 2\n",
    "print(S)"
   ]
  },
  {
   "cell_type": "markdown",
   "id": "eb734f3c",
   "metadata": {},
   "source": [
    "### 3-misol. To'g'ri to'rtburchakning tomonlari a va b berilgan. Uning yuzasi S=a * b va peremetiri P=2*(a+b) ni toping."
   ]
  },
  {
   "cell_type": "code",
   "execution_count": 4,
   "id": "00f8be7b",
   "metadata": {},
   "outputs": [
    {
     "name": "stdout",
     "output_type": "stream",
     "text": [
      "a = 12\n",
      "b = 11\n",
      "To'rtburchak yuzasi:  132 \n",
      "To'rtburchak peremetiri:  46\n"
     ]
    }
   ],
   "source": [
    "a = int(input(\"a = \"))\n",
    "b = int(input(\"b = \"))\n",
    "S = a * b\n",
    "P = 2 * (a+b)\n",
    "print(\"To'rtburchak yuzasi: \", S, \"\\nTo'rtburchak peremetiri: \",P)"
   ]
  },
  {
   "cell_type": "markdown",
   "id": "3c7e1abb",
   "metadata": {},
   "source": [
    "### 4-misol. Aylananing diametiri d berilgan. Uning uzunligi aniqlansin. L = pi * d"
   ]
  },
  {
   "cell_type": "code",
   "execution_count": 5,
   "id": "06b08695",
   "metadata": {},
   "outputs": [
    {
     "name": "stdout",
     "output_type": "stream",
     "text": [
      "d = 5\n",
      "Aylana uzunligi:  15.700000000000001\n"
     ]
    }
   ],
   "source": [
    "d = int(input(\"d = \"))\n",
    "pi = 3.14\n",
    "L = pi * d\n",
    "print(\"Aylana uzunligi: \", L)"
   ]
  },
  {
   "cell_type": "markdown",
   "id": "4e060da1",
   "metadata": {},
   "source": [
    "### 5-misol. Kubning yon tomoni a berilgan. Uning hajmi V = a ** 3 va to'la sirti S = 6 * a**2 ni toping."
   ]
  },
  {
   "cell_type": "code",
   "execution_count": 6,
   "id": "801faffc",
   "metadata": {},
   "outputs": [
    {
     "name": "stdout",
     "output_type": "stream",
     "text": [
      "a = 5\n",
      "Hajmi:  125 \n",
      "Sirti:  150\n"
     ]
    }
   ],
   "source": [
    "a = int(input(\"a = \"))\n",
    "V = a ** 3\n",
    "S = 6 * a ** 2\n",
    "print(\"Hajmi: \", V, \"\\nSirti: \", S)"
   ]
  },
  {
   "cell_type": "markdown",
   "id": "8f217e83",
   "metadata": {},
   "source": [
    "### 6-misol. Paralelepipedning tomonlari a, b, c berilgan. Uning hajmi V = a * b * c va to'la sirti S = 2*(a*b+b*c+a*c) ni toping."
   ]
  },
  {
   "cell_type": "code",
   "execution_count": 7,
   "id": "61375353",
   "metadata": {},
   "outputs": [
    {
     "name": "stdout",
     "output_type": "stream",
     "text": [
      "a = 2\n",
      "b = 3\n",
      "c = 4\n",
      "Hajmi:  24 \n",
      "Sirti:  52\n"
     ]
    }
   ],
   "source": [
    "a = int(input(\"a = \"))\n",
    "b = int(input(\"b = \"))\n",
    "c = int(input(\"c = \"))\n",
    "V = a*b*c\n",
    "S = 2*(a*b+b*c+a*c)\n",
    "print(\"Hajmi: \", V, \"\\nSirti: \", S)"
   ]
  },
  {
   "cell_type": "markdown",
   "id": "80630dcd",
   "metadata": {},
   "source": [
    "### 7-misol. Doiraningradiusi R berilgan. Uning uzunligi L=2*pi*R va yuzasi S=pi*R**2 ni toping."
   ]
  },
  {
   "cell_type": "code",
   "execution_count": 8,
   "id": "ed73d01e",
   "metadata": {},
   "outputs": [
    {
     "name": "stdout",
     "output_type": "stream",
     "text": [
      "R = 5\n",
      "Uzunligi:  31.400000000000002 \n",
      "Yuzasi:  78.5\n"
     ]
    }
   ],
   "source": [
    "R = int(input(\"R = \"))\n",
    "pi = 3.14\n",
    "L = 2*pi*R\n",
    "S = pi*R**2\n",
    "print(\"Uzunligi: \", L, \"\\nYuzasi: \", S)"
   ]
  },
  {
   "cell_type": "markdown",
   "id": "d637dfbc",
   "metadata": {},
   "source": [
    "### 8-misol. Ikkita son a va b berilgan. Ularning o'rta arifmetigi aniqlansin. (a+b)/2"
   ]
  },
  {
   "cell_type": "code",
   "execution_count": 11,
   "id": "751ff1f6",
   "metadata": {},
   "outputs": [
    {
     "name": "stdout",
     "output_type": "stream",
     "text": [
      "a = -2\n",
      "b = 4\n",
      "O'rta arifmetik:  1.0\n",
      "O'rta arifmetik:  1\n"
     ]
    }
   ],
   "source": [
    "a = int(input(\"a = \"))\n",
    "b = int(input(\"b = \"))\n",
    "urta_arifmetik = (a+b)/2\n",
    "print(\"O'rta arifmetik: \", urta_arifmetik)\n",
    "print(\"O'rta arifmetik: \", int(urta_arifmetik))"
   ]
  },
  {
   "cell_type": "markdown",
   "id": "2ae34ebb",
   "metadata": {},
   "source": [
    "### 9-misol. Ikkita manfiy bo'lmagan a va b berilgan. Ularning o'rta geometrigini aniqlang. sqrt(a*b)"
   ]
  },
  {
   "cell_type": "code",
   "execution_count": 33,
   "id": "c375cc1e",
   "metadata": {},
   "outputs": [
    {
     "name": "stdout",
     "output_type": "stream",
     "text": [
      "a = 2\n",
      "b = 3\n",
      "O'rta geometrik:  2.449489742783178\n"
     ]
    }
   ],
   "source": [
    "a = int(input(\"a = \"))\n",
    "b = int(input(\"b = \"))\n",
    "c = (a*b)**(1/2)\n",
    "print(\"O'rta geometrik: \", c)"
   ]
  },
  {
   "cell_type": "markdown",
   "id": "fe854bcf",
   "metadata": {},
   "source": [
    "### 10-misol. Nolga teng bo'lmagan ikkita son berilgan. Ularning yig'indisini, ko'paytmasini va har birining kvadratini aniqlang."
   ]
  },
  {
   "cell_type": "code",
   "execution_count": 23,
   "id": "98ae947e",
   "metadata": {},
   "outputs": [
    {
     "name": "stdout",
     "output_type": "stream",
     "text": [
      "a = 2\n",
      "b = 3\n",
      "Yig'indi:  5 \n",
      "Ko'aytma:  6 \n",
      "Kvadrat a+b:  25 \n",
      "Kavdrat a*b:  36\n"
     ]
    }
   ],
   "source": [
    "a = int(input(\"a = \"))\n",
    "b = int(input(\"b = \"))\n",
    "print(\"Yig'indi: \", a+b, \"\\nKo'aytma: \", a*b, \"\\nKvadrat a+b: \",(a+b)**2, \"\\nKavdrat a*b: \", (a*b)**2)"
   ]
  },
  {
   "cell_type": "markdown",
   "id": "1872a3b4",
   "metadata": {},
   "source": [
    "### 11-misol. Nolga teng bo'lmagan ikkita son berilgan. Ularning yig'indisini, ko'paytmasini va har birining modulini aniqlang."
   ]
  },
  {
   "cell_type": "code",
   "execution_count": 26,
   "id": "8c168304",
   "metadata": {},
   "outputs": [
    {
     "name": "stdout",
     "output_type": "stream",
     "text": [
      "a = -5\n",
      "b = 3\n",
      "Yig'indi:  -2 \n",
      "Ko'aytma:  -15 \n",
      "Modul a+b:  2 \n",
      "Modul a*b:  15\n"
     ]
    }
   ],
   "source": [
    "a = int(input(\"a = \"))\n",
    "b = int(input(\"b = \"))\n",
    "print(\"Yig'indi: \", a+b, \"\\nKo'aytma: \", a*b, \"\\nModul a+b: \",abs(a+b), \"\\nModul a*b: \", abs(a*b))"
   ]
  },
  {
   "cell_type": "markdown",
   "id": "52aeb7bf",
   "metadata": {},
   "source": [
    "### 12-misol. To'g'ri uchburchakning katetlari a va b berilgan. Uning gipatenuzasi c=sqrt(a**2+b**2) va peremetiri P=a+b+c ni toping."
   ]
  },
  {
   "cell_type": "code",
   "execution_count": 32,
   "id": "2b396623",
   "metadata": {},
   "outputs": [
    {
     "name": "stdout",
     "output_type": "stream",
     "text": [
      "a = 4\n",
      "b = 6\n",
      "Gipatenuza:  7.211102550927978 \n",
      "Peremetiri:  17.21110255092798\n"
     ]
    }
   ],
   "source": [
    "a = int(input(\"a = \"))\n",
    "b = int(input(\"b = \"))\n",
    "c = (a**2+b**2)**(1/2)\n",
    "P = a+b+c\n",
    "print(\"Gipatenuza: \", c, \"\\nPeremetiri: \", P)"
   ]
  },
  {
   "cell_type": "markdown",
   "id": "cb3b4d7c",
   "metadata": {},
   "source": [
    "### 13-misol. Umumiy markazga ega bo'lgan ikkita aylana radiusi berilgan. S1, S2, (R1>R2). Ularning yuzalari S1 va S2 va ayirmasi S3 aniqlansin. S1 = pi*R1, S2 = pi*R2, S3 = pi*(R1-R2)."
   ]
  },
  {
   "cell_type": "code",
   "execution_count": 29,
   "id": "b1db045f",
   "metadata": {},
   "outputs": [
    {
     "name": "stdout",
     "output_type": "stream",
     "text": [
      "R1 = 9\n",
      "R2 = 5\n",
      "S1 =  28.26 \n",
      "S2 =  15.700000000000001 \n",
      "S3 12.56\n"
     ]
    }
   ],
   "source": [
    "R1 = int(input(\"R1 = \"))\n",
    "R2 = int(input(\"R2 = \"))\n",
    "pi = 3.14\n",
    "S1 = pi*R1\n",
    "S2 = pi*R2\n",
    "S3 = pi*(R1-R2)\n",
    "print(\"S1 = \", S1, \"\\nS2 = \", S2, \"\\nS3\", S3)"
   ]
  },
  {
   "cell_type": "markdown",
   "id": "c9dc4748",
   "metadata": {},
   "source": [
    "### 14-misol. Doiraning uzunligi L berilgan. Uning radiusi R va yuzi S aniqlansin. L=2*pi*R, S=pi*R**2"
   ]
  },
  {
   "cell_type": "code",
   "execution_count": 34,
   "id": "b5139d15",
   "metadata": {},
   "outputs": [
    {
     "name": "stdout",
     "output_type": "stream",
     "text": [
      "L = 12\n",
      "Radius:  1.910828025477707 \n",
      "Yuzi:  11.464968152866243\n"
     ]
    }
   ],
   "source": [
    "L=int(input(\"L = \"))\n",
    "pi = 3.14\n",
    "R = L/(2*pi)\n",
    "S = pi*R**2\n",
    "print(\"Radius: \", R, \"\\nYuzi: \",S)"
   ]
  },
  {
   "cell_type": "markdown",
   "id": "3b7f497d",
   "metadata": {},
   "source": [
    "### 15-misol. Doiraning yuzi S berilgan. Uning diametri d, radiusi R va uzunligi L anqlansin. L = 2*pi*R, S = pi*R**2."
   ]
  },
  {
   "cell_type": "code",
   "execution_count": 35,
   "id": "cc8040f4",
   "metadata": {},
   "outputs": [
    {
     "name": "stdout",
     "output_type": "stream",
     "text": [
      "S = 12\n",
      "Radius:  1.9549056373532239 \n",
      "Diametr:  3.9098112747064477 \n",
      "Uzunligi:  12.276807402578246\n"
     ]
    }
   ],
   "source": [
    "S = int(input(\"S = \"))\n",
    "pi = 3.14\n",
    "R = (S/pi)**(1/2)\n",
    "d = 2*R\n",
    "L = 2*pi*R\n",
    "print(\"Radius: \", R, \"\\nDiametr: \", d, \"\\nUzunligi: \", L)"
   ]
  },
  {
   "cell_type": "markdown",
   "id": "84a6e519",
   "metadata": {},
   "source": [
    "### 16-misol. Sonlar o'qida ikkita nuqta orasidagi masofa aniqlansin. |x2 - x1|"
   ]
  },
  {
   "cell_type": "code",
   "execution_count": 37,
   "id": "cd223b90",
   "metadata": {},
   "outputs": [
    {
     "name": "stdout",
     "output_type": "stream",
     "text": [
      "X1 = 10\n",
      "X2 = 4\n",
      "Masofa:  6\n"
     ]
    }
   ],
   "source": [
    "x1 = int(input(\"X1 = \"))\n",
    "x2 = int(input(\"X2 = \"))\n",
    "print(\"Masofa: \", abs(x2-x1))"
   ]
  },
  {
   "cell_type": "markdown",
   "id": "2412ac99",
   "metadata": {},
   "source": [
    "### 17-misol. Sonlar o'qida a, b, c nuqtalar berilgan. ac va bc kesmalar uzunligi va kesmalar uzunligining yig'indisini toping."
   ]
  },
  {
   "cell_type": "code",
   "execution_count": 38,
   "id": "cb13ff93",
   "metadata": {},
   "outputs": [
    {
     "name": "stdout",
     "output_type": "stream",
     "text": [
      "A = 12\n",
      "B = 14\n",
      "C = 15\n",
      "AC kesma:  3 \n",
      "BC kesma:  1 \n",
      "Yig'indi:  4\n"
     ]
    }
   ],
   "source": [
    "a = int(input(\"A = \"))\n",
    "b = int(input(\"B = \"))\n",
    "c = int(input(\"C = \"))\n",
    "ac = abs(c-a)\n",
    "bc = abs(c-b)\n",
    "yigindi = ac+bc\n",
    "print(\"AC kesma: \", ac, \"\\nBC kesma: \", bc, \"\\nYig'indi: \", yigindi)"
   ]
  },
  {
   "cell_type": "markdown",
   "id": "06c3c8d6",
   "metadata": {},
   "source": [
    "### 18-misol. Sonlar o'qida a, b, c nuqtalar berilgan. c nuqta a va b nuqtalar orasida joylashgan. ac va bc kesmalar uzunligining ko'paytmasini toping."
   ]
  },
  {
   "cell_type": "code",
   "execution_count": 40,
   "id": "fdd268ea",
   "metadata": {},
   "outputs": [
    {
     "name": "stdout",
     "output_type": "stream",
     "text": [
      "A = 14\n",
      "B = 29\n",
      "C = 15\n",
      "Ko'paytma:  14\n"
     ]
    }
   ],
   "source": [
    "a = int(input(\"A = \"))\n",
    "b = int(input(\"B = \"))\n",
    "c = int(input(\"C = \"))\n",
    "ac = abs(c-a)\n",
    "bc = abs(b-c)\n",
    "kupaytma = ac*bc\n",
    "print(\"Ko'paytma: \", kupaytma)"
   ]
  },
  {
   "cell_type": "markdown",
   "id": "8aa6a533",
   "metadata": {},
   "source": [
    "### 19-misol. To'g'ri to'rtburchakning qarama-qarshi uchlari kordinatalari berilgan. Uning tomonlari kordinata o'qiga parallel. To'g'ri to'rtburchakning peremetri va yuzini toping. \n",
    "### a_______________d\n",
    "###  |..............................|\n",
    "###  |..............................|\n",
    "### b_______________c"
   ]
  },
  {
   "cell_type": "code",
   "execution_count": 44,
   "id": "d1cc9381",
   "metadata": {},
   "outputs": [
    {
     "name": "stdout",
     "output_type": "stream",
     "text": [
      "Ax = 2\n",
      "Ay = 5\n",
      "Cx = 7\n",
      "Cy = 2\n",
      "Peremetr:  16 \n",
      "Yuzi:  15\n"
     ]
    }
   ],
   "source": [
    "ax = int(input(\"Ax = \")) #a ning x kordinatasi\n",
    "ay = int(input(\"Ay = \")) #a ning y kordinatasi\n",
    "cx = int(input(\"Cx = \")) #c ning x kordinatasi\n",
    "cy = int(input(\"Cy = \")) #c ning y kordinatasi\n",
    "bx = ax                  #a ning x kordinatasi b ning x kordinatasiga teng\n",
    "by = cy                  #c ning y kordinatasi b ning y kordinatasiga teng\n",
    "dx = cx                  #c ning x kordinatasi d ning x kordinatasiga teng\n",
    "dy = ay                  #a ning y kordinatasi d ning y kordinatasiga teng\n",
    "a = abs(ay - by)         # a tomoni uzunligi\n",
    "b = abs(cx - bx)         # b tomoni uzunligi\n",
    "P = 2*(a+b)\n",
    "S = a*b\n",
    "print(\"Peremetr: \", P, \"\\nYuzi: \", S)"
   ]
  },
  {
   "cell_type": "markdown",
   "id": "4943af3c",
   "metadata": {},
   "source": [
    "### 20-misol. Tekislikda berilgan ikkita nuqta (x1, y1) va (x2, y2) orasidagi masofa topilsin. M = sqrt((x2-x1)**2 + (y2-y1)**2)"
   ]
  },
  {
   "cell_type": "code",
   "execution_count": 47,
   "id": "28052f8a",
   "metadata": {},
   "outputs": [
    {
     "name": "stdout",
     "output_type": "stream",
     "text": [
      "X1 = 2\n",
      "Y1 = 6\n",
      "X2 = 4\n",
      "Y2 = 8\n",
      "Masofa:  2.8284271247461903\n"
     ]
    }
   ],
   "source": [
    "x1 = int(input(\"X1 = \")) #X1 ning kordinatasi\n",
    "y1 = int(input(\"Y1 = \")) #Y1 ning kordinatasi\n",
    "x2 = int(input(\"X2 = \")) #X2 ning kordinatasi\n",
    "y2 = int(input(\"Y2 = \")) #Y2 ning kordinatasi\n",
    "M = ((x2-x1)**2 + (y2-y1)**2)**(1/2)\n",
    "print(\"Masofa: \", M)"
   ]
  },
  {
   "cell_type": "markdown",
   "id": "63ca627f",
   "metadata": {},
   "source": [
    "### 21-misol. Uchburchakning uchta tomoni uchlari koordinatalari berilgan (x1, y1), (x2, y2), (x3, y3). Ikkita nuqta ikkita nuqta orasidagi masofani topish 20-misolda berilgan. Uchburchakning yuzi va peremetrini toping."
   ]
  },
  {
   "cell_type": "code",
   "execution_count": 48,
   "id": "483afa4b",
   "metadata": {},
   "outputs": [
    {
     "name": "stdout",
     "output_type": "stream",
     "text": [
      "X1 = 12\n",
      "Y1 = 31\n",
      "X2 = 123\n",
      "Y2 = 312\n",
      "X3 = 123\n",
      "Y3 = 432\n",
      "Peremetiri:  419.1042154174954 \n",
      "Yuzasi:  6660.000000000023\n"
     ]
    }
   ],
   "source": [
    "x1 = int(input(\"X1 = \")) #X1 ning kordinatasi\n",
    "y1 = int(input(\"Y1 = \")) #Y1 ning kordinatasi\n",
    "x2 = int(input(\"X2 = \")) #X2 ning kordinatasi\n",
    "y2 = int(input(\"Y2 = \")) #Y2 ning kordinatasi\n",
    "x3 = int(input(\"X3 = \")) #X3 ning kordinatasi\n",
    "y3 = int(input(\"Y3 = \")) #Y3 ning kordinatasi\n",
    "a = ((x2-x1)**2 + (y2-y1)**2)**(1/2)\n",
    "b = ((x3-x1)**2 + (y3-y1)**2)**(1/2)\n",
    "c = ((x3-x2)**2 + (y3-y2)**2)**(1/2)\n",
    "p = (a+b+c)/2\n",
    "S = (p*(p-a)*(p-b)*(p-c))**(1/2)\n",
    "print(\"Peremetiri: \", p, \"\\nYuzasi: \", S)"
   ]
  },
  {
   "cell_type": "markdown",
   "id": "5c94704e",
   "metadata": {},
   "source": [
    "### 22-misol. Berilgan a va b sonlarining qiymatlarini almashtiring. a va b ning yangi qiymatini ekranga chiqaring."
   ]
  },
  {
   "cell_type": "code",
   "execution_count": 52,
   "id": "d47b8fce",
   "metadata": {},
   "outputs": [
    {
     "name": "stdout",
     "output_type": "stream",
     "text": [
      "A = 2\n",
      "B = 3\n",
      "A =  3 \n",
      "B =  2\n"
     ]
    }
   ],
   "source": [
    "a = int(input(\"A = \")) \n",
    "b = int(input(\"B = \")) \n",
    "a, b = b, a\n",
    "print(\"A = \", a, \"\\nB = \", b)"
   ]
  },
  {
   "cell_type": "code",
   "execution_count": 53,
   "id": "4eab2953",
   "metadata": {},
   "outputs": [
    {
     "name": "stdout",
     "output_type": "stream",
     "text": [
      "A = 2\n",
      "B = 3\n",
      "A =  3 \n",
      "B =  2\n"
     ]
    }
   ],
   "source": [
    "a = int(input(\"A = \")) \n",
    "b = int(input(\"B = \")) \n",
    "c = a\n",
    "a = b\n",
    "b = c\n",
    "print(\"A = \", a, \"\\nB = \", b)"
   ]
  },
  {
   "cell_type": "code",
   "execution_count": 54,
   "id": "2e1db0a7",
   "metadata": {},
   "outputs": [
    {
     "name": "stdout",
     "output_type": "stream",
     "text": [
      "A = 2\n",
      "B = 3\n",
      "A =  3 \n",
      "B =  2\n"
     ]
    }
   ],
   "source": [
    "a = int(input(\"A = \")) \n",
    "b = int(input(\"B = \")) \n",
    "a = a+b\n",
    "b = a-b\n",
    "a = a-b\n",
    "print(\"A = \", a, \"\\nB = \", b)"
   ]
  },
  {
   "cell_type": "markdown",
   "id": "5d58a50e",
   "metadata": {},
   "source": [
    "#### 23-misol. A, B va C sonlar berilgan. A ning qiymatini B ga, B ning qiymatini C ga, C ning qiymatini A ga o'zlashtirilsin. A, B va C ning yangi qiymatlari ekranga chiqarilsin."
   ]
  },
  {
   "cell_type": "code",
   "execution_count": 56,
   "id": "43534f5f",
   "metadata": {},
   "outputs": [
    {
     "name": "stdout",
     "output_type": "stream",
     "text": [
      "A = 2\n",
      "B = 3\n",
      "C = 4\n",
      "A1 =  3 \n",
      "B1 =  4 \n",
      "C1 =  2\n"
     ]
    }
   ],
   "source": [
    "a = int(input(\"A = \")) \n",
    "b = int(input(\"B = \"))\n",
    "c = int(input(\"C = \"))\n",
    "a, b, c = b, c, a\n",
    "print(\"A1 = \", a, \"\\nB1 = \", b, \"\\nC1 = \", c)"
   ]
  },
  {
   "cell_type": "markdown",
   "id": "26086abf",
   "metadata": {},
   "source": [
    "### 24-misol.  A, B va C sonlar berilgan. A ning qiymatini C ga, C ning qiymatini B ga, B ning qiymatini A ga o'zlashtirilsin. A, B va C ning yangi qiymatlari ekranga chiqarilsin."
   ]
  },
  {
   "cell_type": "code",
   "execution_count": 57,
   "id": "296b7179",
   "metadata": {},
   "outputs": [
    {
     "name": "stdout",
     "output_type": "stream",
     "text": [
      "A = 2\n",
      "B = 3\n",
      "C = 4\n",
      "A1 =  4 \n",
      "B1 =  2 \n",
      "C1 =  3\n"
     ]
    }
   ],
   "source": [
    "a = int(input(\"A = \")) \n",
    "b = int(input(\"B = \"))\n",
    "c = int(input(\"C = \"))\n",
    "a, b, c = c, a, b\n",
    "print(\"A1 = \", a, \"\\nB1 = \", b, \"\\nC1 = \", c)"
   ]
  },
  {
   "cell_type": "code",
   "execution_count": 60,
   "id": "7f214a6c",
   "metadata": {},
   "outputs": [
    {
     "name": "stdout",
     "output_type": "stream",
     "text": [
      "A = 2\n",
      "B = 3\n",
      "C = 4\n",
      "A1 =  4 \n",
      "B1 =  2 \n",
      "C1 =  3\n"
     ]
    }
   ],
   "source": [
    "a = int(input(\"A = \")) \n",
    "b = int(input(\"B = \"))\n",
    "c = int(input(\"C = \"))\n",
    "a = a+b+c\n",
    "b = a-(b+c)\n",
    "c = a-(b+c)\n",
    "a = a-(b+c)\n",
    "print(\"A1 = \", a, \"\\nB1 = \", b, \"\\nC1 = \", c)"
   ]
  },
  {
   "cell_type": "markdown",
   "id": "cd57f5b2",
   "metadata": {},
   "source": [
    "### 25-misol. x ning qiymati berilganda y = 3 * x ** 6 - 6 * x ** 2 - 7 funksiyaning qiymati aniqlansin."
   ]
  },
  {
   "cell_type": "code",
   "execution_count": 63,
   "id": "34e9d076",
   "metadata": {},
   "outputs": [
    {
     "name": "stdout",
     "output_type": "stream",
     "text": [
      "X = 2.6\n",
      "Y =  879.1873280000002\n"
     ]
    }
   ],
   "source": [
    "x = float(input(\"X = \"))\n",
    "y = 3*(x**6)-6*(x**2)-7\n",
    "print(\"Y = \", y)"
   ]
  },
  {
   "cell_type": "markdown",
   "id": "6b7f5a1f",
   "metadata": {},
   "source": [
    "### 26-misol. x ning qiymati berilganda y = 4 * ((x - 3) ** 6) - 7 * ((x - 3) ** 3) + 2 funksiyaning qiymati aniqlansin"
   ]
  },
  {
   "cell_type": "code",
   "execution_count": 64,
   "id": "2e6f9900",
   "metadata": {},
   "outputs": [
    {
     "name": "stdout",
     "output_type": "stream",
     "text": [
      "X = 2\n",
      "Y =  13.0\n"
     ]
    }
   ],
   "source": [
    "x = float(input(\"X = \"))\n",
    "y = 4 * ((x - 3) ** 6) - 7 * ((x - 3) ** 3) + 2\n",
    "print(\"Y = \", y)"
   ]
  },
  {
   "cell_type": "markdown",
   "id": "332d2089",
   "metadata": {},
   "source": [
    "### 27-misol. A soni berilgan. A ** 2, A ** 4, A ** 8 chiqadigan dastur tuzing. "
   ]
  },
  {
   "cell_type": "code",
   "execution_count": 65,
   "id": "1dfda90f",
   "metadata": {},
   "outputs": [
    {
     "name": "stdout",
     "output_type": "stream",
     "text": [
      "A = 2\n",
      "A^2:  4 \n",
      "A^4:  16 \n",
      "A^8:  256\n"
     ]
    }
   ],
   "source": [
    "a = int(input(\"A = \"))\n",
    "a2 = a**2\n",
    "a4 = a**4\n",
    "a8 = a**8\n",
    "print(\"A^2: \", a2, \"\\nA^4: \", a4, \"\\nA^8: \", a8)"
   ]
  },
  {
   "cell_type": "markdown",
   "id": "d399648f",
   "metadata": {},
   "source": [
    "### 28-misol. A soni berilgan. A ** 2, A ** 3, A ** 5, A ** 10, A ** 15 chiqadigan dastur tuzing. "
   ]
  },
  {
   "cell_type": "code",
   "execution_count": 66,
   "id": "00650146",
   "metadata": {},
   "outputs": [
    {
     "name": "stdout",
     "output_type": "stream",
     "text": [
      "A = 2\n",
      "A^2:  4 \n",
      "A^3:  8 \n",
      "A^5:  32 \n",
      "A^10:  1024 \n",
      "A^15:  32768\n"
     ]
    }
   ],
   "source": [
    "a = int(input(\"A = \"))\n",
    "a2 = a**2\n",
    "a3 = a**3\n",
    "a5 = a**5\n",
    "a10 = a**10\n",
    "a15 = a**15\n",
    "print(\"A^2: \", a2, \"\\nA^3: \", a3, \"\\nA^5: \", a5, \"\\nA^10: \", a10, \"\\nA^15: \", a15)"
   ]
  },
  {
   "cell_type": "markdown",
   "id": "683b2329",
   "metadata": {},
   "source": [
    "### 29-misol. a burchak gradusda berilgan (0<a<360).Berilgan burchakni radianga o'tkazuvchi dastur tuzing. "
   ]
  },
  {
   "cell_type": "code",
   "execution_count": 67,
   "id": "a24286fb",
   "metadata": {},
   "outputs": [
    {
     "name": "stdout",
     "output_type": "stream",
     "text": [
      "Burchakni kiriting: 60\n",
      "Radianda:  1.0466666666666666\n"
     ]
    }
   ],
   "source": [
    "a = float(input(\"Burchakni kiriting: \"))\n",
    "pi = 3.14\n",
    "R = (a*pi)/180\n",
    "print(\"Radianda: \", R)"
   ]
  },
  {
   "cell_type": "markdown",
   "id": "22439bcf",
   "metadata": {},
   "source": [
    "### 30-misol. a burchak radianda berilgan (0<a<2pi).Berilgan burchakni gradusga o'tkazuvchi dastur tuzing. "
   ]
  },
  {
   "cell_type": "code",
   "execution_count": 68,
   "id": "5be63709",
   "metadata": {},
   "outputs": [
    {
     "name": "stdout",
     "output_type": "stream",
     "text": [
      "Burchakni radianda kiriting: 1.046\n",
      "Gradusda:  59.961783439490446\n"
     ]
    }
   ],
   "source": [
    "a = float(input(\"Burchakni radianda kiriting: \"))\n",
    "pi = 3.14\n",
    "G = (a*180)/pi\n",
    "print(\"Gradusda: \", G)"
   ]
  },
  {
   "cell_type": "markdown",
   "id": "1e836c9c",
   "metadata": {},
   "source": [
    "### 31-misol. Temperatura Tf Farengeytda berilgan. Temperatura qiymati Tc gradus selsiyga o'tkazuvchi programma tuzing. Tc = (Tf-32) * 5/9 "
   ]
  },
  {
   "cell_type": "code",
   "execution_count": 70,
   "id": "1bf86554",
   "metadata": {},
   "outputs": [
    {
     "name": "stdout",
     "output_type": "stream",
     "text": [
      "Farengeyt: 273\n",
      "Gardus:  133.88888888888889\n"
     ]
    }
   ],
   "source": [
    "Tf = int(input(\"Farengeyt: \"))\n",
    "Tc = (Tf-32)*(5/9)\n",
    "print(\"Gardus: \", Tc)"
   ]
  },
  {
   "cell_type": "markdown",
   "id": "601cf113",
   "metadata": {},
   "source": [
    "### 32-misol. Temperatura Tc gradus selsiyda berilgan. Temperatura qiymati Tf Farengeytga o'tkazuvchi programma tuzing. Tc = (Tf-32) * 5/9 "
   ]
  },
  {
   "cell_type": "code",
   "execution_count": 72,
   "id": "ac865927",
   "metadata": {},
   "outputs": [
    {
     "name": "stdout",
     "output_type": "stream",
     "text": [
      "Gradus: 133.8\n",
      "Farengeyt:  272.84000000000003\n"
     ]
    }
   ],
   "source": [
    "Tc = float(input(\"Gradus: \"))\n",
    "Tf = Tc*(9/5)+32\n",
    "print(\"Farengeyt: \", Tf)"
   ]
  },
  {
   "cell_type": "markdown",
   "id": "82a2f33e",
   "metadata": {},
   "source": [
    "### 33-misol. X kg konfet A so'm turadi. 1 kg va Y kg konfet qancha turishini aniqlovchi dastur tuzing. "
   ]
  },
  {
   "cell_type": "code",
   "execution_count": 79,
   "id": "00fbcf4a",
   "metadata": {},
   "outputs": [
    {
     "name": "stdout",
     "output_type": "stream",
     "text": [
      "Konfet massasi: 10\n",
      "X kg konfet narxi:1000\n",
      "Y kg konfet massasi: 20\n",
      "1 kg konfet narxi:  100.0 \n",
      " 20 kg konfet narxi:  2000.0\n"
     ]
    }
   ],
   "source": [
    "X = int(input(\"Konfet massasi: \"))\n",
    "A = int(input(\"X kg konfet narxi:\"))\n",
    "Y = int(input(\"Y kg konfet massasi: \"))\n",
    "kg1 = A/X\n",
    "y = (A*Y)/X\n",
    "print(\"1 kg konfet narxi: \", kg1, \"\\n\", Y, \"kg konfet narxi: \", y)"
   ]
  },
  {
   "cell_type": "markdown",
   "id": "14e21d21",
   "metadata": {},
   "source": [
    "### 34-misol. X kg shokalad A so'm turadi. Y kg konfet B so'm turadi. 1 kg shokalad 1 kg konfetdan qancha qimmatligini hisoblavchi dastur tuzing."
   ]
  },
  {
   "cell_type": "code",
   "execution_count": 80,
   "id": "b1811165",
   "metadata": {},
   "outputs": [
    {
     "name": "stdout",
     "output_type": "stream",
     "text": [
      "Shokalad massasi: 4\n",
      "X kg shokalad narxi:1000\n",
      "Konfet massasi: 5\n",
      "Y kg konfet narxi:900\n",
      "1 kg shokalad 1kg konfetdan  70.0 so'm qimmat\n"
     ]
    }
   ],
   "source": [
    "X = int(input(\"Shokalad massasi: \"))\n",
    "A = int(input(\"X kg shokalad narxi:\"))\n",
    "Y = int(input(\"Konfet massasi: \"))\n",
    "B = int(input(\"Y kg konfet narxi:\"))\n",
    "s1 = A/X\n",
    "k1 = B/Y\n",
    "farq = s1 - k1\n",
    "print(\"1 kg shokalad 1kg konfetdan \", farq, \"so'm qimmat\")"
   ]
  },
  {
   "cell_type": "markdown",
   "id": "18319d8c",
   "metadata": {},
   "source": [
    "### 35-misol. Qayiqning tezligi V km/soat, Daryo oqimining tezligi U km/soat, (V>U). Qayiqning daryo oqimi bo'yicha harakatlanish vaqti T1, oqimga qarshi T2. Qayiq yurgan S masofani aniqlovchi dastur tuzing."
   ]
  },
  {
   "cell_type": "code",
   "execution_count": 83,
   "id": "304e345a",
   "metadata": {},
   "outputs": [
    {
     "name": "stdout",
     "output_type": "stream",
     "text": [
      "Qayiqning tezligi: 20\n",
      "Daryoning tezligi: 10\n",
      "Daryo bo'ylab harakatlanish vaqti: 2\n",
      "Daryoga qarshi harakatlanish vaqti: 3\n",
      "Bosib o'tgan masofa:  90 km\n"
     ]
    }
   ],
   "source": [
    "V = int(input(\"Qayiqning tezligi: \"))\n",
    "U = int(input(\"Daryoning tezligi: \"))\n",
    "T1 = int(input(\"Daryo bo'ylab harakatlanish vaqti: \"))\n",
    "T2 = int(input(\"Daryoga qarshi harakatlanish vaqti: \"))\n",
    "S1 = (V+U)*T1\n",
    "S2 = (V-U)*T2\n",
    "S = S1+S2\n",
    "print(\"Bosib o'tgan masofa: \", S, \"km\")"
   ]
  },
  {
   "cell_type": "markdown",
   "id": "d0d0ef7d",
   "metadata": {},
   "source": [
    "### 36-misol. Birinchi avtomabil tezligi V1 km/soat, ikkinchi avtomabil tezligi V2 km/soat, ular orasidagi masofa S km. Ular bir-biridan uzoqlasha boshlasa T vaqtdan keyin ular orasidagi masofani aniqlaydigan dastur tuzing. "
   ]
  },
  {
   "cell_type": "code",
   "execution_count": 1,
   "id": "bd606b04",
   "metadata": {},
   "outputs": [
    {
     "name": "stdout",
     "output_type": "stream",
     "text": [
      "Birinchi avtomobil tezligi: 10\n",
      "Ikkinchi avtomobil tezligi: 20\n",
      "Ular orasidagi masofa: 30\n",
      "Harakat vaqti: 5\n",
      "Orasidagi masofa:  180  km\n"
     ]
    }
   ],
   "source": [
    "V1 = int(input(\"Birinchi avtomobil tezligi: \"))\n",
    "V2 = int(input(\"Ikkinchi avtomobil tezligi: \"))\n",
    "S = int(input(\"Ular orasidagi masofa: \"))\n",
    "T = int(input(\"Harakat vaqti: \"))\n",
    "S1 = V1*T\n",
    "S2 = V2*T\n",
    "masofa = S+S1+S2\n",
    "print(\"Orasidagi masofa: \", masofa, \" km\")"
   ]
  },
  {
   "cell_type": "markdown",
   "id": "55145f33",
   "metadata": {},
   "source": [
    "### 37-misol.  Birinchi avtomabil tezligi V1 km/soat, ikkinchi avtomabil tezligi V2 km/soat, ular orasidagi masofa S km. Ular bir-biri tomonga harakatlana boshlasa T vaqtdan keyin ular orasidagi masofani aniqlaydigan dastur tuzing."
   ]
  },
  {
   "cell_type": "code",
   "execution_count": 3,
   "id": "45ee5679",
   "metadata": {},
   "outputs": [
    {
     "name": "stdout",
     "output_type": "stream",
     "text": [
      "Birinchi avtomobil tezligi: 10\n",
      "Ikkinchi avtomobil tezligi: 20\n",
      "Ular orasidagi masofa: 50\n",
      "Harakat vaqti: 2\n",
      "Orasidagi masofa:  10  km\n"
     ]
    }
   ],
   "source": [
    "V1 = int(input(\"Birinchi avtomobil tezligi: \"))\n",
    "V2 = int(input(\"Ikkinchi avtomobil tezligi: \"))\n",
    "S = int(input(\"Ular orasidagi masofa: \"))\n",
    "T = int(input(\"Harakat vaqti: \"))\n",
    "S1 = V1*T\n",
    "S2 = V2*T\n",
    "masofa = abs(S-S1-S2)\n",
    "print(\"Orasidagi masofa: \", masofa, \" km\")"
   ]
  },
  {
   "cell_type": "markdown",
   "id": "016d431d",
   "metadata": {},
   "source": [
    "### 38-misol. A va B koifisent berilgan, A * x + B = 0 chiziqli tenglamaning yechimi x ni aniqlaydigan dastur tuzilsin. "
   ]
  },
  {
   "cell_type": "code",
   "execution_count": 4,
   "id": "6e8c4bf3",
   "metadata": {},
   "outputs": [
    {
     "name": "stdout",
     "output_type": "stream",
     "text": [
      "A koifisent: 12\n",
      "B koifisent: 14\n",
      "x yechim:  -1.1666666666666667\n"
     ]
    }
   ],
   "source": [
    "A = int(input(\"A koifisent: \"))\n",
    "B = int(input(\"B koifisent: \"))\n",
    "x = (-B)/A\n",
    "print(\"x yechim: \", x)"
   ]
  },
  {
   "cell_type": "markdown",
   "id": "186261b6",
   "metadata": {},
   "source": [
    "### 39-misol. A, B, C koifisentlar berilgan. A * x ** 2 + B * x + C = 0 kvadrat tenglamaning diskriminanti noldan katta bo'lsa uning yechimini aniqlaydigan dastur tuzing. x1 = (-B-(D) * (1/2)), x2 = (-B+(D) * (1/2)), D = B ** 2 - 4 * A * C"
   ]
  },
  {
   "cell_type": "code",
   "execution_count": 5,
   "id": "fed99aac",
   "metadata": {},
   "outputs": [
    {
     "name": "stdout",
     "output_type": "stream",
     "text": [
      "A koifisent: 2\n",
      "B koifisent: 3\n",
      "C koifisent: 4\n",
      "X1 =  8.5 \n",
      "X2 =  -14.5\n"
     ]
    }
   ],
   "source": [
    "A = int(input(\"A koifisent: \"))\n",
    "B = int(input(\"B koifisent: \"))\n",
    "C = int(input(\"C koifisent: \"))\n",
    "D = B**2-4*A*C\n",
    "x1 = (-B-(D) * (1/2))\n",
    "x2 = (-B+(D) * (1/2))\n",
    "print(\"X1 = \", x1, \"\\nX2 = \", x2)"
   ]
  },
  {
   "cell_type": "markdown",
   "id": "054a179d",
   "metadata": {},
   "source": [
    "### 40-misol. A1, B1, C1, A2, B2, C2 koiffisentlari berilgan chiziqli tenglamalar sistemasining yechimini aniqlaydigan dastur tuzing. "
   ]
  },
  {
   "cell_type": "code",
   "execution_count": 6,
   "id": "9b055938",
   "metadata": {},
   "outputs": [
    {
     "name": "stdout",
     "output_type": "stream",
     "text": [
      "A1 koifisent: 2\n",
      "B1 koifisent: 3\n",
      "C1 koifisent: 4\n",
      "A2 koifisent: 6\n",
      "B2 koifisent: 7\n",
      "C2 koifisent: 8\n",
      "x =  -1.0 \n",
      "y =  2.0\n"
     ]
    }
   ],
   "source": [
    "A1 = int(input(\"A1 koifisent: \"))\n",
    "B1 = int(input(\"B1 koifisent: \"))\n",
    "C1 = int(input(\"C1 koifisent: \"))\n",
    "A2 = int(input(\"A2 koifisent: \"))\n",
    "B2 = int(input(\"B2 koifisent: \"))\n",
    "C2 = int(input(\"C2 koifisent: \"))\n",
    "D = A1*B2 - A2*B1\n",
    "x = (C1*B2-C2*B1)/D\n",
    "y = (A1*C2 - A2*C1)/D\n",
    "print(\"x = \", x, \"\\ny = \", y)"
   ]
  },
  {
   "cell_type": "code",
   "execution_count": 1,
   "id": "db6c4f68",
   "metadata": {},
   "outputs": [
    {
     "name": "stdout",
     "output_type": "stream",
     "text": [
      "A = 1\n",
      "B = 2\n",
      "C = 3\n",
      "D = 4\n",
      "A1 =  4 \n",
      "B1 =  1 \n",
      "C1 =  2 \n",
      "D1 =  3\n"
     ]
    }
   ],
   "source": [
    "#Qo'shimcha\n",
    "a = int(input(\"A = \")) \n",
    "b = int(input(\"B = \"))\n",
    "c = int(input(\"C = \"))\n",
    "d = int(input(\"D = \"))\n",
    "a = a+b+c+d\n",
    "b = a-(b+c+d)\n",
    "c = a-(b+c+d)\n",
    "d = a- (b+c+d)\n",
    "a = a-(b+c+d)\n",
    "print(\"A1 = \", a, \"\\nB1 = \", b, \"\\nC1 = \", c, \"\\nD1 = \", d)"
   ]
  },
  {
   "cell_type": "code",
   "execution_count": 5,
   "id": "235dc4ef",
   "metadata": {
    "scrolled": true
   },
   "outputs": [
    {
     "name": "stdout",
     "output_type": "stream",
     "text": [
      "Kun 10\n",
      "1  hafta\n",
      "3  kun\n"
     ]
    }
   ],
   "source": [
    "kun = int(input(\"Kun \"))\n",
    "a = kun // 7\n",
    "b = kun % 7\n",
    "print(a, \" hafta\")\n",
    "print(b, \" kun\")"
   ]
  },
  {
   "cell_type": "code",
   "execution_count": 6,
   "id": "0483780b",
   "metadata": {},
   "outputs": [
    {
     "name": "stdout",
     "output_type": "stream",
     "text": [
      "kilobayt 1025\n",
      "1  megabayt  1  kilobayt\n"
     ]
    }
   ],
   "source": [
    "k = int(input(\"kilobayt \"))\n",
    "m = k // 1024\n",
    "o = k % 1024\n",
    "print(m, \" megabayt \", o, \" kilobayt\")"
   ]
  },
  {
   "cell_type": "code",
   "execution_count": 14,
   "id": "bee2470e",
   "metadata": {},
   "outputs": [
    {
     "name": "stdout",
     "output_type": "stream",
     "text": [
      "Uch xonali son: 123\n",
      "321\n"
     ]
    }
   ],
   "source": [
    "a = int(input(\"Uch xonali son: \"))\n",
    "yuz = a // 100\n",
    "un = a % 100 // 10\n",
    "bir = a % 10\n",
    "print(bir*100+un*10+yuz*1)"
   ]
  },
  {
   "cell_type": "code",
   "execution_count": 18,
   "id": "9b5e8ca9",
   "metadata": {},
   "outputs": [
    {
     "name": "stdout",
     "output_type": "stream",
     "text": [
      "Sekund: 36666\n",
      "10   11   6\n"
     ]
    }
   ],
   "source": [
    "s = int(input(\"Sekund: \"))\n",
    "soat = s // 3600\n",
    "minut = s // 60 % 60\n",
    "sek = s % 3600 % 60\n",
    "print(soat, \" soat \", minut, \" minut \", sek, \" sekunt \")"
   ]
  },
  {
   "cell_type": "code",
   "execution_count": null,
   "id": "9ed4259b",
   "metadata": {},
   "outputs": [],
   "source": []
  }
 ],
 "metadata": {
  "kernelspec": {
   "display_name": "Python 3 (ipykernel)",
   "language": "python",
   "name": "python3"
  },
  "language_info": {
   "codemirror_mode": {
    "name": "ipython",
    "version": 3
   },
   "file_extension": ".py",
   "mimetype": "text/x-python",
   "name": "python",
   "nbconvert_exporter": "python",
   "pygments_lexer": "ipython3",
   "version": "3.9.9"
  }
 },
 "nbformat": 4,
 "nbformat_minor": 5
}
