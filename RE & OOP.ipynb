{
 "cells": [
  {
   "cell_type": "code",
   "execution_count": 1,
   "id": "aeac1c59",
   "metadata": {},
   "outputs": [
    {
     "name": "stdout",
     "output_type": "stream",
     "text": [
      "Support for regular expressions (RE).\n",
      "\n",
      "This module provides regular expression matching operations similar to\n",
      "those found in Perl.  It supports both 8-bit and Unicode strings; both\n",
      "the pattern and the strings being processed can contain null bytes and\n",
      "characters outside the US ASCII range.\n",
      "\n",
      "Regular expressions can contain both special and ordinary characters.\n",
      "Most ordinary characters, like \"A\", \"a\", or \"0\", are the simplest\n",
      "regular expressions; they simply match themselves.  You can\n",
      "concatenate ordinary characters, so last matches the string 'last'.\n",
      "\n",
      "The special characters are:\n",
      "    \".\"      Matches any character except a newline.\n",
      "    \"^\"      Matches the start of the string.\n",
      "    \"$\"      Matches the end of the string or just before the newline at\n",
      "             the end of the string.\n",
      "    \"*\"      Matches 0 or more (greedy) repetitions of the preceding RE.\n",
      "             Greedy means that it will match as many repetitions as possible.\n",
      "    \"+\"      Matches 1 or more (greedy) repetitions of the preceding RE.\n",
      "    \"?\"      Matches 0 or 1 (greedy) of the preceding RE.\n",
      "    *?,+?,?? Non-greedy versions of the previous three special characters.\n",
      "    {m,n}    Matches from m to n repetitions of the preceding RE.\n",
      "    {m,n}?   Non-greedy version of the above.\n",
      "    \"\\\\\"     Either escapes special characters or signals a special sequence.\n",
      "    []       Indicates a set of characters.\n",
      "             A \"^\" as the first character indicates a complementing set.\n",
      "    \"|\"      A|B, creates an RE that will match either A or B.\n",
      "    (...)    Matches the RE inside the parentheses.\n",
      "             The contents can be retrieved or matched later in the string.\n",
      "    (?aiLmsux) The letters set the corresponding flags defined below.\n",
      "    (?:...)  Non-grouping version of regular parentheses.\n",
      "    (?P<name>...) The substring matched by the group is accessible by name.\n",
      "    (?P=name)     Matches the text matched earlier by the group named name.\n",
      "    (?#...)  A comment; ignored.\n",
      "    (?=...)  Matches if ... matches next, but doesn't consume the string.\n",
      "    (?!...)  Matches if ... doesn't match next.\n",
      "    (?<=...) Matches if preceded by ... (must be fixed length).\n",
      "    (?<!...) Matches if not preceded by ... (must be fixed length).\n",
      "    (?(id/name)yes|no) Matches yes pattern if the group with id/name matched,\n",
      "                       the (optional) no pattern otherwise.\n",
      "\n",
      "The special sequences consist of \"\\\\\" and a character from the list\n",
      "below.  If the ordinary character is not on the list, then the\n",
      "resulting RE will match the second character.\n",
      "    \\number  Matches the contents of the group of the same number.\n",
      "    \\A       Matches only at the start of the string.\n",
      "    \\Z       Matches only at the end of the string.\n",
      "    \\b       Matches the empty string, but only at the start or end of a word.\n",
      "    \\B       Matches the empty string, but not at the start or end of a word.\n",
      "    \\d       Matches any decimal digit; equivalent to the set [0-9] in\n",
      "             bytes patterns or string patterns with the ASCII flag.\n",
      "             In string patterns without the ASCII flag, it will match the whole\n",
      "             range of Unicode digits.\n",
      "    \\D       Matches any non-digit character; equivalent to [^\\d].\n",
      "    \\s       Matches any whitespace character; equivalent to [ \\t\\n\\r\\f\\v] in\n",
      "             bytes patterns or string patterns with the ASCII flag.\n",
      "             In string patterns without the ASCII flag, it will match the whole\n",
      "             range of Unicode whitespace characters.\n",
      "    \\S       Matches any non-whitespace character; equivalent to [^\\s].\n",
      "    \\w       Matches any alphanumeric character; equivalent to [a-zA-Z0-9_]\n",
      "             in bytes patterns or string patterns with the ASCII flag.\n",
      "             In string patterns without the ASCII flag, it will match the\n",
      "             range of Unicode alphanumeric characters (letters plus digits\n",
      "             plus underscore).\n",
      "             With LOCALE, it will match the set [0-9_] plus characters defined\n",
      "             as letters for the current locale.\n",
      "    \\W       Matches the complement of \\w.\n",
      "    \\\\       Matches a literal backslash.\n",
      "\n",
      "This module exports the following functions:\n",
      "    match     Match a regular expression pattern to the beginning of a string.\n",
      "    fullmatch Match a regular expression pattern to all of a string.\n",
      "    search    Search a string for the presence of a pattern.\n",
      "    sub       Substitute occurrences of a pattern found in a string.\n",
      "    subn      Same as sub, but also return the number of substitutions made.\n",
      "    split     Split a string by the occurrences of a pattern.\n",
      "    findall   Find all occurrences of a pattern in a string.\n",
      "    finditer  Return an iterator yielding a Match object for each match.\n",
      "    compile   Compile a pattern into a Pattern object.\n",
      "    purge     Clear the regular expression cache.\n",
      "    escape    Backslash all non-alphanumerics in a string.\n",
      "\n",
      "Each function other than purge and escape can take an optional 'flags' argument\n",
      "consisting of one or more of the following module constants, joined by \"|\".\n",
      "A, L, and U are mutually exclusive.\n",
      "    A  ASCII       For string patterns, make \\w, \\W, \\b, \\B, \\d, \\D\n",
      "                   match the corresponding ASCII character categories\n",
      "                   (rather than the whole Unicode categories, which is the\n",
      "                   default).\n",
      "                   For bytes patterns, this flag is the only available\n",
      "                   behaviour and needn't be specified.\n",
      "    I  IGNORECASE  Perform case-insensitive matching.\n",
      "    L  LOCALE      Make \\w, \\W, \\b, \\B, dependent on the current locale.\n",
      "    M  MULTILINE   \"^\" matches the beginning of lines (after a newline)\n",
      "                   as well as the string.\n",
      "                   \"$\" matches the end of lines (before a newline) as well\n",
      "                   as the end of the string.\n",
      "    S  DOTALL      \".\" matches any character at all, including the newline.\n",
      "    X  VERBOSE     Ignore whitespace and comments for nicer looking RE's.\n",
      "    U  UNICODE     For compatibility only. Ignored for string patterns (it\n",
      "                   is the default), and forbidden for bytes patterns.\n",
      "\n",
      "This module also defines an exception 'error'.\n",
      "\n",
      "\n"
     ]
    }
   ],
   "source": [
    "import re\n",
    "print(re.__doc__)"
   ]
  },
  {
   "cell_type": "code",
   "execution_count": 2,
   "id": "787c08a8",
   "metadata": {},
   "outputs": [
    {
     "name": "stdout",
     "output_type": "stream",
     "text": [
      "Sana(dd-mm-yyyy):23.01.1999\n",
      "Sana xato kiritildi\n"
     ]
    }
   ],
   "source": [
    "import re\n",
    "sana = input(\"Sana(dd-mm-yyyy):\")\n",
    "if re.match(r\"([0-2]{1}[0-9]|30|31){1}-(0[0-9]|10|11|12){1}-2[0-1][0-9]{2}\", sana):\n",
    "    print(\"To'g'ri\", re.match(r\"([0-2]{1}[0-9]|30|31){1}-(0[0-9]|10|11|12){1}-2[0-1][0-9]{2}\", sana))\n",
    "else:\n",
    "    print(\"Sana xato kiritildi\")"
   ]
  },
  {
   "cell_type": "code",
   "execution_count": 3,
   "id": "319b2908",
   "metadata": {},
   "outputs": [
    {
     "name": "stdout",
     "output_type": "stream",
     "text": [
      "Sana(dd-mm-yyyy):23.01.1999\n",
      "Sana xato kiritildi\n"
     ]
    }
   ],
   "source": [
    "# Kabisa yili\n",
    "import re\n",
    "sana = input(\"Sana(dd-mm-yyyy):\")\n",
    "#             |------------------------------ 31 kun ---------------------------------------|-------------------------- 30 kun -----------------------------------|----------------------- 28 kun ---------------------------|-------------------------------------------------------- 29 kun --------------------------------------------------------|\n",
    "if re.match(r\"((?:0[1-9]|[1-2]{1}[0-9]|30|31){1}-(?:0[13578]|10|12){1}-(?:19|20|21)[0-9]{2}$|(?:0[1-9]|[1-2]{1}[0-9]|30){1}-(?:0[469]|11){1}-(?:19|20|21)[0-9]{2}$|(?:0[1-9]|1{1}[0-9]{1}|2[0-8]{1})-02-(?:19|20|21)[0-9]{2}$|29-02-(?:(?:20[02468]{1}[048]{1}$|[13579]{1}[26]{1}$)|(?:(?:19|21)(?:(?:[02468]{1}[48]{1}$|[2468]{1}0)|[13579]{1}[26]{1}$))))\", sana):\n",
    "    print(\"To'g'ri\")\n",
    "else:\n",
    "    print(\"Sana xato kiritildi\")"
   ]
  },
  {
   "cell_type": "code",
   "execution_count": 4,
   "id": "62c690b6",
   "metadata": {},
   "outputs": [
    {
     "name": "stdout",
     "output_type": "stream",
     "text": [
      "ID:123\n",
      "ID karta xato kiritildi\n"
     ]
    }
   ],
   "source": [
    "# ID karta\n",
    "import re\n",
    "ID = input(\"ID:\")\n",
    "if re.match(r\"[A-Z]{2}[0-9]{7}$\", ID):\n",
    "    print(\"To'g'ri\", re.match(r\"[A-Z]{2}[0-9]{7}\", ID))\n",
    "else:\n",
    "    print(\"ID karta xato kiritildi\")"
   ]
  },
  {
   "cell_type": "code",
   "execution_count": 1,
   "id": "9b59e470",
   "metadata": {
    "scrolled": true
   },
   "outputs": [
    {
     "name": "stdout",
     "output_type": "stream",
     "text": [
      "+(998) 93 745-87-82\n",
      "1\n"
     ]
    }
   ],
   "source": [
    "import re\n",
    "tel = input()\n",
    "if re.match(r\"\\+\\(998\\) [0-9]{2} [0-9]{3}-[0-9]{2}-[0-9]{2}$\", tel):\n",
    "    print(1)\n",
    "else:\n",
    "    print(0)"
   ]
  },
  {
   "cell_type": "code",
   "execution_count": 3,
   "id": "439c45df",
   "metadata": {},
   "outputs": [
    {
     "name": "stdout",
     "output_type": "stream",
     "text": [
      "['Qad', 'Eronda', 'yil', '365kunli', '12', 'oy', '30', 'kundan', 'va', 'yana', \"qo'shimcha\", '5kun', \"bo'lib\", 'har', '120', 'yilda', 'bitta', \"qo'shimcha\", 'oy', 'kiritilgan', 'Umar', 'Xayyom', 'kalendarida', 'har', '33', 'yilning', '8', 'yili', '4', '8', '12', '16', '20', '24', '28', 'va', '33', 'yillari', 'Kabisa', 'yil', 'hisoblanadi', 'Bunda', 'har', '4500', 'yilda', 'bir', 'sutkaga', 'teng', 'xato', \"yig'iladi\", 'Bu', 'esa', 'hozir', \"qo'llaniladigan\", 'Grigoriy', 'kalendaridan', 'ham', 'aniqroq', 'q', 'Kalendar']\n"
     ]
    }
   ],
   "source": [
    "import re\n",
    "matn = \"Qad. Eronda yil 365kunli (12 oy 30 kundan_ va yana qo'shimcha 5kun) bo'lib, har 120-yilda bitta qo'shimcha oy kiritilgan. Umar Xayyom kalendarida har 33 yilning 8 yili (4, 8, 12, 16, 20, 24, 28 va 33-yillari) Kabisa yil hisoblanadi. Bunda har 4500-yilda bir sutkaga teng xato yig'iladi. Bu esa hozir qo'llaniladigan Grigoriy kalendaridan ham aniqroq(q. Kalendar).\"\n",
    "print(re.findall(r\"[a-zA-Z0-9']+\", matn))"
   ]
  },
  {
   "cell_type": "code",
   "execution_count": 142,
   "id": "4a4f86d4",
   "metadata": {},
   "outputs": [
    {
     "name": "stdout",
     "output_type": "stream",
     "text": [
      "Matn: salom\n",
      "салом\n"
     ]
    }
   ],
   "source": [
    "import re\n",
    "matn = input(\"Matn: \")\n",
    "\n",
    "suzlar = {\n",
    "    \"sentabr\":\"сентябр\", \n",
    "    \"oktabr\":\"октябр\", \n",
    "    \"budjet\":\"бюджет\", \n",
    "    \"seziy\":\"цезий\", \n",
    "    \"seytnot\":\"цейтнот\", \n",
    "    \"sellofan\":\"целлофан\", \n",
    "    \"sellyuloza\":\"целлюлоза\", \n",
    "    \"selsiy\":\"целсий\", \n",
    "    \"sement\":\"цемент\", \n",
    "    \"senzor\":\"цензор\", \n",
    "    \"senzura\":\"цензура\", \n",
    "    \"sentner\":\"центер\", \n",
    "    \"sex\":\"цех\", \n",
    "    \"setse\":\"цетсе\", \n",
    "    \"sivilizatsiya\":\"цивилизация\", \n",
    "    \"sikl\":\"цикл\", \n",
    "    \"siklon\":\"циликон\", \n",
    "    \"silindr\":\"цилиндр\", \n",
    "    \"silindrik\":\"цилиндрик\", \n",
    "    \"silindrsimon\":\"цилиндрсимон\", \n",
    "    \"sirk\":\"цирк\", \n",
    "    \"sirkul\":\"циркул\", \n",
    "    \"sisterna\":\"цистерна\", \n",
    "    \"sitrus\":\"цитрус\", \n",
    "}\n",
    "birikmalar = {\n",
    "    \"ya\":\"я\",  \"Ya\":\"Я\",  \"YA\":\"Я\",\n",
    "    \"yu\":\"ю\",  \"Yu\":\"Ю\",  \"YU\":\"Ю\",\n",
    "    \"ch\":\"ч\",  \"Ch\":\"Ч\",  \"CH\":\"Ч\",\n",
    "    \"sh\":\"ш\",  \"Sh\":\"Ш\",  \"SH\":\"Ш\",\n",
    "    \"ye\":\"е\",  \"Ye\":\"Е\",  \"YE\":\"Е\",\n",
    "    \"o'\":\"ў\",  \"O'\":\"Ў\",\n",
    "    \"g'\":\"ғ\",  \"G'\":\"Ғ\",\n",
    "    \"ts\":\"ц\",\n",
    "}\n",
    "harflar = {\n",
    "    \"a\":\"а\",  \"A\":\"А\",\n",
    "    \"b\":\"б\",  \"B\":\"Б\",\n",
    "    \"d\":\"д\",  \"D\":\"Д\",\n",
    "    \"e\":\"е\",  \"E\":\"Е\",\n",
    "    \"f\":\"ф\",  \"F\":\"Ф\",\n",
    "    \"g\":\"г\",  \"G\":\"Г\",\n",
    "    \"h\":\"ҳ\",  \"H\":\"Ҳ\",\n",
    "    \"i\":\"и\",  \"I\":\"И\",\n",
    "    \"j\":\"ж\",  \"J\":\"Ж\",\n",
    "    \"k\":\"к\",  \"K\":\"К\",\n",
    "    \"l\":\"л\",  \"L\":\"Л\",\n",
    "    \"m\":\"м\",  \"M\":\"М\",\n",
    "    \"n\":\"н\",  \"N\":\"Н\",\n",
    "    \"o\":\"о\",  \"O\":\"О\",\n",
    "    \"p\":\"п\",  \"P\":\"П\",\n",
    "    \"q\":\"қ\",  \"Q\":\"Қ\",\n",
    "    \"r\":\"р\",  \"R\":\"Р\",\n",
    "    \"s\":\"с\",  \"S\":\"С\",\n",
    "    \"t\":\"т\",  \"T\":\"Т\",\n",
    "    \"u\":\"у\",  \"U\":\"У\",\n",
    "    \"v\":\"в\",  \"V\":\"В\",\n",
    "    \"x\":\"х\",  \"X\":\"Х\",\n",
    "    \"y\":\"й\",  \"Y\":\"Й\",\n",
    "    \"z\":\"з\",  \"Z\":\"З\",\n",
    "    \"'\":\"ъ\"\n",
    "}\n",
    "\n",
    "def lot_kir(matn, suzlar,harflar, birikmalar):\n",
    "    lower_matn = matn.lower()                              # Matnni kichik harflarga o'tkazadi\n",
    "    text = re.findall(r\"[a-z']+\", lower_matn)              # Matndagi so'zlarni topadi\n",
    "    suz = []\n",
    "# Dictni listga o'tkazadi\n",
    "    for m in suzlar.keys():\n",
    "        suz.append(m)\n",
    "    birikma = []\n",
    "    for n in birikmalar.keys():\n",
    "        birikma.append(n)\n",
    "    for j in range(len(text)):\n",
    "# Matndan maxsus so'zlarni kirillga o'tkazadi\n",
    "        for i in range(len(suz)):\n",
    "            if re.match(suz[i], text[j]):\n",
    "                idx = text.index(suz[i])\n",
    "                text.insert(idx, suzlar.get(suz[i]))\n",
    "                text.pop(idx+1)       \n",
    "        else:\n",
    "# Matndan so'z birikmalarini kirillga o'tkazadi\n",
    "            asosiy = \"\"\n",
    "            for i in range(len(birikma)):\n",
    "                if re.match(birikma[i], text[j]):\n",
    "                    asosiy += birikmalar.get(birikma[i])\n",
    "                    idx = i+1\n",
    "# Qolgan harflarni kirillga o'tkazadi\n",
    "            if re.match(r\"[a-zA-Z]+\", text[j]):\n",
    "                if len(asosiy)==0:\n",
    "                    for k in text[j]:\n",
    "                        asosiy += harflar.get(k)\n",
    "                else:\n",
    "                    for k in text[j][2:]:\n",
    "                        asosiy += harflar.get(k)\n",
    "                text.insert(j, asosiy)\n",
    "                text.pop(j+1)\n",
    "    return \" \".join(text)\n",
    "\n",
    "print(lot_kir(matn,suzlar, harflar, birikmalar))"
   ]
  },
  {
   "cell_type": "code",
   "execution_count": 13,
   "id": "6bfd614b",
   "metadata": {},
   "outputs": [
    {
     "name": "stdout",
     "output_type": "stream",
     "text": [
      "Matn: sirk\n",
      "sirk\n"
     ]
    }
   ],
   "source": [
    "import re\n",
    "matn = input(\"Matn: \")\n",
    "\n",
    "suzlar = {\n",
    "    \"sentabr\":\"сентябр\", \n",
    "    \"oktabr\":\"октябр\", \n",
    "    \"budjet\":\"бюджет\", \n",
    "    \"seziy\":\"цезий\", \n",
    "    \"seytnot\":\"цейтнот\", \n",
    "    \"sellofan\":\"целлофан\", \n",
    "    \"sellyuloza\":\"целлюлоза\", \n",
    "    \"selsiy\":\"целсий\", \n",
    "    \"sement\":\"цемент\", \n",
    "    \"senzor\":\"цензор\", \n",
    "    \"senzura\":\"цензура\", \n",
    "    \"sentner\":\"центер\", \n",
    "    \"sex\":\"цех\", \n",
    "    \"setse\":\"цетсе\", \n",
    "    \"sivilizatsiya\":\"цивилизация\", \n",
    "    \"sikl\":\"цикл\", \n",
    "    \"siklon\":\"циликон\", \n",
    "    \"silindr\":\"цилиндр\", \n",
    "    \"silindrik\":\"цилиндрик\", \n",
    "    \"silindrsimon\":\"цилиндрсимон\", \n",
    "    \"sirk\":\"цирк\", \n",
    "    \"sirkul\":\"циркул\", \n",
    "    \"sisterna\":\"цистерна\", \n",
    "    \"sitrus\":\"цитрус\", \n",
    "}\n",
    "birikmalar = {\n",
    "    \"ya\":\"я\",  \"Ya\":\"Я\",  \"YA\":\"Я\",\n",
    "    \"yu\":\"ю\",  \"Yu\":\"Ю\",  \"YU\":\"Ю\",\n",
    "    \"ch\":\"ч\",  \"Ch\":\"Ч\",  \"CH\":\"Ч\",\n",
    "    \"sh\":\"ш\",  \"Sh\":\"Ш\",  \"SH\":\"Ш\",\n",
    "    \"ye\":\"е\",  \"Ye\":\"Е\",  \"YE\":\"Е\",\n",
    "    \"o'\":\"ў\",  \"O'\":\"Ў\",\n",
    "    \"g'\":\"ғ\",  \"G'\":\"Ғ\",\n",
    "    \"ts\":\"ц\",\n",
    "}\n",
    "harflar = {\n",
    "    \"a\":\"а\",  \"A\":\"А\",\n",
    "    \"b\":\"б\",  \"B\":\"Б\",\n",
    "    \"d\":\"д\",  \"D\":\"Д\",\n",
    "    \"e\":\"е\",  \"E\":\"Е\",\n",
    "    \"f\":\"ф\",  \"F\":\"Ф\",\n",
    "    \"g\":\"г\",  \"G\":\"Г\",\n",
    "    \"h\":\"ҳ\",  \"H\":\"Ҳ\",\n",
    "    \"i\":\"и\",  \"I\":\"И\",\n",
    "    \"j\":\"ж\",  \"J\":\"Ж\",\n",
    "    \"k\":\"к\",  \"K\":\"К\",\n",
    "    \"l\":\"л\",  \"L\":\"Л\",\n",
    "    \"m\":\"м\",  \"M\":\"М\",\n",
    "    \"n\":\"н\",  \"N\":\"Н\",\n",
    "    \"o\":\"о\",  \"O\":\"О\",\n",
    "    \"p\":\"п\",  \"P\":\"П\",\n",
    "    \"q\":\"қ\",  \"Q\":\"Қ\",\n",
    "    \"r\":\"р\",  \"R\":\"Р\",\n",
    "    \"s\":\"с\",  \"S\":\"С\",\n",
    "    \"t\":\"т\",  \"T\":\"Т\",\n",
    "    \"u\":\"у\",  \"U\":\"У\",\n",
    "    \"v\":\"в\",  \"V\":\"В\",\n",
    "    \"x\":\"х\",  \"X\":\"Х\",\n",
    "    \"y\":\"й\",  \"Y\":\"Й\",\n",
    "    \"z\":\"з\",  \"Z\":\"З\",\n",
    "    \"'\":\"ъ\"\n",
    "}\n",
    "suz = []\n",
    "for m in suzlar.keys():\n",
    "        suz.append(m)\n",
    "x = True\n",
    "for i in range(len(suz)):\n",
    "    text = re.sub(suz[i],suzlar.get(suz[i]),matn)\n",
    "print(text)"
   ]
  },
  {
   "cell_type": "code",
   "execution_count": 6,
   "id": "1fe5606b",
   "metadata": {},
   "outputs": [
    {
     "name": "stdout",
     "output_type": "stream",
     "text": [
      "Эта строка написана DD.MM.YYYY, а могла бы и DD.MM.YYYY\n"
     ]
    }
   ],
   "source": [
    "print(re.sub(r'\\d\\d\\.\\d\\d\\.\\d{4}', \n",
    "             r'DD.MM.YYYY', \n",
    "             r'Эта строка написана 19.01.2018, а могла бы и 01.09.2017')) "
   ]
  },
  {
   "cell_type": "markdown",
   "id": "1eb9b747",
   "metadata": {},
   "source": [
    "# OOP"
   ]
  },
  {
   "cell_type": "code",
   "execution_count": 6,
   "id": "238bc256",
   "metadata": {},
   "outputs": [
    {
     "name": "stdout",
     "output_type": "stream",
     "text": [
      "Dollar\n",
      "So'm\n",
      "So'm\n",
      "So'm\n"
     ]
    }
   ],
   "source": [
    "class Pul_birlik:\n",
    "    umumiy_pul = \"Dollar\"\n",
    "    def __init__(self, pul):\n",
    "        self.pul_birlik = pul\n",
    "    def voz_kechish(self):\n",
    "        self.umumiy_pul = self.pul_birlik\n",
    "        \n",
    "uzbekistan = Pul_birlik(\"So'm\")\n",
    "print(uzbekistan.umumiy_pul)\n",
    "print(uzbekistan.pul_birlik)\n",
    "uzbekistan.voz_kechish()\n",
    "print(uzbekistan.umumiy_pul)\n",
    "print(uzbekistan.pul_birlik)"
   ]
  },
  {
   "cell_type": "code",
   "execution_count": 7,
   "id": "1ddd0e06",
   "metadata": {},
   "outputs": [
    {
     "name": "stdout",
     "output_type": "stream",
     "text": [
      ">>> Buyruqlar (new, kurs_kutar, kurs_qoldir, ism_uzgar, fam_uzgar, info, off): off\n"
     ]
    }
   ],
   "source": [
    "import re\n",
    "from datetime import date\n",
    "viloyatlar = [\"Toshkent\", \"Andijon\", \"Farg'ona\", \"Namangan\", \"Sirdaryo\", \"Jizzax\", \"Samarqand\", \"Qashqadaryo\",\n",
    "             \"Surxondaryo\", \"Navoiy\", \"Buxoro\", \"Xorazm\", \"Qoraqalpog'iston\"]\n",
    "\n",
    "class Talaba:\n",
    "    def __init__(self,ism,fam,t_yil,kir_yil, vil, fak):\n",
    "        self.ism = ism\n",
    "        self.fam = fam\n",
    "        self.t_yil = t_yil\n",
    "        self.kir_yil = kir_yil\n",
    "        self.vil = vil\n",
    "        self.fak = fak\n",
    "        hozir = date.today()\n",
    "        self.kurs = hozir.year - kir_yil\n",
    "    def kurs_qoldir(self):\n",
    "        if self.kurs > 1:\n",
    "            self.kurs -= 1\n",
    "        else:\n",
    "            self.kurs = 1\n",
    "    def kurs_kutar(self):\n",
    "        if self.kurs < 4:\n",
    "            self.kurs += 1\n",
    "        else:\n",
    "            self.kurs = 4\n",
    "    def ism_uzgar(self):\n",
    "        self.ism = input(\"Ism: \")\n",
    "    def fam_uzgar(self):\n",
    "        self.fam = input(\"Familiya: \")\n",
    "    # Talaba ma'lumotlari\n",
    "    def mal(self):\n",
    "        if 0 < self.kurs < 5:\n",
    "            return f\"\\n{self.ism} {self.fam} {self.t_yil} yilda {self.vil}da tug'ilgan. {self.fak} fakultetining {self.kurs} kurs talabasi.\"\n",
    "        else:\n",
    "            return f\"\\n{self.ism} {self.fam} {self.t_yil} yilda {self.vil}da tug'ilgan. {self.fak} fakultetini {self.kurs-4} yil oldin bitirgan\"\n",
    "# Menyu\n",
    "a = True\n",
    "while a:\n",
    "    menu = input(\">>> Buyruqlar (new, kurs_kutar, kurs_qoldir, ism_uzgar, fam_uzgar, info, off): \")\n",
    "    # Talaba ma'lumotlarini kiritish\n",
    "    if menu == \"new\":\n",
    "        x = True\n",
    "        while x:\n",
    "            isfa = r\"[A-Z]{1}[a-z']+$\"\n",
    "            yil = r\"(19|20)[0-9]{2}\"\n",
    "            ism = input(\">>> Ism: \")\n",
    "            while not re.match(isfa, ism):\n",
    "                ism = input(\">>> Ism: \")\n",
    "            fam = input(\">>> Familiya: \")\n",
    "            while not re.match(isfa, fam):\n",
    "                fam = input(\">>> Familiya: \")\n",
    "            t_yil = int(input(\">>> Tug'ilgan yil: \"))\n",
    "            while not re.match(yil, str(t_yil)):\n",
    "                t_yil = int(input(\">>> Tug'ilgan yil: \"))\n",
    "            vil = input(\">>> Viloyati: \")\n",
    "            while vil not in viloyatlar:\n",
    "                vil = input(\">>> Viloyati: \")\n",
    "            fak = input(\">>> Fakultet: \")\n",
    "            while not re.match(isfa, fak):\n",
    "                fak = input(\">>> Fakultet: \")\n",
    "            kir_yil = int(input(\">>> O'qishga kirgan yili: \"))\n",
    "            while not re.match(yil, str(kir_yil)) or t_yil + 17 > kir_yil:\n",
    "                kir_yil = int(input(\">>> O'qishga kirgan yili: \"))\n",
    "            info = Talaba(ism,fam,t_yil,kir_yil, vil, fak)\n",
    "            x = False\n",
    "    elif menu == \"kurs_kutar\":\n",
    "        info.kurs_kutar()\n",
    "    elif menu == \"kurs_qoldir\":\n",
    "        info.kurs_qoldir()\n",
    "    elif menu == \"ism_uzgar\":\n",
    "        info.ism_uzgar()\n",
    "    elif menu == \"fam_uzgar\":\n",
    "        info.fam_uzgar()\n",
    "    elif menu == \"off\":\n",
    "        a = False\n",
    "    elif menu == \"info\":\n",
    "        print(info.mal())\n",
    "    else:\n",
    "        continue"
   ]
  },
  {
   "cell_type": "code",
   "execution_count": 8,
   "id": "706abf96",
   "metadata": {},
   "outputs": [
    {
     "name": "stdout",
     "output_type": "stream",
     "text": [
      "Xursand Sobirov ismli ishchi Dasturchi sohasida doimiyda 1 ishlab 10000000 so'm oladi\n",
      "Ish soati:  8\n",
      "Xursand Sobirov ismli ishchi Suniy Intellekt sohasida Frilanceda 0.5 ishlab 20000000 so'm oladi\n",
      "Ish soati:  4.0\n"
     ]
    }
   ],
   "source": [
    "class Ishchi:\n",
    "    __ish_soati = 8\n",
    "    def __init__(self, ism, fam, kasb, stavka, oylik, ish_turi):\n",
    "        self.__ism = ism\n",
    "        self.__fam = fam\n",
    "        self.__kasb = kasb\n",
    "        self.__stavka = stavka\n",
    "        self.__oylik = oylik\n",
    "        self.__ish_turi = ish_turi\n",
    "    def get_info(self):\n",
    "        return f\"{self.__ism} {self.__fam} ismli ishchi {self.__kasb} sohasida {self.__ish_turi}da {self.__stavka} ishlab \\\n",
    "{self.__oylik} so'm oladi\"\n",
    "    def set_kasb(self, kasb, stavka, oylik, ish_turi):\n",
    "        self.__kasb = kasb\n",
    "        self.__stavka = stavka\n",
    "        self.__oylik = oylik\n",
    "        self.__ish_turi = ish_turi\n",
    "    def get_soati(self):\n",
    "        return Ishchi.__ish_soati*self.__stavka\n",
    "xursand = Ishchi(\"Xursand\", \"Sobirov\", \"Dasturchi\", 1, 10000000, \"doimiy\")\n",
    "print(xursand.get_info())\n",
    "print(\"Ish soati: \", xursand.get_soati())\n",
    "xursand.set_kasb(\"Suniy Intellekt\", 0.5, 20000000, \"Frilance\")\n",
    "print(xursand.get_info())\n",
    "print(\"Ish soati: \", xursand.get_soati())"
   ]
  },
  {
   "cell_type": "code",
   "execution_count": 9,
   "id": "7181ab9a",
   "metadata": {},
   "outputs": [],
   "source": [
    "from tkinter import *       \n",
    "from tkinter import messagebox       \n",
    "from tkinter.ttk import *\n",
    "class Telefonlar:\n",
    "    def __init__(self, brand, model, narx, dioganal, ekran, kamera, old_kamera, protsessor, ram, xotira, batareyka, protsessor_chastotasi):\n",
    "        self.__brand = brand\n",
    "        self.__model = model\n",
    "        self.__narx = narx\n",
    "        self.__dioganal = dioganal\n",
    "        self.__ekran = ekran\n",
    "        self.__kamera = kamera\n",
    "        self.__old_kamera = old_kamera\n",
    "        self.__protsessor = protsessor\n",
    "        self.__ram = ram\n",
    "        self.__xotira = xotira\n",
    "        self.__batareyka = batareyka\n",
    "        self.__protsessor_chastotasi = protsessor_chastotasi\n",
    "    def get_info(self):\n",
    "        return f\"Brendi: \\t\\t\\t\\t{self.__brand}\\nModeli: \\t\\t\\t\\t{self.__model}\\nNarxi($): \\t\\t\\t\\t{self.__narx}\\nEkran dioganali(dyum): \\t\\t{self.__dioganal}\\n\\\n",
    "Ekran o'lchami: \\t\\t\\t{self.__ekran}\\nAsosiy kamera(Mp): \\t\\t{self.__kamera}\\nOld kamera(Mp): \\t\\t\\t{self.__old_kamera}\\n\\\n",
    "Protsessor: \\t\\t\\t{self.__protsessor}\\nRAM(Gb): \\t\\t\\t{self.__ram}\\nDoimiy xotira(Gb): \\t\\t{self.__xotira}\\nQuvvati(mAh): \\t\\t\\t{self.__batareyka}\\n\\\n",
    "Protsessor chastotasi(MHz): \\t{self.__protsessor_chastotasi}\"\n",
    "    def update_narx(self,y_n):\n",
    "        #n = int(input(\"Yangi narx: \"))\n",
    "        self.__narx = y_n\n",
    "    def get_soati(self):\n",
    "        return Telefonlar.__ish_soati*self.__stavka\n",
    "redmi = Telefonlar(\"Redmi\", \"Note 11 pro\", 300, 6.67,\"2400 × 1080\",\"108 + 8 + 2\", 16, \"Qualcomm Snapdragon 695\", 8, 128, 5000, 2200)\n",
    "samsung = Telefonlar(\"Samsung\", \"Galaxy S22 ultra\", 400, 6.8,\"3088 × 1440\",\"108 + 10 + 10 + 12\", 40, \"Samsung Exynos 2200\", 8, 128, 5000, 2800)\n",
    "iphone = Telefonlar(\"Iphone\", \"13 Pro max\", 1200, 6.1,\"1284 × 2778\",\"12 + 12 + 12\", 12, \"Apple A15 Bionic\", 6, 128, 4352, 3200)\n",
    "# print(redmi.get_info())\n",
    "# print(samsung.get_info())\n",
    "\n",
    "root = Tk()\n",
    "root.title(\"Mobil telefonlar\")\n",
    "root.geometry(\"200x100\")\n",
    "def _redmi():\n",
    "    messagebox.showinfo('Redmi Note 11 pro', redmi.get_info())\n",
    "\n",
    "def edit():\n",
    "    newWindow = Toplevel(root)\n",
    "    y_n = Entry(newWindow)\n",
    "    junat = Button(newWindow, text = \"Narxni o'zgartirish\", command=redmi.update_narx(y_n))\n",
    "    y_n.pack()\n",
    "    junat.pack()\n",
    "def _samsung():\n",
    "    messagebox.showinfo('Samsung S22 Ultra', samsung.get_info())\n",
    "def _iphone():\n",
    "    messagebox.showinfo('Iphone 13 Pro max', iphone.get_info())\n",
    "    \n",
    "btn = Button(root, text = \"Redmi\", command = _redmi)\n",
    "btnr = Button(root, text = \"Narx o'zgartirish\", command = edit)\n",
    "btn1 = Button(root, text = \"Samsung\", command = _samsung)\n",
    "btns = Button(root, text = \"Narx o'zgartirish\", command = samsung.update_narx)\n",
    "btn2 = Button(root, text = \"Iphone\", command = _iphone)\n",
    "btni = Button(root, text = \"Narx o'zgartirish\", command = iphone.update_narx)\n",
    "btnexit = Button(root, text = 'Chiqish', command = root.destroy)\n",
    "\n",
    "   \n",
    "btn.place(x=0, y=0)\n",
    "btnr.place(x=100, y=0)\n",
    "btn1.place(x=0, y=25)\n",
    "btns.place(x=100, y=25)\n",
    "btn2.place(x=0, y=50)\n",
    "btni.place(x=100, y=50)\n",
    "btnexit.pack(side = 'bottom') \n",
    " \n",
    "root.mainloop()"
   ]
  },
  {
   "cell_type": "code",
   "execution_count": 10,
   "id": "67efbf59",
   "metadata": {},
   "outputs": [],
   "source": [
    "from tkinter import *\n",
    " \n",
    "root = Tk()\n",
    "root.title(\"App\")\n",
    "root.geometry(\"350x300\")\n",
    "\n",
    "def _redmi():\n",
    "    label.config(\n",
    "     text = redmi.get_info()\n",
    "   )\n",
    "def _samsung():\n",
    "    label.config(\n",
    "     text = samsung.get_info()\n",
    "   )\n",
    "\n",
    "button = Button(\n",
    "  text=\"Redmi\",\n",
    "  command=_redmi\n",
    ")\n",
    "button1 = Button(\n",
    "  text=\"Samsung\",\n",
    "  command=_samsung\n",
    ")\n",
    "button.pack(side=\"top\")\n",
    "button1.pack(side=\"top\")\n",
    " \n",
    "label = Label(\n",
    "  text=\"...\", justify=LEFT\n",
    ")\n",
    "label.pack()\n",
    " \n",
    "root.mainloop()"
   ]
  },
  {
   "cell_type": "code",
   "execution_count": 11,
   "id": "0f6e33e6",
   "metadata": {},
   "outputs": [
    {
     "name": "stdout",
     "output_type": "stream",
     "text": [
      ">>> Buyruqlar (new, info, oylik, ism_fam_uzgar, razryad_uzgar, lavozim_uzgar, aloqa_uzgar, off): off\n"
     ]
    }
   ],
   "source": [
    "# Sistema\n",
    "import re\n",
    "\n",
    "viloyatlar = [\"Toshkent\", \"Andijon\", \"Farg'ona\", \"Namangan\", \"Sirdaryo\", \"Jizzax\", \"Samarqand\", \"Qashqadaryo\",\n",
    "              \"Surxondaryo\", \"Navoiy\", \"Buxoro\", \"Xorazm\", \"Qoraqalpog'iston\"]\n",
    "\n",
    "class Ishchilar:\n",
    "    __mhtekm = 900000\n",
    "    def __init__(self, ism, fam, t_yil, jins, vil, razryad, malumot, pasport, kasbi, ish_tajriba, aloqa, lavozim):\n",
    "        self.__ism = ism\n",
    "        self.__fam = fam\n",
    "        self.__t_yil = t_yil\n",
    "        self.__jins = jins\n",
    "        self.__vil = vil\n",
    "        self.__raz = razryad\n",
    "        self.__malumot = malumot\n",
    "        self.__pasport = pasport\n",
    "        self.__kasbi = kasbi\n",
    "        self.__ish_taj = ish_tajriba\n",
    "        self.__aloqa = aloqa\n",
    "        self.__lavozim = lavozim\n",
    "        self.__oylik = Ishchilar.__mhtekm * self.__raz\n",
    "    # Ishchi ma'lumotlari\n",
    "    def get_info(self):\n",
    "        return f\"Ismi: {self.__ism} \\nFamiliyasi: {self.__fam} \\nTug'ilgan yili: {self.__t_yil} \\nJinsi: {self.__jins} \\\n",
    "\\nViloyati: {self.__vil} \\nIsh razryadi: {self.__raz} \\nMa'lumoti: {self.__malumot} \\nPasporti: {self.__pasport} \\\n",
    "\\nKasbi: {self.__kasbi} \\nIsh tajribasi: {self.__ish_taj} \\nAloqa: {self.__aloqa} \\nLavozimi: {self.__lavozim} \\nOylik maoshi: {self.__oylik}\"\n",
    "    def get_money(self):\n",
    "        return self.__oylik\n",
    "    def update_isfam(self):\n",
    "        isfa = r\"[A-Z]{1}[a-z']+$\"\n",
    "            \n",
    "        yangi_ism = input(\">>> Ism: \")\n",
    "        while not re.match(isfa, yangi_ism):\n",
    "            yangi_ism = input(\">>> Ism: \")\n",
    "                \n",
    "        yangi_fam = input(\">>> Familiya: \")\n",
    "        while not re.match(isfa, yangi_fam):\n",
    "            yangi_fam = input(\">>> Familiya: \")   \n",
    "        self.__ism = yangi_ism\n",
    "        self.__fam = yangi_fam\n",
    "    def update_raz(self):\n",
    "        yangi_razryad = int(input(\">>> Razryadi: \"))\n",
    "        while not re.match(r\"\\d+$\", str(yangi_razryad)):\n",
    "            yangi_razryad = input(\">>> Razryadi: \")\n",
    "        self.__raz = yangi_razryad\n",
    "        self.__oylik = Ishchilar.__mhtekm * self.__raz\n",
    "    def update_pasport(self):\n",
    "        yangi_pasport = input(\">>> Pasport seriya va raqami(AA1234567): \")\n",
    "        while not re.match(r\"[A-Z]{2}[0-9]{7}$\", yangi_pasport):\n",
    "            yangi_pasport = input(\">>> Pasport seriya va raqami(AA1234567): \")\n",
    "        self.__pasport = yangi_pasport\n",
    "    def update_aloqa(self):\n",
    "        yangi_aloqa = input(\">>> Telefon raqami(XXX-XX-XX): \")\n",
    "        while not re.match(r\"[0-9]{3}-[0-9]{2}-[0-9]{2}\", yangi_aloqa):\n",
    "            yangi_aloqa = input(\">>> Telefon raqami(XXX-XX-XX): \")\n",
    "        self.__aloqa = yangi_aloqa\n",
    "    def update_lavozim(self):\n",
    "        yangi_lavozim = input(\">>> Lavozimi: \")\n",
    "        while not re.match(isfa, yangi_lavozim):\n",
    "            yangi_lavozim = input(\">>> Lavozimi: \")\n",
    "        self.__lavozim = yangi_lavozim\n",
    "\n",
    "# Menyu\n",
    "a = True\n",
    "while a:\n",
    "    menu = input(\">>> Buyruqlar (new, info, oylik, ism_fam_uzgar, razryad_uzgar, lavozim_uzgar, aloqa_uzgar, off): \")\n",
    "    # Talaba ma'lumotlarini kiritish\n",
    "    if menu == \"new\":\n",
    "        x = True\n",
    "        while x:\n",
    "            isfa = r\"[A-Z]{1}[a-z']+$\"\n",
    "            yil = r\"(19|20)[0-9]{2}\"\n",
    "            \n",
    "            ism = input(\">>> Ism: \")\n",
    "            while not re.match(isfa, ism):\n",
    "                ism = input(\">>> Ism: \")\n",
    "                \n",
    "            fam = input(\">>> Familiya: \")\n",
    "            while not re.match(isfa, fam):\n",
    "                fam = input(\">>> Familiya: \")\n",
    "                \n",
    "            t_yil = int(input(\">>> Tug'ilgan yil(Yil): \"))\n",
    "            while not re.match(yil, str(t_yil)):\n",
    "                t_yil = int(input(\">>> Tug'ilgan yil(yil): \"))\n",
    "                \n",
    "            jins = input(\">>> Jinsi(Erkak/Ayol): \")\n",
    "            while not re.match(r\"(Erkak|Ayol)$\", jins):\n",
    "                jins = input(\">>> Jinsi(Erkak/Ayol): \")\n",
    "                \n",
    "            vil = input(\">>> Viloyati: \")\n",
    "            while vil not in viloyatlar:\n",
    "                vil = input(\">>> Viloyati: \")\n",
    "                \n",
    "            razryad = int(input(\">>> Razryadi: \"))\n",
    "            while not re.match(r\"\\d+$\", str(razryad)):\n",
    "                razryad = input(\">>> Razryadi: \")\n",
    "                \n",
    "            malumot = input(\">>> Ma'lumoti: \")\n",
    "            while not re.match(isfa, malumot):\n",
    "                malumot = input(\">>> Ma'lumoti: \")\n",
    "            \n",
    "            pasport = input(\">>> Pasport seriya va raqami(AA1234567): \")\n",
    "            while not re.match(r\"[A-Z]{2}[0-9]{7}$\", pasport):\n",
    "                pasport = input(\">>> Pasport seriya va raqami(AA1234567): \")\n",
    "                \n",
    "            kasbi = input(\">>> Kasbi: \")\n",
    "            while not re.match(isfa, kasbi):\n",
    "                kasbi = input(\">>> Kasbi: \")\n",
    "                \n",
    "            lavozim = input(\">>> Lavozimi: \")\n",
    "            while not re.match(isfa, lavozim):\n",
    "                lavozim = input(\">>> Lavozimi: \")\n",
    "                \n",
    "            ish_tajriba = int(input(\">>> Ish tajribasi(Yil): \"))\n",
    "            while not re.match(r\"\\d+\", str(ish_tajriba)):\n",
    "                ish_tajriba = input(\">>> Ish tajribasi(Yil): \")\n",
    "            \n",
    "            aloqa = input(\">>> Telefon raqami(XXX-XX-XX): \")\n",
    "            while not re.match(r\"[0-9]{3}-[0-9]{2}-[0-9]{2}\", aloqa):\n",
    "                aloqa = input(\">>> Telefon raqami(XXX-XX-XX): \")\n",
    "                \n",
    "            kirit = Ishchilar(ism,fam,t_yil, jins, vil, razryad, malumot, pasport, kasbi, ish_tajriba, aloqa, lavozim)\n",
    "            \n",
    "            x = False\n",
    "    elif menu == \"razryad_uzgar\":\n",
    "        kirit.update_raz()\n",
    "    elif menu == \"oylik\":\n",
    "        print(kirit.get_money())\n",
    "    elif menu == \"ism_fam_uzgar\":\n",
    "        kirit.update_isfam()\n",
    "    elif menu == \"lavozim_uzgar\":\n",
    "        kirit.update_lavozim()\n",
    "    elif menu == \"aloqa_uzgar\":\n",
    "        kirit.update_aloqa()\n",
    "    elif menu == \"off\":\n",
    "        a = False\n",
    "    elif menu == \"info\":\n",
    "        print(kirit.get_info())\n",
    "    else:\n",
    "        continue"
   ]
  },
  {
   "cell_type": "code",
   "execution_count": 12,
   "id": "0c31046b",
   "metadata": {},
   "outputs": [
    {
     "ename": "SyntaxError",
     "evalue": "invalid syntax (2230470869.py, line 18)",
     "output_type": "error",
     "traceback": [
      "\u001b[1;36m  Input \u001b[1;32mIn [12]\u001b[1;36m\u001b[0m\n\u001b[1;33m    a = ism+\"_\"+fam:{\"ism\": ism, \"familiya\": fam, \"t_yil\":t_yil, \"jins\": jins \"viloyat\": vil, \"razryad\": razryad, \"malumot\": malumot, \"pasport\":pasport, \"kasbi\": kasbi, \"ish_tajriba\":ish_tajriba, \"aloqa\": aloqa, \"oylik\": kirit.get_money()}\u001b[0m\n\u001b[1;37m                   ^\u001b[0m\n\u001b[1;31mSyntaxError\u001b[0m\u001b[1;31m:\u001b[0m invalid syntax\n"
     ]
    }
   ],
   "source": [
    "import json\n",
    "\n",
    "#     def get_ishchilar(self):\n",
    "#         sikl = len(temp)\n",
    "#         for i in range(sikl):\n",
    "#             print(f\"Ismi: {temp[i][\"ism\"]} \\nFamiliyasi: {temp[i][\"familiya\"]} \\nTug'ilgan yili: {temp[i][\"t_yil\"]} \\nJinsi: {temp[i][\"jins\"]} \\\n",
    "# \\nViloyati: {temp[i][\"viloyat\"]} \\nIsh razryadi: {temp[i][\"razryad\"]} \\nMa'lumoti: {temp[i][\"malumot\"]} \\nPasporti: {temp[i][\"pasport\"]} \\\n",
    "# \\nKasbi: {temp[i][\"kasbi\"]} \\nIsh tajribasi: {temp[i][\"ish_tajriba\"]} \\nAloqa: {temp[i][\"aloqa\"]} \\nOylik maoshi: {temp[i][\"oylik\"]}\")\n",
    "\n",
    "\n",
    "def write_json(data, filename=\"baza.json\"):\n",
    "    with open(filename, \"w\") as f_w:\n",
    "        json.dump(data, f_w, indent=4)\n",
    "\n",
    "with open(\"baza.json\") as f_r:\n",
    "    data = json.load(f_r)\n",
    "    temp = data[\"ishchilar\"]\n",
    "a = ism+\"_\"+fam:{\"ism\": ism, \"familiya\": fam, \"t_yil\":t_yil, \"jins\": jins \"viloyat\": vil, \"razryad\": razryad, \"malumot\": malumot, \"pasport\":pasport, \"kasbi\": kasbi, \"ish_tajriba\":ish_tajriba, \"aloqa\": aloqa, \"oylik\": kirit.get_money()}\n",
    "if temp.count(a) == 0:\n",
    "    temp.append(a)\n",
    "if temp.count(a) > 1:\n",
    "    for _ in range(temp.count(a)-1):\n",
    "        temp.remove(a)\n",
    "write_json(data)"
   ]
  },
  {
   "cell_type": "code",
   "execution_count": null,
   "id": "dd23702b",
   "metadata": {},
   "outputs": [],
   "source": [
    "import json\n",
    "ism = input(\"Ismi: \")\n",
    "fam = input(\"Familiya: \")\n",
    "yosh = int(input(\"Yoshi: \"))\n",
    "def write_json(data, filename=\"baza1.json\"):\n",
    "    with open(filename, \"w\") as f_w:\n",
    "        json.dump(data, f_w, indent=4)\n",
    "\n",
    "with open(\"baza1.json\") as f:\n",
    "    data = json.load(f)\n",
    "    temp = data[\"ishchilar\"]\n",
    "\n",
    "a = {ism+\"_\"+fam:{\"ism\": ism, \"familiya\": fam, \"yosh\": yosh}}\n",
    "if temp.count(a) == 0:\n",
    "    temp.append(a)\n",
    "if temp.count(a) > 1:\n",
    "    for _ in range(temp.count(a)-1):\n",
    "        temp.remove(a)\n",
    "print(temp.index(a))\n",
    "write_json(data)\n",
    "for i in range(len(temp)):\n",
    "    print(temp[i][\"ism\"])"
   ]
  },
  {
   "cell_type": "code",
   "execution_count": null,
   "id": "eabb9102",
   "metadata": {},
   "outputs": [],
   "source": [
    "\n",
    "with open(\"baza.json\") as f_r:\n",
    "    data = json.load(f_r)\n",
    "    temp = data[\"ishchilar\"]\n",
    "print(temp[0][\"ism\"])\n",
    "print(len(temp))"
   ]
  },
  {
   "cell_type": "code",
   "execution_count": null,
   "id": "a2184cc6",
   "metadata": {},
   "outputs": [],
   "source": [
    "def get(self):\n",
    "    return [x for x in dir(self) if not x.startswith('__')]\n",
    "print(get(a))"
   ]
  },
  {
   "cell_type": "code",
   "execution_count": null,
   "id": "75d9e3c4",
   "metadata": {},
   "outputs": [],
   "source": [
    "# Uyga vazifa\n",
    "fanlar = [\"Dasturlash\", \"Algebra\", \"Geometrya\"]\n",
    "class Talaba:\n",
    "    def __init__(self, ism, fan):\n",
    "        self.ism = ism\n",
    "        self.fan = fan\n",
    "    \n",
    "class Fan(Talaba):\n",
    "    tal = []\n",
    "    def __init__(self, ism, fan, fanlar):\n",
    "        super().__init__(ism, fan)\n",
    "        self.fanlar = fanlar\n",
    "    def dasturlash(self):\n",
    "        if self.fan == self.fanlar:\n",
    "            tal.append(self.ism)\n",
    "        return tal\n",
    "\n",
    "\n",
    "talaba_1 = Talaba(\"Abdulla\", \"Dasturlash\")\n",
    "talaba_2 = Talaba(\"Ahmad\", \"Dasturlash\")\n",
    "talaba_3 = Talaba(\"Asror\", \"Algebra\")\n",
    "fan_1 = Fan(fanlar)\n",
    "print(fan_1.dasturlash())"
   ]
  },
  {
   "cell_type": "code",
   "execution_count": null,
   "id": "24eb2135",
   "metadata": {},
   "outputs": [],
   "source": [
    "!pip install numpy"
   ]
  },
  {
   "cell_type": "code",
   "execution_count": null,
   "id": "55f0e81c",
   "metadata": {},
   "outputs": [],
   "source": [
    "!pip install --upgrade pip"
   ]
  },
  {
   "cell_type": "code",
   "execution_count": null,
   "id": "1b4d4771",
   "metadata": {},
   "outputs": [],
   "source": [
    "%time [i for i in range(1000)]"
   ]
  },
  {
   "cell_type": "code",
   "execution_count": 8,
   "id": "9d7887a0",
   "metadata": {},
   "outputs": [
    {
     "name": "stdout",
     "output_type": "stream",
     "text": [
      "\n",
      "NumPy\n",
      "=====\n",
      "\n",
      "Provides\n",
      "  1. An array object of arbitrary homogeneous items\n",
      "  2. Fast mathematical operations over arrays\n",
      "  3. Linear Algebra, Fourier Transforms, Random Number Generation\n",
      "\n",
      "How to use the documentation\n",
      "----------------------------\n",
      "Documentation is available in two forms: docstrings provided\n",
      "with the code, and a loose standing reference guide, available from\n",
      "`the NumPy homepage <https://numpy.org>`_.\n",
      "\n",
      "We recommend exploring the docstrings using\n",
      "`IPython <https://ipython.org>`_, an advanced Python shell with\n",
      "TAB-completion and introspection capabilities.  See below for further\n",
      "instructions.\n",
      "\n",
      "The docstring examples assume that `numpy` has been imported as `np`::\n",
      "\n",
      "  >>> import numpy as np\n",
      "\n",
      "Code snippets are indicated by three greater-than signs::\n",
      "\n",
      "  >>> x = 42\n",
      "  >>> x = x + 1\n",
      "\n",
      "Use the built-in ``help`` function to view a function's docstring::\n",
      "\n",
      "  >>> help(np.sort)\n",
      "  ... # doctest: +SKIP\n",
      "\n",
      "For some objects, ``np.info(obj)`` may provide additional help.  This is\n",
      "particularly true if you see the line \"Help on ufunc object:\" at the top\n",
      "of the help() page.  Ufuncs are implemented in C, not Python, for speed.\n",
      "The native Python help() does not know how to view their help, but our\n",
      "np.info() function does.\n",
      "\n",
      "To search for documents containing a keyword, do::\n",
      "\n",
      "  >>> np.lookfor('keyword')\n",
      "  ... # doctest: +SKIP\n",
      "\n",
      "General-purpose documents like a glossary and help on the basic concepts\n",
      "of numpy are available under the ``doc`` sub-module::\n",
      "\n",
      "  >>> from numpy import doc\n",
      "  >>> help(doc)\n",
      "  ... # doctest: +SKIP\n",
      "\n",
      "Available subpackages\n",
      "---------------------\n",
      "lib\n",
      "    Basic functions used by several sub-packages.\n",
      "random\n",
      "    Core Random Tools\n",
      "linalg\n",
      "    Core Linear Algebra Tools\n",
      "fft\n",
      "    Core FFT routines\n",
      "polynomial\n",
      "    Polynomial tools\n",
      "testing\n",
      "    NumPy testing tools\n",
      "distutils\n",
      "    Enhancements to distutils with support for\n",
      "    Fortran compilers support and more.\n",
      "\n",
      "Utilities\n",
      "---------\n",
      "test\n",
      "    Run numpy unittests\n",
      "show_config\n",
      "    Show numpy build configuration\n",
      "dual\n",
      "    Overwrite certain functions with high-performance SciPy tools.\n",
      "    Note: `numpy.dual` is deprecated.  Use the functions from NumPy or Scipy\n",
      "    directly instead of importing them from `numpy.dual`.\n",
      "matlib\n",
      "    Make everything matrices.\n",
      "__version__\n",
      "    NumPy version string\n",
      "\n",
      "Viewing documentation using IPython\n",
      "-----------------------------------\n",
      "Start IPython with the NumPy profile (``ipython -p numpy``), which will\n",
      "import `numpy` under the alias `np`.  Then, use the ``cpaste`` command to\n",
      "paste examples into the shell.  To see which functions are available in\n",
      "`numpy`, type ``np.<TAB>`` (where ``<TAB>`` refers to the TAB key), or use\n",
      "``np.*cos*?<ENTER>`` (where ``<ENTER>`` refers to the ENTER key) to narrow\n",
      "down the list.  To view the docstring for a function, use\n",
      "``np.cos?<ENTER>`` (to view the docstring) and ``np.cos??<ENTER>`` (to view\n",
      "the source code).\n",
      "\n",
      "Copies vs. in-place operation\n",
      "-----------------------------\n",
      "Most of the functions in `numpy` return a copy of the array argument\n",
      "(e.g., `np.sort`).  In-place versions of these functions are often\n",
      "available as array methods, i.e. ``x = np.array([1,2,3]); x.sort()``.\n",
      "Exceptions to this rule are documented.\n",
      "\n",
      "\n"
     ]
    }
   ],
   "source": [
    "import numpy as np\n",
    "print(np.__doc__)"
   ]
  },
  {
   "cell_type": "code",
   "execution_count": 2,
   "id": "e3028c61",
   "metadata": {},
   "outputs": [],
   "source": [
    "a = np.array([[1,2,3],[4,5,6],[7,8,9]])"
   ]
  },
  {
   "cell_type": "code",
   "execution_count": 10,
   "id": "db6867c1",
   "metadata": {},
   "outputs": [
    {
     "name": "stdout",
     "output_type": "stream",
     "text": [
      "9\n"
     ]
    }
   ],
   "source": [
    "print(a.size)"
   ]
  },
  {
   "cell_type": "code",
   "execution_count": 11,
   "id": "6b9bce1e",
   "metadata": {},
   "outputs": [
    {
     "name": "stdout",
     "output_type": "stream",
     "text": [
      "[[1 2 3]\n",
      " [4 5 6]\n",
      " [7 8 9]]\n"
     ]
    }
   ],
   "source": [
    "print(a)"
   ]
  },
  {
   "cell_type": "code",
   "execution_count": 13,
   "id": "1211d925",
   "metadata": {},
   "outputs": [],
   "source": [
    "b = np.ones((4,4,4))"
   ]
  },
  {
   "cell_type": "code",
   "execution_count": 14,
   "id": "cccb6518",
   "metadata": {},
   "outputs": [
    {
     "name": "stdout",
     "output_type": "stream",
     "text": [
      "[[[1. 1. 1. 1.]\n",
      "  [1. 1. 1. 1.]\n",
      "  [1. 1. 1. 1.]\n",
      "  [1. 1. 1. 1.]]\n",
      "\n",
      " [[1. 1. 1. 1.]\n",
      "  [1. 1. 1. 1.]\n",
      "  [1. 1. 1. 1.]\n",
      "  [1. 1. 1. 1.]]\n",
      "\n",
      " [[1. 1. 1. 1.]\n",
      "  [1. 1. 1. 1.]\n",
      "  [1. 1. 1. 1.]\n",
      "  [1. 1. 1. 1.]]\n",
      "\n",
      " [[1. 1. 1. 1.]\n",
      "  [1. 1. 1. 1.]\n",
      "  [1. 1. 1. 1.]\n",
      "  [1. 1. 1. 1.]]]\n"
     ]
    }
   ],
   "source": [
    "print(b)"
   ]
  },
  {
   "cell_type": "code",
   "execution_count": 43,
   "id": "6352afb2",
   "metadata": {},
   "outputs": [],
   "source": [
    "c = np.ones((4,4), dtype=np.uint8)"
   ]
  },
  {
   "cell_type": "code",
   "execution_count": 44,
   "id": "a30558b9",
   "metadata": {},
   "outputs": [
    {
     "name": "stdout",
     "output_type": "stream",
     "text": [
      "[[1 1 1 1]\n",
      " [1 1 1 1]\n",
      " [1 1 1 1]\n",
      " [1 1 1 1]]\n"
     ]
    }
   ],
   "source": [
    "print(c)"
   ]
  },
  {
   "cell_type": "code",
   "execution_count": 39,
   "id": "086b6d67",
   "metadata": {},
   "outputs": [],
   "source": [
    "x = np.ones_like(a)"
   ]
  },
  {
   "cell_type": "code",
   "execution_count": 40,
   "id": "e6b89249",
   "metadata": {},
   "outputs": [
    {
     "name": "stdout",
     "output_type": "stream",
     "text": [
      "[[1 1 1]\n",
      " [1 1 1]\n",
      " [1 1 1]]\n"
     ]
    }
   ],
   "source": [
    "print(x)"
   ]
  },
  {
   "cell_type": "code",
   "execution_count": 53,
   "id": "fb6fbd77",
   "metadata": {},
   "outputs": [
    {
     "name": "stdout",
     "output_type": "stream",
     "text": [
      "[[[ 0  1  2]\n",
      "  [ 3  4  5]]\n",
      "\n",
      " [[ 6  7  8]\n",
      "  [ 9 10 11]]\n",
      "\n",
      " [[12 13 14]\n",
      "  [15 16 17]]]\n",
      "\n",
      "[[13 14]\n",
      " [16 17]]\n"
     ]
    }
   ],
   "source": [
    "np_3d = np.arange(18).reshape(3,2,3)\n",
    "print(np_3d)\n",
    "print()\n",
    "print(np_3d[2,:,1:])"
   ]
  },
  {
   "cell_type": "code",
   "execution_count": 52,
   "id": "12924788",
   "metadata": {},
   "outputs": [
    {
     "data": {
      "text/plain": [
       "array([[1, 6, 2, 2, 2, 4, 3, 2, 7, 4],\n",
       "       [3, 4, 3, 6, 5, 7, 4, 6, 3, 6],\n",
       "       [5, 7, 6, 1, 8, 4, 3, 7, 8, 6],\n",
       "       [8, 3, 1, 4, 8, 3, 2, 2, 5, 8],\n",
       "       [5, 7, 7, 2, 1, 3, 5, 8, 1, 8],\n",
       "       [4, 2, 2, 3, 2, 3, 6, 1, 7, 2],\n",
       "       [2, 8, 7, 4, 1, 2, 1, 5, 4, 1],\n",
       "       [6, 4, 4, 3, 1, 1, 2, 3, 5, 6],\n",
       "       [7, 8, 4, 7, 6, 1, 4, 4, 8, 4],\n",
       "       [5, 4, 3, 3, 7, 1, 7, 6, 5, 5]])"
      ]
     },
     "execution_count": 52,
     "metadata": {},
     "output_type": "execute_result"
    }
   ],
   "source": [
    "np_2 = np.random.randint(1,9,size=(10,10))\n",
    "np_2"
   ]
  },
  {
   "cell_type": "code",
   "execution_count": 53,
   "id": "65eae2a5",
   "metadata": {},
   "outputs": [],
   "source": [
    "np_2[2:8,2:8] = 0"
   ]
  },
  {
   "cell_type": "code",
   "execution_count": 54,
   "id": "69d822a5",
   "metadata": {},
   "outputs": [
    {
     "data": {
      "text/plain": [
       "array([[1, 6, 2, 2, 2, 4, 3, 2, 7, 4],\n",
       "       [3, 4, 3, 6, 5, 7, 4, 6, 3, 6],\n",
       "       [5, 7, 0, 0, 0, 0, 0, 0, 8, 6],\n",
       "       [8, 3, 0, 0, 0, 0, 0, 0, 5, 8],\n",
       "       [5, 7, 0, 0, 0, 0, 0, 0, 1, 8],\n",
       "       [4, 2, 0, 0, 0, 0, 0, 0, 7, 2],\n",
       "       [2, 8, 0, 0, 0, 0, 0, 0, 4, 1],\n",
       "       [6, 4, 0, 0, 0, 0, 0, 0, 5, 6],\n",
       "       [7, 8, 4, 7, 6, 1, 4, 4, 8, 4],\n",
       "       [5, 4, 3, 3, 7, 1, 7, 6, 5, 5]])"
      ]
     },
     "execution_count": 54,
     "metadata": {},
     "output_type": "execute_result"
    }
   ],
   "source": [
    "np_2"
   ]
  },
  {
   "cell_type": "code",
   "execution_count": 3,
   "id": "64ca9a71",
   "metadata": {},
   "outputs": [
    {
     "name": "stdout",
     "output_type": "stream",
     "text": [
      "Xursand\n",
      "30\n",
      "My name is Xursand\n"
     ]
    }
   ],
   "source": [
    "class Person:\n",
    "    def __init__(self,name,age):\n",
    "        self.name = name\n",
    "        self.age = age\n",
    "    def myfunc(self):\n",
    "        return f\"My name is {self.name}\"\n",
    "\n",
    "name = input()\n",
    "age = input()\n",
    "pers = Person(name, age)\n",
    "print(pers.myfunc())"
   ]
  },
  {
   "cell_type": "code",
   "execution_count": 27,
   "id": "490ccbd3",
   "metadata": {},
   "outputs": [
    {
     "name": "stdout",
     "output_type": "stream",
     "text": [
      "2\n",
      "1\n",
      "2\n",
      "3\n",
      "4\n",
      "[[3 1]\n",
      " [4 2]]\n"
     ]
    }
   ],
   "source": [
    "import numpy as np\n",
    "n = int(input())\n",
    "np = np.ones((n,n), dtype=np.uint8)\n",
    "i = 0\n",
    "for i in range(n):\n",
    "    for j in range(n):\n",
    "        m = int(input())\n",
    "        np[j,-i+1] = m\n",
    "print(np)"
   ]
  },
  {
   "cell_type": "markdown",
   "id": "06a84e93",
   "metadata": {},
   "source": [
    "## "
   ]
  }
 ],
 "metadata": {
  "kernelspec": {
   "display_name": "Python 3 (ipykernel)",
   "language": "python",
   "name": "python3"
  },
  "language_info": {
   "codemirror_mode": {
    "name": "ipython",
    "version": 3
   },
   "file_extension": ".py",
   "mimetype": "text/x-python",
   "name": "python",
   "nbconvert_exporter": "python",
   "pygments_lexer": "ipython3",
   "version": "3.9.9"
  },
  "latex_envs": {
   "LaTeX_envs_menu_present": true,
   "autoclose": false,
   "autocomplete": true,
   "bibliofile": "biblio.bib",
   "cite_by": "apalike",
   "current_citInitial": 1,
   "eqLabelWithNumbers": true,
   "eqNumInitial": 1,
   "hotkeys": {
    "equation": "Ctrl-E",
    "itemize": "Ctrl-I"
   },
   "labels_anchors": false,
   "latex_user_defs": false,
   "report_style_numbering": false,
   "user_envs_cfg": false
  },
  "varInspector": {
   "cols": {
    "lenName": 16,
    "lenType": 16,
    "lenVar": 40
   },
   "kernels_config": {
    "python": {
     "delete_cmd_postfix": "",
     "delete_cmd_prefix": "del ",
     "library": "var_list.py",
     "varRefreshCmd": "print(var_dic_list())"
    },
    "r": {
     "delete_cmd_postfix": ") ",
     "delete_cmd_prefix": "rm(",
     "library": "var_list.r",
     "varRefreshCmd": "cat(var_dic_list()) "
    }
   },
   "types_to_exclude": [
    "module",
    "function",
    "builtin_function_or_method",
    "instance",
    "_Feature"
   ],
   "window_display": false
  }
 },
 "nbformat": 4,
 "nbformat_minor": 5
}
