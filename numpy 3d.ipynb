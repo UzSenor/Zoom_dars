{
 "cells": [
  {
   "cell_type": "code",
   "execution_count": 1,
   "id": "1976a564",
   "metadata": {},
   "outputs": [],
   "source": [
    "import numpy as np"
   ]
  },
  {
   "cell_type": "code",
   "execution_count": 12,
   "id": "f5be9179",
   "metadata": {},
   "outputs": [
    {
     "name": "stdout",
     "output_type": "stream",
     "text": [
      "[[[ 8 23 21]\n",
      "  [18 13 12]\n",
      "  [10 12 22]]\n",
      "\n",
      " [[13  7 18]\n",
      "  [23 18 21]\n",
      "  [25  9 21]]\n",
      "\n",
      " [[11  6  4]\n",
      "  [23  6 12]\n",
      "  [11  5 21]]]\n",
      "-----------------\n",
      "[[[25  6 14]\n",
      "  [ 6 15 23]\n",
      "  [24 13 23]]\n",
      "\n",
      " [[ 7  7 25]\n",
      "  [22 25 26]\n",
      "  [17 18 23]]\n",
      "\n",
      " [[24  8 25]\n",
      "  [18 22  2]\n",
      "  [ 1 23 19]]]\n"
     ]
    }
   ],
   "source": [
    "np_1 = np.random.randint(1,28, size=(3,3,3))\n",
    "np_2 = np.random.randint(1,28, size=(3,3,3))\n",
    "print(np_1)\n",
    "print(\"-----------------\")\n",
    "print(np_2)"
   ]
  },
  {
   "cell_type": "markdown",
   "id": "4a5f7b3b",
   "metadata": {},
   "source": [
    "# Oddiy tekshirish"
   ]
  },
  {
   "cell_type": "code",
   "execution_count": 14,
   "id": "403ca67c",
   "metadata": {},
   "outputs": [
    {
     "data": {
      "text/plain": [
       "array([[[False,  True,  True],\n",
       "        [ True, False, False],\n",
       "        [False, False, False]],\n",
       "\n",
       "       [[ True, False, False],\n",
       "        [ True, False, False],\n",
       "        [ True, False, False]],\n",
       "\n",
       "       [[False, False, False],\n",
       "        [ True, False,  True],\n",
       "        [ True, False,  True]]])"
      ]
     },
     "execution_count": 14,
     "metadata": {},
     "output_type": "execute_result"
    }
   ],
   "source": [
    "np_1>np_2"
   ]
  },
  {
   "cell_type": "code",
   "execution_count": 17,
   "id": "e8f3af8b",
   "metadata": {},
   "outputs": [
    {
     "data": {
      "text/plain": [
       "array([[[25, 23, 21],\n",
       "        [18, 15, 23],\n",
       "        [24, 13, 23]],\n",
       "\n",
       "       [[13,  7, 25],\n",
       "        [23, 25, 26],\n",
       "        [25, 18, 23]],\n",
       "\n",
       "       [[24,  8, 25],\n",
       "        [23, 22, 12],\n",
       "        [11, 23, 21]]])"
      ]
     },
     "execution_count": 17,
     "metadata": {},
     "output_type": "execute_result"
    }
   ],
   "source": [
    "np.where(np_1>np_2,np_1,np_2)"
   ]
  },
  {
   "cell_type": "markdown",
   "id": "06451faa",
   "metadata": {},
   "source": [
    "# Funksiya bilan tekshirish"
   ]
  },
  {
   "cell_type": "code",
   "execution_count": 69,
   "id": "6cc537c9",
   "metadata": {},
   "outputs": [],
   "source": [
    "def np_3d(np_1,np_2):\n",
    "    if np_1>np_2:\n",
    "        return True\n",
    "    return False"
   ]
  },
  {
   "cell_type": "code",
   "execution_count": 70,
   "id": "64f63350",
   "metadata": {},
   "outputs": [
    {
     "data": {
      "text/plain": [
       "array('np_2', dtype='<U4')"
      ]
     },
     "execution_count": 70,
     "metadata": {},
     "output_type": "execute_result"
    }
   ],
   "source": [
    "np.where(np_3d(np_1.all(),np_2.all()),\"np_1\",\"np_2\")"
   ]
  },
  {
   "cell_type": "markdown",
   "id": "8945c6fb",
   "metadata": {},
   "source": [
    "# Class bilan tekshirish"
   ]
  },
  {
   "cell_type": "code",
   "execution_count": 66,
   "id": "90d76705",
   "metadata": {},
   "outputs": [],
   "source": [
    "class NP_3d:\n",
    "    def __init__(self,np_1,np_2):\n",
    "        self.__np_1 = np_1\n",
    "        self.__np_2 = np_2\n",
    "    def solishtirish(self):\n",
    "        if self.__np_1 > self.__np_2:\n",
    "            return True\n",
    "        return False"
   ]
  },
  {
   "cell_type": "code",
   "execution_count": 67,
   "id": "4060b025",
   "metadata": {},
   "outputs": [],
   "source": [
    "np1 = NP_3d(np_1.all(),np_2.all())"
   ]
  },
  {
   "cell_type": "code",
   "execution_count": 68,
   "id": "385d4b9d",
   "metadata": {},
   "outputs": [
    {
     "name": "stdout",
     "output_type": "stream",
     "text": [
      "np_2 np_2 np_2 "
     ]
    }
   ],
   "source": [
    "for i in range(len(np_1)):\n",
    "    print(np.where(np1.solishtirish(),\"np_1\",\"np_2\"), end=\" \")"
   ]
  },
  {
   "cell_type": "code",
   "execution_count": 90,
   "id": "7ad12134",
   "metadata": {},
   "outputs": [
    {
     "name": "stdout",
     "output_type": "stream",
     "text": [
      "0 0 0 0 0 0 0 0 0 0 0 0 0 0 0 0 0 0 0 0 0 0 0 0 0 0 0 "
     ]
    }
   ],
   "source": [
    "class NP_3d1:\n",
    "    def __init__(self,np_1,np_2):\n",
    "        self.__np_1 = np_1\n",
    "        self.__np_2 = np_2\n",
    "    def __lt__(self):\n",
    "        return True\n",
    "    def __gt__(self):\n",
    "        return False\n",
    "    def kat(self):\n",
    "        for i in range(len(np_1)):\n",
    "            for j in range(len(np_1[i])):\n",
    "                for k in range(len(np_1[i][j])):\n",
    "                    if np_1[i][j][k].all()>np_2[i][j][k].all():\n",
    "                        return True\n",
    "        return False\n",
    "for i in range(len(np_1)):\n",
    "    for j in range(len(np_1[i])):\n",
    "        for k in range(len(np_1[i][j])):\n",
    "            np2 = NP_3d1(np_1[i][j][k].all(),np_2[i][j][k].all())\n",
    "            print(np.where(np2.kat(),1,0), end=\" \")"
   ]
  },
  {
   "cell_type": "code",
   "execution_count": 91,
   "id": "3806ff2e",
   "metadata": {},
   "outputs": [
    {
     "name": "stdout",
     "output_type": "stream",
     "text": [
      "[[[  3   5   0]\n",
      "  [  5  -5  -2]\n",
      "  [-13   0   2]]\n",
      "\n",
      " [[ 10  -8 -13]\n",
      "  [ -8 -12  -9]\n",
      "  [  6  -2 -12]]\n",
      "\n",
      " [[-13   5  -8]\n",
      "  [ -3   5   6]\n",
      "  [ 10 -13 -11]]]\n",
      "-----------------\n",
      "[[[-13  12  -1]\n",
      "  [ 12  -7  -3]\n",
      "  [ -7   2  11]]\n",
      "\n",
      " [[ -3  10  -8]\n",
      "  [-14 -12  -5]\n",
      "  [ 11 -10  -5]]\n",
      "\n",
      " [[  0  -3   3]\n",
      "  [  0 -13  -3]\n",
      "  [  0   7  -4]]]\n"
     ]
    }
   ],
   "source": [
    "np_3 = np.random.randint(-14,13, size=(3,3,3))\n",
    "np_4 = np.random.randint(-14,13, size=(3,3,3))\n",
    "print(np_3)\n",
    "print(\"-----------------\")\n",
    "print(np_4)"
   ]
  },
  {
   "cell_type": "code",
   "execution_count": 92,
   "id": "aafd943a",
   "metadata": {},
   "outputs": [
    {
     "data": {
      "text/plain": [
       "array([[[  3,  12,   0],\n",
       "        [ 12,  -5,  -2],\n",
       "        [ -7,   2,  11]],\n",
       "\n",
       "       [[ 10,  10,  -8],\n",
       "        [ -8, -12,  -5],\n",
       "        [ 11,  -2,  -5]],\n",
       "\n",
       "       [[  0,   5,   3],\n",
       "        [  0,   5,   6],\n",
       "        [ 10,   7,  -4]]])"
      ]
     },
     "execution_count": 92,
     "metadata": {},
     "output_type": "execute_result"
    }
   ],
   "source": [
    "np.where(np_3>np_4,np_3,np_4)"
   ]
  },
  {
   "cell_type": "code",
   "execution_count": 93,
   "id": "aff83db3",
   "metadata": {},
   "outputs": [
    {
     "data": {
      "text/plain": [
       "array([[[  3,   4,   0],\n",
       "        [  4,  -7,  -4],\n",
       "        [-15,   0,   2]],\n",
       "\n",
       "       [[  8,   8, -16],\n",
       "        [-16, -12, -13],\n",
       "        [  2, -10, -16]],\n",
       "\n",
       "       [[  0,   5,   0],\n",
       "        [  0,   1,   4],\n",
       "        [  0,   3, -12]]])"
      ]
     },
     "execution_count": 93,
     "metadata": {},
     "output_type": "execute_result"
    }
   ],
   "source": [
    "np_3 & np_4"
   ]
  },
  {
   "cell_type": "code",
   "execution_count": 94,
   "id": "882e7ae9",
   "metadata": {},
   "outputs": [
    {
     "data": {
      "text/plain": [
       "array([[[ 0,  0,  0],\n",
       "        [ 0, -1, -1],\n",
       "        [-2,  0,  0]],\n",
       "\n",
       "       [[ 1, -1, -2],\n",
       "        [-1, -2, -2],\n",
       "        [ 0, -1, -2]],\n",
       "\n",
       "       [[-2,  0, -1],\n",
       "        [-1,  0,  0],\n",
       "        [ 1, -2, -2]]], dtype=int32)"
      ]
     },
     "execution_count": 94,
     "metadata": {},
     "output_type": "execute_result"
    }
   ],
   "source": [
    "np_3 >> 3"
   ]
  },
  {
   "cell_type": "code",
   "execution_count": 95,
   "id": "1307c2fa",
   "metadata": {},
   "outputs": [
    {
     "data": {
      "text/plain": [
       "array([[[  21,    1,  -18],\n",
       "        [-111,   91,  -12],\n",
       "        [ 155, -152,   35]],\n",
       "\n",
       "       [[ -61,  326,   25],\n",
       "        [  93,  154,  169],\n",
       "        [-122,  204,   22]],\n",
       "\n",
       "       [[   0,  -82,  -22],\n",
       "        [   0,  -14,  -48],\n",
       "        [   0,   62,  113]]])"
      ]
     },
     "execution_count": 95,
     "metadata": {},
     "output_type": "execute_result"
    }
   ],
   "source": [
    "np_3 @ np_4"
   ]
  },
  {
   "cell_type": "code",
   "execution_count": null,
   "id": "5c8c320a",
   "metadata": {},
   "outputs": [],
   "source": []
  }
 ],
 "metadata": {
  "kernelspec": {
   "display_name": "Python 3 (ipykernel)",
   "language": "python",
   "name": "python3"
  },
  "language_info": {
   "codemirror_mode": {
    "name": "ipython",
    "version": 3
   },
   "file_extension": ".py",
   "mimetype": "text/x-python",
   "name": "python",
   "nbconvert_exporter": "python",
   "pygments_lexer": "ipython3",
   "version": "3.9.9"
  },
  "varInspector": {
   "cols": {
    "lenName": 16,
    "lenType": 16,
    "lenVar": 40
   },
   "kernels_config": {
    "python": {
     "delete_cmd_postfix": "",
     "delete_cmd_prefix": "del ",
     "library": "var_list.py",
     "varRefreshCmd": "print(var_dic_list())"
    },
    "r": {
     "delete_cmd_postfix": ") ",
     "delete_cmd_prefix": "rm(",
     "library": "var_list.r",
     "varRefreshCmd": "cat(var_dic_list()) "
    }
   },
   "types_to_exclude": [
    "module",
    "function",
    "builtin_function_or_method",
    "instance",
    "_Feature"
   ],
   "window_display": false
  }
 },
 "nbformat": 4,
 "nbformat_minor": 5
}
