{
 "cells": [
  {
   "cell_type": "code",
   "execution_count": 9,
   "id": "65ade00e",
   "metadata": {
    "scrolled": true
   },
   "outputs": [
    {
     "name": "stdout",
     "output_type": "stream",
     "text": [
      "M = 5\n",
      "N = 5\n",
      "0\t0\t0\t0\t0\n",
      "10\t10\t10\t10\t10\n",
      "20\t20\t20\t20\t20\n",
      "30\t30\t30\t30\t30\n",
      "40\t40\t40\t40\t40\n",
      "\n"
     ]
    }
   ],
   "source": [
    "# Matrix 1\n",
    "\n",
    "m = int(input(\"M = \"))\n",
    "n = int(input(\"N = \"))\n",
    "matrix = [[i*10 for _ in range(m)] for i in range(n)]\n",
    "\n",
    "for i in matrix:\n",
    "    print(*i, sep=\"\\t\")\n",
    "print()"
   ]
  },
  {
   "cell_type": "code",
   "execution_count": 12,
   "id": "6db50d1e",
   "metadata": {},
   "outputs": [
    {
     "name": "stdout",
     "output_type": "stream",
     "text": [
      "M = 5\n",
      "N = 4\n",
      "0\t5\t10\t15\t20\n",
      "0\t5\t10\t15\t20\n",
      "0\t5\t10\t15\t20\n",
      "0\t5\t10\t15\t20\n",
      "\n"
     ]
    }
   ],
   "source": [
    "# Matrix 2\n",
    "\n",
    "m = int(input(\"M = \"))\n",
    "n = int(input(\"N = \"))\n",
    "matrix = [[i*5 for i in range(m)] for i in range(n)]\n",
    "\n",
    "for i in matrix:\n",
    "    print(*i, sep=\"\\t\")\n",
    "print()"
   ]
  },
  {
   "cell_type": "code",
   "execution_count": 26,
   "id": "ddbf2ac8",
   "metadata": {},
   "outputs": [
    {
     "name": "stdout",
     "output_type": "stream",
     "text": [
      "M = 5\n",
      "N = 8\n",
      "9\t9\t9\t9\t9\t9\t9\t9\n",
      "1\t1\t1\t1\t1\t1\t1\t1\n",
      "4\t4\t4\t4\t4\t4\t4\t4\n",
      "5\t5\t5\t5\t5\t5\t5\t5\n",
      "5\t5\t5\t5\t5\t5\t5\t5\n",
      "\n"
     ]
    }
   ],
   "source": [
    "# Matrix 3\n",
    "from random import randint\n",
    "m = int(input(\"M = \"))\n",
    "n = int(input(\"N = \"))\n",
    "massiv = [randint(1,9) for i in range(n)]\n",
    "matrix = []\n",
    "for i in range(m):\n",
    "    matrix.append([massiv[i] for _ in range(n)])\n",
    "        \n",
    "for i in matrix:\n",
    "    print(*i, sep=\"\\t\")\n",
    "print()"
   ]
  },
  {
   "cell_type": "code",
   "execution_count": 7,
   "id": "5b31e299",
   "metadata": {},
   "outputs": [
    {
     "name": "stdout",
     "output_type": "stream",
     "text": [
      "M = 5\n",
      "N = 8\n",
      "5\t5\t7\t6\t5\t2\t2\t9\n",
      "5\t5\t7\t6\t5\t2\t2\t9\n",
      "5\t5\t7\t6\t5\t2\t2\t9\n",
      "5\t5\t7\t6\t5\t2\t2\t9\n",
      "5\t5\t7\t6\t5\t2\t2\t9\n",
      "\n"
     ]
    }
   ],
   "source": [
    "# Matrix 4\n",
    "from random import randint\n",
    "m = int(input(\"M = \"))\n",
    "n = int(input(\"N = \"))\n",
    "massiv = [randint(1,9) for i in range(n)]\n",
    "matrix = []\n",
    "for i in range(m):\n",
    "    matrix.append(massiv)\n",
    "        \n",
    "for i in matrix:\n",
    "    print(*i, sep=\"\\t\")\n",
    "print()"
   ]
  },
  {
   "cell_type": "code",
   "execution_count": 4,
   "id": "b9756520",
   "metadata": {},
   "outputs": [
    {
     "name": "stdout",
     "output_type": "stream",
     "text": [
      "M = 5\n",
      "N = 4\n",
      "D = 2\n",
      "[1, 2, 3, 1, 1]\n",
      "1 3 5 7\n",
      "2 4 6 8\n",
      "3 5 7 9\n",
      "1 3 5 7\n",
      "1 3 5 7\n"
     ]
    }
   ],
   "source": [
    "# Matrix 5\n",
    "from random import randint\n",
    "m = int(input(\"M = \"))\n",
    "n = int(input(\"N = \"))\n",
    "d = int(input(\"D = \"))\n",
    "massiv = [randint(1,3) for i in range(m)]\n",
    "print(massiv)\n",
    "\n",
    "matrix = []\n",
    "for i in range(m):\n",
    "    massiv1 = [massiv[i]]\n",
    "    for j in range(1,n):\n",
    "        massiv1.append(massiv1[-1]+d)\n",
    "    matrix.append(massiv1)\n",
    "        \n",
    "for i in matrix:\n",
    "    print(*i)\n",
    "    \n"
   ]
  },
  {
   "cell_type": "code",
   "execution_count": 6,
   "id": "ceccfa33",
   "metadata": {},
   "outputs": [
    {
     "name": "stdout",
     "output_type": "stream",
     "text": [
      "M = 5\n",
      "N = 4\n",
      "D = 2\n",
      "[2, 2, 1, 1, 1]\n",
      "2\t4\t8\t16\n",
      "2\t4\t8\t16\n",
      "1\t2\t4\t8\n",
      "1\t2\t4\t8\n",
      "1\t2\t4\t8\n"
     ]
    }
   ],
   "source": [
    "# Matrix 6\n",
    "from random import randint\n",
    "m = int(input(\"M = \"))\n",
    "n = int(input(\"N = \"))\n",
    "d = int(input(\"D = \"))\n",
    "massiv = [randint(1,3) for i in range(m)]\n",
    "print(massiv)\n",
    "\n",
    "matrix = []\n",
    "for i in range(m):\n",
    "    massiv1 = [massiv[i]]\n",
    "    for j in range(1,n):\n",
    "        massiv1.append(massiv1[-1]*d)\n",
    "    matrix.append(massiv1)\n",
    "        \n",
    "for i in matrix:\n",
    "    print(*i, sep=\"\\t\")"
   ]
  },
  {
   "cell_type": "code",
   "execution_count": 9,
   "id": "3d4b09f0",
   "metadata": {},
   "outputs": [
    {
     "name": "stdout",
     "output_type": "stream",
     "text": [
      "M = 5\n",
      "N = 4\n",
      "K = 2\n",
      "9 6 8 5\n",
      "6 2 7 6\n",
      "3 5 2 5\n",
      "1 6 9 1\n",
      "8 6 6 2\n",
      "[3, 5, 2, 5] "
     ]
    }
   ],
   "source": [
    "# Matrix 7\n",
    "from random import randint\n",
    "m = int(input(\"M = \"))\n",
    "n = int(input(\"N = \"))\n",
    "k = int(input(\"K = \"))\n",
    "matrix = [[randint(1,9) for i in range(n)] for i in range(m)]\n",
    "for i in matrix:\n",
    "    print(*i, sep=\" \")\n",
    "print(matrix[k], end=\" \")"
   ]
  },
  {
   "cell_type": "code",
   "execution_count": 10,
   "id": "526d115d",
   "metadata": {},
   "outputs": [
    {
     "name": "stdout",
     "output_type": "stream",
     "text": [
      "M = 5\n",
      "N = 4\n",
      "K = 2\n",
      "8 8 9 6\n",
      "4 8 6 6\n",
      "9 6 7 1\n",
      "5 7 1 9\n",
      "1 3 8 7\n",
      "9\n",
      "6\n",
      "7\n",
      "1\n",
      "8\n"
     ]
    }
   ],
   "source": [
    "# Matrix 8\n",
    "from random import randint\n",
    "m = int(input(\"M = \"))\n",
    "n = int(input(\"N = \"))\n",
    "k = int(input(\"K = \"))\n",
    "matrix = [[randint(1,9) for i in range(n)] for i in range(m)]\n",
    "for i in matrix:\n",
    "    print(*i)\n",
    "\n",
    "for i in matrix:\n",
    "    print(i[k], end=\"\\n\")"
   ]
  },
  {
   "cell_type": "code",
   "execution_count": 14,
   "id": "b30907c1",
   "metadata": {},
   "outputs": [
    {
     "name": "stdout",
     "output_type": "stream",
     "text": [
      "M = 5\n",
      "N = 4\n",
      "8 1 6 8\n",
      "2 8 4 8\n",
      "6 6 2 1\n",
      "1 7 4 6\n",
      "2 6 6 3\n",
      "\n",
      "[8, 1, 6, 8]\n",
      "[6, 6, 2, 1]\n",
      "[2, 6, 6, 3]\n"
     ]
    }
   ],
   "source": [
    "# Matrix 9\n",
    "from random import randint\n",
    "m = int(input(\"M = \"))\n",
    "n = int(input(\"N = \"))\n",
    "matrix = [[randint(1,9) for i in range(n)] for i in range(m)]\n",
    "for i in matrix:\n",
    "    print(*i)\n",
    "print()\n",
    "\n",
    "for i in range(0,m,2):\n",
    "    print(matrix[i], end=\"\\n\")"
   ]
  },
  {
   "cell_type": "code",
   "execution_count": 12,
   "id": "e9d66360",
   "metadata": {},
   "outputs": [
    {
     "name": "stdout",
     "output_type": "stream",
     "text": [
      "M = 5\n",
      "N = 6\n",
      "9 5 2 1 7 1\n",
      "3 6 7 1 8 7\n",
      "7 9 2 5 1 4\n",
      "7 3 3 5 8 4\n",
      "6 2 7 4 3 9\n",
      "\n",
      "5 1 1 \n",
      "6 1 7 \n",
      "9 5 4 \n",
      "3 5 4 \n",
      "2 4 9 \n"
     ]
    }
   ],
   "source": [
    "# Matrix 10\n",
    "from random import randint\n",
    "m = int(input(\"M = \"))\n",
    "n = int(input(\"N = \"))\n",
    "matrix = [[randint(1,9) for i in range(n)] for i in range(m)]\n",
    "for i in matrix:\n",
    "    print(*i, sep=\" \")\n",
    "print()\n",
    "\n",
    "for i in range(len(matrix)):\n",
    "    for j in range(1,len(matrix[0]),2):\n",
    "        print(matrix[i][j], end=\" \")\n",
    "    print()"
   ]
  },
  {
   "cell_type": "code",
   "execution_count": 17,
   "id": "68ac47c8",
   "metadata": {},
   "outputs": [
    {
     "name": "stdout",
     "output_type": "stream",
     "text": [
      "M = 5\n",
      "N = 5\n",
      "9 9 6 2 6\n",
      "8 5 3 7 3\n",
      "8 5 1 1 2\n",
      "7 2 4 7 4\n",
      "8 3 7 1 4\n",
      "\n",
      "9 9 6 2 6 \n",
      "3 7 3 5 8 \n",
      "8 5 1 1 2 \n",
      "4 7 4 2 7 \n",
      "8 3 7 1 4 \n"
     ]
    }
   ],
   "source": [
    "# Matrix 11\n",
    "from random import randint\n",
    "m = int(input(\"M = \"))\n",
    "n = int(input(\"N = \"))\n",
    "matrix = [[randint(1,9) for i in range(n)] for i in range(m)]\n",
    "for i in matrix:\n",
    "    print(*i)\n",
    "print()\n",
    "\n",
    "for i in range(len(matrix)):\n",
    "    for j in range(len(matrix[0])):\n",
    "        if i%2==0:\n",
    "            print(matrix[i][j],end=\" \")\n",
    "        else:\n",
    "            print(matrix[i][len(matrix)-j-1],end=\" \")\n",
    "    print()"
   ]
  },
  {
   "cell_type": "code",
   "execution_count": 18,
   "id": "129b00e0",
   "metadata": {},
   "outputs": [
    {
     "name": "stdout",
     "output_type": "stream",
     "text": [
      "M = 5\n",
      "N = 5\n",
      "5 5 8 1 1\n",
      "5 6 7 3 6\n",
      "1 6 9 8 3\n",
      "3 5 2 9 9\n",
      "8 3 7 6 1\n",
      "\n",
      "5 3 8 6 1 \n",
      "5 5 7 9 6 \n",
      "1 6 9 8 3 \n",
      "3 6 2 3 9 \n",
      "8 5 7 1 1 \n"
     ]
    }
   ],
   "source": [
    "# Matrix 12\n",
    "from random import randint\n",
    "m = int(input(\"M = \"))\n",
    "n = int(input(\"N = \"))\n",
    "matrix = [[randint(1,9) for i in range(n)] for i in range(m)]\n",
    "for i in matrix:\n",
    "    print(*i)\n",
    "print()\n",
    "\n",
    "for i in range(len(matrix)):\n",
    "    for j in range(len(matrix[0])):\n",
    "        if j%2==0:\n",
    "            print(matrix[i][j],end=\" \")\n",
    "        else:\n",
    "            print(matrix[len(matrix)-i-1][j],end=\" \")\n",
    "    print()"
   ]
  },
  {
   "cell_type": "code",
   "execution_count": 50,
   "id": "b43e6fcd",
   "metadata": {
    "scrolled": true
   },
   "outputs": [
    {
     "name": "stdout",
     "output_type": "stream",
     "text": [
      "M = 5\n",
      "5 9 7 6 7\n",
      "3 2 5 7 5\n",
      "8 4 6 2 8\n",
      "8 1 2 4 2\n",
      "6 7 5 9 9\n",
      "\n",
      "5 9 7 6 7 5 8 2 9 \n",
      "3 2 5 7 2 4 9 \n",
      "8 4 6 2 5 \n",
      "8 1 7 \n",
      "6 \n"
     ]
    }
   ],
   "source": [
    "# Matrix 13\n",
    "from random import randint\n",
    "m = int(input(\"M = \"))\n",
    "matrix = [[randint(1,9) for i in range(m)] for i in range(m)]\n",
    "for i in matrix:\n",
    "    print(*i)\n",
    "print()\n",
    "\n",
    "for i in range(m):\n",
    "    for j in range(m-i):\n",
    "        print(matrix[i][j], end=\" \")\n",
    "    for j in range(i+1, m):\n",
    "        print(matrix[j][m-i-1], end=\" \")\n",
    "    print()"
   ]
  },
  {
   "cell_type": "code",
   "execution_count": 58,
   "id": "3656d8b5",
   "metadata": {},
   "outputs": [
    {
     "name": "stdout",
     "output_type": "stream",
     "text": [
      "M = 5\n",
      "2 5 8 8 6\n",
      "9 2 9 5 5\n",
      "6 7 4 5 1\n",
      "2 4 4 3 3\n",
      "5 6 4 9 1\n",
      "\n",
      "2 9 6 2 5 6 4 9 1 \n",
      "5 2 7 4 4 3 3 \n",
      "8 9 4 5 1 \n",
      "8 5 5 \n",
      "6 \n"
     ]
    }
   ],
   "source": [
    "# Matrix 14\n",
    "from random import randint\n",
    "m = int(input(\"M = \"))\n",
    "matrix = [[randint(1,9) for i in range(m)] for i in range(m)]\n",
    "for i in matrix:\n",
    "    print(*i)\n",
    "print()\n",
    "\n",
    "for i in range(m):\n",
    "    for j in range(m-i):\n",
    "        print(matrix[j][i], end=\" \")\n",
    "    for j in range(i+1, m):\n",
    "        print(matrix[m-i-1][j], end=\" \")\n",
    "    \n",
    "    print()"
   ]
  },
  {
   "cell_type": "code",
   "execution_count": 226,
   "id": "d3f0bec3",
   "metadata": {},
   "outputs": [
    {
     "name": "stdout",
     "output_type": "stream",
     "text": [
      "N = 5\n",
      "\n",
      "1\t2\t3\t4\t5\n",
      "16\t17\t18\t19\t6\n",
      "15\t24\t25\t20\t7\n",
      "14\t23\t22\t21\t8\n",
      "13\t12\t11\t10\t9\n"
     ]
    }
   ],
   "source": [
    "# Matrix 15\n",
    "n = int(input(\"N = \"))\n",
    "matrix = [[0 for j in range(n)] for i in range(n)]\n",
    "print()\n",
    "son = 1\n",
    "for i in range(n//2):\n",
    "    for j in range(i,n-i):\n",
    "        matrix[i][j]=son\n",
    "        son += 1\n",
    "        \n",
    "    for j in range(i+1, n-i):\n",
    "        matrix[j][n-i-1]=son\n",
    "        son += 1\n",
    "        \n",
    "    for j in range(n-i-2,i-1,-1):\n",
    "        matrix[n-i-1][j]=son\n",
    "        son += 1\n",
    "        \n",
    "    for j in range(n-i-2,i,-1):\n",
    "        matrix[j][i]=son\n",
    "        son += 1\n",
    "if n%2==1:\n",
    "    matrix[n//2][n//2]=n**2\n",
    "for i in matrix:\n",
    "    print(*i, sep=\"\\t\")"
   ]
  },
  {
   "cell_type": "code",
   "execution_count": 227,
   "id": "42edcc14",
   "metadata": {},
   "outputs": [
    {
     "name": "stdout",
     "output_type": "stream",
     "text": [
      "N = 5\n",
      "\n",
      "1\t16\t15\t14\t13\n",
      "2\t17\t24\t23\t12\n",
      "3\t18\t25\t22\t11\n",
      "4\t19\t20\t21\t10\n",
      "5\t6\t7\t8\t9\n"
     ]
    }
   ],
   "source": [
    "# Matrix 16\n",
    "n = int(input(\"N = \"))\n",
    "matrix = [[0 for j in range(n)] for i in range(n)]\n",
    "print()\n",
    "son = 1\n",
    "for i in range(n//2):\n",
    "    for j in range(i,n-i):\n",
    "        matrix[j][i]=son\n",
    "        son += 1\n",
    "        \n",
    "    for j in range(i+1, n-i):\n",
    "        matrix[n-i-1][j]=son\n",
    "        son += 1\n",
    "        \n",
    "    for j in range(n-i-2,i-1,-1):\n",
    "        matrix[j][n-i-1]=son\n",
    "        son += 1\n",
    "        \n",
    "    for j in range(n-i-2,i,-1):\n",
    "        matrix[i][j]=son\n",
    "        son += 1\n",
    "if n%2==1:\n",
    "    matrix[n//2][n//2]=n**2\n",
    "for i in matrix:\n",
    "    print(*i, sep=\"\\t\")"
   ]
  },
  {
   "cell_type": "code",
   "execution_count": 84,
   "id": "beefd581",
   "metadata": {},
   "outputs": [
    {
     "name": "stdout",
     "output_type": "stream",
     "text": [
      "M = 5\n",
      "N = 4\n",
      "K = 2\n",
      "5 2 6 3\n",
      "7 2 3 2\n",
      "2 2 5 4\n",
      "4 9 1 3\n",
      "1 1 8 9\n",
      "Yig'indi: 13\n",
      "Ko'paytma: 80\n"
     ]
    }
   ],
   "source": [
    "# Matrix 17\n",
    "from random import randint\n",
    "m = int(input(\"M = \"))\n",
    "n = int(input(\"N = \"))\n",
    "k = int(input(\"K = \"))\n",
    "matrix = [[randint(1,9) for i in range(n)] for i in range(m)]\n",
    "for i in matrix:\n",
    "    print(*i)\n",
    "\n",
    "s = sum(matrix[k])\n",
    "print(\"Yig'indi:\",s)\n",
    "p = 1\n",
    "for i in range(n):\n",
    "    p *= matrix[k][i]\n",
    "print(\"Ko'paytma:\",p)"
   ]
  },
  {
   "cell_type": "code",
   "execution_count": 91,
   "id": "c5456e9f",
   "metadata": {},
   "outputs": [
    {
     "name": "stdout",
     "output_type": "stream",
     "text": [
      "M = 5\n",
      "N = 5\n",
      "K = 2\n",
      "8 9 3 5 4\n",
      "8 6 2 5 9\n",
      "7 8 9 7 4\n",
      "5 3 3 2 2\n",
      "5 3 4 6 5\n",
      "Yig'indi: 21\n",
      "Ko'paytma: 648\n"
     ]
    }
   ],
   "source": [
    "# Matrix 18\n",
    "from random import randint\n",
    "m = int(input(\"M = \"))\n",
    "n = int(input(\"N = \"))\n",
    "k = int(input(\"K = \"))\n",
    "matrix = [[randint(1,9) for i in range(n)] for i in range(m)]\n",
    "for i in matrix:\n",
    "    print(*i)\n",
    "\n",
    "p = 1\n",
    "s = 0\n",
    "for i in range(m):\n",
    "    p *= matrix[i][k]\n",
    "    s += matrix[i][k]\n",
    "print(\"Yig'indi:\",s)\n",
    "print(\"Ko'paytma:\",p)"
   ]
  },
  {
   "cell_type": "code",
   "execution_count": 228,
   "id": "d9d242cb",
   "metadata": {},
   "outputs": [
    {
     "name": "stdout",
     "output_type": "stream",
     "text": [
      "M = 5\n",
      "N = 5\n",
      "6 5 2 4 7\n",
      "6 7 1 3 3\n",
      "6 2 8 4 6\n",
      "1 1 4 8 7\n",
      "7 8 3 7 4\n",
      "Yig'indi: 24\n",
      "Yig'indi: 20\n",
      "Yig'indi: 26\n",
      "Yig'indi: 21\n",
      "Yig'indi: 29\n"
     ]
    }
   ],
   "source": [
    "# Matrix 19\n",
    "from random import randint\n",
    "m = int(input(\"M = \"))\n",
    "n = int(input(\"N = \"))\n",
    "matrix = [[randint(1,9) for i in range(n)] for i in range(m)]\n",
    "for i in matrix:\n",
    "    print(*i)\n",
    "\n",
    "\n",
    "for i in range(m):\n",
    "    s = sum(matrix[i])\n",
    "    print(\"Yig'indi:\",s)"
   ]
  },
  {
   "cell_type": "code",
   "execution_count": 108,
   "id": "f4ad5303",
   "metadata": {},
   "outputs": [
    {
     "name": "stdout",
     "output_type": "stream",
     "text": [
      "M = 5\n",
      "N = 4\n",
      "1 8 9 7\n",
      "6 3 2 7\n",
      "8 2 6 1\n",
      "2 9 2 9\n",
      "6 7 2 4\n",
      "Ko'paytma: 576\n",
      "Ko'paytma: 3024\n",
      "Ko'paytma: 432\n",
      "Ko'paytma: 1764\n"
     ]
    }
   ],
   "source": [
    "# Matrix 20\n",
    "from random import randint\n",
    "m = int(input(\"M = \"))\n",
    "n = int(input(\"N = \"))\n",
    "matrix = [[randint(1,9) for i in range(n)] for i in range(m)]\n",
    "for i in matrix:\n",
    "    print(*i)\n",
    "\n",
    "for i in range(n):\n",
    "    p = 1\n",
    "    for j in range(m):\n",
    "        p *= matrix[j][i]\n",
    "    print(\"Ko'paytma:\",p)"
   ]
  },
  {
   "cell_type": "code",
   "execution_count": 115,
   "id": "60ad2eea",
   "metadata": {},
   "outputs": [
    {
     "name": "stdout",
     "output_type": "stream",
     "text": [
      "M = 5\n",
      "N = 4\n",
      "2 6 1 4\n",
      "9 9 2 1\n",
      "3 4 4 7\n",
      "2 5 2 1\n",
      "6 2 4 6\n",
      "O'rta arifmetik: 5.2\n",
      "O'rta arifmetik: 3.8\n"
     ]
    }
   ],
   "source": [
    "# Matrix 21\n",
    "from random import randint\n",
    "m = int(input(\"M = \"))\n",
    "n = int(input(\"N = \"))\n",
    "matrix = [[randint(1,9) for i in range(n)] for i in range(m)]\n",
    "for i in matrix:\n",
    "    print(*i)\n",
    "\n",
    "for i in range(1,n,2):\n",
    "    s = 0\n",
    "    for j in range(m):\n",
    "        s += matrix[j][i]\n",
    "    print(\"O'rta arifmetik:\",s/m)"
   ]
  },
  {
   "cell_type": "code",
   "execution_count": 116,
   "id": "41d7fb01",
   "metadata": {},
   "outputs": [
    {
     "name": "stdout",
     "output_type": "stream",
     "text": [
      "M = 5\n",
      "N = 4\n",
      "5 6 6 7\n",
      "3 6 1 4\n",
      "3 5 4 9\n",
      "2 4 7 9\n",
      "3 4 3 9\n",
      "Yig'indi: 24\n",
      "Yig'indi: 21\n",
      "Yig'indi: 19\n"
     ]
    }
   ],
   "source": [
    "# Matrix 22\n",
    "from random import randint\n",
    "m = int(input(\"M = \"))\n",
    "n = int(input(\"N = \"))\n",
    "matrix = [[randint(1,9) for i in range(n)] for i in range(m)]\n",
    "for i in matrix:\n",
    "    print(*i)\n",
    "\n",
    "for i in range(0,m,2):\n",
    "    s = 0\n",
    "    for j in range(n):\n",
    "        s += matrix[i][j]\n",
    "    print(\"Yig'indi:\",s)"
   ]
  },
  {
   "cell_type": "code",
   "execution_count": 119,
   "id": "14035d8e",
   "metadata": {},
   "outputs": [
    {
     "name": "stdout",
     "output_type": "stream",
     "text": [
      "M = 5\n",
      "N = 4\n",
      "7 4 9 3\n",
      "9 4 8 8\n",
      "6 1 1 8\n",
      "7 6 2 7\n",
      "5 2 5 5\n",
      "Eng kichik element: 3\n",
      "Eng kichik element: 4\n",
      "Eng kichik element: 1\n",
      "Eng kichik element: 2\n",
      "Eng kichik element: 2\n"
     ]
    }
   ],
   "source": [
    "# Matrix 23\n",
    "from random import randint\n",
    "m = int(input(\"M = \"))\n",
    "n = int(input(\"N = \"))\n",
    "matrix = [[randint(1,9) for i in range(n)] for i in range(m)]\n",
    "for i in matrix:\n",
    "    print(*i)\n",
    "\n",
    "for i in range(m):\n",
    "    mini = min(matrix[i])\n",
    "    print(\"Eng kichik element:\",mini)"
   ]
  },
  {
   "cell_type": "code",
   "execution_count": 234,
   "id": "e96ea66d",
   "metadata": {},
   "outputs": [
    {
     "name": "stdout",
     "output_type": "stream",
     "text": [
      "M = 5\n",
      "N = 5\n",
      "8 1 5 6 7\n",
      "7 2 4 4 4\n",
      "8 8 3 5 3\n",
      "5 8 7 4 8\n",
      "1 6 4 4 9\n",
      "\n",
      "8 8 7 6 9 "
     ]
    }
   ],
   "source": [
    "# Matrix 24\n",
    "from random import randint\n",
    "m = int(input(\"M = \"))\n",
    "n = int(input(\"N = \"))\n",
    "matrix = [[randint(1,9) for i in range(n)] for i in range(m)]\n",
    "for i in matrix:\n",
    "    print(*i)\n",
    "print()\n",
    "\n",
    "for i in range(n):\n",
    "    maxi = matrix[0][i]\n",
    "    for j in range(1,m):\n",
    "        if maxi<matrix[j][i]:\n",
    "            maxi = matrix[j][i]\n",
    "    print(maxi, end=\" \")"
   ]
  },
  {
   "cell_type": "code",
   "execution_count": 135,
   "id": "4caa9ab3",
   "metadata": {},
   "outputs": [
    {
     "name": "stdout",
     "output_type": "stream",
     "text": [
      "M = 5\n",
      "N = 4\n",
      "5 2 7 7\n",
      "7 9 2 6\n",
      "2 2 1 2\n",
      "8 5 8 7\n",
      "8 1 9 1\n",
      "Eng katta yig'indi: 28\n",
      "Eng katta yig'indi indexi: 3\n"
     ]
    }
   ],
   "source": [
    "# Matrix 25\n",
    "from random import randint\n",
    "m = int(input(\"M = \"))\n",
    "n = int(input(\"N = \"))\n",
    "matrix = [[randint(1,9) for i in range(n)] for i in range(m)]\n",
    "for i in matrix:\n",
    "    print(*i)\n",
    "\n",
    "massiv = []\n",
    "for i in range(m):\n",
    "    massiv.append(sum(matrix[i]))\n",
    "print(\"Eng katta yig'indi:\",max(massiv))\n",
    "print(\"Eng katta yig'indi indexi:\",massiv.index(max(massiv)))"
   ]
  },
  {
   "cell_type": "code",
   "execution_count": 140,
   "id": "3d01ba54",
   "metadata": {},
   "outputs": [
    {
     "name": "stdout",
     "output_type": "stream",
     "text": [
      "M = 5\n",
      "N = 5\n",
      "4 5 7 7 7\n",
      "5 6 9 9 5\n",
      "5 4 4 2 7\n",
      "6 7 1 2 3\n",
      "6 8 6 3 5\n",
      "Eng katta yig'indi: 6720\n",
      "Eng katta yig'indi indexi: 1\n"
     ]
    }
   ],
   "source": [
    "# Matrix 26\n",
    "from random import randint\n",
    "m = int(input(\"M = \"))\n",
    "n = int(input(\"N = \"))\n",
    "matrix = [[randint(1,9) for i in range(n)] for i in range(m)]\n",
    "for i in matrix:\n",
    "    print(*i)\n",
    "\n",
    "massiv = []\n",
    "\n",
    "for i in range(n):\n",
    "    p = 1\n",
    "    for j in range(m):\n",
    "        p *= matrix[j][i]\n",
    "    massiv.append(p)\n",
    "print(\"Eng katta yig'indi:\",max(massiv))\n",
    "print(\"Eng katta yig'indi indexi:\",massiv.index(max(massiv)))"
   ]
  },
  {
   "cell_type": "code",
   "execution_count": 142,
   "id": "104467ef",
   "metadata": {},
   "outputs": [
    {
     "name": "stdout",
     "output_type": "stream",
     "text": [
      "M = 5\n",
      "N = 5\n",
      "6 3 1 8 5\n",
      "7 4 1 7 7\n",
      "9 1 2 2 5\n",
      "6 2 2 4 5\n",
      "5 9 9 7 3\n",
      "9\n",
      "2\n"
     ]
    }
   ],
   "source": [
    "# Matrix 27\n",
    "from random import randint\n",
    "m = int(input(\"M = \"))\n",
    "n = int(input(\"N = \"))\n",
    "matrix = [[randint(1,9) for i in range(n)] for i in range(m)]\n",
    "for i in matrix:\n",
    "    print(*i)\n",
    "\n",
    "massiv = []\n",
    "for i in range(m):\n",
    "    massiv.append(sum(matrix[i]))\n",
    "\n",
    "idx = massiv.index(min(massiv))\n",
    "for i in range(n):\n",
    "    if i==idx:\n",
    "        print(max(matrix[i]))\n",
    "        print(idx)"
   ]
  },
  {
   "cell_type": "code",
   "execution_count": 147,
   "id": "a6fce153",
   "metadata": {},
   "outputs": [
    {
     "name": "stdout",
     "output_type": "stream",
     "text": [
      "M = 5\n",
      "N = 6\n",
      "4 6 6 6 4 8\n",
      "2 1 3 9 6 4\n",
      "5 6 1 5 1 5\n",
      "9 2 9 1 6 7\n",
      "1 4 1 7 1 5\n",
      "[34, 25, 23, 34, 19]\n",
      "4\n",
      "0\n"
     ]
    }
   ],
   "source": [
    "# Matrix 28\n",
    "from random import randint\n",
    "m = int(input(\"M = \"))\n",
    "n = int(input(\"N = \"))\n",
    "matrix = [[randint(1,9) for i in range(n)] for i in range(m)]\n",
    "for i in matrix:\n",
    "    print(*i)\n",
    "\n",
    "massiv = []\n",
    "for i in range(m):\n",
    "    massiv.append(sum(matrix[i]))\n",
    "print(massiv)\n",
    "\n",
    "idx = massiv.index(max(massiv))\n",
    "for i in range(n):\n",
    "    for j in range(m):\n",
    "        if i==idx:\n",
    "            print(min(matrix[i]))\n",
    "            print(idx)\n",
    "            break"
   ]
  },
  {
   "cell_type": "code",
   "execution_count": 152,
   "id": "ec47bd63",
   "metadata": {},
   "outputs": [
    {
     "name": "stdout",
     "output_type": "stream",
     "text": [
      "M = 5\n",
      "N = 5\n",
      "8 8 6 9 6\n",
      "7 3 3 1 9\n",
      "1 9 9 7 6\n",
      "7 1 8 1 6\n",
      "7 6 1 4 3\n",
      "[7.4, 4.6, 6.4, 4.6, 4.2]\n",
      "2\n",
      "3\n",
      "2\n",
      "2\n",
      "3\n"
     ]
    }
   ],
   "source": [
    "# Matrix 29\n",
    "from random import randint\n",
    "m = int(input(\"M = \"))\n",
    "n = int(input(\"N = \"))\n",
    "matrix = [[randint(1,9) for i in range(n)] for i in range(m)]\n",
    "for i in matrix:\n",
    "    print(*i)\n",
    "\n",
    "massiv = []\n",
    "for i in range(m):\n",
    "    massiv.append(sum(matrix[i])/m)\n",
    "print(massiv)\n",
    "\n",
    "\n",
    "for i in range(m):\n",
    "    s = 0\n",
    "    for j in range(n):\n",
    "        if massiv[i]>matrix[i][j]:\n",
    "            s += 1\n",
    "    print(s)"
   ]
  },
  {
   "cell_type": "code",
   "execution_count": 154,
   "id": "ba987cc9",
   "metadata": {},
   "outputs": [
    {
     "name": "stdout",
     "output_type": "stream",
     "text": [
      "M = 5\n",
      "N = 5\n",
      "8 5 7 7 1\n",
      "5 4 5 8 1\n",
      "8 2 5 6 8\n",
      "4 6 7 2 1\n",
      "8 7 4 1 4\n",
      "[6.6, 4.8, 5.6, 4.8, 3.0]\n",
      "3\n",
      "3\n",
      "2\n",
      "3\n",
      "2\n"
     ]
    }
   ],
   "source": [
    "# Matrix 30\n",
    "from random import randint\n",
    "m = int(input(\"M = \"))\n",
    "n = int(input(\"N = \"))\n",
    "matrix = [[randint(1,9) for i in range(n)] for i in range(m)]\n",
    "for i in matrix:\n",
    "    print(*i)\n",
    "\n",
    "massiv = []\n",
    "for i in range(n):\n",
    "    x = 0\n",
    "    for j in range(m):\n",
    "        x += matrix[j][i]\n",
    "    massiv.append(x/m)\n",
    "print(massiv)\n",
    "\n",
    "\n",
    "for i in range(n):\n",
    "    s = 0\n",
    "    for j in range(m):\n",
    "        if massiv[i]<matrix[j][i]:\n",
    "            s += 1\n",
    "    print(s)"
   ]
  },
  {
   "cell_type": "code",
   "execution_count": 169,
   "id": "7967b639",
   "metadata": {},
   "outputs": [
    {
     "name": "stdout",
     "output_type": "stream",
     "text": [
      "M = 5\n",
      "N = 5\n",
      "9 3 7 6 8\n",
      "5 4 2 2 6\n",
      "8 9 1 1 6\n",
      "6 3 1 1 2\n",
      "9 6 7 2 2\n",
      "[7.4, 5.0, 3.6, 2.4, 4.8]\n",
      "[6.6, 3.8, 5.0, 2.6, 5.2]\n",
      "4.64\n",
      "Matritsa o'rta arifmetigiga eng yaqin ustun raqami  4 ,\n",
      "eng yaqin satr raqami  2\n"
     ]
    }
   ],
   "source": [
    "# Matrix 31\n",
    "from random import randint\n",
    "m = int(input(\"M = \"))\n",
    "n = int(input(\"N = \"))\n",
    "matrix = [[randint(1,9) for i in range(n)] for i in range(m)]\n",
    "for i in matrix:\n",
    "    print(*i)\n",
    "# ustun o'rta arifmetigi\n",
    "massiv_ustun = []\n",
    "for i in range(n):\n",
    "    x = 0\n",
    "    for j in range(m):\n",
    "        x += matrix[j][i]\n",
    "    massiv_ustun.append(x/m)\n",
    "print(massiv_ustun)\n",
    "# satr o'rta arifmetigi\n",
    "mat = 0\n",
    "massiv_satr = []\n",
    "for i in range(m):\n",
    "    massiv_satr.append(sum(matrix[i])/m)\n",
    "    mat += sum(matrix[i])\n",
    "print(massiv_satr)\n",
    "# matritsa o'rta arifmetigi\n",
    "mat_arif = mat/(m*n)\n",
    "print(mat_arif)\n",
    "# eng yaqin ustun\n",
    "s = []\n",
    "for i in range(len(massiv_ustun)):\n",
    "    s.append(abs(mat_arif-massiv_ustun[i]))\n",
    "# eng yaqin satr\n",
    "s1 = []\n",
    "for i in range(len(massiv_satr)):\n",
    "    s1.append(abs(mat_arif-massiv_satr[i]))\n",
    "# ustun va satr indexlari   \n",
    "id_ustun = s.index(min(s))\n",
    "id_satr = s1.index(min(s1))\n",
    "print(\"Matritsa o'rta arifmetigiga eng yaqin ustun raqami \",id_ustun,\n",
    "      \",\\neng yaqin satr raqami \",id_satr)\n"
   ]
  },
  {
   "cell_type": "code",
   "execution_count": 193,
   "id": "fb8802f9",
   "metadata": {},
   "outputs": [
    {
     "name": "stdout",
     "output_type": "stream",
     "text": [
      "M = 4\n",
      "N = 4\n",
      "3 1 -2 0\n",
      "0 -5 -5 2\n",
      "5 1 -2 5\n",
      "-1 4 1 -4\n",
      "Musbat va manfiy teng satr: 3\n"
     ]
    }
   ],
   "source": [
    "# Matrix 32\n",
    "from random import randint\n",
    "m = int(input(\"M = \"))\n",
    "n = int(input(\"N = \"))\n",
    "matrix = [[randint(-5,5) for i in range(n)] for i in range(m)]\n",
    "for i in matrix:\n",
    "    print(*i)\n",
    "    \n",
    "\n",
    "for i in range(m):\n",
    "    musbat = 0\n",
    "    manfiy = 0\n",
    "    for j in range(n):\n",
    "        if matrix[i][j]>0:\n",
    "            musbat += 1\n",
    "        elif matrix[i][j]<0:\n",
    "            manfiy += 1\n",
    "        else:\n",
    "            break\n",
    "    idx = i\n",
    "    if musbat==manfiy and musbat!=0:\n",
    "        print(\"Musbat va manfiy teng Birinchi satr:\",idx)\n",
    "        break\n",
    "else:\n",
    "    print(\"Bunday satr yo'q\")"
   ]
  },
  {
   "cell_type": "code",
   "execution_count": 214,
   "id": "77d967cb",
   "metadata": {},
   "outputs": [
    {
     "name": "stdout",
     "output_type": "stream",
     "text": [
      "M = 4\n",
      "N = 8\n",
      "-1\t-2\t-2\t-1\t1\t-2\t0\t-1\n",
      "2\t0\t-2\t-2\t0\t0\t2\t1\n",
      "-1\t0\t-1\t-1\t0\t0\t1\t2\n",
      "2\t2\t-2\t1\t1\t-2\t1\t-2\n",
      "Musbat va manfiy teng oxirgi ustun: 7\n"
     ]
    }
   ],
   "source": [
    "# Matrix 33\n",
    "from random import randint\n",
    "m = int(input(\"M = \"))\n",
    "n = int(input(\"N = \"))\n",
    "matrix = [[randint(-2,2) for i in range(n)] for i in range(m)]\n",
    "for i in matrix:\n",
    "    print(*i, sep=\"\\t\")\n",
    "    \n",
    "\n",
    "for i in range(n):\n",
    "    musbat = 0\n",
    "    manfiy = 0\n",
    "    for j in range(m):\n",
    "        if matrix[j][i]>0:\n",
    "            musbat += 1\n",
    "        elif matrix[j][i]<0:\n",
    "            manfiy += 1\n",
    "        else:\n",
    "            break\n",
    "    idx = i\n",
    "if musbat==manfiy and musbat!=0:\n",
    "    print(\"Musbat va manfiy teng oxirgi ustun:\",idx)\n",
    "else:\n",
    "    print(\"Bunday ustun yo'q\")"
   ]
  },
  {
   "cell_type": "code",
   "execution_count": 216,
   "id": "dfee82c6",
   "metadata": {},
   "outputs": [
    {
     "name": "stdout",
     "output_type": "stream",
     "text": [
      "M = 2\n",
      "N = 2\n",
      "2 2\n",
      "2 3\n",
      "Bunday satr yo'q\n"
     ]
    }
   ],
   "source": [
    "# Matrix 34\n",
    "from random import randint\n",
    "m = int(input(\"M = \"))\n",
    "n = int(input(\"N = \"))\n",
    "matrix = [[randint(1,3) for i in range(n)] for i in range(m)]\n",
    "for i in matrix:\n",
    "    print(*i)\n",
    "    \n",
    "\n",
    "for i in range(m):\n",
    "    s = 0\n",
    "    for j in range(n):\n",
    "        if matrix[i][j]%2==0:\n",
    "            s += 1\n",
    "    idx = i\n",
    "if s==n:\n",
    "    print(\"Juft sonlardan iborat oxirgi satr:\",idx)\n",
    "else:\n",
    "    print(\"Bunday satr yo'q\")"
   ]
  },
  {
   "cell_type": "code",
   "execution_count": 217,
   "id": "60b65ca0",
   "metadata": {},
   "outputs": [
    {
     "name": "stdout",
     "output_type": "stream",
     "text": [
      "M = 4\n",
      "N = 4\n",
      "2 3 1 1\n",
      "1 2 3 2\n",
      "1 2 3 1\n",
      "2 2 3 3\n",
      "Toq sonlardan iborat Birinchi ustun: 2\n"
     ]
    }
   ],
   "source": [
    "# Matrix 35\n",
    "from random import randint\n",
    "m = int(input(\"M = \"))\n",
    "n = int(input(\"N = \"))\n",
    "matrix = [[randint(1,3) for i in range(n)] for i in range(m)]\n",
    "for i in matrix:\n",
    "    print(*i)\n",
    "    \n",
    "\n",
    "for i in range(n):\n",
    "    s = 0\n",
    "    for j in range(m):\n",
    "        if matrix[j][i]%2==1:\n",
    "            s += 1\n",
    "    idx = i\n",
    "    if s==n:\n",
    "        print(\"Toq sonlardan iborat Birinchi ustun:\",idx)\n",
    "        break\n",
    "else:\n",
    "    print(\"Bunday ustun yo'q\")"
   ]
  },
  {
   "cell_type": "code",
   "execution_count": 175,
   "id": "59108a40",
   "metadata": {},
   "outputs": [
    {
     "name": "stdout",
     "output_type": "stream",
     "text": [
      "M = 4\n",
      "N = 4\n",
      "2 2 2 1\n",
      "2 2 1 1\n",
      "1 1 2 1\n",
      "1 2 1 2\n",
      "\n",
      "0\n"
     ]
    }
   ],
   "source": [
    "# Matrix 36\n",
    "from random import randint\n",
    "m = int(input(\"M = \"))\n",
    "n = int(input(\"N = \"))\n",
    "matrix = [[randint(1,2) for i in range(n)] for i in range(m)]\n",
    "for i in matrix:\n",
    "    print(*i)\n",
    "print()\n",
    "\n",
    "k = 0\n",
    "for i in range(1,m):\n",
    "    if sorted(matrix[i])==sorted(matrix[0]):\n",
    "        k += 1\n",
    "print(k)"
   ]
  },
  {
   "cell_type": "code",
   "execution_count": 290,
   "id": "d7adb127",
   "metadata": {},
   "outputs": [
    {
     "name": "stdout",
     "output_type": "stream",
     "text": [
      "M = 5\n",
      "N = 4\n",
      "1 1 1 1\n",
      "1 2 1 1\n",
      "1 1 2 1\n",
      "2 1 2 1\n",
      "1 1 2 2\n",
      "\n",
      "2\n"
     ]
    }
   ],
   "source": [
    "# Matrix 37\n",
    "from random import randint\n",
    "m = int(input(\"M = \"))\n",
    "n = int(input(\"N = \"))\n",
    "matrix = [[randint(1,2) for i in range(n)] for i in range(m)]\n",
    "for i in matrix:\n",
    "    print(*i)\n",
    "print()\n",
    "massiv=[]\n",
    "matrix1= []\n",
    "for j in range(n):\n",
    "    massiv = []\n",
    "    for i in range(m):\n",
    "        massiv.append(matrix[i][j])\n",
    "        k += 1\n",
    "    matrix1.append(massiv)\n",
    "k = 0\n",
    "for i in range(n-1):\n",
    "    if sorted(matrix1[i])==sorted(matrix1[n-1]):\n",
    "        k += 1\n",
    "\n",
    "print(k)"
   ]
  },
  {
   "cell_type": "code",
   "execution_count": 291,
   "id": "c80e761e",
   "metadata": {},
   "outputs": [
    {
     "name": "stdout",
     "output_type": "stream",
     "text": [
      "M = 5\n",
      "N = 4\n",
      "2 1 1 2\n",
      "2 2 2 2\n",
      "1 2 2 2\n",
      "2 2 1 2\n",
      "1 2 1 2\n",
      "\n",
      "3\n"
     ]
    }
   ],
   "source": [
    "# Matrix 38\n",
    "from random import randint\n",
    "m = int(input(\"M = \"))\n",
    "n = int(input(\"N = \"))\n",
    "matrix = [[randint(1,2) for i in range(n)] for i in range(m)]\n",
    "for i in matrix:\n",
    "    print(*i)\n",
    "print()\n",
    "\n",
    "k = 0\n",
    "for i in range(1,m):\n",
    "    if sorted(matrix[i])!=sorted(matrix[i-1]):\n",
    "        k += 1\n",
    "print(k)"
   ]
  },
  {
   "cell_type": "code",
   "execution_count": 292,
   "id": "0ef15e8b",
   "metadata": {},
   "outputs": [
    {
     "name": "stdout",
     "output_type": "stream",
     "text": [
      "M = 5\n",
      "N = 4\n",
      "1 2 2 1\n",
      "2 2 1 1\n",
      "1 1 2 1\n",
      "2 1 1 1\n",
      "2 1 1 1\n",
      "\n",
      "2\n"
     ]
    }
   ],
   "source": [
    "# Matrix 39\n",
    "from random import randint\n",
    "m = int(input(\"M = \"))\n",
    "n = int(input(\"N = \"))\n",
    "matrix = [[randint(1,2) for i in range(n)] for i in range(m)]\n",
    "for i in matrix:\n",
    "    print(*i)\n",
    "print()\n",
    "\n",
    "matrix1= []\n",
    "for j in range(n):\n",
    "    massiv = []\n",
    "    for i in range(m):\n",
    "        massiv.append(matrix[i][j])\n",
    "        k += 1\n",
    "    matrix1.append(massiv)\n",
    "k = 0\n",
    "for i in range(1,n):\n",
    "    if sorted(matrix1[i])!=sorted(matrix1[i-1]):\n",
    "        k += 1\n",
    "\n",
    "print(k)"
   ]
  },
  {
   "cell_type": "code",
   "execution_count": 301,
   "id": "f9f61dcb",
   "metadata": {},
   "outputs": [
    {
     "name": "stdout",
     "output_type": "stream",
     "text": [
      "M = 5\n",
      "N = 5\n",
      "2 1 4 7 4\n",
      "9 7 6 1 8\n",
      "3 1 4 2 2\n",
      "4 3 4 5 5\n",
      "7 4 6 2 7\n",
      "\n",
      "2\n",
      "4\n"
     ]
    }
   ],
   "source": [
    "# Matrix 40\n",
    "from random import randint\n",
    "m = int(input(\"M = \"))\n",
    "n = int(input(\"N = \"))\n",
    "matrix = [[randint(1,9) for i in range(n)] for i in range(m)]\n",
    "for i in matrix:\n",
    "    print(*i)\n",
    "print()\n",
    "\n",
    "a = True\n",
    "for i in range(m):\n",
    "    for j in range(1,n):\n",
    "        if a:\n",
    "            maxi = matrix[i].count(matrix[0][0])\n",
    "            idx = 0\n",
    "            a = False\n",
    "        if maxi<=matrix[i].count(matrix[i][j]):\n",
    "            maxi=matrix[i].count(matrix[i][j])\n",
    "            idx = i\n",
    "print(maxi)\n",
    "print(idx)"
   ]
  },
  {
   "cell_type": "code",
   "execution_count": 305,
   "id": "e73a63bc",
   "metadata": {},
   "outputs": [
    {
     "name": "stdout",
     "output_type": "stream",
     "text": [
      "M = 5\n",
      "N = 4\n",
      "8 4 2 4\n",
      "7 8 7 9\n",
      "4 4 5 4\n",
      "6 5 9 9\n",
      "6 5 3 6\n",
      "\n",
      "2\n",
      "0\n"
     ]
    }
   ],
   "source": [
    "# Matrix 41\n",
    "from random import randint\n",
    "m = int(input(\"M = \"))\n",
    "n = int(input(\"N = \"))\n",
    "matrix = [[randint(1,9) for i in range(n)] for i in range(m)]\n",
    "for i in matrix:\n",
    "    print(*i)\n",
    "print()\n",
    "\n",
    "matrix1= []\n",
    "for j in range(n):\n",
    "    massiv = []\n",
    "    for i in range(m):\n",
    "        massiv.append(matrix[i][j])\n",
    "        k += 1\n",
    "    matrix1.append(massiv)\n",
    "    \n",
    "a = True\n",
    "for i in range(n):\n",
    "    for j in range(1,m):\n",
    "        if a:\n",
    "            maxi = matrix1[i].count(matrix1[0][0])\n",
    "            idx = 0\n",
    "            a = False\n",
    "        if maxi<matrix1[i].count(matrix1[i][j]):\n",
    "            maxi=matrix1[i].count(matrix1[i][j])\n",
    "            idx = i\n",
    "print(maxi)\n",
    "print(idx)"
   ]
  },
  {
   "cell_type": "code",
   "execution_count": 321,
   "id": "0aa949e2",
   "metadata": {},
   "outputs": [
    {
     "name": "stdout",
     "output_type": "stream",
     "text": [
      "M = 5\n",
      "N = 2\n",
      "3 4\n",
      "1 8\n",
      "9 4\n",
      "4 1\n",
      "7 5\n",
      "\n",
      "2\n"
     ]
    }
   ],
   "source": [
    "# Matrix 42\n",
    "from random import randint\n",
    "m = int(input(\"M = \"))\n",
    "n = int(input(\"N = \"))\n",
    "matrix = [[randint(1,9) for i in range(n)] for i in range(m)]\n",
    "for i in matrix:\n",
    "    print(*i)\n",
    "print()\n",
    "p = 0\n",
    "for i in range(m):\n",
    "    s = 0; s1 = 0\n",
    "    for j in range(1,n):\n",
    "        if matrix[i][j-1]<=matrix[i][j]:\n",
    "            s += 1\n",
    "        if matrix[i][j-1]==matrix[i][j]:\n",
    "            s1 += 1\n",
    "    if s==n-1 and s!=s1:\n",
    "        p += 1\n",
    "print(p)"
   ]
  },
  {
   "cell_type": "code",
   "execution_count": 327,
   "id": "2345356e",
   "metadata": {},
   "outputs": [
    {
     "name": "stdout",
     "output_type": "stream",
     "text": [
      "M = 2\n",
      "N = 9\n",
      "9 8 4 3 1 8 4 3 8\n",
      "3 7 5 6 4 2 2 1 8\n",
      "\n",
      "5\n"
     ]
    }
   ],
   "source": [
    "# Matrix 43\n",
    "from random import randint\n",
    "m = int(input(\"M = \"))\n",
    "n = int(input(\"N = \"))\n",
    "matrix = [[randint(1,9) for i in range(n)] for i in range(m)]\n",
    "for i in matrix:\n",
    "    print(*i)\n",
    "print()\n",
    "p = 0\n",
    "for j in range(n):\n",
    "    s = 0; s1 = 0\n",
    "    for i in range(1,m):\n",
    "        if matrix[i-1][j]>=matrix[i][j]:\n",
    "            s += 1\n",
    "        if matrix[i-1][j]==matrix[i][j]:\n",
    "            s1 += 1\n",
    "    if s==m-1 and s!=s1:\n",
    "        p += 1\n",
    "print(p)"
   ]
  },
  {
   "cell_type": "code",
   "execution_count": 338,
   "id": "e5f31f24",
   "metadata": {},
   "outputs": [
    {
     "name": "stdout",
     "output_type": "stream",
     "text": [
      "M = 5\n",
      "N = 2\n",
      "8 5\n",
      "6 8\n",
      "1 7\n",
      "7 8\n",
      "8 8\n",
      "\n",
      "Eng kichik kamayuvchi qiymat: 2\n"
     ]
    }
   ],
   "source": [
    "# Matrix 44\n",
    "from random import randint\n",
    "m = int(input(\"M = \"))\n",
    "n = int(input(\"N = \"))\n",
    "matrix = [[randint(1,9) for i in range(n)] for i in range(m)]\n",
    "for i in matrix:\n",
    "    print(*i)\n",
    "print()\n",
    "p = 0; p1 = 0\n",
    "for i in range(m):\n",
    "    s = 0; s1 = 0\n",
    "    for j in range(1,n):\n",
    "        if matrix[i][j-1]<=matrix[i][j]:\n",
    "            s += 1\n",
    "        if matrix[i][j-1]>=matrix[i][j]:\n",
    "            s1 += 1\n",
    "    if s==n-1:\n",
    "        p += 1\n",
    "    if s1==n-1:\n",
    "        p1 += 1\n",
    "if p>p1:\n",
    "    print(\"Eng kichik kamayuvchi qiymat:\", p1)\n",
    "elif p<p1:\n",
    "    print(\"Eng kichik o'suvchi qiymat:\", p)\n",
    "else:\n",
    "    print(0)"
   ]
  },
  {
   "cell_type": "code",
   "execution_count": 340,
   "id": "8819b23f",
   "metadata": {},
   "outputs": [
    {
     "name": "stdout",
     "output_type": "stream",
     "text": [
      "M = 2\n",
      "N = 7\n",
      "9 7 8 2 2 3 4\n",
      "2 5 3 9 8 9 8\n",
      "\n",
      "Eng katta o'suvchi qiymat: 4\n"
     ]
    }
   ],
   "source": [
    "# Matrix 45\n",
    "from random import randint\n",
    "m = int(input(\"M = \"))\n",
    "n = int(input(\"N = \"))\n",
    "matrix = [[randint(1,9) for i in range(n)] for i in range(m)]\n",
    "for i in matrix:\n",
    "    print(*i)\n",
    "print()\n",
    "p = 0; p1 = 0\n",
    "for j in range(n):\n",
    "    s = 0; s1 = 0\n",
    "    for i in range(1,m):\n",
    "        if matrix[i-1][j]<=matrix[i][j]:\n",
    "            s += 1\n",
    "        if matrix[i-1][j]>=matrix[i][j]:\n",
    "            s1 += 1\n",
    "    if s==m-1:\n",
    "        p += 1\n",
    "    if s1==m-1:\n",
    "        p1 += 1\n",
    "if p>p1:\n",
    "    print(\"Eng katta o'suvchi qiymat:\", p)\n",
    "elif p<p1:\n",
    "    print(\"Eng katta kamayuvchi qiymat:\", p1)\n",
    "else:\n",
    "    print(0)"
   ]
  },
  {
   "cell_type": "code",
   "execution_count": 437,
   "id": "578d7081",
   "metadata": {},
   "outputs": [
    {
     "name": "stdout",
     "output_type": "stream",
     "text": [
      "M = 3\n",
      "N = 3\n",
      "2 1 2\n",
      "1 1 1\n",
      "1 1 1\n",
      "\n",
      "[0, 0, 0] [2, 1, 1]\n",
      "0\n",
      "1\n",
      "1\n"
     ]
    }
   ],
   "source": [
    "# Matrix 46\n",
    "from random import randint\n",
    "m = int(input(\"M = \"))\n",
    "n = int(input(\"N = \"))\n",
    "matrix = [[randint(1,2) for i in range(n)] for i in range(m)]\n",
    "for i in matrix:\n",
    "    print(*i)\n",
    "print()\n",
    "\n",
    "idx_m = []\n",
    "maxi_m = []\n",
    "for i in range(m):\n",
    "    idx = matrix[i].index(max(matrix[i]))\n",
    "    maxi = max(matrix[i])\n",
    "    idx_m.append(idx)\n",
    "    maxi_m.append(maxi)\n",
    "print(idx_m, maxi_m)\n",
    "for i in range(m):\n",
    "    x = 0\n",
    "    for j in range(n):\n",
    "        if maxi_m[i]>matrix[idx_m[i]][j]:\n",
    "            x += 1\n",
    "            \n",
    "    if x==0:\n",
    "        print(maxi_m[i])\n",
    "    else:\n",
    "        print(0)"
   ]
  },
  {
   "cell_type": "code",
   "execution_count": 440,
   "id": "da97743f",
   "metadata": {},
   "outputs": [
    {
     "name": "stdout",
     "output_type": "stream",
     "text": [
      "N = 1000\n",
      "[2, 3, 5, 7, 11, 13, 17, 19, 23, 29, 31, 37, 41, 43, 47, 53, 59, 61, 67, 71, 73, 79, 83, 89, 97, 101, 103, 107, 109, 113, 127, 131, 137, 139, 149, 151, 157, 163, 167, 173, 179, 181, 191, 193, 197, 199, 211, 223, 227, 229, 233, 239, 241, 251, 257, 263, 269, 271, 277, 281, 283, 293, 307, 311, 313, 317, 331, 337, 347, 349, 353, 359, 367, 373, 379, 383, 389, 397, 401, 409, 419, 421, 431, 433, 439, 443, 449, 457, 461, 463, 467, 479, 487, 491, 499, 503, 509, 521, 523, 541, 547, 557, 563, 569, 571, 577, 587, 593, 599, 601, 607, 613, 617, 619, 631, 641, 643, 647, 653, 659, 661, 673, 677, 683, 691, 701, 709, 719, 727, 733, 739, 743, 751, 757, 761, 769, 773, 787, 797, 809, 811, 821, 823, 827, 829, 839, 853, 857, 859, 863, 877, 881, 883, 887, 907, 911, 919, 929, 937, 941, 947, 953, 967, 971, 977, 983, 991, 997]\n",
      "1949\n",
      "168\n"
     ]
    }
   ],
   "source": [
    "# N ta tub son\n",
    "n = int(input(\"N = \"))\n",
    "tub = [3]\n",
    "sanagich = 0\n",
    "for i in range(5,n+1,2):\n",
    "    if i%3!=0:\n",
    "        for j in range(int(len(tub)**0.5)):\n",
    "            sanagich += 1\n",
    "            if i%tub[j]==0 or i**2==tub[j]:\n",
    "                break\n",
    "        else:\n",
    "            tub.append(i)\n",
    "tub.insert(0,2)\n",
    "print(tub)\n",
    "print(sanagich)\n",
    "print(len(tub))"
   ]
  },
  {
   "cell_type": "code",
   "execution_count": 447,
   "id": "c3829155",
   "metadata": {},
   "outputs": [
    {
     "name": "stdout",
     "output_type": "stream",
     "text": [
      "M = 5\n",
      "N = 5\n",
      "4 3 8 6 9\n",
      "6 9 6 6 6\n",
      "7 2 3 6 5\n",
      "4 3 6 1 8\n",
      "9 4 4 2 7\n",
      "\n",
      "K1 = 1\n",
      "K2 = 3\n",
      "4 3 8 6 9\n",
      "4 3 6 1 8\n",
      "7 2 3 6 5\n",
      "6 9 6 6 6\n",
      "9 4 4 2 7\n"
     ]
    }
   ],
   "source": [
    "# Matrix 47\n",
    "from random import randint\n",
    "m = int(input(\"M = \"))\n",
    "n = int(input(\"N = \"))\n",
    "matrix = [[randint(1,9) for i in range(n)] for i in range(m)]\n",
    "for i in matrix:\n",
    "    print(*i)\n",
    "print()\n",
    "\n",
    "k1 = int(input(\"K1 = \"))\n",
    "k2 = int(input(\"K2 = \"))\n",
    "for i in range(m):\n",
    "    matrix[k1][i],matrix[k2][i]=matrix[k2][i], matrix[k1][i]\n",
    "\n",
    "for i in matrix:\n",
    "    print(*i)"
   ]
  },
  {
   "cell_type": "code",
   "execution_count": 446,
   "id": "4b0aed33",
   "metadata": {},
   "outputs": [
    {
     "name": "stdout",
     "output_type": "stream",
     "text": [
      "M = 5\n",
      "N = 5\n",
      "3 9 6 3 8\n",
      "2 7 4 4 9\n",
      "5 8 3 7 7\n",
      "1 6 6 5 1\n",
      "3 1 7 1 8\n",
      "\n",
      "K1 = 1\n",
      "K2 = 3\n",
      "3 3 6 9 8\n",
      "2 4 4 7 9\n",
      "5 7 3 8 7\n",
      "1 5 6 6 1\n",
      "3 1 7 1 8\n"
     ]
    }
   ],
   "source": [
    "# Matrix 48\n",
    "from random import randint\n",
    "m = int(input(\"M = \"))\n",
    "n = int(input(\"N = \"))\n",
    "matrix = [[randint(1,9) for i in range(n)] for i in range(m)]\n",
    "for i in matrix:\n",
    "    print(*i)\n",
    "print()\n",
    "\n",
    "k1 = int(input(\"K1 = \"))\n",
    "k2 = int(input(\"K2 = \"))\n",
    "for i in range(m):\n",
    "    matrix[i][k1],matrix[i][k2]=matrix[i][k2], matrix[i][k1]\n",
    "\n",
    "for i in matrix:\n",
    "    print(*i)"
   ]
  },
  {
   "cell_type": "code",
   "execution_count": 454,
   "id": "716a61c2",
   "metadata": {},
   "outputs": [
    {
     "name": "stdout",
     "output_type": "stream",
     "text": [
      "M = 5\n",
      "N = 5\n",
      "3 9 8 3 6\n",
      "5 6 4 1 7\n",
      "3 5 3 7 4\n",
      "9 9 1 7 5\n",
      "4 6 3 1 9\n",
      "\n",
      "9 3 8 3 6\n",
      "5 6 4 7 1\n",
      "7 5 3 3 4\n",
      "1 9 9 7 5\n",
      "4 6 3 9 1\n"
     ]
    }
   ],
   "source": [
    "# Matrix 49\n",
    "from random import randint\n",
    "m = int(input(\"M = \"))\n",
    "n = int(input(\"N = \"))\n",
    "matrix = [[randint(1,9) for i in range(n)] for i in range(m)]\n",
    "for i in matrix:\n",
    "    print(*i)\n",
    "print()\n",
    "\n",
    "for i in range(m):\n",
    "    a = matrix[i].index(max(matrix[i]))\n",
    "    b = matrix[i].index(min(matrix[i]))\n",
    "    matrix[i][a], matrix[i][b] = matrix[i][b], matrix[i][a]\n",
    "    \n",
    "\n",
    "for i in matrix:\n",
    "    print(*i)"
   ]
  },
  {
   "cell_type": "code",
   "execution_count": 13,
   "id": "f22e7ba1",
   "metadata": {},
   "outputs": [
    {
     "name": "stdout",
     "output_type": "stream",
     "text": [
      "M = 5\n",
      "N = 5\n",
      "5 3 5 8 7\n",
      "3 6 2 9 2\n",
      "8 5 8 2 3\n",
      "6 7 4 3 3\n",
      "2 9 1 7 7\n",
      "\n",
      "5 9 5 8 2\n",
      "3 6 2 2 7\n",
      "2 5 1 9 3\n",
      "6 7 4 3 3\n",
      "8 3 8 7 7\n"
     ]
    }
   ],
   "source": [
    "# Matrix 50\n",
    "from random import randint\n",
    "m = int(input(\"M = \"))\n",
    "n = int(input(\"N = \"))\n",
    "matrix = [[randint(1,9) for i in range(n)] for i in range(m)]\n",
    "for i in matrix:\n",
    "    print(*i)\n",
    "print()\n",
    "\n",
    "\n",
    "for j in range(len(matrix[0])):\n",
    "    x = True\n",
    "    for i in range(len(matrix)):\n",
    "        if x:\n",
    "            mini = maxi = matrix[i][j]\n",
    "            id_mini, id_maxi = i, i\n",
    "            x = False\n",
    "        if mini>matrix[i][j]:\n",
    "            mini = matrix[i][j]\n",
    "            id_mini = i\n",
    "        elif maxi < matrix[i][j]:\n",
    "            maxi = matrix[i][j]\n",
    "            id_maxi = i    \n",
    "    matrix[id_maxi][j], matrix[id_mini][j] = matrix[id_mini][j], matrix[id_maxi][j]\n",
    "    \n",
    "\n",
    "for i in matrix:\n",
    "    print(*i)"
   ]
  },
  {
   "cell_type": "code",
   "execution_count": 38,
   "id": "05b0b7d5",
   "metadata": {},
   "outputs": [
    {
     "name": "stdout",
     "output_type": "stream",
     "text": [
      "M = 3\n",
      "N = 3\n",
      "6 8 9\n",
      "3 6 2\n",
      "9 7 7\n",
      "\n",
      "6 8 9\n",
      "9 7 7\n",
      "3 6 2\n"
     ]
    }
   ],
   "source": [
    "# Matrix 51\n",
    "from random import randint\n",
    "m = int(input(\"M = \"))\n",
    "n = int(input(\"N = \"))\n",
    "matrix = [[randint(1,9) for i in range(n)] for i in range(m)]\n",
    "for i in matrix:\n",
    "    print(*i)\n",
    "print()\n",
    "\n",
    "\n",
    "x = True\n",
    "for i in range(len(matrix)):\n",
    "    if x:\n",
    "        maxi = max(matrix[i])\n",
    "        mini = min(matrix[i])\n",
    "        id_mini = i\n",
    "        id_maxi = i\n",
    "        x = False\n",
    "    if mini >= min(matrix[i]):\n",
    "        mini = min(matrix[i])\n",
    "        id_mini = i\n",
    "    elif maxi <= max(matrix[i]):\n",
    "        maxi = max(matrix[i])\n",
    "        id_maxi = i \n",
    "matrix[id_maxi], matrix[id_mini] = matrix[id_mini], matrix[id_maxi]\n",
    "    \n",
    "\n",
    "for i in matrix:\n",
    "    print(*i)"
   ]
  },
  {
   "cell_type": "code",
   "execution_count": 164,
   "id": "d77ac6a9",
   "metadata": {},
   "outputs": [
    {
     "name": "stdout",
     "output_type": "stream",
     "text": [
      "M = 4\n",
      "N = 4\n",
      "3 4 9 5\n",
      "1 8 9 4\n",
      "1 4 6 1\n",
      "3 6 5 7\n",
      "\n",
      "1 4 6 1\n",
      "1 8 9 4\n",
      "3 4 9 5\n",
      "3 6 5 7\n"
     ]
    }
   ],
   "source": [
    "# Matrix 52\n",
    "from random import randint\n",
    "m = int(input(\"M = \"))\n",
    "n = int(input(\"N = \"))\n",
    "matrix = [[randint(1,9) for i in range(n)] for i in range(m)]\n",
    "for i in matrix:\n",
    "    print(*i)\n",
    "print()\n",
    "\n",
    "\n",
    "x = True\n",
    "for j in range(len(matrix[0])):\n",
    "    for i in range(len(matrix)):\n",
    "        if x:\n",
    "            maxi = max(matrix[i])\n",
    "            mini = min(matrix[i])\n",
    "            id_mini, id_maxi = i, i\n",
    "            x = False\n",
    "        if mini >= min(matrix[i]):\n",
    "            mini = min(matrix[i])\n",
    "            id_mini = i\n",
    "        elif maxi <= max(matrix[i]):\n",
    "            maxi = max(matrix[i])\n",
    "            id_maxi = i    \n",
    "    matrix[id_maxi][j], matrix[id_mini][j] = matrix[id_mini][j], matrix[id_maxi][j]\n",
    "    \n",
    "\n",
    "for i in matrix:\n",
    "    print(*i)"
   ]
  },
  {
   "cell_type": "code",
   "execution_count": 497,
   "id": "e84a6077",
   "metadata": {},
   "outputs": [
    {
     "name": "stdout",
     "output_type": "stream",
     "text": [
      "M = 5\n",
      "N = 5\n",
      "2 6 -1 3 8\n",
      "3 9 8 7 3\n",
      "7 2 5 5 6\n",
      "4 8 0 -1 4\n",
      "-1 0 7 9 5\n",
      "\n",
      "8 6 -1 3 2\n",
      "3 9 8 7 3\n",
      "6 2 5 5 7\n",
      "4 8 0 -1 4\n",
      "5 0 7 9 -1\n"
     ]
    }
   ],
   "source": [
    "# Matrix 53\n",
    "from random import randint\n",
    "m = int(input(\"M = \"))\n",
    "n = int(input(\"N = \"))\n",
    "matrix = [[randint(-1,9) for i in range(n)] for i in range(m)]\n",
    "for i in matrix:\n",
    "    print(*i)\n",
    "print()\n",
    "x = True\n",
    "for i in range(m):\n",
    "    if matrix[i][-1]<=0:\n",
    "        x = False\n",
    "        break\n",
    "if x:\n",
    "    for j in range(n):\n",
    "        for i in range(m):\n",
    "            matrix[i][0], matrix[i][-1] = matrix[i][-1], matrix[i][0]\n",
    "\n",
    "for i in matrix:\n",
    "    print(*i)"
   ]
  },
  {
   "cell_type": "code",
   "execution_count": 502,
   "id": "dd95d2c9",
   "metadata": {},
   "outputs": [
    {
     "name": "stdout",
     "output_type": "stream",
     "text": [
      "M = 5\n",
      "N = 5\n",
      "-7 -5 -4 -8 -8\n",
      "-6 -1 -9 -4 -6\n",
      "-5 -5 0 -9 -7\n",
      "-9 -1 -5 -7 -9\n",
      "-9 1 -3 -7 -5\n",
      "\n",
      "-8 -5 -4 -8 -7\n",
      "-6 -1 -9 -4 -6\n",
      "-7 -5 0 -9 -5\n",
      "-9 -1 -5 -7 -9\n",
      "-5 1 -3 -7 -9\n"
     ]
    }
   ],
   "source": [
    "# Matrix 54\n",
    "from random import randint\n",
    "m = int(input(\"M = \"))\n",
    "n = int(input(\"N = \"))\n",
    "matrix = [[randint(-9,1) for i in range(n)] for i in range(m)]\n",
    "for i in matrix:\n",
    "    print(*i)\n",
    "print()\n",
    "x = True\n",
    "for i in range(m):\n",
    "    if matrix[i][0]>=0:\n",
    "        x = False\n",
    "        break\n",
    "if x:\n",
    "    for j in range(n):\n",
    "        for i in range(m):\n",
    "            matrix[i][0], matrix[i][-1] = matrix[i][-1], matrix[i][0]\n",
    "\n",
    "for i in matrix:\n",
    "    print(*i)"
   ]
  },
  {
   "cell_type": "code",
   "execution_count": 50,
   "id": "3bfbe662",
   "metadata": {},
   "outputs": [
    {
     "name": "stdout",
     "output_type": "stream",
     "text": [
      "M = 4\n",
      "N = 4\n",
      "2 9 3 7\n",
      "2 7 3 2\n",
      "8 3 8 3\n",
      "4 6 8 5\n",
      "\n",
      "8 3 8 3\n",
      "4 6 8 5\n",
      "2 9 3 7\n",
      "2 7 3 2\n"
     ]
    }
   ],
   "source": [
    "# Matrix 55\n",
    "from random import randint\n",
    "m = int(input(\"M = \"))\n",
    "n = int(input(\"N = \"))\n",
    "matrix = [[randint(1,9) for i in range(n)] for i in range(m)]\n",
    "for i in matrix:\n",
    "    print(*i)\n",
    "print()\n",
    "\n",
    "for i in range(int(len(matrix)/2)):\n",
    "    for j in range(len(matrix[0])):\n",
    "        matrix[i][j], matrix[m//2+i][j] = matrix[m//2+i][j], matrix[i][j]\n",
    "    \n",
    "for i in matrix:\n",
    "    print(*i)"
   ]
  },
  {
   "cell_type": "code",
   "execution_count": 51,
   "id": "ae45fbc9",
   "metadata": {},
   "outputs": [
    {
     "name": "stdout",
     "output_type": "stream",
     "text": [
      "M = 5\n",
      "N = 4\n",
      "7 7 5 5\n",
      "5 2 2 4\n",
      "7 6 1 8\n",
      "3 7 3 2\n",
      "8 2 5 2\n",
      "\n",
      "5 5 7 7\n",
      "2 4 5 2\n",
      "1 8 7 6\n",
      "3 2 3 7\n",
      "5 2 8 2\n"
     ]
    }
   ],
   "source": [
    "# Matrix 56\n",
    "from random import randint\n",
    "m = int(input(\"M = \"))\n",
    "n = int(input(\"N = \"))\n",
    "matrix = [[randint(1,9) for i in range(n)] for i in range(m)]\n",
    "for i in matrix:\n",
    "    print(*i)\n",
    "print()\n",
    "\n",
    "for i in range(len(matrix)):\n",
    "    for j in range(int(len(matrix[0])/2)):\n",
    "        matrix[i][j], matrix[i][n//2+j] = matrix[i][n//2+j], matrix[i][j]\n",
    "    \n",
    "for i in matrix:\n",
    "    print(*i)"
   ]
  },
  {
   "cell_type": "code",
   "execution_count": 52,
   "id": "6f6d39f2",
   "metadata": {},
   "outputs": [
    {
     "name": "stdout",
     "output_type": "stream",
     "text": [
      "M = 4\n",
      "N = 4\n",
      "1 1 3 7\n",
      "6 9 1 4\n",
      "8 6 4 4\n",
      "7 9 8 8\n",
      "\n",
      "4 4 3 7\n",
      "8 8 1 4\n",
      "8 6 1 1\n",
      "7 9 6 9\n"
     ]
    }
   ],
   "source": [
    "# Matrix 57\n",
    "from random import randint\n",
    "m = int(input(\"M = \"))\n",
    "n = int(input(\"N = \"))\n",
    "matrix = [[randint(1,9) for i in range(n)] for i in range(m)]\n",
    "for i in matrix:\n",
    "    print(*i)\n",
    "print()\n",
    "\n",
    "for i in range(int(len(matrix)/2)):\n",
    "    for j in range(int(len(matrix[0])/2)):\n",
    "        matrix[i][j], matrix[m//2+i][n//2+j] = matrix[m//2+i][n//2+j], matrix[i][j]\n",
    "    \n",
    "for i in matrix:\n",
    "    print(*i)"
   ]
  },
  {
   "cell_type": "code",
   "execution_count": 76,
   "id": "39883e95",
   "metadata": {},
   "outputs": [
    {
     "name": "stdout",
     "output_type": "stream",
     "text": [
      "M = 4\n",
      "N = 4\n",
      "5 6 1 3\n",
      "4 5 4 1\n",
      "8 4 1 4\n",
      "9 1 4 1\n",
      "\n",
      "5 6 8 4\n",
      "4 5 9 1\n",
      "1 3 1 4\n",
      "4 1 4 1\n"
     ]
    }
   ],
   "source": [
    "# Matrix 58\n",
    "from random import randint\n",
    "m = int(input(\"M = \"))\n",
    "n = int(input(\"N = \"))\n",
    "matrix = [[randint(1,9) for i in range(n)] for i in range(m)]\n",
    "for i in matrix:\n",
    "    print(*i)\n",
    "print()\n",
    "\n",
    "for i in range(int(len(matrix)/2), len(matrix)):\n",
    "    for j in range(int(len(matrix[0])/2), len(matrix[0])):\n",
    "        matrix[i-m//2][j], matrix[i][j-n//2] = matrix[i][j-n//2], matrix[i-m//2][j]\n",
    "        \n",
    "for i in matrix:\n",
    "    print(*i)"
   ]
  },
  {
   "cell_type": "code",
   "execution_count": 90,
   "id": "c24816b5",
   "metadata": {},
   "outputs": [
    {
     "name": "stdout",
     "output_type": "stream",
     "text": [
      "M = 5\n",
      "N = 5\n",
      "2 9 4 5 4\n",
      "8 5 6 6 1\n",
      "7 3 3 7 7\n",
      "2 2 8 2 4\n",
      "7 2 8 6 4\n",
      "\n",
      "7 2 8 6 4\n",
      "2 2 8 2 4\n",
      "7 3 3 7 7\n",
      "8 5 6 6 1\n",
      "2 9 4 5 4\n"
     ]
    }
   ],
   "source": [
    "# Matrix 59\n",
    "from random import randint\n",
    "m = int(input(\"M = \"))\n",
    "n = int(input(\"N = \"))\n",
    "matrix = [[randint(1,9) for i in range(n)] for i in range(m)]\n",
    "for i in matrix:\n",
    "    print(*i)\n",
    "print()\n",
    "\n",
    "for j in range(len(matrix[0])):\n",
    "    for i in range(len(matrix)//2+1):\n",
    "        matrix[i][j], matrix[m-i-1][j] = matrix[m-i-1][j], matrix[i][j]\n",
    "        \n",
    "for i in matrix:\n",
    "    print(*i)"
   ]
  },
  {
   "cell_type": "code",
   "execution_count": 94,
   "id": "66620962",
   "metadata": {},
   "outputs": [
    {
     "name": "stdout",
     "output_type": "stream",
     "text": [
      "M = 3\n",
      "N = 3\n",
      "2 1 2\n",
      "1 6 3\n",
      "2 4 6\n",
      "\n",
      "2 1 2\n",
      "3 6 1\n",
      "6 4 2\n"
     ]
    }
   ],
   "source": [
    "# Matrix 60\n",
    "from random import randint\n",
    "m = int(input(\"M = \"))\n",
    "n = int(input(\"N = \"))\n",
    "matrix = [[randint(1,9) for i in range(n)] for i in range(m)]\n",
    "for i in matrix:\n",
    "    print(*i)\n",
    "print()\n",
    "\n",
    "for i in range(len(matrix)):\n",
    "    for j in range(len(matrix[0])//2+1):\n",
    "        matrix[i][j], matrix[i][m-j-1] = matrix[i][m-j-1], matrix[i][j]\n",
    "        \n",
    "for i in matrix:\n",
    "    print(*i)"
   ]
  },
  {
   "cell_type": "code",
   "execution_count": 96,
   "id": "2efa343c",
   "metadata": {},
   "outputs": [
    {
     "name": "stdout",
     "output_type": "stream",
     "text": [
      "M = 3\n",
      "N = 3\n",
      "9 3 6\n",
      "2 2 9\n",
      "4 5 5\n",
      "\n",
      "K = 1\n",
      "9 3 6\n",
      "4 5 5\n"
     ]
    }
   ],
   "source": [
    "# Matrix 61\n",
    "from random import randint\n",
    "m = int(input(\"M = \"))\n",
    "n = int(input(\"N = \"))\n",
    "matrix = [[randint(1,9) for i in range(n)] for i in range(m)]\n",
    "for i in matrix:\n",
    "    print(*i)\n",
    "print()\n",
    "\n",
    "k = int(input(\"K = \"))\n",
    "matrix.pop(k)    \n",
    "        \n",
    "for i in matrix:\n",
    "    print(*i)"
   ]
  },
  {
   "cell_type": "code",
   "execution_count": 98,
   "id": "212370cf",
   "metadata": {},
   "outputs": [
    {
     "name": "stdout",
     "output_type": "stream",
     "text": [
      "M = 4\n",
      "N = 4\n",
      "6 8 8 8\n",
      "5 7 3 4\n",
      "7 8 2 6\n",
      "6 5 6 3\n",
      "\n",
      "K = 2\n",
      "6 8 8\n",
      "5 7 4\n",
      "7 8 6\n",
      "6 5 3\n"
     ]
    }
   ],
   "source": [
    "# Matrix 62\n",
    "from random import randint\n",
    "m = int(input(\"M = \"))\n",
    "n = int(input(\"N = \"))\n",
    "matrix = [[randint(1,9) for i in range(n)] for i in range(m)]\n",
    "for i in matrix:\n",
    "    print(*i)\n",
    "print()\n",
    "\n",
    "k = int(input(\"K = \"))\n",
    "for i in range(m):\n",
    "    matrix[i].pop(k)    \n",
    "        \n",
    "for i in matrix:\n",
    "    print(*i)"
   ]
  },
  {
   "cell_type": "code",
   "execution_count": 105,
   "id": "59bc6bd3",
   "metadata": {},
   "outputs": [
    {
     "name": "stdout",
     "output_type": "stream",
     "text": [
      "M = 4\n",
      "N = 4\n",
      "5 3 3 7\n",
      "9 2 8 3\n",
      "9 8 8 8\n",
      "5 3 6 2\n",
      "\n",
      "5 3 3 7\n",
      "9 8 8 8\n",
      "5 3 6 2\n"
     ]
    }
   ],
   "source": [
    "# Matrix 63\n",
    "from random import randint\n",
    "m = int(input(\"M = \"))\n",
    "n = int(input(\"N = \"))\n",
    "matrix = [[randint(1,9) for i in range(n)] for i in range(m)]\n",
    "for i in matrix:\n",
    "    print(*i)\n",
    "print()\n",
    "\n",
    "x = True\n",
    "for i in range(m):\n",
    "    if x:\n",
    "        mini = min(matrix[i])\n",
    "        idx = i\n",
    "        x = False\n",
    "    if mini > min(matrix[i]):\n",
    "        mini = min(matrix[i])\n",
    "        idx = i\n",
    "matrix.pop(idx)\n",
    "        \n",
    "for i in matrix:\n",
    "    print(*i)"
   ]
  },
  {
   "cell_type": "code",
   "execution_count": 177,
   "id": "649635ec",
   "metadata": {},
   "outputs": [
    {
     "name": "stdout",
     "output_type": "stream",
     "text": [
      "M = 3\n",
      "N = 3\n",
      "3 4 4\n",
      "9 3 1\n",
      "6 9 7\n",
      "\n",
      "4 4\n",
      "3 1\n",
      "9 7\n"
     ]
    }
   ],
   "source": [
    "# Matrix 64\n",
    "from random import randint\n",
    "m = int(input(\"M = \"))\n",
    "n = int(input(\"N = \"))\n",
    "matrix = [[randint(1,9) for i in range(n)] for i in range(m)]\n",
    "for i in matrix:\n",
    "    print(*i)\n",
    "print()\n",
    "\n",
    "maxi = matrix[0][0]\n",
    "idx = 0\n",
    "for j in range(n):\n",
    "    \n",
    "    for i in range(m):\n",
    "        if maxi < matrix[i][j]:\n",
    "            maxi = matrix[i][j]\n",
    "            idx = j\n",
    "\n",
    "for i in range(len(matrix)):\n",
    "    matrix[i].pop(idx)\n",
    "        \n",
    "for i in matrix:\n",
    "    print(*i)"
   ]
  },
  {
   "cell_type": "code",
   "execution_count": 240,
   "id": "1815fd20",
   "metadata": {},
   "outputs": [
    {
     "name": "stdout",
     "output_type": "stream",
     "text": [
      "M = 2\n",
      "N = 6\n",
      "-7\t4\t3\t5\t2\t-2\n",
      "1\t6\t6\t2\t9\t6\n",
      "\n",
      "-7\t3\t5\t2\t-2\n",
      "1\t6\t2\t9\t6\n"
     ]
    }
   ],
   "source": [
    "# Matrix 65\n",
    "from random import randint\n",
    "m = int(input(\"M = \"))\n",
    "n = int(input(\"N = \"))\n",
    "matrix = [[randint(-9,9) for i in range(n)] for i in range(m)]\n",
    "for i in matrix:\n",
    "    print(*i, sep=\"\\t\")\n",
    "print()\n",
    "\n",
    "for j in range(n):\n",
    "    x = True\n",
    "    for i in range(m):\n",
    "        if 0 > matrix[i][j]:\n",
    "            x = False\n",
    "            break\n",
    "    if x:\n",
    "        idx = j\n",
    "        break\n",
    "            \n",
    "        \n",
    "for i in range(len(matrix)):\n",
    "    matrix[i].pop(idx)\n",
    "    \n",
    "for i in matrix:\n",
    "    print(*i, sep=\"\\t\")"
   ]
  },
  {
   "cell_type": "code",
   "execution_count": 254,
   "id": "c389b997",
   "metadata": {},
   "outputs": [
    {
     "name": "stdout",
     "output_type": "stream",
     "text": [
      "M = 2\n",
      "N = 6\n",
      "-5\t-7\t4\t-2\t-8\t8\n",
      "9\t5\t4\t0\t1\t0\n",
      "\n",
      "-5\t-7\t4\t-2\t-8\t8\n",
      "9\t5\t4\t0\t1\t0\n"
     ]
    }
   ],
   "source": [
    "# Matrix 66\n",
    "from random import randint\n",
    "m = int(input(\"M = \"))\n",
    "n = int(input(\"N = \"))\n",
    "matrix = [[randint(-9,9) for i in range(n)] for i in range(m)]\n",
    "for i in matrix:\n",
    "    print(*i, sep=\"\\t\")\n",
    "print()\n",
    "\n",
    "for j in range(n):\n",
    "    x = True\n",
    "    idx = None\n",
    "    for i in range(m):\n",
    "        if 0 <= matrix[i][j]:\n",
    "            x = False\n",
    "            break\n",
    "    if x:\n",
    "        idx = j\n",
    "            \n",
    "        \n",
    "for i in range(len(matrix)):\n",
    "    if idx != None:\n",
    "        matrix[i].pop(idx)\n",
    "    \n",
    "for i in matrix:\n",
    "    print(*i, sep=\"\\t\")"
   ]
  },
  {
   "cell_type": "code",
   "execution_count": 401,
   "id": "1348feb8",
   "metadata": {},
   "outputs": [
    {
     "name": "stdout",
     "output_type": "stream",
     "text": [
      "M = 2\n",
      "N = 6\n",
      "-1\t-7\t-3\t7\t2\t6\n",
      "-2\t-4\t-6\t8\t-1\t6\n",
      "\n",
      "-1\t-7\t-3\t2\n",
      "-2\t-4\t-6\t-1\n"
     ]
    }
   ],
   "source": [
    "# Matrix 67\n",
    "from random import randint\n",
    "m = int(input(\"M = \"))\n",
    "n = int(input(\"N = \"))\n",
    "matrix = [[randint(-9,9) for i in range(n)] for i in range(m)]\n",
    "for i in matrix:\n",
    "    print(*i, sep=\"\\t\")\n",
    "print()\n",
    "\n",
    "j = 0\n",
    "while j < len(matrix[0]):\n",
    "    for i in range(m):\n",
    "        if 0 >= matrix[i][j]:\n",
    "            break\n",
    "    else:                   \n",
    "        for k in range(len(matrix)):\n",
    "            matrix[k].pop(j)\n",
    "        j -= 1\n",
    "    j += 1\n",
    "for i in matrix:\n",
    "    print(*i, sep=\"\\t\")"
   ]
  },
  {
   "cell_type": "code",
   "execution_count": 287,
   "id": "4b0453f8",
   "metadata": {},
   "outputs": [
    {
     "name": "stdout",
     "output_type": "stream",
     "text": [
      "M = 3\n",
      "N = 3\n",
      "5 2 8\n",
      "4 4 2\n",
      "5 3 1\n",
      "\n",
      "K = 1\n",
      "\n",
      "5 2 8\n",
      "0 0 0\n",
      "4 4 2\n",
      "5 3 1\n"
     ]
    }
   ],
   "source": [
    "# Matrix 68\n",
    "from random import randint\n",
    "m = int(input(\"M = \"))\n",
    "n = int(input(\"N = \"))\n",
    "matrix = [[randint(1,9) for i in range(n)] for i in range(m)]\n",
    "for i in matrix:\n",
    "    print(*i)\n",
    "print()\n",
    "\n",
    "k = int(input(\"K = \"))\n",
    "print()\n",
    "matrix.insert(k,[0]*n)\n",
    "    \n",
    "for i in matrix:\n",
    "    print(*i)"
   ]
  },
  {
   "cell_type": "code",
   "execution_count": 402,
   "id": "5eee3abe",
   "metadata": {},
   "outputs": [
    {
     "name": "stdout",
     "output_type": "stream",
     "text": [
      "M = 4\n",
      "N = 4\n",
      "7 4 8 5\n",
      "1 3 5 8\n",
      "6 3 7 6\n",
      "7 7 5 7\n",
      "\n",
      "K = 2\n",
      "7 4 0 8 5\n",
      "1 3 0 5 8\n",
      "6 3 0 7 6\n",
      "7 7 0 5 7\n"
     ]
    }
   ],
   "source": [
    "# Matrix 69\n",
    "from random import randint\n",
    "m = int(input(\"M = \"))\n",
    "n = int(input(\"N = \"))\n",
    "matrix = [[randint(1,9) for i in range(n)] for i in range(m)]\n",
    "for i in matrix:\n",
    "    print(*i)\n",
    "print()\n",
    "\n",
    "k = int(input(\"K = \"))\n",
    "for i in range(m):\n",
    "    matrix[i].insert(k+1,0)\n",
    "    \n",
    "for i in matrix:\n",
    "    print(*i)"
   ]
  },
  {
   "cell_type": "code",
   "execution_count": 322,
   "id": "c6f01f0d",
   "metadata": {},
   "outputs": [
    {
     "name": "stdout",
     "output_type": "stream",
     "text": [
      "M = 3\n",
      "N = 3\n",
      "7 5 1\n",
      "5 6 8\n",
      "9 5 2\n",
      "\n",
      "7 5 1\n",
      "5 6 8\n",
      "9 5 2\n",
      "9 5 2\n"
     ]
    }
   ],
   "source": [
    "# Matrix 70\n",
    "from random import randint\n",
    "m = int(input(\"M = \"))\n",
    "n = int(input(\"N = \"))\n",
    "matrix = [[randint(1,9) for i in range(n)] for i in range(m)]\n",
    "for i in matrix:\n",
    "    print(*i)\n",
    "print()\n",
    "\n",
    "maxi = matrix[0][0]\n",
    "idx = i\n",
    "for i in range(m):\n",
    "    for j in range(n):\n",
    "        if maxi < matrix[i][j]:\n",
    "            maxi = matrix[i][j]\n",
    "            idx = i\n",
    "            \n",
    "\n",
    "matrix.insert(idx, matrix[idx])\n",
    "\n",
    "for i in matrix:\n",
    "    print(*i)"
   ]
  },
  {
   "cell_type": "code",
   "execution_count": 306,
   "id": "9302307a",
   "metadata": {},
   "outputs": [
    {
     "name": "stdout",
     "output_type": "stream",
     "text": [
      "M = 3\n",
      "N = 3\n",
      "9 2 8\n",
      "8 1 7\n",
      "5 9 2\n",
      "\n",
      "9 2 2 8\n",
      "8 1 1 7\n",
      "5 9 9 2\n"
     ]
    }
   ],
   "source": [
    "# Matrix 71\n",
    "from random import randint\n",
    "m = int(input(\"M = \"))\n",
    "n = int(input(\"N = \"))\n",
    "matrix = [[randint(1,9) for i in range(n)] for i in range(m)]\n",
    "for i in matrix:\n",
    "    print(*i)\n",
    "print()\n",
    "\n",
    "mini = matrix[0][0]\n",
    "idx = i\n",
    "for j in range(n):\n",
    "    for i in range(m):\n",
    "        if mini > matrix[i][j]:\n",
    "            mini = matrix[i][j]\n",
    "            idx = j\n",
    "            \n",
    "for i in range(m):\n",
    "    matrix[i].insert(idx+1, matrix[i][idx])\n",
    "\n",
    "for i in matrix:\n",
    "    print(*i)"
   ]
  },
  {
   "cell_type": "code",
   "execution_count": 406,
   "id": "99458e24",
   "metadata": {
    "scrolled": true
   },
   "outputs": [
    {
     "name": "stdout",
     "output_type": "stream",
     "text": [
      "M = 2\n",
      "N = 6\n",
      "-2\t-7\t7\t4\t-8\t-9\n",
      "-3\t5\t9\t4\t5\t-9\n",
      "\n",
      "-2\t-7\t1\t7\t4\t-8\t-9\n",
      "-3\t5\t1\t9\t4\t5\t-9\n"
     ]
    }
   ],
   "source": [
    "# Matrix 72\n",
    "from random import randint\n",
    "m = int(input(\"M = \"))\n",
    "n = int(input(\"N = \"))\n",
    "matrix = [[randint(-9,9) for i in range(n)] for i in range(m)]\n",
    "for i in matrix:\n",
    "    print(*i, sep=\"\\t\")\n",
    "print()\n",
    "\n",
    "for j in range(n):\n",
    "    for i in range(m):\n",
    "        if 0 > matrix[i][j]:\n",
    "            s = 1\n",
    "            break\n",
    "    else:\n",
    "        s = 2\n",
    "        idx = j\n",
    "        break\n",
    "            \n",
    "if s == 2:        \n",
    "    for i in range(len(matrix)):\n",
    "        matrix[i].insert(idx,1)\n",
    "    \n",
    "for i in matrix:\n",
    "    print(*i, sep=\"\\t\")"
   ]
  },
  {
   "cell_type": "code",
   "execution_count": 345,
   "id": "d5a7d0a1",
   "metadata": {},
   "outputs": [
    {
     "name": "stdout",
     "output_type": "stream",
     "text": [
      "M = 2\n",
      "N = 6\n",
      "0\t3\t3\t-6\t8\t-3\n",
      "3\t4\t-5\t-9\t-2\t-1\n",
      "\n",
      "0\t3\t3\t-6\t8\t0\t-3\n",
      "3\t4\t-5\t-9\t-2\t0\t-1\n"
     ]
    }
   ],
   "source": [
    "# Matrix 73\n",
    "from random import randint\n",
    "m = int(input(\"M = \"))\n",
    "n = int(input(\"N = \"))\n",
    "matrix = [[randint(-9,9) for i in range(n)] for i in range(m)]\n",
    "for i in matrix:\n",
    "    print(*i, sep=\"\\t\")\n",
    "print()\n",
    "\n",
    "for j in range(n):\n",
    "    for i in range(m):\n",
    "        if 0 <= matrix[i][j]:\n",
    "            s = 1\n",
    "            break\n",
    "    else:\n",
    "        s = 2\n",
    "        idx = j\n",
    "        \n",
    "            \n",
    "if s == 2:        \n",
    "    for i in range(len(matrix)):\n",
    "        matrix[i].insert(idx,0)\n",
    "    \n",
    "for i in matrix:\n",
    "    print(*i, sep=\"\\t\")"
   ]
  },
  {
   "cell_type": "code",
   "execution_count": 187,
   "id": "298c0d09",
   "metadata": {},
   "outputs": [
    {
     "name": "stdout",
     "output_type": "stream",
     "text": [
      "M = 4\n",
      "N = 4\n",
      "4 7 3 9\n",
      "5 5 6 1\n",
      "3 7 4 2\n",
      "3 9 3 3\n",
      "\n",
      "0 7 3 9\n",
      "5 5 6 1\n",
      "3 7 4 2\n",
      "3 9 3 3\n"
     ]
    }
   ],
   "source": [
    "# Matrix 74\n",
    "from random import randint\n",
    "m = int(input(\"M = \"))\n",
    "n = int(input(\"N = \"))\n",
    "matrix = [[randint(1,9) for i in range(n)] for i in range(m)]\n",
    "for i in matrix:\n",
    "    print(*i)\n",
    "print()\n",
    "\n",
    "for i in range(m):\n",
    "    for j in range(n):\n",
    "        if i==0:\n",
    "            if j==0:\n",
    "                if matrix[i+1][j] > matrix[i][j] < matrix[i][j+1]:\n",
    "                    matrix[i][j] = 0\n",
    "            if j==n-1:\n",
    "                if matrix[i][j-1] > matrix[i][j] < matrix[i+1][j]:\n",
    "                    matrix[i][j] = 0\n",
    "        \n",
    "        if i==m-1:\n",
    "            if j==0:\n",
    "                if matrix[i-1][j] > matrix[i][j] < matrix[i][j+1]:\n",
    "                    matrix[i][j] = 0\n",
    "            if j==n-1:\n",
    "                if matrix[i][j-1] > matrix[i][j] < matrix[i-1][j]:\n",
    "                    matrix[i][j] = 0\n",
    "    \n",
    "for i in matrix:\n",
    "    print(*i)"
   ]
  },
  {
   "cell_type": "code",
   "execution_count": 350,
   "id": "632e1ab9",
   "metadata": {},
   "outputs": [
    {
     "name": "stdout",
     "output_type": "stream",
     "text": [
      "M = 5\n",
      "N = 5\n",
      "5 1 6 7 6\n",
      "8 6 2 8 1\n",
      "1 7 6 6 3\n",
      "4 4 9 7 5\n",
      "2 4 9 7 5\n",
      "\n",
      "5 1 6 7 6\n",
      "8 6 2 0 1\n",
      "1 0 6 6 3\n",
      "4 4 9 7 5\n",
      "2 4 9 7 5\n"
     ]
    }
   ],
   "source": [
    "# Matrix 75\n",
    "from random import randint\n",
    "m = int(input(\"M = \"))\n",
    "n = int(input(\"N = \"))\n",
    "matrix = [[randint(1,9) for i in range(n)] for i in range(m)]\n",
    "for i in matrix:\n",
    "    print(*i)\n",
    "print()\n",
    "\n",
    "for i in range(1,m-1):\n",
    "    for j in range(1,n-1):\n",
    "        if matrix[i][j-1] < matrix[i][j] > matrix[i][j+1]:\n",
    "            if matrix[i-1][j] < matrix[i][j] > matrix[i+1][j]:\n",
    "                matrix[i][j] = 0\n",
    "    \n",
    "for i in matrix:\n",
    "    print(*i)"
   ]
  },
  {
   "cell_type": "code",
   "execution_count": 370,
   "id": "121d3e46",
   "metadata": {},
   "outputs": [
    {
     "name": "stdout",
     "output_type": "stream",
     "text": [
      "M = 4\n",
      "N = 4\n",
      "9 8 5 8\n",
      "9 9 6 5\n",
      "7 2 8 5\n",
      "8 6 8 8\n",
      "\n",
      "7 2 8 5\n",
      "8 6 8 8\n",
      "9 8 5 8\n",
      "9 9 6 5\n"
     ]
    }
   ],
   "source": [
    "# Matrix 76\n",
    "from random import randint\n",
    "m = int(input(\"M = \"))\n",
    "n = int(input(\"N = \"))\n",
    "matrix = [[randint(1,9) for i in range(n)] for i in range(m)]\n",
    "for i in matrix:\n",
    "    print(*i)\n",
    "print()\n",
    "\n",
    "for i in range(1,m):\n",
    "    for j in range(0,m-i):\n",
    "        if matrix[j][0] > matrix[j+1][0]:\n",
    "            matrix[j],matrix[j+1] = matrix[j+1],matrix[j]\n",
    "    \n",
    "for i in matrix:\n",
    "    print(*i)"
   ]
  },
  {
   "cell_type": "code",
   "execution_count": 372,
   "id": "13b9e0bd",
   "metadata": {},
   "outputs": [
    {
     "name": "stdout",
     "output_type": "stream",
     "text": [
      "M = 5\n",
      "N = 5\n",
      "2 7 7 6 5\n",
      "2 2 8 4 3\n",
      "7 9 8 9 4\n",
      "6 6 6 8 3\n",
      "6 2 4 6 1\n",
      "\n",
      "2 7 7 6 5\n",
      "7 9 8 9 4\n",
      "2 2 8 4 3\n",
      "6 6 6 8 3\n",
      "6 2 4 6 1\n"
     ]
    }
   ],
   "source": [
    "# Matrix 77\n",
    "from random import randint\n",
    "m = int(input(\"M = \"))\n",
    "n = int(input(\"N = \"))\n",
    "matrix = [[randint(1,9) for i in range(n)] for i in range(m)]\n",
    "for i in matrix:\n",
    "    print(*i)\n",
    "print()\n",
    "\n",
    "for i in range(1,m):\n",
    "    for j in range(0,m-i):\n",
    "        if matrix[j][-1] < matrix[j+1][-1]:\n",
    "            matrix[j],matrix[j+1] = matrix[j+1],matrix[j]\n",
    "    \n",
    "for i in matrix:\n",
    "    print(*i)"
   ]
  },
  {
   "cell_type": "code",
   "execution_count": 376,
   "id": "c91605f0",
   "metadata": {},
   "outputs": [
    {
     "name": "stdout",
     "output_type": "stream",
     "text": [
      "M = 5\n",
      "N = 5\n",
      "7 7 2 1 1\n",
      "4 8 2 8 3\n",
      "4 3 5 4 1\n",
      "4 7 2 6 2\n",
      "4 4 4 2 9\n",
      "\n",
      "4 8 2 8 3\n",
      "4 7 2 6 2\n",
      "4 4 4 2 9\n",
      "7 7 2 1 1\n",
      "4 3 5 4 1\n"
     ]
    }
   ],
   "source": [
    "# Matrix 78\n",
    "from random import randint\n",
    "m = int(input(\"M = \"))\n",
    "n = int(input(\"N = \"))\n",
    "matrix = [[randint(1,9) for i in range(n)] for i in range(m)]\n",
    "for i in matrix:\n",
    "    print(*i)\n",
    "print()\n",
    "\n",
    "for i in range(1,m):\n",
    "    for j in range(0,m-i):\n",
    "        if min(matrix[j]) < min(matrix[j+1]):\n",
    "            matrix[j],matrix[j+1]=matrix[j+1],matrix[j]\n",
    "    \n",
    "for i in matrix:\n",
    "    print(*i)"
   ]
  },
  {
   "cell_type": "code",
   "execution_count": 2,
   "id": "e19e629b",
   "metadata": {},
   "outputs": [
    {
     "name": "stdout",
     "output_type": "stream",
     "text": [
      "M = 4\n",
      "N = 4\n",
      "5 3 2 6\n",
      "6 7 6 5\n",
      "4 4 6 2\n",
      "7 2 6 4\n",
      "\n"
     ]
    },
    {
     "ename": "TypeError",
     "evalue": "'int' object is not iterable",
     "output_type": "error",
     "traceback": [
      "\u001b[1;31m---------------------------------------------------------------------------\u001b[0m",
      "\u001b[1;31mTypeError\u001b[0m                                 Traceback (most recent call last)",
      "Input \u001b[1;32mIn [2]\u001b[0m, in \u001b[0;36m<module>\u001b[1;34m\u001b[0m\n\u001b[0;32m     10\u001b[0m \u001b[38;5;28;01mfor\u001b[39;00m i \u001b[38;5;129;01min\u001b[39;00m \u001b[38;5;28mrange\u001b[39m(m\u001b[38;5;241m-\u001b[39m\u001b[38;5;241m1\u001b[39m):\n\u001b[0;32m     11\u001b[0m     \u001b[38;5;28;01mfor\u001b[39;00m j \u001b[38;5;129;01min\u001b[39;00m \u001b[38;5;28mrange\u001b[39m(\u001b[38;5;241m0\u001b[39m,m\u001b[38;5;241m-\u001b[39m\u001b[38;5;241m1\u001b[39m):\n\u001b[1;32m---> 12\u001b[0m         \u001b[38;5;28;01mif\u001b[39;00m \u001b[38;5;28;43mmax\u001b[39;49m\u001b[43m(\u001b[49m\u001b[38;5;28;43mmax\u001b[39;49m\u001b[43m(\u001b[49m\u001b[43mmatrix\u001b[49m\u001b[43m[\u001b[49m\u001b[43mi\u001b[49m\u001b[43m]\u001b[49m\u001b[43m)\u001b[49m\u001b[43m)\u001b[49m \u001b[38;5;241m>\u001b[39m \u001b[38;5;28mmax\u001b[39m(\u001b[38;5;28mmax\u001b[39m(matrix[i\u001b[38;5;241m+\u001b[39m\u001b[38;5;241m1\u001b[39m])):\n\u001b[0;32m     13\u001b[0m             matrix[j][i],matrix[j\u001b[38;5;241m+\u001b[39m\u001b[38;5;241m1\u001b[39m][i]\u001b[38;5;241m=\u001b[39mmatrix[j\u001b[38;5;241m+\u001b[39m\u001b[38;5;241m1\u001b[39m][i],matrix[j][i]\n\u001b[0;32m     15\u001b[0m \u001b[38;5;28;01mfor\u001b[39;00m i \u001b[38;5;129;01min\u001b[39;00m matrix:\n",
      "\u001b[1;31mTypeError\u001b[0m: 'int' object is not iterable"
     ]
    }
   ],
   "source": [
    "# Matrix 79\n",
    "from random import randint\n",
    "m = int(input(\"M = \"))\n",
    "n = int(input(\"N = \"))\n",
    "matrix = [[randint(1,9) for i in range(n)] for i in range(m)]\n",
    "for i in matrix:\n",
    "    print(*i)\n",
    "print()\n",
    "\n",
    "for i in range(m-1):\n",
    "    for j in range(0,m-1):\n",
    "        if max(matrix[i])) > max(max(matrix[i+1])):\n",
    "            matrix[j][i],matrix[j+1][i]=matrix[j+1][i],matrix[j][i]\n",
    "    \n",
    "for i in matrix:\n",
    "    print(*i)"
   ]
  },
  {
   "cell_type": "code",
   "execution_count": 379,
   "id": "92e86b84",
   "metadata": {},
   "outputs": [
    {
     "name": "stdout",
     "output_type": "stream",
     "text": [
      "M = 4\n",
      "2 8 8 3\n",
      "8 6 2 1\n",
      "8 5 6 8\n",
      "5 2 4 8\n",
      "\n",
      "Yig'indi: 22\n"
     ]
    }
   ],
   "source": [
    "# Matrix 80\n",
    "from random import randint\n",
    "m = int(input(\"M = \"))\n",
    "matrix = [[randint(1,9) for i in range(m)] for i in range(m)]\n",
    "for i in matrix:\n",
    "    print(*i)\n",
    "print()\n",
    "\n",
    "s = 0\n",
    "for i in range(m):\n",
    "    for j in range(m):\n",
    "        if i == j:\n",
    "            s += matrix[i][j]\n",
    "    \n",
    "print(\"Yig'indi:\", s)"
   ]
  },
  {
   "cell_type": "code",
   "execution_count": 380,
   "id": "760df814",
   "metadata": {},
   "outputs": [
    {
     "name": "stdout",
     "output_type": "stream",
     "text": [
      "M = 4\n",
      "3 3 1 8\n",
      "5 2 1 2\n",
      "5 8 4 1\n",
      "7 2 4 8\n",
      "\n",
      "O'rta arifmetik: 6.0\n"
     ]
    }
   ],
   "source": [
    "# Matrix 81\n",
    "from random import randint\n",
    "m = int(input(\"M = \"))\n",
    "matrix = [[randint(1,9) for i in range(m)] for i in range(m)]\n",
    "for i in matrix:\n",
    "    print(*i)\n",
    "print()\n",
    "\n",
    "s = 0\n",
    "for i in range(m):\n",
    "    for j in range(m):\n",
    "        if i+j == m-1:\n",
    "            s += matrix[i][j]\n",
    "    \n",
    "print(\"O'rta arifmetik:\", s/m)"
   ]
  },
  {
   "cell_type": "code",
   "execution_count": 47,
   "id": "b27e7737",
   "metadata": {
    "scrolled": true
   },
   "outputs": [
    {
     "name": "stdout",
     "output_type": "stream",
     "text": [
      "M = 4\n",
      "5 4 1 8\n",
      "7 3 2 3\n",
      "9 8 6 1\n",
      "8 3 2 8\n",
      "\n",
      "Yig'indi: 8\n",
      "Yig'indi: 4\n",
      "Yig'indi: 7\n",
      "Yig'indi: 17\n",
      "Yig'indi: 12\n",
      "Yig'indi: 8\n"
     ]
    }
   ],
   "source": [
    "# Matrix 82\n",
    "from random import randint\n",
    "m = int(input(\"M = \"))\n",
    "matrix = [[randint(1,9) for i in range(m)] for i in range(m)]\n",
    "for i in matrix:\n",
    "    print(*i)\n",
    "print()\n",
    "\n",
    "for j in range(1,m):\n",
    "    s = 0\n",
    "    for i in range(j):\n",
    "        s += matrix[i][m-(j-i)]\n",
    "    print(\"Yig'indi:\", s)\n",
    "    \n",
    "for j in range(m-1,0,-1):\n",
    "    s = 0\n",
    "    for i in range(j):\n",
    "        s += matrix[m-(j-i)][i]\n",
    "    print(\"Yig'indi:\", s)"
   ]
  },
  {
   "cell_type": "code",
   "execution_count": 93,
   "id": "2222afb9",
   "metadata": {},
   "outputs": [
    {
     "name": "stdout",
     "output_type": "stream",
     "text": [
      "M = 3\n",
      "1 5 2\n",
      "2 1 3\n",
      "4 6 4\n",
      "\n",
      "Yig'indi: 1\n",
      "Yig'indi: 7\n",
      "Yig'indi: 9\n",
      "Yig'indi: 4\n"
     ]
    }
   ],
   "source": [
    "# Matrix 83\n",
    "from random import randint\n",
    "m = int(input(\"M = \"))\n",
    "matrix = [[randint(1,9) for i in range(m)] for i in range(m)]\n",
    "for i in matrix:\n",
    "    print(*i)\n",
    "print()\n",
    "\n",
    "for j in range(1,m):\n",
    "    s = 0\n",
    "    for i in range(j):\n",
    "        s += matrix[i][j-i-1]\n",
    "    print(\"Yig'indi:\", s)\n",
    "    \n",
    "for j in range(m-1,0,-1):\n",
    "    s = 0\n",
    "    for i in range(j):\n",
    "        s += matrix[m-(j-i)][m-i-1]\n",
    "    print(\"Yig'indi:\", s)"
   ]
  },
  {
   "cell_type": "code",
   "execution_count": 96,
   "id": "7b80a3fb",
   "metadata": {},
   "outputs": [
    {
     "name": "stdout",
     "output_type": "stream",
     "text": [
      "M = 4\n",
      "4 9 3 1\n",
      "7 7 2 6\n",
      "1 2 7 5\n",
      "5 3 5 5\n",
      "\n",
      "Yig'indi: 1.0\n",
      "Yig'indi: 4.5\n",
      "Yig'indi: 5.333333333333333\n",
      "Yig'indi: 4.666666666666667\n",
      "Yig'indi: 2.0\n",
      "Yig'indi: 5.0\n"
     ]
    }
   ],
   "source": [
    "# Matrix 84\n",
    "from random import randint\n",
    "m = int(input(\"M = \"))\n",
    "matrix = [[randint(1,9) for i in range(m)] for i in range(m)]\n",
    "for i in matrix:\n",
    "    print(*i)\n",
    "print()\n",
    "\n",
    "for j in range(1,m):\n",
    "    s = 0\n",
    "    for i in range(j):\n",
    "        s += matrix[i][m-(j-i)]\n",
    "    print(\"Yig'indi:\", s/j)\n",
    "    \n",
    "for j in range(m-1,0,-1):\n",
    "    s = 0\n",
    "    for i in range(j):\n",
    "        s += matrix[m-(j-i)][i]\n",
    "    print(\"Yig'indi:\", s/j)"
   ]
  },
  {
   "cell_type": "code",
   "execution_count": 97,
   "id": "3ba936d6",
   "metadata": {},
   "outputs": [
    {
     "name": "stdout",
     "output_type": "stream",
     "text": [
      "M = 3\n",
      "2 9 2\n",
      "9 4 3\n",
      "4 1 2\n",
      "\n",
      "Yig'indi: 2.0\n",
      "Yig'indi: 9.0\n",
      "Yig'indi: 2.0\n",
      "Yig'indi: 2.0\n"
     ]
    }
   ],
   "source": [
    "# Matrix 85\n",
    "from random import randint\n",
    "m = int(input(\"M = \"))\n",
    "matrix = [[randint(1,9) for i in range(m)] for i in range(m)]\n",
    "for i in matrix:\n",
    "    print(*i)\n",
    "print()\n",
    "\n",
    "for j in range(1,m):\n",
    "    s = 0\n",
    "    for i in range(j):\n",
    "        s += matrix[i][j-i-1]\n",
    "    print(\"Yig'indi:\", s/j)\n",
    "    \n",
    "for j in range(m-1,0,-1):\n",
    "    s = 0\n",
    "    for i in range(j):\n",
    "        s += matrix[m-(j-i)][m-i-1]\n",
    "    print(\"Yig'indi:\", s/j)"
   ]
  },
  {
   "cell_type": "code",
   "execution_count": 98,
   "id": "2bb34f4c",
   "metadata": {},
   "outputs": [
    {
     "name": "stdout",
     "output_type": "stream",
     "text": [
      "M = 4\n",
      "2 5 5 8\n",
      "8 5 1 7\n",
      "4 5 3 1\n",
      "8 2 4 4\n",
      "\n",
      "Kichigi: 8\n",
      "Kichigi: 5\n",
      "Kichigi: 1\n",
      "Kichigi: 4\n",
      "Kichigi: 2\n",
      "Kichigi: 8\n"
     ]
    }
   ],
   "source": [
    "# Matrix 86\n",
    "from random import randint\n",
    "m = int(input(\"M = \"))\n",
    "matrix = [[randint(1,9) for i in range(m)] for i in range(m)]\n",
    "for i in matrix:\n",
    "    print(*i)\n",
    "print()\n",
    "\n",
    "for j in range(1,m):\n",
    "    x = True\n",
    "    for i in range(j):\n",
    "        if x:\n",
    "            mini = matrix[i][m-(j-i)]\n",
    "            x = False\n",
    "        if mini > matrix[i][m-(j-i)]:\n",
    "            mini = matrix[i][m-(j-i)]\n",
    "    print(\"Kichigi:\", mini)\n",
    "    \n",
    "for j in range(m-1,0,-1):\n",
    "    x = True\n",
    "    for i in range(j):\n",
    "        if x:\n",
    "            mini = matrix[m-(j-i)][i]\n",
    "            x = False\n",
    "        if mini > matrix[m-(j-i)][i]:\n",
    "            mini = matrix[m-(j-i)][i]\n",
    "    print(\"Kichigi:\", mini)"
   ]
  },
  {
   "cell_type": "code",
   "execution_count": 99,
   "id": "31229ecd",
   "metadata": {},
   "outputs": [
    {
     "name": "stdout",
     "output_type": "stream",
     "text": [
      "M = 4\n",
      "4 1 8 8\n",
      "1 5 4 1\n",
      "8 4 4 8\n",
      "2 8 9 1\n",
      "\n",
      "Kattasi: 4\n",
      "Kattasi: 1\n",
      "Kattasi: 8\n",
      "Kattasi: 8\n",
      "Kattasi: 9\n",
      "Kattasi: 1\n"
     ]
    }
   ],
   "source": [
    "# Matrix 87\n",
    "from random import randint\n",
    "m = int(input(\"M = \"))\n",
    "matrix = [[randint(1,9) for i in range(m)] for i in range(m)]\n",
    "for i in matrix:\n",
    "    print(*i)\n",
    "print()\n",
    "\n",
    "for j in range(1,m):\n",
    "    x = True\n",
    "    for i in range(j):\n",
    "        if x:\n",
    "            maxi = matrix[i][j-i-1]\n",
    "            x = False\n",
    "        if maxi < matrix[i][j-i-1]:\n",
    "            maxi = matrix[i][j-i-1]\n",
    "    print(\"Kattasi:\", maxi)\n",
    "    \n",
    "for j in range(m-1,0,-1):\n",
    "    x = True\n",
    "    for i in range(j):\n",
    "        if x:\n",
    "            maxi = matrix[m-(j-i)][m-i-1]\n",
    "            x = False\n",
    "        if maxi < matrix[m-(j-i)][m-i-1]:\n",
    "            maxi = matrix[m-(j-i)][m-i-1]\n",
    "    print(\"Kattasi:\", maxi)"
   ]
  },
  {
   "cell_type": "code",
   "execution_count": 100,
   "id": "de48ef13",
   "metadata": {},
   "outputs": [
    {
     "name": "stdout",
     "output_type": "stream",
     "text": [
      "M = 4\n",
      "6 4 1 8\n",
      "6 5 1 6\n",
      "6 8 5 8\n",
      "2 3 1 6\n",
      "\n",
      "6 4 1 8\n",
      "0 5 1 6\n",
      "0 0 5 8\n",
      "0 0 0 6\n",
      "\n"
     ]
    }
   ],
   "source": [
    "# Matrix 88\n",
    "from random import randint\n",
    "m = int(input(\"M = \"))\n",
    "matrix = [[randint(1,9) for i in range(m)] for i in range(m)]\n",
    "for i in matrix:\n",
    "    print(*i)\n",
    "print()\n",
    "\n",
    "for j in range(m-1,0,-1):\n",
    "    for i in range(j):\n",
    "        matrix[m-(j-i)][i] = 0\n",
    "for i in matrix:\n",
    "    print(*i)\n",
    "print()"
   ]
  },
  {
   "cell_type": "code",
   "execution_count": 101,
   "id": "ea4bae55",
   "metadata": {},
   "outputs": [
    {
     "name": "stdout",
     "output_type": "stream",
     "text": [
      "M = 4\n",
      "6 6 1 8\n",
      "6 6 9 3\n",
      "8 6 5 8\n",
      "1 2 6 9\n",
      "\n",
      "0 0 0 8\n",
      "0 0 9 3\n",
      "0 6 5 8\n",
      "1 2 6 9\n"
     ]
    }
   ],
   "source": [
    "# Matrix 89\n",
    "from random import randint\n",
    "m = int(input(\"M = \"))\n",
    "matrix = [[randint(1,9) for i in range(m)] for i in range(m)]\n",
    "for i in matrix:\n",
    "    print(*i)\n",
    "print()\n",
    "\n",
    "for j in range(1,m):\n",
    "    for i in range(j):\n",
    "        matrix[i][j-i-1] = 0    \n",
    "for i in matrix:\n",
    "    print(*i)"
   ]
  },
  {
   "cell_type": "code",
   "execution_count": 102,
   "id": "accb9b15",
   "metadata": {},
   "outputs": [
    {
     "name": "stdout",
     "output_type": "stream",
     "text": [
      "M = 4\n",
      "7 2 7 2\n",
      "9 2 1 9\n",
      "9 2 9 1\n",
      "7 9 4 5\n",
      "\n",
      "7 2 7 2\n",
      "9 2 1 0\n",
      "9 2 0 0\n",
      "7 0 0 0\n"
     ]
    }
   ],
   "source": [
    "# Matrix 90\n",
    "from random import randint\n",
    "m = int(input(\"M = \"))\n",
    "matrix = [[randint(1,9) for i in range(m)] for i in range(m)]\n",
    "for i in matrix:\n",
    "    print(*i)\n",
    "print()\n",
    "    \n",
    "for j in range(m-1,0,-1):\n",
    "    for i in range(j):\n",
    "        matrix[m-(j-i)][m-i-1] = 0\n",
    "           \n",
    "for i in matrix:\n",
    "    print(*i)"
   ]
  },
  {
   "cell_type": "code",
   "execution_count": 103,
   "id": "c609f0be",
   "metadata": {},
   "outputs": [
    {
     "name": "stdout",
     "output_type": "stream",
     "text": [
      "M = 4\n",
      "6 6 7 8\n",
      "1 6 2 5\n",
      "7 7 5 7\n",
      "8 4 1 3\n",
      "\n",
      "6 0 0 0\n",
      "1 6 0 0\n",
      "7 7 5 0\n",
      "8 4 1 3\n"
     ]
    }
   ],
   "source": [
    "# Matrix 91\n",
    "from random import randint\n",
    "m = int(input(\"M = \"))\n",
    "matrix = [[randint(1,9) for i in range(m)] for i in range(m)]\n",
    "for i in matrix:\n",
    "    print(*i)\n",
    "print()\n",
    "\n",
    "for j in range(1,m):\n",
    "    for i in range(j):\n",
    "        matrix[i][m-(j-i)] = 0\n",
    "\n",
    "for i in matrix:\n",
    "    print(*i)"
   ]
  },
  {
   "cell_type": "code",
   "execution_count": 192,
   "id": "b7433065",
   "metadata": {
    "scrolled": true
   },
   "outputs": [
    {
     "name": "stdout",
     "output_type": "stream",
     "text": [
      "M = 5\n",
      "7 2 9 6 5\n",
      "1 8 4 6 4\n",
      "9 5 7 4 1\n",
      "4 5 1 9 2\n",
      "9 7 6 6 7\n",
      "\n",
      "0 0 0 0 0\n",
      "1 0 0 0 4\n",
      "9 5 0 4 1\n",
      "4 5 1 9 2\n",
      "9 7 6 6 7\n",
      "\n"
     ]
    }
   ],
   "source": [
    "# Matrix 92\n",
    "from random import randint\n",
    "m = int(input(\"M = \"))\n",
    "matrix = [[randint(1,9) for i in range(m)] for i in range(m)]\n",
    "for i in matrix:\n",
    "    print(*i)\n",
    "print()\n",
    "\n",
    "for j in range(m//2+1):\n",
    "    for i in range(j, m-j):\n",
    "        matrix[j][i] = 0\n",
    "        \n",
    "for i in matrix:\n",
    "    print(*i)\n",
    "print()\n"
   ]
  },
  {
   "cell_type": "code",
   "execution_count": 194,
   "id": "c49e175f",
   "metadata": {},
   "outputs": [
    {
     "name": "stdout",
     "output_type": "stream",
     "text": [
      "M = 4\n",
      "9 3 6 4\n",
      "7 2 3 5\n",
      "2 4 9 6\n",
      "4 9 2 1\n",
      "\n",
      "9 3 6 0\n",
      "7 2 0 0\n",
      "2 4 0 0\n",
      "4 9 2 0\n",
      "\n"
     ]
    }
   ],
   "source": [
    "# Matrix 93\n",
    "from random import randint\n",
    "m = int(input(\"M = \"))\n",
    "matrix = [[randint(1,9) for i in range(m)] for i in range(m)]\n",
    "for i in matrix:\n",
    "    print(*i)\n",
    "print()\n",
    "\n",
    "for j in range(m//2+1):\n",
    "    for i in range(j, m-j):\n",
    "        matrix[i][m-j-1] = 0\n",
    "        \n",
    "for i in matrix:\n",
    "    print(*i)\n",
    "print()"
   ]
  },
  {
   "cell_type": "code",
   "execution_count": 195,
   "id": "439a587c",
   "metadata": {},
   "outputs": [
    {
     "name": "stdout",
     "output_type": "stream",
     "text": [
      "M = 5\n",
      "4 5 5 9 8\n",
      "9 9 5 3 8\n",
      "4 9 2 6 3\n",
      "2 2 3 6 2\n",
      "2 2 4 1 7\n",
      "\n",
      "0 5 5 9 8\n",
      "0 0 5 3 8\n",
      "0 0 0 6 3\n",
      "0 0 3 6 2\n",
      "0 2 4 1 7\n",
      "\n"
     ]
    }
   ],
   "source": [
    "# Matrix 94\n",
    "from random import randint\n",
    "m = int(input(\"M = \"))\n",
    "matrix = [[randint(1,9) for i in range(m)] for i in range(m)]\n",
    "for i in matrix:\n",
    "    print(*i)\n",
    "print()\n",
    "\n",
    "for j in range(m//2+1):\n",
    "    for i in range(j, m-j):\n",
    "        matrix[i][j] = 0\n",
    "        \n",
    "for i in matrix:\n",
    "    print(*i)\n",
    "print()"
   ]
  },
  {
   "cell_type": "code",
   "execution_count": 198,
   "id": "177f457c",
   "metadata": {},
   "outputs": [
    {
     "name": "stdout",
     "output_type": "stream",
     "text": [
      "M = 5\n",
      "9 9 1 3 6\n",
      "9 6 1 9 9\n",
      "4 4 7 8 5\n",
      "8 8 1 1 4\n",
      "8 2 6 1 5\n",
      "\n",
      "0 9 1 3 0\n",
      "0 0 1 0 0\n",
      "0 0 0 0 0\n",
      "0 0 1 0 0\n",
      "0 2 6 1 0\n",
      "\n"
     ]
    }
   ],
   "source": [
    "# J\n",
    "from random import randint\n",
    "m = int(input(\"M = \"))\n",
    "matrix = [[randint(1,9) for i in range(m)] for i in range(m)]\n",
    "for i in matrix:\n",
    "    print(*i)\n",
    "print()\n",
    "\n",
    "for j in range(m//2+1):\n",
    "    for i in range(j, m-j):\n",
    "        matrix[i][j] = 0\n",
    "        matrix[i][m-j-1] = 0\n",
    "        \n",
    "for i in matrix:\n",
    "    print(*i)\n",
    "print()"
   ]
  },
  {
   "cell_type": "code",
   "execution_count": 196,
   "id": "50eb7910",
   "metadata": {},
   "outputs": [
    {
     "name": "stdout",
     "output_type": "stream",
     "text": [
      "M = 5\n",
      "1 8 6 4 2\n",
      "7 7 3 9 3\n",
      "1 1 9 6 9\n",
      "6 3 5 7 1\n",
      "7 9 3 6 7\n",
      "\n",
      "1 8 6 4 2\n",
      "7 7 3 9 3\n",
      "1 1 0 6 9\n",
      "6 0 0 0 1\n",
      "0 0 0 0 0\n",
      "\n"
     ]
    }
   ],
   "source": [
    "# Matrix 95\n",
    "from random import randint\n",
    "m = int(input(\"M = \"))\n",
    "matrix = [[randint(1,9) for i in range(m)] for i in range(m)]\n",
    "for i in matrix:\n",
    "    print(*i)\n",
    "print()\n",
    "\n",
    "for j in range(m//2+1):\n",
    "    for i in range(j, m-j):\n",
    "        matrix[m-j-1][i] = 0\n",
    "        \n",
    "for i in matrix:\n",
    "    print(*i)\n",
    "print()"
   ]
  },
  {
   "cell_type": "code",
   "execution_count": 197,
   "id": "28a60746",
   "metadata": {},
   "outputs": [
    {
     "name": "stdout",
     "output_type": "stream",
     "text": [
      "M = 5\n",
      "4 4 4 4 7\n",
      "7 6 5 3 9\n",
      "7 2 7 7 9\n",
      "2 8 8 9 9\n",
      "4 5 9 1 8\n",
      "\n",
      "4 7 7 2 4\n",
      "4 6 2 8 5\n",
      "4 5 7 8 9\n",
      "4 3 7 9 1\n",
      "7 9 9 9 8\n"
     ]
    }
   ],
   "source": [
    "# Matrix 96\n",
    "from random import randint\n",
    "m = int(input(\"M = \"))\n",
    "matrix = [[randint(1,9) for i in range(m)] for i in range(m)]\n",
    "for i in matrix:\n",
    "    print(*i)\n",
    "print()\n",
    "\n",
    "for j in range(1,m):\n",
    "    for i in range(j):\n",
    "        matrix[i][m-(j-i)], matrix[m-(j-i)][i] = matrix[m-(j-i)][i], matrix[i][m-(j-i)]\n",
    "        \n",
    "for i in matrix:\n",
    "    print(*i)"
   ]
  },
  {
   "cell_type": "code",
   "execution_count": 153,
   "id": "12a57cba",
   "metadata": {},
   "outputs": [
    {
     "name": "stdout",
     "output_type": "stream",
     "text": [
      "M = 4\n",
      "3 2 5 1\n",
      "2 7 7 3\n",
      "1 2 5 9\n",
      "4 4 9 6\n",
      "\n",
      "6 9 3 1\n",
      "9 5 7 5\n",
      "4 2 7 2\n",
      "4 1 2 3\n"
     ]
    }
   ],
   "source": [
    "# Matrix 97\n",
    "from random import randint\n",
    "m = int(input(\"M = \"))\n",
    "matrix = [[randint(1,9) for i in range(m)] for i in range(m)]\n",
    "for i in matrix:\n",
    "    print(*i)\n",
    "print()\n",
    "    \n",
    "for j in range(m-1,0,-1):\n",
    "    for i in range(j):\n",
    "        matrix[m-(j-i)][m-i-1], matrix[i][j-i-1] = matrix[i][j-i-1], matrix[m-(j-i)][m-i-1]\n",
    "           \n",
    "for i in matrix:\n",
    "    print(*i)"
   ]
  },
  {
   "cell_type": "code",
   "execution_count": 175,
   "id": "75736e30",
   "metadata": {},
   "outputs": [
    {
     "name": "stdout",
     "output_type": "stream",
     "text": [
      "M = 4\n",
      "2 3 6 5\n",
      "5 6 2 6\n",
      "5 1 2 5\n",
      "6 9 3 2\n",
      "\n",
      "2 3 9 6\n",
      "5 6 1 5\n",
      "6 2 2 5\n",
      "5 6 3 2\n"
     ]
    }
   ],
   "source": [
    "# Matrix 98\n",
    "from random import randint\n",
    "m = int(input(\"M = \"))\n",
    "matrix = [[randint(1,9) for i in range(m)] for i in range(m)]\n",
    "for i in matrix:\n",
    "    print(*i)\n",
    "print()\n",
    "    \n",
    "for j in range(m):\n",
    "    for i in range(j):\n",
    "        matrix[i][j], matrix[m-i-1][m-j-1] = matrix[m-i-1][m-j-1], matrix[i][j]\n",
    "           \n",
    "for i in matrix:\n",
    "    print(*i)"
   ]
  },
  {
   "cell_type": "code",
   "execution_count": 201,
   "id": "db881cb2",
   "metadata": {},
   "outputs": [
    {
     "name": "stdout",
     "output_type": "stream",
     "text": [
      "M = 4\n",
      "6 9 9 2\n",
      "9 1 3 3\n",
      "6 7 3 6\n",
      "5 7 2 3\n",
      "\n",
      "2 3 6 3\n",
      "9 3 3 2\n",
      "9 1 7 7\n",
      "6 9 6 5\n"
     ]
    }
   ],
   "source": [
    "# Matrix 99\n",
    "from random import randint\n",
    "m = int(input(\"M = \"))\n",
    "matrix = [[randint(1,9) for i in range(m)] for i in range(m)]\n",
    "for i in matrix:\n",
    "    print(*i)\n",
    "print()\n",
    "    \n",
    "for j in range(m):\n",
    "    matrix[j].reverse()\n",
    "    for i in range(j):\n",
    "        matrix[i][j], matrix[j][i] = matrix[j][i], matrix[i][j]\n",
    "           \n",
    "for i in matrix:\n",
    "    print(*i)"
   ]
  },
  {
   "cell_type": "code",
   "execution_count": 202,
   "id": "cb16d47b",
   "metadata": {},
   "outputs": [
    {
     "name": "stdout",
     "output_type": "stream",
     "text": [
      "M = 4\n",
      "2 4 9 1\n",
      "8 7 4 8\n",
      "8 8 3 7\n",
      "4 4 5 2\n",
      "\n",
      "1 8 7 2\n",
      "9 4 3 5\n",
      "4 7 8 4\n",
      "2 8 8 4\n"
     ]
    }
   ],
   "source": [
    "# Matrix 99 Teskari\n",
    "from random import randint\n",
    "m = int(input(\"M = \"))\n",
    "matrix = [[randint(1,9) for i in range(m)] for i in range(m)]\n",
    "for i in matrix:\n",
    "    print(*i)\n",
    "print()\n",
    "    \n",
    "matrix = [[matrix[j][i] for j in range(m)] for i in range(m-1,-1,-1)]\n",
    "           \n",
    "for i in matrix:\n",
    "    print(*i)"
   ]
  },
  {
   "cell_type": "code",
   "execution_count": 182,
   "id": "4d409ccc",
   "metadata": {
    "scrolled": true
   },
   "outputs": [
    {
     "name": "stdout",
     "output_type": "stream",
     "text": [
      "M = 4\n",
      "1 4 8 5\n",
      "4 5 5 4\n",
      "4 4 3 4\n",
      "5 2 4 5\n",
      "\n",
      "5 4 4 1\n",
      "2 4 5 4\n",
      "4 3 5 8\n",
      "5 4 4 5\n"
     ]
    }
   ],
   "source": [
    "# Matrix 100\n",
    "from random import randint\n",
    "m = int(input(\"M = \"))\n",
    "matrix = [[randint(1,9) for i in range(m)] for i in range(m)]\n",
    "for i in matrix:\n",
    "    print(*i)\n",
    "print()\n",
    "    \n",
    "for j in range(m-1,-1,-1):\n",
    "    for i in range(j):\n",
    "        matrix[i][j], matrix[j][i] = matrix[j][i], matrix[i][j]\n",
    "\n",
    "    matrix[j].reverse()\n",
    "for i in matrix:\n",
    "    print(*i)"
   ]
  },
  {
   "cell_type": "code",
   "execution_count": 203,
   "id": "78611dc7",
   "metadata": {},
   "outputs": [
    {
     "name": "stdout",
     "output_type": "stream",
     "text": [
      "M = 4\n",
      "9 7 9 9\n",
      "4 2 1 1\n",
      "8 1 4 8\n",
      "4 4 3 8\n",
      "\n",
      "4 8 4 9\n",
      "4 1 2 7\n",
      "3 4 1 9\n",
      "8 8 1 9\n"
     ]
    }
   ],
   "source": [
    "# Matrix 100 Teskari\n",
    "from random import randint\n",
    "m = int(input(\"M = \"))\n",
    "matrix = [[randint(1,9) for i in range(m)] for i in range(m)]\n",
    "for i in matrix:\n",
    "    print(*i)\n",
    "print()\n",
    "    \n",
    "matrix = [[matrix[i][j] for i in range(m-1,-1,-1)] for j in range(m)]\n",
    "\n",
    "for i in matrix:\n",
    "    print(*i)"
   ]
  },
  {
   "cell_type": "code",
   "execution_count": null,
   "id": "d1823b04",
   "metadata": {},
   "outputs": [],
   "source": []
  }
 ],
 "metadata": {
  "kernelspec": {
   "display_name": "Python 3 (ipykernel)",
   "language": "python",
   "name": "python3"
  },
  "language_info": {
   "codemirror_mode": {
    "name": "ipython",
    "version": 3
   },
   "file_extension": ".py",
   "mimetype": "text/x-python",
   "name": "python",
   "nbconvert_exporter": "python",
   "pygments_lexer": "ipython3",
   "version": "3.9.9"
  }
 },
 "nbformat": 4,
 "nbformat_minor": 5
}
