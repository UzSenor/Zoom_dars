{
 "cells": [
  {
   "cell_type": "markdown",
   "id": "86be99cf",
   "metadata": {},
   "source": [
    "# 1-dars"
   ]
  },
  {
   "cell_type": "code",
   "execution_count": 1,
   "id": "d0c8d598",
   "metadata": {},
   "outputs": [
    {
     "name": "stdout",
     "output_type": "stream",
     "text": [
      "Salom\n"
     ]
    }
   ],
   "source": [
    "print(\"Salom\")"
   ]
  },
  {
   "cell_type": "code",
   "execution_count": 2,
   "id": "0a4782cc",
   "metadata": {},
   "outputs": [
    {
     "name": "stdout",
     "output_type": "stream",
     "text": [
      "a = 4\n",
      "P=  16\n"
     ]
    }
   ],
   "source": [
    "a=int(input(\"a = \"))\n",
    "print(\"P= \", a*4)"
   ]
  },
  {
   "cell_type": "code",
   "execution_count": 8,
   "id": "4fb67f17",
   "metadata": {},
   "outputs": [
    {
     "name": "stdout",
     "output_type": "stream",
     "text": [
      "32.0\n"
     ]
    }
   ],
   "source": [
    "a = 1000000000\n",
    "b = a / 3600\n",
    "c = b / 24\n",
    "d = c / 365\n",
    "print(round(d,0))"
   ]
  },
  {
   "cell_type": "code",
   "execution_count": null,
   "id": "43510aee",
   "metadata": {},
   "outputs": [],
   "source": [
    "Ошибка\tПричина\n",
    " 2.48) 201>0 и 104>0, а 215=0\tпочему деятельность есть, а 215=0?\n",
    "Доп.2.1) 201>0, а строки 401,410,411,412,413,423,501,505,511,421=0\tВСЕ разделы по видам деятельности не заполнены. Указать от чего выручка\n",
    "Доп.2.132) 201(гр1) больше входящих по разделам отчета\tПоясните,за счет чего выручка больше входящих в нее показателей\n",
    "Доп.2.23) 104 > 202+204 - если нет затрат,то за счет каких средств образовался ФОТ?\t75000> 2000\n",
    "Доп.2.96_1) 222>0, a 267=0\tУказать расход электроэнергии в натуральном выражении (в тыс. кВт час)\n",
    "Доп.2.97_1) 223>0, a 268=0\tУказать расход теплоэнергии в натуральном выражении (в тыс.Г кал)\n",
    " 8.4) 801 > 0 , а 807 = 0 \tзаполнить строку 807\n",
    "82.6) в р.IV Глава 12 признак продукции = 1(новый), а стр.806 = 0 \t \n",
    " 82.3) 801гр1 >0, а 812гр1 =0 -пояснить почему не указаны затраты\tx = 1 y = 0\n",
    " 82.4) 802гр1 >0, а 812гр2 =0 -пояснить почему не указаны затраты\tx = 1 y = 0\n",
    "ХАБАРНОМА! ИФУТ кодингиз ва ходимларнинг йиллик ўртача сони бўйича Сизнинг корхонангиз кичик тадбиркорлик субъектига мансуб.\t \n",
    "УВЕДОМЛЕНИЕ! По среднегодовой численности и коду ОКЭД Ваше предприятие относится к субъектам малого предпринимательства.\t \n",
    "21:13, 23/02/2022\n"
   ]
  }
 ],
 "metadata": {
  "kernelspec": {
   "display_name": "Python 3 (ipykernel)",
   "language": "python",
   "name": "python3"
  },
  "language_info": {
   "codemirror_mode": {
    "name": "ipython",
    "version": 3
   },
   "file_extension": ".py",
   "mimetype": "text/x-python",
   "name": "python",
   "nbconvert_exporter": "python",
   "pygments_lexer": "ipython3",
   "version": "3.9.9"
  }
 },
 "nbformat": 4,
 "nbformat_minor": 5
}
