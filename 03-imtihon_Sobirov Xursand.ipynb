{
 "cells": [
  {
   "cell_type": "markdown",
   "id": "33e87e57",
   "metadata": {},
   "source": [
    "# Sobirov Xursand"
   ]
  },
  {
   "cell_type": "markdown",
   "id": "4e31124d",
   "metadata": {},
   "source": [
    "**`1- misol.`**"
   ]
  },
  {
   "cell_type": "code",
   "execution_count": 6,
   "id": "53a8cefd",
   "metadata": {},
   "outputs": [
    {
     "name": "stdout",
     "output_type": "stream",
     "text": [
      "N = 15\n",
      "1 5 3 2 7 2 8 1 3 7 9 6 3 2 3\n",
      "5 8 1 7 9 6 2 3\n"
     ]
    }
   ],
   "source": [
    "from random import randint\n",
    "n = int(input(\"N = \"))\n",
    "massiv = [randint(1,9) for _ in range(n)]\n",
    "print(*massiv)\n",
    "\n",
    "i = 0\n",
    "while i<len(massiv):\n",
    "    x = massiv.count(massiv[i])\n",
    "    a = massiv[i]\n",
    "    if x>1:\n",
    "        for j in range(x-1):\n",
    "            massiv.remove(a)\n",
    "    i += 1\n",
    "print(*massiv)"
   ]
  },
  {
   "cell_type": "markdown",
   "id": "6bcaaca9",
   "metadata": {},
   "source": [
    "**`2-misol.`**"
   ]
  },
  {
   "cell_type": "code",
   "execution_count": 38,
   "id": "cc79cf45",
   "metadata": {},
   "outputs": [
    {
     "name": "stdout",
     "output_type": "stream",
     "text": [
      "N = 20\n",
      "1 5 2 9 3 3 4 4 8 4 4 8 3 9 4 2 2 7 3 8\n",
      "9 9 3 13\n",
      "1 5 2 9 3 8 4 4 8 4 4 3 3 9 4 2 2 7 3 8\n"
     ]
    }
   ],
   "source": [
    "from random import randint\n",
    "n = int(input(\"N = \"))\n",
    "massiv = [randint(1,9) for _ in range(n)]\n",
    "print(*massiv)\n",
    "\n",
    "\n",
    "x = True\n",
    "for i in range(n):\n",
    "    if x:\n",
    "        maxi = massiv[i]\n",
    "        maxi1 = massiv[i]\n",
    "        idx = i\n",
    "        idx1 = i\n",
    "        x = False\n",
    "    if maxi < massiv[i]:\n",
    "        maxi = massiv[i]\n",
    "        idx = i\n",
    "    if maxi1 <= massiv[i]:\n",
    "        maxi1 = massiv[i]\n",
    "        idx1 = i\n",
    "\n",
    "if idx!=idx1:\n",
    "    n1 = idx1-idx-1\n",
    "    for i in range(n1//2):\n",
    "        massiv[idx+i+1], massiv[idx1-i-1] = massiv[idx1-i-1], massiv[idx+i+1]\n",
    "print(*massiv)"
   ]
  },
  {
   "cell_type": "markdown",
   "id": "5722abfd",
   "metadata": {},
   "source": [
    "**`3-misol`**"
   ]
  },
  {
   "cell_type": "code",
   "execution_count": 80,
   "id": "3760f7ff",
   "metadata": {
    "scrolled": true
   },
   "outputs": [
    {
     "name": "stdout",
     "output_type": "stream",
     "text": [
      "N = 5\n",
      "2 4 4 2 6\n",
      "6 5 7 8 8\n",
      "4 6 5 9 8\n",
      "1 1 2 8 7\n",
      "7 1 8 5 9\n",
      "\n",
      "2 4 4 2 6\n",
      "6 5 7 8 8\n",
      "4 6 5 9 8\n",
      "1 1 2 8 7\n",
      "7 1 8 5 9\n"
     ]
    }
   ],
   "source": [
    "from random import randint\n",
    "n = int(input(\"N = \"))\n",
    "matrix = [[randint(1,9) for i in range(n)] for i in range(n)]\n",
    "for i in matrix:\n",
    "    print(*i)\n",
    "print()\n",
    "\n",
    "j = 0\n",
    "while j < n-1:\n",
    "    x = True\n",
    "    for i in range(n):\n",
    "        if x:\n",
    "            mini = matrix[i][j]\n",
    "            mini1 = matrix[i][j+1]\n",
    "            x = False\n",
    "        if mini > matrix[i][j]:\n",
    "            mini = matrix[i][j]\n",
    "        if mini1 > matrix[i][j+1]:\n",
    "            mini1 = matrix[i][j+1]\n",
    "    for k in range(n):\n",
    "        if mini > mini1:\n",
    "            matrix[k][j], matrix[k][j+1] = matrix[k][j+1], matrix[k][j]\n",
    "    j += 1\n",
    "for i in matrix:\n",
    "    print(*i)"
   ]
  },
  {
   "cell_type": "markdown",
   "id": "50cd1eef",
   "metadata": {},
   "source": [
    "**`4-misol`**"
   ]
  },
  {
   "cell_type": "code",
   "execution_count": 51,
   "id": "f4b60ec4",
   "metadata": {},
   "outputs": [
    {
     "name": "stdout",
     "output_type": "stream",
     "text": [
      "N = 4\n",
      "M = 4\n",
      "9 6 3 4\n",
      "8 9 5 3\n",
      "4 6 5 7\n",
      "3 1 4 9\n",
      "\n",
      "Max elementlar yig'indisi: 34\n"
     ]
    }
   ],
   "source": [
    "from random import randint\n",
    "n = int(input(\"N = \"))\n",
    "m = int(input(\"M = \"))\n",
    "matrix = [[randint(1,9) for i in range(n)] for i in range(m)]\n",
    "for i in matrix:\n",
    "    print(*i)\n",
    "print()\n",
    "\n",
    "s = 0\n",
    "for i in range(m):\n",
    "    s += max(matrix[i])\n",
    "print(\"Max elementlar yig'indisi:\", s)"
   ]
  },
  {
   "cell_type": "markdown",
   "id": "f046de17",
   "metadata": {},
   "source": [
    "**`5-misol`**"
   ]
  },
  {
   "cell_type": "code",
   "execution_count": 60,
   "id": "e2313351",
   "metadata": {
    "scrolled": true
   },
   "outputs": [
    {
     "name": "stdout",
     "output_type": "stream",
     "text": [
      "N = 5\n",
      "0\t-1\t-2\t-3\t-4\n",
      "1\t0\t-1\t-2\t-3\n",
      "2\t1\t0\t-1\t-2\n",
      "3\t2\t1\t0\t-1\n",
      "4\t3\t2\t1\t0\n",
      "\n"
     ]
    }
   ],
   "source": [
    "from random import randint\n",
    "n = int(input(\"N = \"))\n",
    "matrix = [[j-i for i in range(n)] for j in range(n)]\n",
    "\n",
    "for i in matrix:\n",
    "    print(*i, sep=\"\\t\")\n",
    "print()"
   ]
  }
 ],
 "metadata": {
  "kernelspec": {
   "display_name": "Python 3 (ipykernel)",
   "language": "python",
   "name": "python3"
  },
  "language_info": {
   "codemirror_mode": {
    "name": "ipython",
    "version": 3
   },
   "file_extension": ".py",
   "mimetype": "text/x-python",
   "name": "python",
   "nbconvert_exporter": "python",
   "pygments_lexer": "ipython3",
   "version": "3.9.9"
  }
 },
 "nbformat": 4,
 "nbformat_minor": 5
}
