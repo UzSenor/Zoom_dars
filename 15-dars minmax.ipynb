{
 "cells": [
  {
   "cell_type": "code",
   "execution_count": 3,
   "id": "2c4bc6ea",
   "metadata": {},
   "outputs": [
    {
     "name": "stdout",
     "output_type": "stream",
     "text": [
      "To'plam soni = 4\n",
      "n = 2\n",
      "n = 8\n",
      "n = 9\n",
      "n = 10\n",
      "Kattasi: 10\n",
      "Kichigi: 2\n"
     ]
    }
   ],
   "source": [
    "# minmax1. N natural soni berilgan. n ta sonlar to'plamidan min max ni toping.\n",
    "N = int(input(\"To'plam soni = \"))\n",
    "x = True\n",
    "while N>=1:\n",
    "    n = int(input(\"n = \"))\n",
    "    if x:\n",
    "        mini = n\n",
    "        maxi = n\n",
    "        x = False\n",
    "    if maxi<n:\n",
    "        maxi = n\n",
    "    if mini>n:\n",
    "        mini = n\n",
    "    N -= 1\n",
    "print(\"Kattasi:\", maxi)\n",
    "print(\"Kichigi:\", mini)"
   ]
  },
  {
   "cell_type": "code",
   "execution_count": 6,
   "id": "b2b245f7",
   "metadata": {},
   "outputs": [
    {
     "name": "stdout",
     "output_type": "stream",
     "text": [
      "To'g'ri to'rtburchak soni:2\n",
      "A = 3\n",
      "B = 4\n",
      "A = 5\n",
      "B = 6\n",
      "Eng kichik yuza(A*B): 12\n"
     ]
    }
   ],
   "source": [
    "# minmax2. N natural soni va n ta to'g'ri burchakli to'rtburchak tomonlarining (a, b) to'plami \n",
    "# berilgan. Kiritilgan to'plamdagi eng kichik yuzali to'g'ri to'rtburchakni toping.\n",
    "n = int(input(\"To'g'ri to'rtburchak soni:\"))\n",
    "x = True\n",
    "while n>=1:\n",
    "    a = int(input(\"A = \"))\n",
    "    b = int(input(\"B = \"))\n",
    "    s = a*b\n",
    "    if x:\n",
    "        mini = s\n",
    "        x = False\n",
    "    if mini>s:\n",
    "        mini = s\n",
    "    n -= 1\n",
    "print(\"Eng kichik yuza(A*B):\",mini)"
   ]
  },
  {
   "cell_type": "code",
   "execution_count": 7,
   "id": "0a26504e",
   "metadata": {},
   "outputs": [
    {
     "name": "stdout",
     "output_type": "stream",
     "text": [
      "To'g'ri to'rtburchak soni:3\n",
      "A = 2\n",
      "B = 3\n",
      "A = 4\n",
      "B = 5\n",
      "A = 6\n",
      "B = 7\n",
      "Eng katta yuza(A*B): 42\n"
     ]
    }
   ],
   "source": [
    "# minmax3. N natural soni va n ta to'g'ri burchakli to'rtburchak tomonlarining (a, b) to'plami \n",
    "# berilgan. Kiritilgan to'plamdagi eng katta yuzali to'g'ri to'rtburchakni toping.\n",
    "n = int(input(\"To'g'ri to'rtburchak soni:\"))\n",
    "x = True\n",
    "while n>=1:\n",
    "    a = int(input(\"A = \"))\n",
    "    b = int(input(\"B = \"))\n",
    "    s = a*b\n",
    "    if x:\n",
    "        maxi = s\n",
    "        x = False\n",
    "    if maxi<s:\n",
    "        maxi = s\n",
    "    n -= 1\n",
    "print(\"Eng katta yuza(A*B):\",maxi)"
   ]
  },
  {
   "cell_type": "code",
   "execution_count": 10,
   "id": "5703f232",
   "metadata": {},
   "outputs": [
    {
     "name": "stdout",
     "output_type": "stream",
     "text": [
      "N = 4\n",
      "n = 7\n",
      "n = 2\n",
      "n = 5\n",
      "n = 9\n",
      "Kichik son o'rni: 2\n"
     ]
    }
   ],
   "source": [
    "# minmax4. N natural soni va n ta sonlar to'plami berilgan. Kiritilgan to'plamdagi eng kichik element\n",
    "# o'rnini chiqaruvchi dastur tuzing.\n",
    "N = int(input(\"N = \"))\n",
    "k = 1\n",
    "x = True\n",
    "while N>0:\n",
    "    n = int(input(\"n = \"))\n",
    "    if x:\n",
    "        mini = n\n",
    "        x = False\n",
    "    if mini>n:\n",
    "        mini = n\n",
    "        k += 1\n",
    "    N -= 1\n",
    "print(\"Kichik son o'rni:\",k)"
   ]
  },
  {
   "cell_type": "code",
   "execution_count": 13,
   "id": "a09ac857",
   "metadata": {},
   "outputs": [
    {
     "name": "stdout",
     "output_type": "stream",
     "text": [
      "N = 3\n",
      "Og'irlik: 4\n",
      "Hajm: 2\n",
      "Og'irlik: 6\n",
      "Hajm: 2\n",
      "Og'irlik: 8\n",
      "Hajm: 4\n",
      "Eng katta zichlik: 3\n"
     ]
    }
   ],
   "source": [
    "# minmax5. N naturl soni va n ta (m, v) sonlar juftligi to'plami berilgan. (m-og'irlik, v-hajm).\n",
    "# kiritilgan to'plamdagi eng katta zichlikni aniqlovchi dastur tuzing. z = m/v\n",
    "n = int(input(\"N = \"))\n",
    "x = True\n",
    "while n>0:\n",
    "    m = int(input(\"Og'irlik: \"))\n",
    "    v = int(input(\"Hajm: \"))\n",
    "    z = m/v\n",
    "    if x:\n",
    "        zichlik = z\n",
    "        x = False\n",
    "    if zichlik<z:\n",
    "        zichlik = z\n",
    "    n -= 1\n",
    "print(\"Eng katta zichlik:\",int(zichlik))"
   ]
  },
  {
   "cell_type": "code",
   "execution_count": 82,
   "id": "c2b1b9b4",
   "metadata": {},
   "outputs": [
    {
     "name": "stdout",
     "output_type": "stream",
     "text": [
      "N = 6\n",
      "n = 2\n",
      "n = 1\n",
      "n = 2\n",
      "n = 1\n",
      "n = 2\n",
      "n = 1\n",
      "Birinchi kichik tartib raqami: 2 \n",
      "Oxirgi katta tartib raqami: 5\n"
     ]
    }
   ],
   "source": [
    "# minmax6. N natural soni va n ta sondan iborat to'plam berilgan. Birinchi uchragan eng kichik va \n",
    "# eng oxirgi uchragan eng katta element tartib raqamini chiqaruvchi dastur tuzing.\n",
    "N = int(input(\"N = \"))\n",
    "i = 1\n",
    "x = True\n",
    "while N+1>i:\n",
    "    n = int(input(\"n = \"))\n",
    "    if x:\n",
    "        maxi = n\n",
    "        mini = n\n",
    "        kichik = i\n",
    "        katta = i\n",
    "        x = False\n",
    "    if mini>n:\n",
    "        mini = n\n",
    "        kichik = i\n",
    "    if maxi<=n:\n",
    "        maxi = n\n",
    "        katta = i\n",
    "    i += 1\n",
    "print(\"Birinchi kichik tartib raqami:\",kichik,\"\\nOxirgi katta tartib raqami:\",katta)"
   ]
  },
  {
   "cell_type": "code",
   "execution_count": 85,
   "id": "682f6e66",
   "metadata": {},
   "outputs": [
    {
     "name": "stdout",
     "output_type": "stream",
     "text": [
      "N = 6\n",
      "n = 1\n",
      "n = 2\n",
      "n = 1\n",
      "n = 2\n",
      "n = 1\n",
      "n = 2\n",
      "Birinchi katta tartib raqami: 2 \n",
      "Oxirgi kichik tartib raqami: 5\n"
     ]
    }
   ],
   "source": [
    "# minmax7. N natural soni va n ta sondan iborat to'plam berilgan. Birinchi uchragan eng katta va \n",
    "# eng oxirgi uchragan eng kichik element tartib raqamini chiqaruvchi dastur tuzing.\n",
    "N = int(input(\"N = \"))\n",
    "i = 1\n",
    "x = True\n",
    "while N+1>i:\n",
    "    n = int(input(\"n = \"))\n",
    "    if x:\n",
    "        maxi = n\n",
    "        mini = n\n",
    "        katta = i\n",
    "        kichik = i\n",
    "        x = False\n",
    "    if maxi<n:\n",
    "        maxi = n\n",
    "        katta = i\n",
    "    if mini>=n:\n",
    "        mini = n\n",
    "        kichik = i\n",
    "    i += 1\n",
    "print(\"Birinchi katta tartib raqami:\",katta,\"\\nOxirgi kichik tartib raqami:\",kichik)"
   ]
  },
  {
   "cell_type": "code",
   "execution_count": 90,
   "id": "32456eb1",
   "metadata": {},
   "outputs": [
    {
     "name": "stdout",
     "output_type": "stream",
     "text": [
      "N = 5\n",
      "n = 2\n",
      "n = 1\n",
      "n = 2\n",
      "n = 1\n",
      "n = 2\n",
      "Birinchi kichik tartib raqami: 2 \n",
      "Oxirgi kichik tartib raqami: 4\n"
     ]
    }
   ],
   "source": [
    "# minmax8. N natural soni va n ta sondan iborat to'plam berilgan. Birinchi va oxirgi uchragan\n",
    "# eng kichik element tartib raqamini chiqaruvchi dastur tuzing.\n",
    "N = int(input(\"N = \"))\n",
    "i = 1\n",
    "x = True\n",
    "while N+1>i:\n",
    "    n = int(input(\"n = \"))\n",
    "    if x:\n",
    "        mini = n\n",
    "        boshi = i\n",
    "        oxiri = i\n",
    "        x = False\n",
    "    if mini>n:\n",
    "        mini = n\n",
    "        boshi = i\n",
    "    if mini==n:\n",
    "        oxirgi = i\n",
    "    i += 1\n",
    "print(\"Birinchi kichik tartib raqami:\",boshi,\"\\nOxirgi kichik tartib raqami:\",oxirgi)"
   ]
  },
  {
   "cell_type": "code",
   "execution_count": 92,
   "id": "6e3f21d2",
   "metadata": {},
   "outputs": [
    {
     "name": "stdout",
     "output_type": "stream",
     "text": [
      "N = 6\n",
      "n = 2\n",
      "n = 1\n",
      "n = 2\n",
      "n = 1\n",
      "n = 2\n",
      "n = 2\n",
      "Birinchi katta tartib raqami: 1 \n",
      "Oxirgi katta tartib raqami: 6\n"
     ]
    }
   ],
   "source": [
    "# minmax9. N natural soni va n ta sondan iborat to'plam berilgan. Birinchi va oxirgi uchragan\n",
    "# eng katta element tartib raqamini chiqaruvchi dastur tuzing.\n",
    "N = int(input(\"N = \"))\n",
    "i = 1\n",
    "x = True\n",
    "while N+1>i:\n",
    "    n = int(input(\"n = \"))\n",
    "    if x:\n",
    "        maxi = n\n",
    "        boshi = i\n",
    "        oxiri = i\n",
    "        x = False\n",
    "    if maxi<n:\n",
    "        maxi = n\n",
    "        boshi = i\n",
    "    if maxi==n:\n",
    "        oxirgi = i\n",
    "    i += 1\n",
    "print(\"Birinchi katta tartib raqami:\",boshi,\"\\nOxirgi katta tartib raqami:\",oxirgi)"
   ]
  },
  {
   "cell_type": "code",
   "execution_count": 127,
   "id": "0bcd02dd",
   "metadata": {},
   "outputs": [
    {
     "name": "stdout",
     "output_type": "stream",
     "text": [
      "N = 6\n",
      "n = 4\n",
      "n = 6\n",
      "n = 6\n",
      "n = 4\n",
      "n = 1\n",
      "n = 1\n",
      "Birinchi ekstrimal tartib raqami: 2\n"
     ]
    }
   ],
   "source": [
    "# minmax10. N natural soni va n ta sondan iborat to'plam berilgan. Birinchi uchragan ekstrimal\n",
    "# element tartib raqamini chiqaruvchi dastur tuzing. Ekstrimal-eng katta yoki eng kichik element\n",
    "N = int(input(\"N = \"))\n",
    "i = 1\n",
    "x = True\n",
    "while N+1>i:\n",
    "    n = int(input(\"n = \"))\n",
    "    if x:\n",
    "        maxi = n\n",
    "        mini = n\n",
    "        b1 = i\n",
    "        b2 = i\n",
    "        x = False\n",
    "    if maxi<n:\n",
    "        maxi = n\n",
    "        b1 = i\n",
    "    if mini>n:\n",
    "        mini = n\n",
    "        b2 = i\n",
    "    i += 1\n",
    "if b1>b2:\n",
    "    print(\"Birinchi ekstrimal tartib raqami:\",b2)\n",
    "else:\n",
    "    print(\"Birinchi ekstrimal tartib raqami:\",b1)"
   ]
  },
  {
   "cell_type": "code",
   "execution_count": 126,
   "id": "37c376e5",
   "metadata": {},
   "outputs": [
    {
     "name": "stdout",
     "output_type": "stream",
     "text": [
      "N = 6\n",
      "n = 5\n",
      "n = 6\n",
      "n = 4\n",
      "n = 6\n",
      "n = 2\n",
      "n = 1\n",
      "Birinchi ekstrimal tartib raqami: 6\n"
     ]
    }
   ],
   "source": [
    "# minmax11. N natural soni va n ta sondan iborat to'plam berilgan. Oxirgi uchragan ekstrimal\n",
    "# element tartib raqamini chiqaruvchi dastur tuzing. Ekstrimal-eng katta yoki eng kichik element\n",
    "N = int(input(\"N = \"))\n",
    "i = 1\n",
    "x = True\n",
    "while N+1>i:\n",
    "    n = int(input(\"n = \"))\n",
    "    if x:\n",
    "        maxi = n\n",
    "        mini = n\n",
    "        b1 = i\n",
    "        b2 = i\n",
    "        x = False\n",
    "    if maxi<n:\n",
    "        maxi = n\n",
    "        b1 = i\n",
    "    if mini>n:\n",
    "        mini = n\n",
    "        b2 = i\n",
    "    i += 1\n",
    "if b1<b2:\n",
    "    print(\"Oxirgi ekstrimal tartib raqami:\",b2)\n",
    "else:\n",
    "    print(\"Oxirgi ekstrimal tartib raqami:\",b1)"
   ]
  },
  {
   "cell_type": "code",
   "execution_count": 143,
   "id": "08ce2340",
   "metadata": {},
   "outputs": [
    {
     "name": "stdout",
     "output_type": "stream",
     "text": [
      "N = 3\n",
      "n = -1\n",
      "n = -2\n",
      "n = -3\n",
      "Musbat son yo'q\n"
     ]
    }
   ],
   "source": [
    "# minmax12. N natural soni va n ta sonlar to'plami berilgan. Eng kichik musbat sonni aniqlovchi\n",
    "# dastur tuzing. Agar musbat son yo'q bo'lsa musbat son yo'q deb chiqsin.\n",
    "N = int(input(\"N = \"))\n",
    "x = True\n",
    "while N>0:\n",
    "    n = int(input(\"n = \"))\n",
    "    if n>0 and x:\n",
    "        mini = n\n",
    "        x = False\n",
    "    if n>0 and mini>n:\n",
    "        mini = n\n",
    "    N -= 1\n",
    "if x==False:\n",
    "    print(mini)\n",
    "else:\n",
    "    print(\"Musbat son yo'q\")"
   ]
  },
  {
   "cell_type": "code",
   "execution_count": 147,
   "id": "9a0b4cd8",
   "metadata": {},
   "outputs": [
    {
     "name": "stdout",
     "output_type": "stream",
     "text": [
      "N = 4\n",
      "n = 2\n",
      "n = 4\n",
      "n = 6\n",
      "n = 8\n",
      "0\n"
     ]
    }
   ],
   "source": [
    "# minmax13. N natural soni va n ta sonlar to'plami berilgan. Birinchi uchragan eng katta toq sonni \n",
    "# tartib raqamini aniqlovchi dastur tuzing. Agar toq son yo'q bo'lsa 0 chiqsin.\n",
    "N = int(input(\"N = \"))\n",
    "x = True\n",
    "i = 1\n",
    "while N+1>i:\n",
    "    n = int(input(\"n = \"))\n",
    "    if n%2==1 and x:\n",
    "        maxi = n\n",
    "        tartib = i\n",
    "        x = False\n",
    "    if n%2==1 and maxi<n:\n",
    "        maxi = n\n",
    "        tartib = i\n",
    "    i += 1\n",
    "if x==False:\n",
    "    print(\"Toq son tartib raqami:\",tartib)\n",
    "else:\n",
    "    print(0)"
   ]
  },
  {
   "cell_type": "code",
   "execution_count": 149,
   "id": "8d559beb",
   "metadata": {},
   "outputs": [
    {
     "name": "stdout",
     "output_type": "stream",
     "text": [
      "B = 6\n",
      "n = 5\n",
      "n = 4\n",
      "n = 2\n",
      "n = 3\n",
      "n = 1\n",
      "n = 4\n",
      "n = 5\n",
      "n = 4\n",
      "n = 3\n",
      "n = 2\n",
      "00\n"
     ]
    }
   ],
   "source": [
    "# minmax14. B soni va 10 ta butun sondan tashkil topgan musbat sonlar to'plami berilgan. Shu to'plamda\n",
    "# B sonidan katta bo'lgan eng kichik elementni tartib raqamini chiqaruvchi dastur tuzing. Agar\n",
    "# to'plamda B sonidan katta son yo'q bolsa ikkita 0 chiqsin.\n",
    "b = int(input(\"B = \"))\n",
    "x = True\n",
    "i = 1\n",
    "while i<=10:\n",
    "    n = int(input(\"n = \"))\n",
    "    if n>b and x:\n",
    "        mini = n\n",
    "        tartib = i\n",
    "        x = False\n",
    "    if n>b and mini>n:\n",
    "        mini = n\n",
    "        tartib = i\n",
    "    i += 1\n",
    "if x==False:\n",
    "    print(\"B sonidan katta eng kichik element:\",tartib)\n",
    "else:\n",
    "    print(\"00\")"
   ]
  },
  {
   "cell_type": "code",
   "execution_count": 151,
   "id": "fc6fdb30",
   "metadata": {},
   "outputs": [
    {
     "name": "stdout",
     "output_type": "stream",
     "text": [
      "B = 1\n",
      "C = 2\n",
      "n = 3\n",
      "n = 44\n",
      "n = 6\n",
      "n = 7\n",
      "n = 6\n",
      "n = 5\n",
      "n = 6\n",
      "n = 7\n",
      "n = 8\n",
      "n = 7\n",
      "00\n"
     ]
    }
   ],
   "source": [
    "# minmax15. B va C sonlari va 10 ta butun sondan tashkil topgan musbat sonlar to'plami berilgan \n",
    "# (0<B<C). Shu to'plamda B va C sonlari orasida bo'lgan eng katta elementni tartib raqamini \n",
    "# chiqaruvchi dastur tuzing. Agar to'plamda B sonidan katta son yo'q bolsa ikkita 0 chiqsin.\n",
    "b = int(input(\"B = \"))\n",
    "c = int(input(\"C = \"))\n",
    "x = True\n",
    "i = 1\n",
    "while i<=10:\n",
    "    n = int(input(\"n = \"))\n",
    "    if c>n>b and x:\n",
    "        maxi = n\n",
    "        tartib = i\n",
    "        x = False\n",
    "    if c>n>b and maxi<n:\n",
    "        maxi = n\n",
    "        tartib = i\n",
    "    i += 1\n",
    "if x==False:\n",
    "    print(\"(B, C) oraliqdagi eng katta element:\",tartib)\n",
    "else:\n",
    "    print(\"00\")"
   ]
  },
  {
   "cell_type": "code",
   "execution_count": 185,
   "id": "511c5f7e",
   "metadata": {},
   "outputs": [
    {
     "name": "stdout",
     "output_type": "stream",
     "text": [
      "N = 5\n",
      "n = 4\n",
      "n = 3\n",
      "n = 2\n",
      "n = 1\n",
      "n = 2\n",
      "Eng kichik songacha elementlar soni: 3\n"
     ]
    }
   ],
   "source": [
    "# minmax16. N natural soni va n ta sondan iborat to'plam berilgan. Birinchi uchragan eng kichik\n",
    "# elementgacha bo'lgan elementlar sonini aniqlang.\n",
    "N = int(input(\"N = \"))\n",
    "x = True\n",
    "s = 0\n",
    "i = 0\n",
    "while i<N:\n",
    "    n = int(input(\"n = \"))\n",
    "    if x:\n",
    "        mini = n\n",
    "        s = i\n",
    "        x = False\n",
    "    if mini>n:\n",
    "        mini = n\n",
    "        s = i\n",
    "    i += 1\n",
    "print(\"Eng kichik songacha elementlar soni:\", s)"
   ]
  },
  {
   "cell_type": "code",
   "execution_count": 248,
   "id": "d0f3fed3",
   "metadata": {},
   "outputs": [
    {
     "name": "stdout",
     "output_type": "stream",
     "text": [
      "N = 5\n",
      "n = 1\n",
      "n = 3\n",
      "n = 2\n",
      "n = 3\n",
      "n = 2\n",
      "Eng katta sondan keyingi elementlar soni: 1\n"
     ]
    }
   ],
   "source": [
    "# minmax17. N natural soni va n ta sondan iborat to'plam berilgan. Oxirgi uchragan eng katta\n",
    "# elementdan keyingi elementlar sonini aniqlang.\n",
    "N = int(input(\"N = \"))\n",
    "x = True\n",
    "i = 1\n",
    "s1 = 0\n",
    "while N+1>i:\n",
    "    n = int(input(\"n = \"))\n",
    "    if x:\n",
    "        maxi = n\n",
    "        s = i\n",
    "        x = False\n",
    "    if maxi<=n:\n",
    "        maxi = n\n",
    "        s = i\n",
    "    i += 1\n",
    "print(\"Eng katta sondan keyingi elementlar soni:\", N-s)"
   ]
  },
  {
   "cell_type": "code",
   "execution_count": 202,
   "id": "69bad540",
   "metadata": {},
   "outputs": [
    {
     "name": "stdout",
     "output_type": "stream",
     "text": [
      "N = 6\n",
      "n = 4\n",
      "n = 3\n",
      "n = 2\n",
      "n = 2\n",
      "n = 3\n",
      "n = 4\n",
      "Birinchi va oxirgi eng katta sonlar orasidagi elelment 4\n"
     ]
    }
   ],
   "source": [
    "# minmax18. N naturl soni va n ta sondan iborat to'plam berilgan. Birinchi va oxirgi eng katta\n",
    "# elementlar orasidagi turgan elementlar sonini chiqaruvchi dastur tuzning. Agar katta element\n",
    "# bitta bo'lsa 0 chiqsin.\n",
    "N = int(input(\"N = \"))\n",
    "x = True\n",
    "i = 1\n",
    "s = 0\n",
    "while i<N+1:\n",
    "    n = int(input(\"n = \"))\n",
    "    if x:\n",
    "        maxi = n\n",
    "        bosh = i\n",
    "        oxir = i\n",
    "        x = False\n",
    "    if maxi<n:\n",
    "        maxi = n\n",
    "        bosh = i\n",
    "    if maxi<=n:\n",
    "        maxi = n\n",
    "        oxir = i\n",
    "    i += 1\n",
    "\n",
    "if bosh!=oxir:\n",
    "    s = oxir - bosh - 1\n",
    "else:\n",
    "    s = 0\n",
    "print(\"Birinchi va oxirgi eng katta sonlar orasidagi elelment\",s)"
   ]
  },
  {
   "cell_type": "code",
   "execution_count": 289,
   "id": "ba830796",
   "metadata": {},
   "outputs": [
    {
     "name": "stdout",
     "output_type": "stream",
     "text": [
      "N = 5\n",
      "n = 2\n",
      "n = 1\n",
      "n = 1\n",
      "n = 1\n",
      "n = 1\n",
      "Kichik elementlar soni: 4\n"
     ]
    }
   ],
   "source": [
    "# minmax19. N natural soni va n ta sondan iborat sonlar to'plami berilgan. To'plamda eng kichik\n",
    "# elementlar sonini aniqlovchi dastur tuzing.\n",
    "N = int(input(\"N = \"))\n",
    "mini = int(input(\"n = \"))\n",
    "kichik = 1\n",
    "while N>1:\n",
    "    n = int(input(\"n = \"))\n",
    "    \n",
    "    if mini>n:\n",
    "        mini = n\n",
    "        kichik = 0\n",
    "        \n",
    "    if mini==n:\n",
    "        kichik += 1\n",
    "        \n",
    "    N -= 1\n",
    "print(\"Kichik elementlar soni:\",kichik)"
   ]
  },
  {
   "cell_type": "code",
   "execution_count": 449,
   "id": "3d5d7b60",
   "metadata": {},
   "outputs": [
    {
     "name": "stdout",
     "output_type": "stream",
     "text": [
      "N = 5\n",
      "n = 1\n",
      "n = 1\n",
      "n = 2\n",
      "n = 2\n",
      "n = 3\n",
      "Ekstrimal elementlar soni: 7\n"
     ]
    }
   ],
   "source": [
    "# minmax20.  N natural soni va n ta sondan iborat to'plam berilgan. To'plamdagi ekstrimal\n",
    "# elementlar sonini aniqlovchi dastur tuzing. Ekstrimal-eng katta yoki eng kichik element\n",
    "N = int(input(\"N = \"))\n",
    "x = True\n",
    "while N>0:\n",
    "    n = int(input(\"n = \"))\n",
    "    if x:\n",
    "        mini = n\n",
    "        maxi = n\n",
    "        katta = 0\n",
    "        kichik = 0\n",
    "        x = False\n",
    "    if maxi<n:\n",
    "        maxi = n\n",
    "        katta = 1\n",
    "        \n",
    "    elif mini>n:\n",
    "        mini = n\n",
    "        kichik = 1\n",
    "    \n",
    "    if maxi==n:\n",
    "        katta += 1\n",
    "        \n",
    "    elif mini==n:\n",
    "        kichik += 1\n",
    "        \n",
    "    N -= 1\n",
    "print(\"Ekstrimal elementlar soni:\",kichik+katta)"
   ]
  },
  {
   "cell_type": "code",
   "execution_count": null,
   "id": "20ff22ee",
   "metadata": {},
   "outputs": [],
   "source": [
    "### minmax21. N natural soni va n ta sondan iborat to'plam berilgan(N>2). To'plamning o'rtacha\n",
    "# qiymatini aniqlovchi dastur tuzing. O'rtacha qiymatni hisoblashda eng katta va eng kichik \n",
    "# qiymatlar hisobga olinmasin.\n",
    "N = int(input(\"N = \"))\n",
    "mini = int(input(\"n = \"))\n",
    "maxi = int(input(\"n = \"))\n",
    "kichik = 1\n",
    "katta = 1\n",
    "s = 0\n",
    "x = N\n",
    "while N>2:        \n",
    "    n = int(input(\"n = \"))\n",
    "    if maxi<mini<n:\n",
    "        s += mini\n",
    "    if n<mini<maxi:\n",
    "        mini = n\n",
    "    if mini<maxi<n:\n",
    "        s += maxi\n",
    "    \n",
    "    if n<maxi<mini:\n",
    "        maxi = n\n",
    "        \n",
    "    if maxi>n>mini or mini>n>maxi:\n",
    "        s += n\n",
    "        \n",
    "    if maxi<n:\n",
    "        maxi = n\n",
    "        katta = 0\n",
    "                \n",
    "    if maxi==n:\n",
    "        katta += 1\n",
    "        \n",
    "    if mini>n:\n",
    "        mini = n\n",
    "        kichik = 0\n",
    "        \n",
    "        \n",
    "    if mini==n:\n",
    "        kichik += 1    \n",
    "\n",
    "    N -= 1\n",
    "print(\"O'rtacha qiymat:\",s/(x-(kichik+katta)), s)"
   ]
  },
  {
   "cell_type": "code",
   "execution_count": 392,
   "id": "87796e1d",
   "metadata": {},
   "outputs": [
    {
     "name": "stdout",
     "output_type": "stream",
     "text": [
      "N = 6\n",
      "n = 6\n",
      "n = 3\n",
      "n = 1\n",
      "n = 4\n",
      "n = 5\n",
      "n = 2\n",
      "1 2\n"
     ]
    }
   ],
   "source": [
    "# minmax22. N natural soni va n ta sondan iborat to'plam berilgan(N>2). To'plamda eng kichi va\n",
    "# undan keyindi qiymatini aniqlovchi dastur tuzing. \n",
    "# Masalan N=5 n=1,2,3,4,5\n",
    "# Javob: 1,2\n",
    "N = int(input(\"N = \"))\n",
    "mini = int(input(\"n = \"))\n",
    "mini1 = int(input(\"n = \"))\n",
    "while N>2:\n",
    "    n = int(input(\"n = \"))\n",
    "    if mini>n and (mini1>mini or mini1<mini):\n",
    "        mini1 = mini\n",
    "        mini = n\n",
    "    if mini<n and mini1>n:\n",
    "        mini1 = n\n",
    "    N -= 1\n",
    "print(mini, mini1)"
   ]
  },
  {
   "cell_type": "code",
   "execution_count": 452,
   "id": "bacce72a",
   "metadata": {},
   "outputs": [
    {
     "name": "stdout",
     "output_type": "stream",
     "text": [
      "N = 4\n",
      "n = 2\n",
      "n = 2\n",
      "n = 1\n",
      "n = 2\n",
      "2 2 1\n"
     ]
    }
   ],
   "source": [
    "# minmax23. N natural soni va n ta sondan iborat to'plam berilgan(N>3). To'plamda eng katta 3 ta\n",
    "# qiymatini aniqlovchi dastur tuzing. \n",
    "# Masalan N=5 n=1,2,3,4,5\n",
    "# Javob: 3,4,5\n",
    "N = int(input(\"N = \"))\n",
    "maxi = int(input(\"n = \"))\n",
    "maxi1 = int(input(\"n = \"))\n",
    "maxi2 = int(input(\"n = \"))\n",
    "while N>3:\n",
    "    n = int(input(\"n = \"))\n",
    "    if n>maxi2>maxi1>maxi:\n",
    "        maxi = maxi1\n",
    "        maxi1 = maxi2\n",
    "        maxi2 = n\n",
    "        \n",
    "    if n>maxi2>maxi>maxi1:\n",
    "        maxi1 = maxi2\n",
    "        maxi2 = n\n",
    "    \n",
    "    if n>maxi1>maxi2>maxi:\n",
    "        maxi = maxi2\n",
    "        maxi2 = n\n",
    "    \n",
    "    if n>maxi1>maxi>maxi2:\n",
    "        maxi2 = n\n",
    "    \n",
    "    if n>maxi>maxi1>maxi2:\n",
    "        maxia = maxi1\n",
    "        maxi1 = maxi\n",
    "        maxi = maxia\n",
    "        maxi2 = n\n",
    "    \n",
    "    if n>maxi>maxi2>maxi1:\n",
    "        maxi1 = maxi\n",
    "        maxi = maxi2\n",
    "        maxi2 = n\n",
    "    \n",
    "    if maxi2>n>maxi1>maxi:\n",
    "        maxi = maxi1\n",
    "        maxi1 = n\n",
    "    \n",
    "    if maxi2>n>maxi>maxi1:\n",
    "        maxi1 = n\n",
    "    \n",
    "    if maxi1>n>maxi2>maxi:\n",
    "        maxi = maxi2\n",
    "        maxi2 = maxi1\n",
    "        maxi1 = n\n",
    "    \n",
    "    if maxi1>n>maxi>maxi2:\n",
    "        maxi2 = maxi1\n",
    "        maxi1 = n\n",
    "    \n",
    "    if maxi>n>maxi1>maxi2:\n",
    "        maxi2 = maxi\n",
    "        maxi = maxi1\n",
    "        maxi1 = n\n",
    "    \n",
    "    if maxi>n>maxi2>maxi1:\n",
    "        maxia = maxi2\n",
    "        maxi2 = maxi\n",
    "        maxi = maxia\n",
    "        maxi1 = n\n",
    "        \n",
    "    if maxi2>maxi1>n>maxi:\n",
    "        maxi = n\n",
    "        \n",
    "    if maxi1>maxi2>n>maxi:\n",
    "        maxia = maxi2\n",
    "        maxi2 = maxi1\n",
    "        maxi1 = maxia\n",
    "        maxi = n\n",
    "        \n",
    "    if maxi2>maxi>n>maxi1:\n",
    "        maxi1 = maxi\n",
    "        maxi = n\n",
    "        \n",
    "    if maxi>maxi2>n>maxi1:\n",
    "        maxi1 = maxi2\n",
    "        maxi2 = maxi\n",
    "        maxi = n\n",
    "    \n",
    "    if maxi1>maxi>n>maxi2:\n",
    "        maxi2 = maxi1\n",
    "        maxi1 = maxi\n",
    "        maxi = n\n",
    "        \n",
    "    if maxi>maxi1>n>maxi2:\n",
    "        maxi2 = maxi\n",
    "        maxi = n\n",
    "        \n",
    "    if maxi1>maxi>maxi2:\n",
    "        maxia = maxi\n",
    "        maxi = maxi2\n",
    "        maxi2 = maxi1\n",
    "        maxi1 = maxia\n",
    "        \n",
    "    if maxi1>maxi2>maxi:\n",
    "        maxia = maxi1\n",
    "        maxi1 = maxi2\n",
    "        maxi2 = maxia\n",
    "        \n",
    "    if maxi>maxi1>maxi2:\n",
    "        maxia = maxi\n",
    "        maxi = maxi2\n",
    "        maxi2 = maxia\n",
    "        \n",
    "    if maxi>maxi2>maxi1:\n",
    "        maxia = maxi\n",
    "        maxi = maxi1\n",
    "        maxi1 = maxi2\n",
    "        maxi2 = maxia\n",
    "        \n",
    "    if maxi2>maxi>maxi1:\n",
    "        maxia = maxi\n",
    "        maxi = maxi1\n",
    "        maxi1 = maxia\n",
    "        \n",
    "    N -= 1\n",
    "print(maxi, maxi1, maxi2)"
   ]
  },
  {
   "cell_type": "code",
   "execution_count": 453,
   "id": "09319365",
   "metadata": {},
   "outputs": [
    {
     "name": "stdout",
     "output_type": "stream",
     "text": [
      "n = 5\n",
      "a = 2\n",
      "a = 3\n",
      "a = 4\n",
      "a = 1\n",
      "a = 3\n",
      "4 3 3\n"
     ]
    }
   ],
   "source": [
    "n = int(input(\"n = \"))\n",
    "maxi1 = int(input(\"a = \"))\n",
    "maxi2 = int(input(\"a = \"))\n",
    "maxi3 = int(input(\"a = \"))\n",
    "if maxi1<=maxi2:\n",
    "    maxi1, maxi2 = maxi2, maxi1\n",
    "if maxi1<=maxi3:\n",
    "    maxi1, maxi3 = maxi3, maxi1\n",
    "if maxi2<=maxi3:\n",
    "    maxi2, maxi3 = maxi3, maxi2\n",
    "    \n",
    "for i in range(4, n+1):\n",
    "    a = int(input(\"a = \"))\n",
    "    if a>maxi1:\n",
    "        maxi3 = maxi2\n",
    "        maxi2 = maxi1\n",
    "        maxi1 = a\n",
    "    elif maxi1>=a and a>maxi2:\n",
    "        maxi3 = maxi2\n",
    "        maxi2 = a\n",
    "    elif maxi2>=a and a>maxi3:\n",
    "        maxi3 = a\n",
    "print(maxi1, maxi2, maxi3)"
   ]
  },
  {
   "cell_type": "code",
   "execution_count": 384,
   "id": "6d62d15e",
   "metadata": {},
   "outputs": [
    {
     "name": "stdout",
     "output_type": "stream",
     "text": [
      "N = 5\n",
      "n = 2\n",
      "n = 3\n",
      "n = 1\n",
      "n = 4\n",
      "n = 2\n",
      "6\n"
     ]
    }
   ],
   "source": [
    "# minmax24. N natural soni va n ta sondan iborat to'plam berilgan(N>1). Ikkita qo'shni sonlar \n",
    "# yig'indisi eng katta qiymatini aniqlovchi dastur tuzing.\n",
    "N = int(input(\"N = \"))\n",
    "n = int(input(\"n = \"))\n",
    "s = 0\n",
    "x = True\n",
    "while N>1:\n",
    "    n1 = n\n",
    "    n = int(input(\"n = \"))\n",
    "    s = n + n1\n",
    "    if x:\n",
    "        maxi = s\n",
    "        x = False\n",
    "    if maxi<s:\n",
    "        maxi = s\n",
    "    N -= 1\n",
    "print(maxi)"
   ]
  },
  {
   "cell_type": "code",
   "execution_count": 454,
   "id": "27bf3f56",
   "metadata": {},
   "outputs": [
    {
     "name": "stdout",
     "output_type": "stream",
     "text": [
      "N = 5\n",
      "n = 1\n",
      "n = 2\n",
      "n = 3\n",
      "n = 1\n",
      "n = 2\n",
      "Eng kichik ko'paytma sonlar indeksi: 1 va 2\n"
     ]
    }
   ],
   "source": [
    "# minmax25. N natural soni va n ta sondan iborat to'plam berilgan(N>1). Ikkita qo'shni sonlar \n",
    "# ko'paytmasi eng kichik bo'ldigan sonlar indeksini aniqlovchi dastur tuzing.\n",
    "N = int(input(\"N = \"))\n",
    "n = int(input(\"n = \"))\n",
    "p = 0\n",
    "x = True\n",
    "i = 1\n",
    "while N>i:\n",
    "    n1 = n\n",
    "    n = int(input(\"n = \"))\n",
    "    p = n * n1\n",
    "    if x:\n",
    "        mini = p\n",
    "        k = i\n",
    "        x = False\n",
    "    if mini>p:\n",
    "        mini = p\n",
    "        k = i\n",
    "    i += 1\n",
    "print(\"Eng kichik ko'paytma sonlar indeksi:\",k,\"va\", k+1)"
   ]
  },
  {
   "cell_type": "code",
   "execution_count": 1,
   "id": "c77bcece",
   "metadata": {},
   "outputs": [
    {
     "name": "stdout",
     "output_type": "stream",
     "text": [
      "N = 5\n",
      "n = 4\n",
      "n = 4\n",
      "n = 3\n",
      "n = 4\n",
      "n = 3\n",
      "Ketme-ket kelgan maksimal juft: 2\n"
     ]
    }
   ],
   "source": [
    "# minmax26. N natural soni va n ta sondan iborat to'plam berilgan(N>1). Ketma-ket keldigan juft \n",
    "# elementlarning maksimal sonini aniqlovchi dastur tuzing.\n",
    "N = int(input(\"N = \"))\n",
    "n1 = int(input(\"n = \"))\n",
    "s = 0\n",
    "if n1%2==0:\n",
    "    s += 1\n",
    "else:\n",
    "    s = 0\n",
    "x = True\n",
    "i = 1\n",
    "while N>i:\n",
    "    \n",
    "    n = int(input(\"n = \"))\n",
    "    if n%2==0:\n",
    "        s += 1\n",
    "    if n%2==1:\n",
    "        s = 0\n",
    "    if x:\n",
    "        maxi = s\n",
    "        x = False\n",
    "    if maxi<s:\n",
    "        maxi = s\n",
    "    i += 1\n",
    "if maxi!=0:\n",
    "    print(\"Ketme-ket kelgan maksimal juft:\",maxi)\n",
    "else:\n",
    "    print(0)"
   ]
  },
  {
   "cell_type": "code",
   "execution_count": 26,
   "id": "d6aef4b6",
   "metadata": {},
   "outputs": [
    {
     "name": "stdout",
     "output_type": "stream",
     "text": [
      "N = 5\n",
      "n = 1\n",
      "n = 0\n",
      "n = 0\n",
      "n = 0\n",
      "n = 0\n",
      "Indeks: 2 \n",
      "Bir xil sonlar soni: 4\n"
     ]
    }
   ],
   "source": [
    "# minmax27. N natural soni va n ta nol va bir sonlardan iborat to'plam berilgan(N>1). Bir xil \n",
    "# sonlar ketma-ketligi eng uzun bo'ladigan oraliq boshlangan element indeksini va ketma-ket   \n",
    "# elementlar sonini aniqlovchi dastur tuzing.\n",
    "N = int(input(\"N = \"))\n",
    "x = True\n",
    "s = 0\n",
    "s1 = 0\n",
    "for i in range(1,N+1):\n",
    "    n = int(input(\"n = \"))\n",
    "    if x:\n",
    "        maxi = n\n",
    "        x = False\n",
    "    if maxi!=n:\n",
    "        maxi = n\n",
    "        s = 1\n",
    "    elif maxi==n:\n",
    "        s += 1\n",
    "    if s1<s:\n",
    "        s1 = s\n",
    "        k = i\n",
    "\n",
    "print(\"Indeks:\",k-s1+1,\"\\nBir xil sonlar soni:\",s1)"
   ]
  },
  {
   "cell_type": "code",
   "execution_count": 34,
   "id": "d77f83c2",
   "metadata": {},
   "outputs": [
    {
     "name": "stdout",
     "output_type": "stream",
     "text": [
      "N = 6\n",
      "n = 1\n",
      "n = 0\n",
      "n = 1\n",
      "n = 0\n",
      "n = 1\n",
      "n = 1\n",
      "Indeks: 5 \n",
      "Birlar soni: 2\n"
     ]
    }
   ],
   "source": [
    "# minmax28. N natural soni va n ta nol va bir sonlardan iborat to'plam berilgan(N>1). Bir soni \n",
    "# ketma-ketligi eng uzun bo'ladigan oraliq boshlangan element indeksini va ketma-ket   \n",
    "# elementlar sonini aniqlovchi dastur tuzing. Agar 1 bo'lmasa 0 chiqsin.\n",
    "N = int(input(\"N = \"))\n",
    "x = True\n",
    "s = 0\n",
    "mx = 0\n",
    "for i in range(1,N+1):\n",
    "    n = int(input(\"n = \"))\n",
    "    if n==1:\n",
    "        s += 1\n",
    "    else:\n",
    "        s = 0\n",
    "    if mx<s:\n",
    "        mx = s\n",
    "        k = i\n",
    "if True:\n",
    "    print(\"Indeks:\",k-mx+1,\"\\nBirlar soni:\",mx)\n",
    "else:\n",
    "    print(0)"
   ]
  },
  {
   "cell_type": "code",
   "execution_count": 74,
   "id": "0122b99d",
   "metadata": {},
   "outputs": [
    {
     "name": "stdout",
     "output_type": "stream",
     "text": [
      "N = 5\n",
      "n = 4\n",
      "n = 4\n",
      "n = 5\n",
      "n = 5\n",
      "n = 4\n",
      "Eng kichik elementlarning maksimal soni: 2\n"
     ]
    }
   ],
   "source": [
    "# minmax29. N natural soni va n ta sondan iborat to'plam berilgan. To'plamda ketma-ket \n",
    "# keladigan eng kichik elementlarning maksimal sonini aniqlovchi dastur tuzing.\n",
    "N = int(input(\"N = \"))\n",
    "x = True\n",
    "s = 0\n",
    "mx = 0\n",
    "while N>0:\n",
    "    n = int(input(\"n = \"))\n",
    "    if x:\n",
    "        mini = n\n",
    "        s = 0\n",
    "        x = False\n",
    "    if mini>n:\n",
    "        mini = n\n",
    "        s = 0\n",
    "    if mini==n:\n",
    "        s += 1\n",
    "    else:\n",
    "        s = 0\n",
    "    if mx<s:\n",
    "        mx = s\n",
    "    N -= 1\n",
    "print(\"Eng kichik elementlarning maksimal soni:\", mx)"
   ]
  },
  {
   "cell_type": "code",
   "execution_count": 104,
   "id": "4b1420c6",
   "metadata": {},
   "outputs": [
    {
     "name": "stdout",
     "output_type": "stream",
     "text": [
      "N = 6\n",
      "n = 6\n",
      "n = 6\n",
      "n = 6\n",
      "n = 5\n",
      "n = 5\n",
      "n = 6\n",
      "Eng katta elementlarning minimal soni: 1\n"
     ]
    }
   ],
   "source": [
    "# minmax30. N natural soni va n ta sondan iborat to'plam berilgan. To'plamda ketma-ket \n",
    "# keladigan eng katta elementlarning minimal sonini aniqlovchi dastur tuzing.\n",
    "N = int(input(\"N = \"))\n",
    "x = True\n",
    "s = 0\n",
    "mn = N+1\n",
    "while N>0:\n",
    "    n = int(input(\"n = \"))\n",
    "    \n",
    "    if x:\n",
    "        maxi = n\n",
    "        s = 0\n",
    "        mn = N+1\n",
    "        x = False\n",
    "        \n",
    "    if maxi<n:\n",
    "        maxi = n\n",
    "        s = 0\n",
    "        \n",
    "    if maxi==n:\n",
    "        s += 1\n",
    "        y = True\n",
    "        if y:\n",
    "            mn = N+1\n",
    "            y = False\n",
    "        if mn>s:\n",
    "            mn = s \n",
    "    else:\n",
    "         s = 0     \n",
    "    N -= 1\n",
    "print(\"Eng katta elementlarning minimal soni:\", mn)"
   ]
  },
  {
   "cell_type": "markdown",
   "id": "b16e6a00",
   "metadata": {},
   "source": [
    "# Funksiya"
   ]
  },
  {
   "cell_type": "code",
   "execution_count": 107,
   "id": "9046eb39",
   "metadata": {},
   "outputs": [
    {
     "name": "stdout",
     "output_type": "stream",
     "text": [
      "A = 5\n",
      "B = 4\n",
      "9\n"
     ]
    }
   ],
   "source": [
    "def yigindi(a, b):\n",
    "    s = a+b\n",
    "    return s\n",
    "a = int(input(\"A = \"))\n",
    "b = int(input(\"B = \"))\n",
    "print(yigindi(a,b))"
   ]
  },
  {
   "cell_type": "code",
   "execution_count": 112,
   "id": "a8335506",
   "metadata": {},
   "outputs": [
    {
     "name": "stdout",
     "output_type": "stream",
     "text": [
      "a = 5\n",
      "b = 2\n",
      "25\n"
     ]
    }
   ],
   "source": [
    "def daraja(a,b):\n",
    "    p = 1\n",
    "    for i in range(b):\n",
    "        p *= a\n",
    "    return p\n",
    "a = int(input(\"a = \"))\n",
    "b = int(input(\"b = \"))\n",
    "print(daraja(a,b))"
   ]
  },
  {
   "cell_type": "code",
   "execution_count": null,
   "id": "a22d31bd",
   "metadata": {},
   "outputs": [],
   "source": []
  }
 ],
 "metadata": {
  "kernelspec": {
   "display_name": "Python 3 (ipykernel)",
   "language": "python",
   "name": "python3"
  },
  "language_info": {
   "codemirror_mode": {
    "name": "ipython",
    "version": 3
   },
   "file_extension": ".py",
   "mimetype": "text/x-python",
   "name": "python",
   "nbconvert_exporter": "python",
   "pygments_lexer": "ipython3",
   "version": "3.9.9"
  }
 },
 "nbformat": 4,
 "nbformat_minor": 5
}
