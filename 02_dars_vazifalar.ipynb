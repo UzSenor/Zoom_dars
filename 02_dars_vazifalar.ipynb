{
 "cells": [
  {
   "cell_type": "code",
   "execution_count": 2,
   "id": "f6e6c87d",
   "metadata": {},
   "outputs": [
    {
     "name": "stdout",
     "output_type": "stream",
     "text": [
      "Uzunlikni santimetrda kiriting: 21312\n",
      "21312  santimetr =  213  metr  12  santimetrga teng.\n"
     ]
    }
   ],
   "source": [
    "# 1-misol. Uzunlik L santimetrda berilgan. Uzunlikni metr va santimetrda hisoblang. 1 m = 100 sm\n",
    "L = int(input(\"Uzunlikni santimetrda kiriting: \"))\n",
    "m = L // 100\n",
    "l = L % 100\n",
    "print(L, \" santimetr = \", m, \" metr \", l, \" santimetrga teng.\")"
   ]
  },
  {
   "cell_type": "code",
   "execution_count": 3,
   "id": "dc23e5bf",
   "metadata": {},
   "outputs": [
    {
     "name": "stdout",
     "output_type": "stream",
     "text": [
      "Og'irlik kilogramda: 12312\n",
      "12312  kilogram =  12  tonna  312  kilogramga teng.\n"
     ]
    }
   ],
   "source": [
    "# 2-misol. Og'irlik M berilgan. Undagi tonna va kgni aniqlaydigan dastur tuzing. 1t = 1000kg\n",
    "M = int(input(\"Og'irlik kilogramda: \"))\n",
    "t = M // 1000\n",
    "k = M % 1000\n",
    "print(M, \" kilogram = \", t, \" tonna \", k, \" kilogramga teng.\")"
   ]
  },
  {
   "cell_type": "code",
   "execution_count": 4,
   "id": "84c61186",
   "metadata": {},
   "outputs": [
    {
     "name": "stdout",
     "output_type": "stream",
     "text": [
      "Fayl hajmi (baytda): 23112\n",
      "23112 bayt = 22 KB 584 B.\n"
     ]
    }
   ],
   "source": [
    "# 3-misol. Faylning hajmi baytlarda berilgan. Uning hajmini kilobayt va baytlarda ifodalang. \n",
    "# 1kb = 1024b\n",
    "B = int(input(\"Fayl hajmi (baytda): \"))\n",
    "k = B // 1024\n",
    "b = B % 1024\n",
    "print(B, \"bayt =\", k, \"KB\", b, \"B.\")"
   ]
  },
  {
   "cell_type": "code",
   "execution_count": 5,
   "id": "07997f75",
   "metadata": {},
   "outputs": [
    {
     "name": "stdout",
     "output_type": "stream",
     "text": [
      "A = 232\n",
      "B = 12\n",
      "A kesmaga B kesmani 19 marta joylash mumkin.\n"
     ]
    }
   ],
   "source": [
    "# 4-misol. A va B musbat sonlar berilgan (A>B). A kesmada B kesmadan nechtasi joylashganini \n",
    "# aniqlaydigan dastur tuzing.\n",
    "A = int(input(\"A = \"))\n",
    "B = int(input(\"B = \"))\n",
    "C = A // B\n",
    "print(\"A kesmaga B kesmani\", C, \"marta joylash mumkin.\")"
   ]
  },
  {
   "cell_type": "code",
   "execution_count": 6,
   "id": "b7fd405f",
   "metadata": {},
   "outputs": [
    {
     "name": "stdout",
     "output_type": "stream",
     "text": [
      "A = 1232\n",
      "B = 122\n",
      "A kesmaga B kesmani 10 marta joylash mumkin. 12 qismi joylashmaydi.\n"
     ]
    }
   ],
   "source": [
    "# 5-misol. A va B musbat sonlar berilgan (A>B). A kesmada B kesmadan nechtasi joylashganini \n",
    "# aniqlaydigan dastur tuzing. Qancha qismi joylashmay qolganini aniqlang.\n",
    "A = int(input(\"A = \"))\n",
    "B = int(input(\"B = \"))\n",
    "C = A // B\n",
    "D = A % B\n",
    "print(\"A kesmaga B kesma\", C, \"marta joylash mumkin.\", D, \"qismi joylashmaydi.\")"
   ]
  },
  {
   "cell_type": "code",
   "execution_count": 7,
   "id": "0421104a",
   "metadata": {},
   "outputs": [
    {
     "name": "stdout",
     "output_type": "stream",
     "text": [
      "Ikki xonali son: 36\n",
      "36 sonida 3 ta o'nlik, 6 ta birlik bor\n"
     ]
    }
   ],
   "source": [
    "# 6-misol. Ikki xonali son berilgan. Avval o'nlik son, keyin birlik son ko'rinishda ekranga chiqaring.\n",
    "A = int(input(\"Ikki xonali son: \"))\n",
    "B = A // 10\n",
    "C = A % 10\n",
    "print(A, \"sonida\", B, \"ta o'nlik,\", C, \"ta birlik bor\")"
   ]
  },
  {
   "cell_type": "code",
   "execution_count": 8,
   "id": "a2a6d487",
   "metadata": {},
   "outputs": [
    {
     "name": "stdout",
     "output_type": "stream",
     "text": [
      "Ikki xonali son: 98\n",
      "Raqamlar yig'indisi:  17\n"
     ]
    }
   ],
   "source": [
    "# 7-misol. Ikki xonali son berilgan. Uning raqamlar yig'indisini aniqlang.\n",
    "A = int(input(\"Ikki xonali son: \"))\n",
    "B = A // 10\n",
    "C = A % 10\n",
    "D = B+C\n",
    "print(\"Raqamlar yig'indisi: \", D)"
   ]
  },
  {
   "cell_type": "code",
   "execution_count": 10,
   "id": "dde5882f",
   "metadata": {},
   "outputs": [
    {
     "name": "stdout",
     "output_type": "stream",
     "text": [
      "Ikki xonali son: 78\n",
      "Teskari son:  87\n"
     ]
    }
   ],
   "source": [
    "# 8-misol. Ikki xonali son berilgan. Uning raqamlarining o'rnini almashtiring.\n",
    "A = int(input(\"Ikki xonali son: \"))\n",
    "B = A // 10\n",
    "C = A % 10\n",
    "D = C*10+B\n",
    "print(\"Teskari son: \", D)"
   ]
  },
  {
   "cell_type": "code",
   "execution_count": 12,
   "id": "0b99eb30",
   "metadata": {},
   "outputs": [
    {
     "name": "stdout",
     "output_type": "stream",
     "text": [
      "Uch xonali son: 873\n",
      "Yuzlik son:  8\n"
     ]
    }
   ],
   "source": [
    "# 9-misol. Uch xonali son berilgan. Uning yuzlar xonasidagi sonni aniqlaydigan dastur tuzing.\n",
    "A = int(input(\"Uch xonali son: \"))\n",
    "B = A // 100\n",
    "print(\"Yuzlik son: \", B)"
   ]
  },
  {
   "cell_type": "code",
   "execution_count": 14,
   "id": "d7272368",
   "metadata": {},
   "outputs": [
    {
     "name": "stdout",
     "output_type": "stream",
     "text": [
      "Uch xonali son: 123\n",
      "Birlik son:  3 \n",
      "O'nlik son:  2\n"
     ]
    }
   ],
   "source": [
    "# 10-misol. Uch xonali son berilgan. Uning avval birliklar xonasidagi sonni keyin o'nliklar\n",
    "# xonasidagi sonni aniqlaydigan dastur tuzing.\n",
    "A = int(input(\"Uch xonali son: \"))\n",
    "B = A % 10\n",
    "C = A // 10 % 10\n",
    "print(\"Birlik son: \", B, \"\\nO'nlik son: \", C)"
   ]
  },
  {
   "cell_type": "code",
   "execution_count": 16,
   "id": "e52a61ae",
   "metadata": {},
   "outputs": [
    {
     "name": "stdout",
     "output_type": "stream",
     "text": [
      "Uch xonali son: 123\n",
      "Raqamlar yig'indisi: 6\n"
     ]
    }
   ],
   "source": [
    "# 11-misol. Uch xonali son berilgan. Uning raqamlar yig'indisini aniqlovchi dastur tuzing.\n",
    "A = int(input(\"Uch xonali son: \"))\n",
    "B = A // 100\n",
    "C = A // 10 % 10\n",
    "D = A % 10\n",
    "E = B+C+D\n",
    "print(\"Raqamlar yig'indisi:\", E)"
   ]
  },
  {
   "cell_type": "code",
   "execution_count": 18,
   "id": "fd181263",
   "metadata": {},
   "outputs": [
    {
     "name": "stdout",
     "output_type": "stream",
     "text": [
      "Uch xonali son: 957\n",
      "Teskari son: 759\n"
     ]
    }
   ],
   "source": [
    "# 12-misol. Uch xonali son berilgan. Uning raqamlarini teskari qiladigan dastur tuzing.\n",
    "A = int(input(\"Uch xonali son: \"))\n",
    "B = A // 100\n",
    "C = A // 10 % 10\n",
    "D = A % 10\n",
    "E = D*100+C*10+B\n",
    "print(\"Teskari son:\", E)"
   ]
  },
  {
   "cell_type": "code",
   "execution_count": 19,
   "id": "dd1a35b0",
   "metadata": {},
   "outputs": [
    {
     "name": "stdout",
     "output_type": "stream",
     "text": [
      "Uch xonali son: 123\n",
      "Teskari son: 231\n"
     ]
    }
   ],
   "source": [
    "# 13-misol. Uch xonali son berilgan. Uning birinchi raqamini o'chirib o'ng tarafiga yozishdan \n",
    "# hosil bo'lgan sonni aniqlaydigan dastur tuzing.\n",
    "A = int(input(\"Uch xonali son: \"))\n",
    "B = A // 100\n",
    "C = A // 10 % 10\n",
    "D = A % 10\n",
    "E = C*100+D*10+B\n",
    "print(\"Teskari son:\", E)"
   ]
  },
  {
   "cell_type": "code",
   "execution_count": 20,
   "id": "927c95db",
   "metadata": {},
   "outputs": [
    {
     "name": "stdout",
     "output_type": "stream",
     "text": [
      "Uch xonali son: 123\n",
      "Teskari son: 312\n"
     ]
    }
   ],
   "source": [
    "# 14-misol. Uch xonali son berilgan. Uning o'ngdan birinchi raqamini o'chirib chap tarafiga yozishdan \n",
    "# hosil bo'lgan sonni aniqlaydigan dastur tuzing.\n",
    "A = int(input(\"Uch xonali son: \"))\n",
    "B = A // 100\n",
    "C = A // 10 % 10\n",
    "D = A % 10\n",
    "E = D*100+B*10+C\n",
    "print(\"Teskari son:\", E)"
   ]
  },
  {
   "cell_type": "code",
   "execution_count": 21,
   "id": "e30ed857",
   "metadata": {},
   "outputs": [
    {
     "name": "stdout",
     "output_type": "stream",
     "text": [
      "Uch xonali son: 123\n",
      "Teskari son: 213\n"
     ]
    }
   ],
   "source": [
    "# 15-misol. Uch xonali son berilgan. Uning o'nliklar va yuzliklar raqamlarining o'rnini almashtirishdan \n",
    "# hosil bo'lgan sonni aniqlaydigan dastur tuzing.\n",
    "A = int(input(\"Uch xonali son: \"))\n",
    "B = A // 100\n",
    "C = A // 10 % 10\n",
    "D = A % 10\n",
    "E = C*100+B*10+D\n",
    "print(\"Teskari son:\", E)"
   ]
  },
  {
   "cell_type": "code",
   "execution_count": 23,
   "id": "87fdde09",
   "metadata": {},
   "outputs": [
    {
     "name": "stdout",
     "output_type": "stream",
     "text": [
      "Uch xonali son: 123\n",
      "Teskari son: 132\n"
     ]
    }
   ],
   "source": [
    "# 16-misol. Uch xonali son berilgan. Uning o'nliklar va birliklar o'rnini almashtirishdan \n",
    "# hosil bo'lgan sonni aniqlaydigan dastur tuzing.\n",
    "A = int(input(\"Uch xonali son: \"))\n",
    "B = A // 100\n",
    "C = A // 10 % 10\n",
    "D = A % 10\n",
    "E = B*100+D*10+C\n",
    "print(\"Teskari son:\", E)"
   ]
  },
  {
   "cell_type": "code",
   "execution_count": 30,
   "id": "2b4d9c9a",
   "metadata": {},
   "outputs": [
    {
     "name": "stdout",
     "output_type": "stream",
     "text": [
      "999 dan katta son: 12345678\n",
      "Yuzliklar xonasidagi son: 6\n"
     ]
    }
   ],
   "source": [
    "# 17-misol. 999 sondan katta son berilgan. Bir marta bo'lib butunni va bo'lib qoldiqni olish \n",
    "# operatsiyasidan foydalanib berilgan sonning yuzliklar xonasidagi raqamni aniqlaydigan dastur\n",
    "# tuzing.\n",
    "A = int(input(\"999 dan katta son: \"))\n",
    "B = A % 1000 // 100\n",
    "print(\"Yuzliklar xonasidagi son:\", B)"
   ]
  },
  {
   "cell_type": "code",
   "execution_count": 33,
   "id": "916bef94",
   "metadata": {},
   "outputs": [
    {
     "name": "stdout",
     "output_type": "stream",
     "text": [
      "999 dan katta son: 1234567\n",
      "Mingliklar xonasidagi son: 4\n"
     ]
    }
   ],
   "source": [
    "# 18-misol. 999 sondan katta son berilgan. Bir marta bo'lib butunni va bo'lib qoldiqni olish \n",
    "# operatsiyasidan foydalanib berilgan sonning mingliklar xonasidagi raqamni aniqlaydigan dastur\n",
    "# tuzing.\n",
    "A = int(input(\"999 dan katta son: \"))\n",
    "B = A % 10000 // 1000\n",
    "print(\"Mingliklar xonasidagi son:\", B)"
   ]
  },
  {
   "cell_type": "code",
   "execution_count": 35,
   "id": "5b8ed8b9",
   "metadata": {},
   "outputs": [
    {
     "name": "stdout",
     "output_type": "stream",
     "text": [
      "Kun boshidan o'tgan sekund: 32433\n",
      "Kun boshidan 540 daqiqa o'tdi.\n"
     ]
    }
   ],
   "source": [
    "# 19-misol. Kun boshidan N sekund o'tdi. Kun boshidan boshlab qancha minut to'liq o'tganini \n",
    "# aniqlovchi dastur tuzing.\n",
    "N = int(input(\"Kun boshidan o'tgan sekund: \"))\n",
    "M = N // 60\n",
    "print(f\"Kun boshidan {M} daqiqa o'tdi.\")"
   ]
  },
  {
   "cell_type": "code",
   "execution_count": 36,
   "id": "29826340",
   "metadata": {},
   "outputs": [
    {
     "name": "stdout",
     "output_type": "stream",
     "text": [
      "Kun boshidan o'tgan sekund: 12213\n",
      "Kun boshidan 3 soat o'tdi.\n"
     ]
    }
   ],
   "source": [
    "# 20-misol. Kun boshidan N sekund o'tdi. Kun boshidan boshlab qancha soat to'liq o'tganini \n",
    "# aniqlovchi dastur tuzing.\n",
    "N = int(input(\"Kun boshidan o'tgan sekund: \"))\n",
    "S = N // 3600\n",
    "print(f\"Kun boshidan {S} soat o'tdi.\")"
   ]
  },
  {
   "cell_type": "code",
   "execution_count": 43,
   "id": "a45631c4",
   "metadata": {},
   "outputs": [
    {
     "name": "stdout",
     "output_type": "stream",
     "text": [
      "Kun boshidan o'tgan sekund: 3666\n",
      "Kun boshidan 61 minut 6 sekund o'tdi.\n"
     ]
    }
   ],
   "source": [
    "# 21-misol. Kun boshidan N sekund o'tdi. Kun boshidan boshlab qancha minut va sekund to'liq o'tganini \n",
    "# aniqlovchi dastur tuzing.\n",
    "N = int(input(\"Kun boshidan o'tgan sekund: \"))\n",
    "M = N // 60\n",
    "S = N % 60\n",
    "print(f\"Kun boshidan {M} minut {S} sekund o'tdi.\")"
   ]
  },
  {
   "cell_type": "code",
   "execution_count": 39,
   "id": "08860bd2",
   "metadata": {},
   "outputs": [
    {
     "name": "stdout",
     "output_type": "stream",
     "text": [
      "Kun boshidan o'tgan sekund: 3624\n",
      "Kun boshidan 1 soat 24 sekund o'tdi.\n"
     ]
    }
   ],
   "source": [
    "# 22-misol. Kun boshidan N sekund o'tdi. Kun boshidan boshlab qancha soat va sekund to'liq o'tganini \n",
    "# aniqlovchi dastur tuzing.\n",
    "N = int(input(\"Kun boshidan o'tgan sekund: \"))\n",
    "M = N // 3600\n",
    "S = N % 60\n",
    "print(f\"Kun boshidan {M} soat {S} sekund o'tdi.\")"
   ]
  },
  {
   "cell_type": "code",
   "execution_count": 42,
   "id": "27696185",
   "metadata": {},
   "outputs": [
    {
     "name": "stdout",
     "output_type": "stream",
     "text": [
      "Kun boshidan o'tgan sekund: 3666\n",
      "Kun boshidan 1 soat 1 minut 6 sekund o'tdi.\n"
     ]
    }
   ],
   "source": [
    "# 23-misol. Kun boshidan N sekund o'tdi. Kun boshidan boshlab qancha soat, minut va sekund to'liq \n",
    "# o'tganini aniqlovchi dastur tuzing.\n",
    "N = int(input(\"Kun boshidan o'tgan sekund: \"))\n",
    "M = N // 3600\n",
    "m = N % 3600 // 60\n",
    "S = N % 60\n",
    "print(f\"Kun boshidan {M} soat {m} minut {S} sekund o'tdi.\")"
   ]
  },
  {
   "cell_type": "code",
   "execution_count": 48,
   "id": "97be8bd9",
   "metadata": {
    "scrolled": true
   },
   "outputs": [
    {
     "name": "stdout",
     "output_type": "stream",
     "text": [
      "1-365 oraliqdagi kunni kiriting: 234\n",
      "Siz kiritgan kuningiz haftaning 3 kuniga to'g'ri keladi\n"
     ]
    }
   ],
   "source": [
    "# 24-misol. Hafta kunlari quyidagi tartibda berilgan. 0-yakshanba, 1-dushanba, 2-seshanba, \n",
    "# 3-chorshanba, 4-payshanba, 5-juma, 6-shanba. 1-365 oraliqqa kiruvchi K soni berilgan.\n",
    "# Agar 1-yanvar dushanba kuniga to'g'ri kelsa K soni haftaning qaysi kuniga to'g'ri keladi.\n",
    "Y = int(input(\"1-365 oraliqdagi kunni kiriting: \"))\n",
    "H = Y % 7\n",
    "print(f\"Siz kiritgan kuningiz haftaning {H} kuniga to'g'ri keladi\")"
   ]
  },
  {
   "cell_type": "code",
   "execution_count": 62,
   "id": "9c99d275",
   "metadata": {},
   "outputs": [
    {
     "name": "stdout",
     "output_type": "stream",
     "text": [
      "1-365 oraliqdagi kunni kiriting: 4\n",
      "Siz kiritgan kuningiz haftaning 0 kuniga to'g'ri keladi\n"
     ]
    }
   ],
   "source": [
    "# 25-misol. Hafta kunlari quyidagi tartibda berilgan. 0-yakshanba, 1-dushanba, 2-seshanba, \n",
    "# 3-chorshanba, 4-payshanba, 5-juma, 6-shanba. 1-365 oraliqqa kiruvchi K soni berilgan.\n",
    "# Agar 1-yanvar payshanba kuniga to'g'ri kelsa K soni haftaning qaysi kuniga to'g'ri keladi.\n",
    "Y = int(input(\"1-365 oraliqdagi kunni kiriting: \"))\n",
    "H = (Y+10) % 7\n",
    "print(f\"Siz kiritgan kuningiz haftaning {H} kuniga to'g'ri keladi\")"
   ]
  },
  {
   "cell_type": "code",
   "execution_count": 65,
   "id": "f7e12f4b",
   "metadata": {},
   "outputs": [
    {
     "name": "stdout",
     "output_type": "stream",
     "text": [
      "1-365 oraliqdagi kunni kiriting: 8\n",
      "Siz kiritgan kuningiz haftaning 2 kuniga to'g'ri keladi\n"
     ]
    }
   ],
   "source": [
    "# 26-misol. Hafta kunlari quyidagi tartibda berilgan. 1-dushanba, 2-seshanba, \n",
    "# 3-chorshanba, 4-payshanba, 5-juma, 6-shanba, 7-yakshanba. 1-365 oraliqqa kiruvchi K soni berilgan.\n",
    "# Agar 1-yanvar seshanba kuniga to'g'ri kelsa K soni haftaning qaysi kuniga to'g'ri keladi.\n",
    "Y = int(input(\"1-365 oraliqdagi kunni kiriting: \"))\n",
    "H = Y % 7 + 1\n",
    "print(f\"Siz kiritgan kuningiz haftaning {H} kuniga to'g'ri keladi\")"
   ]
  },
  {
   "cell_type": "code",
   "execution_count": 77,
   "id": "c72968bd",
   "metadata": {},
   "outputs": [
    {
     "name": "stdout",
     "output_type": "stream",
     "text": [
      "1-365 oraliqdagi kunni kiriting: 9\n",
      "Siz kiritgan kuningiz haftaning 1 kuniga to'g'ri keladi\n"
     ]
    }
   ],
   "source": [
    "# 27-misol. Hafta kunlari quyidagi tartibda berilgan. 1-dushanba, 2-seshanba, \n",
    "# 3-chorshanba, 4-payshanba, 5-juma, 6-shanba, 7-yakshanba. 1-365 oraliqqa kiruvchi K soni berilgan.\n",
    "# Agar 1-yanvar yakshanba kuniga to'g'ri kelsa K soni haftaning qaysi kuniga to'g'ri keladi.\n",
    "Y = int(input(\"1-365 oraliqdagi kunni kiriting: \"))\n",
    "H = (Y+12) % 7 + 1\n",
    "print(f\"Siz kiritgan kuningiz haftaning {H} kuniga to'g'ri keladi\")"
   ]
  },
  {
   "cell_type": "code",
   "execution_count": 98,
   "id": "e4749a28",
   "metadata": {},
   "outputs": [
    {
     "name": "stdout",
     "output_type": "stream",
     "text": [
      "1-365 oraliqdagi kunni kiriting: 233\n",
      "1-7 hafta kunni kiriting: 7\n",
      "Siz kiritgan kuningiz haftaning 1 kuniga to'g'ri keladi\n"
     ]
    }
   ],
   "source": [
    "# 28-misol. Hafta kunlari quyidagi tartibda berilgan. 1-dushanba, 2-seshanba, \n",
    "# 3-chorshanba, 4-payshanba, 5-juma, 6-shanba, 7-yakshanba(N = 1-7 hafta kunlari). \n",
    "# 1-365 oraliqqa kiruvchi K soni berilgan.\n",
    "# Agar 1-yanvar N kuniga to'g'ri kelsa K soni haftaning qaysi kuniga to'g'ri keladi.\n",
    "Y = int(input(\"1-365 oraliqdagi kunni kiriting: \"))\n",
    "N = int(input(\"1-7 hafta kunni kiriting: \"))\n",
    "H = (Y+N+5) % 7 + 1\n",
    "print(f\"Siz kiritgan kuningiz haftaning {H} kuniga to'g'ri keladi\")"
   ]
  },
  {
   "cell_type": "code",
   "execution_count": 122,
   "id": "95ea4a08",
   "metadata": {},
   "outputs": [
    {
     "name": "stdout",
     "output_type": "stream",
     "text": [
      "A = 10\n",
      "B = 16\n",
      "C = 3\n",
      "Kvadrat soni 15 va joylashmagan qism yuzi 25\n"
     ]
    }
   ],
   "source": [
    "# 29-misol. A, B, C butun sonlar berilgan. Tomonlari A va B to'g'ri to'rtburchakka tomoni C bo'lgan\n",
    "# kvadratdan nechta joylashtirish mumkin. To'g'ri to'rt burchakka eng ko'p joylashgan kvadrat soni va\n",
    "# joylashmay qolgan qismining yuzini aniqlovchi dastur tuzing.\n",
    "A = int(input(\"A = \"))\n",
    "B = int(input(\"B = \"))\n",
    "C = int(input(\"C = \"))\n",
    "soni1 = A // C       # Joylashtirilgan kvadratlar soni\n",
    "soni2 = B // C       # Joylashtirilgan kvadratlar soni\n",
    "soni = soni1 * soni2\n",
    "yuz1 = A%C * A\n",
    "yuz2 = B%C * (B-B%C)\n",
    "ortiqcha = yuz1+yuz2  # joylashmagan qism yuzi\n",
    "print(f\"Kvadrat soni {soni} va joylashmagan qism yuzi {ortiqcha}\")"
   ]
  },
  {
   "cell_type": "code",
   "execution_count": 126,
   "id": "6570e526",
   "metadata": {},
   "outputs": [
    {
     "name": "stdout",
     "output_type": "stream",
     "text": [
      "Yilni kiriting: 2543\n",
      "Siz kiritgan yil 26 yuz yillikka kiradi\n"
     ]
    }
   ],
   "source": [
    "# 30-misol. Qaysidir yil berilgan. Berilgan yilning qaysi yuz yillikka kirishini aniqlaydigan\n",
    "# dastur tuzing.\n",
    "Y = int(input(\"Yilni kiriting: \"))\n",
    "A = Y // 100 + 1\n",
    "print(f\"Siz kiritgan yil {A} yuz yillikka kiradi\")"
   ]
  },
  {
   "cell_type": "code",
   "execution_count": 2,
   "id": "bb762d53",
   "metadata": {},
   "outputs": [
    {
     "name": "stdout",
     "output_type": "stream",
     "text": [
      "A = 5\n",
      "B = 2\n",
      "A kesmaga B kesma 2 marta sig'adi, 1 qismi ortib qoladi\n"
     ]
    }
   ],
   "source": [
    "A = int(input(\"A = \"))\n",
    "B = int(input(\"B = \"))\n",
    "C = A // B\n",
    "D = A % B\n",
    "print(f\"A kesmaga B kesma {C} marta sig'adi, {D} qismi ortib qoladi\")"
   ]
  },
  {
   "cell_type": "code",
   "execution_count": 3,
   "id": "2ab121aa",
   "metadata": {},
   "outputs": [
    {
     "name": "stdout",
     "output_type": "stream",
     "text": [
      "1-365 oraliqdagi kunni kiriting: 234\n",
      "Chorshanba\n"
     ]
    }
   ],
   "source": [
    "Y = int(input(\"1-365 oraliqdagi kunni kiriting: \"))\n",
    "H = Y % 7\n",
    "if H == 1:\n",
    "    print(\"Dushanba\")\n",
    "elif H == 2:\n",
    "    print(\"Seshanba\")\n",
    "elif H == 3:\n",
    "    print(\"Chorshanba\")\n",
    "elif H == 4:\n",
    "    print(\"Payshanba\")\n",
    "elif H == 5:\n",
    "    print(\"Juma\")\n",
    "elif H == 6:\n",
    "    print(\"Shanba\")\n",
    "elif H == 0:\n",
    "    print(\"Yakshanba\")"
   ]
  },
  {
   "cell_type": "code",
   "execution_count": 27,
   "id": "9f349733",
   "metadata": {},
   "outputs": [
    {
     "name": "stdout",
     "output_type": "stream",
     "text": [
      "Kun boshidan o'tgan sekund: 1000000\n",
      "Kun boshidan 0 yil, 0 oy, 0 kun 7 soat 46 minut 40 sekund o'tdi.\n"
     ]
    }
   ],
   "source": [
    "N = int(input(\"Kun boshidan o'tgan sekund: \"))\n",
    "Y = N // 3600 // 24 // 30 // 360\n",
    "O = N  // 3600 // 24  % 360 // 30\n",
    "K = N  // 3600 % 360 % 30 // 24\n",
    "H = N  // 3600 % 360 % 30 % 24\n",
    "M = N % 3600 // 60\n",
    "S = N % 60\n",
    "print(f\"Kun boshidan {Y} yil, {O} oy, {K} kun {H} soat {M} minut {S} sekund o'tdi.\")"
   ]
  },
  {
   "cell_type": "code",
   "execution_count": 47,
   "id": "9b238a82",
   "metadata": {},
   "outputs": [
    {
     "name": "stdout",
     "output_type": "stream",
     "text": [
      "Sekund: 2342342343242342\n",
      "2342342343242342 sekundda - 25102 asr 26 yil 8 oy 17 kun 12 soat 39 minut 2 sekund\n"
     ]
    }
   ],
   "source": [
    "N = int(input(\"Sekund: \"))\n",
    "S = N % 60\n",
    "M = N % 3600 // 60 \n",
    "H = N // 3600 % 24\n",
    "K = N // 3600 // 24 % 30\n",
    "O = N // 3600 // 24 // 30 % 360 // 12\n",
    "Y = N // 3600 // 24 // 30 // 360 % 100\n",
    "A = N // 3600 // 24 // 30 // 360 // 100\n",
    "print(f\"{N} sekundda - {A} asr {Y} yil {O} oy {K} kun {H} soat {M} minut {S} sekund\")"
   ]
  },
  {
   "cell_type": "code",
   "execution_count": 48,
   "id": "f06ef618",
   "metadata": {},
   "outputs": [
    {
     "name": "stdout",
     "output_type": "stream",
     "text": [
      "A = 2\n",
      "False\n"
     ]
    }
   ],
   "source": [
    "a = int(input(\"A = \"))\n",
    "print(a<0)"
   ]
  },
  {
   "cell_type": "code",
   "execution_count": 52,
   "id": "184444b6",
   "metadata": {},
   "outputs": [
    {
     "name": "stdout",
     "output_type": "stream",
     "text": [
      "A = 3\n",
      "True\n"
     ]
    }
   ],
   "source": [
    "a = int(input(\"A = \"))\n",
    "print(a%2 != 0)"
   ]
  },
  {
   "cell_type": "code",
   "execution_count": null,
   "id": "fdc334d1",
   "metadata": {},
   "outputs": [],
   "source": []
  }
 ],
 "metadata": {
  "kernelspec": {
   "display_name": "Python 3 (ipykernel)",
   "language": "python",
   "name": "python3"
  },
  "language_info": {
   "codemirror_mode": {
    "name": "ipython",
    "version": 3
   },
   "file_extension": ".py",
   "mimetype": "text/x-python",
   "name": "python",
   "nbconvert_exporter": "python",
   "pygments_lexer": "ipython3",
   "version": "3.9.9"
  }
 },
 "nbformat": 4,
 "nbformat_minor": 5
}
