{
 "cells": [
  {
   "cell_type": "markdown",
   "id": "26e77bc0",
   "metadata": {
    "slideshow": {
     "slide_type": "-"
    }
   },
   "source": [
    "# Funksiyalar"
   ]
  },
  {
   "cell_type": "code",
   "execution_count": 95,
   "id": "fc5dd1a4",
   "metadata": {},
   "outputs": [
    {
     "name": "stdout",
     "output_type": "stream",
     "text": [
      "A = 2\n",
      "B = 3\n",
      "C = 4\n",
      "D = 5\n",
      "E = 6\n",
      "8.0\n",
      "27.0\n",
      "64.0\n",
      "125\n",
      "216\n"
     ]
    }
   ],
   "source": [
    "# FunSimple1. Ihtiyoriy sonning 3-darajasini hisoblovchi PowerA3 nomli funksiya hosil qiling.\n",
    "# PowerA3 funksiyasi orqali A, B, C haqiqiy sonlarning va D, E butun sonlarning 3-darajasini\n",
    "# hisoblovchi dastur tuzing.\n",
    "def PowerA3(A):\n",
    "    a = A**3\n",
    "    return a\n",
    "A = float(input(\"A = \"))\n",
    "B = float(input(\"B = \"))\n",
    "C = float(input(\"C = \"))\n",
    "D = int(input(\"D = \"))\n",
    "E = int(input(\"E = \"))\n",
    "print(PowerA3(A))\n",
    "print(PowerA3(B))\n",
    "print(PowerA3(C))\n",
    "print(PowerA3(D))\n",
    "print(PowerA3(E))"
   ]
  },
  {
   "cell_type": "code",
   "execution_count": 93,
   "id": "215d7187",
   "metadata": {},
   "outputs": [
    {
     "name": "stdout",
     "output_type": "stream",
     "text": [
      "A = 2\n",
      "B = 3\n",
      "C = 4\n",
      "(4, 8, 16)\n",
      "(9, 27, 81)\n",
      "(16, 64, 256)\n"
     ]
    }
   ],
   "source": [
    "# FunSimple2. Ixtiyoriy sonning 2, 3, 4-darajasini hisoblovchi PowerA234 nomli funksiya hosil\n",
    "# qiling. PowerA234 funksiya orqali A, B, C sonlarning 2,3,4-darajalarini hisoblang.\n",
    "def PowerA234(A):\n",
    "    a = A**2\n",
    "    b = A**3\n",
    "    c = A**4\n",
    "    return a,b,c\n",
    "A = int(input(\"A = \"))\n",
    "B = int(input(\"B = \"))\n",
    "C = int(input(\"C = \"))\n",
    "print(PowerA234(A))\n",
    "print(PowerA234(B))\n",
    "print(PowerA234(C))"
   ]
  },
  {
   "cell_type": "code",
   "execution_count": 97,
   "id": "8ac1ab00",
   "metadata": {},
   "outputs": [
    {
     "name": "stdout",
     "output_type": "stream",
     "text": [
      "A = 2\n",
      "B = 3\n",
      "C = 4\n",
      "D = 5\n",
      "(2.5, 2.449489742783178)\n",
      "(4.5, 4.47213595499958)\n"
     ]
    }
   ],
   "source": [
    "# FunSimple3. Ikkita sonning o'rta arifmetigi va o'rta geometrigini hisoblovchi MEAN funksiya\n",
    "# hosil qiling. MEAN funksiya orqali A,B,C,D sonlardan (A,B), (A,C), (A,D)larning o'rta\n",
    "# arifmetigi va o'rta geometrigini hisoblovchi dastur tuzing. \n",
    "def MEAN(A,B):\n",
    "    a = (A+B)/2\n",
    "    g = (A*B)**0.5\n",
    "    return a, g\n",
    "A = int(input(\"A = \"))\n",
    "B = int(input(\"B = \"))\n",
    "C = int(input(\"C = \"))\n",
    "D = int(input(\"D = \"))\n",
    "print(MEAN(A,B))\n",
    "print(MEAN(C,D))"
   ]
  },
  {
   "cell_type": "code",
   "execution_count": 92,
   "id": "0235504e",
   "metadata": {},
   "outputs": [
    {
     "name": "stdout",
     "output_type": "stream",
     "text": [
      "A = 2\n",
      "B = 3\n",
      "C = 4\n",
      "(6, 1.7320508075688772)\n",
      "(9, 3.8971143170299736)\n",
      "(12, 6.928203230275509)\n"
     ]
    }
   ],
   "source": [
    "# FunSimple4. Teng tomonli uchburchakning yuzini va peremetrini hisoblovchi Triangle nomli\n",
    "# funksiya tuzing. Triangle funksiyasi orqali 3 ta teng tomonli uchburchakning yuzasi va\n",
    "# peremetrini hisoblovchi dastur tuzing.\n",
    "def Triangle(A):\n",
    "    P = A*3\n",
    "    S = (3**0.5*A**2)/4\n",
    "    return P, S\n",
    "A = int(input(\"A = \"))\n",
    "B = int(input(\"B = \"))\n",
    "C = int(input(\"C = \"))\n",
    "print(Triangle(A))\n",
    "print(Triangle(B))\n",
    "print(Triangle(C))"
   ]
  },
  {
   "cell_type": "code",
   "execution_count": 16,
   "id": "a6f1fb6d",
   "metadata": {},
   "outputs": [
    {
     "name": "stdout",
     "output_type": "stream",
     "text": [
      "x1 = 2\n",
      "x2 = 4\n",
      "x3 = 5\n",
      "x4 = 8\n",
      "y1 = 2\n",
      "y2 = 4\n",
      "y3 = 5\n",
      "y4 = 8\n",
      "(4, 8)\n",
      "(9, 12)\n"
     ]
    }
   ],
   "source": [
    "# FunSimple5. To'g'ri to'rtburchakning yuzi va peremetrini uning qarama-qarshi uchlari \n",
    "# koordinatasi orqali aniqlovchi RectPS nomli funksiya hosil qiling.(x1,y1,x2,y2) to'g'ri \n",
    "# to'rtburchakning uchlari koordinatasi. RectPS orqali 2 ta to'g'ri to'rtburchakning yuzi va\n",
    "# peremetrini hisoblang. To'g'ri to'rtburchak koordinata o'qiga paralell.\n",
    "def RectPS(x1,y1,x2,y2):\n",
    "    a = abs(x2-x1)\n",
    "    b = abs(y2-y1)\n",
    "    s = a*b\n",
    "    p = (a+b)*2\n",
    "    return s,p\n",
    "x1 = int(input(\"x1 = \"))\n",
    "x2 = int(input(\"x2 = \"))\n",
    "x3 = int(input(\"x3 = \"))\n",
    "x4 = int(input(\"x4 = \"))\n",
    "y1 = int(input(\"y1 = \"))\n",
    "y2 = int(input(\"y2 = \"))\n",
    "y3 = int(input(\"y3 = \"))\n",
    "y4 = int(input(\"y4 = \"))\n",
    "print(RectPS(x1,y1,x2,y2))\n",
    "print(RectPS(x3,y3,x4,y4))"
   ]
  },
  {
   "cell_type": "code",
   "execution_count": 114,
   "id": "3ea45226",
   "metadata": {},
   "outputs": [
    {
     "name": "stdout",
     "output_type": "stream",
     "text": [
      "A = 123\n",
      "(3, 6)\n",
      "B = 1234\n",
      "(4, 10)\n",
      "C = 12345\n",
      "(5, 15)\n"
     ]
    }
   ],
   "source": [
    "# FUnSimple6. Natural sonning raqamlar soni va raqamlar yig'indisini hisoblovchi DigitCountSum\n",
    "# nomli funksiya yarating. Bu funksiya orqali a, b, c sonlarning raqamlar soni va yi'g'indisini\n",
    "# hisoblovchi dastur tuzing.\n",
    "def DigitCountSum(a):\n",
    "    s = 0\n",
    "    s1 = 0\n",
    "    while a>0:\n",
    "        b = a % 10\n",
    "        s += 1\n",
    "        s1 += b\n",
    "        a //= 10\n",
    "    return s, s1\n",
    "a = int(input(\"A = \"))\n",
    "print(DigitCountSum(a))\n",
    "b = int(input(\"B = \"))\n",
    "print(DigitCountSum(b))\n",
    "c = int(input(\"C = \"))\n",
    "print(DigitCountSum(c))"
   ]
  },
  {
   "cell_type": "code",
   "execution_count": 113,
   "id": "93ad348c",
   "metadata": {},
   "outputs": [
    {
     "name": "stdout",
     "output_type": "stream",
     "text": [
      "A  =123\n",
      "321\n",
      "B = 1234\n",
      "4321\n",
      "C = 12345\n",
      "54321\n"
     ]
    }
   ],
   "source": [
    "# FunSimple7. Butun musbat sonning raqamlarini teskari tartibda chiqaruvchi InvertDigit\n",
    "# nomli funksiya tuzing. Bu funksiya orqali a,b,c sonlarini teskari tartibda chiqaruvchi dastur\n",
    "# tuzing.\n",
    "def InvertDigit(a):\n",
    "    s = 0\n",
    "    while a>0:\n",
    "        b = a % 10\n",
    "        s = s*10 + b\n",
    "        a //= 10\n",
    "    return s\n",
    "a = int(input(\"A  =\"))\n",
    "print(InvertDigit(a))\n",
    "b = int(input(\"B = \"))\n",
    "print(InvertDigit(b))\n",
    "c = int(input(\"C = \"))\n",
    "print(InvertDigit(c))"
   ]
  },
  {
   "cell_type": "code",
   "execution_count": 20,
   "id": "bd41cb38",
   "metadata": {},
   "outputs": [
    {
     "name": "stdout",
     "output_type": "stream",
     "text": [
      "K = 123\n",
      "R = 4\n",
      "1234\n"
     ]
    }
   ],
   "source": [
    "# FunSimple8. Kiritilgan K butun musbat sonining oxiriga R raqamini(1<=R<=9) qo'shuvchi\n",
    "# AddRightDigit funksiyasini tuzing. \n",
    "def AddRightDigit(K, R):\n",
    "    K = K*10+R\n",
    "    return K\n",
    "K = int(input(\"K = \"))\n",
    "R = int(input(\"R = \"))\n",
    "print(AddRightDigit(K,R))"
   ]
  },
  {
   "cell_type": "code",
   "execution_count": 27,
   "id": "2a28f193",
   "metadata": {},
   "outputs": [
    {
     "name": "stdout",
     "output_type": "stream",
     "text": [
      "K = 1234\n",
      "R = 5\n",
      "51234\n"
     ]
    }
   ],
   "source": [
    "# FunSimple9. Kiritilgan K butun musbat sonining boshiga R raqamini(1<=R<=9) qo'shuvchi\n",
    "# AddLeftDigit funksiyasini tuzing. \n",
    "def AddLeftDigit(K, R):\n",
    "    s = K\n",
    "    while K>0:\n",
    "        R *= 10\n",
    "        K //= 10\n",
    "    s += R\n",
    "    return s\n",
    "K = int(input(\"K = \"))\n",
    "R = int(input(\"R = \"))\n",
    "print(AddLeftDigit(K,R))"
   ]
  },
  {
   "cell_type": "code",
   "execution_count": 112,
   "id": "e29efd78",
   "metadata": {},
   "outputs": [
    {
     "name": "stdout",
     "output_type": "stream",
     "text": [
      "A = 2\n",
      "B = 3\n",
      "(3, 2)\n",
      "C = 4\n",
      "D = 5\n",
      "(5, 4)\n"
     ]
    }
   ],
   "source": [
    "# FunSimple10. Ikkita sonning qiymatini almashtiruvchi Swap funksiya hosil qiling. Swap \n",
    "# funksiya orqali A, B, C, D sonlaridan (A, B) va (D, C) juftliklarning qiymatlarini \n",
    "# almashtiring.\n",
    "def Swap(A,B):\n",
    "    A += B\n",
    "    B = A-B\n",
    "    A = A-B\n",
    "    \n",
    "    return A,B\n",
    "A = int(input(\"A = \"))\n",
    "B = int(input(\"B = \"))\n",
    "print(Swap(A,B))\n",
    "C = int(input(\"C = \"))\n",
    "D = int(input(\"D = \"))\n",
    "print(Swap(C,D))"
   ]
  },
  {
   "cell_type": "code",
   "execution_count": 121,
   "id": "c8480423",
   "metadata": {},
   "outputs": [
    {
     "name": "stdout",
     "output_type": "stream",
     "text": [
      "a = 2\n",
      "b = 3\n",
      "c = 4\n",
      "d = 5\n",
      "5 4 3 2\n"
     ]
    }
   ],
   "source": [
    "# FunSimple11. X va Y sonlardan kichigini X ga kattasini Y ga yozuvchi Minmax funksiya tuzing.\n",
    "# Minmax funksiyani 4 marta chiqarish orqali a, b, c, d sonlardan kattasini va kichigini\n",
    "# chiqaruvchi dastur tuzing.\n",
    "def Minmax(X,Y):\n",
    "    if X<Y:\n",
    "        X, Y = Y, X\n",
    "    return X,Y\n",
    "a = int(input(\"a = \"))\n",
    "b = int(input(\"b = \"))\n",
    "c = int(input(\"c = \"))\n",
    "d = int(input(\"d = \"))\n",
    "a,b = Minmax(a,b)\n",
    "c,d = Minmax(c,d)\n",
    "a,c = Minmax(a,c)\n",
    "b,d = Minmax(b,d)\n",
    "print(a,b,c,d)"
   ]
  },
  {
   "cell_type": "code",
   "execution_count": 126,
   "id": "20fc1700",
   "metadata": {},
   "outputs": [
    {
     "name": "stdout",
     "output_type": "stream",
     "text": [
      "A1 = 3\n",
      "B1 = 2\n",
      "C1 = 1\n",
      "(1, 2, 3)\n",
      "A2 = 1\n",
      "B2 = 3\n",
      "C2 = 2\n",
      "(1, 2, 3)\n"
     ]
    }
   ],
   "source": [
    "# FunSimple12. A,B,C sonlarini o'sish tartibda joylashtiruvchi SortInc3(A,B,C) funksiya hosil\n",
    "# qiling. Bu funksiya orqali (A1, B1, C1) va (A2, B2, C2) sonlarini o'sish tartibida chiqaruvchi\n",
    "# dastur tuzing.\n",
    "def SortInc3(A,B,C):\n",
    "    if C<B:\n",
    "        B,C = C,B\n",
    "    if C<A:\n",
    "        C,A = A,C\n",
    "    if B<A:\n",
    "        A,B = B,A\n",
    "    return A,B,C\n",
    "A1 = int(input(\"A1 = \"))\n",
    "B1 = int(input(\"B1 = \"))\n",
    "C1 = int(input(\"C1 = \"))\n",
    "print(SortInc3(A1,B1,C1))\n",
    "A2 = int(input(\"A2 = \"))\n",
    "B2 = int(input(\"B2 = \"))\n",
    "C2 = int(input(\"C2 = \"))\n",
    "print(SortInc3(A2,B2,C2))"
   ]
  },
  {
   "cell_type": "code",
   "execution_count": 123,
   "id": "fff73e42",
   "metadata": {},
   "outputs": [
    {
     "name": "stdout",
     "output_type": "stream",
     "text": [
      "A1 = 2\n",
      "B1 = 3\n",
      "C1 = 4\n",
      "(4, 3, 2)\n",
      "A2 = 3\n",
      "B2 = 2\n",
      "C2 = 4\n",
      "(4, 3, 2)\n"
     ]
    }
   ],
   "source": [
    "# FunSimple13. A,B,C sonlarini kamayish tartibda joylashtiruvchi SortDec3(A,B,C) funksiya hosil\n",
    "# qiling. Bu funksiya orqali (A1, B1, C1) va (A2, B2, C2) sonlarini kamayish tartibida chiqaruvchi\n",
    "# dastur tuzing.\n",
    "def SortDec3(A,B,C):\n",
    "    if A<B:\n",
    "        A,B = B,A\n",
    "    if A<C:\n",
    "        A,C = C,A\n",
    "    if B<C:\n",
    "        B,C = C,B\n",
    "    return A,B,C\n",
    "A1 = int(input(\"A1 = \"))\n",
    "B1 = int(input(\"B1 = \"))\n",
    "C1 = int(input(\"C1 = \"))\n",
    "print(SortDec3(A1,B1,C1))\n",
    "A2 = int(input(\"A2 = \"))\n",
    "B2 = int(input(\"B2 = \"))\n",
    "C2 = int(input(\"C2 = \"))\n",
    "print(SortDec3(A2,B2,C2))"
   ]
  },
  {
   "cell_type": "code",
   "execution_count": 109,
   "id": "d7efae93",
   "metadata": {},
   "outputs": [
    {
     "name": "stdout",
     "output_type": "stream",
     "text": [
      "A1 = 1\n",
      "B1 = 2\n",
      "C1 = 3\n",
      "(3, 1, 2)\n",
      "A2 = 4\n",
      "B2 = 5\n",
      "C2 = 6\n",
      "(6, 4, 5)\n"
     ]
    }
   ],
   "source": [
    "# FunSimple14. O'ngga siklik siljuvchi ShiftRight3(A,B,C) funksiya tuzing. Ya'ni A ning qiymati\n",
    "# B ga, B ning qiymati C ga, C ning qiymati A ga o'tuvchi. Bu funksiya orqali (A1, B1, C1) va \n",
    "# (A2, B2, C2) sonlarini siljiting.\n",
    "def ShiftRight3(A,B,C):\n",
    "    A = A + B + C\n",
    "    B = A - B - C\n",
    "    C = A - B - C\n",
    "    A = A - B - C\n",
    "    return A,B,C\n",
    "A1 = int(input(\"A1 = \"))\n",
    "B1 = int(input(\"B1 = \"))\n",
    "C1 = int(input(\"C1 = \"))\n",
    "print(ShiftRight3(A1,B1,C1))\n",
    "A2 = int(input(\"A2 = \"))\n",
    "B2 = int(input(\"B2 = \"))\n",
    "C2 = int(input(\"C2 = \"))\n",
    "print(ShiftRight3(A2,B2,C2))"
   ]
  },
  {
   "cell_type": "code",
   "execution_count": 108,
   "id": "23de7c27",
   "metadata": {},
   "outputs": [
    {
     "name": "stdout",
     "output_type": "stream",
     "text": [
      "A1 = 2\n",
      "B1 = 3\n",
      "C1 = 4\n",
      "(3, 4, 2)\n",
      "A2 = 5\n",
      "B2 = 6\n",
      "C2 = 7\n",
      "(6, 7, 5)\n"
     ]
    }
   ],
   "source": [
    "# FunSimple15. Chapga siklik siljuvchi ShiftLeft3(A,B,C) funksiya tuzing. Ya'ni C ning qiymati\n",
    "# B ga, B ning qiymati A ga, A ning qiymati C ga o'tuvchi. Bu funksiya orqali (A1, B1, C1) va \n",
    "# (A2, B2, C2) sonlarini siljiting.\n",
    "def ShiftLeft3(A,B,C):\n",
    "    C = A + B + C\n",
    "    B = C - B - A\n",
    "    A = C - B - A\n",
    "    C = C - B - A\n",
    "    return A,B,C\n",
    "A1 = int(input(\"A1 = \"))\n",
    "B1 = int(input(\"B1 = \"))\n",
    "C1 = int(input(\"C1 = \"))\n",
    "print(ShiftLeft3(A1,B1,C1))\n",
    "A2 = int(input(\"A2 = \"))\n",
    "B2 = int(input(\"B2 = \"))\n",
    "C2 = int(input(\"C2 = \"))\n",
    "print(ShiftLeft3(A2,B2,C2))"
   ]
  },
  {
   "cell_type": "code",
   "execution_count": 127,
   "id": "2d1e5d78",
   "metadata": {},
   "outputs": [
    {
     "name": "stdout",
     "output_type": "stream",
     "text": [
      "a = 0\n",
      "b = -2\n",
      "-1\n"
     ]
    }
   ],
   "source": [
    "# FunSimple16. Haqiqiy sonning ishorasini aniqlovchi ishora nomli funksiya hosil qiling.\n",
    "# Funksiya argumenti 0 dan kichik bo'lsa -1, 0 dan katta bo'lsa 1, 0 ga teng bo'lsa 0 qaytarsin.\n",
    "# Haqiqiy a va b sonlari uchun ishora(a)+ishora(b) hisoblansin.\n",
    "def ishora(a):\n",
    "    if a>0:\n",
    "        return 1\n",
    "    if a<0:\n",
    "        return -1\n",
    "    if a==0:\n",
    "        return 0\n",
    "a = int(input(\"a = \"))\n",
    "b = int(input(\"b = \"))\n",
    "print(ishora(a)+ishora(b))"
   ]
  },
  {
   "cell_type": "code",
   "execution_count": 128,
   "id": "593db295",
   "metadata": {},
   "outputs": [
    {
     "name": "stdout",
     "output_type": "stream",
     "text": [
      "A = 2\n",
      "B = 3\n",
      "C = 4\n",
      "Yechim yo'q\n"
     ]
    }
   ],
   "source": [
    "# FunSimple17. Kvadrat tenglamaning ildizlar sonini aniqlovchi funksiya hosil qiling.\n",
    "# A*x**2+B*x+C=0 kvadrat tenglama. (A!=0)\n",
    "def Tenglama(A,B,C):\n",
    "    n = B**2-4*A*C\n",
    "    if n>0:\n",
    "        return \"Ikkita ildiz\"\n",
    "    if n<0:\n",
    "        return \"Yechim yo'q\"\n",
    "    if n==0:\n",
    "        return \"Bitta ildiz\"\n",
    "A = int(input(\"A = \"))\n",
    "B = int(input(\"B = \"))\n",
    "C = int(input(\"C = \"))\n",
    "print(Tenglama(A,B,C))"
   ]
  },
  {
   "cell_type": "code",
   "execution_count": 107,
   "id": "15edd7e4",
   "metadata": {},
   "outputs": [
    {
     "name": "stdout",
     "output_type": "stream",
     "text": [
      "R1 = 2\n",
      "12.566\n",
      "R2 = 3\n",
      "28.273500000000002\n",
      "R3 = 4\n",
      "50.264\n"
     ]
    }
   ],
   "source": [
    "# FunSimple18. Doiraning yuzini hisoblovchi funksiya hosil qiling. Bu funksiya yordamida 3 ta\n",
    "# doiraning yuzini hisoblang. S = pi*R**2, pi = 3.1415\n",
    "def Doira(R):\n",
    "    pi = 3.1415\n",
    "    S = pi*R**2\n",
    "    return S\n",
    "R1 = int(input(\"R1 = \"))\n",
    "print(Doira(R1))\n",
    "R2 = int(input(\"R2 = \"))\n",
    "print(Doira(R2))\n",
    "R3 = int(input(\"R3 = \"))\n",
    "print(Doira(R3))"
   ]
  },
  {
   "cell_type": "code",
   "execution_count": 102,
   "id": "6c461188",
   "metadata": {},
   "outputs": [
    {
     "name": "stdout",
     "output_type": "stream",
     "text": [
      "R1 = 2\n",
      "R2 = 4\n",
      "37.698\n"
     ]
    }
   ],
   "source": [
    "# FunSimple19. Markazi bir nuqtada bo'lgan R1 va R2 radiusli 2 ta aylananing ustma-ust \n",
    "# tushmaydigan qismining yuzini topuvchi RingS nomli funksiya hosil qiling. \n",
    "def RingS(R1,R2):\n",
    "    pi = 3.1415\n",
    "    s1 = pi*R1**2\n",
    "    s2 = pi*R2**2\n",
    "    a = abs(s1-s2)\n",
    "    return a\n",
    "R1 = int(input(\"R1 = \"))\n",
    "R2 = int(input(\"R2 = \"))\n",
    "print(RingS(R1,R2))"
   ]
  },
  {
   "cell_type": "code",
   "execution_count": 54,
   "id": "18b8ebe1",
   "metadata": {},
   "outputs": [
    {
     "name": "stdout",
     "output_type": "stream",
     "text": [
      "A = 3\n",
      "B = 4\n",
      "12.0\n"
     ]
    }
   ],
   "source": [
    "# FunSimple20. To'g'ri burchakli uchburchakning katetlari A va B berilgan. Uning peremetrini\n",
    "# hisoblovchi TriangleP nomli funksiya hosil qiling.\n",
    "def TriangleP(A,B):\n",
    "    C = (A**2+B**2)**0.5\n",
    "    P = A+B+C\n",
    "    return P\n",
    "A = int(input(\"A = \"))\n",
    "B = int(input(\"B = \"))\n",
    "print(TriangleP(A,B))"
   ]
  },
  {
   "cell_type": "code",
   "execution_count": 129,
   "id": "96b0a966",
   "metadata": {},
   "outputs": [
    {
     "name": "stdout",
     "output_type": "stream",
     "text": [
      "A = 2\n",
      "B = 4\n",
      "3\n",
      "B = 5\n",
      "C = 8\n",
      "13\n"
     ]
    }
   ],
   "source": [
    "# FunSimple21. A va B sonlari orasidagi sonlar yig'indisini hisoblovchi SumRange(A,B) nomli\n",
    "# funksiya hosil qiling. Agar A>B bo'lsa funksiya 0 qaytaradi. Bu funksiya orqali A dan B gacha \n",
    "# va B dan C gacha sonlar orasidagi yig'indini hisoblang.\n",
    "def SumRange(A,B):\n",
    "    s = 0\n",
    "    if A<B:\n",
    "        for i in range(A+1, B):\n",
    "            s += i\n",
    "    else:\n",
    "        s = 0\n",
    "    return s\n",
    "A = int(input(\"A = \"))\n",
    "B = int(input(\"B = \"))\n",
    "print(SumRange(A,B))\n",
    "B = int(input(\"B = \"))\n",
    "C = int(input(\"C = \"))\n",
    "print(SumRange(B,C))"
   ]
  },
  {
   "cell_type": "code",
   "execution_count": 70,
   "id": "3386bec4",
   "metadata": {},
   "outputs": [
    {
     "name": "stdout",
     "output_type": "stream",
     "text": [
      "A = 2\n",
      "B = 4\n",
      "Amallar = 3\n",
      "(\"Bo'linma:\", 0.5)\n"
     ]
    }
   ],
   "source": [
    "# FunSimple22. Arifmetik amallarni bajaruvchi Calc(A,B,Op) funksiya hosil qiling. A va B haqiqiy\n",
    "# sonlar, Op operator(1-ayirish, 2-ko'paytirish, 3-bo'lish, boshqalari qo'shish). A va B sonlar\n",
    "# uchun N1, N2, N3, N4 amallar bajarilsin.\n",
    "def Calc(A,B,Op):\n",
    "    if Op==1:\n",
    "        s = \"Ayirma:\",A-B\n",
    "    elif Op==2:\n",
    "        s = \"Ko'paytma:\",A*B\n",
    "    elif Op==3:\n",
    "        s = \"Bo'linma:\",A/B\n",
    "    else:\n",
    "        s = \"Yig'indi:\",A+B\n",
    "    return s\n",
    "A = int(input(\"A = \"))\n",
    "B = int(input(\"B = \"))\n",
    "Op = int(input(\"Amallar = \"))\n",
    "print(Calc(A,B,Op))"
   ]
  },
  {
   "cell_type": "code",
   "execution_count": 103,
   "id": "e8d6b99a",
   "metadata": {},
   "outputs": [
    {
     "name": "stdout",
     "output_type": "stream",
     "text": [
      "x = 2\n",
      "y = 3\n",
      "Birinchi chorak\n",
      "x = 3\n",
      "y = 2\n",
      "Birinchi chorak\n",
      "x = 4\n",
      "y = 3\n",
      "Birinchi chorak\n",
      "x = -3\n",
      "y = -2\n",
      "Uchunchi chorak\n"
     ]
    }
   ],
   "source": [
    "# FunSimple23. X va Y butun sonlari berilgan(X va Y noldan farqli). (X,Y) qasysi chorakda \n",
    "# ekanligini aniqlovchi Quarter nomli funksiya hosil qiling. Bu funksiya orqali 4 ta nuqta\n",
    "# choragini aniqlang.\n",
    "def Quarter(x, y):\n",
    "    if x>0<y:\n",
    "        j = \"Birinchi chorak\"\n",
    "    if x<0<y:\n",
    "        j = \"Ikkinchi chorak\"\n",
    "    if x<0>y:\n",
    "        j = \"Uchunchi chorak\"\n",
    "    if x>0>y:\n",
    "        j = \"To'rtinchi chorak\"\n",
    "    if x==0:\n",
    "        j = \"Y o'qda\"\n",
    "    if y==0:\n",
    "        j = \"X o'qda\"\n",
    "    return j\n",
    "x = int(input(\"x = \"))\n",
    "y = int(input(\"y = \"))\n",
    "print(Quarter(x,y))\n",
    "x = int(input(\"x = \"))\n",
    "y = int(input(\"y = \"))\n",
    "print(Quarter(x,y))\n",
    "x = int(input(\"x = \"))\n",
    "y = int(input(\"y = \"))\n",
    "print(Quarter(x,y))\n",
    "x = int(input(\"x = \"))\n",
    "y = int(input(\"y = \"))\n",
    "print(Quarter(x,y))"
   ]
  },
  {
   "cell_type": "code",
   "execution_count": 104,
   "id": "175a6f8f",
   "metadata": {},
   "outputs": [
    {
     "name": "stdout",
     "output_type": "stream",
     "text": [
      "K = 2\n",
      "True\n",
      "K1 = 3\n",
      "False\n",
      "K2 = 4\n",
      "True\n"
     ]
    }
   ],
   "source": [
    "# FunSimple24. Butun sonning juft yoki toqligini aniqlovchi Even(K) funksiya hosil qiling.\n",
    "# Funksiya juft bo'lsa True, toq bo'lsa False qiymat qaytarsin. Bu funksiya orqali 3 ta sonning\n",
    "# juft, toqligini aniqlang.\n",
    "def Even(K):\n",
    "    if K%2==0:\n",
    "        K = True\n",
    "    else:\n",
    "        K = False\n",
    "    return K\n",
    "K = int(input(\"K = \"))\n",
    "print(Even(K))\n",
    "K1 = int(input(\"K1 = \"))\n",
    "print(Even(K1))\n",
    "K2 = int(input(\"K2 = \"))\n",
    "print(Even(K2))"
   ]
  },
  {
   "cell_type": "code",
   "execution_count": 105,
   "id": "9122d215",
   "metadata": {},
   "outputs": [
    {
     "name": "stdout",
     "output_type": "stream",
     "text": [
      "A = 2\n",
      "False\n",
      "B = 3\n",
      "False\n",
      "C = 4\n",
      "True\n"
     ]
    }
   ],
   "source": [
    "# FunSimple25. IsSquare(K) mantiqiy funksiya hosil qiling(K>0). Agar K biror butun sonning \n",
    "# kvadrati bo'lsa True, aks holda False qaytarsin. Shu funksiya orqali uchta sonni tekshiring.\n",
    "def IsSquare(K):\n",
    "    s = K**0.5\n",
    "    if s%1==0:\n",
    "        s = True\n",
    "    else:\n",
    "        s = False\n",
    "    return s\n",
    "a = int(input(\"A = \"))\n",
    "print(IsSquare(a))\n",
    "b = int(input(\"B = \"))\n",
    "print(IsSquare(b))\n",
    "c = int(input(\"C = \"))\n",
    "print(IsSquare(c))"
   ]
  },
  {
   "cell_type": "code",
   "execution_count": 34,
   "id": "c420b344",
   "metadata": {},
   "outputs": [
    {
     "name": "stdout",
     "output_type": "stream",
     "text": [
      "A = 125\n",
      "True\n",
      "A = 625\n",
      "True\n",
      "A = 2\n",
      "False\n",
      "A = 25\n",
      "True\n",
      "A = 25\n",
      "True\n",
      "5 ning darajalari soni: 4\n"
     ]
    }
   ],
   "source": [
    "# FunSimple26. IsPower5(K) mantiqiy funksiya hosil qiling(K>0). Agar K soni 5 ning biror \n",
    "# darajasi bo'lsa True, aks holda False qaytarsin. Shu funksiya orqali 5 ta sonning nechtasi \n",
    "# 5 ning darajasi ekanini aniqlang.\n",
    "def IsPower5(K):\n",
    "    for i in range(1,100):\n",
    "        if round(K**(1/i))==5:\n",
    "            return True\n",
    "    return False\n",
    "s = 0\n",
    "for i in range(5):\n",
    "    a = int(input(\"A = \"))\n",
    "    if IsPower5(a):\n",
    "        print(True)\n",
    "        s += 1\n",
    "    else:\n",
    "        print(False)\n",
    "        \n",
    "print(\"5 ning darajalari soni:\",s)"
   ]
  },
  {
   "cell_type": "code",
   "execution_count": 36,
   "id": "ea7a0580",
   "metadata": {},
   "outputs": [
    {
     "name": "stdout",
     "output_type": "stream",
     "text": [
      "A = 8\n",
      "B = 2\n",
      "True\n",
      "A = 9\n",
      "B = 3\n",
      "True\n",
      "A = 25\n",
      "B = 5\n",
      "True\n",
      "A = 16\n",
      "B = 4\n",
      "True\n",
      "A = 36\n",
      "B = 5\n",
      "False\n"
     ]
    }
   ],
   "source": [
    "# FunSimple27. IsPowerN(K, N) mantiqiy funksiya hosil qiling(K>0). Agar K soni N ning biror \n",
    "# darajasi bo'lsa True, aks holda False qaytarsin. Shu funksiya orqali 5 ta sonning nechtasi \n",
    "# N ning darajasi ekanini aniqlang.\n",
    "def IsPowerN(K, N):\n",
    "    for i in range(1,100):\n",
    "        if round(K**(1/i))==N:\n",
    "            return True\n",
    "    return False\n",
    "for i in range(5):\n",
    "    a = int(input(\"A = \"))\n",
    "    b = int(input(\"B = \"))\n",
    "    if IsPowerN(a, b):\n",
    "        print(True)\n",
    "    else:\n",
    "        print(False) "
   ]
  },
  {
   "cell_type": "code",
   "execution_count": 56,
   "id": "30331e0f",
   "metadata": {},
   "outputs": [
    {
     "name": "stdout",
     "output_type": "stream",
     "text": [
      "Nechta son? 5\n",
      "A = 13\n",
      "A = 15\n",
      "A = 17\n",
      "A = 19\n",
      "A = 21\n",
      "5 ta sondan 3 tasi tub\n"
     ]
    }
   ],
   "source": [
    "# FunSimple28. IsPrime(N) funksiya hosil qiling(N>0). Agar N soni tub bo'lsa True, Aks holda\n",
    "# False qiymat qaytarsin. Shu funksiya orqali kiritilgan K ta sondan nechtasi tub ekanini\n",
    "# aniqlovchi dastur tuzing.\n",
    "def IsPrime(N):\n",
    "    s = 0\n",
    "    tub = True\n",
    "    if N==2:\n",
    "        return tub\n",
    "    if N%2==0:\n",
    "        tub = False\n",
    "    for i in range(3,int(N**0.5)+1, 2):\n",
    "        if N%i==0:\n",
    "            s += 1\n",
    "        if s==1:\n",
    "            tub = False\n",
    "    return tub\n",
    "K = int(input(\"Nechta son? \"))\n",
    "count = 0\n",
    "for _ in range(K):\n",
    "    a = int(input(\"A = \"))\n",
    "    if IsPrime(a):\n",
    "        count += 1\n",
    "print(f\"{K} ta sondan {count} tasi tub\")"
   ]
  },
  {
   "cell_type": "code",
   "execution_count": 57,
   "id": "0070050a",
   "metadata": {},
   "outputs": [
    {
     "name": "stdout",
     "output_type": "stream",
     "text": [
      "A = 123\n",
      "3\n",
      "A = 1234\n",
      "4\n",
      "A = 12345\n",
      "5\n",
      "A = 123456\n",
      "6\n",
      "A = 1234567\n",
      "7\n"
     ]
    }
   ],
   "source": [
    "# FunSimple29. Butun qiymat qaytaruvchi DigitCount(K) funksiya hosil qiling(K>0). Funksiya K \n",
    "# ning raqamlar sonini qaytarsin. Shu funksiya orqali 5 ta sonning raqamlar sonin qaytarsin.\n",
    "def DigitCount(K):\n",
    "    s = 0\n",
    "    while K>0:\n",
    "        a = K % 10\n",
    "        s += 1\n",
    "        K //= 10\n",
    "    return s\n",
    "a = int(input(\"A = \"))\n",
    "print(DigitCount(a))\n",
    "a = int(input(\"A = \"))\n",
    "print(DigitCount(a))\n",
    "a = int(input(\"A = \"))\n",
    "print(DigitCount(a))\n",
    "a = int(input(\"A = \"))\n",
    "print(DigitCount(a))\n",
    "a = int(input(\"A = \"))\n",
    "print(DigitCount(a))"
   ]
  },
  {
   "cell_type": "code",
   "execution_count": 80,
   "id": "0317a993",
   "metadata": {},
   "outputs": [
    {
     "name": "stdout",
     "output_type": "stream",
     "text": [
      "A = 123\n",
      "N = 4\n",
      "-1\n"
     ]
    }
   ],
   "source": [
    "# FunSimple30. Butun qiymat qaytaruvchi DigitN(K,N) funksiya hosil qiling (K>0). Funksiya K\n",
    "# sonining N raqamini qaytarsin. Agar K soni raqamlari N dan kichik bo'lsa -1 qaytarsin.\n",
    "# Shu funksiya orqali N1,N2,N3 sonining K raqamlarini qaytarsin.\n",
    "def DigitN(K,N):\n",
    "    s = 0\n",
    "    b = K\n",
    "    while K>0:\n",
    "        a = K%10\n",
    "        s += 1\n",
    "        K //= 10\n",
    "    y = 0\n",
    "    if s>=N:\n",
    "        while s>=N:\n",
    "            c = 10**(s-1)\n",
    "            x = b//c\n",
    "            b %= c\n",
    "            y = y*10 + x\n",
    "            s -= 1\n",
    "    else:\n",
    "        y = -1\n",
    "    return y\n",
    "a = int(input(\"A = \"))\n",
    "n = int(input(\"N = \"))\n",
    "print(DigitN(a,n))"
   ]
  },
  {
   "cell_type": "code",
   "execution_count": 86,
   "id": "c8541d43",
   "metadata": {},
   "outputs": [
    {
     "name": "stdout",
     "output_type": "stream",
     "text": [
      "N = 123321\n",
      "True\n"
     ]
    }
   ],
   "source": [
    "# FunSimple31.\n",
    "def IsPolindrom(N):\n",
    "    x = 0\n",
    "    y = N\n",
    "    pol = True\n",
    "    while N>0:\n",
    "        a = N%10\n",
    "        N //= 10\n",
    "        x = x*10+a\n",
    "    if x==y:\n",
    "        return pol\n",
    "    else:\n",
    "        pol = False\n",
    "    return pol\n",
    "N = int(input(\"N = \"))\n",
    "print(IsPolindrom(N))"
   ]
  },
  {
   "cell_type": "code",
   "execution_count": 88,
   "id": "95d325d0",
   "metadata": {},
   "outputs": [
    {
     "name": "stdout",
     "output_type": "stream",
     "text": [
      "Burchak: 45\n",
      "0.785375\n",
      "Burchak: 90\n",
      "1.57075\n",
      "Burchak: 12\n",
      "0.20943333333333336\n"
     ]
    }
   ],
   "source": [
    "# Funsimple32.\n",
    "def DegToRad(D):\n",
    "    pi = 3.1415\n",
    "    R = pi/180*D\n",
    "    return R\n",
    "D = int(input(\"Burchak: \"))\n",
    "print(DegToRad(D))\n",
    "D = int(input(\"Burchak: \"))\n",
    "print(DegToRad(D))\n",
    "D = int(input(\"Burchak: \"))\n",
    "print(DegToRad(D))"
   ]
  },
  {
   "cell_type": "code",
   "execution_count": 92,
   "id": "2d29c773",
   "metadata": {},
   "outputs": [
    {
     "name": "stdout",
     "output_type": "stream",
     "text": [
      "Burchak: 0.785375\n",
      "45\n",
      "Burchak: 23423\n",
      "1342078\n",
      "Burchak: 23\n",
      "1317\n"
     ]
    }
   ],
   "source": [
    "# FunSimple33.\n",
    "def RadToDeg(R):\n",
    "    pi = 3.1415\n",
    "    D = (180*R)/pi\n",
    "    return D\n",
    "R = float(input(\"Burchak: \"))\n",
    "print(int(RadToDeg(R)))\n",
    "R = float(input(\"Burchak: \"))\n",
    "print(int(RadToDeg(R)))\n",
    "R = float(input(\"Burchak: \"))\n",
    "print(int(RadToDeg(R)))"
   ]
  },
  {
   "cell_type": "code",
   "execution_count": 96,
   "id": "3081860a",
   "metadata": {},
   "outputs": [
    {
     "name": "stdout",
     "output_type": "stream",
     "text": [
      "A = 5\n",
      "120\n",
      "A = 3\n",
      "6\n",
      "A = 4\n",
      "24\n"
     ]
    }
   ],
   "source": [
    "# FunSimple34.\n",
    "def Fact(N):\n",
    "    f = 1\n",
    "    for i in range(1, N+1):\n",
    "        f *= i\n",
    "    return f\n",
    "a = int(input(\"A = \"))\n",
    "print(Fact(a))\n",
    "a = int(input(\"A = \"))\n",
    "print(Fact(a))\n",
    "a = int(input(\"A = \"))\n",
    "print(Fact(a))"
   ]
  },
  {
   "cell_type": "code",
   "execution_count": 97,
   "id": "74d1ec7d",
   "metadata": {},
   "outputs": [
    {
     "name": "stdout",
     "output_type": "stream",
     "text": [
      "A = 4\n",
      "8\n",
      "A = 5\n",
      "15\n",
      "A = 6\n",
      "48\n"
     ]
    }
   ],
   "source": [
    "# FunSimple35.\n",
    "def Fact2(N):\n",
    "    f = 1\n",
    "    if N%2==1:\n",
    "        for i in range(1, N+1,2):\n",
    "            f *= i\n",
    "    else:\n",
    "        for i in range(2, N+1,2):\n",
    "            f *= i\n",
    "    return f\n",
    "a = int(input(\"A = \"))\n",
    "print(Fact2(a))\n",
    "a = int(input(\"A = \"))\n",
    "print(Fact2(a))\n",
    "a = int(input(\"A = \"))\n",
    "print(Fact2(a))"
   ]
  },
  {
   "cell_type": "code",
   "execution_count": 108,
   "id": "32c01710",
   "metadata": {},
   "outputs": [
    {
     "name": "stdout",
     "output_type": "stream",
     "text": [
      "N = 4\n",
      "(3, 5, 8)\n"
     ]
    }
   ],
   "source": [
    "# FunSimple36.\n",
    "def Fib(N):\n",
    "    a0 = 0\n",
    "    a1 = 1\n",
    "    an = a0+a1\n",
    "    for i in range(N):\n",
    "        a0 = a1\n",
    "        a1 = an\n",
    "        an = a0+a1\n",
    "    return a0, a1, an\n",
    "N = int(input(\"N = \"))\n",
    "print(Fib(N))"
   ]
  },
  {
   "cell_type": "code",
   "execution_count": 109,
   "id": "abb8a245",
   "metadata": {},
   "outputs": [
    {
     "name": "stdout",
     "output_type": "stream",
     "text": [
      "Daraja: 3\n",
      "A1 = 2\n",
      "8\n",
      "A2 = 4\n",
      "64\n",
      "A3 = 5\n",
      "125\n"
     ]
    }
   ],
   "source": [
    "# FunSimple37.\n",
    "def Power1(A,B):\n",
    "    s = 1\n",
    "    for i in range(B):\n",
    "        s *= A\n",
    "    return s\n",
    "B = int(input(\"Daraja: \"))\n",
    "A1 = int(input(\"A1 = \"))\n",
    "print(Power1(A1, B))\n",
    "A2 = int(input(\"A2 = \"))\n",
    "print(Power1(A2, B))\n",
    "A3 = int(input(\"A3 = \"))\n",
    "print(Power1(A3, B))"
   ]
  },
  {
   "cell_type": "code",
   "execution_count": 115,
   "id": "67bb6ce8",
   "metadata": {},
   "outputs": [
    {
     "name": "stdout",
     "output_type": "stream",
     "text": [
      "A = 2\n",
      "N = 0\n",
      "1\n",
      "M = 2\n",
      "4\n",
      "K = -3\n",
      "0.125\n"
     ]
    }
   ],
   "source": [
    "# FunSimple38.\n",
    "def Power2(A,N):\n",
    "    X = 1\n",
    "    if N==0:\n",
    "        X = 1\n",
    "    if N>0:\n",
    "        for i in range(N):\n",
    "            X *= A\n",
    "    if N<0:\n",
    "        for i in range(abs(N)):\n",
    "            X *= abs(1/A)\n",
    "    return X\n",
    "A = int(input(\"A = \"))\n",
    "N = int(input(\"N = \"))\n",
    "print(Power2(A,N))\n",
    "M = int(input(\"M = \"))\n",
    "print(Power2(A,M))\n",
    "K = int(input(\"K = \"))\n",
    "print(Power2(A,K))"
   ]
  },
  {
   "cell_type": "code",
   "execution_count": 118,
   "id": "f464a71c",
   "metadata": {},
   "outputs": [
    {
     "name": "stdout",
     "output_type": "stream",
     "text": [
      "A = 2\n",
      "N = 3\n",
      "8\n",
      "M = 2.5\n",
      "4\n",
      "K = 0.5\n",
      "1\n"
     ]
    }
   ],
   "source": [
    "# FunSimple39.\n",
    "def Power1(A,B):\n",
    "    s = 1\n",
    "    for i in range(B):\n",
    "        s *= A\n",
    "    return s\n",
    "\n",
    "def Power2(A,N):\n",
    "    s = 1\n",
    "    if N==0:\n",
    "        s = 1\n",
    "    if N>0:\n",
    "        for i in range(N):\n",
    "            s *= A\n",
    "    if N<0:\n",
    "        for i in range(abs(N)):\n",
    "            s *= abs(1/A)\n",
    "    return s\n",
    "\n",
    "def Power3(A,N):\n",
    "    if N==int(N):\n",
    "        javob = Power1(A,B)\n",
    "    else:\n",
    "        N = int(N)\n",
    "        javob = Power2(A,N)\n",
    "    return javob\n",
    "a = int(input(\"A = \"))\n",
    "N = float(input(\"N = \"))\n",
    "print(Power3(A,N))\n",
    "M = float(input(\"M = \"))\n",
    "print(Power3(A,M))\n",
    "K = float(input(\"K = \"))\n",
    "print(Power3(A,K))"
   ]
  },
  {
   "cell_type": "code",
   "execution_count": 194,
   "id": "91b10b34",
   "metadata": {},
   "outputs": [
    {
     "name": "stdout",
     "output_type": "stream",
     "text": [
      "x = 2\n",
      "e = 0.1\n",
      "9.266666666666667\n",
      "e1 = 0.0003\n",
      "9.388712522045855\n",
      "e2 = 0.1\n",
      "9.266666666666667\n"
     ]
    }
   ],
   "source": [
    "# FunSimple40.\n",
    "def Exp1(x,e):\n",
    "    s = 0\n",
    "    hadi = x\n",
    "    f = 1\n",
    "    i = 1\n",
    "    while hadi > e:\n",
    "        s += hadi\n",
    "        f *= i\n",
    "        hadi = x**i/f\n",
    "        i += 1\n",
    "    return 1+s\n",
    "x = float(input(\"x = \"))\n",
    "e = float(input(\"e = \"))\n",
    "print(Exp1(x,e))\n",
    "e1 = float(input(\"e1 = \"))\n",
    "print(Exp1(x,e1))\n",
    "e2 = float(input(\"e2 = \"))\n",
    "print(Exp1(x,e2))"
   ]
  },
  {
   "cell_type": "code",
   "execution_count": 167,
   "id": "991e757d",
   "metadata": {},
   "outputs": [
    {
     "name": "stdout",
     "output_type": "stream",
     "text": [
      "X = 2\n",
      "e = 0.5\n",
      "0.6666666666666667\n"
     ]
    }
   ],
   "source": [
    "# FunSimple41.\n",
    "def sin1(x, e):\n",
    "    s = 0\n",
    "    hadi = x\n",
    "    ishora = 1\n",
    "    f = 1\n",
    "    i = 1\n",
    "    while hadi>e:\n",
    "        s += ishora*hadi\n",
    "        f *= (2*i)*(2*i+1)\n",
    "        hadi = x**(2*i+1)/f\n",
    "        ishora *= -1\n",
    "        i += 1\n",
    "    return s\n",
    "x = int(input(\"X = \"))\n",
    "e = float(input(\"e = \"))\n",
    "print(sin1(x,e))"
   ]
  },
  {
   "cell_type": "code",
   "execution_count": 197,
   "id": "854df5b4",
   "metadata": {},
   "outputs": [
    {
     "name": "stdout",
     "output_type": "stream",
     "text": [
      "x = 2\n",
      "e = 0.01\n",
      "-0.41587301587301595\n"
     ]
    }
   ],
   "source": [
    "# FunSimple42.(-1)**n*x**(2*n)/(2*n)!\n",
    "def cos1(x,e):\n",
    "    hadi = x\n",
    "    ishora = -1\n",
    "    s = 0\n",
    "    i = 1\n",
    "    f = 1\n",
    "    while abs(hadi)>e:\n",
    "        f *= (2*i)*(2*i-1)\n",
    "        hadi = x**(2*i)/f\n",
    "        s += ishora*hadi\n",
    "        ishora *= -1\n",
    "        i += 1\n",
    "    return 1+s\n",
    "x = int(input(\"x = \"))\n",
    "e = float(input(\"e = \"))\n",
    "print(cos1(x,e))"
   ]
  },
  {
   "cell_type": "code",
   "execution_count": 201,
   "id": "4e48af44",
   "metadata": {},
   "outputs": [
    {
     "name": "stdout",
     "output_type": "stream",
     "text": [
      "x = 1\n",
      "e = 0.01\n",
      "0.698172179310195\n"
     ]
    }
   ],
   "source": [
    "# FunSimple43. (-1)**n*x**(n+1)/(n+1)\n",
    "def Ln1(x,e):\n",
    "    ishora = 1\n",
    "    hadi = x\n",
    "    s = 0\n",
    "    i = 2\n",
    "    while abs(hadi)>e:\n",
    "        s += hadi*ishora\n",
    "        hadi = x**i/i\n",
    "        i += 1\n",
    "        ishora *= -1\n",
    "    return s\n",
    "x = int(input(\"x = \"))\n",
    "e = float(input(\"e = \"))\n",
    "print(Ln1(x,e))"
   ]
  },
  {
   "cell_type": "code",
   "execution_count": 202,
   "id": "92b5fe6a",
   "metadata": {},
   "outputs": [
    {
     "name": "stdout",
     "output_type": "stream",
     "text": [
      "x = 1\n",
      "e = 0.01\n",
      "0.7803986631477527\n"
     ]
    }
   ],
   "source": [
    "# FUnSimple44. (-1)**n*x**(2*n+1)/(2*n+1)\n",
    "def Arctg1(x,e):\n",
    "    hadi = x\n",
    "    ishora = 1\n",
    "    s = 0\n",
    "    i = 1\n",
    "    while abs(hadi)>e:\n",
    "        s += hadi*ishora\n",
    "        hadi = x**(2*i+1)/(2*i+1)\n",
    "        ishora *= -1\n",
    "        i += 1\n",
    "    return s\n",
    "x = int(input(\"x = \"))\n",
    "e = float(input(\"e = \"))\n",
    "print(Arctg1(x,e))"
   ]
  },
  {
   "cell_type": "code",
   "execution_count": 203,
   "id": "d4b216d7",
   "metadata": {},
   "outputs": [
    {
     "name": "stdout",
     "output_type": "stream",
     "text": [
      "x = 1\n",
      "a = 2\n",
      "e = 0.1\n",
      "3.0\n"
     ]
    }
   ],
   "source": [
    "# FunSimple45. a*(a-1)...(a-n+1)*x**n/n!\n",
    "def Power4(x,a,e):\n",
    "    hadi = a*x\n",
    "    f = 1\n",
    "    s = 0\n",
    "    i = 1\n",
    "    A = 1\n",
    "    while abs(hadi)>e:\n",
    "        A *= a-i+1\n",
    "        f *= i\n",
    "        hadi = A*x**i/f\n",
    "        s += hadi\n",
    "        i += 1\n",
    "    return s\n",
    "x = int(input(\"x = \"))\n",
    "a = int(input(\"a = \"))\n",
    "e = float(input(\"e = \"))\n",
    "print(Power4(x,a,e))"
   ]
  },
  {
   "cell_type": "code",
   "execution_count": 132,
   "id": "75dfd92a",
   "metadata": {},
   "outputs": [
    {
     "name": "stdout",
     "output_type": "stream",
     "text": [
      "A = 6\n",
      "B = 4\n",
      "EKUB: 2\n",
      "C = 12\n",
      "EKUB: 6\n",
      "D = 16\n",
      "EKUB: 2\n"
     ]
    }
   ],
   "source": [
    "# FunSimple46. Butun qiymat qaytaruvchi EKUB(A,B) funksiya hosil qiling. A va B sonlarining eng \n",
    "# katta eng katta umumiy bo'luvchilarini aniqlang. (A,B), (A,C), (A,D)larning EKUBini toping.\n",
    "def EKUB(A,B):\n",
    "    while A!=B:\n",
    "        if A>B:\n",
    "            A -= B\n",
    "        else:\n",
    "            B -= A\n",
    "    return B\n",
    "A = int(input(\"A = \"))\n",
    "B = int(input(\"B = \"))\n",
    "print(\"EKUB:\",EKUB(A,B))\n",
    "C = int(input(\"C = \"))\n",
    "print(\"EKUB:\",EKUB(A,C))\n",
    "D = int(input(\"D = \"))\n",
    "print(\"EKUB:\",EKUB(A,D))"
   ]
  },
  {
   "cell_type": "code",
   "execution_count": 171,
   "id": "106865a7",
   "metadata": {},
   "outputs": [
    {
     "name": "stdout",
     "output_type": "stream",
     "text": [
      "A = 4\n",
      "B = 2\n",
      "(2, 1)\n",
      "C = 4\n",
      "(1, 1)\n",
      "D = 2\n",
      "(2, 1)\n"
     ]
    }
   ],
   "source": [
    "# FunSimple47.\n",
    "def EKUB(A,B):\n",
    "    while A!=B:\n",
    "        if A>B:\n",
    "            A -= B\n",
    "        else:\n",
    "            B -= A\n",
    "    return B\n",
    "def Frac1(a,b):\n",
    "    x = EKUB(a,b)\n",
    "    p = a//x\n",
    "    q = b//x\n",
    "    return p,q\n",
    "A = int(input(\"A = \"))\n",
    "B = int(input(\"B = \"))\n",
    "print(Frac1(A,B))\n",
    "C = int(input(\"C = \"))\n",
    "print(Frac1(A,C))\n",
    "D = int(input(\"D = \"))\n",
    "print(Frac1(A,D))"
   ]
  },
  {
   "cell_type": "code",
   "execution_count": null,
   "id": "7e51498b",
   "metadata": {},
   "outputs": [],
   "source": [
    "# FunSimple48.\n",
    "def EKUB(A,B):\n",
    "    while A!=B:\n",
    "        if A>B:\n",
    "            A -= B\n",
    "        else:\n",
    "            B -= A\n",
    "    return B\n",
    "def EKUK(A,B):\n",
    "    e = A*B/EKUB(A,B)\n",
    "    return e\n",
    "A = int(input(\"A = \"))\n",
    "B = int(input(\"B = \"))\n",
    "print(int(EKUK(A,B)))\n",
    "C = int(input(\"C = \"))\n",
    "print(int(EKUK(A,C)))\n",
    "D = int(input(\"D = \"))\n",
    "print(int(EKUK(A,D)))"
   ]
  },
  {
   "cell_type": "code",
   "execution_count": 143,
   "id": "a1fa7914",
   "metadata": {},
   "outputs": [
    {
     "name": "stdout",
     "output_type": "stream",
     "text": [
      "A = 4\n",
      "B = 2\n",
      "C = 12\n",
      "D = 16\n",
      "A,B,C: 2\n",
      "A,C,D: 4\n",
      "A,B,D: 2\n"
     ]
    }
   ],
   "source": [
    "# FunSimple49.\n",
    "def EKUB3(A,B,C):\n",
    "    while A!=B:\n",
    "        if A>B:\n",
    "            A -= B\n",
    "        else:\n",
    "            B -= A\n",
    "    while B!=C:\n",
    "        if B>C:\n",
    "            B -= C\n",
    "        else:\n",
    "            C -= B\n",
    "    return C\n",
    "A = int(input(\"A = \"))\n",
    "B = int(input(\"B = \"))\n",
    "C = int(input(\"C = \"))\n",
    "D = int(input(\"D = \"))\n",
    "print(\"A,B,C:\",int(EKUB3(A,B,C)))\n",
    "print(\"A,C,D:\",int(EKUB3(A,C,D)))\n",
    "print(\"A,B,D:\",int(EKUB3(A,B,D)))"
   ]
  },
  {
   "cell_type": "code",
   "execution_count": 148,
   "id": "d1f03efe",
   "metadata": {},
   "outputs": [
    {
     "name": "stdout",
     "output_type": "stream",
     "text": [
      "T1 = 3600\n",
      "(1, 'soat', 0, 'minut', 0, 'sekund')\n",
      "T2 = 12000\n",
      "(3, 'soat', 20, 'minut', 0, 'sekund')\n",
      "T3 = 1232\n",
      "(0, 'soat', 20, 'minut', 32, 'sekund')\n"
     ]
    }
   ],
   "source": [
    "# FunSimple50.\n",
    "def TimeToHMS(T):\n",
    "    H = T // 3600\n",
    "    M = T % 3600 // 60\n",
    "    S = T % 60\n",
    "    soat = H,\"soat\",M,\"minut\",S,\"sekund\"\n",
    "    return soat\n",
    "T1 = int(input(\"T1 = \"))\n",
    "print(TimeToHMS(T1))\n",
    "T2 = int(input(\"T2 = \"))\n",
    "print(TimeToHMS(T2))\n",
    "T3 = int(input(\"T3 = \"))\n",
    "print(TimeToHMS(T3))"
   ]
  },
  {
   "cell_type": "code",
   "execution_count": 151,
   "id": "3b372c23",
   "metadata": {},
   "outputs": [
    {
     "name": "stdout",
     "output_type": "stream",
     "text": [
      "H = 1\n",
      "M = 30\n",
      "S = 30\n",
      "5430\n"
     ]
    }
   ],
   "source": [
    "# FunSimple51.\n",
    "def IncTime(H,M,S):\n",
    "    T = H * 3600 + M * 60 + S\n",
    "    return T\n",
    "H = int(input(\"H = \"))\n",
    "M = int(input(\"M = \"))\n",
    "S = int(input(\"S = \"))\n",
    "print(IncTime(H,M,S))"
   ]
  },
  {
   "cell_type": "code",
   "execution_count": 155,
   "id": "6c96a40f",
   "metadata": {},
   "outputs": [
    {
     "name": "stdout",
     "output_type": "stream",
     "text": [
      "Yil: 2100\n",
      "True\n",
      "Yil: 2020\n",
      "True\n",
      "Yil: 1999\n",
      "False\n"
     ]
    }
   ],
   "source": [
    "# FunSimple52.\n",
    "def IsLeapYear(Y):\n",
    "    kabisa = False\n",
    "    if Y%4==0:\n",
    "        kabisa = True\n",
    "    if Y>100 and Y%400!=0:\n",
    "        return kabisa\n",
    "    return kabisa\n",
    "y = int(input(\"Yil: \"))\n",
    "print(IsLeapYear(y))\n",
    "y1 = int(input(\"Yil: \"))\n",
    "print(IsLeapYear(y1))\n",
    "y2 = int(input(\"Yil: \"))\n",
    "print(IsLeapYear(y2))"
   ]
  },
  {
   "cell_type": "code",
   "execution_count": 204,
   "id": "461414f6",
   "metadata": {},
   "outputs": [
    {
     "name": "stdout",
     "output_type": "stream",
     "text": [
      "Oy: 2\n",
      "Yil: 2000\n",
      "29\n",
      "Oy: 2\n",
      "Yil: 1999\n",
      "28\n",
      "Oy: 3\n",
      "Yil: 1999\n",
      "31\n"
     ]
    }
   ],
   "source": [
    "# FunSimple53.\n",
    "def IsLeapYear(Y):\n",
    "    kabisa = False\n",
    "    if Y%4==0:\n",
    "        kabisa = True\n",
    "    if Y>100 and Y%400!=0:\n",
    "        return kabisa\n",
    "    return kabisa\n",
    "def MonthDays(M, Y):\n",
    "    if M==4 or M==6 or M==9 or M==11:\n",
    "        return 30\n",
    "    elif M==2:\n",
    "        return 28 + IsLeapYear(Y)\n",
    "    else:\n",
    "        return 31\n",
    "\n",
    "M = int(input(\"Oy: \"))\n",
    "Y = int(input(\"Yil: \"))\n",
    "print(MonthDays(M,Y))\n",
    "M1 = int(input(\"Oy: \"))\n",
    "Y1 = int(input(\"Yil: \"))\n",
    "print(MonthDays(M1,Y1))\n",
    "M2 = int(input(\"Oy: \"))\n",
    "Y2 = int(input(\"Yil: \"))\n",
    "print(MonthDays(M2,Y2))"
   ]
  },
  {
   "cell_type": "code",
   "execution_count": 222,
   "id": "d8630acb",
   "metadata": {},
   "outputs": [
    {
     "name": "stdout",
     "output_type": "stream",
     "text": [
      "Kun: 1\n",
      "Oy: 1\n",
      "Yil: 1000\n",
      "(31, 12, 999)\n"
     ]
    }
   ],
   "source": [
    "# FunSimple54.\n",
    "def IsLeapYear(Y):\n",
    "    kabisa = False\n",
    "    if Y%4==0:\n",
    "        kabisa = True\n",
    "    if Y%100==0 and Y%400!=0:\n",
    "        kabisa = False\n",
    "    return kabisa\n",
    "def MonthDays(M, Y):\n",
    "    if M==4 or M==6 or M==9 or M==11:\n",
    "        return 30\n",
    "    elif M==2:\n",
    "        return 28 + IsLeapYear(Y)\n",
    "    else:\n",
    "        return 31\n",
    "    \n",
    "def PrevDate(D,M,Y):\n",
    "    D -= 1\n",
    "    if D==0:\n",
    "        D = MonthDays(M-1, Y)\n",
    "        M -= 1\n",
    "    if M==0:\n",
    "        M = 12\n",
    "        Y -= 1\n",
    "    \n",
    "    return D,M,Y\n",
    "D = int(input(\"Kun: \"))\n",
    "M = int(input(\"Oy: \"))\n",
    "Y = int(input(\"Yil: \"))\n",
    "print(PrevDate(D,M,Y))"
   ]
  },
  {
   "cell_type": "code",
   "execution_count": 221,
   "id": "aab376ad",
   "metadata": {},
   "outputs": [
    {
     "name": "stdout",
     "output_type": "stream",
     "text": [
      "Kun: 31\n",
      "Oy: 12\n",
      "Yil: 1999\n",
      "(1, 1, 2000)\n"
     ]
    }
   ],
   "source": [
    "# FunSimple55.\n",
    "def IsLeapYear(Y):\n",
    "    kabisa = False\n",
    "    if Y%4==0:\n",
    "        kabisa = True\n",
    "    if Y%100==0 and Y%400!=0:\n",
    "        kabisa = False\n",
    "    return kabisa\n",
    "def MonthDays(M, Y):\n",
    "    if M==4 or M==6 or M==9 or M==11:\n",
    "        return 30\n",
    "    elif M==2:\n",
    "        return 28 + IsLeapYear(Y)\n",
    "    else:\n",
    "        return 31\n",
    "    \n",
    "def NextDate(D,M,Y):\n",
    "    D += 1\n",
    "    if D>MonthDays(M, Y):\n",
    "        D = 1\n",
    "        M += 1\n",
    "    if M==13:\n",
    "        M = 1\n",
    "        Y += 1\n",
    "    \n",
    "    return D,M,Y\n",
    "D = int(input(\"Kun: \"))\n",
    "M = int(input(\"Oy: \"))\n",
    "Y = int(input(\"Yil: \"))\n",
    "print(NextDate(D,M,Y))"
   ]
  },
  {
   "cell_type": "code",
   "execution_count": 225,
   "id": "1b24477e",
   "metadata": {},
   "outputs": [
    {
     "name": "stdout",
     "output_type": "stream",
     "text": [
      "x1 = 4\n",
      "y1 = 4\n",
      "x2 = 7\n",
      "y2 = 8\n",
      "5.0\n",
      "x3 = 3\n",
      "y3 = 4\n",
      "1.0\n",
      "x4 = 6\n",
      "y4 = 5\n",
      "2.23606797749979\n"
     ]
    }
   ],
   "source": [
    "# FunSimple56.\n",
    "def Leng(x1,y1,x2,y2):\n",
    "    uzunlik = (abs(x2-x1)**2+abs(y2-y1)**2)**0.5\n",
    "    return uzunlik\n",
    "x1 = int(input(\"x1 = \"))\n",
    "y1 = int(input(\"y1 = \"))\n",
    "x2 = int(input(\"x2 = \"))\n",
    "y2 = int(input(\"y2 = \"))\n",
    "print(Leng(x1,y1,x2,y2))\n",
    "x3 = int(input(\"x3 = \"))\n",
    "y3 = int(input(\"y3 = \"))\n",
    "print(Leng(x1,y1,x3,y3))\n",
    "x4 = int(input(\"x4 = \"))\n",
    "y4 = int(input(\"y4 = \"))\n",
    "print(Leng(x1,y1,x4,y4))"
   ]
  },
  {
   "cell_type": "code",
   "execution_count": 226,
   "id": "4982ca12",
   "metadata": {},
   "outputs": [
    {
     "name": "stdout",
     "output_type": "stream",
     "text": [
      "x1 = 2\n",
      "y1 = 3\n",
      "x2 = 5\n",
      "y2 = 6\n",
      "x3 = 8\n",
      "y3 = 9\n",
      "16.97056274847714\n"
     ]
    }
   ],
   "source": [
    "# FunSimple57.\n",
    "def Leng(x1,y1,x2,y2):\n",
    "    return (abs(x2-x1)**2+abs(y2-y1)**2)**0.5\n",
    "def Perim(x1,y1,x2,y2,x3,y3):\n",
    "    a = Leng(x1,y1,x2,y2)\n",
    "    b = Leng(x1,y1,x3,y3)\n",
    "    c = Leng(x2,y2,x3,y3)\n",
    "    p = a+b+c\n",
    "    return p\n",
    "x1 = int(input(\"x1 = \"))\n",
    "y1 = int(input(\"y1 = \"))\n",
    "x2 = int(input(\"x2 = \"))\n",
    "y2 = int(input(\"y2 = \"))\n",
    "x3 = int(input(\"x3 = \"))\n",
    "y3 = int(input(\"y3 = \"))\n",
    "print(Perim(x1,y1,x2,y2,x3,y3))"
   ]
  },
  {
   "cell_type": "code",
   "execution_count": 231,
   "id": "b88c0e9e",
   "metadata": {},
   "outputs": [
    {
     "name": "stdout",
     "output_type": "stream",
     "text": [
      "x1 = 1\n",
      "y1 = 4\n",
      "x2 = 3\n",
      "y2 = 8\n",
      "x3 = 9\n",
      "y3 = 2\n",
      "18.0\n"
     ]
    }
   ],
   "source": [
    "# FunSimple58.\n",
    "def Leng(x1,y1,x2,y2):\n",
    "    return (abs(x2-x1)**2+abs(y2-y1)**2)**0.5\n",
    "def Area(x1,y1,x2,y2,x3,y3):\n",
    "    a = Leng(x1,y1,x2,y2)\n",
    "    b = Leng(x1,y1,x3,y3)\n",
    "    c = Leng(x2,y2,x3,y3)\n",
    "    p = (a+b+c)/2\n",
    "    h = 2/a*(p*(p-a)*(p-b)*(p-c))**0.5\n",
    "    s = a*h/2\n",
    "    return s\n",
    "x1 = int(input(\"x1 = \"))\n",
    "y1 = int(input(\"y1 = \"))\n",
    "x2 = int(input(\"x2 = \"))\n",
    "y2 = int(input(\"y2 = \"))\n",
    "x3 = int(input(\"x3 = \"))\n",
    "y3 = int(input(\"y3 = \"))\n",
    "print(Area(x1,y1,x2,y2,x3,y3))"
   ]
  },
  {
   "cell_type": "code",
   "execution_count": 232,
   "id": "7a96c441",
   "metadata": {},
   "outputs": [
    {
     "name": "stdout",
     "output_type": "stream",
     "text": [
      "x1 = 1\n",
      "y1 = 6\n",
      "x2 = 3\n",
      "y2 = 9\n",
      "x3 = 7\n",
      "y3 = 2\n",
      "12.999999999999996\n"
     ]
    }
   ],
   "source": [
    "# FunSimple59.\n",
    "def Leng(x1,y1,x2,y2):\n",
    "    return (abs(x2-x1)**2+abs(y2-y1)**2)**0.5\n",
    "def Area(x1,y1,x2,y2,x3,y3):\n",
    "    a = Leng(x1,y1,x2,y2)\n",
    "    b = Leng(x1,y1,x3,y3)\n",
    "    c = Leng(x2,y2,x3,y3)\n",
    "    p = (a+b+c)/2\n",
    "    h = 2/a*(p*(p-a)*(p-b)*(p-c))**0.5\n",
    "    s = a*h/2\n",
    "    return s\n",
    "def Dist(xa,ya,xb,yb,xp,yp):\n",
    "    ab = Leng(xa,ya,xb,yb)\n",
    "    h_pab = 2*Area(xa,ya,xb,yb,xp,yp)/ab\n",
    "    return h_pab\n",
    "x1 = int(input(\"x1 = \"))\n",
    "y1 = int(input(\"y1 = \"))\n",
    "x2 = int(input(\"x2 = \"))\n",
    "y2 = int(input(\"y2 = \"))\n",
    "x3 = int(input(\"x3 = \"))\n",
    "y3 = int(input(\"y3 = \"))\n",
    "print(Area(x1,y1,x2,y2,x3,y3))"
   ]
  },
  {
   "cell_type": "code",
   "execution_count": 235,
   "id": "c60af6df",
   "metadata": {},
   "outputs": [
    {
     "name": "stdout",
     "output_type": "stream",
     "text": [
      "x1 = 1\n",
      "y1 = 6\n",
      "x2 = 8\n",
      "y2 = 2\n",
      "x3 = 3\n",
      "y3 = 9\n",
      "(3.5970073030870475, 3.3711815235707614, 8.043152845265828)\n"
     ]
    }
   ],
   "source": [
    "# FunSimple60.\n",
    "def Leng(x1,y1,x2,y2):\n",
    "    return ((x2-x1)**2+(y2-y1)**2)**0.5\n",
    "\n",
    "def Perim(x1,y1,x2,y2,x3,y3):\n",
    "    a = Leng(x1,y1,x2,y2)\n",
    "    b = Leng(x2,y2,x3,y3)\n",
    "    c = Leng(x1,y1,x3,y3)\n",
    "    return a+b+c\n",
    "\n",
    "def Yuza(x1,y1,x2,y2,x3,y3):\n",
    "    p = Perim(x1,y1,x2,y2,x3,y3)/2\n",
    "    s = \n",
    "    \n",
    "def Heights(xa,ya,xb,yb,xc,yc):\n",
    "    ab = Leng(xa,ya,xb,yb)\n",
    "    bc = Leng(xb,yb,xc,yc)\n",
    "    ac = Leng(xa,ya,xc,yc)\n",
    "    p = (ab+bc+ac)/2\n",
    "    h_ab = 2/ab*(p*(p-ab)*(p-bc)*(p-ac))**0.5\n",
    "    h_bc = 2/bc*(p*(p-ab)*(p-bc)*(p-ac))**0.5\n",
    "    h_ac = 2/ac*(p*(p-ab)*(p-bc)*(p-ac))**0.5\n",
    "    return h_ab, h_bc, h_ac\n",
    "x1 = int(input(\"x1 = \"))\n",
    "y1 = int(input(\"y1 = \"))\n",
    "x2 = int(input(\"x2 = \"))\n",
    "y2 = int(input(\"y2 = \"))\n",
    "x3 = int(input(\"x3 = \"))\n",
    "y3 = int(input(\"y3 = \"))\n",
    "print(Heights(x1,y1,x2,y2,x3,y3))"
   ]
  },
  {
   "cell_type": "code",
   "execution_count": 188,
   "id": "62f63451",
   "metadata": {},
   "outputs": [
    {
     "name": "stdout",
     "output_type": "stream",
     "text": [
      "N = 3\n",
      "A = 2\n",
      "B = 4\n",
      "B = 6\n",
      "12\n"
     ]
    }
   ],
   "source": [
    "# N ta EKUK.\n",
    "def EKUB(A,B):\n",
    "    while A!=B:\n",
    "        if A>B:\n",
    "            A %= B\n",
    "        else:\n",
    "            B %= A\n",
    "        if A==0:\n",
    "            A = B\n",
    "        if B==0:\n",
    "            B = A\n",
    "    return A\n",
    "def EKUK(A,B):\n",
    "    e = A*B/EKUB(A,B)\n",
    "    return e\n",
    "n = int(input(\"N = \"))\n",
    "A = int(input(\"A = \"))\n",
    "for _ in range(n-1):\n",
    "    B = int(input(\"B = \"))\n",
    "    x = EKUB(A,B)\n",
    "    A = EKUK(A,B)\n",
    "print(int(A))\n"
   ]
  },
  {
   "cell_type": "code",
   "execution_count": 255,
   "id": "b2ed0540",
   "metadata": {},
   "outputs": [
    {
     "name": "stdout",
     "output_type": "stream",
     "text": [
      "Kun: 24\n",
      "Oy: 3\n",
      "Yil: 2022\n",
      "N kun: 76\n",
      "(8, 6, 2022)\n"
     ]
    }
   ],
   "source": [
    "# N kundan keyingi\n",
    "def IsLeapYear(Y):\n",
    "    kabisa = False\n",
    "    if Y%4==0:\n",
    "        kabisa = True\n",
    "    if Y%100==0 and Y%400!=0:\n",
    "        kabisa = False\n",
    "    return kabisa\n",
    "def MonthDays(M, Y):\n",
    "    if M==4 or M==6 or M==9 or M==11:\n",
    "        return 30\n",
    "    elif M==2:\n",
    "        return 28 + IsLeapYear(Y)\n",
    "    else:\n",
    "        return 31\n",
    "    \n",
    "def NextDateN(D,M,Y,N):\n",
    "    D += N\n",
    "    while D>MonthDays(M, Y):\n",
    "        D -= MonthDays(M, Y)\n",
    "        M += 1\n",
    "        if M==13:\n",
    "            M = 1\n",
    "            Y += 1\n",
    "    \n",
    "    return D,M,Y\n",
    "D = int(input(\"Kun: \"))\n",
    "M = int(input(\"Oy: \"))\n",
    "Y = int(input(\"Yil: \"))\n",
    "N = int(input(\"N kun: \"))\n",
    "print(NextDateN(D,M,Y,N))"
   ]
  },
  {
   "cell_type": "markdown",
   "id": "cccb80d1",
   "metadata": {},
   "source": [
    "# Qo'shimcha N kun"
   ]
  },
  {
   "cell_type": "code",
   "execution_count": 248,
   "id": "a4ce39cd",
   "metadata": {},
   "outputs": [
    {
     "name": "stdout",
     "output_type": "stream",
     "text": [
      "Kun: 12\n",
      "Oy: 12\n",
      "Yil: 1999\n",
      "N kun: 40\n",
      "(21, 1, 2000)\n"
     ]
    }
   ],
   "source": [
    "# N kundan keyingi\n",
    "def IsLeapYear(Y):\n",
    "    kabisa = False\n",
    "    if Y%4==0:\n",
    "        kabisa = True\n",
    "    if Y%100==0 and Y%400!=0:\n",
    "        kabisa = False\n",
    "    return kabisa\n",
    "def MonthDays(M, Y):\n",
    "    if M==4 or M==6 or M==9 or M==11:\n",
    "        return 30\n",
    "    elif M==2:\n",
    "        return 28 + IsLeapYear(Y)\n",
    "    else:\n",
    "        return 31\n",
    "    \n",
    "def NextDateN(D,M,Y,N):\n",
    "    D += N\n",
    "    while D>MonthDays(M, Y):\n",
    "        if M==4 or M==6 or M==9 or M==11:\n",
    "            D -= 30\n",
    "            M += 1\n",
    "        elif M==2:\n",
    "            D -= 28 + IsLeapYear(Y)\n",
    "            M += 1\n",
    "        elif M==1 or M==2 or M==5 or M==7 or M==8 or M==10 or M==12:\n",
    "            D -= 31\n",
    "            M += 1\n",
    "        if M==13:\n",
    "            M = 1\n",
    "            Y += 1\n",
    "    \n",
    "    return D,M,Y\n",
    "D = int(input(\"Kun: \"))\n",
    "M = int(input(\"Oy: \"))\n",
    "Y = int(input(\"Yil: \"))\n",
    "N = int(input(\"N kun: \"))\n",
    "print(NextDateN(D,M,Y,N))"
   ]
  },
  {
   "cell_type": "code",
   "execution_count": 259,
   "id": "09220f4b",
   "metadata": {},
   "outputs": [
    {
     "name": "stdout",
     "output_type": "stream",
     "text": [
      "1 2 5 3 5 8 4 8 9 3 5 7 3 6 "
     ]
    }
   ],
   "source": [
    "a = [1,2,5,3,5,8,4,8,9,3,5,7,3,6]\n",
    "n = len(a)\n",
    "for i in range(n):\n",
    "    print(a[i], end=\" \")"
   ]
  },
  {
   "cell_type": "code",
   "execution_count": 260,
   "id": "0de3a1f4",
   "metadata": {},
   "outputs": [
    {
     "name": "stdout",
     "output_type": "stream",
     "text": [
      "[6, 3, 7, 5, 3, 9, 8, 4, 8, 5, 3, 5, 2, 1]\n"
     ]
    }
   ],
   "source": [
    "print(a[::-1])"
   ]
  },
  {
   "cell_type": "code",
   "execution_count": null,
   "id": "b0e32708",
   "metadata": {},
   "outputs": [],
   "source": []
  }
 ],
 "metadata": {
  "celltoolbar": "Необработанный формат ячейки",
  "kernelspec": {
   "display_name": "Python 3 (ipykernel)",
   "language": "python",
   "name": "python3"
  },
  "language_info": {
   "codemirror_mode": {
    "name": "ipython",
    "version": 3
   },
   "file_extension": ".py",
   "mimetype": "text/x-python",
   "name": "python",
   "nbconvert_exporter": "python",
   "pygments_lexer": "ipython3",
   "version": "3.9.9"
  }
 },
 "nbformat": 4,
 "nbformat_minor": 5
}
