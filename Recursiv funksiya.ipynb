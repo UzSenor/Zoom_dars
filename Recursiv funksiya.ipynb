{
 "cells": [
  {
   "cell_type": "code",
   "execution_count": 2,
   "id": "3f16f274",
   "metadata": {},
   "outputs": [
    {
     "name": "stdout",
     "output_type": "stream",
     "text": [
      "A = 5\n",
      "120\n"
     ]
    }
   ],
   "source": [
    "# Recur 1\n",
    "def Fact(N):\n",
    "    if N == 1:\n",
    "        return 1\n",
    "    return N*Fact(N-1)\n",
    "a = int(input(\"A = \"))\n",
    "print(Fact(a))"
   ]
  },
  {
   "cell_type": "code",
   "execution_count": 46,
   "id": "cee2fcd6",
   "metadata": {},
   "outputs": [
    {
     "name": "stdout",
     "output_type": "stream",
     "text": [
      "A = 5\n",
      "15\n"
     ]
    }
   ],
   "source": [
    "# Recur 2\n",
    "def Fact2(N):\n",
    "    if N == 1 or N == 0:\n",
    "        return 1\n",
    "    return N*Fact2(N-2)\n",
    "a = int(input(\"A = \"))\n",
    "print(Fact2(a))"
   ]
  },
  {
   "cell_type": "code",
   "execution_count": 6,
   "id": "0a55001f",
   "metadata": {},
   "outputs": [
    {
     "name": "stdout",
     "output_type": "stream",
     "text": [
      "X = 2\n",
      "N = -3\n",
      "0.125\n",
      "N = -2\n",
      "0.25\n",
      "N = 2\n",
      "4\n"
     ]
    }
   ],
   "source": [
    "# Recur 3\n",
    "def PowerN(x,n):\n",
    "    if n > 0:\n",
    "        if n%2 == 1:\n",
    "            return x*PowerN(x, n-1)\n",
    "        elif n%2 == 0:\n",
    "            return PowerN(x, n/2)**2\n",
    "    elif n < 0:\n",
    "        return 1/PowerN(x, -n)\n",
    "    else:\n",
    "        return 1\n",
    "    \n",
    "\n",
    "x = int(input(\"X = \"))\n",
    "for i in range(3):\n",
    "    n = int(input(\"N = \"))\n",
    "    print(PowerN(x,n))"
   ]
  },
  {
   "cell_type": "code",
   "execution_count": 15,
   "id": "8fd8b6de",
   "metadata": {},
   "outputs": [
    {
     "name": "stdout",
     "output_type": "stream",
     "text": [
      "A = 6\n",
      "8 5 3 "
     ]
    }
   ],
   "source": [
    "# Recur 4\n",
    "def Fib1(n):\n",
    "    if n == 1 or n == 2:\n",
    "        return 1\n",
    "    return Fib1(n-2)+Fib1(n-1)\n",
    "a = int(input(\"A = \"))\n",
    "for i in range(3):\n",
    "    print(Fib1(a-i), end=\" \")"
   ]
  },
  {
   "cell_type": "code",
   "execution_count": 48,
   "id": "3a7ebec6",
   "metadata": {},
   "outputs": [
    {
     "name": "stdout",
     "output_type": "stream",
     "text": [
      "A = 3\n",
      "3 raqamdagi fibonachi son 2 ga teng\n",
      "[1, 1, 2]\n",
      "A = 5\n",
      "5 raqamdagi fibonachi son 5 ga teng\n",
      "[1, 1, 2, 3, 5]\n",
      "A = 6\n",
      "6 raqamdagi fibonachi son 8 ga teng\n",
      "[1, 1, 2, 3, 5, 8]\n"
     ]
    }
   ],
   "source": [
    "# Recur 5\n",
    "massiv = []\n",
    "def Fib2(n):\n",
    "    if n <= len(massiv):\n",
    "        return massiv[n-1]\n",
    "    if n == 1 or n == 2:\n",
    "        if n > len(massiv):\n",
    "            massiv.append(1)\n",
    "        return 1\n",
    "    if n > len(massiv):\n",
    "        massiv.append(Fib2(n-2)+Fib2(n-1))\n",
    "    return Fib2(n-2)+Fib2(n-1)\n",
    "\n",
    "for i in range(3):\n",
    "    a = int(input(\"A = \"))\n",
    "    print(f\"{a} raqamdagi fibonachi son {Fib2(a)} ga teng\")\n",
    "    print(massiv)"
   ]
  },
  {
   "cell_type": "code",
   "execution_count": 50,
   "id": "341fb4c3",
   "metadata": {},
   "outputs": [
    {
     "name": "stdout",
     "output_type": "stream",
     "text": [
      "N = 11\n",
      "K = 10\n",
      "11 = 10 bo'lganda 11\n",
      "K = 9\n",
      "11 = 9 bo'lganda 55\n",
      "K = 7\n",
      "11 = 7 bo'lganda 330\n"
     ]
    }
   ],
   "source": [
    "# Recur 6\n",
    "def Combin1(n,k):\n",
    "    if k == 0 or n == k:\n",
    "        return 1\n",
    "    return Combin1(n-1,k) + Combin1(n-1,k-1)\n",
    "\n",
    "n = int(input(\"N = \"))\n",
    "for _ in range(3):\n",
    "    k = int(input(\"K = \"))\n",
    "    print(f\"{n} = {k} bo'lganda {Combin1(n,k)}\")"
   ]
  },
  {
   "cell_type": "code",
   "execution_count": null,
   "id": "490c782b",
   "metadata": {},
   "outputs": [],
   "source": []
  }
 ],
 "metadata": {
  "kernelspec": {
   "display_name": "Python 3 (ipykernel)",
   "language": "python",
   "name": "python3"
  },
  "language_info": {
   "codemirror_mode": {
    "name": "ipython",
    "version": 3
   },
   "file_extension": ".py",
   "mimetype": "text/x-python",
   "name": "python",
   "nbconvert_exporter": "python",
   "pygments_lexer": "ipython3",
   "version": "3.9.9"
  }
 },
 "nbformat": 4,
 "nbformat_minor": 5
}
